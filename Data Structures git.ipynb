{
 "cells": [
  {
   "cell_type": "markdown",
   "id": "9e2dc5c4-ec41-4646-b9d3-887a53fdc8bf",
   "metadata": {},
   "source": [
    "# Python Inbuilt Data Structures:\n",
    "* String\n",
    "* List \n",
    "* Tuple\n",
    "* Set\n",
    "* Dictonary"
   ]
  },
  {
   "cell_type": "code",
   "execution_count": null,
   "id": "301ca6a0-a309-4483-80da-58cd59dad680",
   "metadata": {},
   "outputs": [],
   "source": []
  },
  {
   "cell_type": "code",
   "execution_count": 3,
   "id": "a4f34cab-a24d-4fd2-beec-17aff1628ebe",
   "metadata": {},
   "outputs": [],
   "source": [
    "a = 450"
   ]
  },
  {
   "cell_type": "code",
   "execution_count": 5,
   "id": "398b69e3-b8f4-4623-85da-c66f634c8fd6",
   "metadata": {},
   "outputs": [],
   "source": [
    "b = \"python is fun\""
   ]
  },
  {
   "cell_type": "code",
   "execution_count": 7,
   "id": "ce15be99-fba1-40ba-9fd6-d615855dd3da",
   "metadata": {},
   "outputs": [],
   "source": [
    "emp1 = 1000"
   ]
  },
  {
   "cell_type": "code",
   "execution_count": 9,
   "id": "a416a06a-5016-4e99-8456-d9aaced7f6b1",
   "metadata": {},
   "outputs": [],
   "source": [
    "emp2 = 2000"
   ]
  },
  {
   "cell_type": "code",
   "execution_count": 11,
   "id": "67843a6c-718a-455b-8888-fa029dbc4ae9",
   "metadata": {},
   "outputs": [],
   "source": [
    "emp3 = 3000"
   ]
  },
  {
   "cell_type": "code",
   "execution_count": 1,
   "id": "8a4b0cfe-3a53-4d7d-bb9c-44be7c0a274a",
   "metadata": {},
   "outputs": [],
   "source": [
    "p1 = 78965412\n",
    "p2 = 123654789"
   ]
  },
  {
   "cell_type": "markdown",
   "id": "3b811ab6-4fec-4c47-bcee-e6b215387cd3",
   "metadata": {},
   "source": [
    "# string:\n",
    "* string in python are the sequence of unicode characters.\n",
    "* we can use single quotes,doubles quotes,even triple quotes.\n",
    "* triple quotes: are generally used in order to write multiline string\n",
    "* A string in python consists of a seriesof sequence of characters-letters,digits,and special charactersand_\n",
    "* string are indexable and slicable"
   ]
  },
  {
   "cell_type": "code",
   "execution_count": 2,
   "id": "314c8c91-4443-4465-8ecb-3be421c7ccf5",
   "metadata": {},
   "outputs": [],
   "source": [
    "mystr = \"Welcome to the Course\""
   ]
  },
  {
   "cell_type": "code",
   "execution_count": 4,
   "id": "fd25db68-9e58-4c9c-b0f5-59e767b6d4c7",
   "metadata": {},
   "outputs": [
    {
     "data": {
      "text/plain": [
       "'Welcome to the Course'"
      ]
     },
     "execution_count": 4,
     "metadata": {},
     "output_type": "execute_result"
    }
   ],
   "source": [
    "mystr"
   ]
  },
  {
   "cell_type": "code",
   "execution_count": 6,
   "id": "b14b3f64-9d07-4bd5-b794-4c19ef0d0f65",
   "metadata": {},
   "outputs": [
    {
     "data": {
      "text/plain": [
       "str"
      ]
     },
     "execution_count": 6,
     "metadata": {},
     "output_type": "execute_result"
    }
   ],
   "source": [
    "type(mystr)"
   ]
  },
  {
   "cell_type": "code",
   "execution_count": 8,
   "id": "d0e65e21-fa21-40e0-a1ef-992b71d2f701",
   "metadata": {},
   "outputs": [
    {
     "data": {
      "text/plain": [
       "21"
      ]
     },
     "execution_count": 8,
     "metadata": {},
     "output_type": "execute_result"
    }
   ],
   "source": [
    "len(mystr)"
   ]
  },
  {
   "cell_type": "code",
   "execution_count": 10,
   "id": "8c7f4e46-4168-4df0-b57f-546833ce99b8",
   "metadata": {},
   "outputs": [],
   "source": [
    "k = \"I am Learning Python\""
   ]
  },
  {
   "cell_type": "code",
   "execution_count": 12,
   "id": "43ac8233-372f-4ad3-84b8-937bf55eb0d8",
   "metadata": {},
   "outputs": [
    {
     "data": {
      "text/plain": [
       "'I am Learning Python'"
      ]
     },
     "execution_count": 12,
     "metadata": {},
     "output_type": "execute_result"
    }
   ],
   "source": [
    "k"
   ]
  },
  {
   "cell_type": "code",
   "execution_count": 14,
   "id": "a037542f-2e53-4834-b98a-d1a416d00044",
   "metadata": {},
   "outputs": [
    {
     "data": {
      "text/plain": [
       "str"
      ]
     },
     "execution_count": 14,
     "metadata": {},
     "output_type": "execute_result"
    }
   ],
   "source": [
    "type(k)"
   ]
  },
  {
   "cell_type": "code",
   "execution_count": null,
   "id": "5d41654b-1af7-42a6-b8f3-730ade61cd43",
   "metadata": {},
   "outputs": [],
   "source": []
  },
  {
   "cell_type": "code",
   "execution_count": null,
   "id": "c11b82ba-c1aa-4dc0-985b-beb8b0feee99",
   "metadata": {},
   "outputs": [],
   "source": []
  },
  {
   "cell_type": "code",
   "execution_count": null,
   "id": "4d0b125c-ccbe-47a4-ac44-ab8d54791cbd",
   "metadata": {},
   "outputs": [],
   "source": []
  },
  {
   "cell_type": "code",
   "execution_count": null,
   "id": "b9345a01-1412-4c5d-beaf-4c35d389ca61",
   "metadata": {},
   "outputs": [],
   "source": []
  },
  {
   "cell_type": "code",
   "execution_count": null,
   "id": "0f36ea0a-a36b-4683-a1c4-6ba69f955aad",
   "metadata": {},
   "outputs": [],
   "source": []
  },
  {
   "cell_type": "code",
   "execution_count": null,
   "id": "174d367b-1608-40d7-82f0-795b0ceaaecd",
   "metadata": {},
   "outputs": [],
   "source": []
  },
  {
   "cell_type": "code",
   "execution_count": 1,
   "id": "f7c1925f-197a-42c9-b820-188dfb49b99a",
   "metadata": {},
   "outputs": [],
   "source": [
    "my_str = (\"Welcome to the Python\")"
   ]
  },
  {
   "cell_type": "code",
   "execution_count": 3,
   "id": "01bd7a68-53a1-481f-ace1-acf15a4f4df1",
   "metadata": {},
   "outputs": [
    {
     "data": {
      "text/plain": [
       "str"
      ]
     },
     "execution_count": 3,
     "metadata": {},
     "output_type": "execute_result"
    }
   ],
   "source": [
    "type(my_str)"
   ]
  },
  {
   "cell_type": "code",
   "execution_count": 110,
   "id": "d64a7137-ddf1-415a-9387-eeaba161ff2f",
   "metadata": {},
   "outputs": [],
   "source": [
    "d = 'hello students'"
   ]
  },
  {
   "cell_type": "code",
   "execution_count": 112,
   "id": "7c9674f8-4e49-464e-b1f9-c74bdff7d443",
   "metadata": {},
   "outputs": [
    {
     "data": {
      "text/plain": [
       "str"
      ]
     },
     "execution_count": 112,
     "metadata": {},
     "output_type": "execute_result"
    }
   ],
   "source": [
    "type(d)"
   ]
  },
  {
   "cell_type": "code",
   "execution_count": 9,
   "id": "428944b9-4c95-4dd2-9704-eccabd8173e7",
   "metadata": {},
   "outputs": [],
   "source": [
    "b =  \"my computer\""
   ]
  },
  {
   "cell_type": "code",
   "execution_count": 11,
   "id": "2df957d2-0618-41e8-b750-33c843885f27",
   "metadata": {},
   "outputs": [
    {
     "data": {
      "text/plain": [
       "'my computer'"
      ]
     },
     "execution_count": 11,
     "metadata": {},
     "output_type": "execute_result"
    }
   ],
   "source": [
    "b"
   ]
  },
  {
   "cell_type": "code",
   "execution_count": 114,
   "id": "48338391-7148-4c3f-8a38-b15771177146",
   "metadata": {},
   "outputs": [],
   "source": [
    "a = \"\"\"computer\"\"\""
   ]
  },
  {
   "cell_type": "code",
   "execution_count": 13,
   "id": "64994054-c03d-4038-aeea-1f61698159fc",
   "metadata": {},
   "outputs": [
    {
     "data": {
      "text/plain": [
       "str"
      ]
     },
     "execution_count": 13,
     "metadata": {},
     "output_type": "execute_result"
    }
   ],
   "source": [
    "type(b)"
   ]
  },
  {
   "cell_type": "code",
   "execution_count": 116,
   "id": "9180887b-41d9-4cf3-b6f3-2c243029b4e4",
   "metadata": {},
   "outputs": [
    {
     "data": {
      "text/plain": [
       "str"
      ]
     },
     "execution_count": 116,
     "metadata": {},
     "output_type": "execute_result"
    }
   ],
   "source": [
    "type(a)"
   ]
  },
  {
   "cell_type": "code",
   "execution_count": 118,
   "id": "ca3c6b4a-8aa4-43d9-87f6-1bf92768eab4",
   "metadata": {},
   "outputs": [],
   "source": [
    "r = '''mouse@#$///123654789DATA'''"
   ]
  },
  {
   "cell_type": "code",
   "execution_count": 120,
   "id": "e6a545cf-3fa4-468b-a077-04a032dab369",
   "metadata": {},
   "outputs": [
    {
     "data": {
      "text/plain": [
       "str"
      ]
     },
     "execution_count": 120,
     "metadata": {},
     "output_type": "execute_result"
    }
   ],
   "source": [
    "type(r)"
   ]
  },
  {
   "cell_type": "code",
   "execution_count": 15,
   "id": "d3e10003-ef97-4bf5-aa04-bd45c3b755d8",
   "metadata": {},
   "outputs": [],
   "source": [
    "my_str = \"welcome to the world\""
   ]
  },
  {
   "cell_type": "code",
   "execution_count": 17,
   "id": "2c89d26a-0756-4dbc-a342-6b7e6a563de4",
   "metadata": {},
   "outputs": [
    {
     "data": {
      "text/plain": [
       "'welcome to the world'"
      ]
     },
     "execution_count": 17,
     "metadata": {},
     "output_type": "execute_result"
    }
   ],
   "source": [
    "my_str"
   ]
  },
  {
   "cell_type": "code",
   "execution_count": 6,
   "id": "337eb4cc-49b0-422f-957f-d4f4309c8733",
   "metadata": {},
   "outputs": [],
   "source": [
    "a = \"laptop\""
   ]
  },
  {
   "cell_type": "code",
   "execution_count": 19,
   "id": "c35fe7a6-edec-4f70-8f0f-b5b50266cd7a",
   "metadata": {},
   "outputs": [
    {
     "data": {
      "text/plain": [
       "'welcome to the world'"
      ]
     },
     "execution_count": 19,
     "metadata": {},
     "output_type": "execute_result"
    }
   ],
   "source": [
    "my_str"
   ]
  },
  {
   "cell_type": "code",
   "execution_count": 23,
   "id": "9bc0b5f2-71e5-440f-9910-fb73c8b66181",
   "metadata": {},
   "outputs": [
    {
     "data": {
      "text/plain": [
       "'r'"
      ]
     },
     "execution_count": 23,
     "metadata": {},
     "output_type": "execute_result"
    }
   ],
   "source": [
    "my_str[-3]"
   ]
  },
  {
   "cell_type": "code",
   "execution_count": 25,
   "id": "5a31714b-8520-4fb4-bb91-e0ae14dbcb61",
   "metadata": {},
   "outputs": [
    {
     "data": {
      "text/plain": [
       "20"
      ]
     },
     "execution_count": 25,
     "metadata": {},
     "output_type": "execute_result"
    }
   ],
   "source": [
    "len(my_str)"
   ]
  },
  {
   "cell_type": "code",
   "execution_count": null,
   "id": "ed21601a-cab8-47d5-a6e8-71b652e73b80",
   "metadata": {},
   "outputs": [],
   "source": []
  },
  {
   "cell_type": "code",
   "execution_count": 18,
   "id": "964b5022-166d-4ff6-b4a4-64f6c11250b1",
   "metadata": {},
   "outputs": [
    {
     "data": {
      "text/plain": [
       "'c'"
      ]
     },
     "execution_count": 18,
     "metadata": {},
     "output_type": "execute_result"
    }
   ],
   "source": [
    "my_str[3]"
   ]
  },
  {
   "cell_type": "code",
   "execution_count": 22,
   "id": "55f78c1b-1d66-4bf2-8c66-1516db0b1e74",
   "metadata": {},
   "outputs": [
    {
     "data": {
      "text/plain": [
       "'w'"
      ]
     },
     "execution_count": 22,
     "metadata": {},
     "output_type": "execute_result"
    }
   ],
   "source": [
    "my_str[-5]"
   ]
  },
  {
   "cell_type": "code",
   "execution_count": 26,
   "id": "3416d6e3-5d60-4632-80ea-eb552d42557c",
   "metadata": {},
   "outputs": [
    {
     "data": {
      "text/plain": [
       "20"
      ]
     },
     "execution_count": 26,
     "metadata": {},
     "output_type": "execute_result"
    }
   ],
   "source": [
    "len(my_str)"
   ]
  },
  {
   "cell_type": "code",
   "execution_count": 28,
   "id": "1b1b94c9-1924-4e9c-ba99-0a70581cf900",
   "metadata": {},
   "outputs": [
    {
     "data": {
      "text/plain": [
       "'dlrow eht ot emoclew'"
      ]
     },
     "execution_count": 28,
     "metadata": {},
     "output_type": "execute_result"
    }
   ],
   "source": [
    "my_str[::-1]"
   ]
  },
  {
   "cell_type": "code",
   "execution_count": 30,
   "id": "c827bae1-f3c5-48be-ab7a-cade9b4639cb",
   "metadata": {},
   "outputs": [
    {
     "data": {
      "text/plain": [
       "20"
      ]
     },
     "execution_count": 30,
     "metadata": {},
     "output_type": "execute_result"
    }
   ],
   "source": [
    "len(my_str)"
   ]
  },
  {
   "cell_type": "code",
   "execution_count": 36,
   "id": "d983baf2-df0c-43b2-9e6c-074532a9c45b",
   "metadata": {},
   "outputs": [
    {
     "data": {
      "text/plain": [
       "'welcome to the world'"
      ]
     },
     "execution_count": 36,
     "metadata": {},
     "output_type": "execute_result"
    }
   ],
   "source": [
    "my_str [::1]"
   ]
  },
  {
   "cell_type": "code",
   "execution_count": 38,
   "id": "aef41816-777f-425a-bba4-ae71972a372b",
   "metadata": {},
   "outputs": [
    {
     "data": {
      "text/plain": [
       "'welcome to the world'"
      ]
     },
     "execution_count": 38,
     "metadata": {},
     "output_type": "execute_result"
    }
   ],
   "source": [
    "my_str"
   ]
  },
  {
   "cell_type": "code",
   "execution_count": 40,
   "id": "16da1bda-f3ed-473d-8fac-1ca21ae4b242",
   "metadata": {},
   "outputs": [
    {
     "data": {
      "text/plain": [
       "20"
      ]
     },
     "execution_count": 40,
     "metadata": {},
     "output_type": "execute_result"
    }
   ],
   "source": [
    "len(my_str)"
   ]
  },
  {
   "cell_type": "code",
   "execution_count": null,
   "id": "fff480f5-713a-4089-8ce2-28611362b657",
   "metadata": {},
   "outputs": [],
   "source": []
  },
  {
   "cell_type": "code",
   "execution_count": 29,
   "id": "ed080378-6877-426c-b7ad-7a3e84a691a7",
   "metadata": {},
   "outputs": [
    {
     "data": {
      "text/plain": [
       "'dlrow eht ot emoclew'"
      ]
     },
     "execution_count": 29,
     "metadata": {},
     "output_type": "execute_result"
    }
   ],
   "source": [
    "my_str[::-1]"
   ]
  },
  {
   "cell_type": "code",
   "execution_count": null,
   "id": "ae623b25-3c82-42ad-ab8f-b9c2034b510d",
   "metadata": {},
   "outputs": [],
   "source": []
  },
  {
   "cell_type": "code",
   "execution_count": 123,
   "id": "8a98f007-67a7-43fd-997d-368296c7491f",
   "metadata": {},
   "outputs": [],
   "source": [
    "# string are indexable and slicable"
   ]
  },
  {
   "cell_type": "code",
   "execution_count": 125,
   "id": "d283f41d-d797-4e47-8e99-53cdeb850d70",
   "metadata": {},
   "outputs": [],
   "source": [
    "# indexable: accessing are element at a time is known as indexing"
   ]
  },
  {
   "cell_type": "code",
   "execution_count": 16,
   "id": "427cdd3c-218b-4e43-985e-3d490e6b3205",
   "metadata": {},
   "outputs": [
    {
     "data": {
      "text/plain": [
       "'I am Learning Python'"
      ]
     },
     "execution_count": 16,
     "metadata": {},
     "output_type": "execute_result"
    }
   ],
   "source": [
    "k"
   ]
  },
  {
   "cell_type": "code",
   "execution_count": 18,
   "id": "a47d5718-5634-450d-a451-3df01895f89f",
   "metadata": {},
   "outputs": [
    {
     "data": {
      "text/plain": [
       "'I'"
      ]
     },
     "execution_count": 18,
     "metadata": {},
     "output_type": "execute_result"
    }
   ],
   "source": [
    "k[0]"
   ]
  },
  {
   "cell_type": "code",
   "execution_count": 20,
   "id": "b0cd5b02-9c4e-4a87-97f9-5b6b12a0d02c",
   "metadata": {},
   "outputs": [
    {
     "data": {
      "text/plain": [
       "'W'"
      ]
     },
     "execution_count": 20,
     "metadata": {},
     "output_type": "execute_result"
    }
   ],
   "source": [
    "mystr[0]"
   ]
  },
  {
   "cell_type": "code",
   "execution_count": 22,
   "id": "4451238d-46b4-4723-b05a-86815a280852",
   "metadata": {},
   "outputs": [
    {
     "data": {
      "text/plain": [
       "'c'"
      ]
     },
     "execution_count": 22,
     "metadata": {},
     "output_type": "execute_result"
    }
   ],
   "source": [
    "mystr[3]"
   ]
  },
  {
   "cell_type": "code",
   "execution_count": 24,
   "id": "46451669-8253-40c0-b145-58f088e147e1",
   "metadata": {},
   "outputs": [
    {
     "data": {
      "text/plain": [
       "'h'"
      ]
     },
     "execution_count": 24,
     "metadata": {},
     "output_type": "execute_result"
    }
   ],
   "source": [
    "mystr[12]"
   ]
  },
  {
   "cell_type": "code",
   "execution_count": 26,
   "id": "5eadc64f-03c3-4faf-92b1-c6a224027e1b",
   "metadata": {},
   "outputs": [
    {
     "data": {
      "text/plain": [
       "' '"
      ]
     },
     "execution_count": 26,
     "metadata": {},
     "output_type": "execute_result"
    }
   ],
   "source": [
    "mystr[10]"
   ]
  },
  {
   "cell_type": "code",
   "execution_count": 28,
   "id": "6bb25197-4c98-4866-885f-35bede8d9bfa",
   "metadata": {},
   "outputs": [
    {
     "data": {
      "text/plain": [
       "'Welcome to the Course'"
      ]
     },
     "execution_count": 28,
     "metadata": {},
     "output_type": "execute_result"
    }
   ],
   "source": [
    "mystr"
   ]
  },
  {
   "cell_type": "code",
   "execution_count": 30,
   "id": "e185425c-e22e-4555-a95b-2f2bf4cb4d7c",
   "metadata": {},
   "outputs": [
    {
     "data": {
      "text/plain": [
       "'s'"
      ]
     },
     "execution_count": 30,
     "metadata": {},
     "output_type": "execute_result"
    }
   ],
   "source": [
    "mystr[19]"
   ]
  },
  {
   "cell_type": "code",
   "execution_count": 32,
   "id": "9dbd2e83-c9c9-4a60-aa7e-e57fb6538cac",
   "metadata": {},
   "outputs": [
    {
     "data": {
      "text/plain": [
       "'e'"
      ]
     },
     "execution_count": 32,
     "metadata": {},
     "output_type": "execute_result"
    }
   ],
   "source": [
    "mystr[-1]"
   ]
  },
  {
   "cell_type": "code",
   "execution_count": 34,
   "id": "e429c90f-e18d-4e9e-a693-029cfa1c3d90",
   "metadata": {},
   "outputs": [
    {
     "data": {
      "text/plain": [
       "'Welcome to the Course'"
      ]
     },
     "execution_count": 34,
     "metadata": {},
     "output_type": "execute_result"
    }
   ],
   "source": [
    "mystr"
   ]
  },
  {
   "cell_type": "code",
   "execution_count": 36,
   "id": "bf041ce7-bada-4f27-90f6-3468a0d22fa2",
   "metadata": {},
   "outputs": [
    {
     "data": {
      "text/plain": [
       "'o'"
      ]
     },
     "execution_count": 36,
     "metadata": {},
     "output_type": "execute_result"
    }
   ],
   "source": [
    "mystr[-5]"
   ]
  },
  {
   "cell_type": "code",
   "execution_count": 38,
   "id": "36bec709-8d20-4c13-92ec-0548e378d676",
   "metadata": {},
   "outputs": [
    {
     "data": {
      "text/plain": [
       "'Welcome to the Course'"
      ]
     },
     "execution_count": 38,
     "metadata": {},
     "output_type": "execute_result"
    }
   ],
   "source": [
    "mystr"
   ]
  },
  {
   "cell_type": "code",
   "execution_count": 40,
   "id": "5ba84b86-c4c3-4ee0-bafb-ead9365b82ee",
   "metadata": {},
   "outputs": [
    {
     "data": {
      "text/plain": [
       "'s'"
      ]
     },
     "execution_count": 40,
     "metadata": {},
     "output_type": "execute_result"
    }
   ],
   "source": [
    "mystr[-2]"
   ]
  },
  {
   "cell_type": "code",
   "execution_count": 42,
   "id": "5b2b767a-0386-4d63-a2d3-8655180708e2",
   "metadata": {},
   "outputs": [
    {
     "data": {
      "text/plain": [
       "'C'"
      ]
     },
     "execution_count": 42,
     "metadata": {},
     "output_type": "execute_result"
    }
   ],
   "source": [
    "mystr[-6]"
   ]
  },
  {
   "cell_type": "code",
   "execution_count": 44,
   "id": "90fba995-9d58-451c-b01f-c5d6c931f2be",
   "metadata": {},
   "outputs": [
    {
     "data": {
      "text/plain": [
       "' '"
      ]
     },
     "execution_count": 44,
     "metadata": {},
     "output_type": "execute_result"
    }
   ],
   "source": [
    "mystr[-7]"
   ]
  },
  {
   "cell_type": "code",
   "execution_count": 46,
   "id": "e8540b50-4afc-4fa3-8869-9cdc7099931f",
   "metadata": {},
   "outputs": [
    {
     "data": {
      "text/plain": [
       "'h'"
      ]
     },
     "execution_count": 46,
     "metadata": {},
     "output_type": "execute_result"
    }
   ],
   "source": [
    "mystr[-9]"
   ]
  },
  {
   "cell_type": "code",
   "execution_count": 48,
   "id": "603d5433-b478-4d41-be7a-b608b86bebbb",
   "metadata": {},
   "outputs": [
    {
     "data": {
      "text/plain": [
       "'Welco'"
      ]
     },
     "execution_count": 48,
     "metadata": {},
     "output_type": "execute_result"
    }
   ],
   "source": [
    "mystr[0:5]"
   ]
  },
  {
   "cell_type": "code",
   "execution_count": 50,
   "id": "a26e7a59-309f-4094-8b51-40e672fa7032",
   "metadata": {},
   "outputs": [
    {
     "data": {
      "text/plain": [
       "'Welcome to the Course'"
      ]
     },
     "execution_count": 50,
     "metadata": {},
     "output_type": "execute_result"
    }
   ],
   "source": [
    "mystr"
   ]
  },
  {
   "cell_type": "code",
   "execution_count": 56,
   "id": "9875831c-2ff3-4f16-a734-8d84ea39afdf",
   "metadata": {},
   "outputs": [
    {
     "data": {
      "text/plain": [
       "'Welcome'"
      ]
     },
     "execution_count": 56,
     "metadata": {},
     "output_type": "execute_result"
    }
   ],
   "source": [
    "mystr[0:-14:]"
   ]
  },
  {
   "cell_type": "code",
   "execution_count": 58,
   "id": "393ad691-6940-4b77-ac47-363bb2bf5445",
   "metadata": {},
   "outputs": [
    {
     "data": {
      "text/plain": [
       "'Welcome to the Course'"
      ]
     },
     "execution_count": 58,
     "metadata": {},
     "output_type": "execute_result"
    }
   ],
   "source": [
    "mystr"
   ]
  },
  {
   "cell_type": "code",
   "execution_count": null,
   "id": "68862b62-18d5-4c2f-9818-4910cda3e4d2",
   "metadata": {},
   "outputs": [],
   "source": []
  },
  {
   "cell_type": "code",
   "execution_count": null,
   "id": "dd6fbfa1-7ba4-41bb-ad2a-b19a11a07be3",
   "metadata": {},
   "outputs": [],
   "source": []
  },
  {
   "cell_type": "code",
   "execution_count": 127,
   "id": "cf25e4fa-8fd7-4f1b-b692-6ddd1b298fdb",
   "metadata": {},
   "outputs": [
    {
     "data": {
      "text/plain": [
       "'W'"
      ]
     },
     "execution_count": 127,
     "metadata": {},
     "output_type": "execute_result"
    }
   ],
   "source": [
    "my_str[0]"
   ]
  },
  {
   "cell_type": "code",
   "execution_count": 31,
   "id": "420cc343-51b5-4cd6-a0de-d6fb11712f31",
   "metadata": {},
   "outputs": [
    {
     "data": {
      "text/plain": [
       "'l'"
      ]
     },
     "execution_count": 31,
     "metadata": {},
     "output_type": "execute_result"
    }
   ],
   "source": [
    "my_str[2]"
   ]
  },
  {
   "cell_type": "code",
   "execution_count": null,
   "id": "9f4ce713-588c-4182-bd67-edc3bfdb4810",
   "metadata": {},
   "outputs": [],
   "source": []
  },
  {
   "cell_type": "code",
   "execution_count": 129,
   "id": "86478e8b-2a5a-4876-a36a-f8bcd9cf01bc",
   "metadata": {},
   "outputs": [
    {
     "data": {
      "text/plain": [
       "'c'"
      ]
     },
     "execution_count": 129,
     "metadata": {},
     "output_type": "execute_result"
    }
   ],
   "source": [
    "my_str[3]"
   ]
  },
  {
   "cell_type": "code",
   "execution_count": 131,
   "id": "69c2a634-7aa9-4b8b-acbf-101676441664",
   "metadata": {},
   "outputs": [
    {
     "data": {
      "text/plain": [
       "'e'"
      ]
     },
     "execution_count": 131,
     "metadata": {},
     "output_type": "execute_result"
    }
   ],
   "source": [
    "my_str[6]"
   ]
  },
  {
   "cell_type": "code",
   "execution_count": 133,
   "id": "f66210d5-415a-4ab1-ab28-849f76b9494f",
   "metadata": {},
   "outputs": [
    {
     "data": {
      "text/plain": [
       "'e'"
      ]
     },
     "execution_count": 133,
     "metadata": {},
     "output_type": "execute_result"
    }
   ],
   "source": [
    "my_str[1]"
   ]
  },
  {
   "cell_type": "code",
   "execution_count": 135,
   "id": "665336f8-4865-48ad-be75-eedd1257ed38",
   "metadata": {},
   "outputs": [
    {
     "data": {
      "text/plain": [
       "'e'"
      ]
     },
     "execution_count": 135,
     "metadata": {},
     "output_type": "execute_result"
    }
   ],
   "source": [
    "my_str[1]"
   ]
  },
  {
   "cell_type": "code",
   "execution_count": 137,
   "id": "01a6348e-e2b8-455a-8498-1971dd097a15",
   "metadata": {},
   "outputs": [
    {
     "data": {
      "text/plain": [
       "'W'"
      ]
     },
     "execution_count": 137,
     "metadata": {},
     "output_type": "execute_result"
    }
   ],
   "source": [
    "my_str[0]"
   ]
  },
  {
   "cell_type": "code",
   "execution_count": 139,
   "id": "c26f1aad-9fcd-4ba2-8aa7-07e47625530c",
   "metadata": {},
   "outputs": [
    {
     "data": {
      "text/plain": [
       "21"
      ]
     },
     "execution_count": 139,
     "metadata": {},
     "output_type": "execute_result"
    }
   ],
   "source": [
    "len(my_str)"
   ]
  },
  {
   "cell_type": "code",
   "execution_count": 33,
   "id": "1100f066-bc36-4dd8-aa3d-5d3b9f14f64f",
   "metadata": {},
   "outputs": [
    {
     "data": {
      "text/plain": [
       "'welcome to the world'"
      ]
     },
     "execution_count": 33,
     "metadata": {},
     "output_type": "execute_result"
    }
   ],
   "source": [
    "my_str"
   ]
  },
  {
   "cell_type": "code",
   "execution_count": 141,
   "id": "0fc07063-66d7-4772-869b-66dca045ed5a",
   "metadata": {},
   "outputs": [
    {
     "data": {
      "text/plain": [
       "'Welcome to The Python'"
      ]
     },
     "execution_count": 141,
     "metadata": {},
     "output_type": "execute_result"
    }
   ],
   "source": [
    "my_str"
   ]
  },
  {
   "cell_type": "code",
   "execution_count": 1,
   "id": "685aa062-0d30-4436-ad68-92c201394895",
   "metadata": {},
   "outputs": [],
   "source": [
    "my_str = \"Welcome to the course\""
   ]
  },
  {
   "cell_type": "code",
   "execution_count": 3,
   "id": "517406a9-069d-48c2-9fac-2bd89b1367a3",
   "metadata": {},
   "outputs": [
    {
     "data": {
      "text/plain": [
       "'Welcome to the course'"
      ]
     },
     "execution_count": 3,
     "metadata": {},
     "output_type": "execute_result"
    }
   ],
   "source": [
    "my_str"
   ]
  },
  {
   "cell_type": "code",
   "execution_count": 5,
   "id": "15992ad0-285a-4486-8aba-dda1cea0cd11",
   "metadata": {},
   "outputs": [
    {
     "data": {
      "text/plain": [
       "'Welcome to the course'"
      ]
     },
     "execution_count": 5,
     "metadata": {},
     "output_type": "execute_result"
    }
   ],
   "source": [
    "my_str"
   ]
  },
  {
   "cell_type": "code",
   "execution_count": 35,
   "id": "b9b5bce4-0c57-4393-842c-792544c814be",
   "metadata": {},
   "outputs": [
    {
     "data": {
      "text/plain": [
       "'d'"
      ]
     },
     "execution_count": 35,
     "metadata": {},
     "output_type": "execute_result"
    }
   ],
   "source": [
    "my_str[20-1]"
   ]
  },
  {
   "cell_type": "code",
   "execution_count": 41,
   "id": "61e05741-2c98-4217-9626-258c4f6dfe45",
   "metadata": {},
   "outputs": [
    {
     "data": {
      "text/plain": [
       "'l'"
      ]
     },
     "execution_count": 41,
     "metadata": {},
     "output_type": "execute_result"
    }
   ],
   "source": [
    "my_str[19-1]"
   ]
  },
  {
   "cell_type": "code",
   "execution_count": 7,
   "id": "47d2f006-21f4-4a9e-8248-5b9e7fc72d46",
   "metadata": {},
   "outputs": [
    {
     "data": {
      "text/plain": [
       "'esruoc eht ot emocleW'"
      ]
     },
     "execution_count": 7,
     "metadata": {},
     "output_type": "execute_result"
    }
   ],
   "source": [
    "my_str[::-1]"
   ]
  },
  {
   "cell_type": "code",
   "execution_count": 9,
   "id": "b372942a-dbc0-42a9-92af-2a3ace126a8b",
   "metadata": {},
   "outputs": [
    {
     "data": {
      "text/plain": [
       "21"
      ]
     },
     "execution_count": 9,
     "metadata": {},
     "output_type": "execute_result"
    }
   ],
   "source": [
    "len(my_str)"
   ]
  },
  {
   "cell_type": "code",
   "execution_count": 143,
   "id": "a5486744-ceb0-4b27-a51c-7d80b3bff893",
   "metadata": {},
   "outputs": [
    {
     "data": {
      "text/plain": [
       "'n'"
      ]
     },
     "execution_count": 143,
     "metadata": {},
     "output_type": "execute_result"
    }
   ],
   "source": [
    "my_str[21-1]"
   ]
  },
  {
   "cell_type": "code",
   "execution_count": 145,
   "id": "5dd70e5a-c6f4-4989-b90d-5d3b13badbe8",
   "metadata": {},
   "outputs": [
    {
     "data": {
      "text/plain": [
       "'n'"
      ]
     },
     "execution_count": 145,
     "metadata": {},
     "output_type": "execute_result"
    }
   ],
   "source": [
    "my_str[21-1]"
   ]
  },
  {
   "cell_type": "code",
   "execution_count": 43,
   "id": "42837760-8084-4586-84fa-86ddce67cb43",
   "metadata": {},
   "outputs": [
    {
     "data": {
      "text/plain": [
       "'d'"
      ]
     },
     "execution_count": 43,
     "metadata": {},
     "output_type": "execute_result"
    }
   ],
   "source": [
    "my_str[len(my_str)-1]"
   ]
  },
  {
   "cell_type": "code",
   "execution_count": 149,
   "id": "fe77b932-b725-4ced-90fd-549f9fd95264",
   "metadata": {},
   "outputs": [
    {
     "data": {
      "text/plain": [
       "'n'"
      ]
     },
     "execution_count": 149,
     "metadata": {},
     "output_type": "execute_result"
    }
   ],
   "source": [
    "my_str[len(my_str)-1]"
   ]
  },
  {
   "cell_type": "code",
   "execution_count": 45,
   "id": "85d3a732-4c2a-468b-9558-591be5524fcb",
   "metadata": {},
   "outputs": [
    {
     "data": {
      "text/plain": [
       "'l'"
      ]
     },
     "execution_count": 45,
     "metadata": {},
     "output_type": "execute_result"
    }
   ],
   "source": [
    "my_str[len(my_str)-2]"
   ]
  },
  {
   "cell_type": "code",
   "execution_count": 47,
   "id": "bb79c49e-c214-4ef1-9853-5818b8818d7d",
   "metadata": {},
   "outputs": [
    {
     "data": {
      "text/plain": [
       "'r'"
      ]
     },
     "execution_count": 47,
     "metadata": {},
     "output_type": "execute_result"
    }
   ],
   "source": [
    "my_str[len(my_str)-3]"
   ]
  },
  {
   "cell_type": "code",
   "execution_count": 151,
   "id": "cd16c2e2-480f-4ac0-a9d8-11a6b929fea1",
   "metadata": {},
   "outputs": [
    {
     "data": {
      "text/plain": [
       "'o'"
      ]
     },
     "execution_count": 151,
     "metadata": {},
     "output_type": "execute_result"
    }
   ],
   "source": [
    "my_str[len(my_str)-2]"
   ]
  },
  {
   "cell_type": "code",
   "execution_count": 159,
   "id": "ee997bd6-827a-4ae6-9337-d49c2127b9ae",
   "metadata": {},
   "outputs": [
    {
     "data": {
      "text/plain": [
       "'h'"
      ]
     },
     "execution_count": 159,
     "metadata": {},
     "output_type": "execute_result"
    }
   ],
   "source": [
    "my_str[len(my_str)-3]"
   ]
  },
  {
   "cell_type": "code",
   "execution_count": 161,
   "id": "780ca9fe-7fac-4543-9854-2f31088067bb",
   "metadata": {},
   "outputs": [
    {
     "data": {
      "text/plain": [
       "'W'"
      ]
     },
     "execution_count": 161,
     "metadata": {},
     "output_type": "execute_result"
    }
   ],
   "source": [
    "my_str[0]"
   ]
  },
  {
   "cell_type": "code",
   "execution_count": 163,
   "id": "83f08e89-a5af-4385-b308-9c29b8409b65",
   "metadata": {},
   "outputs": [
    {
     "data": {
      "text/plain": [
       "'l'"
      ]
     },
     "execution_count": 163,
     "metadata": {},
     "output_type": "execute_result"
    }
   ],
   "source": [
    "my_str[2]"
   ]
  },
  {
   "cell_type": "code",
   "execution_count": 165,
   "id": "b1a09bf0-9e95-4931-b612-377f3742f95c",
   "metadata": {},
   "outputs": [
    {
     "data": {
      "text/plain": [
       "'m'"
      ]
     },
     "execution_count": 165,
     "metadata": {},
     "output_type": "execute_result"
    }
   ],
   "source": [
    "my_str[5]"
   ]
  },
  {
   "cell_type": "code",
   "execution_count": 169,
   "id": "cbd820e8-3179-4fe7-89de-96f22b60c842",
   "metadata": {},
   "outputs": [
    {
     "data": {
      "text/plain": [
       "'Welcome to The Python'"
      ]
     },
     "execution_count": 169,
     "metadata": {},
     "output_type": "execute_result"
    }
   ],
   "source": [
    "my_str"
   ]
  },
  {
   "cell_type": "code",
   "execution_count": 171,
   "id": "0834e1fb-8a0c-4120-9501-bf1413fbc8b0",
   "metadata": {},
   "outputs": [
    {
     "data": {
      "text/plain": [
       "21"
      ]
     },
     "execution_count": 171,
     "metadata": {},
     "output_type": "execute_result"
    }
   ],
   "source": [
    "len(my_str)"
   ]
  },
  {
   "cell_type": "code",
   "execution_count": 51,
   "id": "280495a8-5935-41b8-a346-8b2e2cbcf2cb",
   "metadata": {},
   "outputs": [
    {
     "data": {
      "text/plain": [
       "'h'"
      ]
     },
     "execution_count": 51,
     "metadata": {},
     "output_type": "execute_result"
    }
   ],
   "source": [
    "my_str[12]"
   ]
  },
  {
   "cell_type": "code",
   "execution_count": 11,
   "id": "b3eb4ca3-2039-4872-8923-7db04d27750f",
   "metadata": {},
   "outputs": [
    {
     "data": {
      "text/plain": [
       "'Welcome to the course'"
      ]
     },
     "execution_count": 11,
     "metadata": {},
     "output_type": "execute_result"
    }
   ],
   "source": [
    "my_str"
   ]
  },
  {
   "cell_type": "code",
   "execution_count": 173,
   "id": "767f44c4-1d1e-42a4-adb1-d62b31536f8f",
   "metadata": {},
   "outputs": [
    {
     "data": {
      "text/plain": [
       "'T'"
      ]
     },
     "execution_count": 173,
     "metadata": {},
     "output_type": "execute_result"
    }
   ],
   "source": [
    "my_str[11]"
   ]
  },
  {
   "cell_type": "code",
   "execution_count": 177,
   "id": "91f8a0ed-a786-4ca7-b409-1a965016ec12",
   "metadata": {},
   "outputs": [
    {
     "data": {
      "text/plain": [
       "'t'"
      ]
     },
     "execution_count": 177,
     "metadata": {},
     "output_type": "execute_result"
    }
   ],
   "source": [
    "my_str[8]"
   ]
  },
  {
   "cell_type": "code",
   "execution_count": 53,
   "id": "fbc54f5f-02d5-4dc9-8316-aee46b2778d3",
   "metadata": {},
   "outputs": [
    {
     "data": {
      "text/plain": [
       "18"
      ]
     },
     "execution_count": 53,
     "metadata": {},
     "output_type": "execute_result"
    }
   ],
   "source": [
    "len(my_str)-2"
   ]
  },
  {
   "cell_type": "code",
   "execution_count": 55,
   "id": "4091965a-2cd6-49dc-b5ab-c5490fa74a14",
   "metadata": {},
   "outputs": [
    {
     "data": {
      "text/plain": [
       "17"
      ]
     },
     "execution_count": 55,
     "metadata": {},
     "output_type": "execute_result"
    }
   ],
   "source": [
    "len(my_str)-3"
   ]
  },
  {
   "cell_type": "code",
   "execution_count": 179,
   "id": "839c15f1-0f60-46e2-bd2c-21079c27be1c",
   "metadata": {},
   "outputs": [
    {
     "data": {
      "text/plain": [
       "20"
      ]
     },
     "execution_count": 179,
     "metadata": {},
     "output_type": "execute_result"
    }
   ],
   "source": [
    "len(my_str)-1"
   ]
  },
  {
   "cell_type": "code",
   "execution_count": 42,
   "id": "ae145be3-815d-4caf-b677-c8368a41a7cf",
   "metadata": {},
   "outputs": [
    {
     "data": {
      "text/plain": [
       "19"
      ]
     },
     "execution_count": 42,
     "metadata": {},
     "output_type": "execute_result"
    }
   ],
   "source": [
    "len(my_str)-1"
   ]
  },
  {
   "cell_type": "code",
   "execution_count": 44,
   "id": "718eecf8-9b95-4351-8f2c-88bf788b2a0b",
   "metadata": {},
   "outputs": [
    {
     "data": {
      "text/plain": [
       "18"
      ]
     },
     "execution_count": 44,
     "metadata": {},
     "output_type": "execute_result"
    }
   ],
   "source": [
    "len(my_str)-2"
   ]
  },
  {
   "cell_type": "code",
   "execution_count": 181,
   "id": "fcb1c86e-92dd-4889-a092-6e447e99e256",
   "metadata": {},
   "outputs": [
    {
     "data": {
      "text/plain": [
       "'n'"
      ]
     },
     "execution_count": 181,
     "metadata": {},
     "output_type": "execute_result"
    }
   ],
   "source": [
    "my_str[20]"
   ]
  },
  {
   "cell_type": "code",
   "execution_count": 189,
   "id": "9b5b156c-9672-485c-90cf-45a2123735f3",
   "metadata": {},
   "outputs": [
    {
     "data": {
      "text/plain": [
       "'n'"
      ]
     },
     "execution_count": 189,
     "metadata": {},
     "output_type": "execute_result"
    }
   ],
   "source": [
    "my_str[len(my_str)-1]"
   ]
  },
  {
   "cell_type": "code",
   "execution_count": 191,
   "id": "0c780ac0-b291-46ec-a9b6-f3409ca80558",
   "metadata": {},
   "outputs": [
    {
     "data": {
      "text/plain": [
       "'T'"
      ]
     },
     "execution_count": 191,
     "metadata": {},
     "output_type": "execute_result"
    }
   ],
   "source": [
    "my_str[11]"
   ]
  },
  {
   "cell_type": "code",
   "execution_count": 193,
   "id": "ff95e6eb-1979-46fb-98d2-ba51623e26ea",
   "metadata": {},
   "outputs": [
    {
     "data": {
      "text/plain": [
       "'Welcome to The Python'"
      ]
     },
     "execution_count": 193,
     "metadata": {},
     "output_type": "execute_result"
    }
   ],
   "source": [
    "my_str"
   ]
  },
  {
   "cell_type": "code",
   "execution_count": 195,
   "id": "70dd179b-ab9f-4344-8d67-2044fa5e8b27",
   "metadata": {},
   "outputs": [
    {
     "data": {
      "text/plain": [
       "21"
      ]
     },
     "execution_count": 195,
     "metadata": {},
     "output_type": "execute_result"
    }
   ],
   "source": [
    "len(my_str)"
   ]
  },
  {
   "cell_type": "code",
   "execution_count": 197,
   "id": "47b5ac2d-d018-4861-bf0c-5424494bc7e1",
   "metadata": {},
   "outputs": [
    {
     "data": {
      "text/plain": [
       "'n'"
      ]
     },
     "execution_count": 197,
     "metadata": {},
     "output_type": "execute_result"
    }
   ],
   "source": [
    "my_str[20]"
   ]
  },
  {
   "cell_type": "code",
   "execution_count": 205,
   "id": "18a0920d-953a-42a1-b8db-ca9d2edfece1",
   "metadata": {},
   "outputs": [
    {
     "data": {
      "text/plain": [
       "'n'"
      ]
     },
     "execution_count": 205,
     "metadata": {},
     "output_type": "execute_result"
    }
   ],
   "source": [
    "my_str[len(my_str)-1]"
   ]
  },
  {
   "cell_type": "code",
   "execution_count": 46,
   "id": "ac293c02-d260-4411-87a6-83e9773b2c6e",
   "metadata": {},
   "outputs": [
    {
     "data": {
      "text/plain": [
       "'welcome to the world'"
      ]
     },
     "execution_count": 46,
     "metadata": {},
     "output_type": "execute_result"
    }
   ],
   "source": [
    "my_str"
   ]
  },
  {
   "cell_type": "code",
   "execution_count": 48,
   "id": "b97baa26-302d-45e5-8333-4c53d4ffb824",
   "metadata": {},
   "outputs": [
    {
     "data": {
      "text/plain": [
       "'d'"
      ]
     },
     "execution_count": 48,
     "metadata": {},
     "output_type": "execute_result"
    }
   ],
   "source": [
    "my_str[len(my_str)-1]"
   ]
  },
  {
   "cell_type": "code",
   "execution_count": 52,
   "id": "00c5b7a9-ca9f-4c96-8390-37d838f14d0a",
   "metadata": {},
   "outputs": [
    {
     "data": {
      "text/plain": [
       "'l'"
      ]
     },
     "execution_count": 52,
     "metadata": {},
     "output_type": "execute_result"
    }
   ],
   "source": [
    "my_str[len(my_str)-2]"
   ]
  },
  {
   "cell_type": "code",
   "execution_count": 208,
   "id": "8390c362-2326-4446-af8e-c5246edb8a99",
   "metadata": {},
   "outputs": [],
   "source": [
    "# negative indexing: it start from -1\n",
    "# my_str[len(my_str)-1]"
   ]
  },
  {
   "cell_type": "code",
   "execution_count": 57,
   "id": "1c5344f1-1065-4bcc-81cf-de84a6110453",
   "metadata": {},
   "outputs": [],
   "source": [
    "my_str = \"Welcome to the Delhi\""
   ]
  },
  {
   "cell_type": "code",
   "execution_count": 59,
   "id": "560ed825-d563-4b6e-a1ba-350c82632b0b",
   "metadata": {},
   "outputs": [
    {
     "data": {
      "text/plain": [
       "'welcome to the Delhi'"
      ]
     },
     "execution_count": 59,
     "metadata": {},
     "output_type": "execute_result"
    }
   ],
   "source": [
    "my_str"
   ]
  },
  {
   "cell_type": "code",
   "execution_count": 210,
   "id": "dddf329c-41d2-4d6d-a3f2-5c2606e250e9",
   "metadata": {},
   "outputs": [
    {
     "data": {
      "text/plain": [
       "'Welcome to The Python'"
      ]
     },
     "execution_count": 210,
     "metadata": {},
     "output_type": "execute_result"
    }
   ],
   "source": [
    "my_str"
   ]
  },
  {
   "cell_type": "code",
   "execution_count": 13,
   "id": "6a383cf9-b8ea-498e-8c9f-cf21e10b396f",
   "metadata": {},
   "outputs": [
    {
     "data": {
      "text/plain": [
       "'e'"
      ]
     },
     "execution_count": 13,
     "metadata": {},
     "output_type": "execute_result"
    }
   ],
   "source": [
    "my_str[-1]"
   ]
  },
  {
   "cell_type": "code",
   "execution_count": 212,
   "id": "011ca7ec-380f-4fcc-8388-135b1efabb69",
   "metadata": {},
   "outputs": [
    {
     "data": {
      "text/plain": [
       "'n'"
      ]
     },
     "execution_count": 212,
     "metadata": {},
     "output_type": "execute_result"
    }
   ],
   "source": [
    "my_str[-1]"
   ]
  },
  {
   "cell_type": "code",
   "execution_count": 61,
   "id": "4ab9faba-b40a-4baf-9e79-6fcc14e47c9c",
   "metadata": {},
   "outputs": [
    {
     "data": {
      "text/plain": [
       "'e'"
      ]
     },
     "execution_count": 61,
     "metadata": {},
     "output_type": "execute_result"
    }
   ],
   "source": [
    "my_str[-4]"
   ]
  },
  {
   "cell_type": "code",
   "execution_count": 214,
   "id": "f536230e-0b25-4fdc-be2d-943e80932999",
   "metadata": {},
   "outputs": [
    {
     "data": {
      "text/plain": [
       "'h'"
      ]
     },
     "execution_count": 214,
     "metadata": {},
     "output_type": "execute_result"
    }
   ],
   "source": [
    "my_str[-3]"
   ]
  },
  {
   "cell_type": "code",
   "execution_count": 216,
   "id": "90cad44c-aa6e-4a2e-96c7-ad1ea71eb900",
   "metadata": {},
   "outputs": [
    {
     "data": {
      "text/plain": [
       "'P'"
      ]
     },
     "execution_count": 216,
     "metadata": {},
     "output_type": "execute_result"
    }
   ],
   "source": [
    "my_str[-6]"
   ]
  },
  {
   "cell_type": "code",
   "execution_count": 218,
   "id": "25a46a19-56f7-4a4a-84a2-d8133cf301ac",
   "metadata": {},
   "outputs": [
    {
     "data": {
      "text/plain": [
       "'y'"
      ]
     },
     "execution_count": 218,
     "metadata": {},
     "output_type": "execute_result"
    }
   ],
   "source": [
    "my_str[-5]"
   ]
  },
  {
   "cell_type": "code",
   "execution_count": 220,
   "id": "4f98f15d-48c3-43f2-974b-f6e66c3363df",
   "metadata": {},
   "outputs": [
    {
     "data": {
      "text/plain": [
       "'e'"
      ]
     },
     "execution_count": 220,
     "metadata": {},
     "output_type": "execute_result"
    }
   ],
   "source": [
    "my_str[-8]"
   ]
  },
  {
   "cell_type": "code",
   "execution_count": 222,
   "id": "f4071711-24f8-467a-8cf1-064618d55bec",
   "metadata": {},
   "outputs": [
    {
     "data": {
      "text/plain": [
       "'e'"
      ]
     },
     "execution_count": 222,
     "metadata": {},
     "output_type": "execute_result"
    }
   ],
   "source": [
    "my_str[1]"
   ]
  },
  {
   "cell_type": "code",
   "execution_count": 224,
   "id": "ece22156-1376-4c55-8f69-a30f5df9d0e4",
   "metadata": {},
   "outputs": [
    {
     "data": {
      "text/plain": [
       "'Welcome to The Python'"
      ]
     },
     "execution_count": 224,
     "metadata": {},
     "output_type": "execute_result"
    }
   ],
   "source": [
    "my_str"
   ]
  },
  {
   "cell_type": "code",
   "execution_count": 226,
   "id": "2880efc4-ad13-476d-a72d-eb05ae833026",
   "metadata": {},
   "outputs": [
    {
     "data": {
      "text/plain": [
       "'n'"
      ]
     },
     "execution_count": 226,
     "metadata": {},
     "output_type": "execute_result"
    }
   ],
   "source": [
    "my_str[-1]"
   ]
  },
  {
   "cell_type": "code",
   "execution_count": 228,
   "id": "a8058858-79c2-4ccd-af63-cfd2b8db1016",
   "metadata": {},
   "outputs": [
    {
     "data": {
      "text/plain": [
       "'P'"
      ]
     },
     "execution_count": 228,
     "metadata": {},
     "output_type": "execute_result"
    }
   ],
   "source": [
    "my_str[-6]"
   ]
  },
  {
   "cell_type": "code",
   "execution_count": 232,
   "id": "ca4e0faf-b6e2-4418-938a-b9800a520f46",
   "metadata": {},
   "outputs": [
    {
     "data": {
      "text/plain": [
       "'y'"
      ]
     },
     "execution_count": 232,
     "metadata": {},
     "output_type": "execute_result"
    }
   ],
   "source": [
    "my_str[-5]"
   ]
  },
  {
   "cell_type": "code",
   "execution_count": 234,
   "id": "aad239e8-424f-4245-b2c4-5a75de67f568",
   "metadata": {},
   "outputs": [],
   "source": [
    "# slicable: accessing multiple elements at a time is known as slicing"
   ]
  },
  {
   "cell_type": "code",
   "execution_count": 236,
   "id": "c7b517a5-1c44-4a5f-9f77-6c3d94075a4d",
   "metadata": {},
   "outputs": [],
   "source": [
    "# my_str[string_index: ending_index+1"
   ]
  },
  {
   "cell_type": "code",
   "execution_count": 63,
   "id": "b520e069-3e1e-4a61-9938-b776319ed740",
   "metadata": {},
   "outputs": [
    {
     "data": {
      "text/plain": [
       "'welcome to the Delhi'"
      ]
     },
     "execution_count": 63,
     "metadata": {},
     "output_type": "execute_result"
    }
   ],
   "source": [
    "my_str"
   ]
  },
  {
   "cell_type": "code",
   "execution_count": 65,
   "id": "2f335c86-82f3-4e51-a004-8d7d8a8e9368",
   "metadata": {},
   "outputs": [
    {
     "data": {
      "text/plain": [
       "'we'"
      ]
     },
     "execution_count": 65,
     "metadata": {},
     "output_type": "execute_result"
    }
   ],
   "source": [
    "my_str[0:2]"
   ]
  },
  {
   "cell_type": "code",
   "execution_count": 67,
   "id": "a427211e-1779-4d83-831a-dc7c7889eb58",
   "metadata": {},
   "outputs": [
    {
     "data": {
      "text/plain": [
       "'welco'"
      ]
     },
     "execution_count": 67,
     "metadata": {},
     "output_type": "execute_result"
    }
   ],
   "source": [
    "my_str[0:5]"
   ]
  },
  {
   "cell_type": "code",
   "execution_count": 69,
   "id": "91de46dc-21a6-44c8-a014-782d3a34b6eb",
   "metadata": {},
   "outputs": [
    {
     "data": {
      "text/plain": [
       "'welcome '"
      ]
     },
     "execution_count": 69,
     "metadata": {},
     "output_type": "execute_result"
    }
   ],
   "source": [
    "my_str[0:8]"
   ]
  },
  {
   "cell_type": "code",
   "execution_count": 73,
   "id": "e5178759-17d5-4a52-949d-2eb389f7ca42",
   "metadata": {},
   "outputs": [
    {
     "data": {
      "text/plain": [
       "'welcome to'"
      ]
     },
     "execution_count": 73,
     "metadata": {},
     "output_type": "execute_result"
    }
   ],
   "source": [
    "my_str[0:-10]"
   ]
  },
  {
   "cell_type": "code",
   "execution_count": 75,
   "id": "64d38679-ac84-4641-8342-0e4537a50f0f",
   "metadata": {},
   "outputs": [
    {
     "data": {
      "text/plain": [
       "' t'"
      ]
     },
     "execution_count": 75,
     "metadata": {},
     "output_type": "execute_result"
    }
   ],
   "source": [
    "my_str[10:12]"
   ]
  },
  {
   "cell_type": "code",
   "execution_count": 77,
   "id": "23b73421-142e-4c3e-b9a8-a823a536c899",
   "metadata": {},
   "outputs": [
    {
     "data": {
      "text/plain": [
       "''"
      ]
     },
     "execution_count": 77,
     "metadata": {},
     "output_type": "execute_result"
    }
   ],
   "source": [
    "my_str[12:10]"
   ]
  },
  {
   "cell_type": "code",
   "execution_count": 15,
   "id": "821d66f0-a6a2-4799-aa68-357d78e35947",
   "metadata": {},
   "outputs": [
    {
     "data": {
      "text/plain": [
       "'Welcome to the course'"
      ]
     },
     "execution_count": 15,
     "metadata": {},
     "output_type": "execute_result"
    }
   ],
   "source": [
    "my_str"
   ]
  },
  {
   "cell_type": "code",
   "execution_count": 54,
   "id": "846af3aa-b6ff-457a-ba9b-e52853bc1e21",
   "metadata": {},
   "outputs": [
    {
     "data": {
      "text/plain": [
       "'welcome to the world'"
      ]
     },
     "execution_count": 54,
     "metadata": {},
     "output_type": "execute_result"
    }
   ],
   "source": [
    "my_str"
   ]
  },
  {
   "cell_type": "code",
   "execution_count": 58,
   "id": "6f88b512-c707-49f0-adc6-0059313a528b",
   "metadata": {},
   "outputs": [
    {
     "data": {
      "text/plain": [
       "'welcome'"
      ]
     },
     "execution_count": 58,
     "metadata": {},
     "output_type": "execute_result"
    }
   ],
   "source": [
    "my_str[0:7]"
   ]
  },
  {
   "cell_type": "code",
   "execution_count": 62,
   "id": "5e4c409f-bfaa-4641-bf6c-0608a6113076",
   "metadata": {},
   "outputs": [
    {
     "data": {
      "text/plain": [
       "'welcome t'"
      ]
     },
     "execution_count": 62,
     "metadata": {},
     "output_type": "execute_result"
    }
   ],
   "source": [
    "my_str[0:9]"
   ]
  },
  {
   "cell_type": "code",
   "execution_count": 64,
   "id": "aa7747c3-f2b2-404f-931a-5d3365afc844",
   "metadata": {},
   "outputs": [
    {
     "data": {
      "text/plain": [
       "'welco'"
      ]
     },
     "execution_count": 64,
     "metadata": {},
     "output_type": "execute_result"
    }
   ],
   "source": [
    "my_str[0:5]"
   ]
  },
  {
   "cell_type": "code",
   "execution_count": 66,
   "id": "34695034-c5c6-44a3-80f1-145eb71e1978",
   "metadata": {},
   "outputs": [
    {
     "data": {
      "text/plain": [
       "'welcome to'"
      ]
     },
     "execution_count": 66,
     "metadata": {},
     "output_type": "execute_result"
    }
   ],
   "source": [
    "my_str[0:10]"
   ]
  },
  {
   "cell_type": "code",
   "execution_count": 70,
   "id": "f0a6571f-10f2-43b7-a1e4-5fe7dd59d902",
   "metadata": {},
   "outputs": [
    {
     "data": {
      "text/plain": [
       "'welcome to t'"
      ]
     },
     "execution_count": 70,
     "metadata": {},
     "output_type": "execute_result"
    }
   ],
   "source": [
    "my_str[0:12]"
   ]
  },
  {
   "cell_type": "code",
   "execution_count": 72,
   "id": "bfed5e1c-97a5-4662-af75-f13620ff63f9",
   "metadata": {},
   "outputs": [
    {
     "data": {
      "text/plain": [
       "' t'"
      ]
     },
     "execution_count": 72,
     "metadata": {},
     "output_type": "execute_result"
    }
   ],
   "source": [
    "my_str[10:12]"
   ]
  },
  {
   "cell_type": "code",
   "execution_count": 74,
   "id": "86836c63-96d0-4c32-823e-48c25ad684bd",
   "metadata": {},
   "outputs": [
    {
     "data": {
      "text/plain": [
       "''"
      ]
     },
     "execution_count": 74,
     "metadata": {},
     "output_type": "execute_result"
    }
   ],
   "source": [
    "my_str[14:10]"
   ]
  },
  {
   "cell_type": "code",
   "execution_count": 79,
   "id": "c3eb0c32-a229-4eeb-9a10-6dc8bfe95524",
   "metadata": {},
   "outputs": [
    {
     "data": {
      "text/plain": [
       "'welcome to the '"
      ]
     },
     "execution_count": 79,
     "metadata": {},
     "output_type": "execute_result"
    }
   ],
   "source": [
    "my_str[0:15]"
   ]
  },
  {
   "cell_type": "code",
   "execution_count": 83,
   "id": "d087a8bd-054d-4ba3-8192-dd947f3d34cd",
   "metadata": {},
   "outputs": [
    {
     "data": {
      "text/plain": [
       "'o'"
      ]
     },
     "execution_count": 83,
     "metadata": {},
     "output_type": "execute_result"
    }
   ],
   "source": [
    "my_str[0-11]"
   ]
  },
  {
   "cell_type": "code",
   "execution_count": 76,
   "id": "5589641c-b621-4007-a517-89ff195de07f",
   "metadata": {},
   "outputs": [
    {
     "data": {
      "text/plain": [
       "'welcome to the '"
      ]
     },
     "execution_count": 76,
     "metadata": {},
     "output_type": "execute_result"
    }
   ],
   "source": [
    "my_str[0:15]"
   ]
  },
  {
   "cell_type": "code",
   "execution_count": 78,
   "id": "ab33f5b5-bc83-4782-9147-17acc4eb5ecb",
   "metadata": {},
   "outputs": [
    {
     "data": {
      "text/plain": [
       "'welcome to the world'"
      ]
     },
     "execution_count": 78,
     "metadata": {},
     "output_type": "execute_result"
    }
   ],
   "source": [
    "my_str"
   ]
  },
  {
   "cell_type": "code",
   "execution_count": 17,
   "id": "aad3bec7-a659-43f3-ae0c-38a4f69ec347",
   "metadata": {},
   "outputs": [
    {
     "data": {
      "text/plain": [
       "'Welcome to the course'"
      ]
     },
     "execution_count": 17,
     "metadata": {},
     "output_type": "execute_result"
    }
   ],
   "source": [
    "my_str"
   ]
  },
  {
   "cell_type": "code",
   "execution_count": 240,
   "id": "f9b31130-49b8-484d-9193-7b54ff16f547",
   "metadata": {},
   "outputs": [
    {
     "data": {
      "text/plain": [
       "'Welcome to The Python'"
      ]
     },
     "execution_count": 240,
     "metadata": {},
     "output_type": "execute_result"
    }
   ],
   "source": [
    "my_str"
   ]
  },
  {
   "cell_type": "code",
   "execution_count": 242,
   "id": "8f25ce05-f5e6-4e68-8b6a-b5f7a4b81447",
   "metadata": {},
   "outputs": [
    {
     "data": {
      "text/plain": [
       "'Welcome'"
      ]
     },
     "execution_count": 242,
     "metadata": {},
     "output_type": "execute_result"
    }
   ],
   "source": [
    "my_str[0:7]"
   ]
  },
  {
   "cell_type": "code",
   "execution_count": 244,
   "id": "684a1113-9c73-4d0a-b625-5d73f4c92881",
   "metadata": {},
   "outputs": [
    {
     "data": {
      "text/plain": [
       "'come'"
      ]
     },
     "execution_count": 244,
     "metadata": {},
     "output_type": "execute_result"
    }
   ],
   "source": [
    "my_str[3:7]"
   ]
  },
  {
   "cell_type": "code",
   "execution_count": 246,
   "id": "bd901fc1-e4e8-4ec0-a242-93a45071ae67",
   "metadata": {},
   "outputs": [
    {
     "data": {
      "text/plain": [
       "'come to The'"
      ]
     },
     "execution_count": 246,
     "metadata": {},
     "output_type": "execute_result"
    }
   ],
   "source": [
    "my_str[3:14]"
   ]
  },
  {
   "cell_type": "code",
   "execution_count": 248,
   "id": "c5bcae4e-4f0e-496a-b542-1999c677f765",
   "metadata": {},
   "outputs": [
    {
     "data": {
      "text/plain": [
       "'Python'"
      ]
     },
     "execution_count": 248,
     "metadata": {},
     "output_type": "execute_result"
    }
   ],
   "source": [
    "my_str[15:21]"
   ]
  },
  {
   "cell_type": "code",
   "execution_count": 85,
   "id": "3fcb4d0a-05a8-493a-beb4-11ef32fb92e6",
   "metadata": {},
   "outputs": [
    {
     "data": {
      "text/plain": [
       "'ihleD '"
      ]
     },
     "execution_count": 85,
     "metadata": {},
     "output_type": "execute_result"
    }
   ],
   "source": [
    "my_str[-1:-7:-1]"
   ]
  },
  {
   "cell_type": "code",
   "execution_count": 89,
   "id": "d30890a9-3081-4bb5-ab82-d579b44ee6cd",
   "metadata": {},
   "outputs": [
    {
     "data": {
      "text/plain": [
       "'he '"
      ]
     },
     "execution_count": 89,
     "metadata": {},
     "output_type": "execute_result"
    }
   ],
   "source": [
    "my_str[-2:-7:-2]"
   ]
  },
  {
   "cell_type": "code",
   "execution_count": 82,
   "id": "f2213dde-35f7-4a70-9db5-10a98afcbb5b",
   "metadata": {},
   "outputs": [
    {
     "data": {
      "text/plain": [
       "'dlrow '"
      ]
     },
     "execution_count": 82,
     "metadata": {},
     "output_type": "execute_result"
    }
   ],
   "source": [
    "my_str[-1:-7:-1]"
   ]
  },
  {
   "cell_type": "code",
   "execution_count": 19,
   "id": "3fce9ef9-fa1b-4103-b684-dbd7f366aefa",
   "metadata": {},
   "outputs": [
    {
     "data": {
      "text/plain": [
       "[1, 2, 3, 4, 5, 6, 7, 8, 9, 10, 11, 12, 13, 14, 15, 16, 17, 18, 19]"
      ]
     },
     "execution_count": 19,
     "metadata": {},
     "output_type": "execute_result"
    }
   ],
   "source": [
    "list(range(1,20))"
   ]
  },
  {
   "cell_type": "code",
   "execution_count": 95,
   "id": "542b4309-7fc5-41ad-b3d2-d64969537947",
   "metadata": {},
   "outputs": [
    {
     "data": {
      "text/plain": [
       "[1, 2, 3, 4, 5, 6, 7, 8, 9, 10, 11, 12, 13, 14, 15, 16, 17, 18, 19, 20]"
      ]
     },
     "execution_count": 95,
     "metadata": {},
     "output_type": "execute_result"
    }
   ],
   "source": [
    "list(range(1,21))"
   ]
  },
  {
   "cell_type": "code",
   "execution_count": 99,
   "id": "8f1f933f-ebb3-4953-a57b-71dfd5e978fa",
   "metadata": {},
   "outputs": [
    {
     "data": {
      "text/plain": [
       "[15, 14, 13, 12, 11, 10, 9, 8, 7, 6, 5, 4, 3, 2, 1]"
      ]
     },
     "execution_count": 99,
     "metadata": {},
     "output_type": "execute_result"
    }
   ],
   "source": [
    "list(range(15,0,-1))"
   ]
  },
  {
   "cell_type": "code",
   "execution_count": 101,
   "id": "9668891c-6fa6-47cc-bc64-5190903527ff",
   "metadata": {},
   "outputs": [
    {
     "data": {
      "text/plain": [
       "[1, 2, 3, 4, 5, 6, 7, 8, 9, 10, 11, 12, 13, 14]"
      ]
     },
     "execution_count": 101,
     "metadata": {},
     "output_type": "execute_result"
    }
   ],
   "source": [
    "list(range(1,15))"
   ]
  },
  {
   "cell_type": "code",
   "execution_count": 105,
   "id": "82c37af8-7362-46bb-a14a-87fd66e80fb0",
   "metadata": {},
   "outputs": [
    {
     "data": {
      "text/plain": [
       "[-1, 0, 1, 2, 3, 4, 5, 6, 7, 8, 9, 10, 11, 12, 13, 14, 15, 16, 17, 18, 19]"
      ]
     },
     "execution_count": 105,
     "metadata": {},
     "output_type": "execute_result"
    }
   ],
   "source": [
    "list(range(-1,20))"
   ]
  },
  {
   "cell_type": "code",
   "execution_count": 258,
   "id": "a9164d1b-da56-4183-a400-c0b177d9ddc7",
   "metadata": {},
   "outputs": [
    {
     "data": {
      "text/plain": [
       "[1, 2, 3, 4, 5, 6, 7, 8, 9, 10]"
      ]
     },
     "execution_count": 258,
     "metadata": {},
     "output_type": "execute_result"
    }
   ],
   "source": [
    "list(range(1,11))"
   ]
  },
  {
   "cell_type": "code",
   "execution_count": 260,
   "id": "c1eb4416-a791-477f-b862-f6789c50bed3",
   "metadata": {},
   "outputs": [
    {
     "data": {
      "text/plain": [
       "[15, 14, 13, 12, 11, 10, 9, 8, 7, 6, 5, 4, 3, 2, 1]"
      ]
     },
     "execution_count": 260,
     "metadata": {},
     "output_type": "execute_result"
    }
   ],
   "source": [
    "list(range(15,0,-1))"
   ]
  },
  {
   "cell_type": "code",
   "execution_count": 262,
   "id": "076c7eef-b008-4a3c-af9c-a1729138d5e5",
   "metadata": {},
   "outputs": [
    {
     "data": {
      "text/plain": [
       "[0, 1, 2, 3, 4, 5, 6, 7, 8, 9, 10, 11, 12, 13, 14]"
      ]
     },
     "execution_count": 262,
     "metadata": {},
     "output_type": "execute_result"
    }
   ],
   "source": [
    "list(range(0,15))"
   ]
  },
  {
   "cell_type": "code",
   "execution_count": 264,
   "id": "bdd65199-7d9b-4541-9bf3-e792ccf055d0",
   "metadata": {},
   "outputs": [
    {
     "data": {
      "text/plain": [
       "[0, 1, 2, 3, 4, 5, 6, 7, 8, 9, 10, 11, 12, 13]"
      ]
     },
     "execution_count": 264,
     "metadata": {},
     "output_type": "execute_result"
    }
   ],
   "source": [
    "list(range(0,15-1))"
   ]
  },
  {
   "cell_type": "code",
   "execution_count": 107,
   "id": "d3026bf0-c44f-4871-9b7c-e6f68c7693d8",
   "metadata": {},
   "outputs": [
    {
     "data": {
      "text/plain": [
       "[]"
      ]
     },
     "execution_count": 107,
     "metadata": {},
     "output_type": "execute_result"
    }
   ],
   "source": [
    "list(range(0,15,-1))"
   ]
  },
  {
   "cell_type": "code",
   "execution_count": 21,
   "id": "fded56ae-e943-40c5-8bd9-d2a48ed5c4da",
   "metadata": {},
   "outputs": [
    {
     "data": {
      "text/plain": [
       "[0, 1, 2, 3, 4, 5, 6, 7, 8, 9, 10, 11, 12, 13, 14, 15, 16, 17, 18, 19, 20]"
      ]
     },
     "execution_count": 21,
     "metadata": {},
     "output_type": "execute_result"
    }
   ],
   "source": [
    "list(range(0,21))"
   ]
  },
  {
   "cell_type": "code",
   "execution_count": 84,
   "id": "167d0681-3144-49c1-8299-ecb18780e663",
   "metadata": {},
   "outputs": [
    {
     "data": {
      "text/plain": [
       "[1, 2, 3, 4, 5, 6, 7, 8, 9, 10, 11]"
      ]
     },
     "execution_count": 84,
     "metadata": {},
     "output_type": "execute_result"
    }
   ],
   "source": [
    "list(range(1,12))"
   ]
  },
  {
   "cell_type": "code",
   "execution_count": 86,
   "id": "c20ea3a9-9180-4b76-95d7-6f70fcafad42",
   "metadata": {},
   "outputs": [
    {
     "data": {
      "text/plain": [
       "[0, 1, 2, 3, 4, 5, 6, 7, 8, 9, 10, 11, 12, 13, 14, 15, 16, 17, 18, 19]"
      ]
     },
     "execution_count": 86,
     "metadata": {},
     "output_type": "execute_result"
    }
   ],
   "source": [
    "list(range(0,20))"
   ]
  },
  {
   "cell_type": "code",
   "execution_count": 92,
   "id": "7f038d13-d142-480d-b753-f28da16bcecf",
   "metadata": {},
   "outputs": [
    {
     "data": {
      "text/plain": [
       "[0, 1, 2, 3, 4, 5, 6, 7, 8, 9, 10, 11, 12, 13]"
      ]
     },
     "execution_count": 92,
     "metadata": {},
     "output_type": "execute_result"
    }
   ],
   "source": [
    "list(range(0,15-1))"
   ]
  },
  {
   "cell_type": "code",
   "execution_count": 94,
   "id": "db801547-1cf9-4129-a76e-8a3009b32e52",
   "metadata": {},
   "outputs": [
    {
     "data": {
      "text/plain": [
       "[1, 2, 3, 4, 5, 6, 7, 8, 9, 10, 11]"
      ]
     },
     "execution_count": 94,
     "metadata": {},
     "output_type": "execute_result"
    }
   ],
   "source": [
    "list(range(1,12))"
   ]
  },
  {
   "cell_type": "code",
   "execution_count": 109,
   "id": "caf18029-9c53-4bd9-b7d3-5aa4d563c356",
   "metadata": {},
   "outputs": [
    {
     "data": {
      "text/plain": [
       "[3, 4, 5, 6, 7, 8, 9, 10, 11, 12, 13, 14, 15, 16, 17, 18, 19]"
      ]
     },
     "execution_count": 109,
     "metadata": {},
     "output_type": "execute_result"
    }
   ],
   "source": [
    "list(range(3,20))"
   ]
  },
  {
   "cell_type": "code",
   "execution_count": 111,
   "id": "607aff7f-06bb-4633-a85d-4a6c58049040",
   "metadata": {},
   "outputs": [
    {
     "data": {
      "text/plain": [
       "[3, 4, 5, 6, 7, 8, 9, 10, 11, 12, 13, 14, 15, 16, 17, 18, 19, 20, 21]"
      ]
     },
     "execution_count": 111,
     "metadata": {},
     "output_type": "execute_result"
    }
   ],
   "source": [
    "list(range(3,22))"
   ]
  },
  {
   "cell_type": "code",
   "execution_count": 98,
   "id": "6bbfbce1-a1de-4e41-8f97-e62110cdcb5c",
   "metadata": {},
   "outputs": [
    {
     "data": {
      "text/plain": [
       "[2, 3, 4, 5, 6, 7, 8, 9, 10, 11, 12, 13, 14, 15, 16, 17, 18, 19]"
      ]
     },
     "execution_count": 98,
     "metadata": {},
     "output_type": "execute_result"
    }
   ],
   "source": [
    "list(range(2,20))"
   ]
  },
  {
   "cell_type": "code",
   "execution_count": 115,
   "id": "365086d5-53ec-4dd7-a003-ff49d8923230",
   "metadata": {},
   "outputs": [
    {
     "data": {
      "text/plain": [
       "[0, 2, 4, 6, 8, 10, 12, 14, 16, 18]"
      ]
     },
     "execution_count": 115,
     "metadata": {},
     "output_type": "execute_result"
    }
   ],
   "source": [
    "list(range(0,20,2))"
   ]
  },
  {
   "cell_type": "code",
   "execution_count": 117,
   "id": "eade0621-bb34-40e6-984d-0a4bf4dd3206",
   "metadata": {},
   "outputs": [
    {
     "data": {
      "text/plain": [
       "[0, 3, 6, 9, 12, 15, 18, 21, 24, 27]"
      ]
     },
     "execution_count": 117,
     "metadata": {},
     "output_type": "execute_result"
    }
   ],
   "source": [
    "list(range(0,30,3))"
   ]
  },
  {
   "cell_type": "code",
   "execution_count": 119,
   "id": "2e429721-efe8-4f8e-bdd7-e3cfec270f7a",
   "metadata": {},
   "outputs": [
    {
     "data": {
      "text/plain": [
       "[4, 6, 8, 10, 12, 14, 16, 18, 20, 22, 24, 26, 28, 30, 32, 34, 36, 38]"
      ]
     },
     "execution_count": 119,
     "metadata": {},
     "output_type": "execute_result"
    }
   ],
   "source": [
    "list(range(4,40,2))"
   ]
  },
  {
   "cell_type": "code",
   "execution_count": 100,
   "id": "16d2711b-734a-4da5-a41f-219377cabac7",
   "metadata": {},
   "outputs": [
    {
     "data": {
      "text/plain": [
       "[0, 2, 4, 6, 8, 10, 12, 14, 16, 18]"
      ]
     },
     "execution_count": 100,
     "metadata": {},
     "output_type": "execute_result"
    }
   ],
   "source": [
    "list(range(0,20,2))"
   ]
  },
  {
   "cell_type": "code",
   "execution_count": 1,
   "id": "39b21030-da8b-488c-bbfa-a15fd9d4d861",
   "metadata": {},
   "outputs": [
    {
     "data": {
      "text/plain": [
       "[0, 5, 10, 15]"
      ]
     },
     "execution_count": 1,
     "metadata": {},
     "output_type": "execute_result"
    }
   ],
   "source": [
    "list(range(0,20,5))"
   ]
  },
  {
   "cell_type": "code",
   "execution_count": 3,
   "id": "a4bdc007-250c-4977-a876-db1ab6ba34d8",
   "metadata": {},
   "outputs": [
    {
     "data": {
      "text/plain": [
       "[0, 4, 8, 12, 16]"
      ]
     },
     "execution_count": 3,
     "metadata": {},
     "output_type": "execute_result"
    }
   ],
   "source": [
    "list(range(0,20,4))"
   ]
  },
  {
   "cell_type": "code",
   "execution_count": 5,
   "id": "817a39a4-0a5e-4b37-97ff-166a43e469a1",
   "metadata": {},
   "outputs": [
    {
     "data": {
      "text/plain": [
       "[0, 3, 6, 9, 12, 15, 18]"
      ]
     },
     "execution_count": 5,
     "metadata": {},
     "output_type": "execute_result"
    }
   ],
   "source": [
    "list(range(0,20,3))"
   ]
  },
  {
   "cell_type": "code",
   "execution_count": 102,
   "id": "bbbce122-78cb-4bda-bc76-46d057008b93",
   "metadata": {},
   "outputs": [
    {
     "data": {
      "text/plain": [
       "[0, 3, 6, 9, 12, 15, 18, 21, 24, 27]"
      ]
     },
     "execution_count": 102,
     "metadata": {},
     "output_type": "execute_result"
    }
   ],
   "source": [
    "list(range(0,30,3))"
   ]
  },
  {
   "cell_type": "code",
   "execution_count": 106,
   "id": "87c6eeb1-e2bc-4cd0-b6b3-a0f7ae4b15d9",
   "metadata": {},
   "outputs": [
    {
     "data": {
      "text/plain": [
       "[0,\n",
       " -1,\n",
       " -2,\n",
       " -3,\n",
       " -4,\n",
       " -5,\n",
       " -6,\n",
       " -7,\n",
       " -8,\n",
       " -9,\n",
       " -10,\n",
       " -11,\n",
       " -12,\n",
       " -13,\n",
       " -14,\n",
       " -15,\n",
       " -16,\n",
       " -17,\n",
       " -18,\n",
       " -19]"
      ]
     },
     "execution_count": 106,
     "metadata": {},
     "output_type": "execute_result"
    }
   ],
   "source": [
    "list(range(0,-20,-1))"
   ]
  },
  {
   "cell_type": "code",
   "execution_count": 121,
   "id": "99a7d4be-7e55-43d7-905d-5c758ee72ffa",
   "metadata": {},
   "outputs": [
    {
     "data": {
      "text/plain": [
       "[0,\n",
       " -1,\n",
       " -2,\n",
       " -3,\n",
       " -4,\n",
       " -5,\n",
       " -6,\n",
       " -7,\n",
       " -8,\n",
       " -9,\n",
       " -10,\n",
       " -11,\n",
       " -12,\n",
       " -13,\n",
       " -14,\n",
       " -15,\n",
       " -16,\n",
       " -17,\n",
       " -18,\n",
       " -19]"
      ]
     },
     "execution_count": 121,
     "metadata": {},
     "output_type": "execute_result"
    }
   ],
   "source": [
    "list(range(0,-20,-1))"
   ]
  },
  {
   "cell_type": "code",
   "execution_count": 23,
   "id": "c8b5f16b-78dd-4155-99b0-aa298d6a804d",
   "metadata": {},
   "outputs": [
    {
     "data": {
      "text/plain": [
       "[]"
      ]
     },
     "execution_count": 23,
     "metadata": {},
     "output_type": "execute_result"
    }
   ],
   "source": [
    "list(range(0,-10,5))"
   ]
  },
  {
   "cell_type": "code",
   "execution_count": 123,
   "id": "83f2654c-d626-42a7-ab78-146b2c5955ea",
   "metadata": {},
   "outputs": [
    {
     "data": {
      "text/plain": [
       "[0, -2, -4, -6, -8, -10, -12, -14, -16, -18]"
      ]
     },
     "execution_count": 123,
     "metadata": {},
     "output_type": "execute_result"
    }
   ],
   "source": [
    "list(range(0,-20,-2))"
   ]
  },
  {
   "cell_type": "code",
   "execution_count": 125,
   "id": "350c304b-2ea8-4a69-a6ee-c0171b602b75",
   "metadata": {},
   "outputs": [
    {
     "data": {
      "text/plain": [
       "[0, 2, 4, 6, 8, 10, 12, 14, 16, 18, 20, 22, 24, 26, 28]"
      ]
     },
     "execution_count": 125,
     "metadata": {},
     "output_type": "execute_result"
    }
   ],
   "source": [
    "list(range(0,30,+2))"
   ]
  },
  {
   "cell_type": "code",
   "execution_count": 129,
   "id": "f096c7f1-a5af-47c9-9dea-977daa624eb3",
   "metadata": {},
   "outputs": [
    {
     "data": {
      "text/plain": [
       "[0, 2, 4, 6, 8, 10, 12, 14, 16, 18, 20, 22, 24, 26, 28]"
      ]
     },
     "execution_count": 129,
     "metadata": {},
     "output_type": "execute_result"
    }
   ],
   "source": [
    "list(range(0,30,+2))"
   ]
  },
  {
   "cell_type": "code",
   "execution_count": 114,
   "id": "e8c04276-55ea-48bf-9eab-04fabaa2f141",
   "metadata": {},
   "outputs": [
    {
     "data": {
      "text/plain": [
       "[0, 2, 4, 6, 8, 10, 12, 14, 16, 18, 20, 22, 24, 26, 28]"
      ]
     },
     "execution_count": 114,
     "metadata": {},
     "output_type": "execute_result"
    }
   ],
   "source": [
    "list(range(0,30,+2))"
   ]
  },
  {
   "cell_type": "code",
   "execution_count": 64,
   "id": "f1e14408-b9e2-410a-bbfd-04088b8a4bfe",
   "metadata": {},
   "outputs": [],
   "source": [
    "p = [10,20,14,52,40,60,80]"
   ]
  },
  {
   "cell_type": "code",
   "execution_count": 66,
   "id": "ad96207f-3a59-4de3-ab7d-f06ab1c266e7",
   "metadata": {},
   "outputs": [
    {
     "data": {
      "text/plain": [
       "[10, 20, 14, 52, 40, 60, 80]"
      ]
     },
     "execution_count": 66,
     "metadata": {},
     "output_type": "execute_result"
    }
   ],
   "source": [
    "p"
   ]
  },
  {
   "cell_type": "code",
   "execution_count": 68,
   "id": "43235ca1-a03f-4745-9a10-ac54b0b6df75",
   "metadata": {},
   "outputs": [
    {
     "ename": "NameError",
     "evalue": "name 'my_str' is not defined",
     "output_type": "error",
     "traceback": [
      "\u001b[1;31m---------------------------------------------------------------------------\u001b[0m",
      "\u001b[1;31mNameError\u001b[0m                                 Traceback (most recent call last)",
      "Cell \u001b[1;32mIn[68], line 1\u001b[0m\n\u001b[1;32m----> 1\u001b[0m my_str[\u001b[38;5;241m-\u001b[39m\u001b[38;5;241m3\u001b[39m:\u001b[38;5;241m11\u001b[39m:\u001b[38;5;241m-\u001b[39m\u001b[38;5;241m1\u001b[39m]\n",
      "\u001b[1;31mNameError\u001b[0m: name 'my_str' is not defined"
     ]
    }
   ],
   "source": [
    "my_str[-3:11:-1]"
   ]
  },
  {
   "cell_type": "code",
   "execution_count": 60,
   "id": "569e2a55-98cd-4262-b0c1-fd015b6fa186",
   "metadata": {},
   "outputs": [
    {
     "data": {
      "text/plain": [
       "[0, 5, 10, 15]"
      ]
     },
     "execution_count": 60,
     "metadata": {},
     "output_type": "execute_result"
    }
   ],
   "source": [
    "list(range(0,20,5))"
   ]
  },
  {
   "cell_type": "code",
   "execution_count": 266,
   "id": "51cc8f25-f05d-46e8-8ef8-e1d84549221d",
   "metadata": {},
   "outputs": [
    {
     "data": {
      "text/plain": [
       "'htyP eh'"
      ]
     },
     "execution_count": 266,
     "metadata": {},
     "output_type": "execute_result"
    }
   ],
   "source": [
    "my_str[-3:11:-1]"
   ]
  },
  {
   "cell_type": "code",
   "execution_count": 116,
   "id": "15d81947-85cd-45ad-a1e0-0b3d8a57b8df",
   "metadata": {},
   "outputs": [
    {
     "data": {
      "text/plain": [
       "'welcome to the world'"
      ]
     },
     "execution_count": 116,
     "metadata": {},
     "output_type": "execute_result"
    }
   ],
   "source": [
    "my_str"
   ]
  },
  {
   "cell_type": "code",
   "execution_count": 137,
   "id": "69ef4fa1-849d-41c2-83a7-7c3698d04985",
   "metadata": {},
   "outputs": [
    {
     "data": {
      "text/plain": [
       "'welcome to the Delhi'"
      ]
     },
     "execution_count": 137,
     "metadata": {},
     "output_type": "execute_result"
    }
   ],
   "source": [
    "my_str"
   ]
  },
  {
   "cell_type": "code",
   "execution_count": 139,
   "id": "69365c70-93e0-4072-a629-3742ffb95a52",
   "metadata": {},
   "outputs": [
    {
     "data": {
      "text/plain": [
       "'e'"
      ]
     },
     "execution_count": 139,
     "metadata": {},
     "output_type": "execute_result"
    }
   ],
   "source": [
    "my_str[-4:15:-3]"
   ]
  },
  {
   "cell_type": "code",
   "execution_count": 118,
   "id": "b09bfebe-32bc-4941-84ce-23ff7f55a8ff",
   "metadata": {},
   "outputs": [
    {
     "data": {
      "text/plain": [
       "'o'"
      ]
     },
     "execution_count": 118,
     "metadata": {},
     "output_type": "execute_result"
    }
   ],
   "source": [
    "my_str[-4:15:-3]"
   ]
  },
  {
   "cell_type": "code",
   "execution_count": 7,
   "id": "6be8257c-d1be-410a-962b-5db6798198b5",
   "metadata": {},
   "outputs": [],
   "source": [
    "my_str = \"Welcome to the course\""
   ]
  },
  {
   "cell_type": "code",
   "execution_count": 27,
   "id": "d182417e-11cc-4191-a196-fbf48d956997",
   "metadata": {},
   "outputs": [
    {
     "data": {
      "text/plain": [
       "'Welcome to the course'"
      ]
     },
     "execution_count": 27,
     "metadata": {},
     "output_type": "execute_result"
    }
   ],
   "source": [
    "my_str"
   ]
  },
  {
   "cell_type": "code",
   "execution_count": 141,
   "id": "124ff1d5-e42b-4029-85d1-7ed8d828d52b",
   "metadata": {},
   "outputs": [
    {
     "data": {
      "text/plain": [
       "'welcome to the Delhi'"
      ]
     },
     "execution_count": 141,
     "metadata": {},
     "output_type": "execute_result"
    }
   ],
   "source": [
    "my_str"
   ]
  },
  {
   "cell_type": "code",
   "execution_count": 145,
   "id": "e15d5d53-57a3-4e3a-8325-19de25ac6417",
   "metadata": {},
   "outputs": [
    {
     "data": {
      "text/plain": [
       "'welcome to the'"
      ]
     },
     "execution_count": 145,
     "metadata": {},
     "output_type": "execute_result"
    }
   ],
   "source": [
    "my_str[:-6]"
   ]
  },
  {
   "cell_type": "code",
   "execution_count": 120,
   "id": "0607a684-4beb-4147-8676-215c01d053f3",
   "metadata": {},
   "outputs": [
    {
     "data": {
      "text/plain": [
       "'welcome to the world'"
      ]
     },
     "execution_count": 120,
     "metadata": {},
     "output_type": "execute_result"
    }
   ],
   "source": [
    "my_str"
   ]
  },
  {
   "cell_type": "code",
   "execution_count": 122,
   "id": "b32d3344-b402-411d-bedc-0e987adbc137",
   "metadata": {},
   "outputs": [
    {
     "data": {
      "text/plain": [
       "'welcome to the'"
      ]
     },
     "execution_count": 122,
     "metadata": {},
     "output_type": "execute_result"
    }
   ],
   "source": [
    "my_str[:-6]"
   ]
  },
  {
   "cell_type": "code",
   "execution_count": 124,
   "id": "168902a7-a59c-4b24-a097-ba2e579d1657",
   "metadata": {},
   "outputs": [
    {
     "data": {
      "text/plain": [
       "'welcome to t'"
      ]
     },
     "execution_count": 124,
     "metadata": {},
     "output_type": "execute_result"
    }
   ],
   "source": [
    "my_str[:-8]"
   ]
  },
  {
   "cell_type": "code",
   "execution_count": 268,
   "id": "0691f9fc-1ce1-4b12-931a-47654a7a90ac",
   "metadata": {},
   "outputs": [
    {
     "data": {
      "text/plain": [
       "'tPe'"
      ]
     },
     "execution_count": 268,
     "metadata": {},
     "output_type": "execute_result"
    }
   ],
   "source": [
    "my_str[-4:12:-2]"
   ]
  },
  {
   "cell_type": "code",
   "execution_count": 270,
   "id": "f50688e5-d68e-4148-bbfc-e7c6771fe33f",
   "metadata": {},
   "outputs": [
    {
     "data": {
      "text/plain": [
       "'Welcome to The Python'"
      ]
     },
     "execution_count": 270,
     "metadata": {},
     "output_type": "execute_result"
    }
   ],
   "source": [
    "my_str"
   ]
  },
  {
   "cell_type": "code",
   "execution_count": 276,
   "id": "621b08d8-649e-43c0-9e72-b054a2998ad8",
   "metadata": {},
   "outputs": [
    {
     "data": {
      "text/plain": [
       "'Python'"
      ]
     },
     "execution_count": 276,
     "metadata": {},
     "output_type": "execute_result"
    }
   ],
   "source": [
    "my_str[-6:]"
   ]
  },
  {
   "cell_type": "code",
   "execution_count": 280,
   "id": "a44a690e-59f7-462a-960f-c98adfc4b03f",
   "metadata": {},
   "outputs": [
    {
     "data": {
      "text/plain": [
       "'Python'"
      ]
     },
     "execution_count": 280,
     "metadata": {},
     "output_type": "execute_result"
    }
   ],
   "source": [
    "my_str[-6:]"
   ]
  },
  {
   "cell_type": "code",
   "execution_count": 147,
   "id": "1c40d2ed-9bdc-4bf5-a4cf-9b1fe74ad90d",
   "metadata": {},
   "outputs": [
    {
     "data": {
      "text/plain": [
       "[1, 5, 9, 13, 17]"
      ]
     },
     "execution_count": 147,
     "metadata": {},
     "output_type": "execute_result"
    }
   ],
   "source": [
    "list(range(1,21,4))"
   ]
  },
  {
   "cell_type": "code",
   "execution_count": 149,
   "id": "db94dd92-77eb-4d0a-ac80-c9c07998d50b",
   "metadata": {},
   "outputs": [
    {
     "data": {
      "text/plain": [
       "[1, 6, 11, 16]"
      ]
     },
     "execution_count": 149,
     "metadata": {},
     "output_type": "execute_result"
    }
   ],
   "source": [
    "list(range(1,21,5))"
   ]
  },
  {
   "cell_type": "code",
   "execution_count": 284,
   "id": "1ed6f6e5-8f4c-4106-bc70-9c3e58920752",
   "metadata": {},
   "outputs": [
    {
     "data": {
      "text/plain": [
       "[1, 6, 11, 16]"
      ]
     },
     "execution_count": 284,
     "metadata": {},
     "output_type": "execute_result"
    }
   ],
   "source": [
    "list(range(1,21,5))"
   ]
  },
  {
   "cell_type": "code",
   "execution_count": 286,
   "id": "bac0f6a5-e535-4422-92d0-70175f449325",
   "metadata": {},
   "outputs": [
    {
     "data": {
      "text/plain": [
       "[21, 18, 15, 12, 9, 6, 3]"
      ]
     },
     "execution_count": 286,
     "metadata": {},
     "output_type": "execute_result"
    }
   ],
   "source": [
    "list(range(21,1,-3))"
   ]
  },
  {
   "cell_type": "code",
   "execution_count": 9,
   "id": "21ced4da-a12a-4b33-a569-85eedc81a670",
   "metadata": {},
   "outputs": [
    {
     "data": {
      "text/plain": [
       "'Welcome to the course'"
      ]
     },
     "execution_count": 9,
     "metadata": {},
     "output_type": "execute_result"
    }
   ],
   "source": [
    "my_str"
   ]
  },
  {
   "cell_type": "code",
   "execution_count": 288,
   "id": "7241696f-c434-4b72-8dc0-5490f3474780",
   "metadata": {},
   "outputs": [
    {
     "data": {
      "text/plain": [
       "'Welcome to The Python'"
      ]
     },
     "execution_count": 288,
     "metadata": {},
     "output_type": "execute_result"
    }
   ],
   "source": [
    "my_str"
   ]
  },
  {
   "cell_type": "code",
   "execution_count": 290,
   "id": "26fcca45-bb6a-48e8-af0d-990047ca65e9",
   "metadata": {},
   "outputs": [
    {
     "data": {
      "text/plain": [
       "'Wceoh'"
      ]
     },
     "execution_count": 290,
     "metadata": {},
     "output_type": "execute_result"
    }
   ],
   "source": [
    "my_str[0:15:3]"
   ]
  },
  {
   "cell_type": "code",
   "execution_count": 292,
   "id": "14187334-a7da-434a-b2c6-e362d409c7f7",
   "metadata": {},
   "outputs": [
    {
     "data": {
      "text/plain": [
       "'to The'"
      ]
     },
     "execution_count": 292,
     "metadata": {},
     "output_type": "execute_result"
    }
   ],
   "source": [
    "my_str[8:14]"
   ]
  },
  {
   "cell_type": "code",
   "execution_count": 294,
   "id": "2b658ed0-df51-4f98-b76c-20a7b456c60b",
   "metadata": {},
   "outputs": [
    {
     "data": {
      "text/plain": [
       "'Python'"
      ]
     },
     "execution_count": 294,
     "metadata": {},
     "output_type": "execute_result"
    }
   ],
   "source": [
    "my_str[15:]"
   ]
  },
  {
   "cell_type": "code",
   "execution_count": 296,
   "id": "480f8838-7a47-4816-bc1e-7fbe8db334ec",
   "metadata": {},
   "outputs": [
    {
     "data": {
      "text/plain": [
       "'Wceoh'"
      ]
     },
     "execution_count": 296,
     "metadata": {},
     "output_type": "execute_result"
    }
   ],
   "source": [
    "my_str[0:15:3]"
   ]
  },
  {
   "cell_type": "code",
   "execution_count": 304,
   "id": "379958c1-42f7-4080-ae80-fd3d3120f681",
   "metadata": {},
   "outputs": [
    {
     "data": {
      "text/plain": [
       "'Welcome to The '"
      ]
     },
     "execution_count": 304,
     "metadata": {},
     "output_type": "execute_result"
    }
   ],
   "source": [
    "my_str[0:15]"
   ]
  },
  {
   "cell_type": "code",
   "execution_count": 308,
   "id": "3c1bd145-9fee-4db6-9d7f-f17081eb934e",
   "metadata": {},
   "outputs": [
    {
     "data": {
      "text/plain": [
       "''"
      ]
     },
     "execution_count": 308,
     "metadata": {},
     "output_type": "execute_result"
    }
   ],
   "source": [
    "my_str[-1:-7]"
   ]
  },
  {
   "cell_type": "code",
   "execution_count": 32,
   "id": "26aa99fa-87f5-45c6-9809-79f716bc3241",
   "metadata": {},
   "outputs": [
    {
     "data": {
      "text/plain": [
       "[0, 1, 2, 3, 4, 5, 6, 7, 8, 9]"
      ]
     },
     "execution_count": 32,
     "metadata": {},
     "output_type": "execute_result"
    }
   ],
   "source": [
    "list(range(10))"
   ]
  },
  {
   "cell_type": "code",
   "execution_count": 34,
   "id": "aff6da51-2939-4768-b97c-a6589276c8d9",
   "metadata": {},
   "outputs": [
    {
     "data": {
      "text/plain": [
       "[1, 4, 7, 10, 13, 16, 19]"
      ]
     },
     "execution_count": 34,
     "metadata": {},
     "output_type": "execute_result"
    }
   ],
   "source": [
    "list(range(1,21,3))"
   ]
  },
  {
   "cell_type": "code",
   "execution_count": 36,
   "id": "59a240cb-217e-4d24-a7fe-60a2faf2f1f0",
   "metadata": {},
   "outputs": [
    {
     "data": {
      "text/plain": [
       "[0, -1, -2, -3, -4, -5, -6, -7, -8, -9]"
      ]
     },
     "execution_count": 36,
     "metadata": {},
     "output_type": "execute_result"
    }
   ],
   "source": [
    "list(range(0,-10,-1))"
   ]
  },
  {
   "cell_type": "code",
   "execution_count": 40,
   "id": "0220ff68-97f7-4681-82e6-6442fc334bce",
   "metadata": {},
   "outputs": [
    {
     "data": {
      "text/plain": [
       "[5, 4, 3, 2, 1, 0, -1, -2, -3, -4, -5, -6, -7, -8, -9, -10, -11, -12, -13, -14]"
      ]
     },
     "execution_count": 40,
     "metadata": {},
     "output_type": "execute_result"
    }
   ],
   "source": [
    "list(range(5,-15,-1))"
   ]
  },
  {
   "cell_type": "code",
   "execution_count": 48,
   "id": "06632a49-2f9b-44d0-8621-d753dcd2fea2",
   "metadata": {},
   "outputs": [],
   "source": [
    "my_str = \"Welcome to The Python\""
   ]
  },
  {
   "cell_type": "code",
   "execution_count": 50,
   "id": "7933f08a-cf33-4a42-a3a8-bddda6740d28",
   "metadata": {},
   "outputs": [
    {
     "data": {
      "text/plain": [
       "'Welcome to The Python'"
      ]
     },
     "execution_count": 50,
     "metadata": {},
     "output_type": "execute_result"
    }
   ],
   "source": [
    "my_str"
   ]
  },
  {
   "cell_type": "code",
   "execution_count": 52,
   "id": "f463f48e-b431-4410-8f78-01c65dfea069",
   "metadata": {},
   "outputs": [],
   "source": [
    "k = my_str[-1:-7:-1]"
   ]
  },
  {
   "cell_type": "code",
   "execution_count": 56,
   "id": "ce058f9f-bb4d-415c-9aaa-d23775c2a58f",
   "metadata": {},
   "outputs": [
    {
     "data": {
      "text/plain": [
       "'Python'"
      ]
     },
     "execution_count": 56,
     "metadata": {},
     "output_type": "execute_result"
    }
   ],
   "source": [
    "k[::-1]"
   ]
  },
  {
   "cell_type": "code",
   "execution_count": 58,
   "id": "e216b95d-c90e-41a1-89fc-5dc32cd020ed",
   "metadata": {},
   "outputs": [
    {
     "data": {
      "text/plain": [
       "'hy h teo'"
      ]
     },
     "execution_count": 58,
     "metadata": {},
     "output_type": "execute_result"
    }
   ],
   "source": [
    "my_str[-3:-18:-2]"
   ]
  },
  {
   "cell_type": "code",
   "execution_count": 60,
   "id": "a6b5dc09-b79b-46d0-9c66-00b64e5cab0a",
   "metadata": {},
   "outputs": [
    {
     "data": {
      "text/plain": [
       "'Python'"
      ]
     },
     "execution_count": 60,
     "metadata": {},
     "output_type": "execute_result"
    }
   ],
   "source": [
    "my_str[15:22]"
   ]
  },
  {
   "cell_type": "code",
   "execution_count": 62,
   "id": "a5774099-f94a-4b3a-bcff-5ccf661be8c3",
   "metadata": {},
   "outputs": [
    {
     "data": {
      "text/plain": [
       "'Welcome'"
      ]
     },
     "execution_count": 62,
     "metadata": {},
     "output_type": "execute_result"
    }
   ],
   "source": [
    "my_str[0:7]"
   ]
  },
  {
   "cell_type": "code",
   "execution_count": 64,
   "id": "61dfdc2b-0dff-4c15-90ed-691d7d3079a3",
   "metadata": {},
   "outputs": [
    {
     "data": {
      "text/plain": [
       "'come'"
      ]
     },
     "execution_count": 64,
     "metadata": {},
     "output_type": "execute_result"
    }
   ],
   "source": [
    "my_str[3:7]"
   ]
  },
  {
   "cell_type": "code",
   "execution_count": 151,
   "id": "24f0f191-e2d8-446a-9ebe-63569db8848b",
   "metadata": {},
   "outputs": [
    {
     "data": {
      "text/plain": [
       "'o '"
      ]
     },
     "execution_count": 151,
     "metadata": {},
     "output_type": "execute_result"
    }
   ],
   "source": [
    "my_str[9:11]"
   ]
  },
  {
   "cell_type": "code",
   "execution_count": 68,
   "id": "012780fa-39b2-486a-bc1f-a88ce5fb13c6",
   "metadata": {},
   "outputs": [
    {
     "data": {
      "text/plain": [
       "' to '"
      ]
     },
     "execution_count": 68,
     "metadata": {},
     "output_type": "execute_result"
    }
   ],
   "source": [
    "my_str[7:11]"
   ]
  },
  {
   "cell_type": "code",
   "execution_count": 70,
   "id": "87a6d74e-b14b-4250-9106-edc8e48104c2",
   "metadata": {},
   "outputs": [
    {
     "data": {
      "text/plain": [
       "'to The'"
      ]
     },
     "execution_count": 70,
     "metadata": {},
     "output_type": "execute_result"
    }
   ],
   "source": [
    "my_str[8:14]"
   ]
  },
  {
   "cell_type": "code",
   "execution_count": 153,
   "id": "ec7e31f6-6304-467b-a342-70a615606954",
   "metadata": {},
   "outputs": [
    {
     "data": {
      "text/plain": [
       "'welcome to the Delhi'"
      ]
     },
     "execution_count": 153,
     "metadata": {},
     "output_type": "execute_result"
    }
   ],
   "source": [
    "my_str"
   ]
  },
  {
   "cell_type": "code",
   "execution_count": 155,
   "id": "251c62c3-80bc-4e2f-93f0-f26d68bd3914",
   "metadata": {},
   "outputs": [
    {
     "data": {
      "text/plain": [
       "'come to the Delhi'"
      ]
     },
     "execution_count": 155,
     "metadata": {},
     "output_type": "execute_result"
    }
   ],
   "source": [
    "my_str[3:21]"
   ]
  },
  {
   "cell_type": "code",
   "execution_count": 76,
   "id": "3525bf74-f3fb-4ea6-9e56-aac7d331a8e1",
   "metadata": {},
   "outputs": [
    {
     "data": {
      "text/plain": [
       "'come to The Python'"
      ]
     },
     "execution_count": 76,
     "metadata": {},
     "output_type": "execute_result"
    }
   ],
   "source": [
    "my_str[3:21]"
   ]
  },
  {
   "cell_type": "code",
   "execution_count": 78,
   "id": "32bf308a-fdac-4b28-85d8-2c7877142c6e",
   "metadata": {},
   "outputs": [
    {
     "data": {
      "text/plain": [
       "'Welcome to The Python'"
      ]
     },
     "execution_count": 78,
     "metadata": {},
     "output_type": "execute_result"
    }
   ],
   "source": [
    "my_str"
   ]
  },
  {
   "cell_type": "code",
   "execution_count": 157,
   "id": "b4b2a95e-b66c-4a10-b02e-4ac5ed64ffd0",
   "metadata": {},
   "outputs": [
    {
     "data": {
      "text/plain": [
       "'lmtt l'"
      ]
     },
     "execution_count": 157,
     "metadata": {},
     "output_type": "execute_result"
    }
   ],
   "source": [
    "my_str[2::3]"
   ]
  },
  {
   "cell_type": "code",
   "execution_count": 159,
   "id": "adaa4389-6ed8-47f7-946d-0aa8034d837b",
   "metadata": {},
   "outputs": [
    {
     "data": {
      "text/plain": [
       "'lco'"
      ]
     },
     "execution_count": 159,
     "metadata": {},
     "output_type": "execute_result"
    }
   ],
   "source": [
    "my_str[2:5]"
   ]
  },
  {
   "cell_type": "code",
   "execution_count": 80,
   "id": "418534fc-5f82-45df-99e8-66b427906fc5",
   "metadata": {},
   "outputs": [
    {
     "data": {
      "text/plain": [
       "'lmtT tn'"
      ]
     },
     "execution_count": 80,
     "metadata": {},
     "output_type": "execute_result"
    }
   ],
   "source": [
    "my_str[2::3]"
   ]
  },
  {
   "cell_type": "code",
   "execution_count": 86,
   "id": "80b247a0-098f-42ff-a91a-d337ac6c471f",
   "metadata": {},
   "outputs": [
    {
     "data": {
      "text/plain": [
       "'lco'"
      ]
     },
     "execution_count": 86,
     "metadata": {},
     "output_type": "execute_result"
    }
   ],
   "source": [
    "my_str[2:5]"
   ]
  },
  {
   "cell_type": "code",
   "execution_count": 88,
   "id": "0f151729-1e3f-4e6b-82e5-6af090124da9",
   "metadata": {},
   "outputs": [
    {
     "data": {
      "text/plain": [
       "'Welcome to The Python'"
      ]
     },
     "execution_count": 88,
     "metadata": {},
     "output_type": "execute_result"
    }
   ],
   "source": [
    "my_str[:]"
   ]
  },
  {
   "cell_type": "code",
   "execution_count": 161,
   "id": "b1dccbad-8914-409e-9b6b-27b6fbfb5885",
   "metadata": {},
   "outputs": [
    {
     "data": {
      "text/plain": [
       "'welcome to the Delhi'"
      ]
     },
     "execution_count": 161,
     "metadata": {},
     "output_type": "execute_result"
    }
   ],
   "source": [
    "my_str[:]"
   ]
  },
  {
   "cell_type": "code",
   "execution_count": 163,
   "id": "4fb58e20-ddb7-428d-8ab7-7336076ed78d",
   "metadata": {},
   "outputs": [
    {
     "data": {
      "text/plain": [
       "'Delhi'"
      ]
     },
     "execution_count": 163,
     "metadata": {},
     "output_type": "execute_result"
    }
   ],
   "source": [
    "my_str[15:]"
   ]
  },
  {
   "cell_type": "code",
   "execution_count": 90,
   "id": "cb1d4392-d8de-4fd4-948b-38b5bf76b631",
   "metadata": {},
   "outputs": [
    {
     "data": {
      "text/plain": [
       "'Python'"
      ]
     },
     "execution_count": 90,
     "metadata": {},
     "output_type": "execute_result"
    }
   ],
   "source": [
    "my_str[15:]"
   ]
  },
  {
   "cell_type": "code",
   "execution_count": 165,
   "id": "97eee803-cf3a-4d5d-a163-16a5acb34027",
   "metadata": {},
   "outputs": [
    {
     "data": {
      "text/plain": [
       "'ihleD eht ot emoclew'"
      ]
     },
     "execution_count": 165,
     "metadata": {},
     "output_type": "execute_result"
    }
   ],
   "source": [
    "my_str[::-1]"
   ]
  },
  {
   "cell_type": "code",
   "execution_count": 167,
   "id": "c95942d5-a49e-4647-9cdb-05079840f494",
   "metadata": {},
   "outputs": [
    {
     "data": {
      "text/plain": [
       "'ihleD '"
      ]
     },
     "execution_count": 167,
     "metadata": {},
     "output_type": "execute_result"
    }
   ],
   "source": [
    "my_str[-1:-7:-1]"
   ]
  },
  {
   "cell_type": "code",
   "execution_count": 92,
   "id": "8071e596-dd62-41b3-abc6-1d36720b7a02",
   "metadata": {},
   "outputs": [
    {
     "data": {
      "text/plain": [
       "'nohtyP'"
      ]
     },
     "execution_count": 92,
     "metadata": {},
     "output_type": "execute_result"
    }
   ],
   "source": [
    "my_str[-1:-7:-1]"
   ]
  },
  {
   "cell_type": "code",
   "execution_count": null,
   "id": "35baa5d1-5a3d-46c5-a8d2-2c5d8d2dae58",
   "metadata": {},
   "outputs": [],
   "source": []
  },
  {
   "cell_type": "code",
   "execution_count": 101,
   "id": "4345dc0c-1fc1-4a7d-9f1e-a54dc5c8dff2",
   "metadata": {},
   "outputs": [],
   "source": [
    "# To remove any string: [::-1]"
   ]
  },
  {
   "cell_type": "code",
   "execution_count": 169,
   "id": "ad7fd2a1-91ba-4586-ac72-e5516bd1b169",
   "metadata": {},
   "outputs": [
    {
     "data": {
      "text/plain": [
       "'ihleD eht ot emoclew'"
      ]
     },
     "execution_count": 169,
     "metadata": {},
     "output_type": "execute_result"
    }
   ],
   "source": [
    "my_str[::-1]"
   ]
  },
  {
   "cell_type": "code",
   "execution_count": 171,
   "id": "bfe1575d-2ff8-4a3f-98ec-51b13e151395",
   "metadata": {},
   "outputs": [
    {
     "data": {
      "text/plain": [
       "'ihleD eht ot emoclew'"
      ]
     },
     "execution_count": 171,
     "metadata": {},
     "output_type": "execute_result"
    }
   ],
   "source": [
    "my_str[::-1]"
   ]
  },
  {
   "cell_type": "code",
   "execution_count": 103,
   "id": "3ce60810-4fe7-41f8-8e7b-0d09ea93ee3e",
   "metadata": {},
   "outputs": [
    {
     "data": {
      "text/plain": [
       "'nohtyP ehT ot emocleW'"
      ]
     },
     "execution_count": 103,
     "metadata": {},
     "output_type": "execute_result"
    }
   ],
   "source": [
    "my_str[::-1]"
   ]
  },
  {
   "cell_type": "code",
   "execution_count": 109,
   "id": "daa020fe-1f97-4cd1-a0b8-5b827ba67e27",
   "metadata": {},
   "outputs": [
    {
     "data": {
      "text/plain": [
       "'nohtyP ehT ot emocleW'"
      ]
     },
     "execution_count": 109,
     "metadata": {},
     "output_type": "execute_result"
    }
   ],
   "source": [
    "my_str[::-1]"
   ]
  },
  {
   "cell_type": "code",
   "execution_count": 111,
   "id": "c735c6b7-46fc-4637-a894-8cc6f3cbfc28",
   "metadata": {},
   "outputs": [
    {
     "data": {
      "text/plain": [
       "'nohtyP ehT ot emocleW'"
      ]
     },
     "execution_count": 111,
     "metadata": {},
     "output_type": "execute_result"
    }
   ],
   "source": [
    "my_str[::-1]"
   ]
  },
  {
   "cell_type": "code",
   "execution_count": 128,
   "id": "eb505883-a832-4380-b85e-d9112150aa77",
   "metadata": {},
   "outputs": [
    {
     "data": {
      "text/plain": [
       "'welcome to the world'"
      ]
     },
     "execution_count": 128,
     "metadata": {},
     "output_type": "execute_result"
    }
   ],
   "source": [
    "my_str"
   ]
  },
  {
   "cell_type": "code",
   "execution_count": 173,
   "id": "84898d8c-92cc-4ef3-9719-02c6d5474360",
   "metadata": {},
   "outputs": [
    {
     "data": {
      "text/plain": [
       "'welcome to the Delhi'"
      ]
     },
     "execution_count": 173,
     "metadata": {},
     "output_type": "execute_result"
    }
   ],
   "source": [
    "my_str"
   ]
  },
  {
   "cell_type": "code",
   "execution_count": 11,
   "id": "baf3b3f2-aba3-4998-aba4-b3b0d37c3795",
   "metadata": {},
   "outputs": [
    {
     "name": "stdout",
     "output_type": "stream",
     "text": [
      "W\n",
      "e\n",
      "l\n",
      "c\n",
      "o\n",
      "m\n",
      "e\n",
      " \n",
      "t\n",
      "o\n",
      " \n",
      "t\n",
      "h\n",
      "e\n",
      " \n",
      "c\n",
      "o\n",
      "u\n",
      "r\n",
      "s\n",
      "e\n"
     ]
    }
   ],
   "source": [
    "for i in range(len(my_str)):\n",
    "    print(my_str[i])"
   ]
  },
  {
   "cell_type": "code",
   "execution_count": 175,
   "id": "4783717f-87f2-43b5-be3b-bdc551fb5c64",
   "metadata": {},
   "outputs": [
    {
     "name": "stdout",
     "output_type": "stream",
     "text": [
      "w\n",
      "e\n",
      "l\n",
      "c\n",
      "o\n",
      "m\n",
      "e\n",
      " \n",
      "t\n",
      "o\n",
      " \n",
      "t\n",
      "h\n",
      "e\n",
      " \n",
      "D\n",
      "e\n",
      "l\n",
      "h\n",
      "i\n"
     ]
    }
   ],
   "source": [
    "for i in range(len(my_str)):\n",
    "    print(my_str[i])"
   ]
  },
  {
   "cell_type": "code",
   "execution_count": 177,
   "id": "bed8a5ab-b7b5-4e8d-a40e-48112bb08cd7",
   "metadata": {},
   "outputs": [
    {
     "name": "stdout",
     "output_type": "stream",
     "text": [
      "w\n",
      "e\n",
      "l\n",
      "c\n",
      "o\n",
      "m\n",
      "e\n",
      " \n",
      "t\n",
      "o\n",
      " \n",
      "t\n",
      "h\n",
      "e\n",
      " \n",
      "D\n",
      "e\n",
      "l\n",
      "h\n",
      "i\n"
     ]
    }
   ],
   "source": [
    "for i in range(len(my_str)):\n",
    "    print(my_str[i])\n"
   ]
  },
  {
   "cell_type": "code",
   "execution_count": 179,
   "id": "6a11e3c6-79f9-4451-914d-7c5346729d11",
   "metadata": {},
   "outputs": [
    {
     "name": "stdout",
     "output_type": "stream",
     "text": [
      "w\n",
      "e\n",
      "l\n",
      "c\n",
      "o\n",
      "m\n",
      "e\n",
      " \n",
      "t\n",
      "o\n",
      " \n",
      "t\n",
      "h\n",
      "e\n",
      " \n",
      "D\n",
      "e\n",
      "l\n",
      "h\n",
      "i\n"
     ]
    }
   ],
   "source": [
    "for i in range(len(my_str)):\n",
    "    print(my_str[i])"
   ]
  },
  {
   "cell_type": "code",
   "execution_count": 132,
   "id": "8d640331-a218-44f6-b26d-39e53d0e87bd",
   "metadata": {},
   "outputs": [
    {
     "name": "stdout",
     "output_type": "stream",
     "text": [
      "w\n",
      "e\n",
      "l\n",
      "c\n",
      "o\n",
      "m\n",
      "e\n",
      " \n",
      "t\n",
      "o\n",
      " \n",
      "t\n",
      "h\n",
      "e\n",
      " \n",
      "w\n",
      "o\n",
      "r\n",
      "l\n",
      "d\n"
     ]
    }
   ],
   "source": [
    "for i in range(len(my_str)):\n",
    "    print(my_str[i])"
   ]
  },
  {
   "cell_type": "code",
   "execution_count": 15,
   "id": "7422703e-aacc-4118-b693-0d0a800dbc84",
   "metadata": {},
   "outputs": [
    {
     "name": "stdout",
     "output_type": "stream",
     "text": [
      "W\n",
      "e\n",
      "l\n",
      "c\n",
      "o\n",
      "m\n",
      "e\n",
      " \n",
      "t\n",
      "o\n",
      " \n",
      "t\n",
      "h\n",
      "e\n",
      " \n",
      "c\n",
      "o\n",
      "u\n",
      "r\n",
      "s\n",
      "e\n"
     ]
    }
   ],
   "source": [
    "for i in range(len(my_str)):\n",
    "    print(my_str[i])"
   ]
  },
  {
   "cell_type": "code",
   "execution_count": 134,
   "id": "3df47234-cd25-49ed-9ddf-e5534e6186bd",
   "metadata": {},
   "outputs": [
    {
     "name": "stdout",
     "output_type": "stream",
     "text": [
      "w\n",
      "e\n",
      "l\n",
      "c\n",
      "o\n",
      "m\n",
      "e\n",
      " \n",
      "t\n",
      "o\n",
      " \n",
      "t\n",
      "h\n",
      "e\n",
      " \n",
      "w\n",
      "o\n",
      "r\n",
      "l\n",
      "d\n"
     ]
    }
   ],
   "source": [
    "for i in range(len(my_str)):\n",
    "    print(my_str[i])"
   ]
  },
  {
   "cell_type": "code",
   "execution_count": 183,
   "id": "c14dbad6-e446-40d1-9c3a-85e251b429d8",
   "metadata": {},
   "outputs": [
    {
     "name": "stdout",
     "output_type": "stream",
     "text": [
      "w\n",
      "e\n",
      "l\n",
      "c\n",
      "o\n",
      "m\n",
      "e\n",
      " \n",
      "t\n",
      "o\n",
      " \n",
      "t\n",
      "h\n",
      "e\n",
      " \n",
      "D\n",
      "e\n",
      "l\n",
      "h\n",
      "i\n"
     ]
    }
   ],
   "source": [
    "for i in range(len(my_str)):\n",
    "    print(my_str[i])"
   ]
  },
  {
   "cell_type": "code",
   "execution_count": 185,
   "id": "27cd5b71-7853-4143-a489-be712db63e07",
   "metadata": {},
   "outputs": [
    {
     "name": "stdout",
     "output_type": "stream",
     "text": [
      "w\n",
      "e\n",
      "l\n",
      "c\n",
      "o\n",
      "m\n",
      "e\n",
      " \n",
      "t\n",
      "o\n",
      " \n",
      "t\n",
      "h\n",
      "e\n",
      " \n",
      "D\n",
      "e\n",
      "l\n",
      "h\n",
      "i\n"
     ]
    }
   ],
   "source": [
    "for i in range(len(my_str)):\n",
    "    print(my_str[i])"
   ]
  },
  {
   "cell_type": "code",
   "execution_count": 126,
   "id": "17cf66c7-3de0-4d92-bd33-459d96df4932",
   "metadata": {},
   "outputs": [],
   "source": [
    "# for: loops possible:"
   ]
  },
  {
   "cell_type": "code",
   "execution_count": 187,
   "id": "022dc6bf-0991-4599-afc1-a151cd483e1e",
   "metadata": {},
   "outputs": [
    {
     "data": {
      "text/plain": [
       "'welcome to the Delhi'"
      ]
     },
     "execution_count": 187,
     "metadata": {},
     "output_type": "execute_result"
    }
   ],
   "source": [
    "my_str"
   ]
  },
  {
   "cell_type": "code",
   "execution_count": 191,
   "id": "470ebb34-9896-44a3-b341-372832218aca",
   "metadata": {},
   "outputs": [
    {
     "name": "stdout",
     "output_type": "stream",
     "text": [
      "w\n",
      "e\n",
      "l\n",
      "c\n",
      "o\n",
      "m\n",
      "e\n",
      " \n",
      "t\n",
      "o\n",
      " \n",
      "t\n",
      "h\n",
      "e\n",
      " \n",
      "D\n",
      "e\n",
      "l\n",
      "h\n",
      "i\n"
     ]
    }
   ],
   "source": [
    "for i in range(len(my_str)):\n",
    "    print(my_str[i])"
   ]
  },
  {
   "cell_type": "code",
   "execution_count": 17,
   "id": "5d4cabce-fe71-4af2-89d4-762e70c1a5c1",
   "metadata": {},
   "outputs": [
    {
     "data": {
      "text/plain": [
       "'Welcome to the course'"
      ]
     },
     "execution_count": 17,
     "metadata": {},
     "output_type": "execute_result"
    }
   ],
   "source": [
    "my_str"
   ]
  },
  {
   "cell_type": "code",
   "execution_count": 116,
   "id": "9a028d93-2d4d-46ef-8a84-09653cea8255",
   "metadata": {},
   "outputs": [
    {
     "data": {
      "text/plain": [
       "'Welcome to The Python'"
      ]
     },
     "execution_count": 116,
     "metadata": {},
     "output_type": "execute_result"
    }
   ],
   "source": [
    "my_str"
   ]
  },
  {
   "cell_type": "code",
   "execution_count": 118,
   "id": "0c800d2e-1b88-4e71-b96b-81f1d9d06a2e",
   "metadata": {},
   "outputs": [
    {
     "name": "stdout",
     "output_type": "stream",
     "text": [
      "W\n",
      "e\n",
      "l\n",
      "c\n",
      "o\n",
      "m\n",
      "e\n",
      " \n",
      "t\n",
      "o\n",
      " \n",
      "T\n",
      "h\n",
      "e\n",
      " \n",
      "P\n",
      "y\n",
      "t\n",
      "h\n",
      "o\n",
      "n\n"
     ]
    }
   ],
   "source": [
    "for i in range(len(my_str)):\n",
    "    print(my_str[i])"
   ]
  },
  {
   "cell_type": "code",
   "execution_count": 120,
   "id": "230fddca-ce3b-4663-b90d-8dd5884b7378",
   "metadata": {},
   "outputs": [
    {
     "name": "stdout",
     "output_type": "stream",
     "text": [
      "W\n",
      "e\n",
      "l\n",
      "c\n",
      "o\n",
      "m\n",
      "e\n",
      " \n",
      "t\n",
      "o\n",
      " \n",
      "T\n",
      "h\n",
      "e\n",
      " \n",
      "P\n",
      "y\n",
      "t\n",
      "h\n",
      "o\n",
      "n\n"
     ]
    }
   ],
   "source": [
    "for i in range(len(my_str)):\n",
    "    print(my_str[i])"
   ]
  },
  {
   "cell_type": "code",
   "execution_count": 195,
   "id": "a7046b55-7548-48ff-a984-47ee944333e8",
   "metadata": {},
   "outputs": [
    {
     "name": "stdout",
     "output_type": "stream",
     "text": [
      "w\n",
      "e\n",
      "l\n",
      "c\n",
      "o\n",
      "m\n",
      "e\n",
      " \n",
      "t\n",
      "o\n",
      " \n",
      "t\n",
      "h\n",
      "e\n",
      " \n",
      "D\n",
      "e\n",
      "l\n",
      "h\n",
      "i\n"
     ]
    }
   ],
   "source": [
    "for i in my_str:\n",
    "    print(i)"
   ]
  },
  {
   "cell_type": "code",
   "execution_count": 199,
   "id": "0c5468bd-e175-4836-842e-7374fc34d1a3",
   "metadata": {},
   "outputs": [
    {
     "name": "stdout",
     "output_type": "stream",
     "text": [
      "w\n",
      "e\n",
      "l\n",
      "c\n",
      "o\n",
      "m\n",
      "e\n",
      " \n",
      "t\n",
      "o\n",
      " \n",
      "t\n",
      "h\n",
      "e\n",
      " \n",
      "D\n",
      "e\n",
      "l\n",
      "h\n",
      "i\n"
     ]
    }
   ],
   "source": [
    "for i in my_str:\n",
    "    print(i)"
   ]
  },
  {
   "cell_type": "code",
   "execution_count": 136,
   "id": "fda13a31-07a0-4830-abe7-7f4c64a9123f",
   "metadata": {},
   "outputs": [
    {
     "name": "stdout",
     "output_type": "stream",
     "text": [
      "w\n",
      "e\n",
      "l\n",
      "c\n",
      "o\n",
      "m\n",
      "e\n",
      " \n",
      "t\n",
      "o\n",
      " \n",
      "t\n",
      "h\n",
      "e\n",
      " \n",
      "w\n",
      "o\n",
      "r\n",
      "l\n",
      "d\n"
     ]
    }
   ],
   "source": [
    "for i in my_str:\n",
    "    print(i)"
   ]
  },
  {
   "cell_type": "code",
   "execution_count": 122,
   "id": "ff56ca2c-b72e-42de-99b1-c45d3bd536f3",
   "metadata": {},
   "outputs": [
    {
     "name": "stdout",
     "output_type": "stream",
     "text": [
      "W\n",
      "e\n",
      "l\n",
      "c\n",
      "o\n",
      "m\n",
      "e\n",
      " \n",
      "t\n",
      "o\n",
      " \n",
      "T\n",
      "h\n",
      "e\n",
      " \n",
      "P\n",
      "y\n",
      "t\n",
      "h\n",
      "o\n",
      "n\n"
     ]
    }
   ],
   "source": [
    "for i in my_str:\n",
    "    print(i)"
   ]
  },
  {
   "cell_type": "code",
   "execution_count": 29,
   "id": "ee622dbd-985b-42da-aae0-4445beaa0e8e",
   "metadata": {},
   "outputs": [
    {
     "name": "stdout",
     "output_type": "stream",
     "text": [
      "W\n",
      "e\n",
      "l\n",
      "c\n",
      "o\n",
      "m\n",
      "e\n",
      " \n",
      "t\n",
      "o\n",
      " \n",
      "t\n",
      "h\n",
      "e\n",
      " \n",
      "c\n",
      "o\n",
      "u\n",
      "r\n",
      "s\n",
      "e\n"
     ]
    }
   ],
   "source": [
    "for i in (my_str):\n",
    "    print(i)"
   ]
  },
  {
   "cell_type": "code",
   "execution_count": 125,
   "id": "fa2db89c-cf4d-4e7b-bb54-451bb4603fd0",
   "metadata": {},
   "outputs": [
    {
     "data": {
      "text/plain": [
       "'Welcome to The Python'"
      ]
     },
     "execution_count": 125,
     "metadata": {},
     "output_type": "execute_result"
    }
   ],
   "source": [
    "my_str"
   ]
  },
  {
   "cell_type": "code",
   "execution_count": 142,
   "id": "ef45217f-17f9-4aba-8283-4f63d8999550",
   "metadata": {},
   "outputs": [
    {
     "name": "stdout",
     "output_type": "stream",
     "text": [
      "w\n",
      "e\n",
      "l\n",
      "c\n",
      "o\n",
      "m\n",
      "e\n",
      " \n",
      "t\n",
      "o\n",
      " \n",
      "t\n",
      "h\n",
      "e\n",
      " \n",
      "w\n",
      "o\n",
      "r\n",
      "l\n",
      "d\n"
     ]
    }
   ],
   "source": [
    "for i in range(len(my_str)):\n",
    "    print(my_str[i])"
   ]
  },
  {
   "cell_type": "code",
   "execution_count": 129,
   "id": "18d1655c-4674-4418-9d18-67743a6d71dc",
   "metadata": {},
   "outputs": [
    {
     "name": "stdout",
     "output_type": "stream",
     "text": [
      "W\n",
      "e\n",
      "l\n",
      "c\n",
      "o\n",
      "m\n",
      "e\n",
      " \n",
      "t\n",
      "o\n",
      " \n",
      "T\n",
      "h\n",
      "e\n",
      " \n",
      "P\n",
      "y\n",
      "t\n",
      "h\n",
      "o\n",
      "n\n"
     ]
    }
   ],
   "source": [
    "for i in range(len(my_str)):\n",
    "    print(my_str[i])"
   ]
  },
  {
   "cell_type": "code",
   "execution_count": 156,
   "id": "8692b8c6-ba84-4c47-8c73-e5095e156a56",
   "metadata": {},
   "outputs": [],
   "source": [
    "d = \"vivobook\""
   ]
  },
  {
   "cell_type": "code",
   "execution_count": 158,
   "id": "797a139d-e3eb-43dd-aff9-5afae12ab9de",
   "metadata": {},
   "outputs": [
    {
     "name": "stdout",
     "output_type": "stream",
     "text": [
      "v\n",
      "i\n",
      "v\n",
      "o\n",
      "b\n",
      "o\n",
      "o\n",
      "k\n"
     ]
    }
   ],
   "source": [
    "for i in d:\n",
    "    print(i)"
   ]
  },
  {
   "cell_type": "code",
   "execution_count": 201,
   "id": "be96506f-f108-4b73-a897-ca1ec6e492dd",
   "metadata": {},
   "outputs": [],
   "source": [
    "c = \"beautiful\""
   ]
  },
  {
   "cell_type": "code",
   "execution_count": 205,
   "id": "5cd72a9f-df7d-4919-a28a-5802f030b5f9",
   "metadata": {},
   "outputs": [
    {
     "name": "stdout",
     "output_type": "stream",
     "text": [
      "b\n",
      "e\n",
      "a\n",
      "u\n",
      "t\n",
      "i\n",
      "f\n",
      "u\n",
      "l\n"
     ]
    }
   ],
   "source": [
    "for i in c:\n",
    "    print(i)"
   ]
  },
  {
   "cell_type": "code",
   "execution_count": 207,
   "id": "e0acd5bd-6c05-4bf0-92ab-349470ab59e0",
   "metadata": {},
   "outputs": [
    {
     "name": "stdout",
     "output_type": "stream",
     "text": [
      "b\n",
      "e\n",
      "a\n",
      "u\n",
      "t\n",
      "i\n",
      "f\n",
      "u\n",
      "l\n"
     ]
    }
   ],
   "source": [
    "for i in c:\n",
    "    print(i)"
   ]
  },
  {
   "cell_type": "code",
   "execution_count": 209,
   "id": "c18720bf-cfe2-4615-85dc-761ff55584c6",
   "metadata": {},
   "outputs": [],
   "source": [
    "d = \"NEW DELHI\""
   ]
  },
  {
   "cell_type": "code",
   "execution_count": 211,
   "id": "26cd2a90-209f-4d27-b210-39c954e1d534",
   "metadata": {},
   "outputs": [
    {
     "name": "stdout",
     "output_type": "stream",
     "text": [
      "N\n",
      "E\n",
      "W\n",
      " \n",
      "D\n",
      "E\n",
      "L\n",
      "H\n",
      "I\n"
     ]
    }
   ],
   "source": [
    "for i in d:\n",
    "    print(i)"
   ]
  },
  {
   "cell_type": "code",
   "execution_count": 213,
   "id": "96dcd914-55d6-4b01-957c-a43fb8d63ca1",
   "metadata": {},
   "outputs": [
    {
     "name": "stdout",
     "output_type": "stream",
     "text": [
      "b\n",
      "e\n",
      "a\n",
      "u\n",
      "t\n",
      "i\n",
      "f\n",
      "u\n",
      "l\n"
     ]
    }
   ],
   "source": [
    "for i in c:\n",
    "    print(i)"
   ]
  },
  {
   "cell_type": "code",
   "execution_count": 152,
   "id": "6a3b7c09-a802-4521-ada2-626613bbf98b",
   "metadata": {},
   "outputs": [],
   "source": [
    "a = \"wonderful\""
   ]
  },
  {
   "cell_type": "code",
   "execution_count": 154,
   "id": "76e1e14a-d3c6-4f66-815d-91a997cbb549",
   "metadata": {},
   "outputs": [
    {
     "name": "stdout",
     "output_type": "stream",
     "text": [
      "w\n",
      "o\n",
      "n\n",
      "d\n",
      "e\n",
      "r\n",
      "f\n",
      "u\n",
      "l\n"
     ]
    }
   ],
   "source": [
    "for i in a:\n",
    "    print(i)"
   ]
  },
  {
   "cell_type": "code",
   "execution_count": 5,
   "id": "a8709713-65ce-44b3-90c8-f5de36111fbf",
   "metadata": {},
   "outputs": [],
   "source": [
    "k = 'computer'"
   ]
  },
  {
   "cell_type": "code",
   "execution_count": 7,
   "id": "8cd6c812-ec6a-48b8-9e80-a5cc20d9cbd1",
   "metadata": {},
   "outputs": [
    {
     "name": "stdout",
     "output_type": "stream",
     "text": [
      "c\n",
      "o\n",
      "m\n",
      "p\n",
      "u\n",
      "t\n",
      "e\n",
      "r\n"
     ]
    }
   ],
   "source": [
    "for i in k:\n",
    "    print(i)"
   ]
  },
  {
   "cell_type": "code",
   "execution_count": 160,
   "id": "127ccf1d-c38c-40f2-be70-d7276ce44631",
   "metadata": {},
   "outputs": [
    {
     "name": "stdout",
     "output_type": "stream",
     "text": [
      "w\n",
      "e\n",
      "l\n",
      "c\n",
      "o\n",
      "m\n",
      "e\n",
      " \n",
      "t\n",
      "o\n",
      " \n",
      "t\n",
      "h\n",
      "e\n",
      " \n",
      "w\n",
      "o\n",
      "r\n",
      "l\n",
      "d\n"
     ]
    }
   ],
   "source": [
    "for i in (my_str):\n",
    "    print(i)"
   ]
  },
  {
   "cell_type": "code",
   "execution_count": 15,
   "id": "e5d65b72-4364-4a87-b9fa-f9cc52dfb365",
   "metadata": {},
   "outputs": [
    {
     "name": "stdout",
     "output_type": "stream",
     "text": [
      "W\n",
      "e\n",
      "l\n",
      "c\n",
      "o\n",
      "m\n",
      "e\n",
      " \n",
      "t\n",
      "o\n",
      " \n",
      "t\n",
      "h\n",
      "e\n",
      " \n",
      "P\n",
      "y\n",
      "t\n",
      "h\n",
      "o\n",
      "n\n"
     ]
    }
   ],
   "source": [
    "for i in \"Welcome to the Python\":\n",
    "    print(i)"
   ]
  },
  {
   "cell_type": "code",
   "execution_count": 215,
   "id": "6674691d-4a29-4808-97e9-db059f69342e",
   "metadata": {},
   "outputs": [
    {
     "data": {
      "text/plain": [
       "'welcome to the Delhi'"
      ]
     },
     "execution_count": 215,
     "metadata": {},
     "output_type": "execute_result"
    }
   ],
   "source": [
    "my_str"
   ]
  },
  {
   "cell_type": "code",
   "execution_count": 217,
   "id": "fc57bfe0-bc72-4b47-9d94-4de338b3f99f",
   "metadata": {},
   "outputs": [
    {
     "name": "stdout",
     "output_type": "stream",
     "text": [
      "[0]\n",
      "[1]\n",
      "[2]\n",
      "[3]\n",
      "[4]\n",
      "[5]\n",
      "[6]\n",
      "[7]\n",
      "[8]\n",
      "[9]\n",
      "[10]\n",
      "[11]\n",
      "[12]\n",
      "[13]\n",
      "[14]\n",
      "[15]\n",
      "[16]\n",
      "[17]\n",
      "[18]\n",
      "[19]\n"
     ]
    }
   ],
   "source": [
    "for i in range(len(my_str)):\n",
    "    print([i])"
   ]
  },
  {
   "cell_type": "code",
   "execution_count": 1,
   "id": "27cb2316-611a-429d-aff1-4c089923eff9",
   "metadata": {},
   "outputs": [],
   "source": [
    "my_str = \"Welcome to The Course\""
   ]
  },
  {
   "cell_type": "code",
   "execution_count": 219,
   "id": "ea2e1e3c-79c8-40e5-94cc-06642db9f5f2",
   "metadata": {},
   "outputs": [
    {
     "data": {
      "text/plain": [
       "'welcome to the Delhi'"
      ]
     },
     "execution_count": 219,
     "metadata": {},
     "output_type": "execute_result"
    }
   ],
   "source": [
    "my_str"
   ]
  },
  {
   "cell_type": "code",
   "execution_count": 221,
   "id": "4c02ee38-e6c8-448e-8cef-e9fa0c213dd9",
   "metadata": {},
   "outputs": [
    {
     "data": {
      "text/plain": [
       "True"
      ]
     },
     "execution_count": 221,
     "metadata": {},
     "output_type": "execute_result"
    }
   ],
   "source": [
    "\"D\" in my_str"
   ]
  },
  {
   "cell_type": "code",
   "execution_count": 3,
   "id": "98e8dbf0-a3df-4f44-a3b3-8e948b540f82",
   "metadata": {},
   "outputs": [
    {
     "data": {
      "text/plain": [
       "'Welcome to The Course'"
      ]
     },
     "execution_count": 3,
     "metadata": {},
     "output_type": "execute_result"
    }
   ],
   "source": [
    "my_str"
   ]
  },
  {
   "cell_type": "code",
   "execution_count": 5,
   "id": "d18b4ce0-408b-43cb-a191-2d77cf4e5e8e",
   "metadata": {},
   "outputs": [
    {
     "data": {
      "text/plain": [
       "True"
      ]
     },
     "execution_count": 5,
     "metadata": {},
     "output_type": "execute_result"
    }
   ],
   "source": [
    "\"c\" in my_str"
   ]
  },
  {
   "cell_type": "code",
   "execution_count": 7,
   "id": "b82b0751-917a-4f00-b8c1-71feb2d396d1",
   "metadata": {},
   "outputs": [
    {
     "data": {
      "text/plain": [
       "True"
      ]
     },
     "execution_count": 7,
     "metadata": {},
     "output_type": "execute_result"
    }
   ],
   "source": [
    "\"k\" not in my_str"
   ]
  },
  {
   "cell_type": "code",
   "execution_count": 9,
   "id": "8b183c02-ca50-4b36-99c9-0eaeade8420d",
   "metadata": {},
   "outputs": [
    {
     "data": {
      "text/plain": [
       "True"
      ]
     },
     "execution_count": 9,
     "metadata": {},
     "output_type": "execute_result"
    }
   ],
   "source": [
    "\"m\" in my_str"
   ]
  },
  {
   "cell_type": "code",
   "execution_count": 11,
   "id": "4f673c2f-5138-430b-8119-1cd30b585eeb",
   "metadata": {},
   "outputs": [
    {
     "data": {
      "text/plain": [
       "False"
      ]
     },
     "execution_count": 11,
     "metadata": {},
     "output_type": "execute_result"
    }
   ],
   "source": [
    "\"f\" in my_str"
   ]
  },
  {
   "cell_type": "code",
   "execution_count": 13,
   "id": "9f751867-0280-4808-bef3-6f9e327767f3",
   "metadata": {},
   "outputs": [
    {
     "data": {
      "text/plain": [
       "False"
      ]
     },
     "execution_count": 13,
     "metadata": {},
     "output_type": "execute_result"
    }
   ],
   "source": [
    "\"d\" in my_str"
   ]
  },
  {
   "cell_type": "code",
   "execution_count": 164,
   "id": "39cc512e-cd86-413c-8763-f4e9ee90b176",
   "metadata": {},
   "outputs": [
    {
     "data": {
      "text/plain": [
       "'Welcome to The Course'"
      ]
     },
     "execution_count": 164,
     "metadata": {},
     "output_type": "execute_result"
    }
   ],
   "source": [
    "my_str"
   ]
  },
  {
   "cell_type": "code",
   "execution_count": 166,
   "id": "57a07cee-5e35-47f5-85b7-fbbfb2c96cfb",
   "metadata": {},
   "outputs": [
    {
     "data": {
      "text/plain": [
       "True"
      ]
     },
     "execution_count": 166,
     "metadata": {},
     "output_type": "execute_result"
    }
   ],
   "source": [
    "\"W\" in my_str"
   ]
  },
  {
   "cell_type": "code",
   "execution_count": 168,
   "id": "505de2e9-6998-4f2a-9da6-5b49f97cd69f",
   "metadata": {},
   "outputs": [
    {
     "data": {
      "text/plain": [
       "False"
      ]
     },
     "execution_count": 168,
     "metadata": {},
     "output_type": "execute_result"
    }
   ],
   "source": [
    "\"W\" not in my_str"
   ]
  },
  {
   "cell_type": "code",
   "execution_count": 170,
   "id": "92b617c0-7d2f-4f9d-a207-042cd921fb94",
   "metadata": {},
   "outputs": [
    {
     "data": {
      "text/plain": [
       "True"
      ]
     },
     "execution_count": 170,
     "metadata": {},
     "output_type": "execute_result"
    }
   ],
   "source": [
    "\"C\" in my_str"
   ]
  },
  {
   "cell_type": "code",
   "execution_count": 17,
   "id": "8f391ffb-9634-428c-82b1-f529444b76bc",
   "metadata": {},
   "outputs": [],
   "source": [
    "# Membership Operator:"
   ]
  },
  {
   "cell_type": "code",
   "execution_count": 15,
   "id": "2328c101-fdf3-472a-8f8e-3420dacacb2a",
   "metadata": {},
   "outputs": [],
   "source": [
    "my_str = \"Welcome to The Python\""
   ]
  },
  {
   "cell_type": "code",
   "execution_count": 27,
   "id": "0000d28f-c762-46e5-8340-66240778c3d6",
   "metadata": {},
   "outputs": [
    {
     "data": {
      "text/plain": [
       "'Welcome to The Python'"
      ]
     },
     "execution_count": 27,
     "metadata": {},
     "output_type": "execute_result"
    }
   ],
   "source": [
    "my_str"
   ]
  },
  {
   "cell_type": "code",
   "execution_count": 29,
   "id": "26cc206a-036a-490d-a06b-763a577e9cb2",
   "metadata": {},
   "outputs": [
    {
     "data": {
      "text/plain": [
       "'Welcome to The Python'"
      ]
     },
     "execution_count": 29,
     "metadata": {},
     "output_type": "execute_result"
    }
   ],
   "source": [
    "my_str"
   ]
  },
  {
   "cell_type": "code",
   "execution_count": 19,
   "id": "45c41726-9f81-41b6-a095-16fd2c44c7e3",
   "metadata": {},
   "outputs": [
    {
     "data": {
      "text/plain": [
       "False"
      ]
     },
     "execution_count": 19,
     "metadata": {},
     "output_type": "execute_result"
    }
   ],
   "source": [
    "\"big\" in my_str"
   ]
  },
  {
   "cell_type": "code",
   "execution_count": 21,
   "id": "8067be7a-b9f1-405f-ad58-ae541c34283e",
   "metadata": {},
   "outputs": [
    {
     "data": {
      "text/plain": [
       "True"
      ]
     },
     "execution_count": 21,
     "metadata": {},
     "output_type": "execute_result"
    }
   ],
   "source": [
    "\"delhi\" not in my_str"
   ]
  },
  {
   "cell_type": "code",
   "execution_count": 31,
   "id": "f2fcb96e-572a-40c0-bc78-2414ded29a72",
   "metadata": {},
   "outputs": [
    {
     "data": {
      "text/plain": [
       "True"
      ]
     },
     "execution_count": 31,
     "metadata": {},
     "output_type": "execute_result"
    }
   ],
   "source": [
    "\"W\" in my_str"
   ]
  },
  {
   "cell_type": "code",
   "execution_count": 33,
   "id": "9cb76c34-4a22-4df9-88f1-8010de22ab59",
   "metadata": {},
   "outputs": [
    {
     "data": {
      "text/plain": [
       "True"
      ]
     },
     "execution_count": 33,
     "metadata": {},
     "output_type": "execute_result"
    }
   ],
   "source": [
    "\"a\" not in my_str"
   ]
  },
  {
   "cell_type": "code",
   "execution_count": 37,
   "id": "1914cf4f-cd7b-49a5-9b7c-2e151482f31e",
   "metadata": {},
   "outputs": [
    {
     "data": {
      "text/plain": [
       "False"
      ]
     },
     "execution_count": 37,
     "metadata": {},
     "output_type": "execute_result"
    }
   ],
   "source": [
    "\"o\" not in my_str"
   ]
  },
  {
   "cell_type": "code",
   "execution_count": 41,
   "id": "2a33ec0c-af0c-4181-810b-aa20beca3cd6",
   "metadata": {},
   "outputs": [
    {
     "data": {
      "text/plain": [
       "True"
      ]
     },
     "execution_count": 41,
     "metadata": {},
     "output_type": "execute_result"
    }
   ],
   "source": [
    "\"very\" not in my_str"
   ]
  },
  {
   "cell_type": "code",
   "execution_count": 43,
   "id": "5d4332ea-c1ef-41bd-843c-151801d0df3f",
   "metadata": {},
   "outputs": [
    {
     "data": {
      "text/plain": [
       "False"
      ]
     },
     "execution_count": 43,
     "metadata": {},
     "output_type": "execute_result"
    }
   ],
   "source": [
    "\"Z\" in my_str"
   ]
  },
  {
   "cell_type": "code",
   "execution_count": 45,
   "id": "e96f0918-f19a-43e6-aae7-1ed0412c0959",
   "metadata": {},
   "outputs": [
    {
     "data": {
      "text/plain": [
       "True"
      ]
     },
     "execution_count": 45,
     "metadata": {},
     "output_type": "execute_result"
    }
   ],
   "source": [
    "\"Z\" not in my_str"
   ]
  },
  {
   "cell_type": "code",
   "execution_count": 23,
   "id": "713a9393-d415-4bb8-b129-6810f19b1444",
   "metadata": {},
   "outputs": [
    {
     "data": {
      "text/plain": [
       "False"
      ]
     },
     "execution_count": 23,
     "metadata": {},
     "output_type": "execute_result"
    }
   ],
   "source": [
    "\"y\" not in my_str"
   ]
  },
  {
   "cell_type": "code",
   "execution_count": 25,
   "id": "4b02f9b7-4257-4273-b4de-e042403eef35",
   "metadata": {},
   "outputs": [
    {
     "data": {
      "text/plain": [
       "False"
      ]
     },
     "execution_count": 25,
     "metadata": {},
     "output_type": "execute_result"
    }
   ],
   "source": [
    "\"s\" in my_str"
   ]
  },
  {
   "cell_type": "code",
   "execution_count": 51,
   "id": "eb5ab6e5-7db6-4208-81b0-5e6c0ee17022",
   "metadata": {},
   "outputs": [
    {
     "data": {
      "text/plain": [
       "False"
      ]
     },
     "execution_count": 51,
     "metadata": {},
     "output_type": "execute_result"
    }
   ],
   "source": [
    "\"c\"  not in my_str`"
   ]
  },
  {
   "cell_type": "code",
   "execution_count": 53,
   "id": "b8252d32-fabe-4ee7-bf77-5fa5a79be90b",
   "metadata": {},
   "outputs": [
    {
     "data": {
      "text/plain": [
       "'Welcome to The Python'"
      ]
     },
     "execution_count": 53,
     "metadata": {},
     "output_type": "execute_result"
    }
   ],
   "source": [
    "my_str"
   ]
  },
  {
   "cell_type": "markdown",
   "id": "c13b5484-16e7-441b-9b62-fa4e18b712af",
   "metadata": {},
   "source": [
    "# Palindrome:\n",
    "* level\n",
    "* refer\n",
    "* madam\n",
    "* rotor\n",
    "* dad\n",
    "      "
   ]
  },
  {
   "cell_type": "markdown",
   "id": "23ccb324-59bd-43ae-92ca-3387c45ea37e",
   "metadata": {},
   "source": [
    "# some important methods"
   ]
  },
  {
   "cell_type": "code",
   "execution_count": 61,
   "id": "570995c7-1b50-41fc-aa98-b6f8455106c9",
   "metadata": {},
   "outputs": [
    {
     "data": {
      "text/plain": [
       "'Welcome to The Python'"
      ]
     },
     "execution_count": 61,
     "metadata": {},
     "output_type": "execute_result"
    }
   ],
   "source": [
    "my_str"
   ]
  },
  {
   "cell_type": "code",
   "execution_count": 63,
   "id": "ff37ba28-979c-4704-93b4-1b72239e01d4",
   "metadata": {},
   "outputs": [
    {
     "data": {
      "text/plain": [
       "'Welcome to The Python'"
      ]
     },
     "execution_count": 63,
     "metadata": {},
     "output_type": "execute_result"
    }
   ],
   "source": [
    "my_str"
   ]
  },
  {
   "cell_type": "code",
   "execution_count": 67,
   "id": "e4c561d1-9bb8-4523-9d28-dc2b45eeb9d0",
   "metadata": {},
   "outputs": [
    {
     "data": {
      "text/plain": [
       "'Welcome to The Python'"
      ]
     },
     "execution_count": 67,
     "metadata": {},
     "output_type": "execute_result"
    }
   ],
   "source": [
    "my_str"
   ]
  },
  {
   "cell_type": "code",
   "execution_count": 27,
   "id": "456bbcf9-0ed3-4362-bbfa-27e903dfd39c",
   "metadata": {},
   "outputs": [],
   "source": [
    "my_str = \"Welcome to the Delhi\""
   ]
  },
  {
   "cell_type": "code",
   "execution_count": 5,
   "id": "80206946-578e-4cd3-9d2f-4cf6b5e03273",
   "metadata": {},
   "outputs": [
    {
     "data": {
      "text/plain": [
       "'Welcome to the Delhi'"
      ]
     },
     "execution_count": 5,
     "metadata": {},
     "output_type": "execute_result"
    }
   ],
   "source": [
    "my_str"
   ]
  },
  {
   "cell_type": "code",
   "execution_count": 7,
   "id": "306b24c9-692e-4b11-b5e6-6c56333214f3",
   "metadata": {},
   "outputs": [
    {
     "data": {
      "text/plain": [
       "'Welcome to the Delhi'"
      ]
     },
     "execution_count": 7,
     "metadata": {},
     "output_type": "execute_result"
    }
   ],
   "source": [
    "my_str"
   ]
  },
  {
   "cell_type": "code",
   "execution_count": 29,
   "id": "f092eac2-7477-48c1-9170-9ad949d44224",
   "metadata": {},
   "outputs": [
    {
     "data": {
      "text/plain": [
       "'Welcome to the Delhi'"
      ]
     },
     "execution_count": 29,
     "metadata": {},
     "output_type": "execute_result"
    }
   ],
   "source": [
    "my_str"
   ]
  },
  {
   "cell_type": "code",
   "execution_count": 31,
   "id": "03f780d0-c474-4cba-a73b-c7e7ee67ac93",
   "metadata": {},
   "outputs": [
    {
     "data": {
      "text/plain": [
       "'WELCOME TO THE DELHI'"
      ]
     },
     "execution_count": 31,
     "metadata": {},
     "output_type": "execute_result"
    }
   ],
   "source": [
    "my_str.upper()"
   ]
  },
  {
   "cell_type": "code",
   "execution_count": 35,
   "id": "4633cafa-f1fa-4869-b402-a286d51679fd",
   "metadata": {},
   "outputs": [
    {
     "data": {
      "text/plain": [
       "'WELCOME TO THE DELHI'"
      ]
     },
     "execution_count": 35,
     "metadata": {},
     "output_type": "execute_result"
    }
   ],
   "source": [
    "my_str.upper()"
   ]
  },
  {
   "cell_type": "code",
   "execution_count": 39,
   "id": "0103affb-0c52-4a1a-8b5a-26fea39def60",
   "metadata": {},
   "outputs": [
    {
     "data": {
      "text/plain": [
       "'WELCOME TO THE DELHI'"
      ]
     },
     "execution_count": 39,
     "metadata": {},
     "output_type": "execute_result"
    }
   ],
   "source": [
    "my_str.upper()"
   ]
  },
  {
   "cell_type": "code",
   "execution_count": 43,
   "id": "beca3f85-126a-41ec-a03d-6c1313cbc15e",
   "metadata": {},
   "outputs": [
    {
     "data": {
      "text/plain": [
       "'WELCOME TO THE DELHI'"
      ]
     },
     "execution_count": 43,
     "metadata": {},
     "output_type": "execute_result"
    }
   ],
   "source": [
    "my_str.upper()"
   ]
  },
  {
   "cell_type": "code",
   "execution_count": 31,
   "id": "71f9e613-d3c5-491c-a505-76e4fd419dc0",
   "metadata": {},
   "outputs": [
    {
     "data": {
      "text/plain": [
       "'WELCOME TO THE COURSE'"
      ]
     },
     "execution_count": 31,
     "metadata": {},
     "output_type": "execute_result"
    }
   ],
   "source": [
    "my_str.upper()"
   ]
  },
  {
   "cell_type": "code",
   "execution_count": 9,
   "id": "315d6b96-95ef-4244-8d68-c42ac7f51fac",
   "metadata": {},
   "outputs": [
    {
     "data": {
      "text/plain": [
       "'WELCOME TO THE DELHI'"
      ]
     },
     "execution_count": 9,
     "metadata": {},
     "output_type": "execute_result"
    }
   ],
   "source": [
    "my_str.upper()"
   ]
  },
  {
   "cell_type": "code",
   "execution_count": 11,
   "id": "d3595ef0-fd20-4131-81a2-3b0ea83c0795",
   "metadata": {},
   "outputs": [
    {
     "data": {
      "text/plain": [
       "'WELCOME TO THE DELHI'"
      ]
     },
     "execution_count": 11,
     "metadata": {},
     "output_type": "execute_result"
    }
   ],
   "source": [
    "my_str.upper()"
   ]
  },
  {
   "cell_type": "code",
   "execution_count": 13,
   "id": "a584b083-cb93-414b-a867-80629730bce7",
   "metadata": {},
   "outputs": [
    {
     "data": {
      "text/plain": [
       "'WELCOME TO THE DELHI'"
      ]
     },
     "execution_count": 13,
     "metadata": {},
     "output_type": "execute_result"
    }
   ],
   "source": [
    "my_str.upper()"
   ]
  },
  {
   "cell_type": "code",
   "execution_count": 69,
   "id": "51a51a19-9c14-4bfd-9ba8-85ac14c46578",
   "metadata": {},
   "outputs": [
    {
     "data": {
      "text/plain": [
       "'WELCOME TO THE PYTHON'"
      ]
     },
     "execution_count": 69,
     "metadata": {},
     "output_type": "execute_result"
    }
   ],
   "source": [
    "my_str.upper()"
   ]
  },
  {
   "cell_type": "code",
   "execution_count": 45,
   "id": "f95d8156-7a5a-4725-a171-5e2d41b0caad",
   "metadata": {},
   "outputs": [
    {
     "data": {
      "text/plain": [
       "'welcome to the delhi'"
      ]
     },
     "execution_count": 45,
     "metadata": {},
     "output_type": "execute_result"
    }
   ],
   "source": [
    "my_str.lower()"
   ]
  },
  {
   "cell_type": "code",
   "execution_count": 47,
   "id": "40bb4aa1-b430-461d-b7ba-db1f64f7331a",
   "metadata": {},
   "outputs": [
    {
     "data": {
      "text/plain": [
       "'welcome to the delhi'"
      ]
     },
     "execution_count": 47,
     "metadata": {},
     "output_type": "execute_result"
    }
   ],
   "source": [
    "my_str.lower()"
   ]
  },
  {
   "cell_type": "code",
   "execution_count": 49,
   "id": "b6ef4c24-8c88-460d-b445-0552f1bb38ea",
   "metadata": {},
   "outputs": [
    {
     "data": {
      "text/plain": [
       "'welcome to the delhi'"
      ]
     },
     "execution_count": 49,
     "metadata": {},
     "output_type": "execute_result"
    }
   ],
   "source": [
    "my_str.lower()"
   ]
  },
  {
   "cell_type": "code",
   "execution_count": 15,
   "id": "debaab5a-2a3a-40c4-8042-f3124e493406",
   "metadata": {},
   "outputs": [
    {
     "data": {
      "text/plain": [
       "'welcome to the delhi'"
      ]
     },
     "execution_count": 15,
     "metadata": {},
     "output_type": "execute_result"
    }
   ],
   "source": [
    "my_str.lower()"
   ]
  },
  {
   "cell_type": "code",
   "execution_count": 17,
   "id": "613e839b-b3cd-46ff-aac7-079ed4d7d40b",
   "metadata": {},
   "outputs": [
    {
     "data": {
      "text/plain": [
       "'welcome to the delhi'"
      ]
     },
     "execution_count": 17,
     "metadata": {},
     "output_type": "execute_result"
    }
   ],
   "source": [
    "my_str.lower()"
   ]
  },
  {
   "cell_type": "code",
   "execution_count": 51,
   "id": "607a2f66-50db-4c3c-8087-e40a6da00290",
   "metadata": {},
   "outputs": [
    {
     "data": {
      "text/plain": [
       "'WELCOME TO THE DELHI'"
      ]
     },
     "execution_count": 51,
     "metadata": {},
     "output_type": "execute_result"
    }
   ],
   "source": [
    "my_str.upper()"
   ]
  },
  {
   "cell_type": "code",
   "execution_count": 53,
   "id": "84b25eac-5359-4517-b9ee-365f8bfdeb7d",
   "metadata": {},
   "outputs": [
    {
     "data": {
      "text/plain": [
       "'welcome to the delhi'"
      ]
     },
     "execution_count": 53,
     "metadata": {},
     "output_type": "execute_result"
    }
   ],
   "source": [
    "my_str.lower()"
   ]
  },
  {
   "cell_type": "code",
   "execution_count": 19,
   "id": "7ef274c0-f4fb-4f16-8d83-3469f9ee4985",
   "metadata": {},
   "outputs": [
    {
     "data": {
      "text/plain": [
       "'welcome to the delhi'"
      ]
     },
     "execution_count": 19,
     "metadata": {},
     "output_type": "execute_result"
    }
   ],
   "source": [
    "my_str.lower()"
   ]
  },
  {
   "cell_type": "code",
   "execution_count": 21,
   "id": "c279a2e4-5523-429c-8df2-0fdc3d580acb",
   "metadata": {},
   "outputs": [
    {
     "data": {
      "text/plain": [
       "'WELCOME TO THE DELHI'"
      ]
     },
     "execution_count": 21,
     "metadata": {},
     "output_type": "execute_result"
    }
   ],
   "source": [
    "my_str.upper()"
   ]
  },
  {
   "cell_type": "code",
   "execution_count": 23,
   "id": "786480e4-6807-4932-a542-d42de7e90378",
   "metadata": {},
   "outputs": [
    {
     "data": {
      "text/plain": [
       "'welcome to the delhi'"
      ]
     },
     "execution_count": 23,
     "metadata": {},
     "output_type": "execute_result"
    }
   ],
   "source": [
    "my_str.lower()"
   ]
  },
  {
   "cell_type": "code",
   "execution_count": 73,
   "id": "59db152f-3aad-4052-b250-c7974bb5424f",
   "metadata": {},
   "outputs": [
    {
     "data": {
      "text/plain": [
       "'Welcome to The Python'"
      ]
     },
     "execution_count": 73,
     "metadata": {},
     "output_type": "execute_result"
    }
   ],
   "source": [
    "my_str"
   ]
  },
  {
   "cell_type": "code",
   "execution_count": 75,
   "id": "88a80859-f931-40b8-9a5c-37fe218c0191",
   "metadata": {},
   "outputs": [
    {
     "data": {
      "text/plain": [
       "'welcome to the python'"
      ]
     },
     "execution_count": 75,
     "metadata": {},
     "output_type": "execute_result"
    }
   ],
   "source": [
    "my_str.lower()"
   ]
  },
  {
   "cell_type": "code",
   "execution_count": 25,
   "id": "6e85b530-11fd-45bf-acf1-44e1e39a37f8",
   "metadata": {},
   "outputs": [
    {
     "data": {
      "text/plain": [
       "'Welcome to the Delhi'"
      ]
     },
     "execution_count": 25,
     "metadata": {},
     "output_type": "execute_result"
    }
   ],
   "source": [
    "my_str"
   ]
  },
  {
   "cell_type": "code",
   "execution_count": 55,
   "id": "e347f79f-8d61-4d79-b42f-16f072a49212",
   "metadata": {},
   "outputs": [
    {
     "data": {
      "text/plain": [
       "'Welcome To The Delhi'"
      ]
     },
     "execution_count": 55,
     "metadata": {},
     "output_type": "execute_result"
    }
   ],
   "source": [
    "my_str.title()"
   ]
  },
  {
   "cell_type": "code",
   "execution_count": 57,
   "id": "1f61217d-cd89-4e6a-be66-77386f1d6ffa",
   "metadata": {},
   "outputs": [
    {
     "data": {
      "text/plain": [
       "'Welcome To The Delhi'"
      ]
     },
     "execution_count": 57,
     "metadata": {},
     "output_type": "execute_result"
    }
   ],
   "source": [
    "my_str.title()"
   ]
  },
  {
   "cell_type": "code",
   "execution_count": 59,
   "id": "5ab8f926-1940-468c-a602-269c146397d1",
   "metadata": {},
   "outputs": [
    {
     "data": {
      "text/plain": [
       "'Welcome To The Delhi'"
      ]
     },
     "execution_count": 59,
     "metadata": {},
     "output_type": "execute_result"
    }
   ],
   "source": [
    "my_str.title()"
   ]
  },
  {
   "cell_type": "code",
   "execution_count": 27,
   "id": "cf94c4c7-d6ac-48bd-9c94-3aa72d3ab094",
   "metadata": {},
   "outputs": [
    {
     "data": {
      "text/plain": [
       "'Welcome To The Delhi'"
      ]
     },
     "execution_count": 27,
     "metadata": {},
     "output_type": "execute_result"
    }
   ],
   "source": [
    "my_str.title()"
   ]
  },
  {
   "cell_type": "code",
   "execution_count": 29,
   "id": "0e7ae068-2284-4923-b6cb-c1d944cb6fc6",
   "metadata": {},
   "outputs": [
    {
     "data": {
      "text/plain": [
       "'Welcome To The Delhi'"
      ]
     },
     "execution_count": 29,
     "metadata": {},
     "output_type": "execute_result"
    }
   ],
   "source": [
    "my_str.title()"
   ]
  },
  {
   "cell_type": "code",
   "execution_count": 31,
   "id": "8af1eb67-d662-43e5-9e65-246b61c4cdfa",
   "metadata": {},
   "outputs": [
    {
     "data": {
      "text/plain": [
       "'Welcome To The Delhi'"
      ]
     },
     "execution_count": 31,
     "metadata": {},
     "output_type": "execute_result"
    }
   ],
   "source": [
    "my_str.title()"
   ]
  },
  {
   "cell_type": "code",
   "execution_count": 33,
   "id": "395c3bf4-5e88-4d2c-a23d-a0e64b3008b7",
   "metadata": {},
   "outputs": [
    {
     "data": {
      "text/plain": [
       "'Welcome To The Delhi'"
      ]
     },
     "execution_count": 33,
     "metadata": {},
     "output_type": "execute_result"
    }
   ],
   "source": [
    "my_str.title()"
   ]
  },
  {
   "cell_type": "code",
   "execution_count": 35,
   "id": "0ca4305b-c53b-4308-aa03-3dfd44dfa0ba",
   "metadata": {},
   "outputs": [
    {
     "data": {
      "text/plain": [
       "'Welcome To The Delhi'"
      ]
     },
     "execution_count": 35,
     "metadata": {},
     "output_type": "execute_result"
    }
   ],
   "source": [
    "my_str.title()"
   ]
  },
  {
   "cell_type": "code",
   "execution_count": 37,
   "id": "4dff27f5-78ac-4e27-985c-5617a3cb6971",
   "metadata": {},
   "outputs": [
    {
     "data": {
      "text/plain": [
       "'Welcome To The Delhi'"
      ]
     },
     "execution_count": 37,
     "metadata": {},
     "output_type": "execute_result"
    }
   ],
   "source": [
    "my_str.title()"
   ]
  },
  {
   "cell_type": "code",
   "execution_count": 77,
   "id": "d2774d9d-2fb8-4972-918c-1a377e97f0ef",
   "metadata": {},
   "outputs": [
    {
     "data": {
      "text/plain": [
       "'Welcome To The Python'"
      ]
     },
     "execution_count": 77,
     "metadata": {},
     "output_type": "execute_result"
    }
   ],
   "source": [
    "my_str.title()"
   ]
  },
  {
   "cell_type": "code",
   "execution_count": 79,
   "id": "80cfabd5-9b31-4cd5-91bf-ea0df7f78ace",
   "metadata": {},
   "outputs": [
    {
     "data": {
      "text/plain": [
       "'Welcome to The Python'"
      ]
     },
     "execution_count": 79,
     "metadata": {},
     "output_type": "execute_result"
    }
   ],
   "source": [
    "my_str"
   ]
  },
  {
   "cell_type": "code",
   "execution_count": 61,
   "id": "b521234e-e7b7-4f08-8785-55efe21efce2",
   "metadata": {},
   "outputs": [],
   "source": [
    "d = \"python is dynamic course\""
   ]
  },
  {
   "cell_type": "code",
   "execution_count": 63,
   "id": "88162a34-119d-4d3f-956c-dfdff955cfb5",
   "metadata": {},
   "outputs": [
    {
     "data": {
      "text/plain": [
       "'Python is dynamic course'"
      ]
     },
     "execution_count": 63,
     "metadata": {},
     "output_type": "execute_result"
    }
   ],
   "source": [
    "d.capitalize()"
   ]
  },
  {
   "cell_type": "code",
   "execution_count": 65,
   "id": "cc9e0664-6e25-488f-9304-e9b5c2a82fef",
   "metadata": {},
   "outputs": [
    {
     "data": {
      "text/plain": [
       "'Python is dynamic course'"
      ]
     },
     "execution_count": 65,
     "metadata": {},
     "output_type": "execute_result"
    }
   ],
   "source": [
    "d.capitalize()"
   ]
  },
  {
   "cell_type": "code",
   "execution_count": 67,
   "id": "c3912d0e-427c-42a1-995c-9d3f7ba7ceb7",
   "metadata": {},
   "outputs": [
    {
     "data": {
      "text/plain": [
       "'Python is dynamic course'"
      ]
     },
     "execution_count": 67,
     "metadata": {},
     "output_type": "execute_result"
    }
   ],
   "source": [
    "d.capitalize()"
   ]
  },
  {
   "cell_type": "code",
   "execution_count": 39,
   "id": "e6df0d0a-9380-4b80-93e2-cff3d8b2f525",
   "metadata": {},
   "outputs": [],
   "source": [
    "i = \"python is fun\""
   ]
  },
  {
   "cell_type": "code",
   "execution_count": 41,
   "id": "66c536ce-6032-4357-a2a2-1a826b1aaf7f",
   "metadata": {},
   "outputs": [
    {
     "data": {
      "text/plain": [
       "'Python is fun'"
      ]
     },
     "execution_count": 41,
     "metadata": {},
     "output_type": "execute_result"
    }
   ],
   "source": [
    "i.capitalize()"
   ]
  },
  {
   "cell_type": "code",
   "execution_count": 43,
   "id": "7f32e3cd-bf37-4f2c-ad0c-5b065914c2ed",
   "metadata": {},
   "outputs": [
    {
     "data": {
      "text/plain": [
       "'Python is fun'"
      ]
     },
     "execution_count": 43,
     "metadata": {},
     "output_type": "execute_result"
    }
   ],
   "source": [
    "i.capitalize()"
   ]
  },
  {
   "cell_type": "code",
   "execution_count": 81,
   "id": "5d0a2c9c-006e-4616-a40b-86b6a3557784",
   "metadata": {},
   "outputs": [],
   "source": [
    "k = \"python is very interesting\""
   ]
  },
  {
   "cell_type": "code",
   "execution_count": 83,
   "id": "932b9773-124a-46ac-8198-7e60219ca5f3",
   "metadata": {},
   "outputs": [
    {
     "data": {
      "text/plain": [
       "'Python is very interesting'"
      ]
     },
     "execution_count": 83,
     "metadata": {},
     "output_type": "execute_result"
    }
   ],
   "source": [
    "k.capitalize()"
   ]
  },
  {
   "cell_type": "code",
   "execution_count": 33,
   "id": "0821c1f1-cfe4-4645-810f-11047635a169",
   "metadata": {},
   "outputs": [
    {
     "data": {
      "text/plain": [
       "'welcome to the course'"
      ]
     },
     "execution_count": 33,
     "metadata": {},
     "output_type": "execute_result"
    }
   ],
   "source": [
    "my_str.lower()"
   ]
  },
  {
   "cell_type": "code",
   "execution_count": 86,
   "id": "9a943c19-0295-44dc-9ace-11ebf53abc85",
   "metadata": {},
   "outputs": [
    {
     "data": {
      "text/plain": [
       "'Welcome to The Python'"
      ]
     },
     "execution_count": 86,
     "metadata": {},
     "output_type": "execute_result"
    }
   ],
   "source": [
    "my_str"
   ]
  },
  {
   "cell_type": "code",
   "execution_count": 88,
   "id": "f1d5e43b-f440-4868-a882-33f44ad02968",
   "metadata": {},
   "outputs": [
    {
     "data": {
      "text/plain": [
       "'welcome to the python'"
      ]
     },
     "execution_count": 88,
     "metadata": {},
     "output_type": "execute_result"
    }
   ],
   "source": [
    "my_str.lower()"
   ]
  },
  {
   "cell_type": "code",
   "execution_count": 90,
   "id": "6acebf62-465d-4a5e-be75-64ddb48f921b",
   "metadata": {},
   "outputs": [
    {
     "data": {
      "text/plain": [
       "'Welcome to The Python'"
      ]
     },
     "execution_count": 90,
     "metadata": {},
     "output_type": "execute_result"
    }
   ],
   "source": [
    "my_str"
   ]
  },
  {
   "cell_type": "code",
   "execution_count": 92,
   "id": "867c7ad4-0669-45f8-a4ec-c8a47e5dab66",
   "metadata": {},
   "outputs": [
    {
     "data": {
      "text/plain": [
       "'Welcome to The Python'"
      ]
     },
     "execution_count": 92,
     "metadata": {},
     "output_type": "execute_result"
    }
   ],
   "source": [
    "my_str"
   ]
  },
  {
   "cell_type": "code",
   "execution_count": 94,
   "id": "b3e50d33-a055-47f7-9294-b2476466ee0e",
   "metadata": {},
   "outputs": [
    {
     "data": {
      "text/plain": [
       "'Welcome to the python'"
      ]
     },
     "execution_count": 94,
     "metadata": {},
     "output_type": "execute_result"
    }
   ],
   "source": [
    "my_str.capitalize()"
   ]
  },
  {
   "cell_type": "code",
   "execution_count": 96,
   "id": "73515e82-d304-4994-b70c-c8ec245e5888",
   "metadata": {},
   "outputs": [
    {
     "data": {
      "text/plain": [
       "'Welcome To The Python'"
      ]
     },
     "execution_count": 96,
     "metadata": {},
     "output_type": "execute_result"
    }
   ],
   "source": [
    "my_str.title()"
   ]
  },
  {
   "cell_type": "code",
   "execution_count": 98,
   "id": "885d566d-da94-46ee-962d-76139da76570",
   "metadata": {},
   "outputs": [
    {
     "data": {
      "text/plain": [
       "'Welcome to The Python'"
      ]
     },
     "execution_count": 98,
     "metadata": {},
     "output_type": "execute_result"
    }
   ],
   "source": [
    "my_str"
   ]
  },
  {
   "cell_type": "code",
   "execution_count": 69,
   "id": "e1c381bc-98da-403d-95a6-1d2eaa0f090d",
   "metadata": {},
   "outputs": [
    {
     "data": {
      "text/plain": [
       "'Welcome to the Delhi'"
      ]
     },
     "execution_count": 69,
     "metadata": {},
     "output_type": "execute_result"
    }
   ],
   "source": [
    "my_str"
   ]
  },
  {
   "cell_type": "code",
   "execution_count": 71,
   "id": "abbfdd6b-341a-4848-8c81-54f63a01b0c4",
   "metadata": {},
   "outputs": [
    {
     "data": {
      "text/plain": [
       "'Welcome to the New Delhi'"
      ]
     },
     "execution_count": 71,
     "metadata": {},
     "output_type": "execute_result"
    }
   ],
   "source": [
    "my_str.replace(\"Delhi\", \"New Delhi\")"
   ]
  },
  {
   "cell_type": "code",
   "execution_count": 75,
   "id": "1930afa4-b3ba-496e-bfe4-270c5e09d203",
   "metadata": {},
   "outputs": [
    {
     "data": {
      "text/plain": [
       "'Welcome to the Delhi'"
      ]
     },
     "execution_count": 75,
     "metadata": {},
     "output_type": "execute_result"
    }
   ],
   "source": [
    "my_str.replace(\"New Delhi\", \"OLd Delhi\")"
   ]
  },
  {
   "cell_type": "code",
   "execution_count": 79,
   "id": "1816e03f-5b75-4b57-89f5-dbf197cdbad2",
   "metadata": {},
   "outputs": [
    {
     "data": {
      "text/plain": [
       "'Welcome to the Delhi'"
      ]
     },
     "execution_count": 79,
     "metadata": {},
     "output_type": "execute_result"
    }
   ],
   "source": [
    "my_str.replace(\"delhi\", \"mumbai\")"
   ]
  },
  {
   "cell_type": "code",
   "execution_count": 83,
   "id": "afe04fa8-b039-4f49-9698-94ae8e33fb2d",
   "metadata": {},
   "outputs": [
    {
     "data": {
      "text/plain": [
       "'Welcome to the Delhi'"
      ]
     },
     "execution_count": 83,
     "metadata": {},
     "output_type": "execute_result"
    }
   ],
   "source": [
    "my_str.replace(\"delhi\", \"mumbai\")"
   ]
  },
  {
   "cell_type": "code",
   "execution_count": 85,
   "id": "10caf7a9-57b1-4feb-8b07-2e5f26ff8992",
   "metadata": {},
   "outputs": [
    {
     "data": {
      "text/plain": [
       "'Welcome to the Delhi'"
      ]
     },
     "execution_count": 85,
     "metadata": {},
     "output_type": "execute_result"
    }
   ],
   "source": [
    "my_str.replace(\"delhi\", \"mumbai\")"
   ]
  },
  {
   "cell_type": "code",
   "execution_count": 99,
   "id": "20de2422-9781-4978-bf18-3c3404b24cb9",
   "metadata": {},
   "outputs": [
    {
     "data": {
      "text/plain": [
       "'Welcome to the Mumbai'"
      ]
     },
     "execution_count": 99,
     "metadata": {},
     "output_type": "execute_result"
    }
   ],
   "source": [
    "my_str.replace(\"Delhi\", \"Mumbai\")"
   ]
  },
  {
   "cell_type": "code",
   "execution_count": 101,
   "id": "b853eb1c-d77a-44d4-8efe-ebb57ee2958e",
   "metadata": {},
   "outputs": [
    {
     "data": {
      "text/plain": [
       "'Welcome to the New Mumbai'"
      ]
     },
     "execution_count": 101,
     "metadata": {},
     "output_type": "execute_result"
    }
   ],
   "source": [
    "my_str.replace(\"Delhi\", \"New Mumbai\")"
   ]
  },
  {
   "cell_type": "code",
   "execution_count": 45,
   "id": "79874f7b-50a0-47c9-b46d-332d78c52d56",
   "metadata": {},
   "outputs": [
    {
     "data": {
      "text/plain": [
       "'Welcome to the Delhi'"
      ]
     },
     "execution_count": 45,
     "metadata": {},
     "output_type": "execute_result"
    }
   ],
   "source": [
    "my_str.replace(\"Python\", \"Programme\")"
   ]
  },
  {
   "cell_type": "code",
   "execution_count": 47,
   "id": "2d20d68f-29f6-4895-9021-8b79a36cd2a4",
   "metadata": {},
   "outputs": [
    {
     "data": {
      "text/plain": [
       "'Welcome to the Delhi'"
      ]
     },
     "execution_count": 47,
     "metadata": {},
     "output_type": "execute_result"
    }
   ],
   "source": [
    "my_str"
   ]
  },
  {
   "cell_type": "code",
   "execution_count": 87,
   "id": "59f22456-dcb7-4a16-979e-15d0a0fbf039",
   "metadata": {},
   "outputs": [],
   "source": [
    "a = \"python is very interesting and python is easy and python is versatile\""
   ]
  },
  {
   "cell_type": "code",
   "execution_count": 55,
   "id": "f2a1a9a1-e9b9-4ae9-95d0-5598b918762b",
   "metadata": {},
   "outputs": [
    {
     "data": {
      "text/plain": [
       "'python is very interesting and python is easy and python is versatile'"
      ]
     },
     "execution_count": 55,
     "metadata": {},
     "output_type": "execute_result"
    }
   ],
   "source": [
    "a.replace(\"Python\",\"mysql\",2)"
   ]
  },
  {
   "cell_type": "code",
   "execution_count": 100,
   "id": "ea357d05-a88d-4ba3-81f1-1b90a3fcc9a7",
   "metadata": {},
   "outputs": [
    {
     "data": {
      "text/plain": [
       "'Welcome to The Programme'"
      ]
     },
     "execution_count": 100,
     "metadata": {},
     "output_type": "execute_result"
    }
   ],
   "source": [
    "my_str.replace(\"Python\",\"Programme\")"
   ]
  },
  {
   "cell_type": "code",
   "execution_count": 89,
   "id": "dcdbefbb-1a46-46a0-9ec7-479be61885fc",
   "metadata": {},
   "outputs": [
    {
     "data": {
      "text/plain": [
       "'python is very interesting and python is easy and python is versatile'"
      ]
     },
     "execution_count": 89,
     "metadata": {},
     "output_type": "execute_result"
    }
   ],
   "source": [
    "a"
   ]
  },
  {
   "cell_type": "code",
   "execution_count": 91,
   "id": "28f1073e-b19d-4df0-a241-18886403b391",
   "metadata": {},
   "outputs": [
    {
     "data": {
      "text/plain": [
       "'SQL is very interesting and SQL is easy and SQL is versatile'"
      ]
     },
     "execution_count": 91,
     "metadata": {},
     "output_type": "execute_result"
    }
   ],
   "source": [
    "a.replace(\"python\", \"SQL\",3)"
   ]
  },
  {
   "cell_type": "code",
   "execution_count": 102,
   "id": "bc04edb1-e306-4aa6-aa2b-ac314b816996",
   "metadata": {},
   "outputs": [
    {
     "data": {
      "text/plain": [
       "'Welcome to The Python'"
      ]
     },
     "execution_count": 102,
     "metadata": {},
     "output_type": "execute_result"
    }
   ],
   "source": [
    "my_str"
   ]
  },
  {
   "cell_type": "code",
   "execution_count": 103,
   "id": "63618e91-52c7-4cd2-8b0d-b746c761c803",
   "metadata": {},
   "outputs": [],
   "source": [
    "s = \"python is very interesting and python is easy and python is versatile\""
   ]
  },
  {
   "cell_type": "code",
   "execution_count": 105,
   "id": "b48ee119-814b-46be-b57a-a4635e7bbf9c",
   "metadata": {},
   "outputs": [
    {
     "data": {
      "text/plain": [
       "'power bi is very interesting and power bi is easy and python is versatile'"
      ]
     },
     "execution_count": 105,
     "metadata": {},
     "output_type": "execute_result"
    }
   ],
   "source": [
    "s.replace(\"python\",\"power bi\",2)"
   ]
  },
  {
   "cell_type": "code",
   "execution_count": null,
   "id": "3cce53dd-2ed2-459b-b545-b491da19c1bf",
   "metadata": {},
   "outputs": [],
   "source": []
  },
  {
   "cell_type": "code",
   "execution_count": 104,
   "id": "b4533030-f5c8-4024-9be2-52418d491c9e",
   "metadata": {},
   "outputs": [],
   "source": [
    "p = \"python is very interesting and python is easy and python is versatile\""
   ]
  },
  {
   "cell_type": "code",
   "execution_count": 106,
   "id": "7e87dc2b-a405-419f-bf3a-e1a255b6a381",
   "metadata": {},
   "outputs": [
    {
     "data": {
      "text/plain": [
       "'sql is very interesting and sql is easy and python is versatile'"
      ]
     },
     "execution_count": 106,
     "metadata": {},
     "output_type": "execute_result"
    }
   ],
   "source": [
    "p.replace(\"python\",\"sql\",2)"
   ]
  },
  {
   "cell_type": "code",
   "execution_count": null,
   "id": "f9e98110-6d59-421e-b98c-bff706c43957",
   "metadata": {},
   "outputs": [],
   "source": []
  },
  {
   "cell_type": "code",
   "execution_count": 109,
   "id": "209709a0-cdfe-4f95-8bb5-4acc733d2324",
   "metadata": {},
   "outputs": [
    {
     "data": {
      "text/plain": [
       "'Welcome to data science Python'"
      ]
     },
     "execution_count": 109,
     "metadata": {},
     "output_type": "execute_result"
    }
   ],
   "source": [
    "my_str.replace(\"The\", \"data science\")"
   ]
  },
  {
   "cell_type": "code",
   "execution_count": 111,
   "id": "c10ddbe0-08b7-4d5e-8f24-3885aa905484",
   "metadata": {},
   "outputs": [
    {
     "data": {
      "text/plain": [
       "'Welcome to The Python'"
      ]
     },
     "execution_count": 111,
     "metadata": {},
     "output_type": "execute_result"
    }
   ],
   "source": [
    "my_str"
   ]
  },
  {
   "cell_type": "code",
   "execution_count": 93,
   "id": "53e85f12-f440-45de-9c9d-d9fc054679fe",
   "metadata": {},
   "outputs": [],
   "source": [
    "m = \"system\""
   ]
  },
  {
   "cell_type": "code",
   "execution_count": 95,
   "id": "d626ffdc-1b9c-4ee1-b7a9-b0d0e1fa5b72",
   "metadata": {},
   "outputs": [
    {
     "data": {
      "text/plain": [
       "'system'"
      ]
     },
     "execution_count": 95,
     "metadata": {},
     "output_type": "execute_result"
    }
   ],
   "source": [
    "m"
   ]
  },
  {
   "cell_type": "code",
   "execution_count": 97,
   "id": "e0182624-7db8-43ec-9976-9f0257214339",
   "metadata": {},
   "outputs": [
    {
     "data": {
      "text/plain": [
       "'big system'"
      ]
     },
     "execution_count": 97,
     "metadata": {},
     "output_type": "execute_result"
    }
   ],
   "source": [
    "m.replace(\"system\", \"big system\")"
   ]
  },
  {
   "cell_type": "code",
   "execution_count": null,
   "id": "f6b6df94-ad7d-48e5-b03a-bc73cf7b8d9e",
   "metadata": {},
   "outputs": [],
   "source": []
  },
  {
   "cell_type": "code",
   "execution_count": 113,
   "id": "651891da-41e5-4423-baef-c9d7fa3144eb",
   "metadata": {},
   "outputs": [],
   "source": [
    "h = \"machine456\""
   ]
  },
  {
   "cell_type": "code",
   "execution_count": 115,
   "id": "cedc94f1-0b27-4085-9806-9186faae0420",
   "metadata": {},
   "outputs": [
    {
     "data": {
      "text/plain": [
       "'machine1500'"
      ]
     },
     "execution_count": 115,
     "metadata": {},
     "output_type": "execute_result"
    }
   ],
   "source": [
    "h.replace(\"456\", \"1500\")"
   ]
  },
  {
   "cell_type": "code",
   "execution_count": 57,
   "id": "dba04ce1-cdd0-4a15-9acd-706b1bd24755",
   "metadata": {},
   "outputs": [],
   "source": [
    "u = \"machine123\""
   ]
  },
  {
   "cell_type": "code",
   "execution_count": 59,
   "id": "e3b589b5-2f27-4dfd-a9c2-95597a5d1dab",
   "metadata": {},
   "outputs": [
    {
     "data": {
      "text/plain": [
       "'machine456'"
      ]
     },
     "execution_count": 59,
     "metadata": {},
     "output_type": "execute_result"
    }
   ],
   "source": [
    "u.replace(\"123\", \"456\")"
   ]
  },
  {
   "cell_type": "code",
   "execution_count": 61,
   "id": "fdea0da3-5d23-4cb4-926b-d44993e64750",
   "metadata": {},
   "outputs": [],
   "source": [
    "a = \"my world\""
   ]
  },
  {
   "cell_type": "code",
   "execution_count": 63,
   "id": "035a8b31-cef4-447f-847b-86c13f0b31ce",
   "metadata": {},
   "outputs": [
    {
     "data": {
      "text/plain": [
       "'your world'"
      ]
     },
     "execution_count": 63,
     "metadata": {},
     "output_type": "execute_result"
    }
   ],
   "source": [
    "a.replace(\"my world\", \"your world\")"
   ]
  },
  {
   "cell_type": "code",
   "execution_count": 117,
   "id": "20db197b-46bd-4f74-b0a1-42235df198e7",
   "metadata": {},
   "outputs": [
    {
     "data": {
      "text/plain": [
       "'Welcome to The Python'"
      ]
     },
     "execution_count": 117,
     "metadata": {},
     "output_type": "execute_result"
    }
   ],
   "source": [
    "my_str"
   ]
  },
  {
   "cell_type": "code",
   "execution_count": 1,
   "id": "bcf72ea7-04bd-46f6-a795-6e70dbaf777e",
   "metadata": {},
   "outputs": [],
   "source": [
    "my_str = \"Welcome to Python\""
   ]
  },
  {
   "cell_type": "code",
   "execution_count": 3,
   "id": "6fe5df4a-58a9-4a96-a0a2-ab416c3de2c8",
   "metadata": {},
   "outputs": [
    {
     "data": {
      "text/plain": [
       "'Welcome to Python'"
      ]
     },
     "execution_count": 3,
     "metadata": {},
     "output_type": "execute_result"
    }
   ],
   "source": [
    "my_str"
   ]
  },
  {
   "cell_type": "code",
   "execution_count": null,
   "id": "3d4ae4f1-2dfe-4f9d-93f0-9a94d2555367",
   "metadata": {},
   "outputs": [],
   "source": []
  },
  {
   "cell_type": "code",
   "execution_count": null,
   "id": "071765c9-3aed-4798-83d6-4a53152aa7fd",
   "metadata": {},
   "outputs": [],
   "source": []
  },
  {
   "cell_type": "code",
   "execution_count": 65,
   "id": "34e4229e-779f-4f5b-ba4e-7e3d630d7719",
   "metadata": {},
   "outputs": [
    {
     "data": {
      "text/plain": [
       "'Welcome to the Delhi'"
      ]
     },
     "execution_count": 65,
     "metadata": {},
     "output_type": "execute_result"
    }
   ],
   "source": [
    "my_str"
   ]
  },
  {
   "cell_type": "code",
   "execution_count": 107,
   "id": "ab461122-0958-49bb-a18f-ecf6e33f88fe",
   "metadata": {},
   "outputs": [
    {
     "data": {
      "text/plain": [
       "'Welcome to the Delhi'"
      ]
     },
     "execution_count": 107,
     "metadata": {},
     "output_type": "execute_result"
    }
   ],
   "source": [
    "my_str"
   ]
  },
  {
   "cell_type": "code",
   "execution_count": 111,
   "id": "c63e43f5-7257-4d25-a5b7-17d773809db1",
   "metadata": {},
   "outputs": [
    {
     "data": {
      "text/plain": [
       "-1"
      ]
     },
     "execution_count": 111,
     "metadata": {},
     "output_type": "execute_result"
    }
   ],
   "source": [
    "my_str.find(\"good\")"
   ]
  },
  {
   "cell_type": "code",
   "execution_count": 113,
   "id": "cdb0530c-e933-4251-b456-edc0d464a2fa",
   "metadata": {},
   "outputs": [
    {
     "data": {
      "text/plain": [
       "-1"
      ]
     },
     "execution_count": 113,
     "metadata": {},
     "output_type": "execute_result"
    }
   ],
   "source": [
    "my_str.find(\"bad\")"
   ]
  },
  {
   "cell_type": "code",
   "execution_count": 115,
   "id": "0bf12bd8-033e-4b16-b5cd-3220afa511d9",
   "metadata": {},
   "outputs": [
    {
     "data": {
      "text/plain": [
       "15"
      ]
     },
     "execution_count": 115,
     "metadata": {},
     "output_type": "execute_result"
    }
   ],
   "source": [
    "my_str.find(\"D\")"
   ]
  },
  {
   "cell_type": "code",
   "execution_count": 117,
   "id": "78127922-00b4-4e91-a676-592e98f73aa6",
   "metadata": {},
   "outputs": [
    {
     "data": {
      "text/plain": [
       "20"
      ]
     },
     "execution_count": 117,
     "metadata": {},
     "output_type": "execute_result"
    }
   ],
   "source": [
    "len(my_str)"
   ]
  },
  {
   "cell_type": "code",
   "execution_count": 119,
   "id": "dbc6dfb1-386e-4390-9037-8575e7dc2b89",
   "metadata": {},
   "outputs": [
    {
     "data": {
      "text/plain": [
       "'WELCOME TO THE DELHI'"
      ]
     },
     "execution_count": 119,
     "metadata": {},
     "output_type": "execute_result"
    }
   ],
   "source": [
    "my_str.upper()"
   ]
  },
  {
   "cell_type": "code",
   "execution_count": 67,
   "id": "87d824a8-4791-4bb2-8420-8437ac7e6205",
   "metadata": {},
   "outputs": [
    {
     "data": {
      "text/plain": [
       "-1"
      ]
     },
     "execution_count": 67,
     "metadata": {},
     "output_type": "execute_result"
    }
   ],
   "source": [
    "my_str.find(\"bad\")"
   ]
  },
  {
   "cell_type": "code",
   "execution_count": 69,
   "id": "58311eaa-9f52-412f-9d08-b31b8b7cb950",
   "metadata": {},
   "outputs": [
    {
     "data": {
      "text/plain": [
       "3"
      ]
     },
     "execution_count": 69,
     "metadata": {},
     "output_type": "execute_result"
    }
   ],
   "source": [
    "my_str.find(\"c\")"
   ]
  },
  {
   "cell_type": "code",
   "execution_count": 119,
   "id": "f86f0b85-75b8-43e9-b6f5-6467ebc7303a",
   "metadata": {},
   "outputs": [
    {
     "data": {
      "text/plain": [
       "-1"
      ]
     },
     "execution_count": 119,
     "metadata": {},
     "output_type": "execute_result"
    }
   ],
   "source": [
    "my_str.find(\"bad\")"
   ]
  },
  {
   "cell_type": "code",
   "execution_count": 121,
   "id": "7c04710d-941f-4216-92eb-3804bbf1eba0",
   "metadata": {},
   "outputs": [
    {
     "data": {
      "text/plain": [
       "3"
      ]
     },
     "execution_count": 121,
     "metadata": {},
     "output_type": "execute_result"
    }
   ],
   "source": [
    "my_str.find(\"c\")"
   ]
  },
  {
   "cell_type": "code",
   "execution_count": 71,
   "id": "6913f3e3-e5f3-4a19-bc2e-50b757bd5c7a",
   "metadata": {},
   "outputs": [
    {
     "data": {
      "text/plain": [
       "-1"
      ]
     },
     "execution_count": 71,
     "metadata": {},
     "output_type": "execute_result"
    }
   ],
   "source": [
    "my_str.find(\"d\", 5)"
   ]
  },
  {
   "cell_type": "code",
   "execution_count": null,
   "id": "32324e0e-772a-4cba-b05c-96822d65f34e",
   "metadata": {},
   "outputs": [],
   "source": []
  },
  {
   "cell_type": "code",
   "execution_count": 123,
   "id": "1b9fd077-38e6-4287-8c4f-b59c0e53b98e",
   "metadata": {},
   "outputs": [
    {
     "data": {
      "text/plain": [
       "13"
      ]
     },
     "execution_count": 123,
     "metadata": {},
     "output_type": "execute_result"
    }
   ],
   "source": [
    "my_str.find(\"e\", 7)"
   ]
  },
  {
   "cell_type": "code",
   "execution_count": 79,
   "id": "6159607a-9e0e-460e-a612-38ca88b8e953",
   "metadata": {},
   "outputs": [
    {
     "name": "stdin",
     "output_type": "stream",
     "text": [
      "Enter your name Umar Khan        007\n"
     ]
    }
   ],
   "source": [
    "name = input(\"Enter your name\")"
   ]
  },
  {
   "cell_type": "code",
   "execution_count": 81,
   "id": "ea6280f4-3404-40c4-9106-9760c1b223a6",
   "metadata": {},
   "outputs": [
    {
     "data": {
      "text/plain": [
       "20"
      ]
     },
     "execution_count": 81,
     "metadata": {},
     "output_type": "execute_result"
    }
   ],
   "source": [
    "len(name)"
   ]
  },
  {
   "cell_type": "code",
   "execution_count": 19,
   "id": "96c24b90-b865-410c-9c67-62f9615c088a",
   "metadata": {},
   "outputs": [
    {
     "name": "stdin",
     "output_type": "stream",
     "text": [
      "Enter your name MOHAMMMAD UMAR KHAN\n"
     ]
    }
   ],
   "source": [
    "name = input(\"Enter your name\")"
   ]
  },
  {
   "cell_type": "code",
   "execution_count": 121,
   "id": "1a51f96d-40cb-4d89-86fe-4c8f7b6d3e46",
   "metadata": {},
   "outputs": [
    {
     "name": "stdin",
     "output_type": "stream",
     "text": [
      "Enter your name umar\n"
     ]
    }
   ],
   "source": [
    "name = input(\"Enter your name\")"
   ]
  },
  {
   "cell_type": "code",
   "execution_count": 21,
   "id": "6ed0d2c6-7aad-4c23-9768-54a5384e95b5",
   "metadata": {},
   "outputs": [
    {
     "data": {
      "text/plain": [
       "19"
      ]
     },
     "execution_count": 21,
     "metadata": {},
     "output_type": "execute_result"
    }
   ],
   "source": [
    "len(name)"
   ]
  },
  {
   "cell_type": "code",
   "execution_count": 23,
   "id": "08c7558d-bcca-42fe-9cb2-07eb9e0ba07a",
   "metadata": {},
   "outputs": [
    {
     "data": {
      "text/plain": [
       "'MOHAMMMAD UMAR KHAN'"
      ]
     },
     "execution_count": 23,
     "metadata": {},
     "output_type": "execute_result"
    }
   ],
   "source": [
    "name.lstrip()"
   ]
  },
  {
   "cell_type": "code",
   "execution_count": 123,
   "id": "0185386d-1e20-467e-b34a-fb9de4cc6ea4",
   "metadata": {},
   "outputs": [
    {
     "data": {
      "text/plain": [
       "4"
      ]
     },
     "execution_count": 123,
     "metadata": {},
     "output_type": "execute_result"
    }
   ],
   "source": [
    "len(name)"
   ]
  },
  {
   "cell_type": "code",
   "execution_count": 125,
   "id": "533bfdfe-cbca-4529-a9a7-db48589816b5",
   "metadata": {},
   "outputs": [
    {
     "data": {
      "text/plain": [
       "'umar'"
      ]
     },
     "execution_count": 125,
     "metadata": {},
     "output_type": "execute_result"
    }
   ],
   "source": [
    "name.lstrip()"
   ]
  },
  {
   "cell_type": "code",
   "execution_count": 83,
   "id": "0747fcaa-bdef-46cd-9be4-0840d6f68e6f",
   "metadata": {},
   "outputs": [
    {
     "data": {
      "text/plain": [
       "'Umar Khan        007'"
      ]
     },
     "execution_count": 83,
     "metadata": {},
     "output_type": "execute_result"
    }
   ],
   "source": [
    "name.lstrip()"
   ]
  },
  {
   "cell_type": "code",
   "execution_count": 127,
   "id": "81b5a86d-c9a1-4500-aa9a-4faaa2d90e9a",
   "metadata": {},
   "outputs": [],
   "source": [
    "name= name.strip()"
   ]
  },
  {
   "cell_type": "code",
   "execution_count": 129,
   "id": "dfa8d002-6ad5-4d2a-b68e-b7fdd0feb04a",
   "metadata": {},
   "outputs": [
    {
     "data": {
      "text/plain": [
       "'umar'"
      ]
     },
     "execution_count": 129,
     "metadata": {},
     "output_type": "execute_result"
    }
   ],
   "source": [
    "name"
   ]
  },
  {
   "cell_type": "code",
   "execution_count": 85,
   "id": "1d09ee48-1f9e-4eb2-8565-487848e96849",
   "metadata": {},
   "outputs": [],
   "source": [
    "name = name.strip()"
   ]
  },
  {
   "cell_type": "code",
   "execution_count": 87,
   "id": "42151581-4eb6-48be-ae29-2c68b64d0611",
   "metadata": {},
   "outputs": [
    {
     "data": {
      "text/plain": [
       "'Umar Khan        007'"
      ]
     },
     "execution_count": 87,
     "metadata": {},
     "output_type": "execute_result"
    }
   ],
   "source": [
    "name"
   ]
  },
  {
   "cell_type": "code",
   "execution_count": 89,
   "id": "e005dd4b-2116-4081-9b3e-0d36a2a67be0",
   "metadata": {},
   "outputs": [
    {
     "data": {
      "text/plain": [
       "-1"
      ]
     },
     "execution_count": 89,
     "metadata": {},
     "output_type": "execute_result"
    }
   ],
   "source": [
    "my_str.find(\"zone\")"
   ]
  },
  {
   "cell_type": "code",
   "execution_count": 133,
   "id": "36565e5e-f234-44c4-bb98-f47d83927e0d",
   "metadata": {},
   "outputs": [
    {
     "data": {
      "text/plain": [
       "-1"
      ]
     },
     "execution_count": 133,
     "metadata": {},
     "output_type": "execute_result"
    }
   ],
   "source": [
    "my_str.find(\"zone\")"
   ]
  },
  {
   "cell_type": "code",
   "execution_count": null,
   "id": "44edc406-aca8-4433-bb2c-2d8d17df4309",
   "metadata": {},
   "outputs": [],
   "source": []
  },
  {
   "cell_type": "code",
   "execution_count": 91,
   "id": "8bf53f59-f801-42ad-9a2d-89441fbdfe8f",
   "metadata": {},
   "outputs": [
    {
     "data": {
      "text/plain": [
       "8"
      ]
     },
     "execution_count": 91,
     "metadata": {},
     "output_type": "execute_result"
    }
   ],
   "source": [
    "my_str.find(\"to\")"
   ]
  },
  {
   "cell_type": "code",
   "execution_count": 93,
   "id": "2bc84e96-e5bb-458c-98a4-771afe57f282",
   "metadata": {},
   "outputs": [
    {
     "data": {
      "text/plain": [
       "-1"
      ]
     },
     "execution_count": 93,
     "metadata": {},
     "output_type": "execute_result"
    }
   ],
   "source": [
    "my_str.find(\"zone\")"
   ]
  },
  {
   "cell_type": "code",
   "execution_count": 130,
   "id": "07f69381-6895-42b1-a2fe-8adcf81d4bcc",
   "metadata": {},
   "outputs": [
    {
     "name": "stdin",
     "output_type": "stream",
     "text": [
      "Enter your name        ravi\n"
     ]
    }
   ],
   "source": [
    "name = input(\"Enter your name\")"
   ]
  },
  {
   "cell_type": "code",
   "execution_count": 132,
   "id": "fbd28712-9ebf-4c2f-a84b-15b00473ee6e",
   "metadata": {},
   "outputs": [
    {
     "data": {
      "text/plain": [
       "'       ravi'"
      ]
     },
     "execution_count": 132,
     "metadata": {},
     "output_type": "execute_result"
    }
   ],
   "source": [
    "name"
   ]
  },
  {
   "cell_type": "code",
   "execution_count": 134,
   "id": "2b5e8fa9-7b37-415c-a4ba-68625a05d70c",
   "metadata": {},
   "outputs": [
    {
     "data": {
      "text/plain": [
       "11"
      ]
     },
     "execution_count": 134,
     "metadata": {},
     "output_type": "execute_result"
    }
   ],
   "source": [
    "len(name)"
   ]
  },
  {
   "cell_type": "code",
   "execution_count": 136,
   "id": "3b1ea37c-fb0a-4438-8b13-5d585abe49c6",
   "metadata": {},
   "outputs": [
    {
     "data": {
      "text/plain": [
       "'ravi'"
      ]
     },
     "execution_count": 136,
     "metadata": {},
     "output_type": "execute_result"
    }
   ],
   "source": [
    "name.lstrip()"
   ]
  },
  {
   "cell_type": "code",
   "execution_count": 138,
   "id": "66c127f9-5897-4de6-901d-9b9c4db1ccb1",
   "metadata": {},
   "outputs": [],
   "source": [
    "name = name.strip()"
   ]
  },
  {
   "cell_type": "code",
   "execution_count": 140,
   "id": "037bbbd3-fa0d-43d0-ba35-a683cd6074a9",
   "metadata": {},
   "outputs": [
    {
     "data": {
      "text/plain": [
       "'ravi'"
      ]
     },
     "execution_count": 140,
     "metadata": {},
     "output_type": "execute_result"
    }
   ],
   "source": [
    "name"
   ]
  },
  {
   "cell_type": "code",
   "execution_count": 142,
   "id": "6b756c5e-1f9b-496b-aa37-4cb50024fb63",
   "metadata": {},
   "outputs": [
    {
     "data": {
      "text/plain": [
       "-1"
      ]
     },
     "execution_count": 142,
     "metadata": {},
     "output_type": "execute_result"
    }
   ],
   "source": [
    "my_str.find(\"zone\")"
   ]
  },
  {
   "cell_type": "code",
   "execution_count": 144,
   "id": "b8ea86bc-0d8b-4418-9ad3-0666bb2343be",
   "metadata": {},
   "outputs": [
    {
     "data": {
      "text/plain": [
       "8"
      ]
     },
     "execution_count": 144,
     "metadata": {},
     "output_type": "execute_result"
    }
   ],
   "source": [
    "my_str.find(\"to\")"
   ]
  },
  {
   "cell_type": "code",
   "execution_count": 146,
   "id": "a56cff2b-54c3-4bd7-bdaa-1cfaf183ccd4",
   "metadata": {},
   "outputs": [
    {
     "data": {
      "text/plain": [
       "'Welcome to The Python'"
      ]
     },
     "execution_count": 146,
     "metadata": {},
     "output_type": "execute_result"
    }
   ],
   "source": [
    "my_str"
   ]
  },
  {
   "cell_type": "code",
   "execution_count": 95,
   "id": "5334fa63-34eb-4f21-84d1-e944fc8151a6",
   "metadata": {},
   "outputs": [
    {
     "data": {
      "text/plain": [
       "'Welcome to the Delhi'"
      ]
     },
     "execution_count": 95,
     "metadata": {},
     "output_type": "execute_result"
    }
   ],
   "source": [
    "my_str"
   ]
  },
  {
   "cell_type": "code",
   "execution_count": 101,
   "id": "dbd16471-5347-4fe5-84cf-a527632618ee",
   "metadata": {},
   "outputs": [
    {
     "data": {
      "text/plain": [
       "20"
      ]
     },
     "execution_count": 101,
     "metadata": {},
     "output_type": "execute_result"
    }
   ],
   "source": [
    "len(my_str)"
   ]
  },
  {
   "cell_type": "code",
   "execution_count": 103,
   "id": "d022e30e-74df-4b05-a41f-8a65e6b427d1",
   "metadata": {},
   "outputs": [
    {
     "data": {
      "text/plain": [
       "-1"
      ]
     },
     "execution_count": 103,
     "metadata": {},
     "output_type": "execute_result"
    }
   ],
   "source": [
    "my_str.find(\"o\",12)"
   ]
  },
  {
   "cell_type": "code",
   "execution_count": 109,
   "id": "89376a29-ff92-4ba3-92bb-26e3e47cf8c4",
   "metadata": {},
   "outputs": [
    {
     "data": {
      "text/plain": [
       "-1"
      ]
     },
     "execution_count": 109,
     "metadata": {},
     "output_type": "execute_result"
    }
   ],
   "source": [
    "my_str.find(\"o\", 10)"
   ]
  },
  {
   "cell_type": "code",
   "execution_count": 97,
   "id": "e0f402bb-506f-4796-ac93-cf1dc21a23ba",
   "metadata": {},
   "outputs": [
    {
     "data": {
      "text/plain": [
       "6"
      ]
     },
     "execution_count": 97,
     "metadata": {},
     "output_type": "execute_result"
    }
   ],
   "source": [
    "my_str.find(\"e\",2)"
   ]
  },
  {
   "cell_type": "code",
   "execution_count": 99,
   "id": "e5fe48f2-a0f9-4810-9fd9-5a9577b2a847",
   "metadata": {},
   "outputs": [
    {
     "data": {
      "text/plain": [
       "4"
      ]
     },
     "execution_count": 99,
     "metadata": {},
     "output_type": "execute_result"
    }
   ],
   "source": [
    "my_str.find(\"o\")"
   ]
  },
  {
   "cell_type": "code",
   "execution_count": 148,
   "id": "58006c57-72fc-4b02-892a-de3f6f8b8108",
   "metadata": {},
   "outputs": [
    {
     "data": {
      "text/plain": [
       "6"
      ]
     },
     "execution_count": 148,
     "metadata": {},
     "output_type": "execute_result"
    }
   ],
   "source": [
    "my_str.find(\"e\",3)"
   ]
  },
  {
   "cell_type": "code",
   "execution_count": 150,
   "id": "9221258a-d84c-406f-98f5-f46b05462d18",
   "metadata": {},
   "outputs": [
    {
     "data": {
      "text/plain": [
       "4"
      ]
     },
     "execution_count": 150,
     "metadata": {},
     "output_type": "execute_result"
    }
   ],
   "source": [
    "my_str.find(\"o\")"
   ]
  },
  {
   "cell_type": "code",
   "execution_count": 152,
   "id": "a0dbe8e0-8f41-4ba6-a38a-89d01e0da3f5",
   "metadata": {},
   "outputs": [
    {
     "data": {
      "text/plain": [
       "19"
      ]
     },
     "execution_count": 152,
     "metadata": {},
     "output_type": "execute_result"
    }
   ],
   "source": [
    "my_str.find(\"o\",11)"
   ]
  },
  {
   "cell_type": "code",
   "execution_count": null,
   "id": "1d3f8d8d-a9d0-4631-bb98-ffb81d8ffbae",
   "metadata": {},
   "outputs": [],
   "source": []
  },
  {
   "cell_type": "code",
   "execution_count": 154,
   "id": "9e5ed2ed-3b89-49ed-878c-c3bbf237bab7",
   "metadata": {},
   "outputs": [
    {
     "data": {
      "text/plain": [
       "'Welcome to The Python'"
      ]
     },
     "execution_count": 154,
     "metadata": {},
     "output_type": "execute_result"
    }
   ],
   "source": [
    "my_str"
   ]
  },
  {
   "cell_type": "code",
   "execution_count": 156,
   "id": "aea71d8c-467b-44e5-b4c3-c1a62726cf61",
   "metadata": {},
   "outputs": [
    {
     "name": "stdin",
     "output_type": "stream",
     "text": [
      "enter your name               mohit\n"
     ]
    }
   ],
   "source": [
    "name= input(\"enter your name\")"
   ]
  },
  {
   "cell_type": "code",
   "execution_count": 160,
   "id": "060eaa5a-ad65-4754-af00-48391838cc12",
   "metadata": {},
   "outputs": [
    {
     "data": {
      "text/plain": [
       "'              mohit'"
      ]
     },
     "execution_count": 160,
     "metadata": {},
     "output_type": "execute_result"
    }
   ],
   "source": [
    "name"
   ]
  },
  {
   "cell_type": "code",
   "execution_count": 162,
   "id": "ae37de15-36f5-4858-b3c7-c1bc357a1f52",
   "metadata": {},
   "outputs": [
    {
     "data": {
      "text/plain": [
       "19"
      ]
     },
     "execution_count": 162,
     "metadata": {},
     "output_type": "execute_result"
    }
   ],
   "source": [
    "len(name)\n"
   ]
  },
  {
   "cell_type": "code",
   "execution_count": 164,
   "id": "1e20e7ab-a8d8-43c5-b659-7d5221901b72",
   "metadata": {},
   "outputs": [
    {
     "data": {
      "text/plain": [
       "'mohit'"
      ]
     },
     "execution_count": 164,
     "metadata": {},
     "output_type": "execute_result"
    }
   ],
   "source": [
    "name.lstrip()"
   ]
  },
  {
   "cell_type": "code",
   "execution_count": 166,
   "id": "b896c012-145a-4fcc-b42c-879f71edc1b5",
   "metadata": {},
   "outputs": [
    {
     "data": {
      "text/plain": [
       "'              mohit'"
      ]
     },
     "execution_count": 166,
     "metadata": {},
     "output_type": "execute_result"
    }
   ],
   "source": [
    "name.rstrip()"
   ]
  },
  {
   "cell_type": "code",
   "execution_count": 168,
   "id": "c9095cc5-f493-4e37-8082-5851433640db",
   "metadata": {},
   "outputs": [],
   "source": [
    "name = name.strip()"
   ]
  },
  {
   "cell_type": "code",
   "execution_count": 172,
   "id": "37e8707d-5dbb-41c6-b1f3-14280bbc5c81",
   "metadata": {},
   "outputs": [
    {
     "data": {
      "text/plain": [
       "'mohit'"
      ]
     },
     "execution_count": 172,
     "metadata": {},
     "output_type": "execute_result"
    }
   ],
   "source": [
    "name"
   ]
  },
  {
   "cell_type": "code",
   "execution_count": null,
   "id": "6bdd1e13-1780-49aa-8c80-30b441fcb0fe",
   "metadata": {},
   "outputs": [],
   "source": []
  },
  {
   "cell_type": "code",
   "execution_count": null,
   "id": "90fc3bf6-d2f0-420b-98ff-9ae887e7817d",
   "metadata": {},
   "outputs": [],
   "source": [
    "# HOMEWORK QUESTIONS:"
   ]
  },
  {
   "cell_type": "code",
   "execution_count": null,
   "id": "bda96119-b1a9-418d-a609-33f2ca70b8c4",
   "metadata": {},
   "outputs": [],
   "source": [
    "# Write a Python program to check whether the given word is palindrome or not"
   ]
  },
  {
   "cell_type": "code",
   "execution_count": 2,
   "id": "7f50b1dc-ff36-4966-9569-e0ad69a34e17",
   "metadata": {},
   "outputs": [],
   "source": [
    "# Write a Python program to count number of vowels and consonants in a given sentence"
   ]
  },
  {
   "cell_type": "code",
   "execution_count": null,
   "id": "1071c692-83d4-4703-96f8-2fd735657e07",
   "metadata": {},
   "outputs": [],
   "source": [
    "# palindrome\n",
    "# level\n",
    "# refer\n",
    "# madam\n",
    "# rotor\n",
    "# dad"
   ]
  },
  {
   "cell_type": "code",
   "execution_count": 111,
   "id": "60b9100e-b5bc-48df-9bf6-36b61b68f8f2",
   "metadata": {},
   "outputs": [
    {
     "name": "stdin",
     "output_type": "stream",
     "text": [
      "Enter a word python\n"
     ]
    }
   ],
   "source": [
    "a = input(\"Enter a word\")"
   ]
  },
  {
   "cell_type": "code",
   "execution_count": 115,
   "id": "8a377056-11f0-4a28-a061-851dfa9c9779",
   "metadata": {},
   "outputs": [
    {
     "data": {
      "text/plain": [
       "'python'"
      ]
     },
     "execution_count": 115,
     "metadata": {},
     "output_type": "execute_result"
    }
   ],
   "source": [
    "a[::1]"
   ]
  },
  {
   "cell_type": "code",
   "execution_count": 3,
   "id": "a9a8f688-ca38-449b-9c58-a311861612fd",
   "metadata": {},
   "outputs": [
    {
     "name": "stdin",
     "output_type": "stream",
     "text": [
      "Enter a word public\n"
     ]
    }
   ],
   "source": [
    "s = input(\"Enter a word\")"
   ]
  },
  {
   "cell_type": "code",
   "execution_count": 5,
   "id": "80a1d26f-2527-42d5-b04c-a6870b05118e",
   "metadata": {},
   "outputs": [
    {
     "data": {
      "text/plain": [
       "'public'"
      ]
     },
     "execution_count": 5,
     "metadata": {},
     "output_type": "execute_result"
    }
   ],
   "source": [
    "s[::1]"
   ]
  },
  {
   "cell_type": "code",
   "execution_count": 119,
   "id": "7fb0b1cd-524a-4f42-bdb2-10f73f2fcb35",
   "metadata": {},
   "outputs": [
    {
     "name": "stdout",
     "output_type": "stream",
     "text": [
      "its not a palindrome\n"
     ]
    }
   ],
   "source": [
    "if a == a[::-1]:\n",
    "    print(\"its a palindrome\")\n",
    "else:\n",
    "    print(\"its not a palindrome\")"
   ]
  },
  {
   "cell_type": "code",
   "execution_count": 29,
   "id": "89c7fa8b-5319-4eae-80d2-238bac7660b2",
   "metadata": {},
   "outputs": [
    {
     "name": "stdin",
     "output_type": "stream",
     "text": [
      "Enter a word dad\n"
     ]
    }
   ],
   "source": [
    "d = input(\"Enter a word\")"
   ]
  },
  {
   "cell_type": "code",
   "execution_count": 31,
   "id": "1f92d488-6aed-4d8d-913d-73e9786bb89e",
   "metadata": {},
   "outputs": [
    {
     "name": "stdout",
     "output_type": "stream",
     "text": [
      "its a palindrome\n"
     ]
    }
   ],
   "source": [
    "if d == d[::-1]:\n",
    "    print(\"its a palindrome\")\n",
    "else:\n",
    "    print(\"its not a palindrome\")"
   ]
  },
  {
   "cell_type": "code",
   "execution_count": 7,
   "id": "5fbc0f19-6034-45b6-9fd7-68211eaea3d3",
   "metadata": {},
   "outputs": [
    {
     "name": "stdout",
     "output_type": "stream",
     "text": [
      "its not a palindrome\n"
     ]
    }
   ],
   "source": [
    "if s == s[::-1]:\n",
    "    print(\"its a palindrome\")\n",
    "else:\n",
    "    print(\"its not a palindrome\")"
   ]
  },
  {
   "cell_type": "code",
   "execution_count": 121,
   "id": "3207a30e-1ceb-4bcc-92fa-5deb89cd7851",
   "metadata": {},
   "outputs": [
    {
     "name": "stdin",
     "output_type": "stream",
     "text": [
      "Enter a word refer\n"
     ]
    }
   ],
   "source": [
    "i = input(\"Enter a word\")"
   ]
  },
  {
   "cell_type": "code",
   "execution_count": 123,
   "id": "1accef33-c0ef-45e8-957d-cc386b6d066f",
   "metadata": {},
   "outputs": [
    {
     "name": "stdout",
     "output_type": "stream",
     "text": [
      "its a palindrome\n"
     ]
    }
   ],
   "source": [
    "if i == i[::-1]:\n",
    "    print(\"its a palindrome\")\n",
    "else:\n",
    "    print(\"its not a palindrome\")"
   ]
  },
  {
   "cell_type": "code",
   "execution_count": 125,
   "id": "54c87fda-b672-4d49-833f-e8cb3b801788",
   "metadata": {},
   "outputs": [
    {
     "name": "stdout",
     "output_type": "stream",
     "text": [
      "its a palindrome\n"
     ]
    }
   ],
   "source": [
    "if i == i[::-1]:\n",
    "    print(\"its a palindrome\")\n",
    "else:\n",
    "    print(\"its not a palindrome\")"
   ]
  },
  {
   "cell_type": "code",
   "execution_count": 127,
   "id": "801be3fb-675f-40ce-bfe5-a72549012284",
   "metadata": {},
   "outputs": [
    {
     "name": "stdout",
     "output_type": "stream",
     "text": [
      "its a palinndrome\n"
     ]
    }
   ],
   "source": [
    "if i == i[::-1]:\n",
    "    print(\"its a palinndrome\")\n",
    "else:\n",
    "    print(\"its not a palindrome\")"
   ]
  },
  {
   "cell_type": "code",
   "execution_count": 12,
   "id": "cb81a668-2281-4af3-bc7c-ebf6f3a11cc0",
   "metadata": {},
   "outputs": [
    {
     "name": "stdin",
     "output_type": "stream",
     "text": [
      "Enter any word madam\n"
     ]
    }
   ],
   "source": [
    "word = input(\"Enter any word\")"
   ]
  },
  {
   "cell_type": "code",
   "execution_count": 14,
   "id": "19826876-593c-434f-a85b-9f80ee664c8d",
   "metadata": {},
   "outputs": [
    {
     "data": {
      "text/plain": [
       "'madam'"
      ]
     },
     "execution_count": 14,
     "metadata": {},
     "output_type": "execute_result"
    }
   ],
   "source": [
    "word"
   ]
  },
  {
   "cell_type": "code",
   "execution_count": 18,
   "id": "f4d0e67e-4849-4cc5-8a1d-11741151c603",
   "metadata": {},
   "outputs": [],
   "source": [
    "rev_word = word[::-1]"
   ]
  },
  {
   "cell_type": "code",
   "execution_count": 20,
   "id": "d8d86a1e-6e06-43fd-9743-a13d4355710e",
   "metadata": {},
   "outputs": [
    {
     "name": "stdout",
     "output_type": "stream",
     "text": [
      "The given word[word] is palindrome\n"
     ]
    }
   ],
   "source": [
    "# Method 1\n",
    "if word == rev_word:\n",
    "    print(f\"The given word[word] is palindrome\")\n",
    "else:\n",
    "    print(f\"The givem word[word] is not palindrome\")"
   ]
  },
  {
   "cell_type": "code",
   "execution_count": 141,
   "id": "c829a4f5-877b-48b2-bfb5-eb26f2019a6a",
   "metadata": {},
   "outputs": [
    {
     "ename": "SyntaxError",
     "evalue": "invalid syntax (1938788123.py, line 1)",
     "output_type": "error",
     "traceback": [
      "\u001b[1;36m  Cell \u001b[1;32mIn[141], line 1\u001b[1;36m\u001b[0m\n\u001b[1;33m    rev_word = word[::-1]0\u001b[0m\n\u001b[1;37m                         ^\u001b[0m\n\u001b[1;31mSyntaxError\u001b[0m\u001b[1;31m:\u001b[0m invalid syntax\n"
     ]
    }
   ],
   "source": [
    "rev_word = word[::-1]0"
   ]
  },
  {
   "cell_type": "code",
   "execution_count": null,
   "id": "06252a25-79bd-43f2-95e7-564e01f4a1ac",
   "metadata": {},
   "outputs": [],
   "source": [
    "if word == rev_word:\n",
    "    print(f\"The given word[word] is palindrome\")\n",
    "else:\n",
    "    print(f\"The given word[word] is not palindrome\")"
   ]
  },
  {
   "cell_type": "code",
   "execution_count": 51,
   "id": "a7114d38-c3b2-45f6-aa47-3bcacd243700",
   "metadata": {},
   "outputs": [
    {
     "name": "stdin",
     "output_type": "stream",
     "text": [
      "Enter any word: level\n"
     ]
    },
    {
     "name": "stdout",
     "output_type": "stream",
     "text": [
      "The given word level is palindrome\n"
     ]
    }
   ],
   "source": [
    "word = input(\"Enter any word:\")\n",
    "is_palindrome = True\n",
    "start = 0\n",
    "end = len(word)-1\n",
    "\n",
    "while (start>=end):\n",
    "    if word[start]!= word{end}:\n",
    "        is_palindrome = False\n",
    "        break\n",
    "    else:\n",
    "        start+=1\n",
    "        end-=1\n",
    "\n",
    "if is_palindrome:\n",
    "    print(f\"The given word {word} is palindrome\")\n",
    "else:\n",
    "    print(f\"The given word {word} is not palindrome\")"
   ]
  },
  {
   "cell_type": "code",
   "execution_count": 143,
   "id": "e83bb461-5ede-4665-a710-0fe9946573d0",
   "metadata": {},
   "outputs": [
    {
     "name": "stdin",
     "output_type": "stream",
     "text": [
      "enter any word: Dad\n"
     ]
    }
   ],
   "source": [
    "word = input(\"enter any word:\")"
   ]
  },
  {
   "cell_type": "code",
   "execution_count": 147,
   "id": "869efbf0-0581-4a09-936f-bccab446437d",
   "metadata": {},
   "outputs": [
    {
     "name": "stdin",
     "output_type": "stream",
     "text": [
      "enter any word: refer\n"
     ]
    },
    {
     "name": "stdout",
     "output_type": "stream",
     "text": [
      "The given word refer is palindrome\n",
      "The given word refer is not palindrome\n"
     ]
    }
   ],
   "source": [
    "word = input(\"enter any word:\")\n",
    "is_palindrome = True\n",
    "start = 0\n",
    "end = len(word)-1\n",
    "\n",
    "while (start>=end):\n",
    "    if word[start]!= word[end]:\n",
    "        is_palindrome = False\n",
    "        break\n",
    "    else:\n",
    "        start+=1\n",
    "        end+=1\n",
    "if is_palindrome:\n",
    "    print(f\"The given word {word} is palindrome\")\n",
    "    print(f\"The given word {word} is not palindrome\")"
   ]
  },
  {
   "cell_type": "code",
   "execution_count": 5,
   "id": "fa85514e-bbe8-43af-bf68-ca8f06fe9378",
   "metadata": {},
   "outputs": [
    {
     "name": "stdin",
     "output_type": "stream",
     "text": [
      "enter any word: dadd\n"
     ]
    },
    {
     "name": "stdout",
     "output_type": "stream",
     "text": [
      "The given word dadd is palindrome\n",
      "The given word dadd is not palindrome\n"
     ]
    }
   ],
   "source": [
    "word = input(\"enter any word:\")\n",
    "is_palindrome = True\n",
    "start = 0\n",
    "end = len(word)-1\n",
    "\n",
    "while (start>=end):\n",
    "    if word[start]!= word[end]:\n",
    "        is_palindrome = False\n",
    "        break\n",
    "    else:\n",
    "        start+=1\n",
    "        end+=1\n",
    "if is_palindrome:\n",
    "    print(f\"The given word {word} is palindrome\")\n",
    "    print(f\"The given word {word} is not palindrome\")"
   ]
  },
  {
   "cell_type": "code",
   "execution_count": null,
   "id": "4d25fa26-d964-46e5-9332-35da7cb1b972",
   "metadata": {},
   "outputs": [],
   "source": []
  },
  {
   "cell_type": "code",
   "execution_count": null,
   "id": "fdf48786-2286-4e0d-9efd-32df89bc1ea2",
   "metadata": {},
   "outputs": [],
   "source": []
  },
  {
   "cell_type": "code",
   "execution_count": null,
   "id": "5a1f99cf-c93d-4057-8ebf-f126fd9344a2",
   "metadata": {},
   "outputs": [],
   "source": [
    "# Write a Python program to count number of vowels and consonants in a given sentence"
   ]
  },
  {
   "cell_type": "code",
   "execution_count": 1,
   "id": "a57bc45c-90e8-45b5-b249-0588af05b5ca",
   "metadata": {},
   "outputs": [
    {
     "name": "stdin",
     "output_type": "stream",
     "text": [
      "Enter any sentence: we are learning python. Python is Very Important Language, and wildly used in data analytics.\n"
     ]
    }
   ],
   "source": [
    "sent = input(\"Enter any sentence:\")"
   ]
  },
  {
   "cell_type": "code",
   "execution_count": 9,
   "id": "45ce1ba6-051c-453c-a845-b639b47d8ab9",
   "metadata": {},
   "outputs": [
    {
     "name": "stdout",
     "output_type": "stream",
     "text": [
      "Total number of vowels are 27\n",
      "Total number of consoents are 66\n"
     ]
    }
   ],
   "source": [
    "vowel_count = 0\n",
    "conso_count = 0\n",
    "\n",
    "for i in sent:\n",
    "    if i in \"aeiouAEIOU\":\n",
    "        vowel_count+=1\n",
    "    else:\n",
    "        conso_count+=1\n",
    "\n",
    "print(f\"Total number of vowels are {vowel_count}\")\n",
    "print(f\"Total number of consoents are {conso_count}\")"
   ]
  },
  {
   "cell_type": "code",
   "execution_count": 7,
   "id": "542ad90b-d1f6-44d6-87f8-2e7617e182db",
   "metadata": {},
   "outputs": [
    {
     "name": "stdin",
     "output_type": "stream",
     "text": [
      "Enter any sentence: we are learning sql.SQL is Very Important Language.and wildly used in data analytics,\n"
     ]
    }
   ],
   "source": [
    "sent = input (\"Enter any sentence:\")"
   ]
  },
  {
   "cell_type": "code",
   "execution_count": 9,
   "id": "45706d8b-70c6-4c31-9917-34a19445de97",
   "metadata": {},
   "outputs": [
    {
     "name": "stdout",
     "output_type": "stream",
     "text": [
      "Total number of vowels are 25\n",
      "Total number of consonents are 60\n"
     ]
    }
   ],
   "source": [
    "vowel_count = 0\n",
    "conso_count = 0\n",
    "\n",
    "for i in sent:\n",
    "    if i in \"aeiouAEIOU\":\n",
    "        vowel_count+=1\n",
    "    else:\n",
    "        conso_count+=1\n",
    "\n",
    "print(f\"Total number of vowels are {vowel_count}\")\n",
    "print(f\"Total number of consonents are {conso_count}\")"
   ]
  },
  {
   "cell_type": "code",
   "execution_count": 11,
   "id": "7e70963c-6b4c-4b2d-9f9c-46e90d1ecbbb",
   "metadata": {},
   "outputs": [
    {
     "name": "stdout",
     "output_type": "stream",
     "text": [
      "Total number of vowels are 25\n",
      "Total number of consonents are 60\n"
     ]
    }
   ],
   "source": [
    "vowel_count = 0\n",
    "conso_count = 0\n",
    "\n",
    "for i in sent:\n",
    "    if i in \"aeiouAEIOU\":\n",
    "        vowel_count+=1\n",
    "    else:\n",
    "        conso_count+=1\n",
    "\n",
    "print(f\"Total number of vowels are {vowel_count}\")\n",
    "print(f\"Total number of consonents are {conso_count}\")"
   ]
  },
  {
   "cell_type": "code",
   "execution_count": null,
   "id": "2a4d8f23-b55d-436b-8395-2e05553376bd",
   "metadata": {},
   "outputs": [],
   "source": []
  },
  {
   "cell_type": "code",
   "execution_count": null,
   "id": "b3ddefc8-e960-47e8-9ca1-e4e5aefd0511",
   "metadata": {},
   "outputs": [],
   "source": []
  },
  {
   "cell_type": "code",
   "execution_count": 57,
   "id": "779ceab5-3152-4c4f-ba23-668a5fd0b859",
   "metadata": {},
   "outputs": [],
   "source": [
    "# home work question :take the name input from the user in lowercase and print the username in this format username @PRATEEK7"
   ]
  },
  {
   "cell_type": "code",
   "execution_count": 17,
   "id": "4af850ec-46e1-4e68-9dee-069f84fa7ce6",
   "metadata": {},
   "outputs": [
    {
     "name": "stdin",
     "output_type": "stream",
     "text": [
      "Enter your name @mohammad8\n"
     ]
    }
   ],
   "source": [
    "username = input(\"Enter your name\")"
   ]
  },
  {
   "cell_type": "code",
   "execution_count": 19,
   "id": "4e7bc8cb-500f-41a4-b391-44d7b202e64d",
   "metadata": {},
   "outputs": [
    {
     "data": {
      "text/plain": [
       "'@mohammad8'"
      ]
     },
     "execution_count": 19,
     "metadata": {},
     "output_type": "execute_result"
    }
   ],
   "source": [
    "username"
   ]
  },
  {
   "cell_type": "code",
   "execution_count": 21,
   "id": "7aba14e1-c58b-4390-b5fa-d4fea0429533",
   "metadata": {},
   "outputs": [
    {
     "data": {
      "text/plain": [
       "'@MOHAMMAD8'"
      ]
     },
     "execution_count": 21,
     "metadata": {},
     "output_type": "execute_result"
    }
   ],
   "source": [
    "username.upper()"
   ]
  },
  {
   "cell_type": "code",
   "execution_count": 25,
   "id": "8daf5657-81b2-456e-8faa-dfe0841ef065",
   "metadata": {},
   "outputs": [
    {
     "name": "stdin",
     "output_type": "stream",
     "text": [
      "Enter your username mohammad \n"
     ]
    },
    {
     "name": "stdout",
     "output_type": "stream",
     "text": [
      "Hello Mr. Mohammad your username is MOHAMMAD \n"
     ]
    }
   ],
   "source": [
    "username = input(\"Enter your username\")\n",
    "\n",
    "username = username.upper()\n",
    "\n",
    "print(f\"Hello Mr. Mohammad your username is {username}\")"
   ]
  },
  {
   "cell_type": "code",
   "execution_count": null,
   "id": "b7a28a44-06cd-413b-950e-966195f9965a",
   "metadata": {},
   "outputs": [],
   "source": []
  },
  {
   "cell_type": "code",
   "execution_count": null,
   "id": "02ff32b8-c9b5-4fda-8696-4e7121f2540c",
   "metadata": {},
   "outputs": [],
   "source": []
  },
  {
   "cell_type": "code",
   "execution_count": 93,
   "id": "6660604c-85e5-4ea8-a781-253a43693190",
   "metadata": {},
   "outputs": [
    {
     "name": "stdin",
     "output_type": "stream",
     "text": [
      "enter your name code with harry\n"
     ]
    }
   ],
   "source": [
    "username= input(\"enter your name\")"
   ]
  },
  {
   "cell_type": "code",
   "execution_count": 95,
   "id": "6fdf37b0-a137-418e-a6b0-7a2e9470747b",
   "metadata": {},
   "outputs": [
    {
     "data": {
      "text/plain": [
       "'code with harry'"
      ]
     },
     "execution_count": 95,
     "metadata": {},
     "output_type": "execute_result"
    }
   ],
   "source": [
    "username"
   ]
  },
  {
   "cell_type": "code",
   "execution_count": 99,
   "id": "1e2c573c-55a8-4c3f-8823-77e91081c194",
   "metadata": {},
   "outputs": [
    {
     "data": {
      "text/plain": [
       "'CODE WITH HARRY'"
      ]
     },
     "execution_count": 99,
     "metadata": {},
     "output_type": "execute_result"
    }
   ],
   "source": [
    "username.upper()"
   ]
  },
  {
   "cell_type": "code",
   "execution_count": 11,
   "id": "c9a3d292-758a-4667-90c0-9a9f066ce4b7",
   "metadata": {},
   "outputs": [
    {
     "name": "stdin",
     "output_type": "stream",
     "text": [
      "Enter your username:  ramesh\n"
     ]
    },
    {
     "name": "stdout",
     "output_type": "stream",
     "text": [
      "Hello Mr. Ramesh your username is RAMESH\n"
     ]
    }
   ],
   "source": [
    "username = input('Enter your username: ')\n",
    "\n",
    "username = username.upper()\n",
    "\n",
    "print(f'Hello Mr. Ramesh your username is {username}')"
   ]
  },
  {
   "cell_type": "code",
   "execution_count": null,
   "id": "20e3e666-8874-4f0f-b1d8-417d7b280888",
   "metadata": {},
   "outputs": [],
   "source": []
  },
  {
   "cell_type": "markdown",
   "id": "41682e27-9bd4-4a2a-b49e-c20f7f53cdee",
   "metadata": {},
   "source": [
    "# List:\n",
    "\n",
    "* list are collection of elements which is ordered/sequence\n",
    "* list are indexible and slicable\n",
    "* list are mutable in nature: changeable in nature\n",
    "* list can store homogenous- similar and hetrogenous- different type of data"
   ]
  },
  {
   "cell_type": "code",
   "execution_count": null,
   "id": "653c952c-a04c-4f41-a876-adedbe8e2eb3",
   "metadata": {},
   "outputs": [],
   "source": []
  },
  {
   "cell_type": "code",
   "execution_count": 4,
   "id": "30c2cb80-7b2f-4f94-b6cb-910be2e29f1b",
   "metadata": {},
   "outputs": [],
   "source": [
    "t = list()"
   ]
  },
  {
   "cell_type": "code",
   "execution_count": 6,
   "id": "d617ae84-aa86-4cd2-be04-3f4b518f8b0a",
   "metadata": {},
   "outputs": [
    {
     "data": {
      "text/plain": [
       "list"
      ]
     },
     "execution_count": 6,
     "metadata": {},
     "output_type": "execute_result"
    }
   ],
   "source": [
    "type(t)"
   ]
  },
  {
   "cell_type": "code",
   "execution_count": 8,
   "id": "7245f691-5122-401b-8f75-75652e4244da",
   "metadata": {},
   "outputs": [],
   "source": [
    "r = []"
   ]
  },
  {
   "cell_type": "code",
   "execution_count": 10,
   "id": "31f83954-aec4-447a-97cc-de8478119e47",
   "metadata": {},
   "outputs": [
    {
     "data": {
      "text/plain": [
       "list"
      ]
     },
     "execution_count": 10,
     "metadata": {},
     "output_type": "execute_result"
    }
   ],
   "source": [
    "type (r)"
   ]
  },
  {
   "cell_type": "code",
   "execution_count": 12,
   "id": "a8aaf77d-1fd7-42bb-9d40-3180d6f970b0",
   "metadata": {},
   "outputs": [],
   "source": [
    "w = [5,6,7,8,9,10,11,15,18]"
   ]
  },
  {
   "cell_type": "code",
   "execution_count": 14,
   "id": "7ef652c7-7e28-4e20-8e1a-4a928c0c0fc9",
   "metadata": {},
   "outputs": [
    {
     "data": {
      "text/plain": [
       "[5, 6, 7, 8, 9, 10, 11, 15, 18]"
      ]
     },
     "execution_count": 14,
     "metadata": {},
     "output_type": "execute_result"
    }
   ],
   "source": [
    "w"
   ]
  },
  {
   "cell_type": "code",
   "execution_count": 16,
   "id": "d629ecb8-27ff-45bc-868e-939b71755631",
   "metadata": {},
   "outputs": [
    {
     "data": {
      "text/plain": [
       "list"
      ]
     },
     "execution_count": 16,
     "metadata": {},
     "output_type": "execute_result"
    }
   ],
   "source": [
    "type(w)"
   ]
  },
  {
   "cell_type": "code",
   "execution_count": null,
   "id": "d4ebacd1-4de8-4327-aec2-aca2cfea40ca",
   "metadata": {},
   "outputs": [],
   "source": []
  },
  {
   "cell_type": "code",
   "execution_count": 18,
   "id": "2a495296-7bbc-41a1-bf2d-3999d2bbb5e4",
   "metadata": {},
   "outputs": [],
   "source": [
    "v = [7,8,9,5,6,7,9 ,True, False,5+6j, \"python\", [7,8,9], [10,15,16], {\"A\":1, \"B\":2}]"
   ]
  },
  {
   "cell_type": "code",
   "execution_count": 25,
   "id": "3dde7d27-f2db-4bee-ab68-621a77e9ba25",
   "metadata": {},
   "outputs": [
    {
     "data": {
      "text/plain": [
       "list"
      ]
     },
     "execution_count": 25,
     "metadata": {},
     "output_type": "execute_result"
    }
   ],
   "source": [
    "type(v)"
   ]
  },
  {
   "cell_type": "code",
   "execution_count": 20,
   "id": "24aa38d0-5ac9-406d-9337-e0e26fb0f9e5",
   "metadata": {},
   "outputs": [
    {
     "data": {
      "text/plain": [
       "[5, 6, 7, 8, 9, 10, 11, 15, 18]"
      ]
     },
     "execution_count": 20,
     "metadata": {},
     "output_type": "execute_result"
    }
   ],
   "source": [
    "w"
   ]
  },
  {
   "cell_type": "code",
   "execution_count": 22,
   "id": "c1888e7b-940b-4a26-acd4-0173db5d260b",
   "metadata": {},
   "outputs": [
    {
     "data": {
      "text/plain": [
       "8"
      ]
     },
     "execution_count": 22,
     "metadata": {},
     "output_type": "execute_result"
    }
   ],
   "source": [
    "w[3]"
   ]
  },
  {
   "cell_type": "code",
   "execution_count": 24,
   "id": "3fefea70-8c93-4aa7-a3d6-1627ec85f6db",
   "metadata": {},
   "outputs": [
    {
     "data": {
      "text/plain": [
       "7"
      ]
     },
     "execution_count": 24,
     "metadata": {},
     "output_type": "execute_result"
    }
   ],
   "source": [
    "w[2]"
   ]
  },
  {
   "cell_type": "code",
   "execution_count": 26,
   "id": "287d4e5c-24eb-48fe-875b-982bf49be28e",
   "metadata": {},
   "outputs": [
    {
     "data": {
      "text/plain": [
       "10"
      ]
     },
     "execution_count": 26,
     "metadata": {},
     "output_type": "execute_result"
    }
   ],
   "source": [
    "w[5]"
   ]
  },
  {
   "cell_type": "code",
   "execution_count": 28,
   "id": "ba6ec333-7ba8-4ae6-9678-cb98d4f71518",
   "metadata": {},
   "outputs": [
    {
     "data": {
      "text/plain": [
       "18"
      ]
     },
     "execution_count": 28,
     "metadata": {},
     "output_type": "execute_result"
    }
   ],
   "source": [
    "w[-1]"
   ]
  },
  {
   "cell_type": "code",
   "execution_count": 30,
   "id": "2e05f513-95c8-45f9-83ff-8ef0ede290d9",
   "metadata": {},
   "outputs": [
    {
     "data": {
      "text/plain": [
       "11"
      ]
     },
     "execution_count": 30,
     "metadata": {},
     "output_type": "execute_result"
    }
   ],
   "source": [
    "w[-3]"
   ]
  },
  {
   "cell_type": "code",
   "execution_count": 34,
   "id": "09c1c934-219e-4e80-adb5-71240889ae0f",
   "metadata": {},
   "outputs": [
    {
     "data": {
      "text/plain": [
       "[6, 7, 8]"
      ]
     },
     "execution_count": 34,
     "metadata": {},
     "output_type": "execute_result"
    }
   ],
   "source": [
    "w[1:4]"
   ]
  },
  {
   "cell_type": "code",
   "execution_count": 36,
   "id": "d928e7ff-2749-41a7-900b-a6d2b1ba5775",
   "metadata": {},
   "outputs": [
    {
     "data": {
      "text/plain": [
       "[5, 6, 7, 8, 9, 10, 11]"
      ]
     },
     "execution_count": 36,
     "metadata": {},
     "output_type": "execute_result"
    }
   ],
   "source": [
    "w[:7]"
   ]
  },
  {
   "cell_type": "code",
   "execution_count": 38,
   "id": "cd0379a4-1344-4223-987a-824e22f6b805",
   "metadata": {},
   "outputs": [
    {
     "data": {
      "text/plain": [
       "[5, 6, 7, 8, 9, 10, 11, 15, 18]"
      ]
     },
     "execution_count": 38,
     "metadata": {},
     "output_type": "execute_result"
    }
   ],
   "source": [
    "w"
   ]
  },
  {
   "cell_type": "code",
   "execution_count": 40,
   "id": "ac7d1890-e108-44e5-9a5d-114f23703a5f",
   "metadata": {},
   "outputs": [
    {
     "data": {
      "text/plain": [
       "[5, 6, 7, 8, 9, 10, 11]"
      ]
     },
     "execution_count": 40,
     "metadata": {},
     "output_type": "execute_result"
    }
   ],
   "source": [
    "w[:-2]"
   ]
  },
  {
   "cell_type": "code",
   "execution_count": 42,
   "id": "4799c1da-5359-448c-9d83-d99876958133",
   "metadata": {},
   "outputs": [
    {
     "data": {
      "text/plain": [
       "[6, 7, 8, 9, 10, 11, 15]"
      ]
     },
     "execution_count": 42,
     "metadata": {},
     "output_type": "execute_result"
    }
   ],
   "source": [
    "w[1:-1]"
   ]
  },
  {
   "cell_type": "code",
   "execution_count": 44,
   "id": "f5c2e22b-e50d-40be-990d-8883e68f8631",
   "metadata": {},
   "outputs": [
    {
     "data": {
      "text/plain": [
       "[18, 15, 11, 10, 9, 8, 7, 6, 5]"
      ]
     },
     "execution_count": 44,
     "metadata": {},
     "output_type": "execute_result"
    }
   ],
   "source": [
    "w[::-1]"
   ]
  },
  {
   "cell_type": "code",
   "execution_count": 46,
   "id": "e7c5d9c4-f842-443e-aa6c-b9c358a3bedf",
   "metadata": {},
   "outputs": [
    {
     "data": {
      "text/plain": [
       "[7, 8, 9, 10, 11]"
      ]
     },
     "execution_count": 46,
     "metadata": {},
     "output_type": "execute_result"
    }
   ],
   "source": [
    "w[2:-2]"
   ]
  },
  {
   "cell_type": "code",
   "execution_count": 48,
   "id": "9f503eae-f635-42f8-88ec-9c8dc69720c3",
   "metadata": {},
   "outputs": [
    {
     "data": {
      "text/plain": [
       "[18, 15, 11, 10, 9, 8, 7, 6, 5]"
      ]
     },
     "execution_count": 48,
     "metadata": {},
     "output_type": "execute_result"
    }
   ],
   "source": [
    "w[::-1]"
   ]
  },
  {
   "cell_type": "code",
   "execution_count": 54,
   "id": "16424dbb-853a-41b3-996e-06ead7f04d95",
   "metadata": {},
   "outputs": [
    {
     "data": {
      "text/plain": [
       "[5, 6, 7, 8, 9, 10, 11, 15, 18]"
      ]
     },
     "execution_count": 54,
     "metadata": {},
     "output_type": "execute_result"
    }
   ],
   "source": [
    "w"
   ]
  },
  {
   "cell_type": "code",
   "execution_count": 56,
   "id": "8bf1a4e1-9196-409b-a9e3-e4a7cb232e4c",
   "metadata": {},
   "outputs": [],
   "source": [
    "w[2] =70"
   ]
  },
  {
   "cell_type": "code",
   "execution_count": 58,
   "id": "e7e46614-eb0c-4f54-9b88-ede22297b059",
   "metadata": {},
   "outputs": [
    {
     "data": {
      "text/plain": [
       "[5, 6, 70, 8, 9, 10, 11, 15, 18]"
      ]
     },
     "execution_count": 58,
     "metadata": {},
     "output_type": "execute_result"
    }
   ],
   "source": [
    "w"
   ]
  },
  {
   "cell_type": "code",
   "execution_count": 60,
   "id": "492b3903-6864-424c-9d7c-b23345f86efd",
   "metadata": {},
   "outputs": [],
   "source": [
    "w[4] = 90"
   ]
  },
  {
   "cell_type": "code",
   "execution_count": 62,
   "id": "4ca0514a-44a7-4cd6-aa0a-8c6b40e019c0",
   "metadata": {},
   "outputs": [
    {
     "data": {
      "text/plain": [
       "[5, 6, 70, 8, 90, 10, 11, 15, 18]"
      ]
     },
     "execution_count": 62,
     "metadata": {},
     "output_type": "execute_result"
    }
   ],
   "source": [
    "w"
   ]
  },
  {
   "cell_type": "code",
   "execution_count": 64,
   "id": "f8e35434-6761-4070-9093-75d8b5cdcdf9",
   "metadata": {},
   "outputs": [],
   "source": [
    "w[2] = 70 # mutablabilty"
   ]
  },
  {
   "cell_type": "code",
   "execution_count": 72,
   "id": "329e8f35-477f-4bd2-a599-4efe80661e1d",
   "metadata": {},
   "outputs": [
    {
     "data": {
      "text/plain": [
       "[5, 6, 70, 8, 90, 10, 11, 15, 18]"
      ]
     },
     "execution_count": 72,
     "metadata": {},
     "output_type": "execute_result"
    }
   ],
   "source": [
    "w"
   ]
  },
  {
   "cell_type": "code",
   "execution_count": null,
   "id": "62e045f1-b5d0-42ba-81b4-c2d7bbc77e0b",
   "metadata": {},
   "outputs": [],
   "source": []
  },
  {
   "cell_type": "code",
   "execution_count": 74,
   "id": "d7eab86a-8cef-4a46-aae3-93dcaa8dfdaa",
   "metadata": {},
   "outputs": [
    {
     "data": {
      "text/plain": [
       "[5, 6, 70, 8, 90, 10, 11, 15, 18]"
      ]
     },
     "execution_count": 74,
     "metadata": {},
     "output_type": "execute_result"
    }
   ],
   "source": [
    "w"
   ]
  },
  {
   "cell_type": "code",
   "execution_count": 84,
   "id": "104b0786-75d9-4a11-af40-3fc1b15fb5fb",
   "metadata": {},
   "outputs": [],
   "source": [
    "w[-4] = 100"
   ]
  },
  {
   "cell_type": "code",
   "execution_count": 86,
   "id": "584fa741-3513-4770-9939-2f98efb4761d",
   "metadata": {},
   "outputs": [
    {
     "data": {
      "text/plain": [
       "[5, 6, 70, 8, 90, 100, 11, 15, 18]"
      ]
     },
     "execution_count": 86,
     "metadata": {},
     "output_type": "execute_result"
    }
   ],
   "source": [
    "w"
   ]
  },
  {
   "cell_type": "markdown",
   "id": "0e67d37e-dce7-4c1a-9943-eee599790270",
   "metadata": {},
   "source": [
    "# Some methods of list:"
   ]
  },
  {
   "cell_type": "code",
   "execution_count": 47,
   "id": "900cd5aa-2a6e-416c-9089-8d8ddfd82ed0",
   "metadata": {},
   "outputs": [],
   "source": [
    "my_str = \"Welcome to the Course\""
   ]
  },
  {
   "cell_type": "code",
   "execution_count": 49,
   "id": "1e6d6f05-ebf2-4d6e-94ef-38c9456a29dc",
   "metadata": {},
   "outputs": [
    {
     "data": {
      "text/plain": [
       "'Welcome to the Course'"
      ]
     },
     "execution_count": 49,
     "metadata": {},
     "output_type": "execute_result"
    }
   ],
   "source": [
    "my_str"
   ]
  },
  {
   "cell_type": "code",
   "execution_count": 51,
   "id": "725a4cb1-c862-4165-8a35-3bd989b71a59",
   "metadata": {},
   "outputs": [
    {
     "data": {
      "text/plain": [
       "'WELCOME TO THE COURSE'"
      ]
     },
     "execution_count": 51,
     "metadata": {},
     "output_type": "execute_result"
    }
   ],
   "source": [
    "my_str.upper()"
   ]
  },
  {
   "cell_type": "code",
   "execution_count": 53,
   "id": "201b583d-d57e-496c-8c6f-1cf0e64c80f5",
   "metadata": {},
   "outputs": [
    {
     "data": {
      "text/plain": [
       "'welcome to the course'"
      ]
     },
     "execution_count": 53,
     "metadata": {},
     "output_type": "execute_result"
    }
   ],
   "source": [
    "my_str.lower()"
   ]
  },
  {
   "cell_type": "code",
   "execution_count": 55,
   "id": "acd0eece-f1ac-4428-bc81-6043e86388b4",
   "metadata": {},
   "outputs": [
    {
     "data": {
      "text/plain": [
       "'Welcome to the course'"
      ]
     },
     "execution_count": 55,
     "metadata": {},
     "output_type": "execute_result"
    }
   ],
   "source": [
    "my_str.capitalize()"
   ]
  },
  {
   "cell_type": "code",
   "execution_count": 57,
   "id": "4ac54457-2640-44a1-8bc6-23784a835413",
   "metadata": {},
   "outputs": [
    {
     "data": {
      "text/plain": [
       "-1"
      ]
     },
     "execution_count": 57,
     "metadata": {},
     "output_type": "execute_result"
    }
   ],
   "source": [
    "my_str.find(\"bad\")"
   ]
  },
  {
   "cell_type": "code",
   "execution_count": 59,
   "id": "6f61e208-a37b-415e-ac58-fc58e4b3301d",
   "metadata": {},
   "outputs": [
    {
     "data": {
      "text/plain": [
       "4"
      ]
     },
     "execution_count": 59,
     "metadata": {},
     "output_type": "execute_result"
    }
   ],
   "source": [
    "my_str.count(\"e\")"
   ]
  },
  {
   "cell_type": "code",
   "execution_count": 61,
   "id": "9aa6a330-69de-4f44-bb5d-4cabcb1a777d",
   "metadata": {},
   "outputs": [
    {
     "data": {
      "text/plain": [
       "2"
      ]
     },
     "execution_count": 61,
     "metadata": {},
     "output_type": "execute_result"
    }
   ],
   "source": [
    "my_str.count(\"t\")"
   ]
  },
  {
   "cell_type": "code",
   "execution_count": 63,
   "id": "52c96348-3c6e-4e29-861d-95769c05f834",
   "metadata": {},
   "outputs": [
    {
     "data": {
      "text/plain": [
       "1"
      ]
     },
     "execution_count": 63,
     "metadata": {},
     "output_type": "execute_result"
    }
   ],
   "source": [
    "my_str.count(\"C\")"
   ]
  },
  {
   "cell_type": "code",
   "execution_count": 69,
   "id": "ecb3117c-097f-4841-a0b6-d35faf512825",
   "metadata": {},
   "outputs": [
    {
     "name": "stdin",
     "output_type": "stream",
     "text": [
      "Enter your name:            Umar\n"
     ]
    }
   ],
   "source": [
    "name = input(\"Enter your name:\")"
   ]
  },
  {
   "cell_type": "code",
   "execution_count": 71,
   "id": "42a0ba8f-3780-4cc4-a63f-439e69d08bf7",
   "metadata": {},
   "outputs": [
    {
     "data": {
      "text/plain": [
       "'Umar'"
      ]
     },
     "execution_count": 71,
     "metadata": {},
     "output_type": "execute_result"
    }
   ],
   "source": [
    "name.lstrip()"
   ]
  },
  {
   "cell_type": "code",
   "execution_count": 73,
   "id": "88973f76-9ba3-4507-a9f4-37635f2d3353",
   "metadata": {},
   "outputs": [
    {
     "data": {
      "text/plain": [
       "'Umar'"
      ]
     },
     "execution_count": 73,
     "metadata": {},
     "output_type": "execute_result"
    }
   ],
   "source": [
    "name.strip()"
   ]
  },
  {
   "cell_type": "code",
   "execution_count": 89,
   "id": "f60bfc9f-b284-4aeb-89b2-a0ab20dbd234",
   "metadata": {},
   "outputs": [],
   "source": [
    "w.append(190)"
   ]
  },
  {
   "cell_type": "code",
   "execution_count": 91,
   "id": "91fa56f8-5b63-4f9f-aeff-bf4eea16e3b1",
   "metadata": {},
   "outputs": [
    {
     "data": {
      "text/plain": [
       "[5, 6, 70, 8, 90, 100, 11, 15, 18, 190]"
      ]
     },
     "execution_count": 91,
     "metadata": {},
     "output_type": "execute_result"
    }
   ],
   "source": [
    "w"
   ]
  },
  {
   "cell_type": "code",
   "execution_count": 93,
   "id": "e4f45b5c-f484-45bb-b8db-557e7e826041",
   "metadata": {},
   "outputs": [],
   "source": [
    "w.append(200)"
   ]
  },
  {
   "cell_type": "code",
   "execution_count": 95,
   "id": "bcd92369-9657-4427-853c-ee5d5a99096f",
   "metadata": {},
   "outputs": [
    {
     "data": {
      "text/plain": [
       "[5, 6, 70, 8, 90, 100, 11, 15, 18, 190, 200]"
      ]
     },
     "execution_count": 95,
     "metadata": {},
     "output_type": "execute_result"
    }
   ],
   "source": [
    "w"
   ]
  },
  {
   "cell_type": "code",
   "execution_count": 97,
   "id": "e59e1ec9-3813-46e3-954e-bc65454637de",
   "metadata": {},
   "outputs": [],
   "source": [
    "w.append(300)"
   ]
  },
  {
   "cell_type": "code",
   "execution_count": 99,
   "id": "670238d8-f3f9-4d34-b768-e48122d14c6b",
   "metadata": {},
   "outputs": [
    {
     "data": {
      "text/plain": [
       "[5, 6, 70, 8, 90, 100, 11, 15, 18, 190, 200, 300]"
      ]
     },
     "execution_count": 99,
     "metadata": {},
     "output_type": "execute_result"
    }
   ],
   "source": [
    "w"
   ]
  },
  {
   "cell_type": "code",
   "execution_count": 101,
   "id": "834fd5cc-d5a7-4eae-978c-cadf867ff01e",
   "metadata": {},
   "outputs": [],
   "source": [
    "w.append(\"python\")"
   ]
  },
  {
   "cell_type": "code",
   "execution_count": 103,
   "id": "3cce0ea7-d9fe-496a-986e-168e9a3f657c",
   "metadata": {},
   "outputs": [
    {
     "data": {
      "text/plain": [
       "[5, 6, 70, 8, 90, 100, 11, 15, 18, 190, 200, 300, 'python']"
      ]
     },
     "execution_count": 103,
     "metadata": {},
     "output_type": "execute_result"
    }
   ],
   "source": [
    "w"
   ]
  },
  {
   "cell_type": "code",
   "execution_count": 107,
   "id": "c6bfd4f9-4202-4900-8756-17c1db9a6736",
   "metadata": {},
   "outputs": [],
   "source": [
    "w.insert(3,95)"
   ]
  },
  {
   "cell_type": "code",
   "execution_count": 109,
   "id": "6037ba24-c2c6-4bfa-9f5c-a7cece228594",
   "metadata": {},
   "outputs": [
    {
     "data": {
      "text/plain": [
       "[5, 6, 70, 95, 8, 90, 100, 11, 15, 18, 190, 200, 300, 'python']"
      ]
     },
     "execution_count": 109,
     "metadata": {},
     "output_type": "execute_result"
    }
   ],
   "source": [
    "w"
   ]
  },
  {
   "cell_type": "code",
   "execution_count": 111,
   "id": "e6e6b2ed-9ad3-4db1-8efc-901bb501f627",
   "metadata": {},
   "outputs": [],
   "source": [
    "w.insert(1,10)"
   ]
  },
  {
   "cell_type": "code",
   "execution_count": 113,
   "id": "bac8bc57-a56f-455f-947e-3a4cf64f3703",
   "metadata": {},
   "outputs": [
    {
     "data": {
      "text/plain": [
       "[5, 10, 6, 70, 95, 8, 90, 100, 11, 15, 18, 190, 200, 300, 'python']"
      ]
     },
     "execution_count": 113,
     "metadata": {},
     "output_type": "execute_result"
    }
   ],
   "source": [
    "w"
   ]
  },
  {
   "cell_type": "code",
   "execution_count": 115,
   "id": "8e60e127-422d-42a4-a403-0dcdcf77b874",
   "metadata": {},
   "outputs": [],
   "source": [
    "w.insert(6,300)"
   ]
  },
  {
   "cell_type": "code",
   "execution_count": 117,
   "id": "356522c7-e406-481c-9caf-130c420b3a4f",
   "metadata": {},
   "outputs": [
    {
     "data": {
      "text/plain": [
       "[5, 10, 6, 70, 95, 8, 300, 90, 100, 11, 15, 18, 190, 200, 300, 'python']"
      ]
     },
     "execution_count": 117,
     "metadata": {},
     "output_type": "execute_result"
    }
   ],
   "source": [
    "w"
   ]
  },
  {
   "cell_type": "code",
   "execution_count": 119,
   "id": "8ad4ff76-cfa4-4b7a-8483-69e91821585b",
   "metadata": {},
   "outputs": [],
   "source": [
    "w.insert(5,120)"
   ]
  },
  {
   "cell_type": "code",
   "execution_count": 125,
   "id": "a54c55c6-d6ca-41e2-b0fb-0a1c1ba50eda",
   "metadata": {},
   "outputs": [
    {
     "data": {
      "text/plain": [
       "[5,\n",
       " 10,\n",
       " 6,\n",
       " 70,\n",
       " 95,\n",
       " 200,\n",
       " 120,\n",
       " 8,\n",
       " 300,\n",
       " 90,\n",
       " 100,\n",
       " 11,\n",
       " 15,\n",
       " 18,\n",
       " 190,\n",
       " 200,\n",
       " 300,\n",
       " 'python']"
      ]
     },
     "execution_count": 125,
     "metadata": {},
     "output_type": "execute_result"
    }
   ],
   "source": [
    "w"
   ]
  },
  {
   "cell_type": "code",
   "execution_count": 13,
   "id": "e82f82b8-84ae-4756-a442-022693fb031a",
   "metadata": {},
   "outputs": [],
   "source": [
    "w = [5,6,7,8,9,10,11,15,18,120,150,200,650,800,]"
   ]
  },
  {
   "cell_type": "code",
   "execution_count": 15,
   "id": "8cd96ef8-d013-4aa5-9d08-737f0d655bca",
   "metadata": {},
   "outputs": [
    {
     "data": {
      "text/plain": [
       "[5, 6, 7, 8, 9, 10, 11, 15, 18, 120, 150, 200, 650, 800]"
      ]
     },
     "execution_count": 15,
     "metadata": {},
     "output_type": "execute_result"
    }
   ],
   "source": [
    "w"
   ]
  },
  {
   "cell_type": "code",
   "execution_count": 17,
   "id": "640568cd-ee92-4406-9437-5bea01987d20",
   "metadata": {},
   "outputs": [
    {
     "data": {
      "text/plain": [
       "800"
      ]
     },
     "execution_count": 17,
     "metadata": {},
     "output_type": "execute_result"
    }
   ],
   "source": [
    "w.pop()"
   ]
  },
  {
   "cell_type": "code",
   "execution_count": 19,
   "id": "d9fc056c-eec6-43c1-9e87-7010a0a20ff9",
   "metadata": {},
   "outputs": [
    {
     "data": {
      "text/plain": [
       "650"
      ]
     },
     "execution_count": 19,
     "metadata": {},
     "output_type": "execute_result"
    }
   ],
   "source": [
    "w.pop()"
   ]
  },
  {
   "cell_type": "code",
   "execution_count": 21,
   "id": "733cea84-c720-491e-be7f-060a786d35ba",
   "metadata": {},
   "outputs": [
    {
     "data": {
      "text/plain": [
       "200"
      ]
     },
     "execution_count": 21,
     "metadata": {},
     "output_type": "execute_result"
    }
   ],
   "source": [
    "w.pop()"
   ]
  },
  {
   "cell_type": "code",
   "execution_count": 23,
   "id": "a6b42847-f905-4ef2-a9e0-3650064aff83",
   "metadata": {},
   "outputs": [
    {
     "data": {
      "text/plain": [
       "8"
      ]
     },
     "execution_count": 23,
     "metadata": {},
     "output_type": "execute_result"
    }
   ],
   "source": [
    "w.pop(3)"
   ]
  },
  {
   "cell_type": "code",
   "execution_count": 25,
   "id": "0925abc7-7cf6-48ff-a8ce-6323d11ace62",
   "metadata": {},
   "outputs": [
    {
     "data": {
      "text/plain": [
       "5"
      ]
     },
     "execution_count": 25,
     "metadata": {},
     "output_type": "execute_result"
    }
   ],
   "source": [
    "w.pop(-10)"
   ]
  },
  {
   "cell_type": "code",
   "execution_count": 33,
   "id": "83634c70-fde4-45e7-a19b-1d81cdc56461",
   "metadata": {},
   "outputs": [
    {
     "data": {
      "text/plain": [
       "6"
      ]
     },
     "execution_count": 33,
     "metadata": {},
     "output_type": "execute_result"
    }
   ],
   "source": [
    "w.pop(-9)"
   ]
  },
  {
   "cell_type": "code",
   "execution_count": 37,
   "id": "d53907ec-d7c8-4ecf-b10c-6077f56a1ab3",
   "metadata": {},
   "outputs": [
    {
     "data": {
      "text/plain": [
       "150"
      ]
     },
     "execution_count": 37,
     "metadata": {},
     "output_type": "execute_result"
    }
   ],
   "source": [
    "w.pop()"
   ]
  },
  {
   "cell_type": "code",
   "execution_count": 39,
   "id": "2f081a42-9be7-44b0-b0d7-e6482fa1bda4",
   "metadata": {},
   "outputs": [
    {
     "data": {
      "text/plain": [
       "7"
      ]
     },
     "execution_count": 39,
     "metadata": {},
     "output_type": "execute_result"
    }
   ],
   "source": [
    "len(w)"
   ]
  },
  {
   "cell_type": "code",
   "execution_count": 41,
   "id": "f1244825-f9fa-4ccd-a739-a1405ddb078f",
   "metadata": {},
   "outputs": [
    {
     "data": {
      "text/plain": [
       "[7, 9, 10, 11, 15, 18, 120]"
      ]
     },
     "execution_count": 41,
     "metadata": {},
     "output_type": "execute_result"
    }
   ],
   "source": [
    "w"
   ]
  },
  {
   "cell_type": "code",
   "execution_count": 34,
   "id": "930f4c5a-4ab8-4e14-b500-a95ae22769d0",
   "metadata": {},
   "outputs": [],
   "source": [
    "w = [10,20,30,40,50,60,70,80,90,100,120,130,140,150]"
   ]
  },
  {
   "cell_type": "code",
   "execution_count": 45,
   "id": "7206086c-2b8a-4873-9b2b-ead5bbda5fb6",
   "metadata": {},
   "outputs": [
    {
     "data": {
      "text/plain": [
       "[10, 20, 30, 40, 50, 60, 70, 80, 90, 100, 120, 130, 140, 150]"
      ]
     },
     "execution_count": 45,
     "metadata": {},
     "output_type": "execute_result"
    }
   ],
   "source": [
    "w"
   ]
  },
  {
   "cell_type": "code",
   "execution_count": 51,
   "id": "7faac8c8-0f6d-4360-b66f-f152b2fe065b",
   "metadata": {},
   "outputs": [],
   "source": [
    "w.remove(120)"
   ]
  },
  {
   "cell_type": "code",
   "execution_count": 53,
   "id": "45ca3b5e-ab5f-4571-8986-6f06c4b42331",
   "metadata": {},
   "outputs": [
    {
     "data": {
      "text/plain": [
       "[10, 20, 30, 40, 50, 60, 70, 80, 90, 100, 130, 140, 150]"
      ]
     },
     "execution_count": 53,
     "metadata": {},
     "output_type": "execute_result"
    }
   ],
   "source": [
    "w"
   ]
  },
  {
   "cell_type": "code",
   "execution_count": 57,
   "id": "14de49b9-426e-4e22-93e8-de9c5467af88",
   "metadata": {},
   "outputs": [],
   "source": [
    "w.remove(150)"
   ]
  },
  {
   "cell_type": "code",
   "execution_count": 59,
   "id": "9ce7a463-64d6-4cbc-b546-978777c05970",
   "metadata": {},
   "outputs": [
    {
     "data": {
      "text/plain": [
       "[10, 20, 30, 40, 50, 60, 70, 80, 90, 100, 130, 140]"
      ]
     },
     "execution_count": 59,
     "metadata": {},
     "output_type": "execute_result"
    }
   ],
   "source": [
    "w"
   ]
  },
  {
   "cell_type": "code",
   "execution_count": 61,
   "id": "1b6d32c0-ff33-46f9-aec5-230744826f86",
   "metadata": {},
   "outputs": [],
   "source": [
    "w.remove(40)"
   ]
  },
  {
   "cell_type": "code",
   "execution_count": 63,
   "id": "e81d80e2-ea37-4917-8756-3317ddc7f6a0",
   "metadata": {},
   "outputs": [
    {
     "data": {
      "text/plain": [
       "[10, 20, 30, 50, 60, 70, 80, 90, 100, 130, 140]"
      ]
     },
     "execution_count": 63,
     "metadata": {},
     "output_type": "execute_result"
    }
   ],
   "source": [
    "w"
   ]
  },
  {
   "cell_type": "code",
   "execution_count": 65,
   "id": "690dce72-f5f7-4829-9ff7-f1ba1b7f0f60",
   "metadata": {},
   "outputs": [],
   "source": [
    "w.remove(130)"
   ]
  },
  {
   "cell_type": "code",
   "execution_count": 67,
   "id": "0ba14ac9-45f9-497a-93e4-efa211e0a3cb",
   "metadata": {},
   "outputs": [
    {
     "data": {
      "text/plain": [
       "[10, 20, 30, 50, 60, 70, 80, 90, 100, 140]"
      ]
     },
     "execution_count": 67,
     "metadata": {},
     "output_type": "execute_result"
    }
   ],
   "source": [
    "w"
   ]
  },
  {
   "cell_type": "code",
   "execution_count": 71,
   "id": "4c543e98-7d14-40a5-b7cb-bf8fc306e145",
   "metadata": {},
   "outputs": [],
   "source": [
    "w.remove(100)"
   ]
  },
  {
   "cell_type": "code",
   "execution_count": 73,
   "id": "3e3a6cc9-8ee8-4467-84be-be7c9e8d7e3d",
   "metadata": {},
   "outputs": [
    {
     "data": {
      "text/plain": [
       "[10, 20, 30, 50, 60, 70, 80, 90, 140]"
      ]
     },
     "execution_count": 73,
     "metadata": {},
     "output_type": "execute_result"
    }
   ],
   "source": [
    "w"
   ]
  },
  {
   "cell_type": "code",
   "execution_count": 75,
   "id": "eca4ebe1-0a1a-41a9-86c9-2bbfc8a0267c",
   "metadata": {},
   "outputs": [],
   "source": [
    "w.remove(90)"
   ]
  },
  {
   "cell_type": "code",
   "execution_count": 77,
   "id": "52c4b9a9-962f-47b1-9bab-501e87bfa471",
   "metadata": {},
   "outputs": [
    {
     "data": {
      "text/plain": [
       "[10, 20, 30, 50, 60, 70, 80, 140]"
      ]
     },
     "execution_count": 77,
     "metadata": {},
     "output_type": "execute_result"
    }
   ],
   "source": [
    "w"
   ]
  },
  {
   "cell_type": "code",
   "execution_count": 79,
   "id": "573b3402-5c56-4400-9a07-db0a416c283b",
   "metadata": {},
   "outputs": [],
   "source": [
    "w.remove(140)"
   ]
  },
  {
   "cell_type": "code",
   "execution_count": 81,
   "id": "eabcc9b4-3878-4090-bd04-cf5a48a0f66d",
   "metadata": {},
   "outputs": [
    {
     "data": {
      "text/plain": [
       "[10, 20, 30, 50, 60, 70, 80]"
      ]
     },
     "execution_count": 81,
     "metadata": {},
     "output_type": "execute_result"
    }
   ],
   "source": [
    "w"
   ]
  },
  {
   "cell_type": "code",
   "execution_count": 83,
   "id": "9caaf364-339d-47f7-ac41-de07c0961785",
   "metadata": {},
   "outputs": [],
   "source": [
    "w.remove(70)"
   ]
  },
  {
   "cell_type": "code",
   "execution_count": 85,
   "id": "8a396a7a-ec0c-4c95-8f9d-f659237c4038",
   "metadata": {},
   "outputs": [
    {
     "data": {
      "text/plain": [
       "[10, 20, 30, 50, 60, 80]"
      ]
     },
     "execution_count": 85,
     "metadata": {},
     "output_type": "execute_result"
    }
   ],
   "source": [
    "w"
   ]
  },
  {
   "cell_type": "code",
   "execution_count": 87,
   "id": "8d0991f9-ba5d-4c23-bcd8-4b8cc084ebc9",
   "metadata": {},
   "outputs": [],
   "source": [
    "w.remove(50)"
   ]
  },
  {
   "cell_type": "code",
   "execution_count": 89,
   "id": "7289134b-da32-4919-90ea-c3361a4594c5",
   "metadata": {},
   "outputs": [
    {
     "data": {
      "text/plain": [
       "[10, 20, 30, 60, 80]"
      ]
     },
     "execution_count": 89,
     "metadata": {},
     "output_type": "execute_result"
    }
   ],
   "source": [
    "w"
   ]
  },
  {
   "cell_type": "code",
   "execution_count": 91,
   "id": "4bd807ab-2493-48a5-974e-504ce972743a",
   "metadata": {},
   "outputs": [
    {
     "data": {
      "text/plain": [
       "[10, 20, 30, 60, 80]"
      ]
     },
     "execution_count": 91,
     "metadata": {},
     "output_type": "execute_result"
    }
   ],
   "source": [
    "w"
   ]
  },
  {
   "cell_type": "code",
   "execution_count": 93,
   "id": "70d97408-983f-4454-9c3b-f1bd22ed8be0",
   "metadata": {},
   "outputs": [],
   "source": [
    "w.reverse()"
   ]
  },
  {
   "cell_type": "code",
   "execution_count": 95,
   "id": "3ccdb290-1818-4ff1-aae6-cca542ed3d05",
   "metadata": {},
   "outputs": [
    {
     "data": {
      "text/plain": [
       "[80, 60, 30, 20, 10]"
      ]
     },
     "execution_count": 95,
     "metadata": {},
     "output_type": "execute_result"
    }
   ],
   "source": [
    "w"
   ]
  },
  {
   "cell_type": "code",
   "execution_count": 97,
   "id": "64668483-7528-4c90-93f6-4c213fbb6359",
   "metadata": {},
   "outputs": [],
   "source": [
    "w.reverse()"
   ]
  },
  {
   "cell_type": "code",
   "execution_count": 99,
   "id": "2956d9b7-920c-4541-ae5f-a96c7935bee3",
   "metadata": {},
   "outputs": [
    {
     "data": {
      "text/plain": [
       "[10, 20, 30, 60, 80]"
      ]
     },
     "execution_count": 99,
     "metadata": {},
     "output_type": "execute_result"
    }
   ],
   "source": [
    "w"
   ]
  },
  {
   "cell_type": "code",
   "execution_count": 101,
   "id": "b26fe612-780e-40d4-9ff0-df06ad28c44b",
   "metadata": {},
   "outputs": [],
   "source": [
    "w = [15, 1, 2, 20, 8, 3, 1, 2, 7, 2, 5, 30, 50, 10, 16]"
   ]
  },
  {
   "cell_type": "code",
   "execution_count": 103,
   "id": "0bf564d8-c93a-4d93-bf3a-80179bea7a9b",
   "metadata": {},
   "outputs": [
    {
     "data": {
      "text/plain": [
       "[15, 1, 2, 20, 8, 3, 1, 2, 7, 2, 5, 30, 50, 10, 16]"
      ]
     },
     "execution_count": 103,
     "metadata": {},
     "output_type": "execute_result"
    }
   ],
   "source": [
    "w"
   ]
  },
  {
   "cell_type": "code",
   "execution_count": 105,
   "id": "0bbd0a9b-76dc-422b-bac1-b96d5932370a",
   "metadata": {},
   "outputs": [],
   "source": [
    "w.sort()"
   ]
  },
  {
   "cell_type": "code",
   "execution_count": 107,
   "id": "13bf2fef-b3cf-4f1f-8267-57027285bd15",
   "metadata": {},
   "outputs": [
    {
     "data": {
      "text/plain": [
       "[1, 1, 2, 2, 2, 3, 5, 7, 8, 10, 15, 16, 20, 30, 50]"
      ]
     },
     "execution_count": 107,
     "metadata": {},
     "output_type": "execute_result"
    }
   ],
   "source": [
    "w"
   ]
  },
  {
   "cell_type": "code",
   "execution_count": 109,
   "id": "2b2482f3-35b8-44c1-a9b5-e71df6f46e19",
   "metadata": {},
   "outputs": [],
   "source": [
    "w.sort()"
   ]
  },
  {
   "cell_type": "code",
   "execution_count": 111,
   "id": "72b989be-7d73-4d24-b542-334b058818ec",
   "metadata": {},
   "outputs": [
    {
     "data": {
      "text/plain": [
       "[1, 1, 2, 2, 2, 3, 5, 7, 8, 10, 15, 16, 20, 30, 50]"
      ]
     },
     "execution_count": 111,
     "metadata": {},
     "output_type": "execute_result"
    }
   ],
   "source": [
    "w"
   ]
  },
  {
   "cell_type": "code",
   "execution_count": 113,
   "id": "a42ee01d-3436-450e-b714-003667c6cd6d",
   "metadata": {},
   "outputs": [],
   "source": [
    "w.sort()"
   ]
  },
  {
   "cell_type": "code",
   "execution_count": 115,
   "id": "20cad640-bb38-46a7-9c73-5456788b01c5",
   "metadata": {},
   "outputs": [
    {
     "data": {
      "text/plain": [
       "[1, 1, 2, 2, 2, 3, 5, 7, 8, 10, 15, 16, 20, 30, 50]"
      ]
     },
     "execution_count": 115,
     "metadata": {},
     "output_type": "execute_result"
    }
   ],
   "source": [
    "w"
   ]
  },
  {
   "cell_type": "code",
   "execution_count": 117,
   "id": "bfffad96-3506-4391-b184-3d98671da535",
   "metadata": {},
   "outputs": [],
   "source": [
    "w.sort(reverse=True)"
   ]
  },
  {
   "cell_type": "code",
   "execution_count": 119,
   "id": "76f4b762-fab3-48a8-beb8-fe412bc01981",
   "metadata": {},
   "outputs": [
    {
     "data": {
      "text/plain": [
       "[50, 30, 20, 16, 15, 10, 8, 7, 5, 3, 2, 2, 2, 1, 1]"
      ]
     },
     "execution_count": 119,
     "metadata": {},
     "output_type": "execute_result"
    }
   ],
   "source": [
    "w"
   ]
  },
  {
   "cell_type": "code",
   "execution_count": null,
   "id": "4f84bb83-cd2e-4f11-80b8-465441de47d0",
   "metadata": {},
   "outputs": [],
   "source": []
  },
  {
   "cell_type": "code",
   "execution_count": null,
   "id": "1e5f6e12-f166-4262-ac41-3e3841675c12",
   "metadata": {},
   "outputs": [],
   "source": []
  },
  {
   "cell_type": "code",
   "execution_count": 5,
   "id": "c9904bef-16c9-4fef-b55d-9da2ea07f8b7",
   "metadata": {},
   "outputs": [],
   "source": [
    "lst = [10,12,14,15,4,5,6,78,14,60]"
   ]
  },
  {
   "cell_type": "code",
   "execution_count": null,
   "id": "08dd8819-9200-4d33-ace3-aa8383bce8ff",
   "metadata": {},
   "outputs": [],
   "source": [
    "1. find the lagest \n",
    "2. find the secoond largest"
   ]
  },
  {
   "cell_type": "code",
   "execution_count": 9,
   "id": "df56263c-bd36-4d39-81c6-aa08a94066a7",
   "metadata": {},
   "outputs": [],
   "source": [
    "lst.sort()"
   ]
  },
  {
   "cell_type": "code",
   "execution_count": 11,
   "id": "c2eda8aa-4838-4f00-a061-1153aba32f8c",
   "metadata": {},
   "outputs": [
    {
     "data": {
      "text/plain": [
       "[4, 5, 6, 10, 12, 14, 14, 15, 60, 78]"
      ]
     },
     "execution_count": 11,
     "metadata": {},
     "output_type": "execute_result"
    }
   ],
   "source": [
    "lst"
   ]
  },
  {
   "cell_type": "code",
   "execution_count": null,
   "id": "1f53f8b2-8bec-47eb-aa9a-0a8741e3877a",
   "metadata": {},
   "outputs": [],
   "source": [
    "for i in range(lst):\n",
    "    print"
   ]
  },
  {
   "cell_type": "code",
   "execution_count": 22,
   "id": "e06e49ca-8b93-494c-9736-a09d0d8a2a49",
   "metadata": {},
   "outputs": [],
   "source": [
    "# in Operators:"
   ]
  },
  {
   "cell_type": "code",
   "execution_count": 30,
   "id": "49c92c43-d368-44a0-8a42-a0ea5d6df04e",
   "metadata": {},
   "outputs": [
    {
     "data": {
      "text/plain": [
       "True"
      ]
     },
     "execution_count": 30,
     "metadata": {},
     "output_type": "execute_result"
    }
   ],
   "source": [
    "\"d\" in \"good\""
   ]
  },
  {
   "cell_type": "code",
   "execution_count": 36,
   "id": "483dbd2b-04cc-45b6-9312-22e60dbbeb98",
   "metadata": {},
   "outputs": [
    {
     "data": {
      "text/plain": [
       "[10, 20, 30, 40, 50, 60, 70, 80, 90, 100, 120, 130, 140, 150]"
      ]
     },
     "execution_count": 36,
     "metadata": {},
     "output_type": "execute_result"
    }
   ],
   "source": [
    "w"
   ]
  },
  {
   "cell_type": "code",
   "execution_count": 38,
   "id": "58ec5b98-d038-4055-918c-934ad29ba789",
   "metadata": {},
   "outputs": [
    {
     "data": {
      "text/plain": [
       "False"
      ]
     },
     "execution_count": 38,
     "metadata": {},
     "output_type": "execute_result"
    }
   ],
   "source": [
    "15 in w"
   ]
  },
  {
   "cell_type": "code",
   "execution_count": 42,
   "id": "f2c9dbf9-eff0-4eca-ab03-612be4e689e4",
   "metadata": {},
   "outputs": [
    {
     "data": {
      "text/plain": [
       "False"
      ]
     },
     "execution_count": 42,
     "metadata": {},
     "output_type": "execute_result"
    }
   ],
   "source": [
    "40 not in  w"
   ]
  },
  {
   "cell_type": "code",
   "execution_count": 44,
   "id": "46c82cb9-f7ff-41b6-9e98-b110c4572870",
   "metadata": {},
   "outputs": [
    {
     "data": {
      "text/plain": [
       "True"
      ]
     },
     "execution_count": 44,
     "metadata": {},
     "output_type": "execute_result"
    }
   ],
   "source": [
    "70 in  w"
   ]
  },
  {
   "cell_type": "code",
   "execution_count": 46,
   "id": "76b216f3-b2b9-4f47-a6ab-f1e1da4457cc",
   "metadata": {},
   "outputs": [
    {
     "data": {
      "text/plain": [
       "True"
      ]
     },
     "execution_count": 46,
     "metadata": {},
     "output_type": "execute_result"
    }
   ],
   "source": [
    "100 in w"
   ]
  },
  {
   "cell_type": "code",
   "execution_count": 48,
   "id": "8bf110e4-c896-4828-8e7c-4e57a8920870",
   "metadata": {},
   "outputs": [
    {
     "data": {
      "text/plain": [
       "False"
      ]
     },
     "execution_count": 48,
     "metadata": {},
     "output_type": "execute_result"
    }
   ],
   "source": [
    "150 not in w"
   ]
  },
  {
   "cell_type": "code",
   "execution_count": 50,
   "id": "2ca5fb5c-c634-4983-ba79-2a94aea0f67f",
   "metadata": {},
   "outputs": [
    {
     "data": {
      "text/plain": [
       "True"
      ]
     },
     "execution_count": 50,
     "metadata": {},
     "output_type": "execute_result"
    }
   ],
   "source": [
    "200 not in w"
   ]
  },
  {
   "cell_type": "code",
   "execution_count": 52,
   "id": "b3579954-f926-4e15-8e32-61dfdf866105",
   "metadata": {},
   "outputs": [
    {
     "data": {
      "text/plain": [
       "True"
      ]
     },
     "execution_count": 52,
     "metadata": {},
     "output_type": "execute_result"
    }
   ],
   "source": [
    "150 in w"
   ]
  },
  {
   "cell_type": "code",
   "execution_count": 56,
   "id": "4e8d7559-7109-44ed-9571-2d2548afb668",
   "metadata": {},
   "outputs": [],
   "source": [
    "w.sort(reverse=True)"
   ]
  },
  {
   "cell_type": "code",
   "execution_count": 58,
   "id": "acd73d0c-e588-4457-b5a5-5d9adada03ee",
   "metadata": {},
   "outputs": [
    {
     "data": {
      "text/plain": [
       "[150, 140, 130, 120, 100, 90, 80, 70, 60, 50, 40, 30, 20, 10]"
      ]
     },
     "execution_count": 58,
     "metadata": {},
     "output_type": "execute_result"
    }
   ],
   "source": [
    "w"
   ]
  },
  {
   "cell_type": "code",
   "execution_count": 60,
   "id": "e070204d-6338-4cad-b22a-b84d350c2cba",
   "metadata": {},
   "outputs": [],
   "source": [
    "w.sort()"
   ]
  },
  {
   "cell_type": "code",
   "execution_count": 62,
   "id": "ca803c73-02b6-4e32-9a1a-1125f47165ec",
   "metadata": {},
   "outputs": [
    {
     "data": {
      "text/plain": [
       "[10, 20, 30, 40, 50, 60, 70, 80, 90, 100, 120, 130, 140, 150]"
      ]
     },
     "execution_count": 62,
     "metadata": {},
     "output_type": "execute_result"
    }
   ],
   "source": [
    "w"
   ]
  },
  {
   "cell_type": "code",
   "execution_count": 64,
   "id": "700f7f6b-1f1f-438b-b30d-101e2f8bf035",
   "metadata": {},
   "outputs": [
    {
     "data": {
      "text/plain": [
       "14"
      ]
     },
     "execution_count": 64,
     "metadata": {},
     "output_type": "execute_result"
    }
   ],
   "source": [
    "len(w)"
   ]
  },
  {
   "cell_type": "code",
   "execution_count": 66,
   "id": "b7bba341-6f9c-4fad-ae83-d7c7984be1cc",
   "metadata": {},
   "outputs": [
    {
     "name": "stdout",
     "output_type": "stream",
     "text": [
      "c\n",
      "o\n",
      "m\n",
      "p\n",
      "u\n",
      "t\n",
      "e\n",
      "r\n"
     ]
    }
   ],
   "source": [
    "for i in \"computer\":\n",
    "    print(i)"
   ]
  },
  {
   "cell_type": "code",
   "execution_count": 68,
   "id": "868fdf64-53fe-4eda-b494-fc8f44604039",
   "metadata": {},
   "outputs": [],
   "source": [
    "# append vs extend"
   ]
  },
  {
   "cell_type": "code",
   "execution_count": 70,
   "id": "d1eae38e-7b74-4844-8ed2-f2122f3eac22",
   "metadata": {},
   "outputs": [
    {
     "data": {
      "text/plain": [
       "[10, 20, 30, 40, 50, 60, 70, 80, 90, 100, 120, 130, 140, 150]"
      ]
     },
     "execution_count": 70,
     "metadata": {},
     "output_type": "execute_result"
    }
   ],
   "source": [
    "w"
   ]
  },
  {
   "cell_type": "code",
   "execution_count": 74,
   "id": "26bd8d2b-7c5e-441c-a5e7-c093d99fdbdf",
   "metadata": {},
   "outputs": [],
   "source": [
    "w.append(200)"
   ]
  },
  {
   "cell_type": "code",
   "execution_count": 76,
   "id": "5323ade8-445a-4aeb-b412-7e0d68b7afbe",
   "metadata": {},
   "outputs": [
    {
     "data": {
      "text/plain": [
       "[10, 20, 30, 40, 50, 60, 70, 80, 90, 100, 120, 130, 140, 150, 150, 200]"
      ]
     },
     "execution_count": 76,
     "metadata": {},
     "output_type": "execute_result"
    }
   ],
   "source": [
    "w"
   ]
  },
  {
   "cell_type": "code",
   "execution_count": 78,
   "id": "5280d009-68e4-485f-ad65-6c71cc04aa3a",
   "metadata": {},
   "outputs": [],
   "source": [
    "w.append([10,20,30])"
   ]
  },
  {
   "cell_type": "code",
   "execution_count": 80,
   "id": "de77606e-4de9-419c-997d-95220433f445",
   "metadata": {},
   "outputs": [
    {
     "data": {
      "text/plain": [
       "[10,\n",
       " 20,\n",
       " 30,\n",
       " 40,\n",
       " 50,\n",
       " 60,\n",
       " 70,\n",
       " 80,\n",
       " 90,\n",
       " 100,\n",
       " 120,\n",
       " 130,\n",
       " 140,\n",
       " 150,\n",
       " 150,\n",
       " 200,\n",
       " [10, 20, 30]]"
      ]
     },
     "execution_count": 80,
     "metadata": {},
     "output_type": "execute_result"
    }
   ],
   "source": [
    "w"
   ]
  },
  {
   "cell_type": "code",
   "execution_count": 84,
   "id": "eafa7241-cb70-42d8-9f3e-18d663028a40",
   "metadata": {},
   "outputs": [],
   "source": [
    "w.append([15,15,16])"
   ]
  },
  {
   "cell_type": "code",
   "execution_count": 86,
   "id": "56b309d2-cf5b-4158-8a4f-f73fc93af1f4",
   "metadata": {},
   "outputs": [
    {
     "data": {
      "text/plain": [
       "[10,\n",
       " 20,\n",
       " 30,\n",
       " 40,\n",
       " 50,\n",
       " 60,\n",
       " 70,\n",
       " 80,\n",
       " 90,\n",
       " 100,\n",
       " 120,\n",
       " 130,\n",
       " 140,\n",
       " 150,\n",
       " 150,\n",
       " 200,\n",
       " [10, 20, 30],\n",
       " [15, 15, 16]]"
      ]
     },
     "execution_count": 86,
     "metadata": {},
     "output_type": "execute_result"
    }
   ],
   "source": [
    "w"
   ]
  },
  {
   "cell_type": "code",
   "execution_count": 90,
   "id": "8dfd8877-b615-4dee-93e3-557a968fe682",
   "metadata": {},
   "outputs": [],
   "source": [
    "w.extend([48,78,96])"
   ]
  },
  {
   "cell_type": "code",
   "execution_count": 92,
   "id": "b2afae55-728f-4dc0-b62b-c177d5782c51",
   "metadata": {},
   "outputs": [
    {
     "data": {
      "text/plain": [
       "[10,\n",
       " 20,\n",
       " 30,\n",
       " 40,\n",
       " 50,\n",
       " 60,\n",
       " 70,\n",
       " 80,\n",
       " 90,\n",
       " 100,\n",
       " 120,\n",
       " 130,\n",
       " 140,\n",
       " 150,\n",
       " 150,\n",
       " 200,\n",
       " [10, 20, 30],\n",
       " [15, 15, 16],\n",
       " 48,\n",
       " 78,\n",
       " 96]"
      ]
     },
     "execution_count": 92,
     "metadata": {},
     "output_type": "execute_result"
    }
   ],
   "source": [
    "w"
   ]
  },
  {
   "cell_type": "code",
   "execution_count": 94,
   "id": "a44392ff-9ee1-4c69-91bd-98b53a5a9c53",
   "metadata": {},
   "outputs": [
    {
     "data": {
      "text/plain": [
       "[10,\n",
       " 20,\n",
       " 30,\n",
       " 40,\n",
       " 50,\n",
       " 60,\n",
       " 70,\n",
       " 80,\n",
       " 90,\n",
       " 100,\n",
       " 120,\n",
       " 130,\n",
       " 140,\n",
       " 150,\n",
       " 150,\n",
       " 200,\n",
       " [10, 20, 30],\n",
       " [15, 15, 16],\n",
       " 48,\n",
       " 78,\n",
       " 96]"
      ]
     },
     "execution_count": 94,
     "metadata": {},
     "output_type": "execute_result"
    }
   ],
   "source": [
    "w"
   ]
  },
  {
   "cell_type": "code",
   "execution_count": 1,
   "id": "4b1e198a-29bb-43c4-a9c0-aa5950945574",
   "metadata": {},
   "outputs": [],
   "source": [
    "w = [10,20,30,40,50,60,70,80,90,100,120,130,140,150]"
   ]
  },
  {
   "cell_type": "code",
   "execution_count": 3,
   "id": "5322859c-10e6-4631-8644-17f9ae3cfc06",
   "metadata": {},
   "outputs": [
    {
     "data": {
      "text/plain": [
       "[10, 20, 30, 40, 50, 60, 70, 80, 90, 100, 120, 130, 140, 150]"
      ]
     },
     "execution_count": 3,
     "metadata": {},
     "output_type": "execute_result"
    }
   ],
   "source": [
    "w"
   ]
  },
  {
   "cell_type": "code",
   "execution_count": 5,
   "id": "b743a181-8029-465c-8fa4-23a07f16bdab",
   "metadata": {},
   "outputs": [
    {
     "data": {
      "text/plain": [
       "14"
      ]
     },
     "execution_count": 5,
     "metadata": {},
     "output_type": "execute_result"
    }
   ],
   "source": [
    "len(w)"
   ]
  },
  {
   "cell_type": "code",
   "execution_count": 7,
   "id": "8c50c43c-fa7f-4648-b7f3-e5c3f9e08b80",
   "metadata": {},
   "outputs": [
    {
     "name": "stdout",
     "output_type": "stream",
     "text": [
      "10\n",
      "20\n",
      "30\n",
      "40\n",
      "50\n",
      "60\n",
      "70\n",
      "80\n",
      "90\n",
      "100\n",
      "120\n",
      "130\n",
      "140\n",
      "150\n"
     ]
    }
   ],
   "source": [
    "for i in range(len(w)):\n",
    "    print(w[i])"
   ]
  },
  {
   "cell_type": "code",
   "execution_count": 9,
   "id": "ed96eb7a-7b10-4b2e-88e0-847b27b9d0fb",
   "metadata": {},
   "outputs": [
    {
     "name": "stdout",
     "output_type": "stream",
     "text": [
      "10\n",
      "20\n",
      "30\n",
      "40\n",
      "50\n",
      "60\n",
      "70\n",
      "80\n",
      "90\n",
      "100\n",
      "120\n",
      "130\n",
      "140\n",
      "150\n"
     ]
    }
   ],
   "source": [
    "for i in w:\n",
    "    print(i)"
   ]
  },
  {
   "cell_type": "code",
   "execution_count": 11,
   "id": "34f6c0d4-5e47-4bd3-8018-e91e779f562a",
   "metadata": {},
   "outputs": [],
   "source": [
    "my_str = \"Welcome to the course\""
   ]
  },
  {
   "cell_type": "code",
   "execution_count": 13,
   "id": "3ca0fb6b-10e5-49a4-a05a-4be7688b2577",
   "metadata": {},
   "outputs": [],
   "source": [
    "k = list(my_str)"
   ]
  },
  {
   "cell_type": "code",
   "execution_count": 15,
   "id": "ea60cc8b-a825-4943-88e1-be01071192fe",
   "metadata": {},
   "outputs": [
    {
     "data": {
      "text/plain": [
       "['W',\n",
       " 'e',\n",
       " 'l',\n",
       " 'c',\n",
       " 'o',\n",
       " 'm',\n",
       " 'e',\n",
       " ' ',\n",
       " 't',\n",
       " 'o',\n",
       " ' ',\n",
       " 't',\n",
       " 'h',\n",
       " 'e',\n",
       " ' ',\n",
       " 'c',\n",
       " 'o',\n",
       " 'u',\n",
       " 'r',\n",
       " 's',\n",
       " 'e']"
      ]
     },
     "execution_count": 15,
     "metadata": {},
     "output_type": "execute_result"
    }
   ],
   "source": [
    "k"
   ]
  },
  {
   "cell_type": "code",
   "execution_count": 17,
   "id": "82d5907c-72e8-4e40-b214-4087d53891cc",
   "metadata": {},
   "outputs": [
    {
     "data": {
      "text/plain": [
       "'Welcome to the course'"
      ]
     },
     "execution_count": 17,
     "metadata": {},
     "output_type": "execute_result"
    }
   ],
   "source": [
    "my_str"
   ]
  },
  {
   "cell_type": "code",
   "execution_count": 19,
   "id": "9350ad10-9db4-4e43-80f9-b794e7632c8f",
   "metadata": {},
   "outputs": [],
   "source": [
    "p = my_str.split()"
   ]
  },
  {
   "cell_type": "code",
   "execution_count": 21,
   "id": "370f9a56-f7db-4288-9a7c-ac0afeeca44e",
   "metadata": {},
   "outputs": [
    {
     "data": {
      "text/plain": [
       "['Welcome', 'to', 'the', 'course']"
      ]
     },
     "execution_count": 21,
     "metadata": {},
     "output_type": "execute_result"
    }
   ],
   "source": [
    "p"
   ]
  },
  {
   "cell_type": "code",
   "execution_count": 23,
   "id": "8c77026c-8182-4eac-8187-1157b94b79e7",
   "metadata": {},
   "outputs": [
    {
     "data": {
      "text/plain": [
       "['Welcome', 'to', 'the', 'course']"
      ]
     },
     "execution_count": 23,
     "metadata": {},
     "output_type": "execute_result"
    }
   ],
   "source": [
    "p"
   ]
  },
  {
   "cell_type": "code",
   "execution_count": 25,
   "id": "b094a1d3-7f89-4d25-8825-b3140e1d658b",
   "metadata": {},
   "outputs": [],
   "source": [
    "j = my_str.split(\"e\")"
   ]
  },
  {
   "cell_type": "code",
   "execution_count": 27,
   "id": "dd09f1df-703a-486c-8fd2-52cdd47c2e55",
   "metadata": {},
   "outputs": [
    {
     "data": {
      "text/plain": [
       "['W', 'lcom', ' to th', ' cours', '']"
      ]
     },
     "execution_count": 27,
     "metadata": {},
     "output_type": "execute_result"
    }
   ],
   "source": [
    "j"
   ]
  },
  {
   "cell_type": "code",
   "execution_count": 29,
   "id": "8e1410d4-0010-4d77-a6de-958c997fd9fb",
   "metadata": {},
   "outputs": [],
   "source": [
    "j = my_str.split(\"c\")"
   ]
  },
  {
   "cell_type": "code",
   "execution_count": 31,
   "id": "4fb5bafb-475c-4aad-b26d-979eac4c60dc",
   "metadata": {},
   "outputs": [
    {
     "data": {
      "text/plain": [
       "['Wel', 'ome to the ', 'ourse']"
      ]
     },
     "execution_count": 31,
     "metadata": {},
     "output_type": "execute_result"
    }
   ],
   "source": [
    "j"
   ]
  },
  {
   "cell_type": "code",
   "execution_count": 35,
   "id": "0ee21f4d-f8e0-4196-8bf1-158604effcfc",
   "metadata": {},
   "outputs": [
    {
     "data": {
      "text/plain": [
       "'Welcome to the course'"
      ]
     },
     "execution_count": 35,
     "metadata": {},
     "output_type": "execute_result"
    }
   ],
   "source": [
    "\"c\".join(j)"
   ]
  },
  {
   "cell_type": "code",
   "execution_count": 37,
   "id": "fe7f122d-74be-4d02-acf1-537a77b32441",
   "metadata": {},
   "outputs": [
    {
     "data": {
      "text/plain": [
       "'Weleome to the eourse'"
      ]
     },
     "execution_count": 37,
     "metadata": {},
     "output_type": "execute_result"
    }
   ],
   "source": [
    "\"e\".join(j)"
   ]
  },
  {
   "cell_type": "code",
   "execution_count": null,
   "id": "44a1b179-447d-419b-89eb-c325015ebb48",
   "metadata": {},
   "outputs": [],
   "source": []
  },
  {
   "cell_type": "code",
   "execution_count": 40,
   "id": "265834c2-71dd-442e-b740-3b0144d68fb9",
   "metadata": {},
   "outputs": [],
   "source": [
    "# append vs extend"
   ]
  },
  {
   "cell_type": "code",
   "execution_count": 42,
   "id": "2500d334-a772-48b9-a354-e80d70b31fec",
   "metadata": {},
   "outputs": [
    {
     "data": {
      "text/plain": [
       "[10, 20, 30, 40, 50, 60, 70, 80, 90, 100, 120, 130, 140, 150]"
      ]
     },
     "execution_count": 42,
     "metadata": {},
     "output_type": "execute_result"
    }
   ],
   "source": [
    "w"
   ]
  },
  {
   "cell_type": "code",
   "execution_count": 48,
   "id": "180f100f-9ab2-4d4a-b8f4-fa3650b08712",
   "metadata": {},
   "outputs": [],
   "source": [
    "w.append(200)"
   ]
  },
  {
   "cell_type": "code",
   "execution_count": 50,
   "id": "52d407d9-32dc-4cf3-b4cf-9d00ba20dc0e",
   "metadata": {},
   "outputs": [
    {
     "data": {
      "text/plain": [
       "[10, 20, 30, 40, 50, 60, 70, 80, 90, 100, 120, 130, 140, 150, 150, 200]"
      ]
     },
     "execution_count": 50,
     "metadata": {},
     "output_type": "execute_result"
    }
   ],
   "source": [
    "w"
   ]
  },
  {
   "cell_type": "code",
   "execution_count": 52,
   "id": "0b6c72fb-ec48-400e-9d16-ee43d131f2c6",
   "metadata": {},
   "outputs": [],
   "source": [
    "w.append([10,0,30,40])"
   ]
  },
  {
   "cell_type": "code",
   "execution_count": 54,
   "id": "e5909bc8-eba9-4e38-8c69-8bf4de905191",
   "metadata": {},
   "outputs": [
    {
     "data": {
      "text/plain": [
       "[10,\n",
       " 20,\n",
       " 30,\n",
       " 40,\n",
       " 50,\n",
       " 60,\n",
       " 70,\n",
       " 80,\n",
       " 90,\n",
       " 100,\n",
       " 120,\n",
       " 130,\n",
       " 140,\n",
       " 150,\n",
       " 150,\n",
       " 200,\n",
       " [10, 0, 30, 40]]"
      ]
     },
     "execution_count": 54,
     "metadata": {},
     "output_type": "execute_result"
    }
   ],
   "source": [
    "w"
   ]
  },
  {
   "cell_type": "code",
   "execution_count": 56,
   "id": "5044080c-8686-48c6-a53f-0b6aaacb8266",
   "metadata": {},
   "outputs": [],
   "source": [
    "w.append([10,15,20])"
   ]
  },
  {
   "cell_type": "code",
   "execution_count": 58,
   "id": "534b76f8-d09d-4aa5-b999-82b760217fdf",
   "metadata": {},
   "outputs": [
    {
     "data": {
      "text/plain": [
       "[10,\n",
       " 20,\n",
       " 30,\n",
       " 40,\n",
       " 50,\n",
       " 60,\n",
       " 70,\n",
       " 80,\n",
       " 90,\n",
       " 100,\n",
       " 120,\n",
       " 130,\n",
       " 140,\n",
       " 150,\n",
       " 150,\n",
       " 200,\n",
       " [10, 0, 30, 40],\n",
       " [10, 15, 20]]"
      ]
     },
     "execution_count": 58,
     "metadata": {},
     "output_type": "execute_result"
    }
   ],
   "source": [
    "w"
   ]
  },
  {
   "cell_type": "code",
   "execution_count": 60,
   "id": "2d5a4a5c-a0f6-4732-b130-ee8b18c2330f",
   "metadata": {},
   "outputs": [],
   "source": [
    "w.extend([48,78,96])"
   ]
  },
  {
   "cell_type": "code",
   "execution_count": 62,
   "id": "a79794b7-7204-4136-bece-7e129ce92ec2",
   "metadata": {},
   "outputs": [
    {
     "data": {
      "text/plain": [
       "[10,\n",
       " 20,\n",
       " 30,\n",
       " 40,\n",
       " 50,\n",
       " 60,\n",
       " 70,\n",
       " 80,\n",
       " 90,\n",
       " 100,\n",
       " 120,\n",
       " 130,\n",
       " 140,\n",
       " 150,\n",
       " 150,\n",
       " 200,\n",
       " [10, 0, 30, 40],\n",
       " [10, 15, 20],\n",
       " 48,\n",
       " 78,\n",
       " 96]"
      ]
     },
     "execution_count": 62,
     "metadata": {},
     "output_type": "execute_result"
    }
   ],
   "source": [
    "w"
   ]
  },
  {
   "cell_type": "code",
   "execution_count": 64,
   "id": "6bf9e2d2-51dd-46b9-a98f-c3820706c889",
   "metadata": {},
   "outputs": [],
   "source": [
    "w.extend([17,19,21])"
   ]
  },
  {
   "cell_type": "code",
   "execution_count": 66,
   "id": "42b86e55-b538-4c84-9928-a4efbf50bdb0",
   "metadata": {},
   "outputs": [
    {
     "data": {
      "text/plain": [
       "[10,\n",
       " 20,\n",
       " 30,\n",
       " 40,\n",
       " 50,\n",
       " 60,\n",
       " 70,\n",
       " 80,\n",
       " 90,\n",
       " 100,\n",
       " 120,\n",
       " 130,\n",
       " 140,\n",
       " 150,\n",
       " 150,\n",
       " 200,\n",
       " [10, 0, 30, 40],\n",
       " [10, 15, 20],\n",
       " 48,\n",
       " 78,\n",
       " 96,\n",
       " 17,\n",
       " 19,\n",
       " 21]"
      ]
     },
     "execution_count": 66,
     "metadata": {},
     "output_type": "execute_result"
    }
   ],
   "source": [
    "w"
   ]
  },
  {
   "cell_type": "code",
   "execution_count": 68,
   "id": "9b5e8ab3-2954-445a-93e3-00a346c74e34",
   "metadata": {},
   "outputs": [],
   "source": [
    "w.append([170,190,200])"
   ]
  },
  {
   "cell_type": "code",
   "execution_count": 70,
   "id": "edbbb70f-e8ed-4f69-b076-db49d16f59d4",
   "metadata": {},
   "outputs": [
    {
     "data": {
      "text/plain": [
       "[10,\n",
       " 20,\n",
       " 30,\n",
       " 40,\n",
       " 50,\n",
       " 60,\n",
       " 70,\n",
       " 80,\n",
       " 90,\n",
       " 100,\n",
       " 120,\n",
       " 130,\n",
       " 140,\n",
       " 150,\n",
       " 150,\n",
       " 200,\n",
       " [10, 0, 30, 40],\n",
       " [10, 15, 20],\n",
       " 48,\n",
       " 78,\n",
       " 96,\n",
       " 17,\n",
       " 19,\n",
       " 21,\n",
       " [170, 190, 200]]"
      ]
     },
     "execution_count": 70,
     "metadata": {},
     "output_type": "execute_result"
    }
   ],
   "source": [
    "w"
   ]
  },
  {
   "cell_type": "code",
   "execution_count": 72,
   "id": "362e1514-d824-495c-a483-f59b3e527b58",
   "metadata": {},
   "outputs": [],
   "source": [
    "# extend with +"
   ]
  },
  {
   "cell_type": "code",
   "execution_count": 74,
   "id": "5d25ac2c-f20e-4562-aad1-457b36e22179",
   "metadata": {},
   "outputs": [
    {
     "data": {
      "text/plain": [
       "[10,\n",
       " 20,\n",
       " 30,\n",
       " 40,\n",
       " 50,\n",
       " 60,\n",
       " 70,\n",
       " 80,\n",
       " 90,\n",
       " 100,\n",
       " 120,\n",
       " 130,\n",
       " 140,\n",
       " 150,\n",
       " 150,\n",
       " 200,\n",
       " [10, 0, 30, 40],\n",
       " [10, 15, 20],\n",
       " 48,\n",
       " 78,\n",
       " 96,\n",
       " 17,\n",
       " 19,\n",
       " 21,\n",
       " [170, 190, 200]]"
      ]
     },
     "execution_count": 74,
     "metadata": {},
     "output_type": "execute_result"
    }
   ],
   "source": [
    "w"
   ]
  },
  {
   "cell_type": "code",
   "execution_count": 78,
   "id": "17566047-57b8-457f-8b0b-2da1f54e39b3",
   "metadata": {},
   "outputs": [
    {
     "data": {
      "text/plain": [
       "[10,\n",
       " 20,\n",
       " 30,\n",
       " 40,\n",
       " 50,\n",
       " 60,\n",
       " 70,\n",
       " 80,\n",
       " 90,\n",
       " 100,\n",
       " 120,\n",
       " 130,\n",
       " 140,\n",
       " 150,\n",
       " 150,\n",
       " 200,\n",
       " [10, 0, 30, 40],\n",
       " [10, 15, 20],\n",
       " 48,\n",
       " 78,\n",
       " 96,\n",
       " 17,\n",
       " 19,\n",
       " 21,\n",
       " [170, 190, 200],\n",
       " 19,\n",
       " 18,\n",
       " 17]"
      ]
     },
     "execution_count": 78,
     "metadata": {},
     "output_type": "execute_result"
    }
   ],
   "source": [
    "w + [19,18,17]"
   ]
  },
  {
   "cell_type": "code",
   "execution_count": 80,
   "id": "f9d474ab-e211-430a-8480-c68c6473469f",
   "metadata": {},
   "outputs": [
    {
     "data": {
      "text/plain": [
       "[10,\n",
       " 20,\n",
       " 30,\n",
       " 40,\n",
       " 50,\n",
       " 60,\n",
       " 70,\n",
       " 80,\n",
       " 90,\n",
       " 100,\n",
       " 120,\n",
       " 130,\n",
       " 140,\n",
       " 150,\n",
       " 150,\n",
       " 200,\n",
       " [10, 0, 30, 40],\n",
       " [10, 15, 20],\n",
       " 48,\n",
       " 78,\n",
       " 96,\n",
       " 17,\n",
       " 19,\n",
       " 21,\n",
       " [170, 190, 200]]"
      ]
     },
     "execution_count": 80,
     "metadata": {},
     "output_type": "execute_result"
    }
   ],
   "source": [
    "w"
   ]
  },
  {
   "cell_type": "code",
   "execution_count": null,
   "id": "b62202be-3c55-453f-aade-2c317d2c583c",
   "metadata": {},
   "outputs": [],
   "source": []
  },
  {
   "cell_type": "code",
   "execution_count": null,
   "id": "a41c0350-c7bb-49d1-abf6-a9c6e739738d",
   "metadata": {},
   "outputs": [],
   "source": []
  },
  {
   "cell_type": "code",
   "execution_count": 84,
   "id": "75ac084a-3a9f-491a-b127-25990e6d6c6a",
   "metadata": {},
   "outputs": [],
   "source": [
    "# HOMEWORK QUESTIONS:"
   ]
  },
  {
   "cell_type": "code",
   "execution_count": null,
   "id": "0afb65f1-ed04-4e08-8d03-70a71555e367",
   "metadata": {},
   "outputs": [],
   "source": [
    "Ques-1\n",
    "[10,12,14,15,4,5,6,80,14,100]\n",
    "\n",
    "1. find the largest number\n",
    "2. find the second largest number"
   ]
  },
  {
   "cell_type": "code",
   "execution_count": null,
   "id": "dc62ab98-a670-4839-9426-e906b5e40432",
   "metadata": {},
   "outputs": [],
   "source": [
    "Ques-2\n",
    "v = [7,8,9, 5.6,7.9, True, False,5+6j, \"python\", [7,8,9], (10, 15, 16), {\"A\":1, \"B\":2}]"
   ]
  },
  {
   "cell_type": "code",
   "execution_count": null,
   "id": "4fdeb115-caaf-45c2-babb-652dbe9ba2f1",
   "metadata": {},
   "outputs": [],
   "source": [
    "Ques-3\n",
    "#  creating a new list of squares of only even element up 20\n",
    "#  creating a new list of squares of  even numbers and cube of odd of element upto 20."
   ]
  },
  {
   "cell_type": "code",
   "execution_count": null,
   "id": "2ec6edef-1221-4ed0-841d-06664ea2f9ae",
   "metadata": {},
   "outputs": [],
   "source": []
  },
  {
   "cell_type": "code",
   "execution_count": null,
   "id": "3d457213-0061-44f5-8b4c-195332207969",
   "metadata": {},
   "outputs": [],
   "source": []
  },
  {
   "cell_type": "code",
   "execution_count": 91,
   "id": "66e2f5d7-9cfe-4234-9bbf-14531bfab4a2",
   "metadata": {},
   "outputs": [],
   "source": [
    "# find the largest and second largest number:"
   ]
  },
  {
   "cell_type": "code",
   "execution_count": 93,
   "id": "266e9e85-5a34-4e8e-aeb6-f9dd255e0ad7",
   "metadata": {},
   "outputs": [],
   "source": [
    "lst = [10,12,14,15,4,5,6,80,14,100]"
   ]
  },
  {
   "cell_type": "code",
   "execution_count": 95,
   "id": "3425f574-5d53-4cfa-b100-8a5788e43fbf",
   "metadata": {},
   "outputs": [],
   "source": [
    "lst.sort()"
   ]
  },
  {
   "cell_type": "code",
   "execution_count": 99,
   "id": "9a5355a8-aeb7-40c8-b7cd-cb19bc7b5f42",
   "metadata": {},
   "outputs": [
    {
     "data": {
      "text/plain": [
       "[4, 5, 6, 10, 12, 14, 14, 15, 80, 100]"
      ]
     },
     "execution_count": 99,
     "metadata": {},
     "output_type": "execute_result"
    }
   ],
   "source": [
    "lst"
   ]
  },
  {
   "cell_type": "code",
   "execution_count": 103,
   "id": "4a66627a-0011-4335-9acd-374c062864ba",
   "metadata": {},
   "outputs": [
    {
     "name": "stdout",
     "output_type": "stream",
     "text": [
      "Largest number is 100\n",
      "Second largest number is 80\n"
     ]
    }
   ],
   "source": [
    "lst = [10,12,14,15,4,5,6,80,14,100]\n",
    "\n",
    "lst.sort()\n",
    "\n",
    "largest_num = lst[-1]\n",
    "second_large = lst[-2]\n",
    "\n",
    "print(f\"Largest number is {largest_num}\")\n",
    "print(f\"Second largest number is {second_large}\")"
   ]
  },
  {
   "cell_type": "code",
   "execution_count": 24,
   "id": "2a1c268b-4e60-48f5-9406-367fba56534b",
   "metadata": {},
   "outputs": [],
   "source": [
    "lst = [10,12,14,15,4,5,6,100,14,120]"
   ]
  },
  {
   "cell_type": "code",
   "execution_count": 26,
   "id": "6ec0ac97-4611-488a-a916-b268e318efb3",
   "metadata": {},
   "outputs": [],
   "source": [
    "lst.sort()"
   ]
  },
  {
   "cell_type": "code",
   "execution_count": 28,
   "id": "f38e38e6-c65c-4af7-a66c-a6d8f1b7c97e",
   "metadata": {},
   "outputs": [
    {
     "data": {
      "text/plain": [
       "[4, 5, 6, 10, 12, 14, 14, 15, 100, 120]"
      ]
     },
     "execution_count": 28,
     "metadata": {},
     "output_type": "execute_result"
    }
   ],
   "source": [
    "lst"
   ]
  },
  {
   "cell_type": "code",
   "execution_count": 38,
   "id": "40a12541-8140-4ab6-999a-6faff5c47798",
   "metadata": {},
   "outputs": [
    {
     "name": "stdout",
     "output_type": "stream",
     "text": [
      "largest number is 120\n",
      "second largest number is 100\n"
     ]
    }
   ],
   "source": [
    "lst = [10,12,14,15,4,5,6,100,14,120]\n",
    "lst.sort()\n",
    "\n",
    "largest_num = lst[-1]\n",
    "second_large = lst[-2]\n",
    "\n",
    "print(f\"largest number is {largest_num}\")\n",
    "print(f\"second largest number is {second_large}\")"
   ]
  },
  {
   "cell_type": "code",
   "execution_count": 106,
   "id": "99797c28-9a26-4d12-a5af-ec5fadfc1795",
   "metadata": {},
   "outputs": [],
   "source": [
    "#  creating a new list of squares of only even element up 20"
   ]
  },
  {
   "cell_type": "code",
   "execution_count": 108,
   "id": "7231bfab-7664-422e-b262-eea8c72aa97a",
   "metadata": {},
   "outputs": [
    {
     "name": "stdout",
     "output_type": "stream",
     "text": [
      "[4, 16, 36, 64, 100, 144, 196, 256, 324, 400]\n"
     ]
    }
   ],
   "source": [
    "lst_e = [e**2 for e in range (1,21) if e%2==0]\n",
    "print(lst_e)"
   ]
  },
  {
   "cell_type": "code",
   "execution_count": null,
   "id": "df537699-db43-4948-9f5c-b2d4b8c950e4",
   "metadata": {},
   "outputs": [],
   "source": []
  },
  {
   "cell_type": "code",
   "execution_count": null,
   "id": "7c71f99c-edb6-4553-97b8-86258f718037",
   "metadata": {},
   "outputs": [],
   "source": []
  },
  {
   "cell_type": "code",
   "execution_count": null,
   "id": "6ecc5929-605d-473d-b27f-922a15077ccf",
   "metadata": {},
   "outputs": [],
   "source": [
    "#Q-2 : Rotation of a List\n",
    "Given a list (lst) and an int variable(steps). You need to perform right rotation of the given list\n",
    "Right Rotation is defined as :\n",
    "[1,2,3,4,5,6] ---(1 right rotation)--> [6,1,2,3,4,5]\n",
    "[1,2,3,4,5,6] ---(2 right rotations)--> [5,6,1,2,3,4]"
   ]
  },
  {
   "cell_type": "code",
   "execution_count": null,
   "id": "9569979f-4304-49ff-a305-2b4074b379ff",
   "metadata": {},
   "outputs": [],
   "source": [
    "lst = [1,2,3,4,5,6]\n",
    "steps = 4"
   ]
  },
  {
   "cell_type": "code",
   "execution_count": null,
   "id": "8a6bea4d-714b-4d33-99c4-683e4dd400b7",
   "metadata": {},
   "outputs": [],
   "source": []
  },
  {
   "cell_type": "code",
   "execution_count": 67,
   "id": "055e556d-f89f-484b-b055-d674d2d1b1b3",
   "metadata": {},
   "outputs": [],
   "source": [
    "# list comprehension: creating a list in consice way, in a shorter way..."
   ]
  },
  {
   "cell_type": "code",
   "execution_count": null,
   "id": "05736631-4106-4ac7-a51f-ff0c72acd654",
   "metadata": {},
   "outputs": [],
   "source": []
  },
  {
   "cell_type": "code",
   "execution_count": 1,
   "id": "43876b3b-f6ba-4ae6-b7bc-2c2099d0cd81",
   "metadata": {},
   "outputs": [],
   "source": [
    "#  creating a new list of squares of  even numbers and cube of odd of element upto 20."
   ]
  },
  {
   "cell_type": "code",
   "execution_count": 75,
   "id": "ca3af4d5-2d2a-4ba4-9d86-c527e6a2e718",
   "metadata": {},
   "outputs": [],
   "source": [
    "k = list(range(1,21))"
   ]
  },
  {
   "cell_type": "code",
   "execution_count": 77,
   "id": "89980026-be75-4b5b-90da-749f05647581",
   "metadata": {},
   "outputs": [
    {
     "data": {
      "text/plain": [
       "[1, 2, 3, 4, 5, 6, 7, 8, 9, 10, 11, 12, 13, 14, 15, 16, 17, 18, 19, 20]"
      ]
     },
     "execution_count": 77,
     "metadata": {},
     "output_type": "execute_result"
    }
   ],
   "source": [
    "k"
   ]
  },
  {
   "cell_type": "code",
   "execution_count": 79,
   "id": "dbb28df2-77bd-402f-8c38-8b7afa4d46c3",
   "metadata": {},
   "outputs": [],
   "source": [
    "m = []\n",
    "for i in range(1,21):\n",
    "    m.append(i)"
   ]
  },
  {
   "cell_type": "code",
   "execution_count": 81,
   "id": "b1e94a07-d003-4c97-a4af-2fdb5d9d5012",
   "metadata": {},
   "outputs": [
    {
     "data": {
      "text/plain": [
       "[1, 2, 3, 4, 5, 6, 7, 8, 9, 10, 11, 12, 13, 14, 15, 16, 17, 18, 19, 20]"
      ]
     },
     "execution_count": 81,
     "metadata": {},
     "output_type": "execute_result"
    }
   ],
   "source": [
    "m"
   ]
  },
  {
   "cell_type": "code",
   "execution_count": 11,
   "id": "9c80f1c6-4bb8-42c0-9ee7-73bd7ba38e35",
   "metadata": {},
   "outputs": [],
   "source": [
    "n = [i for i in range(1,21)]"
   ]
  },
  {
   "cell_type": "code",
   "execution_count": 13,
   "id": "624eac8d-a4ac-483e-a42e-989d6f24ceeb",
   "metadata": {},
   "outputs": [
    {
     "data": {
      "text/plain": [
       "[1, 2, 3, 4, 5, 6, 7, 8, 9, 10, 11, 12, 13, 14, 15, 16, 17, 18, 19, 20]"
      ]
     },
     "execution_count": 13,
     "metadata": {},
     "output_type": "execute_result"
    }
   ],
   "source": [
    "n"
   ]
  },
  {
   "cell_type": "code",
   "execution_count": 15,
   "id": "cc6dd40f-c1b6-445d-9565-85f5ff8d2263",
   "metadata": {},
   "outputs": [],
   "source": [
    "#  creating a new list of squares of only even element up 20"
   ]
  },
  {
   "cell_type": "code",
   "execution_count": 17,
   "id": "82a55fdb-5f24-4be1-82f8-e018423ea8da",
   "metadata": {},
   "outputs": [],
   "source": [
    "o = []\n",
    "for i in range(1,21):\n",
    "    if i%2==0:\n",
    "        o.append(i**2)"
   ]
  },
  {
   "cell_type": "code",
   "execution_count": 19,
   "id": "3c3ca5c8-4dd8-486b-b937-83813ccee903",
   "metadata": {},
   "outputs": [
    {
     "data": {
      "text/plain": [
       "[4, 16, 36, 64, 100, 144, 196, 256, 324, 400]"
      ]
     },
     "execution_count": 19,
     "metadata": {},
     "output_type": "execute_result"
    }
   ],
   "source": [
    "o"
   ]
  },
  {
   "cell_type": "code",
   "execution_count": 21,
   "id": "0694035c-7e52-48c7-97d8-9f2afb6a2890",
   "metadata": {},
   "outputs": [
    {
     "data": {
      "text/plain": [
       "[4, 16, 36, 64, 100, 144, 196, 256, 324, 400]"
      ]
     },
     "execution_count": 21,
     "metadata": {},
     "output_type": "execute_result"
    }
   ],
   "source": [
    "[i**2 for i in range(1,21) if i%2==0]"
   ]
  },
  {
   "cell_type": "code",
   "execution_count": null,
   "id": "956fe872-5ace-4922-bdb1-78783aead194",
   "metadata": {},
   "outputs": [],
   "source": []
  },
  {
   "cell_type": "code",
   "execution_count": 24,
   "id": "d370c75e-7bf2-4cf1-9aca-78771d6e509e",
   "metadata": {},
   "outputs": [],
   "source": [
    "# creating a new list of squares of new numbers and cube of odd of elements upto 20."
   ]
  },
  {
   "cell_type": "code",
   "execution_count": 28,
   "id": "a8a59ceb-bed2-4b3d-816c-fe8dfb0fe3f9",
   "metadata": {},
   "outputs": [],
   "source": [
    "t = []\n",
    "for i in range(1,21):\n",
    "    if 1%2==0:\n",
    "        t.append(i**2)\n",
    "    else:\n",
    "        t.append(i**3)"
   ]
  },
  {
   "cell_type": "code",
   "execution_count": 30,
   "id": "8445a44a-6dd8-4cd9-a4a5-0d5dc013781f",
   "metadata": {},
   "outputs": [
    {
     "data": {
      "text/plain": [
       "[1,\n",
       " 8,\n",
       " 27,\n",
       " 64,\n",
       " 125,\n",
       " 216,\n",
       " 343,\n",
       " 512,\n",
       " 729,\n",
       " 1000,\n",
       " 1331,\n",
       " 1728,\n",
       " 2197,\n",
       " 2744,\n",
       " 3375,\n",
       " 4096,\n",
       " 4913,\n",
       " 5832,\n",
       " 6859,\n",
       " 8000]"
      ]
     },
     "execution_count": 30,
     "metadata": {},
     "output_type": "execute_result"
    }
   ],
   "source": [
    "t"
   ]
  },
  {
   "cell_type": "code",
   "execution_count": null,
   "id": "f24259cf-8d9d-49c2-a201-6c0d63963e44",
   "metadata": {},
   "outputs": [],
   "source": []
  },
  {
   "cell_type": "code",
   "execution_count": 33,
   "id": "f7b7e904-77b5-491c-b796-3247f1d42081",
   "metadata": {},
   "outputs": [
    {
     "data": {
      "text/plain": [
       "[1,\n",
       " 4,\n",
       " 27,\n",
       " 16,\n",
       " 125,\n",
       " 36,\n",
       " 343,\n",
       " 64,\n",
       " 729,\n",
       " 100,\n",
       " 1331,\n",
       " 144,\n",
       " 2197,\n",
       " 196,\n",
       " 3375,\n",
       " 256,\n",
       " 4913,\n",
       " 324,\n",
       " 6859,\n",
       " 400]"
      ]
     },
     "execution_count": 33,
     "metadata": {},
     "output_type": "execute_result"
    }
   ],
   "source": [
    "[i**2 if i%2==0 else i**3 for i in range(1,21)]"
   ]
  },
  {
   "cell_type": "code",
   "execution_count": null,
   "id": "e8ef31bd-6536-4dc6-b2cc-afa66d918a1d",
   "metadata": {},
   "outputs": [],
   "source": []
  },
  {
   "cell_type": "code",
   "execution_count": 36,
   "id": "6ef4c788-565c-4c5f-866a-acec263f1510",
   "metadata": {},
   "outputs": [],
   "source": [
    "t = list(range(1,21))"
   ]
  },
  {
   "cell_type": "code",
   "execution_count": 38,
   "id": "b368f6e6-190e-49ca-a7fb-632797541a32",
   "metadata": {},
   "outputs": [
    {
     "data": {
      "text/plain": [
       "[1, 2, 3, 4, 5, 6, 7, 8, 9, 10, 11, 12, 13, 14, 15, 16, 17, 18, 19, 20]"
      ]
     },
     "execution_count": 38,
     "metadata": {},
     "output_type": "execute_result"
    }
   ],
   "source": [
    "t"
   ]
  },
  {
   "cell_type": "code",
   "execution_count": 40,
   "id": "bf6e404b-2eb6-4eab-85f6-3b601899d75a",
   "metadata": {},
   "outputs": [],
   "source": [
    "r = []\n",
    "for i in range(1,21):\n",
    "    r.append(i**2)"
   ]
  },
  {
   "cell_type": "code",
   "execution_count": 42,
   "id": "8debfa7e-736b-4213-b8aa-16e585829d9b",
   "metadata": {},
   "outputs": [
    {
     "data": {
      "text/plain": [
       "[1,\n",
       " 4,\n",
       " 9,\n",
       " 16,\n",
       " 25,\n",
       " 36,\n",
       " 49,\n",
       " 64,\n",
       " 81,\n",
       " 100,\n",
       " 121,\n",
       " 144,\n",
       " 169,\n",
       " 196,\n",
       " 225,\n",
       " 256,\n",
       " 289,\n",
       " 324,\n",
       " 361,\n",
       " 400]"
      ]
     },
     "execution_count": 42,
     "metadata": {},
     "output_type": "execute_result"
    }
   ],
   "source": [
    "r"
   ]
  },
  {
   "cell_type": "code",
   "execution_count": 44,
   "id": "8ea6162a-e173-4290-aa24-9093f81a79c1",
   "metadata": {},
   "outputs": [
    {
     "data": {
      "text/plain": [
       "[1, 2, 3, 4, 5, 6, 7, 8, 9, 10, 11, 12, 13, 14, 15, 16, 17, 18, 19, 20]"
      ]
     },
     "execution_count": 44,
     "metadata": {},
     "output_type": "execute_result"
    }
   ],
   "source": [
    "[i for i in range(1,21)]"
   ]
  },
  {
   "cell_type": "code",
   "execution_count": null,
   "id": "71e8008b-0f80-4d3d-8e8d-4fbca0ec737c",
   "metadata": {},
   "outputs": [],
   "source": []
  },
  {
   "cell_type": "code",
   "execution_count": 47,
   "id": "496072e7-5dcf-4679-a641-e50675b43ce2",
   "metadata": {},
   "outputs": [],
   "source": [
    "r =[]\n",
    "for i in range(1,21):\n",
    "    if i%2==0:\n",
    "        r.append(i**2)"
   ]
  },
  {
   "cell_type": "code",
   "execution_count": 49,
   "id": "33cc6c65-abea-4b0c-b44d-23a8bf4c2d49",
   "metadata": {},
   "outputs": [
    {
     "data": {
      "text/plain": [
       "[4, 16, 36, 64, 100, 144, 196, 256, 324, 400]"
      ]
     },
     "execution_count": 49,
     "metadata": {},
     "output_type": "execute_result"
    }
   ],
   "source": [
    "r"
   ]
  },
  {
   "cell_type": "code",
   "execution_count": 51,
   "id": "582d8e2e-d2c5-4c07-bde0-3f516f0092b1",
   "metadata": {},
   "outputs": [
    {
     "data": {
      "text/plain": [
       "[4, 16, 36, 64, 100, 144, 196, 256, 324, 400]"
      ]
     },
     "execution_count": 51,
     "metadata": {},
     "output_type": "execute_result"
    }
   ],
   "source": [
    "[i**2 for i in range(1,21) if i%2==0]"
   ]
  },
  {
   "cell_type": "code",
   "execution_count": null,
   "id": "4421a9aa-1e9c-4b62-a055-e93ccb8a309d",
   "metadata": {},
   "outputs": [],
   "source": []
  },
  {
   "cell_type": "code",
   "execution_count": 54,
   "id": "3b039b12-b124-4777-a221-cb6faddd091a",
   "metadata": {},
   "outputs": [],
   "source": [
    "r = []\n",
    "for i in range(1,21):\n",
    "    if i%2==0:\n",
    "        r.append(i**2)\n",
    "    else:\n",
    "        r.append(i**3)"
   ]
  },
  {
   "cell_type": "code",
   "execution_count": 60,
   "id": "5f5abc08-9f90-49dc-92e7-f325c8425a96",
   "metadata": {},
   "outputs": [
    {
     "data": {
      "text/plain": [
       "[1,\n",
       " 4,\n",
       " 27,\n",
       " 16,\n",
       " 125,\n",
       " 36,\n",
       " 343,\n",
       " 64,\n",
       " 729,\n",
       " 100,\n",
       " 1331,\n",
       " 144,\n",
       " 2197,\n",
       " 196,\n",
       " 3375,\n",
       " 256,\n",
       " 4913,\n",
       " 324,\n",
       " 6859,\n",
       " 400]"
      ]
     },
     "execution_count": 60,
     "metadata": {},
     "output_type": "execute_result"
    }
   ],
   "source": [
    "r"
   ]
  },
  {
   "cell_type": "code",
   "execution_count": 62,
   "id": "701a57dc-df68-4959-a9e0-2555817ff2a9",
   "metadata": {},
   "outputs": [
    {
     "data": {
      "text/plain": [
       "[1, 4, 27, 16, 125, 36, 343, 64, 729, 100]"
      ]
     },
     "execution_count": 62,
     "metadata": {},
     "output_type": "execute_result"
    }
   ],
   "source": [
    "[i**2 if i%2==0 else i**3  for i in range(1,11)]"
   ]
  },
  {
   "cell_type": "code",
   "execution_count": null,
   "id": "b7d43603-6e3c-4d1b-b5a0-18089b53be8e",
   "metadata": {},
   "outputs": [],
   "source": []
  },
  {
   "cell_type": "code",
   "execution_count": 65,
   "id": "fa7a683c-8f61-48d4-911c-f9ecd8ff4139",
   "metadata": {},
   "outputs": [],
   "source": [
    "# multi dimentional list"
   ]
  },
  {
   "cell_type": "code",
   "execution_count": 69,
   "id": "105bf01d-13fd-4053-b136-00494b1521c6",
   "metadata": {},
   "outputs": [],
   "source": [
    "a = [4,5,6,7,8,9]"
   ]
  },
  {
   "cell_type": "code",
   "execution_count": 71,
   "id": "c2365813-db83-494f-82df-62d24bdad3c6",
   "metadata": {},
   "outputs": [],
   "source": [
    "b = [[1,2,3], [4,5,6], [7,8,9], [10,11,12]]"
   ]
  },
  {
   "cell_type": "code",
   "execution_count": 73,
   "id": "5dadf1d4-d579-4d29-9201-cdd2b3116064",
   "metadata": {},
   "outputs": [
    {
     "data": {
      "text/plain": [
       "[[1, 2, 3], [4, 5, 6], [7, 8, 9], [10, 11, 12]]"
      ]
     },
     "execution_count": 73,
     "metadata": {},
     "output_type": "execute_result"
    }
   ],
   "source": [
    "b"
   ]
  },
  {
   "cell_type": "code",
   "execution_count": 75,
   "id": "98d2c0a7-015b-4c45-a27f-304e3d180b43",
   "metadata": {},
   "outputs": [
    {
     "data": {
      "text/plain": [
       "5"
      ]
     },
     "execution_count": 75,
     "metadata": {},
     "output_type": "execute_result"
    }
   ],
   "source": [
    "b[1][1]"
   ]
  },
  {
   "cell_type": "code",
   "execution_count": 77,
   "id": "8d80fec4-8c22-4ba6-b41c-b3e50cee2f6a",
   "metadata": {},
   "outputs": [
    {
     "data": {
      "text/plain": [
       "11"
      ]
     },
     "execution_count": 77,
     "metadata": {},
     "output_type": "execute_result"
    }
   ],
   "source": [
    "b[-1][-2]"
   ]
  },
  {
   "cell_type": "code",
   "execution_count": 79,
   "id": "d4a0ec0f-c6e7-4170-a8a0-928da9d62c10",
   "metadata": {},
   "outputs": [
    {
     "data": {
      "text/plain": [
       "5"
      ]
     },
     "execution_count": 79,
     "metadata": {},
     "output_type": "execute_result"
    }
   ],
   "source": [
    "b[1][1]"
   ]
  },
  {
   "cell_type": "code",
   "execution_count": 81,
   "id": "fd182bdf-a894-4306-a46b-522d0479bc7c",
   "metadata": {},
   "outputs": [
    {
     "data": {
      "text/plain": [
       "9"
      ]
     },
     "execution_count": 81,
     "metadata": {},
     "output_type": "execute_result"
    }
   ],
   "source": [
    "b[-2][-1]"
   ]
  },
  {
   "cell_type": "code",
   "execution_count": 85,
   "id": "4ebabbda-0151-425d-add1-db70156b02cd",
   "metadata": {},
   "outputs": [
    {
     "data": {
      "text/plain": [
       "9"
      ]
     },
     "execution_count": 85,
     "metadata": {},
     "output_type": "execute_result"
    }
   ],
   "source": [
    "b[-2][-1]"
   ]
  },
  {
   "cell_type": "code",
   "execution_count": 87,
   "id": "f9d53654-8883-4f9f-a873-f342946dbe81",
   "metadata": {},
   "outputs": [],
   "source": [
    "a = [[1,2], [3,4]]"
   ]
  },
  {
   "cell_type": "code",
   "execution_count": 89,
   "id": "1bf2f3d5-37da-4f6e-a545-35db053e4e75",
   "metadata": {},
   "outputs": [],
   "source": [
    "b = [[5,6], [7,8]]"
   ]
  },
  {
   "cell_type": "code",
   "execution_count": 91,
   "id": "8acc1827-a9c6-4e6c-b8a4-8dd0eedaef92",
   "metadata": {},
   "outputs": [
    {
     "data": {
      "text/plain": [
       "[[1, 2], [3, 4]]"
      ]
     },
     "execution_count": 91,
     "metadata": {},
     "output_type": "execute_result"
    }
   ],
   "source": [
    "a"
   ]
  },
  {
   "cell_type": "code",
   "execution_count": 93,
   "id": "6a325770-622f-4bb2-b55a-5572d12bd8e9",
   "metadata": {},
   "outputs": [
    {
     "data": {
      "text/plain": [
       "[[5, 6], [7, 8]]"
      ]
     },
     "execution_count": 93,
     "metadata": {},
     "output_type": "execute_result"
    }
   ],
   "source": [
    "b"
   ]
  },
  {
   "cell_type": "code",
   "execution_count": 95,
   "id": "ea6a0f9e-7f2b-4334-ad48-9d89e30c1dbb",
   "metadata": {},
   "outputs": [],
   "source": [
    "c = [[None, None], [None, None]]\n",
    "\n",
    "for i in range(2):\n",
    "    for j in range(2):\n",
    "        c[i][j] = a[i][j] + b[i][j]"
   ]
  },
  {
   "cell_type": "code",
   "execution_count": 97,
   "id": "5dc3e62c-2d9e-413e-84b6-02e1a642af13",
   "metadata": {},
   "outputs": [
    {
     "data": {
      "text/plain": [
       "[[6, 8], [10, 12]]"
      ]
     },
     "execution_count": 97,
     "metadata": {},
     "output_type": "execute_result"
    }
   ],
   "source": [
    "c"
   ]
  },
  {
   "cell_type": "code",
   "execution_count": 101,
   "id": "96039f49-9b71-469f-a9e4-5792bc53f0f8",
   "metadata": {},
   "outputs": [
    {
     "data": {
      "text/plain": [
       "'hellohello'"
      ]
     },
     "execution_count": 101,
     "metadata": {},
     "output_type": "execute_result"
    }
   ],
   "source": [
    "\"hello\" *2"
   ]
  },
  {
   "cell_type": "code",
   "execution_count": 111,
   "id": "3375a57d-aa6c-45a3-afda-c27f6586b1e2",
   "metadata": {},
   "outputs": [
    {
     "data": {
      "text/plain": [
       "[[None, None, None, None, None, None, None, None, None, None],\n",
       " [None, None, None, None, None, None, None, None, None, None],\n",
       " [None, None, None, None, None, None, None, None, None, None],\n",
       " [None, None, None, None, None, None, None, None, None, None],\n",
       " [None, None, None, None, None, None, None, None, None, None],\n",
       " [None, None, None, None, None, None, None, None, None, None],\n",
       " [None, None, None, None, None, None, None, None, None, None],\n",
       " [None, None, None, None, None, None, None, None, None, None],\n",
       " [None, None, None, None, None, None, None, None, None, None],\n",
       " [None, None, None, None, None, None, None, None, None, None]]"
      ]
     },
     "execution_count": 111,
     "metadata": {},
     "output_type": "execute_result"
    }
   ],
   "source": [
    "[[None]*10]*10"
   ]
  },
  {
   "cell_type": "code",
   "execution_count": 115,
   "id": "6e1a261e-c8e9-4e36-b517-18dc53650d57",
   "metadata": {},
   "outputs": [
    {
     "data": {
      "text/plain": [
       "[[None, None, None, None, None],\n",
       " [None, None, None, None, None],\n",
       " [None, None, None, None, None],\n",
       " [None, None, None, None, None],\n",
       " [None, None, None, None, None]]"
      ]
     },
     "execution_count": 115,
     "metadata": {},
     "output_type": "execute_result"
    }
   ],
   "source": [
    "[[None]*5]*5"
   ]
  },
  {
   "cell_type": "code",
   "execution_count": null,
   "id": "e5155a1b-15c5-410a-b057-9b19663a77f0",
   "metadata": {},
   "outputs": [],
   "source": []
  },
  {
   "cell_type": "code",
   "execution_count": null,
   "id": "ad4a300b-d6b3-405c-94a9-34a8ff5663b9",
   "metadata": {},
   "outputs": [],
   "source": []
  },
  {
   "cell_type": "code",
   "execution_count": 125,
   "id": "dc6f0237-0aac-4865-af70-c80f77a34e5f",
   "metadata": {},
   "outputs": [],
   "source": [
    "lst_nd = [[[[[[[[4,5,6,7,8,8]]]]]]]]"
   ]
  },
  {
   "cell_type": "code",
   "execution_count": 127,
   "id": "d043e963-fd63-4875-b993-65c5505bb17e",
   "metadata": {},
   "outputs": [
    {
     "data": {
      "text/plain": [
       "[[[[[[[[4, 5, 6, 7, 8, 8]]]]]]]]"
      ]
     },
     "execution_count": 127,
     "metadata": {},
     "output_type": "execute_result"
    }
   ],
   "source": [
    "lst_nd"
   ]
  },
  {
   "cell_type": "code",
   "execution_count": null,
   "id": "f504bf7a-5313-44e3-a636-eb5b15b32da9",
   "metadata": {},
   "outputs": [],
   "source": []
  },
  {
   "cell_type": "code",
   "execution_count": 130,
   "id": "843184d4-6ec7-464c-9209-4533976bc81b",
   "metadata": {},
   "outputs": [],
   "source": [
    "# Deep copy and Shallow copy:"
   ]
  },
  {
   "cell_type": "code",
   "execution_count": 1,
   "id": "d2c59144-3e3d-450d-89f6-f6b92cd1ac22",
   "metadata": {},
   "outputs": [],
   "source": [
    "a = [4,5,6,7,8,9]"
   ]
  },
  {
   "cell_type": "code",
   "execution_count": 3,
   "id": "6e38b782-fb97-4b93-9e67-f6731fe39c7b",
   "metadata": {},
   "outputs": [],
   "source": [
    "b = a"
   ]
  },
  {
   "cell_type": "code",
   "execution_count": 5,
   "id": "1147412e-4d54-4089-9106-0d732c145192",
   "metadata": {},
   "outputs": [],
   "source": [
    "b.append(160)"
   ]
  },
  {
   "cell_type": "code",
   "execution_count": 7,
   "id": "a8901586-e2ba-47ad-a54d-5a95e6a6b56f",
   "metadata": {},
   "outputs": [
    {
     "data": {
      "text/plain": [
       "[4, 5, 6, 7, 8, 9, 160]"
      ]
     },
     "execution_count": 7,
     "metadata": {},
     "output_type": "execute_result"
    }
   ],
   "source": [
    "b"
   ]
  },
  {
   "cell_type": "code",
   "execution_count": 9,
   "id": "14bccce3-0e2e-45a2-9733-39cc8f6f59d3",
   "metadata": {},
   "outputs": [],
   "source": [
    "b.append(234)"
   ]
  },
  {
   "cell_type": "code",
   "execution_count": 11,
   "id": "b2b3a362-0c84-4b6e-9c20-96ddd7691559",
   "metadata": {},
   "outputs": [
    {
     "data": {
      "text/plain": [
       "[4, 5, 6, 7, 8, 9, 160, 234]"
      ]
     },
     "execution_count": 11,
     "metadata": {},
     "output_type": "execute_result"
    }
   ],
   "source": [
    "b"
   ]
  },
  {
   "cell_type": "code",
   "execution_count": 13,
   "id": "87c9ea24-9786-4f52-a130-c2e1d256bf2b",
   "metadata": {},
   "outputs": [
    {
     "data": {
      "text/plain": [
       "[4, 5, 6, 7, 8, 9, 160, 234]"
      ]
     },
     "execution_count": 13,
     "metadata": {},
     "output_type": "execute_result"
    }
   ],
   "source": [
    "a"
   ]
  },
  {
   "cell_type": "code",
   "execution_count": null,
   "id": "f1becb3a-e4b4-456a-9d16-d84f4cc411fd",
   "metadata": {},
   "outputs": [],
   "source": []
  },
  {
   "cell_type": "code",
   "execution_count": 145,
   "id": "fd527fbb-5a41-4ae6-bb01-40f4085dd7bc",
   "metadata": {},
   "outputs": [
    {
     "data": {
      "text/plain": [
       "[4, 5, 6, 7, 8, 9, 160]"
      ]
     },
     "execution_count": 145,
     "metadata": {},
     "output_type": "execute_result"
    }
   ],
   "source": [
    "b"
   ]
  },
  {
   "cell_type": "code",
   "execution_count": 147,
   "id": "53f3d332-e8a2-4cdf-9b4d-6bb72d0250fb",
   "metadata": {},
   "outputs": [
    {
     "data": {
      "text/plain": [
       "[4, 5, 6, 7, 8, 9, 160]"
      ]
     },
     "execution_count": 147,
     "metadata": {},
     "output_type": "execute_result"
    }
   ],
   "source": [
    "a"
   ]
  },
  {
   "cell_type": "code",
   "execution_count": 149,
   "id": "e74b529e-e373-4399-9a08-173761ccb452",
   "metadata": {},
   "outputs": [],
   "source": [
    "# Deep copy:"
   ]
  },
  {
   "cell_type": "code",
   "execution_count": 15,
   "id": "51cbd1ec-ca57-45bd-8154-c81533df2c65",
   "metadata": {},
   "outputs": [],
   "source": [
    "a = [4,5,6,7,8,9]"
   ]
  },
  {
   "cell_type": "code",
   "execution_count": 17,
   "id": "32a967c7-c224-4a47-816a-a0e8e4b3b02b",
   "metadata": {},
   "outputs": [],
   "source": [
    "C = a.copy()"
   ]
  },
  {
   "cell_type": "code",
   "execution_count": 19,
   "id": "2188a47c-54b9-47bc-8495-2b2f4e87b6a5",
   "metadata": {},
   "outputs": [
    {
     "data": {
      "text/plain": [
       "[4, 5, 6, 7, 8, 9]"
      ]
     },
     "execution_count": 19,
     "metadata": {},
     "output_type": "execute_result"
    }
   ],
   "source": [
    "C"
   ]
  },
  {
   "cell_type": "code",
   "execution_count": 21,
   "id": "1e356ba6-eda9-463a-b370-208f87d8d2b0",
   "metadata": {},
   "outputs": [],
   "source": [
    "C.append(1200)"
   ]
  },
  {
   "cell_type": "code",
   "execution_count": 23,
   "id": "1d249659-43c1-4389-b929-4b381da73321",
   "metadata": {},
   "outputs": [],
   "source": [
    "C.append(190)"
   ]
  },
  {
   "cell_type": "code",
   "execution_count": 25,
   "id": "7d51d808-8e62-4377-8cc7-8d3f3817f5e5",
   "metadata": {},
   "outputs": [
    {
     "data": {
      "text/plain": [
       "[4, 5, 6, 7, 8, 9, 1200, 190]"
      ]
     },
     "execution_count": 25,
     "metadata": {},
     "output_type": "execute_result"
    }
   ],
   "source": [
    "C"
   ]
  },
  {
   "cell_type": "code",
   "execution_count": 27,
   "id": "85b689ab-156c-426b-8af6-3f43de69f24b",
   "metadata": {},
   "outputs": [
    {
     "data": {
      "text/plain": [
       "[4, 5, 6, 7, 8, 9]"
      ]
     },
     "execution_count": 27,
     "metadata": {},
     "output_type": "execute_result"
    }
   ],
   "source": [
    "a"
   ]
  },
  {
   "cell_type": "code",
   "execution_count": 29,
   "id": "dbaac03e-5b6a-4b10-9a9c-26d26e982ac2",
   "metadata": {},
   "outputs": [
    {
     "data": {
      "text/plain": [
       "[4, 5, 6, 7, 8, 9, 1200, 190]"
      ]
     },
     "execution_count": 29,
     "metadata": {},
     "output_type": "execute_result"
    }
   ],
   "source": [
    "C"
   ]
  },
  {
   "cell_type": "code",
   "execution_count": 31,
   "id": "52ac1816-bfd4-4845-b168-91945af94fb9",
   "metadata": {},
   "outputs": [
    {
     "data": {
      "text/plain": [
       "[4, 5, 6, 7, 8, 9]"
      ]
     },
     "execution_count": 31,
     "metadata": {},
     "output_type": "execute_result"
    }
   ],
   "source": [
    "a"
   ]
  },
  {
   "cell_type": "code",
   "execution_count": null,
   "id": "80eab429-750d-4cbd-a7cf-cc586f9490e8",
   "metadata": {},
   "outputs": [],
   "source": [
    "#Q-2 : Rotation of a List\n",
    "Given a list (lst) and an int variable(steps). You need to perform right rotation of the given list\n",
    "Right Rotation is defined as :\n",
    "[1,2,3,4,5,6] ---(1 right rotation)--> [6,1,2,3,4,5]\n",
    "[1,2,3,4,5,6] ---(2 right rotations)--> [5,6,1,2,3,4]"
   ]
  },
  {
   "cell_type": "code",
   "execution_count": 97,
   "id": "68b58eb4-93a4-4a0c-ade3-fc5b2b2b316c",
   "metadata": {},
   "outputs": [
    {
     "ename": "SyntaxError",
     "evalue": "invalid non-printable character U+00A0 (2167626934.py, line 2)",
     "output_type": "error",
     "traceback": [
      "\u001b[1;36m  Cell \u001b[1;32mIn[97], line 2\u001b[1;36m\u001b[0m\n\u001b[1;33m    steps = 4\u001b[0m\n\u001b[1;37m         ^\u001b[0m\n\u001b[1;31mSyntaxError\u001b[0m\u001b[1;31m:\u001b[0m invalid non-printable character U+00A0\n"
     ]
    }
   ],
   "source": [
    "lst = [1,2,3,4,5,6]\n",
    "steps = 4"
   ]
  },
  {
   "cell_type": "code",
   "execution_count": 99,
   "id": "92abe60e-2ff0-4470-ad2b-4ad894b8ed99",
   "metadata": {},
   "outputs": [
    {
     "ename": "SyntaxError",
     "evalue": "invalid syntax (362242310.py, line 1)",
     "output_type": "error",
     "traceback": [
      "\u001b[1;36m  Cell \u001b[1;32mIn[99], line 1\u001b[1;36m\u001b[0m\n\u001b[1;33m    lst = [1,2,3,4,5,6]5\u001b[0m\n\u001b[1;37m                       ^\u001b[0m\n\u001b[1;31mSyntaxError\u001b[0m\u001b[1;31m:\u001b[0m invalid syntax\n"
     ]
    }
   ],
   "source": [
    "lst = [1,2,3,4,5,6]5"
   ]
  },
  {
   "cell_type": "code",
   "execution_count": 101,
   "id": "36b29441-66b8-4dab-bb25-43d89f54ba1d",
   "metadata": {},
   "outputs": [
    {
     "name": "stdin",
     "output_type": "stream",
     "text": [
      "enter any step: 5\n"
     ]
    }
   ],
   "source": [
    "steps = int(input(\"enter any step:\"))"
   ]
  },
  {
   "cell_type": "code",
   "execution_count": 103,
   "id": "096e5338-6457-4ba1-b6a5-92aa793f3802",
   "metadata": {},
   "outputs": [
    {
     "ename": "SyntaxError",
     "evalue": "invalid syntax (3057029800.py, line 1)",
     "output_type": "error",
     "traceback": [
      "\u001b[1;36m  Cell \u001b[1;32mIn[103], line 1\u001b[1;36m\u001b[0m\n\u001b[1;33m    for in range(steps):\u001b[0m\n\u001b[1;37m        ^\u001b[0m\n\u001b[1;31mSyntaxError\u001b[0m\u001b[1;31m:\u001b[0m invalid syntax\n"
     ]
    }
   ],
   "source": [
    "for in range(steps):\n",
    "    k = lst[-1]\n",
    "    \n",
    "    for i in range(len(lst)-1,0, -1):\n",
    "        lst[i] = lst[i-1]\n",
    "\n",
    "    lst[0] = k"
   ]
  },
  {
   "cell_type": "code",
   "execution_count": 105,
   "id": "b413d955-a807-4786-aab5-240378840dd9",
   "metadata": {},
   "outputs": [],
   "source": [
    "for i in range(steps):\n",
    "    k = lst[-1]\n",
    "\n",
    "    for i in range(len(lst)-1,0, -1):\n",
    "        lst[i] = lst[i-1]\n",
    "\n",
    "    lst[0] = k"
   ]
  },
  {
   "cell_type": "code",
   "execution_count": 48,
   "id": "a8fda50c-4042-4add-8617-cebeb53a0d23",
   "metadata": {},
   "outputs": [
    {
     "name": "stdout",
     "output_type": "stream",
     "text": [
      "[4, 5, 6, 1, 2, 3]\n"
     ]
    }
   ],
   "source": [
    "print(lst)"
   ]
  },
  {
   "cell_type": "code",
   "execution_count": 76,
   "id": "d284bc39-c553-40c9-88ed-b5ebe94d2fe7",
   "metadata": {},
   "outputs": [],
   "source": [
    "lst_nd = [[[[[[[[4,5,6,7,8,9,8]]]]]]]]"
   ]
  },
  {
   "cell_type": "code",
   "execution_count": 78,
   "id": "0a589fe7-8700-4cd2-8596-6ddc2432e536",
   "metadata": {},
   "outputs": [
    {
     "data": {
      "text/plain": [
       "6"
      ]
     },
     "execution_count": 78,
     "metadata": {},
     "output_type": "execute_result"
    }
   ],
   "source": [
    "lst_nd[0][0][0][0][0][0][0][2]"
   ]
  },
  {
   "cell_type": "code",
   "execution_count": 80,
   "id": "dedf004f-6621-44ae-ba0b-265315ec9c03",
   "metadata": {},
   "outputs": [],
   "source": [
    "x = []\n",
    "for a in lst_nd:\n",
    "    for b in a:\n",
    "        for c in b:\n",
    "            for d in c:\n",
    "                for e in d:\n",
    "                    for f in e:\n",
    "                        for g in f:\n",
    "                            for h in g:\n",
    "                                x.append(h**2)\n",
    "                "
   ]
  },
  {
   "cell_type": "code",
   "execution_count": 82,
   "id": "93a69df3-9f52-404c-a6f1-0d1effdd6d05",
   "metadata": {},
   "outputs": [
    {
     "data": {
      "text/plain": [
       "[16, 25, 36, 49, 64, 81, 64]"
      ]
     },
     "execution_count": 82,
     "metadata": {},
     "output_type": "execute_result"
    }
   ],
   "source": [
    "x"
   ]
  },
  {
   "cell_type": "code",
   "execution_count": null,
   "id": "a98b046d-f195-4472-9de9-9133833dce26",
   "metadata": {},
   "outputs": [],
   "source": []
  },
  {
   "cell_type": "markdown",
   "id": "edabfc31-31ea-4c43-aae3-56cee336372a",
   "metadata": {},
   "source": [
    "# Tuples:\n",
    "* similar to list - collection of elements (but for read only)\n",
    "* ordered - sequence of elements\n",
    "* indexible and slicable\n",
    "* immutable in nature"
   ]
  },
  {
   "cell_type": "code",
   "execution_count": 23,
   "id": "23c56d5d-0f86-4ef0-ae20-3d07978f63be",
   "metadata": {},
   "outputs": [],
   "source": [
    "k = (4,5,6,7,8,9,4,26,8)"
   ]
  },
  {
   "cell_type": "code",
   "execution_count": 25,
   "id": "d1f9c9de-7f59-41e5-bb24-aa751a825f80",
   "metadata": {},
   "outputs": [
    {
     "name": "stdout",
     "output_type": "stream",
     "text": [
      "4\n",
      "5\n",
      "6\n",
      "7\n",
      "8\n",
      "9\n",
      "4\n",
      "26\n",
      "8\n"
     ]
    }
   ],
   "source": [
    "for i in k:\n",
    "    print(i)"
   ]
  },
  {
   "cell_type": "code",
   "execution_count": 29,
   "id": "d12cbf3b-833e-42cc-b669-ca220255e3f2",
   "metadata": {},
   "outputs": [
    {
     "data": {
      "text/plain": [
       "(4, 5, 6, 7, 8, 9, 4, 26, 8)"
      ]
     },
     "execution_count": 29,
     "metadata": {},
     "output_type": "execute_result"
    }
   ],
   "source": [
    "k"
   ]
  },
  {
   "cell_type": "code",
   "execution_count": 31,
   "id": "8ca44222-0d22-4fc4-999b-24ded294ad5d",
   "metadata": {},
   "outputs": [
    {
     "ename": "ValueError",
     "evalue": "tuple.index(x): x not in tuple",
     "output_type": "error",
     "traceback": [
      "\u001b[1;31m---------------------------------------------------------------------------\u001b[0m",
      "\u001b[1;31mValueError\u001b[0m                                Traceback (most recent call last)",
      "Cell \u001b[1;32mIn[31], line 1\u001b[0m\n\u001b[1;32m----> 1\u001b[0m k\u001b[38;5;241m.\u001b[39mindex(\u001b[38;5;241m2\u001b[39m,\u001b[38;5;241m3\u001b[39m)\n",
      "\u001b[1;31mValueError\u001b[0m: tuple.index(x): x not in tuple"
     ]
    }
   ],
   "source": [
    "k.index(2,3)"
   ]
  },
  {
   "cell_type": "code",
   "execution_count": 41,
   "id": "107ceadc-3fe7-4ad4-aad6-8e7da7d2be4d",
   "metadata": {},
   "outputs": [],
   "source": [
    "g = (1,2,3,4,5,6,7,8,9)"
   ]
  },
  {
   "cell_type": "code",
   "execution_count": 43,
   "id": "6742292f-fef8-4a48-9470-529b04a560db",
   "metadata": {},
   "outputs": [
    {
     "data": {
      "text/plain": [
       "(1, 2, 3, 4, 5, 6, 7, 8, 9)"
      ]
     },
     "execution_count": 43,
     "metadata": {},
     "output_type": "execute_result"
    }
   ],
   "source": [
    "g"
   ]
  },
  {
   "cell_type": "code",
   "execution_count": 45,
   "id": "0821e253-041e-495e-acee-ae30bbd2f656",
   "metadata": {},
   "outputs": [
    {
     "name": "stdout",
     "output_type": "stream",
     "text": [
      "1\n",
      "2\n",
      "3\n",
      "4\n",
      "5\n",
      "6\n",
      "7\n",
      "8\n",
      "9\n"
     ]
    }
   ],
   "source": [
    "for i in g:\n",
    "    print(i)"
   ]
  },
  {
   "cell_type": "code",
   "execution_count": 49,
   "id": "f196c545-193a-4e6c-99f7-99eac9fe83bd",
   "metadata": {},
   "outputs": [],
   "source": [
    "s1 = {1,2,3,4,5,6,7,8,9}\n",
    "s2 = {6,7,8,9,10,11,12,13}"
   ]
  },
  {
   "cell_type": "code",
   "execution_count": 51,
   "id": "fb1da6bb-ffaf-4b9b-a300-b80027eef9b8",
   "metadata": {},
   "outputs": [
    {
     "data": {
      "text/plain": [
       "{6, 7, 8, 9}"
      ]
     },
     "execution_count": 51,
     "metadata": {},
     "output_type": "execute_result"
    }
   ],
   "source": [
    "s1.intersection(s2)"
   ]
  },
  {
   "cell_type": "code",
   "execution_count": 53,
   "id": "5d79efa0-634d-4923-9b76-d8d92f01038a",
   "metadata": {},
   "outputs": [
    {
     "data": {
      "text/plain": [
       "{1, 2, 3, 4, 5, 6, 7, 8, 9}"
      ]
     },
     "execution_count": 53,
     "metadata": {},
     "output_type": "execute_result"
    }
   ],
   "source": [
    "s1.intersection(s1)"
   ]
  },
  {
   "cell_type": "code",
   "execution_count": 55,
   "id": "c9227d88-d6fc-4ded-b826-3cb5dd88e6b0",
   "metadata": {},
   "outputs": [
    {
     "data": {
      "text/plain": [
       "set()"
      ]
     },
     "execution_count": 55,
     "metadata": {},
     "output_type": "execute_result"
    }
   ],
   "source": [
    "s2.difference(s2)"
   ]
  },
  {
   "cell_type": "code",
   "execution_count": null,
   "id": "1ee72b19-e3af-444f-8c16-eb78d1110020",
   "metadata": {},
   "outputs": [],
   "source": []
  },
  {
   "cell_type": "code",
   "execution_count": null,
   "id": "4b2edd54-c410-46fa-bc3b-ecc7d9dc2ea3",
   "metadata": {},
   "outputs": [],
   "source": []
  },
  {
   "cell_type": "code",
   "execution_count": null,
   "id": "4476c93e-ca7f-4310-805e-8ef2367d22ae",
   "metadata": {},
   "outputs": [],
   "source": []
  },
  {
   "cell_type": "code",
   "execution_count": null,
   "id": "f315751d-138b-40af-9f39-c84a42e9fe4e",
   "metadata": {},
   "outputs": [],
   "source": []
  },
  {
   "cell_type": "code",
   "execution_count": 1,
   "id": "1c46050c-55a2-4fca-bd21-c6ca8c0986b5",
   "metadata": {},
   "outputs": [],
   "source": [
    "c = ()"
   ]
  },
  {
   "cell_type": "code",
   "execution_count": 5,
   "id": "551ae479-0e08-4dbe-a5c5-99b13d3c7b70",
   "metadata": {},
   "outputs": [
    {
     "data": {
      "text/plain": [
       "tuple"
      ]
     },
     "execution_count": 5,
     "metadata": {},
     "output_type": "execute_result"
    }
   ],
   "source": [
    "type(c)"
   ]
  },
  {
   "cell_type": "code",
   "execution_count": 7,
   "id": "22f62da1-1ae6-434d-a3bd-9de48fe89e7f",
   "metadata": {},
   "outputs": [],
   "source": [
    "k = (4,5,6,7,8,9,10)"
   ]
  },
  {
   "cell_type": "code",
   "execution_count": 9,
   "id": "6d041814-2dd3-423c-94ef-102643a0b2af",
   "metadata": {},
   "outputs": [
    {
     "data": {
      "text/plain": [
       "tuple"
      ]
     },
     "execution_count": 9,
     "metadata": {},
     "output_type": "execute_result"
    }
   ],
   "source": [
    "type(k)"
   ]
  },
  {
   "cell_type": "code",
   "execution_count": 11,
   "id": "5fc12003-4cd1-40f9-92f1-59792edfcd2c",
   "metadata": {},
   "outputs": [],
   "source": [
    "b = (10,12,15, \"data\", \"pyhon\", 2.3, 5+6j, [7,8,9,10], (15,10,16))"
   ]
  },
  {
   "cell_type": "code",
   "execution_count": 13,
   "id": "e4349079-0916-40d2-bb9f-263f35e2983f",
   "metadata": {},
   "outputs": [
    {
     "data": {
      "text/plain": [
       "tuple"
      ]
     },
     "execution_count": 13,
     "metadata": {},
     "output_type": "execute_result"
    }
   ],
   "source": [
    "type(b)"
   ]
  },
  {
   "cell_type": "code",
   "execution_count": 86,
   "id": "2d373f76-7707-421c-a79d-9a924e1b1134",
   "metadata": {},
   "outputs": [],
   "source": [
    "g = ()"
   ]
  },
  {
   "cell_type": "code",
   "execution_count": 88,
   "id": "9dadc009-470c-4bd2-9d52-d5ce0b3ac99f",
   "metadata": {},
   "outputs": [
    {
     "data": {
      "text/plain": [
       "tuple"
      ]
     },
     "execution_count": 88,
     "metadata": {},
     "output_type": "execute_result"
    }
   ],
   "source": [
    "type(g)"
   ]
  },
  {
   "cell_type": "code",
   "execution_count": 90,
   "id": "a5b31c9c-1130-4e9f-b669-32f06566396f",
   "metadata": {},
   "outputs": [],
   "source": [
    "j = tuple()"
   ]
  },
  {
   "cell_type": "code",
   "execution_count": 92,
   "id": "bbdc6a56-a120-4ef4-b3e0-78bfab2c2807",
   "metadata": {},
   "outputs": [
    {
     "data": {
      "text/plain": [
       "tuple"
      ]
     },
     "execution_count": 92,
     "metadata": {},
     "output_type": "execute_result"
    }
   ],
   "source": [
    "type(j)"
   ]
  },
  {
   "cell_type": "code",
   "execution_count": 94,
   "id": "340f7403-bf2b-4b79-a199-2f94a82fea65",
   "metadata": {},
   "outputs": [],
   "source": [
    "t = (10,12,15,19,20)"
   ]
  },
  {
   "cell_type": "code",
   "execution_count": 98,
   "id": "1c96c74c-7d27-48fb-a360-01db12301d84",
   "metadata": {},
   "outputs": [
    {
     "data": {
      "text/plain": [
       "tuple"
      ]
     },
     "execution_count": 98,
     "metadata": {},
     "output_type": "execute_result"
    }
   ],
   "source": [
    "type(t)"
   ]
  },
  {
   "cell_type": "code",
   "execution_count": 100,
   "id": "52482f5d-73fe-4dd7-b4d3-7735f5842d64",
   "metadata": {},
   "outputs": [],
   "source": [
    "c = (10,12,2.5,3.9,True,False, [10,20,30], (4,5,9,5.8), {\"a\":1, \"b\":2})"
   ]
  },
  {
   "cell_type": "code",
   "execution_count": 102,
   "id": "0c8967d8-34b7-42ae-a404-0450868d5f4c",
   "metadata": {},
   "outputs": [
    {
     "data": {
      "text/plain": [
       "tuple"
      ]
     },
     "execution_count": 102,
     "metadata": {},
     "output_type": "execute_result"
    }
   ],
   "source": [
    "type(c)"
   ]
  },
  {
   "cell_type": "code",
   "execution_count": 106,
   "id": "b6db7114-c279-4fb7-8938-875b4c0e57ea",
   "metadata": {},
   "outputs": [],
   "source": [
    "k = (45,)"
   ]
  },
  {
   "cell_type": "code",
   "execution_count": 108,
   "id": "5314a0ad-0ac9-4ee0-a8ec-928db3bb05b8",
   "metadata": {},
   "outputs": [
    {
     "data": {
      "text/plain": [
       "tuple"
      ]
     },
     "execution_count": 108,
     "metadata": {},
     "output_type": "execute_result"
    }
   ],
   "source": [
    "type(k)"
   ]
  },
  {
   "cell_type": "code",
   "execution_count": 112,
   "id": "ba5b3fcd-960f-4871-84cc-5b1670b387a5",
   "metadata": {},
   "outputs": [],
   "source": [
    "p = (\"computer\",)"
   ]
  },
  {
   "cell_type": "code",
   "execution_count": 114,
   "id": "d921d5c9-c6e8-43f2-89d9-3978824b592f",
   "metadata": {},
   "outputs": [
    {
     "data": {
      "text/plain": [
       "tuple"
      ]
     },
     "execution_count": 114,
     "metadata": {},
     "output_type": "execute_result"
    }
   ],
   "source": [
    "type(p)"
   ]
  },
  {
   "cell_type": "code",
   "execution_count": 116,
   "id": "4872a03f-1e68-4774-9b86-c84c8f17c848",
   "metadata": {},
   "outputs": [],
   "source": [
    "h = 78,"
   ]
  },
  {
   "cell_type": "code",
   "execution_count": 118,
   "id": "f161e7d2-6aef-4451-83d4-8d5261a78c10",
   "metadata": {},
   "outputs": [
    {
     "data": {
      "text/plain": [
       "tuple"
      ]
     },
     "execution_count": 118,
     "metadata": {},
     "output_type": "execute_result"
    }
   ],
   "source": [
    "type(h)"
   ]
  },
  {
   "cell_type": "code",
   "execution_count": 120,
   "id": "dffc3c58-d99d-4a86-8fff-45ffefd93da5",
   "metadata": {},
   "outputs": [],
   "source": [
    "b = \"data\","
   ]
  },
  {
   "cell_type": "code",
   "execution_count": 122,
   "id": "a67b99ec-259d-42a8-952b-f699ee3da144",
   "metadata": {},
   "outputs": [
    {
     "data": {
      "text/plain": [
       "tuple"
      ]
     },
     "execution_count": 122,
     "metadata": {},
     "output_type": "execute_result"
    }
   ],
   "source": [
    "type(b)"
   ]
  },
  {
   "cell_type": "code",
   "execution_count": 124,
   "id": "339c1b51-301e-4e8c-930b-6269305b1de3",
   "metadata": {},
   "outputs": [],
   "source": [
    "s = (45,96,12,74, \"python\", \"SQL\")"
   ]
  },
  {
   "cell_type": "code",
   "execution_count": 126,
   "id": "84f62d60-3a2e-4806-96a0-712ed16c6807",
   "metadata": {},
   "outputs": [
    {
     "data": {
      "text/plain": [
       "tuple"
      ]
     },
     "execution_count": 126,
     "metadata": {},
     "output_type": "execute_result"
    }
   ],
   "source": [
    "type(s)"
   ]
  },
  {
   "cell_type": "code",
   "execution_count": 128,
   "id": "4f61a819-8e90-46d3-a92e-b03553d45064",
   "metadata": {},
   "outputs": [],
   "source": [
    "p = [10]"
   ]
  },
  {
   "cell_type": "code",
   "execution_count": 130,
   "id": "1dbf4e35-1338-407c-8348-4e01e15d61d3",
   "metadata": {},
   "outputs": [
    {
     "data": {
      "text/plain": [
       "list"
      ]
     },
     "execution_count": 130,
     "metadata": {},
     "output_type": "execute_result"
    }
   ],
   "source": [
    "type(p)"
   ]
  },
  {
   "cell_type": "code",
   "execution_count": 132,
   "id": "8c53fc32-a1fa-475d-a1a6-ba1d3a59a97c",
   "metadata": {},
   "outputs": [
    {
     "data": {
      "text/plain": [
       "list"
      ]
     },
     "execution_count": 132,
     "metadata": {},
     "output_type": "execute_result"
    }
   ],
   "source": [
    "type(e)"
   ]
  },
  {
   "cell_type": "code",
   "execution_count": 138,
   "id": "304aac8f-87ae-4097-942d-977d6141056b",
   "metadata": {},
   "outputs": [],
   "source": [
    "tup = (\"umar\",)"
   ]
  },
  {
   "cell_type": "code",
   "execution_count": 140,
   "id": "dac0e31d-53e1-4981-9a94-059732b84373",
   "metadata": {},
   "outputs": [
    {
     "data": {
      "text/plain": [
       "tuple"
      ]
     },
     "execution_count": 140,
     "metadata": {},
     "output_type": "execute_result"
    }
   ],
   "source": [
    "type(tup)"
   ]
  },
  {
   "cell_type": "code",
   "execution_count": 142,
   "id": "17584c61-5c29-4525-88a6-948b34cce992",
   "metadata": {},
   "outputs": [],
   "source": [
    "q = (\"khan\",)"
   ]
  },
  {
   "cell_type": "code",
   "execution_count": 144,
   "id": "3f61a79b-1930-49c5-8d28-57a0db5a565f",
   "metadata": {},
   "outputs": [
    {
     "data": {
      "text/plain": [
       "tuple"
      ]
     },
     "execution_count": 144,
     "metadata": {},
     "output_type": "execute_result"
    }
   ],
   "source": [
    "type(q)"
   ]
  },
  {
   "cell_type": "code",
   "execution_count": 146,
   "id": "494e75be-edbb-4bdc-a94a-c13717f25dc4",
   "metadata": {},
   "outputs": [],
   "source": [
    "q = 45,78, \"python\", 5.6"
   ]
  },
  {
   "cell_type": "code",
   "execution_count": 148,
   "id": "604c1367-9541-4b9b-89dc-f4fe752f5f14",
   "metadata": {},
   "outputs": [
    {
     "data": {
      "text/plain": [
       "tuple"
      ]
     },
     "execution_count": 148,
     "metadata": {},
     "output_type": "execute_result"
    }
   ],
   "source": [
    "type(q)"
   ]
  },
  {
   "cell_type": "code",
   "execution_count": 150,
   "id": "d02420e2-e78f-4b14-889a-8005c66f2e57",
   "metadata": {},
   "outputs": [
    {
     "data": {
      "text/plain": [
       "(45, 96, 12, 74, 'python', 'SQL')"
      ]
     },
     "execution_count": 150,
     "metadata": {},
     "output_type": "execute_result"
    }
   ],
   "source": [
    "s"
   ]
  },
  {
   "cell_type": "code",
   "execution_count": 152,
   "id": "540a7d36-0cc8-478a-8f87-1fd4dda3768b",
   "metadata": {},
   "outputs": [
    {
     "data": {
      "text/plain": [
       "96"
      ]
     },
     "execution_count": 152,
     "metadata": {},
     "output_type": "execute_result"
    }
   ],
   "source": [
    "s[1]"
   ]
  },
  {
   "cell_type": "code",
   "execution_count": 154,
   "id": "0a129a3d-17fd-42cf-90dc-37cf62d6f8e9",
   "metadata": {},
   "outputs": [
    {
     "data": {
      "text/plain": [
       "12"
      ]
     },
     "execution_count": 154,
     "metadata": {},
     "output_type": "execute_result"
    }
   ],
   "source": [
    "s[2]"
   ]
  },
  {
   "cell_type": "code",
   "execution_count": 156,
   "id": "7d9e38da-7eaf-4a44-a5b4-c7aab1cd44b6",
   "metadata": {},
   "outputs": [
    {
     "data": {
      "text/plain": [
       "'SQL'"
      ]
     },
     "execution_count": 156,
     "metadata": {},
     "output_type": "execute_result"
    }
   ],
   "source": [
    "s[-1]"
   ]
  },
  {
   "cell_type": "code",
   "execution_count": 158,
   "id": "aa3e0163-066b-4ee8-afd5-2f738bd71691",
   "metadata": {},
   "outputs": [
    {
     "data": {
      "text/plain": [
       "'python'"
      ]
     },
     "execution_count": 158,
     "metadata": {},
     "output_type": "execute_result"
    }
   ],
   "source": [
    "s[-2]"
   ]
  },
  {
   "cell_type": "code",
   "execution_count": 160,
   "id": "4e2a8407-ba80-4092-94e6-cf259b58100e",
   "metadata": {},
   "outputs": [
    {
     "data": {
      "text/plain": [
       "12"
      ]
     },
     "execution_count": 160,
     "metadata": {},
     "output_type": "execute_result"
    }
   ],
   "source": [
    "t[1]"
   ]
  },
  {
   "cell_type": "code",
   "execution_count": 162,
   "id": "c06cb5a5-ad64-41d9-be95-15c3cd36cdc1",
   "metadata": {},
   "outputs": [
    {
     "data": {
      "text/plain": [
       "15"
      ]
     },
     "execution_count": 162,
     "metadata": {},
     "output_type": "execute_result"
    }
   ],
   "source": [
    "t[2]"
   ]
  },
  {
   "cell_type": "code",
   "execution_count": 164,
   "id": "a1fa7289-bdfe-4989-90d7-d0a9acb9ad58",
   "metadata": {},
   "outputs": [
    {
     "data": {
      "text/plain": [
       "20"
      ]
     },
     "execution_count": 164,
     "metadata": {},
     "output_type": "execute_result"
    }
   ],
   "source": [
    "t[-1]"
   ]
  },
  {
   "cell_type": "code",
   "execution_count": 166,
   "id": "ac6956a2-062f-4295-88de-e5c0b456c3e2",
   "metadata": {},
   "outputs": [
    {
     "data": {
      "text/plain": [
       "(45, 96, 12, 74, 'python', 'SQL')"
      ]
     },
     "execution_count": 166,
     "metadata": {},
     "output_type": "execute_result"
    }
   ],
   "source": [
    "s"
   ]
  },
  {
   "cell_type": "code",
   "execution_count": 168,
   "id": "cf10f54e-874b-4e7f-94ae-93c1870e23fd",
   "metadata": {},
   "outputs": [
    {
     "data": {
      "text/plain": [
       "(96, 12, 74, 'python')"
      ]
     },
     "execution_count": 168,
     "metadata": {},
     "output_type": "execute_result"
    }
   ],
   "source": [
    "s[1:5]"
   ]
  },
  {
   "cell_type": "code",
   "execution_count": 170,
   "id": "9fefb1d6-4ff1-4487-9274-7eba6256b648",
   "metadata": {},
   "outputs": [
    {
     "data": {
      "text/plain": [
       "(96, 12, 74)"
      ]
     },
     "execution_count": 170,
     "metadata": {},
     "output_type": "execute_result"
    }
   ],
   "source": [
    "s[1:4]"
   ]
  },
  {
   "cell_type": "code",
   "execution_count": 172,
   "id": "3ee23f9d-e15b-4ccd-b42b-4fb9885e0faf",
   "metadata": {},
   "outputs": [
    {
     "data": {
      "text/plain": [
       "(45, 96, 12, 74, 'python', 'SQL')"
      ]
     },
     "execution_count": 172,
     "metadata": {},
     "output_type": "execute_result"
    }
   ],
   "source": [
    "s"
   ]
  },
  {
   "cell_type": "code",
   "execution_count": 174,
   "id": "2461e8a3-8f11-473d-a146-253ed9b5d11a",
   "metadata": {},
   "outputs": [
    {
     "data": {
      "text/plain": [
       "('SQL', 'python', 74, 12, 96, 45)"
      ]
     },
     "execution_count": 174,
     "metadata": {},
     "output_type": "execute_result"
    }
   ],
   "source": [
    "s[::-1]"
   ]
  },
  {
   "cell_type": "code",
   "execution_count": 176,
   "id": "23b6a1e1-89d4-455a-85da-9eb41e74833d",
   "metadata": {},
   "outputs": [
    {
     "data": {
      "text/plain": [
       "(20, 19, 15, 12, 10)"
      ]
     },
     "execution_count": 176,
     "metadata": {},
     "output_type": "execute_result"
    }
   ],
   "source": [
    "t[::-1]"
   ]
  },
  {
   "cell_type": "code",
   "execution_count": 178,
   "id": "e621cfc6-1ccb-4a66-892e-909615cf1ffa",
   "metadata": {},
   "outputs": [
    {
     "ename": "TypeError",
     "evalue": "'tuple' object does not support item assignment",
     "output_type": "error",
     "traceback": [
      "\u001b[1;31m---------------------------------------------------------------------------\u001b[0m",
      "\u001b[1;31mTypeError\u001b[0m                                 Traceback (most recent call last)",
      "Cell \u001b[1;32mIn[178], line 1\u001b[0m\n\u001b[1;32m----> 1\u001b[0m t[\u001b[38;5;241m-\u001b[39m\u001b[38;5;241m3\u001b[39m] \u001b[38;5;241m=\u001b[39m\u001b[38;5;241m150\u001b[39m\n",
      "\u001b[1;31mTypeError\u001b[0m: 'tuple' object does not support item assignment"
     ]
    }
   ],
   "source": [
    "t[-3] =150"
   ]
  },
  {
   "cell_type": "code",
   "execution_count": 180,
   "id": "0e138f8a-f6ca-4392-992d-3e88b0db164f",
   "metadata": {},
   "outputs": [
    {
     "data": {
      "text/plain": [
       "(45, 96, 12, 74, 'python', 'SQL')"
      ]
     },
     "execution_count": 180,
     "metadata": {},
     "output_type": "execute_result"
    }
   ],
   "source": [
    "s"
   ]
  },
  {
   "cell_type": "code",
   "execution_count": null,
   "id": "6c6a4f03-ff5d-469c-92d4-5e36e32e6afa",
   "metadata": {},
   "outputs": [],
   "source": []
  },
  {
   "cell_type": "code",
   "execution_count": 183,
   "id": "5d2f989b-d2c5-40dc-bddd-1ab09b963ee7",
   "metadata": {},
   "outputs": [],
   "source": [
    "t = list(t)"
   ]
  },
  {
   "cell_type": "code",
   "execution_count": 185,
   "id": "e6903ecd-dfae-4047-9506-f6ce3ad50105",
   "metadata": {},
   "outputs": [],
   "source": [
    "t[-3] = 150"
   ]
  },
  {
   "cell_type": "code",
   "execution_count": 187,
   "id": "5e35198b-f459-43bd-8d73-ae346ae9da70",
   "metadata": {},
   "outputs": [],
   "source": [
    "t = tuple(t)"
   ]
  },
  {
   "cell_type": "code",
   "execution_count": 189,
   "id": "648c5d38-f9ed-491a-b852-a2ff39322e10",
   "metadata": {},
   "outputs": [
    {
     "data": {
      "text/plain": [
       "(10, 12, 150, 19, 20)"
      ]
     },
     "execution_count": 189,
     "metadata": {},
     "output_type": "execute_result"
    }
   ],
   "source": [
    "t"
   ]
  },
  {
   "cell_type": "code",
   "execution_count": 191,
   "id": "53520596-d856-431a-8a3e-42753e77d743",
   "metadata": {},
   "outputs": [],
   "source": [
    "lst = [\"c\", \"c++\", \"HTML\", \"css\", \"python\"]"
   ]
  },
  {
   "cell_type": "code",
   "execution_count": 195,
   "id": "ba1aa89f-f116-48a7-b881-d4b303861da2",
   "metadata": {},
   "outputs": [],
   "source": [
    "e = (\"Mohit\", \"Prateek\", 20,30, lst, 5.6,9.1, 10)"
   ]
  },
  {
   "cell_type": "code",
   "execution_count": 197,
   "id": "a68cc9ad-694f-4d20-bc9d-29b330e48276",
   "metadata": {},
   "outputs": [
    {
     "data": {
      "text/plain": [
       "('Mohit',\n",
       " 'Prateek',\n",
       " 20,\n",
       " 30,\n",
       " ['c', 'c++', 'HTML', 'css', 'python'],\n",
       " 5.6,\n",
       " 9.1,\n",
       " 10)"
      ]
     },
     "execution_count": 197,
     "metadata": {},
     "output_type": "execute_result"
    }
   ],
   "source": [
    "e"
   ]
  },
  {
   "cell_type": "code",
   "execution_count": 199,
   "id": "53b1e93c-bcd6-47a6-ac61-1884df045ba2",
   "metadata": {},
   "outputs": [],
   "source": [
    "e[4][-1] = \"Javascript\""
   ]
  },
  {
   "cell_type": "code",
   "execution_count": 201,
   "id": "6de04950-91da-4346-9a4f-421f18b02362",
   "metadata": {},
   "outputs": [
    {
     "data": {
      "text/plain": [
       "('Mohit',\n",
       " 'Prateek',\n",
       " 20,\n",
       " 30,\n",
       " ['c', 'c++', 'HTML', 'css', 'Javascript'],\n",
       " 5.6,\n",
       " 9.1,\n",
       " 10)"
      ]
     },
     "execution_count": 201,
     "metadata": {},
     "output_type": "execute_result"
    }
   ],
   "source": [
    "e"
   ]
  },
  {
   "cell_type": "code",
   "execution_count": null,
   "id": "6c329fef-6673-43cc-aadc-635131cec123",
   "metadata": {},
   "outputs": [],
   "source": []
  },
  {
   "cell_type": "code",
   "execution_count": 204,
   "id": "991406ea-f9d8-49c1-83e2-e77e5263e4f7",
   "metadata": {},
   "outputs": [],
   "source": [
    "# Tuple Operations:"
   ]
  },
  {
   "cell_type": "code",
   "execution_count": 206,
   "id": "6b82b4c1-1656-4ce1-b928-e2298986d911",
   "metadata": {},
   "outputs": [
    {
     "data": {
      "text/plain": [
       "(10, 12, 150, 19, 20)"
      ]
     },
     "execution_count": 206,
     "metadata": {},
     "output_type": "execute_result"
    }
   ],
   "source": [
    "t"
   ]
  },
  {
   "cell_type": "code",
   "execution_count": 208,
   "id": "3c6e73e1-c73c-4bc1-8386-21a400db6186",
   "metadata": {},
   "outputs": [
    {
     "data": {
      "text/plain": [
       "(45, 96, 12, 74, 'python', 'SQL')"
      ]
     },
     "execution_count": 208,
     "metadata": {},
     "output_type": "execute_result"
    }
   ],
   "source": [
    "s"
   ]
  },
  {
   "cell_type": "code",
   "execution_count": 210,
   "id": "4f33766f-a995-4f36-89bf-6d9a4e4acd6f",
   "metadata": {},
   "outputs": [
    {
     "name": "stdout",
     "output_type": "stream",
     "text": [
      "45\n",
      "96\n",
      "12\n",
      "74\n",
      "python\n",
      "SQL\n"
     ]
    }
   ],
   "source": [
    "for i in s:\n",
    "    print(i)"
   ]
  },
  {
   "cell_type": "code",
   "execution_count": 214,
   "id": "deaa0813-44c8-44b0-b15d-81cbeda6f9ef",
   "metadata": {},
   "outputs": [
    {
     "name": "stdout",
     "output_type": "stream",
     "text": [
      "10\n",
      "12\n",
      "150\n",
      "19\n",
      "20\n"
     ]
    }
   ],
   "source": [
    "for i in t:\n",
    "    print(i)"
   ]
  },
  {
   "cell_type": "code",
   "execution_count": 216,
   "id": "d22e8a73-53e5-4fbf-a3db-21b386726f9e",
   "metadata": {},
   "outputs": [],
   "source": [
    "# Membership Operator:"
   ]
  },
  {
   "cell_type": "code",
   "execution_count": 218,
   "id": "dbd31b83-4229-40d9-b157-8a2311c28fc3",
   "metadata": {},
   "outputs": [
    {
     "data": {
      "text/plain": [
       "(10, 12, 150, 19, 20)"
      ]
     },
     "execution_count": 218,
     "metadata": {},
     "output_type": "execute_result"
    }
   ],
   "source": [
    "t"
   ]
  },
  {
   "cell_type": "code",
   "execution_count": 220,
   "id": "1f68e3a3-0696-468f-ae3e-9992ad8d3051",
   "metadata": {},
   "outputs": [
    {
     "data": {
      "text/plain": [
       "True"
      ]
     },
     "execution_count": 220,
     "metadata": {},
     "output_type": "execute_result"
    }
   ],
   "source": [
    "150 in t"
   ]
  },
  {
   "cell_type": "code",
   "execution_count": 222,
   "id": "21aed3a8-a8c1-444d-8c02-be7f66e7f87b",
   "metadata": {},
   "outputs": [
    {
     "data": {
      "text/plain": [
       "True"
      ]
     },
     "execution_count": 222,
     "metadata": {},
     "output_type": "execute_result"
    }
   ],
   "source": [
    "200 not in t"
   ]
  },
  {
   "cell_type": "code",
   "execution_count": 224,
   "id": "3267c62a-edde-4337-a118-68f3888cb1fb",
   "metadata": {},
   "outputs": [
    {
     "data": {
      "text/plain": [
       "False"
      ]
     },
     "execution_count": 224,
     "metadata": {},
     "output_type": "execute_result"
    }
   ],
   "source": [
    "500 in t"
   ]
  },
  {
   "cell_type": "code",
   "execution_count": 228,
   "id": "270aece9-1b4f-491c-ba99-738ef964e249",
   "metadata": {},
   "outputs": [
    {
     "data": {
      "text/plain": [
       "True"
      ]
     },
     "execution_count": 228,
     "metadata": {},
     "output_type": "execute_result"
    }
   ],
   "source": [
    "300 not in t"
   ]
  },
  {
   "cell_type": "code",
   "execution_count": 230,
   "id": "e71f557a-d3a6-44d1-89b2-2ea156bf687f",
   "metadata": {},
   "outputs": [],
   "source": [
    "# Concatinating Tuples:"
   ]
  },
  {
   "cell_type": "code",
   "execution_count": 232,
   "id": "20ef6fb3-5ddc-4361-91ac-93dc1cf0be4d",
   "metadata": {},
   "outputs": [],
   "source": [
    "p = (7.8,9)\n",
    "q = (4,5,6)"
   ]
  },
  {
   "cell_type": "code",
   "execution_count": 234,
   "id": "240bd5e7-2acb-40b7-955d-d1a54129284a",
   "metadata": {},
   "outputs": [],
   "source": [
    "r = p+q"
   ]
  },
  {
   "cell_type": "code",
   "execution_count": 236,
   "id": "300d2f8e-4817-444d-882c-af065e323411",
   "metadata": {},
   "outputs": [
    {
     "data": {
      "text/plain": [
       "(7.8, 9)"
      ]
     },
     "execution_count": 236,
     "metadata": {},
     "output_type": "execute_result"
    }
   ],
   "source": [
    "p"
   ]
  },
  {
   "cell_type": "code",
   "execution_count": 238,
   "id": "00fcbc4c-cdf8-41b4-b1a4-0c1c9e8dc803",
   "metadata": {},
   "outputs": [
    {
     "data": {
      "text/plain": [
       "(4, 5, 6)"
      ]
     },
     "execution_count": 238,
     "metadata": {},
     "output_type": "execute_result"
    }
   ],
   "source": [
    "q"
   ]
  },
  {
   "cell_type": "code",
   "execution_count": 240,
   "id": "e8d60413-48ce-48a0-a47c-014d8e81b27d",
   "metadata": {},
   "outputs": [
    {
     "data": {
      "text/plain": [
       "(7.8, 9, 4, 5, 6)"
      ]
     },
     "execution_count": 240,
     "metadata": {},
     "output_type": "execute_result"
    }
   ],
   "source": [
    "r"
   ]
  },
  {
   "cell_type": "code",
   "execution_count": 242,
   "id": "48b9f6ac-41f7-4c34-bb79-ee21c53018cc",
   "metadata": {},
   "outputs": [
    {
     "data": {
      "text/plain": [
       "(6, 6, 6, 6, 6, 6, 6, 6, 6, 6)"
      ]
     },
     "execution_count": 242,
     "metadata": {},
     "output_type": "execute_result"
    }
   ],
   "source": [
    "(6,)*10"
   ]
  },
  {
   "cell_type": "code",
   "execution_count": 244,
   "id": "f2cad015-df9d-4b35-a385-23cc959463c0",
   "metadata": {},
   "outputs": [
    {
     "data": {
      "text/plain": [
       "(1, 2, 3, 1, 2, 3, 1, 2, 3, 1, 2, 3, 1, 2, 3)"
      ]
     },
     "execution_count": 244,
     "metadata": {},
     "output_type": "execute_result"
    }
   ],
   "source": [
    "(1,2,3)*5"
   ]
  },
  {
   "cell_type": "code",
   "execution_count": null,
   "id": "a9863f47-be60-48f1-a16f-595cd7732be2",
   "metadata": {},
   "outputs": [],
   "source": []
  },
  {
   "cell_type": "code",
   "execution_count": 247,
   "id": "2eebd92f-642b-493b-9406-a1f378f5e1d8",
   "metadata": {},
   "outputs": [],
   "source": [
    "# Tuple Deletion:"
   ]
  },
  {
   "cell_type": "code",
   "execution_count": 249,
   "id": "a75d58c7-4192-4c2b-8e8d-827f7088434c",
   "metadata": {},
   "outputs": [
    {
     "data": {
      "text/plain": [
       "(10, 12, 150, 19, 20)"
      ]
     },
     "execution_count": 249,
     "metadata": {},
     "output_type": "execute_result"
    }
   ],
   "source": [
    "t"
   ]
  },
  {
   "cell_type": "code",
   "execution_count": 251,
   "id": "65adf166-c042-4c35-b86f-90517c2d91fe",
   "metadata": {},
   "outputs": [
    {
     "ename": "TypeError",
     "evalue": "'tuple' object doesn't support item deletion",
     "output_type": "error",
     "traceback": [
      "\u001b[1;31m---------------------------------------------------------------------------\u001b[0m",
      "\u001b[1;31mTypeError\u001b[0m                                 Traceback (most recent call last)",
      "Cell \u001b[1;32mIn[251], line 1\u001b[0m\n\u001b[1;32m----> 1\u001b[0m \u001b[38;5;28;01mdel\u001b[39;00m t[\u001b[38;5;241m1\u001b[39m]\n",
      "\u001b[1;31mTypeError\u001b[0m: 'tuple' object doesn't support item deletion"
     ]
    }
   ],
   "source": [
    "del t[1]"
   ]
  },
  {
   "cell_type": "code",
   "execution_count": 253,
   "id": "85d20f9b-0f16-46f6-a921-0ef6b53182f1",
   "metadata": {},
   "outputs": [
    {
     "data": {
      "text/plain": [
       "(10, 12, 150, 19, 20)"
      ]
     },
     "execution_count": 253,
     "metadata": {},
     "output_type": "execute_result"
    }
   ],
   "source": [
    "t"
   ]
  },
  {
   "cell_type": "code",
   "execution_count": 255,
   "id": "f02f3721-957b-4d78-a08f-347c559eb6e4",
   "metadata": {},
   "outputs": [],
   "source": [
    "del t"
   ]
  },
  {
   "cell_type": "code",
   "execution_count": 257,
   "id": "0cefd66f-6387-4c4c-a319-9102deeb3825",
   "metadata": {},
   "outputs": [
    {
     "ename": "NameError",
     "evalue": "name 't' is not defined",
     "output_type": "error",
     "traceback": [
      "\u001b[1;31m---------------------------------------------------------------------------\u001b[0m",
      "\u001b[1;31mNameError\u001b[0m                                 Traceback (most recent call last)",
      "Cell \u001b[1;32mIn[257], line 1\u001b[0m\n\u001b[1;32m----> 1\u001b[0m t\n",
      "\u001b[1;31mNameError\u001b[0m: name 't' is not defined"
     ]
    }
   ],
   "source": [
    "t"
   ]
  },
  {
   "cell_type": "code",
   "execution_count": null,
   "id": "28c5af41-1581-4231-9241-334263e14124",
   "metadata": {},
   "outputs": [],
   "source": []
  },
  {
   "cell_type": "code",
   "execution_count": null,
   "id": "dbaa7199-3205-48a3-a349-646262dd11aa",
   "metadata": {},
   "outputs": [],
   "source": []
  },
  {
   "cell_type": "code",
   "execution_count": 261,
   "id": "4d322d59-05d6-4ed6-822c-79a1026d14d3",
   "metadata": {},
   "outputs": [],
   "source": [
    "# Methods:"
   ]
  },
  {
   "cell_type": "code",
   "execution_count": 263,
   "id": "399259f4-5936-4477-a912-73a23eb0c9d7",
   "metadata": {},
   "outputs": [],
   "source": [
    "t = (2,3,5,2,2,3,6,7,8,2,3,9,)"
   ]
  },
  {
   "cell_type": "code",
   "execution_count": 265,
   "id": "7d3c1c14-3407-4a46-8ce8-0a690c42c189",
   "metadata": {},
   "outputs": [
    {
     "data": {
      "text/plain": [
       "(2, 3, 5, 2, 2, 3, 6, 7, 8, 2, 3, 9)"
      ]
     },
     "execution_count": 265,
     "metadata": {},
     "output_type": "execute_result"
    }
   ],
   "source": [
    "t"
   ]
  },
  {
   "cell_type": "code",
   "execution_count": 267,
   "id": "1c04d9f6-28d0-4ec0-9ade-511b4725fe59",
   "metadata": {},
   "outputs": [
    {
     "data": {
      "text/plain": [
       "4"
      ]
     },
     "execution_count": 267,
     "metadata": {},
     "output_type": "execute_result"
    }
   ],
   "source": [
    "t.count(2)"
   ]
  },
  {
   "cell_type": "code",
   "execution_count": 269,
   "id": "996551bd-9332-44ff-bbfa-83362ccc9e57",
   "metadata": {},
   "outputs": [
    {
     "data": {
      "text/plain": [
       "3"
      ]
     },
     "execution_count": 269,
     "metadata": {},
     "output_type": "execute_result"
    }
   ],
   "source": [
    "t.count(3)"
   ]
  },
  {
   "cell_type": "code",
   "execution_count": 271,
   "id": "dbefb47d-6f32-4a99-9e3d-80b3ff9bf675",
   "metadata": {},
   "outputs": [
    {
     "data": {
      "text/plain": [
       "1"
      ]
     },
     "execution_count": 271,
     "metadata": {},
     "output_type": "execute_result"
    }
   ],
   "source": [
    "t.index(3)"
   ]
  },
  {
   "cell_type": "code",
   "execution_count": 273,
   "id": "49be1b13-7f24-4b4d-92d5-11a3504ae9b2",
   "metadata": {},
   "outputs": [
    {
     "data": {
      "text/plain": [
       "5"
      ]
     },
     "execution_count": 273,
     "metadata": {},
     "output_type": "execute_result"
    }
   ],
   "source": [
    "t.index(3,2)"
   ]
  },
  {
   "cell_type": "code",
   "execution_count": 7,
   "id": "a2d02c97-88d6-497c-878d-88aed71c5414",
   "metadata": {},
   "outputs": [
    {
     "ename": "SyntaxError",
     "evalue": "invalid non-printable character U+00A0 (1048826376.py, line 1)",
     "output_type": "error",
     "traceback": [
      "\u001b[1;36m  Cell \u001b[1;32mIn[7], line 1\u001b[1;36m\u001b[0m\n\u001b[1;33m    some_list = [6,3,7,6,4,1,0,9,2,1,0,8,6,4,7,7,6, 4, 5,1, 0, 8]\u001b[0m\n\u001b[1;37m                                                   ^\u001b[0m\n\u001b[1;31mSyntaxError\u001b[0m\u001b[1;31m:\u001b[0m invalid non-printable character U+00A0\n"
     ]
    }
   ],
   "source": [
    "some_list = [6,3,7,6,4,1,0,9,2,1,0,8,6,4,7,7,6, 4, 5,1, 0, 8]"
   ]
  },
  {
   "cell_type": "code",
   "execution_count": 5,
   "id": "cd088479-222e-4dfd-abf1-ad5f06ada02f",
   "metadata": {},
   "outputs": [
    {
     "ename": "NameError",
     "evalue": "name 'some_list' is not defined",
     "output_type": "error",
     "traceback": [
      "\u001b[1;31m---------------------------------------------------------------------------\u001b[0m",
      "\u001b[1;31mNameError\u001b[0m                                 Traceback (most recent call last)",
      "Cell \u001b[1;32mIn[5], line 2\u001b[0m\n\u001b[0;32m      1\u001b[0m k \u001b[38;5;241m=\u001b[39m []\n\u001b[1;32m----> 2\u001b[0m \u001b[38;5;28;01mfor\u001b[39;00m i \u001b[38;5;129;01min\u001b[39;00m some_list:\n\u001b[0;32m      3\u001b[0m     \u001b[38;5;28;01mif\u001b[39;00m i \u001b[38;5;129;01mnot\u001b[39;00m \u001b[38;5;129;01min\u001b[39;00m k:\n\u001b[0;32m      4\u001b[0m         k\u001b[38;5;241m.\u001b[39mappend(i)\n",
      "\u001b[1;31mNameError\u001b[0m: name 'some_list' is not defined"
     ]
    }
   ],
   "source": [
    "k = []\n",
    "for i in \n",
    "    if i not in k:\n",
    "        k.append(i)\n",
    "    else:\n",
    "        pass"
   ]
  },
  {
   "cell_type": "code",
   "execution_count": null,
   "id": "5332ba95-004f-4329-8e7a-eb81cbe6c701",
   "metadata": {},
   "outputs": [],
   "source": []
  },
  {
   "cell_type": "code",
   "execution_count": 276,
   "id": "472f48a2-3fb2-46af-95b7-4dd7acc00053",
   "metadata": {},
   "outputs": [],
   "source": [
    "# Tuple unpacking:"
   ]
  },
  {
   "cell_type": "code",
   "execution_count": 282,
   "id": "c26416fd-3a00-4466-a054-51ff61d00ade",
   "metadata": {},
   "outputs": [],
   "source": [
    "s = (4,5,6)"
   ]
  },
  {
   "cell_type": "code",
   "execution_count": 284,
   "id": "d75bd3bc-0362-4609-82d8-9b4b184b8bf8",
   "metadata": {},
   "outputs": [
    {
     "data": {
      "text/plain": [
       "(4, 5, 6)"
      ]
     },
     "execution_count": 284,
     "metadata": {},
     "output_type": "execute_result"
    }
   ],
   "source": [
    "s"
   ]
  },
  {
   "cell_type": "code",
   "execution_count": null,
   "id": "34ca847f-143d-4bfe-b020-5c47447bec49",
   "metadata": {},
   "outputs": [],
   "source": []
  },
  {
   "cell_type": "code",
   "execution_count": 287,
   "id": "fdf27717-8d21-4bfd-98f6-f0aeac67b1b3",
   "metadata": {},
   "outputs": [],
   "source": [
    "# Wrong method:\n",
    "a = s [0]\n",
    "b = s [1]\n",
    "c = s [2]"
   ]
  },
  {
   "cell_type": "code",
   "execution_count": 289,
   "id": "0ba6960c-9682-4000-9d81-c25e52a70b5d",
   "metadata": {},
   "outputs": [
    {
     "name": "stdout",
     "output_type": "stream",
     "text": [
      "4 5 6\n"
     ]
    }
   ],
   "source": [
    "print(a,b,c)"
   ]
  },
  {
   "cell_type": "code",
   "execution_count": 293,
   "id": "f45842b4-8ac7-4bcb-bf3e-1f8d5e1bf377",
   "metadata": {},
   "outputs": [],
   "source": [
    "s = (4,5,6)"
   ]
  },
  {
   "cell_type": "code",
   "execution_count": 295,
   "id": "e613e2c3-e6cd-4126-a770-3b0715785522",
   "metadata": {},
   "outputs": [
    {
     "data": {
      "text/plain": [
       "(4, 5, 6)"
      ]
     },
     "execution_count": 295,
     "metadata": {},
     "output_type": "execute_result"
    }
   ],
   "source": [
    "s"
   ]
  },
  {
   "cell_type": "code",
   "execution_count": 297,
   "id": "887ba8b3-30e7-46f1-8e1c-c1882e5750bf",
   "metadata": {},
   "outputs": [],
   "source": [
    "x,y,z = s"
   ]
  },
  {
   "cell_type": "code",
   "execution_count": 299,
   "id": "c1f1cde8-cdf9-427e-bff8-cc51b4d9f961",
   "metadata": {},
   "outputs": [
    {
     "data": {
      "text/plain": [
       "4"
      ]
     },
     "execution_count": 299,
     "metadata": {},
     "output_type": "execute_result"
    }
   ],
   "source": [
    "x"
   ]
  },
  {
   "cell_type": "code",
   "execution_count": 301,
   "id": "cec90079-e162-49d2-ab80-b365b90d73aa",
   "metadata": {},
   "outputs": [
    {
     "data": {
      "text/plain": [
       "5"
      ]
     },
     "execution_count": 301,
     "metadata": {},
     "output_type": "execute_result"
    }
   ],
   "source": [
    "y"
   ]
  },
  {
   "cell_type": "code",
   "execution_count": 303,
   "id": "03eff6ed-6e28-4484-87df-01573c64694d",
   "metadata": {},
   "outputs": [
    {
     "data": {
      "text/plain": [
       "6"
      ]
     },
     "execution_count": 303,
     "metadata": {},
     "output_type": "execute_result"
    }
   ],
   "source": [
    "z"
   ]
  },
  {
   "cell_type": "code",
   "execution_count": 305,
   "id": "721f77b7-f3d5-408b-9bd0-36df6532f91b",
   "metadata": {},
   "outputs": [],
   "source": [
    "r,t,u = s"
   ]
  },
  {
   "cell_type": "code",
   "execution_count": 307,
   "id": "75ed0f94-26f0-480e-b3a0-67c679796680",
   "metadata": {},
   "outputs": [
    {
     "data": {
      "text/plain": [
       "4"
      ]
     },
     "execution_count": 307,
     "metadata": {},
     "output_type": "execute_result"
    }
   ],
   "source": [
    "r"
   ]
  },
  {
   "cell_type": "code",
   "execution_count": 309,
   "id": "e1bcfb6e-00a6-4022-ab37-274ae5a53b9f",
   "metadata": {},
   "outputs": [
    {
     "data": {
      "text/plain": [
       "5"
      ]
     },
     "execution_count": 309,
     "metadata": {},
     "output_type": "execute_result"
    }
   ],
   "source": [
    "t"
   ]
  },
  {
   "cell_type": "code",
   "execution_count": null,
   "id": "7a052874-a873-4c10-894c-39a710655ba3",
   "metadata": {},
   "outputs": [],
   "source": []
  },
  {
   "cell_type": "code",
   "execution_count": null,
   "id": "dc6e5a29-cef2-4afe-8e15-25f45ad59cc7",
   "metadata": {},
   "outputs": [],
   "source": []
  },
  {
   "cell_type": "code",
   "execution_count": 311,
   "id": "2eb3fc95-4ad3-4d70-8b9a-393e2dfe7bf7",
   "metadata": {},
   "outputs": [
    {
     "data": {
      "text/plain": [
       "6"
      ]
     },
     "execution_count": 311,
     "metadata": {},
     "output_type": "execute_result"
    }
   ],
   "source": [
    "u"
   ]
  },
  {
   "cell_type": "code",
   "execution_count": 1,
   "id": "72175ba1-02f6-4d35-8b55-9f6200030878",
   "metadata": {},
   "outputs": [],
   "source": [
    "p = [10, 20, 30, 40, 50, 60]"
   ]
  },
  {
   "cell_type": "code",
   "execution_count": 3,
   "id": "ea7f7ac7-0e7a-46f6-a773-74993f5b37b8",
   "metadata": {},
   "outputs": [
    {
     "name": "stdout",
     "output_type": "stream",
     "text": [
      "[10, 20, 30, 40, 50, 60]\n"
     ]
    }
   ],
   "source": [
    "print(p)"
   ]
  },
  {
   "cell_type": "code",
   "execution_count": 5,
   "id": "e2ab7785-8fe7-405b-a6af-9649e9ccad4a",
   "metadata": {},
   "outputs": [
    {
     "name": "stdout",
     "output_type": "stream",
     "text": [
      "10\n",
      "20\n",
      "30\n",
      "40\n",
      "50\n",
      "60\n"
     ]
    }
   ],
   "source": [
    "for i in p:\n",
    "    print(i)"
   ]
  },
  {
   "cell_type": "code",
   "execution_count": 7,
   "id": "493d28c4-5157-4559-b09a-9f70fe075076",
   "metadata": {},
   "outputs": [
    {
     "name": "stdout",
     "output_type": "stream",
     "text": [
      "10\n",
      "20\n",
      "30\n",
      "40\n",
      "50\n",
      "60\n"
     ]
    }
   ],
   "source": [
    "for i in p:\n",
    "    print(i)"
   ]
  },
  {
   "cell_type": "code",
   "execution_count": 11,
   "id": "0810f340-416e-4d5c-8fdf-dea9ca8c037c",
   "metadata": {},
   "outputs": [
    {
     "name": "stdout",
     "output_type": "stream",
     "text": [
      "10\n",
      "20\n",
      "30\n",
      "40\n",
      "50\n",
      "60\n"
     ]
    }
   ],
   "source": [
    "for i in range(len(p)):\n",
    "    print(p[i])"
   ]
  },
  {
   "cell_type": "code",
   "execution_count": 13,
   "id": "5f1a4ef3-17ae-459c-8da8-73342d133acf",
   "metadata": {},
   "outputs": [
    {
     "name": "stdout",
     "output_type": "stream",
     "text": [
      "10\n",
      "20\n",
      "30\n",
      "40\n",
      "50\n",
      "60\n"
     ]
    }
   ],
   "source": [
    "for i in range(len(p)):\n",
    "    print(p[i])"
   ]
  },
  {
   "cell_type": "code",
   "execution_count": 15,
   "id": "fc6c2873-7d65-47bb-b054-a04733dea8c3",
   "metadata": {},
   "outputs": [],
   "source": [
    "b = \"Welcome to the course\""
   ]
  },
  {
   "cell_type": "code",
   "execution_count": 17,
   "id": "b2123b13-78d7-4d21-b74c-dd5a1a576ccc",
   "metadata": {},
   "outputs": [
    {
     "name": "stdout",
     "output_type": "stream",
     "text": [
      "Welcome to the course\n"
     ]
    }
   ],
   "source": [
    "print(b)"
   ]
  },
  {
   "cell_type": "code",
   "execution_count": 19,
   "id": "870556e7-1401-417b-9279-e6e15c25ee82",
   "metadata": {},
   "outputs": [
    {
     "name": "stdout",
     "output_type": "stream",
     "text": [
      "W\n",
      "e\n",
      "l\n",
      "c\n",
      "o\n",
      "m\n",
      "e\n",
      " \n",
      "t\n",
      "o\n",
      " \n",
      "t\n",
      "h\n",
      "e\n",
      " \n",
      "c\n",
      "o\n",
      "u\n",
      "r\n",
      "s\n",
      "e\n"
     ]
    }
   ],
   "source": [
    "for i in b:\n",
    "    print(i)"
   ]
  },
  {
   "cell_type": "code",
   "execution_count": 21,
   "id": "f1bebb3f-e790-4e04-bbe3-2be776ecae5f",
   "metadata": {},
   "outputs": [
    {
     "name": "stdout",
     "output_type": "stream",
     "text": [
      "W\n",
      "e\n",
      "l\n",
      "c\n",
      "o\n",
      "m\n",
      "e\n",
      " \n",
      "t\n",
      "o\n",
      " \n",
      "t\n",
      "h\n",
      "e\n",
      " \n",
      "c\n",
      "o\n",
      "u\n",
      "r\n",
      "s\n",
      "e\n"
     ]
    }
   ],
   "source": [
    "for i in b:\n",
    "    print(i)"
   ]
  },
  {
   "cell_type": "code",
   "execution_count": null,
   "id": "4fc7d096-c4f6-49cc-bd5d-b515fed43f89",
   "metadata": {},
   "outputs": [],
   "source": []
  },
  {
   "cell_type": "code",
   "execution_count": null,
   "id": "030a58a0-283f-470c-89ae-5fa152b1f936",
   "metadata": {},
   "outputs": [],
   "source": []
  },
  {
   "cell_type": "code",
   "execution_count": null,
   "id": "4de99af5-0ad7-4642-addc-e499e5e016d1",
   "metadata": {},
   "outputs": [],
   "source": []
  },
  {
   "cell_type": "markdown",
   "id": "5e0e179e-0b5a-497a-9cb8-0e182e899f54",
   "metadata": {},
   "source": [
    "# Set\n",
    "* Collection of element\n",
    "* Conatins only unique elements\n",
    "* Mutable\n",
    "* unordered\n",
    "* non-indexable"
   ]
  },
  {
   "cell_type": "code",
   "execution_count": 19,
   "id": "15ab9d82-86e4-4ef0-ae4a-bb681d0ee96b",
   "metadata": {},
   "outputs": [],
   "source": [
    "g = {4,5,6,1,2,3,7,8,9,10,8,5,1,5,3,7,8,1,5,}"
   ]
  },
  {
   "cell_type": "code",
   "execution_count": 21,
   "id": "c2447f03-b08e-4b55-9cb6-2b94cc93822a",
   "metadata": {},
   "outputs": [
    {
     "data": {
      "text/plain": [
       "set"
      ]
     },
     "execution_count": 21,
     "metadata": {},
     "output_type": "execute_result"
    }
   ],
   "source": [
    "type(g)"
   ]
  },
  {
   "cell_type": "code",
   "execution_count": 23,
   "id": "b2894703-0e90-4323-b609-08c2ef464f35",
   "metadata": {},
   "outputs": [
    {
     "data": {
      "text/plain": [
       "set"
      ]
     },
     "execution_count": 23,
     "metadata": {},
     "output_type": "execute_result"
    }
   ],
   "source": [
    "type(g)"
   ]
  },
  {
   "cell_type": "code",
   "execution_count": 25,
   "id": "456b537e-a608-46b1-84f9-7f1237ab982a",
   "metadata": {},
   "outputs": [
    {
     "data": {
      "text/plain": [
       "set"
      ]
     },
     "execution_count": 25,
     "metadata": {},
     "output_type": "execute_result"
    }
   ],
   "source": [
    "type(g)"
   ]
  },
  {
   "cell_type": "code",
   "execution_count": 22,
   "id": "f08b1bfd-328b-448a-8f91-0081cbee2cf9",
   "metadata": {},
   "outputs": [],
   "source": [
    "t = set()"
   ]
  },
  {
   "cell_type": "code",
   "execution_count": 24,
   "id": "ef61b56b-af35-46c4-bd4d-5e3be471cfa7",
   "metadata": {},
   "outputs": [
    {
     "data": {
      "text/plain": [
       "set()"
      ]
     },
     "execution_count": 24,
     "metadata": {},
     "output_type": "execute_result"
    }
   ],
   "source": [
    "t"
   ]
  },
  {
   "cell_type": "code",
   "execution_count": 26,
   "id": "35ad714f-4edb-4b4c-a400-bb51bcea5f73",
   "metadata": {},
   "outputs": [
    {
     "data": {
      "text/plain": [
       "set"
      ]
     },
     "execution_count": 26,
     "metadata": {},
     "output_type": "execute_result"
    }
   ],
   "source": [
    "type(t)"
   ]
  },
  {
   "cell_type": "code",
   "execution_count": 28,
   "id": "6b75c38e-1380-4b4d-8a9b-c9248b8b8530",
   "metadata": {},
   "outputs": [],
   "source": [
    "h = {}"
   ]
  },
  {
   "cell_type": "code",
   "execution_count": 30,
   "id": "1aebabed-4a97-4b59-a035-ae877261c527",
   "metadata": {},
   "outputs": [
    {
     "data": {
      "text/plain": [
       "dict"
      ]
     },
     "execution_count": 30,
     "metadata": {},
     "output_type": "execute_result"
    }
   ],
   "source": [
    "type(h)"
   ]
  },
  {
   "cell_type": "code",
   "execution_count": 32,
   "id": "44e857d8-1843-402f-b53b-01805e7316f9",
   "metadata": {},
   "outputs": [],
   "source": [
    "g = {6}"
   ]
  },
  {
   "cell_type": "code",
   "execution_count": 34,
   "id": "0c292510-6235-4436-a5ef-c1e598997ac6",
   "metadata": {},
   "outputs": [
    {
     "data": {
      "text/plain": [
       "set"
      ]
     },
     "execution_count": 34,
     "metadata": {},
     "output_type": "execute_result"
    }
   ],
   "source": [
    "type(g)"
   ]
  },
  {
   "cell_type": "code",
   "execution_count": 36,
   "id": "ee2d5e97-46e0-4856-8c0d-7d4597bdfeef",
   "metadata": {},
   "outputs": [],
   "source": [
    "p = []"
   ]
  },
  {
   "cell_type": "code",
   "execution_count": 38,
   "id": "f517d346-3eb2-4548-8eed-e374edde7a67",
   "metadata": {},
   "outputs": [
    {
     "data": {
      "text/plain": [
       "list"
      ]
     },
     "execution_count": 38,
     "metadata": {},
     "output_type": "execute_result"
    }
   ],
   "source": [
    "type(p)"
   ]
  },
  {
   "cell_type": "code",
   "execution_count": 40,
   "id": "bc8bd0f1-da90-448f-ba9a-05ee82185aaf",
   "metadata": {},
   "outputs": [],
   "source": [
    "m =()"
   ]
  },
  {
   "cell_type": "code",
   "execution_count": 42,
   "id": "94d355bd-edbe-40d7-8699-e5ae27dcee01",
   "metadata": {},
   "outputs": [
    {
     "data": {
      "text/plain": [
       "tuple"
      ]
     },
     "execution_count": 42,
     "metadata": {},
     "output_type": "execute_result"
    }
   ],
   "source": [
    "type(m)"
   ]
  },
  {
   "cell_type": "code",
   "execution_count": 44,
   "id": "70a34c8d-ae3d-4688-b5db-bc2c317cb290",
   "metadata": {},
   "outputs": [],
   "source": [
    "a = \"\""
   ]
  },
  {
   "cell_type": "code",
   "execution_count": 46,
   "id": "5a91f010-655c-4d66-b5c6-d4cd70603e21",
   "metadata": {},
   "outputs": [
    {
     "data": {
      "text/plain": [
       "str"
      ]
     },
     "execution_count": 46,
     "metadata": {},
     "output_type": "execute_result"
    }
   ],
   "source": [
    "type(a)"
   ]
  },
  {
   "cell_type": "code",
   "execution_count": 48,
   "id": "ffcf65d9-f6a7-4ad8-a88b-c5983247c727",
   "metadata": {},
   "outputs": [],
   "source": [
    "w = {}"
   ]
  },
  {
   "cell_type": "code",
   "execution_count": 51,
   "id": "9449ac4c-de0d-4680-a575-c13ee84f6476",
   "metadata": {},
   "outputs": [
    {
     "data": {
      "text/plain": [
       "dict"
      ]
     },
     "execution_count": 51,
     "metadata": {},
     "output_type": "execute_result"
    }
   ],
   "source": [
    "type(w)"
   ]
  },
  {
   "cell_type": "code",
   "execution_count": 53,
   "id": "be28e3f2-4a2c-4a64-9a04-844b37f410a7",
   "metadata": {},
   "outputs": [],
   "source": [
    "b = {8,9,10,1,2,7,5,4,6,3,0,8,9,4,4,8,2,1,2,7,5,4,6,8,6,0,7,1,2,7,5,4,2,10}"
   ]
  },
  {
   "cell_type": "code",
   "execution_count": 55,
   "id": "a431eb20-8e3f-4f94-88b9-40d2ba9b1a3e",
   "metadata": {},
   "outputs": [
    {
     "data": {
      "text/plain": [
       "set"
      ]
     },
     "execution_count": 55,
     "metadata": {},
     "output_type": "execute_result"
    }
   ],
   "source": [
    "type(b)"
   ]
  },
  {
   "cell_type": "code",
   "execution_count": 57,
   "id": "d155e262-2e6c-41b7-b540-8b8042fc37e1",
   "metadata": {},
   "outputs": [
    {
     "data": {
      "text/plain": [
       "11"
      ]
     },
     "execution_count": 57,
     "metadata": {},
     "output_type": "execute_result"
    }
   ],
   "source": [
    "len(b)"
   ]
  },
  {
   "cell_type": "code",
   "execution_count": 59,
   "id": "925b3550-b512-4909-baed-471bf9bd35a4",
   "metadata": {},
   "outputs": [],
   "source": [
    "a = {10,8,2,3,4,6,8,9,10,11}"
   ]
  },
  {
   "cell_type": "code",
   "execution_count": 61,
   "id": "b4a19b67-3b25-461f-8a33-77c4f8a6ad7e",
   "metadata": {},
   "outputs": [
    {
     "data": {
      "text/plain": [
       "{2, 3, 4, 6, 8, 9, 10, 11}"
      ]
     },
     "execution_count": 61,
     "metadata": {},
     "output_type": "execute_result"
    }
   ],
   "source": [
    "a"
   ]
  },
  {
   "cell_type": "code",
   "execution_count": 63,
   "id": "7892337d-cc76-4b87-a627-3c1439cc64fb",
   "metadata": {},
   "outputs": [
    {
     "ename": "TypeError",
     "evalue": "'set' object is not subscriptable",
     "output_type": "error",
     "traceback": [
      "\u001b[1;31m---------------------------------------------------------------------------\u001b[0m",
      "\u001b[1;31mTypeError\u001b[0m                                 Traceback (most recent call last)",
      "Cell \u001b[1;32mIn[63], line 1\u001b[0m\n\u001b[1;32m----> 1\u001b[0m b[\u001b[38;5;241m2\u001b[39m]\n",
      "\u001b[1;31mTypeError\u001b[0m: 'set' object is not subscriptable"
     ]
    }
   ],
   "source": [
    "b[2]"
   ]
  },
  {
   "cell_type": "code",
   "execution_count": 65,
   "id": "c69506b3-b8b7-4890-a735-0af99ca97a9d",
   "metadata": {},
   "outputs": [
    {
     "data": {
      "text/plain": [
       "{0, 1, 2, 3, 4, 5, 6, 7, 8, 9, 10}"
      ]
     },
     "execution_count": 65,
     "metadata": {},
     "output_type": "execute_result"
    }
   ],
   "source": [
    "b"
   ]
  },
  {
   "cell_type": "code",
   "execution_count": 67,
   "id": "baca3a80-57ec-42d3-9c80-a0f64aeba7c7",
   "metadata": {},
   "outputs": [],
   "source": [
    "b.remove(1)"
   ]
  },
  {
   "cell_type": "code",
   "execution_count": 69,
   "id": "0e4464eb-c0cd-4560-ae4e-df2adac0c5df",
   "metadata": {},
   "outputs": [
    {
     "data": {
      "text/plain": [
       "{0, 2, 3, 4, 5, 6, 7, 8, 9, 10}"
      ]
     },
     "execution_count": 69,
     "metadata": {},
     "output_type": "execute_result"
    }
   ],
   "source": [
    "b"
   ]
  },
  {
   "cell_type": "code",
   "execution_count": 71,
   "id": "ed95c80b-a468-4999-a69e-95b9dfe00fe6",
   "metadata": {},
   "outputs": [],
   "source": [
    "b.add(1)"
   ]
  },
  {
   "cell_type": "code",
   "execution_count": 73,
   "id": "83f12cb6-0d99-4be6-bf77-7ced834f40e7",
   "metadata": {},
   "outputs": [
    {
     "data": {
      "text/plain": [
       "{0, 1, 2, 3, 4, 5, 6, 7, 8, 9, 10}"
      ]
     },
     "execution_count": 73,
     "metadata": {},
     "output_type": "execute_result"
    }
   ],
   "source": [
    "b"
   ]
  },
  {
   "cell_type": "code",
   "execution_count": 77,
   "id": "99ae9a18-769a-40ac-865a-1216458b879d",
   "metadata": {},
   "outputs": [],
   "source": [
    "b.add(1500)"
   ]
  },
  {
   "cell_type": "code",
   "execution_count": 79,
   "id": "ed70e419-4cd7-4e0a-9b28-e6da8bcd45e5",
   "metadata": {},
   "outputs": [
    {
     "data": {
      "text/plain": [
       "{0, 1, 2, 3, 4, 5, 6, 7, 8, 9, 10, 1500}"
      ]
     },
     "execution_count": 79,
     "metadata": {},
     "output_type": "execute_result"
    }
   ],
   "source": [
    "b"
   ]
  },
  {
   "cell_type": "code",
   "execution_count": 81,
   "id": "d78e5125-f23d-484b-af4e-493003189279",
   "metadata": {},
   "outputs": [],
   "source": [
    "b.add(100)\n",
    "b.add(100)\n",
    "b.add(100)\n",
    "b.add(100)"
   ]
  },
  {
   "cell_type": "code",
   "execution_count": 83,
   "id": "30f4c317-4059-4efd-8fec-17b90557221f",
   "metadata": {},
   "outputs": [
    {
     "data": {
      "text/plain": [
       "{0, 1, 2, 3, 4, 5, 6, 7, 8, 9, 10, 100, 1500}"
      ]
     },
     "execution_count": 83,
     "metadata": {},
     "output_type": "execute_result"
    }
   ],
   "source": [
    "b"
   ]
  },
  {
   "cell_type": "code",
   "execution_count": 85,
   "id": "88d0f8d5-fe34-4e21-90ca-d489f928bf2f",
   "metadata": {},
   "outputs": [],
   "source": [
    "b.add(90)"
   ]
  },
  {
   "cell_type": "code",
   "execution_count": 87,
   "id": "96bce460-4ab1-4ad8-912c-5f2c7c84700c",
   "metadata": {},
   "outputs": [
    {
     "data": {
      "text/plain": [
       "{0, 1, 2, 3, 4, 5, 6, 7, 8, 9, 10, 90, 100, 1500}"
      ]
     },
     "execution_count": 87,
     "metadata": {},
     "output_type": "execute_result"
    }
   ],
   "source": [
    "b"
   ]
  },
  {
   "cell_type": "code",
   "execution_count": 89,
   "id": "029a2889-e434-4e7b-93ff-90395b0f082e",
   "metadata": {},
   "outputs": [
    {
     "ename": "TypeError",
     "evalue": "'set' object is not subscriptable",
     "output_type": "error",
     "traceback": [
      "\u001b[1;31m---------------------------------------------------------------------------\u001b[0m",
      "\u001b[1;31mTypeError\u001b[0m                                 Traceback (most recent call last)",
      "Cell \u001b[1;32mIn[89], line 1\u001b[0m\n\u001b[1;32m----> 1\u001b[0m b[\u001b[38;5;241m-\u001b[39m\u001b[38;5;241m1\u001b[39m]\n",
      "\u001b[1;31mTypeError\u001b[0m: 'set' object is not subscriptable"
     ]
    }
   ],
   "source": [
    "b[-1]"
   ]
  },
  {
   "cell_type": "code",
   "execution_count": 91,
   "id": "8c6f3b1b-47f2-4ab9-a93f-e99e172edee8",
   "metadata": {},
   "outputs": [],
   "source": [
    "b.add(-1)"
   ]
  },
  {
   "cell_type": "code",
   "execution_count": 93,
   "id": "94ff7601-bb7d-447b-8154-6ec88ea1b156",
   "metadata": {},
   "outputs": [
    {
     "data": {
      "text/plain": [
       "{-1, 0, 1, 2, 3, 4, 5, 6, 7, 8, 9, 10, 90, 100, 1500}"
      ]
     },
     "execution_count": 93,
     "metadata": {},
     "output_type": "execute_result"
    }
   ],
   "source": [
    "b"
   ]
  },
  {
   "cell_type": "code",
   "execution_count": 95,
   "id": "0f96c788-3724-4692-80e4-473ef4d08c34",
   "metadata": {},
   "outputs": [],
   "source": [
    "b.remove(100)"
   ]
  },
  {
   "cell_type": "code",
   "execution_count": 97,
   "id": "f9d50d56-0e56-44f9-8ddf-dd6c31e417e0",
   "metadata": {},
   "outputs": [
    {
     "data": {
      "text/plain": [
       "{-1, 0, 1, 2, 3, 4, 5, 6, 7, 8, 9, 10, 90, 1500}"
      ]
     },
     "execution_count": 97,
     "metadata": {},
     "output_type": "execute_result"
    }
   ],
   "source": [
    "b"
   ]
  },
  {
   "cell_type": "code",
   "execution_count": 99,
   "id": "c07202f3-18e4-463b-9853-535902a6a212",
   "metadata": {},
   "outputs": [],
   "source": [
    "b.remove(1500)"
   ]
  },
  {
   "cell_type": "code",
   "execution_count": 101,
   "id": "a676cd25-2d59-4d64-953d-dd72b68e49cd",
   "metadata": {},
   "outputs": [
    {
     "data": {
      "text/plain": [
       "{-1, 0, 1, 2, 3, 4, 5, 6, 7, 8, 9, 10, 90}"
      ]
     },
     "execution_count": 101,
     "metadata": {},
     "output_type": "execute_result"
    }
   ],
   "source": [
    "b"
   ]
  },
  {
   "cell_type": "code",
   "execution_count": 103,
   "id": "43e41245-058b-4c8e-9ee7-88308398093b",
   "metadata": {},
   "outputs": [],
   "source": [
    "b.add(15)\n",
    "b.add(15)\n",
    "b.add(15)\n",
    "b.add(15)\n",
    "b.add(15)\n",
    "b.add(15)\n",
    "b.add(15)"
   ]
  },
  {
   "cell_type": "code",
   "execution_count": 105,
   "id": "a1745ab3-9a93-43d0-b40e-1878f4469f01",
   "metadata": {},
   "outputs": [
    {
     "data": {
      "text/plain": [
       "{-1, 0, 1, 2, 3, 4, 5, 6, 7, 8, 9, 10, 15, 90}"
      ]
     },
     "execution_count": 105,
     "metadata": {},
     "output_type": "execute_result"
    }
   ],
   "source": [
    "b"
   ]
  },
  {
   "cell_type": "code",
   "execution_count": 107,
   "id": "ac6fd4d3-5d7b-4974-b3c6-dc44c696728d",
   "metadata": {},
   "outputs": [],
   "source": [
    "b.remove(10)"
   ]
  },
  {
   "cell_type": "code",
   "execution_count": 109,
   "id": "27fd04f6-892e-424d-ac11-73fad7411b47",
   "metadata": {},
   "outputs": [
    {
     "data": {
      "text/plain": [
       "{-1, 0, 1, 2, 3, 4, 5, 6, 7, 8, 9, 15, 90}"
      ]
     },
     "execution_count": 109,
     "metadata": {},
     "output_type": "execute_result"
    }
   ],
   "source": [
    "b"
   ]
  },
  {
   "cell_type": "code",
   "execution_count": 111,
   "id": "1a9c7aed-908b-481d-b7b1-885b95cd107e",
   "metadata": {},
   "outputs": [],
   "source": [
    "b.remove(15)"
   ]
  },
  {
   "cell_type": "code",
   "execution_count": 113,
   "id": "ebf019a8-d58b-4b43-a095-123d21f7e4fd",
   "metadata": {},
   "outputs": [
    {
     "data": {
      "text/plain": [
       "{-1, 0, 1, 2, 3, 4, 5, 6, 7, 8, 9, 90}"
      ]
     },
     "execution_count": 113,
     "metadata": {},
     "output_type": "execute_result"
    }
   ],
   "source": [
    "b"
   ]
  },
  {
   "cell_type": "code",
   "execution_count": 115,
   "id": "659570ab-8d2b-48ea-85ad-f91f23291bc9",
   "metadata": {},
   "outputs": [
    {
     "ename": "KeyError",
     "evalue": "150",
     "output_type": "error",
     "traceback": [
      "\u001b[1;31m---------------------------------------------------------------------------\u001b[0m",
      "\u001b[1;31mKeyError\u001b[0m                                  Traceback (most recent call last)",
      "Cell \u001b[1;32mIn[115], line 1\u001b[0m\n\u001b[1;32m----> 1\u001b[0m b\u001b[38;5;241m.\u001b[39mremove(\u001b[38;5;241m150\u001b[39m)\n",
      "\u001b[1;31mKeyError\u001b[0m: 150"
     ]
    }
   ],
   "source": [
    "b.remove(150)"
   ]
  },
  {
   "cell_type": "code",
   "execution_count": 117,
   "id": "aedd225c-1080-420d-b50a-f55b17def0ca",
   "metadata": {},
   "outputs": [],
   "source": [
    "b.remove(90)"
   ]
  },
  {
   "cell_type": "code",
   "execution_count": 119,
   "id": "6b094f0c-626e-4717-a469-30066bde4d02",
   "metadata": {},
   "outputs": [
    {
     "data": {
      "text/plain": [
       "{-1, 0, 1, 2, 3, 4, 5, 6, 7, 8, 9}"
      ]
     },
     "execution_count": 119,
     "metadata": {},
     "output_type": "execute_result"
    }
   ],
   "source": [
    "b"
   ]
  },
  {
   "cell_type": "code",
   "execution_count": 121,
   "id": "e3e16c54-8cc5-4129-86d3-cbd04f51c3fc",
   "metadata": {},
   "outputs": [],
   "source": [
    "b.discard(200)"
   ]
  },
  {
   "cell_type": "code",
   "execution_count": 123,
   "id": "6c8787de-e0e8-464a-ab64-eda86e59acb4",
   "metadata": {},
   "outputs": [],
   "source": [
    "b.discard(150)"
   ]
  },
  {
   "cell_type": "code",
   "execution_count": 127,
   "id": "6746bd43-15a2-4384-b411-14536b6abce3",
   "metadata": {},
   "outputs": [],
   "source": [
    "b.discard(8)"
   ]
  },
  {
   "cell_type": "code",
   "execution_count": 129,
   "id": "a35ff9c5-4587-4c4e-a0c0-2c7121411959",
   "metadata": {},
   "outputs": [
    {
     "data": {
      "text/plain": [
       "{-1, 0, 1, 2, 3, 4, 5, 6, 7, 9}"
      ]
     },
     "execution_count": 129,
     "metadata": {},
     "output_type": "execute_result"
    }
   ],
   "source": [
    "b"
   ]
  },
  {
   "cell_type": "code",
   "execution_count": 131,
   "id": "ab41ca00-07a2-49a5-ba5c-a05c8eb0eeba",
   "metadata": {},
   "outputs": [],
   "source": [
    "b.update([15,16,18,5,7])"
   ]
  },
  {
   "cell_type": "code",
   "execution_count": 133,
   "id": "7fa3ad15-daa3-4d59-b63c-8819fb3e0bec",
   "metadata": {},
   "outputs": [
    {
     "data": {
      "text/plain": [
       "{-1, 0, 1, 2, 3, 4, 5, 6, 7, 9, 15, 16, 18}"
      ]
     },
     "execution_count": 133,
     "metadata": {},
     "output_type": "execute_result"
    }
   ],
   "source": [
    "b"
   ]
  },
  {
   "cell_type": "code",
   "execution_count": 135,
   "id": "ca083a90-70a8-4c35-ba09-fc966f0b23ef",
   "metadata": {},
   "outputs": [
    {
     "ename": "TypeError",
     "evalue": "'int' object is not iterable",
     "output_type": "error",
     "traceback": [
      "\u001b[1;31m---------------------------------------------------------------------------\u001b[0m",
      "\u001b[1;31mTypeError\u001b[0m                                 Traceback (most recent call last)",
      "Cell \u001b[1;32mIn[135], line 1\u001b[0m\n\u001b[1;32m----> 1\u001b[0m b\u001b[38;5;241m.\u001b[39mupdate(\u001b[38;5;241m15\u001b[39m)\n",
      "\u001b[1;31mTypeError\u001b[0m: 'int' object is not iterable"
     ]
    }
   ],
   "source": [
    "b.update(15)"
   ]
  },
  {
   "cell_type": "code",
   "execution_count": 137,
   "id": "2194daa1-8b83-40df-8bf8-3b87d0894c89",
   "metadata": {},
   "outputs": [],
   "source": [
    "b.update([120])"
   ]
  },
  {
   "cell_type": "code",
   "execution_count": 139,
   "id": "9cc14cf7-fdf5-40ec-8309-b4b4e12da51d",
   "metadata": {},
   "outputs": [
    {
     "data": {
      "text/plain": [
       "{-1, 0, 1, 2, 3, 4, 5, 6, 7, 9, 15, 16, 18, 120}"
      ]
     },
     "execution_count": 139,
     "metadata": {},
     "output_type": "execute_result"
    }
   ],
   "source": [
    "b"
   ]
  },
  {
   "cell_type": "code",
   "execution_count": 141,
   "id": "b9fb3258-20c5-4cee-b1f9-67efc286623a",
   "metadata": {},
   "outputs": [],
   "source": [
    "b.update([200])"
   ]
  },
  {
   "cell_type": "code",
   "execution_count": 143,
   "id": "458c44b6-6d7f-491d-b6bf-31ebc4f838ec",
   "metadata": {},
   "outputs": [
    {
     "data": {
      "text/plain": [
       "{-1, 0, 1, 2, 3, 4, 5, 6, 7, 9, 15, 16, 18, 120, 200}"
      ]
     },
     "execution_count": 143,
     "metadata": {},
     "output_type": "execute_result"
    }
   ],
   "source": [
    "b"
   ]
  },
  {
   "cell_type": "code",
   "execution_count": 145,
   "id": "43deffc7-4a3e-4006-b960-04533c168eca",
   "metadata": {},
   "outputs": [],
   "source": [
    "b.update([450])"
   ]
  },
  {
   "cell_type": "code",
   "execution_count": 147,
   "id": "2d8bdecd-9906-4599-b5b9-09bbd45abd7b",
   "metadata": {},
   "outputs": [
    {
     "data": {
      "text/plain": [
       "{-1, 0, 1, 2, 3, 4, 5, 6, 7, 9, 15, 16, 18, 120, 200, 450}"
      ]
     },
     "execution_count": 147,
     "metadata": {},
     "output_type": "execute_result"
    }
   ],
   "source": [
    "b"
   ]
  },
  {
   "cell_type": "code",
   "execution_count": 149,
   "id": "b65cb205-d5a8-45e9-b0c8-be931335d937",
   "metadata": {},
   "outputs": [],
   "source": [
    "b.update([200])"
   ]
  },
  {
   "cell_type": "code",
   "execution_count": 151,
   "id": "86d7e8a9-8ebe-49be-ab53-5cc21d09e023",
   "metadata": {},
   "outputs": [
    {
     "data": {
      "text/plain": [
       "{-1, 0, 1, 2, 3, 4, 5, 6, 7, 9, 15, 16, 18, 120, 200, 450}"
      ]
     },
     "execution_count": 151,
     "metadata": {},
     "output_type": "execute_result"
    }
   ],
   "source": [
    "b"
   ]
  },
  {
   "cell_type": "code",
   "execution_count": 153,
   "id": "c40cff78-df60-49c3-b7c3-3351722b8404",
   "metadata": {},
   "outputs": [],
   "source": [
    "b.update((150,200,300,400,5000,6000,))"
   ]
  },
  {
   "cell_type": "code",
   "execution_count": 155,
   "id": "9b4fd86b-03fa-443e-a9b5-3ec06746defe",
   "metadata": {},
   "outputs": [
    {
     "data": {
      "text/plain": [
       "{-1,\n",
       " 0,\n",
       " 1,\n",
       " 2,\n",
       " 3,\n",
       " 4,\n",
       " 5,\n",
       " 6,\n",
       " 7,\n",
       " 9,\n",
       " 15,\n",
       " 16,\n",
       " 18,\n",
       " 120,\n",
       " 150,\n",
       " 200,\n",
       " 300,\n",
       " 400,\n",
       " 450,\n",
       " 5000,\n",
       " 6000}"
      ]
     },
     "execution_count": 155,
     "metadata": {},
     "output_type": "execute_result"
    }
   ],
   "source": [
    "b"
   ]
  },
  {
   "cell_type": "markdown",
   "id": "7ff3d15e-6a8b-4c6a-ac21-0794794b3a75",
   "metadata": {},
   "source": [
    "# Set Operations:"
   ]
  },
  {
   "cell_type": "code",
   "execution_count": 160,
   "id": "554cf6a1-16d4-41f1-bd24-3e2670f9a8e5",
   "metadata": {},
   "outputs": [],
   "source": [
    "s1 = {1,2,3,4,5,8}\n",
    "s2 = {4,5,6,7,1,9}"
   ]
  },
  {
   "cell_type": "code",
   "execution_count": 162,
   "id": "995b64e4-b12f-414f-be66-e3cdaef2b590",
   "metadata": {},
   "outputs": [
    {
     "data": {
      "text/plain": [
       "{1, 2, 3, 4, 5, 8}"
      ]
     },
     "execution_count": 162,
     "metadata": {},
     "output_type": "execute_result"
    }
   ],
   "source": [
    "s1"
   ]
  },
  {
   "cell_type": "code",
   "execution_count": 164,
   "id": "fd872546-225a-4689-a16b-9393ec055861",
   "metadata": {},
   "outputs": [
    {
     "data": {
      "text/plain": [
       "{1, 4, 5}"
      ]
     },
     "execution_count": 164,
     "metadata": {},
     "output_type": "execute_result"
    }
   ],
   "source": [
    "s1.intersection(s2)"
   ]
  },
  {
   "cell_type": "code",
   "execution_count": 168,
   "id": "451cb84f-e29a-4dec-8add-14dac23dbe7b",
   "metadata": {},
   "outputs": [
    {
     "data": {
      "text/plain": [
       "{1, 4, 5}"
      ]
     },
     "execution_count": 168,
     "metadata": {},
     "output_type": "execute_result"
    }
   ],
   "source": [
    "s1 & s2"
   ]
  },
  {
   "cell_type": "code",
   "execution_count": 170,
   "id": "83a0aeb3-2e0d-4e95-8b60-614fb23c6a23",
   "metadata": {},
   "outputs": [
    {
     "data": {
      "text/plain": [
       "{1, 2, 3, 4, 5, 6, 7, 8, 9}"
      ]
     },
     "execution_count": 170,
     "metadata": {},
     "output_type": "execute_result"
    }
   ],
   "source": [
    "s1.union(s2)"
   ]
  },
  {
   "cell_type": "code",
   "execution_count": 172,
   "id": "a3d22421-b6d8-488d-8959-4e642c55b17d",
   "metadata": {},
   "outputs": [
    {
     "data": {
      "text/plain": [
       "{1, 2, 3, 4, 5, 6, 7, 8, 9}"
      ]
     },
     "execution_count": 172,
     "metadata": {},
     "output_type": "execute_result"
    }
   ],
   "source": [
    "s1 | s2"
   ]
  },
  {
   "cell_type": "code",
   "execution_count": 174,
   "id": "e6f4ab17-ad51-4f84-bbcd-caf9113aaab8",
   "metadata": {},
   "outputs": [
    {
     "data": {
      "text/plain": [
       "{6, 7, 9}"
      ]
     },
     "execution_count": 174,
     "metadata": {},
     "output_type": "execute_result"
    }
   ],
   "source": [
    "s2- s1"
   ]
  },
  {
   "cell_type": "code",
   "execution_count": 176,
   "id": "4f39d027-8381-4dfa-aaf4-b1fa8f99b502",
   "metadata": {},
   "outputs": [
    {
     "data": {
      "text/plain": [
       "{2, 3, 8}"
      ]
     },
     "execution_count": 176,
     "metadata": {},
     "output_type": "execute_result"
    }
   ],
   "source": [
    "s1.difference(s2)"
   ]
  },
  {
   "cell_type": "code",
   "execution_count": 178,
   "id": "2f1f3909-11fe-406c-8aa8-2fe29a180524",
   "metadata": {},
   "outputs": [
    {
     "data": {
      "text/plain": [
       "{6, 7, 9}"
      ]
     },
     "execution_count": 178,
     "metadata": {},
     "output_type": "execute_result"
    }
   ],
   "source": [
    "s2.difference(s1)"
   ]
  },
  {
   "cell_type": "code",
   "execution_count": 180,
   "id": "24fae18b-cc71-4d7c-af73-eb1df99c9684",
   "metadata": {},
   "outputs": [
    {
     "data": {
      "text/plain": [
       "{2, 3, 6, 7, 8, 9}"
      ]
     },
     "execution_count": 180,
     "metadata": {},
     "output_type": "execute_result"
    }
   ],
   "source": [
    "(s1 | s2) - (s1&s2)"
   ]
  },
  {
   "cell_type": "code",
   "execution_count": 182,
   "id": "14ed23f4-a2ac-45d0-a1ab-2d0b58df4d41",
   "metadata": {},
   "outputs": [
    {
     "data": {
      "text/plain": [
       "{2, 3, 6, 7, 8, 9}"
      ]
     },
     "execution_count": 182,
     "metadata": {},
     "output_type": "execute_result"
    }
   ],
   "source": [
    "s1.symmetric_difference(s2)"
   ]
  },
  {
   "cell_type": "code",
   "execution_count": null,
   "id": "388ff2e2-c32c-4325-aae9-2242be1751f2",
   "metadata": {},
   "outputs": [],
   "source": []
  },
  {
   "cell_type": "code",
   "execution_count": 1,
   "id": "8348c772-0189-4c5b-a5ab-1aa18d5b98e3",
   "metadata": {},
   "outputs": [],
   "source": [
    "# Homework Question: square all even members and cube of all odd members"
   ]
  },
  {
   "cell_type": "code",
   "execution_count": null,
   "id": "2aab3f91-209b-4b61-b3c7-14fddcd4b8c7",
   "metadata": {},
   "outputs": [],
   "source": []
  },
  {
   "cell_type": "code",
   "execution_count": null,
   "id": "0feb3430-b9e4-4fa6-9453-0653f82bdb88",
   "metadata": {},
   "outputs": [],
   "source": [
    "*\n",
    "**\n",
    "***\n",
    "****\n",
    "*****"
   ]
  },
  {
   "cell_type": "code",
   "execution_count": null,
   "id": "40393d2d-bb7d-4c8c-8ed7-5283359c41c0",
   "metadata": {},
   "outputs": [],
   "source": [
    "1\n",
    "12\n",
    "123\n",
    "1234\n",
    "12345"
   ]
  },
  {
   "cell_type": "code",
   "execution_count": null,
   "id": "936d205c-ff8e-430e-8e4e-8dd2641d605d",
   "metadata": {},
   "outputs": [],
   "source": [
    "# remove duplicates from this list\n",
    "some_list = [6,3,7,6,4,1,0,9,2,1,0,8,6,4,7,7,6, 4, 5,1, 0, 8]"
   ]
  },
  {
   "cell_type": "code",
   "execution_count": 13,
   "id": "97b39592-2ad8-4ec6-812b-dc73b0845a34",
   "metadata": {},
   "outputs": [
    {
     "ename": "SyntaxError",
     "evalue": "invalid non-printable character U+00A0 (463329691.py, line 1)",
     "output_type": "error",
     "traceback": [
      "\u001b[1;36m  Cell \u001b[1;32mIn[13], line 1\u001b[1;36m\u001b[0m\n\u001b[1;33m    some_list = [6,3,7,6,4,1,0,9,2,1,0,8,6,4,7,7,6, 4, 5,1, 0, 8]\u001b[0m\n\u001b[1;37m                                                   ^\u001b[0m\n\u001b[1;31mSyntaxError\u001b[0m\u001b[1;31m:\u001b[0m invalid non-printable character U+00A0\n"
     ]
    }
   ],
   "source": [
    "\n",
    "some_list = [6,3,7,6,4,1,0,9,2,1,0,8,6,4,7,7,6, 4, 5,1, 0, 8]\n",
    "some_set = set(some_list)\n",
    "some_list = list(some_set)\n",
    "some_list"
   ]
  },
  {
   "cell_type": "code",
   "execution_count": 15,
   "id": "d1d4e102-e357-4492-b210-423ea67dccb3",
   "metadata": {},
   "outputs": [
    {
     "ename": "SyntaxError",
     "evalue": "invalid non-printable character U+00A0 (1048826376.py, line 1)",
     "output_type": "error",
     "traceback": [
      "\u001b[1;36m  Cell \u001b[1;32mIn[15], line 1\u001b[1;36m\u001b[0m\n\u001b[1;33m    some_list = [6,3,7,6,4,1,0,9,2,1,0,8,6,4,7,7,6, 4, 5,1, 0, 8]\u001b[0m\n\u001b[1;37m                                                   ^\u001b[0m\n\u001b[1;31mSyntaxError\u001b[0m\u001b[1;31m:\u001b[0m invalid non-printable character U+00A0\n"
     ]
    }
   ],
   "source": [
    "some_list = [6,3,7,6,4,1,0,9,2,1,0,8,6,4,7,7,6, 4, 5,1, 0, 8]"
   ]
  },
  {
   "cell_type": "code",
   "execution_count": 17,
   "id": "ddcbcf93-801c-4598-90c3-ca2d79c9b5d1",
   "metadata": {},
   "outputs": [
    {
     "ename": "NameError",
     "evalue": "name 'some_list' is not defined",
     "output_type": "error",
     "traceback": [
      "\u001b[1;31m---------------------------------------------------------------------------\u001b[0m",
      "\u001b[1;31mNameError\u001b[0m                                 Traceback (most recent call last)",
      "Cell \u001b[1;32mIn[17], line 2\u001b[0m\n\u001b[0;32m      1\u001b[0m k \u001b[38;5;241m=\u001b[39m []\n\u001b[1;32m----> 2\u001b[0m \u001b[38;5;28;01mfor\u001b[39;00m i \u001b[38;5;129;01min\u001b[39;00m some_list:\n\u001b[0;32m      3\u001b[0m     \u001b[38;5;28;01mif\u001b[39;00m i \u001b[38;5;129;01mnot\u001b[39;00m \u001b[38;5;129;01min\u001b[39;00m k:\n\u001b[0;32m      4\u001b[0m         k\u001b[38;5;241m.\u001b[39mappend(i)\n",
      "\u001b[1;31mNameError\u001b[0m: name 'some_list' is not defined"
     ]
    }
   ],
   "source": [
    "k = []\n",
    "for i in some_list:\n",
    "    if i not in k:\n",
    "        k.append(i)\n",
    "    else:\n",
    "        pass"
   ]
  },
  {
   "cell_type": "code",
   "execution_count": 19,
   "id": "7a58d577-91bd-441d-9122-5b07ad38d617",
   "metadata": {},
   "outputs": [
    {
     "data": {
      "text/plain": [
       "[6, 3, 7, 4, 1, 0, 9, 2, 8, 5]"
      ]
     },
     "execution_count": 19,
     "metadata": {},
     "output_type": "execute_result"
    }
   ],
   "source": [
    "k"
   ]
  },
  {
   "cell_type": "markdown",
   "id": "73360b1e-74c6-4f4a-af3c-3f8c0ed1a941",
   "metadata": {},
   "source": [
    "# Dictionary:\n",
    "* it is a collection of elements-it stores data in key value pair \n",
    "* it is ordereded\n",
    "* indexing is possible with the help of keys\n",
    "* changeable"
   ]
  },
  {
   "cell_type": "code",
   "execution_count": 27,
   "id": "bf86a09e-356d-4022-a523-a08a0654edf7",
   "metadata": {},
   "outputs": [],
   "source": [
    "v = {}"
   ]
  },
  {
   "cell_type": "code",
   "execution_count": 29,
   "id": "c4722776-3923-4ca7-94ec-a8621e257943",
   "metadata": {},
   "outputs": [
    {
     "data": {
      "text/plain": [
       "dict"
      ]
     },
     "execution_count": 29,
     "metadata": {},
     "output_type": "execute_result"
    }
   ],
   "source": [
    "type(v)"
   ]
  },
  {
   "cell_type": "code",
   "execution_count": 31,
   "id": "0cc71962-a549-41bf-b86c-761a7d8e2481",
   "metadata": {},
   "outputs": [
    {
     "ename": "SyntaxError",
     "evalue": "incomplete input (3576397477.py, line 1)",
     "output_type": "error",
     "traceback": [
      "\u001b[1;36m  Cell \u001b[1;32mIn[31], line 1\u001b[1;36m\u001b[0m\n\u001b[1;33m    j = {(\"mohit\", 10000), (\"raja\", 30000), (\"sejal\", 40000), (\"pooja\", 50000) (\"ankit\", 8000), (\"prateek\", 60000)\u001b[0m\n\u001b[1;37m                                                                                                                  ^\u001b[0m\n\u001b[1;31mSyntaxError\u001b[0m\u001b[1;31m:\u001b[0m incomplete input\n"
     ]
    }
   ],
   "source": [
    "j = {(\"mohit\", 10000), (\"raja\", 30000), (\"sejal\", 40000), (\"pooja\", 50000) (\"ankit\", 8000), (\"prateek\", 60000)"
   ]
  },
  {
   "cell_type": "code",
   "execution_count": 33,
   "id": "e5afe8ea-f0bf-4e28-b84d-fc8e78be24bf",
   "metadata": {},
   "outputs": [],
   "source": [
    "user_info = {\n",
    "    \"name\" : \"Anshu\",\n",
    "    \"Salary\" : 10000,\n",
    "    \"Age\" : 30, \n",
    "    \"Company\" : \"Google\"\n",
    "}"
   ]
  },
  {
   "cell_type": "code",
   "execution_count": 57,
   "id": "43d032dc-fb4a-4d54-97c8-4f56e09fb901",
   "metadata": {},
   "outputs": [],
   "source": [
    "user_info = {\n",
    "    \"name\" : \"Anshu\",\n",
    "    \"Salary\" : 10000,\n",
    "    \"Age\" : 30, \n",
    "    \"Company\" : \"Google\"\n",
    "}"
   ]
  },
  {
   "cell_type": "code",
   "execution_count": 59,
   "id": "86a11204-0739-4ae2-a389-ac7fb2482069",
   "metadata": {},
   "outputs": [
    {
     "data": {
      "text/plain": [
       "{'name': 'Anshu', 'Salary': 10000, 'Age': 30, 'Company': 'Google'}"
      ]
     },
     "execution_count": 59,
     "metadata": {},
     "output_type": "execute_result"
    }
   ],
   "source": [
    "user_info"
   ]
  },
  {
   "cell_type": "code",
   "execution_count": 61,
   "id": "12458719-a278-4476-bcc8-9dfa6ef0ee5e",
   "metadata": {},
   "outputs": [
    {
     "name": "stdout",
     "output_type": "stream",
     "text": [
      "name\n",
      "Salary\n",
      "Age\n",
      "Company\n"
     ]
    }
   ],
   "source": [
    "for i in user_info:\n",
    "    print(i)"
   ]
  },
  {
   "cell_type": "code",
   "execution_count": 63,
   "id": "a6a47d7f-5852-4242-8d52-aa07fe50a547",
   "metadata": {},
   "outputs": [
    {
     "data": {
      "text/plain": [
       "dict_keys(['name', 'Salary', 'Age', 'Company'])"
      ]
     },
     "execution_count": 63,
     "metadata": {},
     "output_type": "execute_result"
    }
   ],
   "source": [
    "user_info.keys()"
   ]
  },
  {
   "cell_type": "code",
   "execution_count": 65,
   "id": "5258dbbf-622a-434b-93bc-587d35eeb539",
   "metadata": {},
   "outputs": [
    {
     "data": {
      "text/plain": [
       "dict_values(['Anshu', 10000, 30, 'Google'])"
      ]
     },
     "execution_count": 65,
     "metadata": {},
     "output_type": "execute_result"
    }
   ],
   "source": [
    "user_info.values()"
   ]
  },
  {
   "cell_type": "code",
   "execution_count": 67,
   "id": "fd177768-8862-4a7e-81d5-df7622ed9643",
   "metadata": {},
   "outputs": [
    {
     "data": {
      "text/plain": [
       "dict_items([('name', 'Anshu'), ('Salary', 10000), ('Age', 30), ('Company', 'Google')])"
      ]
     },
     "execution_count": 67,
     "metadata": {},
     "output_type": "execute_result"
    }
   ],
   "source": [
    "user_info.items()"
   ]
  },
  {
   "cell_type": "code",
   "execution_count": 69,
   "id": "94ae3982-16e7-4390-a633-5882fa5d8da7",
   "metadata": {},
   "outputs": [
    {
     "name": "stdout",
     "output_type": "stream",
     "text": [
      "Anshu\n",
      "10000\n",
      "30\n",
      "Google\n"
     ]
    }
   ],
   "source": [
    "for i in user_info:\n",
    "    print(user_info[i])"
   ]
  },
  {
   "cell_type": "code",
   "execution_count": 71,
   "id": "96193c3c-12ba-4d27-a058-acff876bf31a",
   "metadata": {},
   "outputs": [
    {
     "name": "stdout",
     "output_type": "stream",
     "text": [
      "name\n",
      "Salary\n",
      "Age\n",
      "Company\n"
     ]
    }
   ],
   "source": [
    "for i in user_info:\n",
    "    print(i)"
   ]
  },
  {
   "cell_type": "code",
   "execution_count": 35,
   "id": "c3a89df6-67e5-4614-afd2-11bbff3457bf",
   "metadata": {},
   "outputs": [
    {
     "data": {
      "text/plain": [
       "{'name': 'Anshu', 'Salary': 10000, 'Age': 30, 'Company': 'Google'}"
      ]
     },
     "execution_count": 35,
     "metadata": {},
     "output_type": "execute_result"
    }
   ],
   "source": [
    "user_info"
   ]
  },
  {
   "cell_type": "code",
   "execution_count": 37,
   "id": "ad120541-6edc-4bb8-9561-f34c31f0f11e",
   "metadata": {},
   "outputs": [
    {
     "data": {
      "text/plain": [
       "dict"
      ]
     },
     "execution_count": 37,
     "metadata": {},
     "output_type": "execute_result"
    }
   ],
   "source": [
    "type(user_info)"
   ]
  },
  {
   "cell_type": "code",
   "execution_count": 39,
   "id": "49e5a8a7-0e66-422b-aacb-bae4ffe75c75",
   "metadata": {},
   "outputs": [],
   "source": [
    "user_info[\"name\"] = \"Gautam\""
   ]
  },
  {
   "cell_type": "code",
   "execution_count": 41,
   "id": "a6399b65-5605-42fb-9d2a-6fd04cb7946b",
   "metadata": {},
   "outputs": [
    {
     "data": {
      "text/plain": [
       "{'name': 'Gautam', 'Salary': 10000, 'Age': 30, 'Company': 'Google'}"
      ]
     },
     "execution_count": 41,
     "metadata": {},
     "output_type": "execute_result"
    }
   ],
   "source": [
    "user_info"
   ]
  },
  {
   "cell_type": "code",
   "execution_count": 2,
   "id": "261aac57-891c-4141-af2a-b5343cd53d06",
   "metadata": {},
   "outputs": [],
   "source": [
    "p = {}"
   ]
  },
  {
   "cell_type": "code",
   "execution_count": 4,
   "id": "cba60130-d381-41c5-8bb2-4f8881c0cbad",
   "metadata": {},
   "outputs": [
    {
     "data": {
      "text/plain": [
       "dict"
      ]
     },
     "execution_count": 4,
     "metadata": {},
     "output_type": "execute_result"
    }
   ],
   "source": [
    "type(p)"
   ]
  },
  {
   "cell_type": "code",
   "execution_count": 6,
   "id": "5729a0c4-f29f-4682-aadc-7adb17cd9654",
   "metadata": {},
   "outputs": [],
   "source": [
    "a = dict()"
   ]
  },
  {
   "cell_type": "code",
   "execution_count": 8,
   "id": "abef2fb7-7831-4d13-83b7-a2ae8adcc25c",
   "metadata": {},
   "outputs": [
    {
     "data": {
      "text/plain": [
       "{}"
      ]
     },
     "execution_count": 8,
     "metadata": {},
     "output_type": "execute_result"
    }
   ],
   "source": [
    "a"
   ]
  },
  {
   "cell_type": "code",
   "execution_count": 10,
   "id": "6b1b837d-725f-4b45-904f-9162b129a7db",
   "metadata": {},
   "outputs": [
    {
     "data": {
      "text/plain": [
       "dict"
      ]
     },
     "execution_count": 10,
     "metadata": {},
     "output_type": "execute_result"
    }
   ],
   "source": [
    "type(a)"
   ]
  },
  {
   "cell_type": "code",
   "execution_count": 12,
   "id": "1c6ca9f7-703c-4da2-8c1b-aa92162700a8",
   "metadata": {},
   "outputs": [],
   "source": [
    "t = [(89, \"python\"), (75, \"HTML\"), (98, \"SQL\")]"
   ]
  },
  {
   "cell_type": "code",
   "execution_count": 14,
   "id": "2a18dafd-ed20-43aa-b3ee-e6fac804524e",
   "metadata": {},
   "outputs": [
    {
     "data": {
      "text/plain": [
       "list"
      ]
     },
     "execution_count": 14,
     "metadata": {},
     "output_type": "execute_result"
    }
   ],
   "source": [
    "type(t)"
   ]
  },
  {
   "cell_type": "code",
   "execution_count": 16,
   "id": "fb3a97da-4d6c-4afc-a6e4-5081b7a625c5",
   "metadata": {},
   "outputs": [],
   "source": [
    "t = dict(t)"
   ]
  },
  {
   "cell_type": "code",
   "execution_count": 18,
   "id": "c757892f-5561-4b90-a698-e84bbb0fb3e7",
   "metadata": {},
   "outputs": [
    {
     "data": {
      "text/plain": [
       "{89: 'python', 75: 'HTML', 98: 'SQL'}"
      ]
     },
     "execution_count": 18,
     "metadata": {},
     "output_type": "execute_result"
    }
   ],
   "source": [
    "t"
   ]
  },
  {
   "cell_type": "code",
   "execution_count": 20,
   "id": "d14ea438-9c58-4dee-8b3b-d63137709891",
   "metadata": {},
   "outputs": [],
   "source": [
    "h = dict([(89, \"python\"), (78, \"HTML\"), (90, \"SQL\")])"
   ]
  },
  {
   "cell_type": "code",
   "execution_count": 24,
   "id": "08cf2c27-0d3a-426d-ae8b-c9ddff54e16f",
   "metadata": {},
   "outputs": [
    {
     "data": {
      "text/plain": [
       "{89: 'python', 78: 'HTML', 90: 'SQL'}"
      ]
     },
     "execution_count": 24,
     "metadata": {},
     "output_type": "execute_result"
    }
   ],
   "source": [
    "h"
   ]
  },
  {
   "cell_type": "code",
   "execution_count": 26,
   "id": "25daf3c9-ab66-423b-bbcd-cd6bd6d39ffd",
   "metadata": {},
   "outputs": [],
   "source": [
    "k = {\n",
    "    \"a\" : 1,\n",
    "    \"b\" : 2,\n",
    "    \"c\" : 3,\n",
    "    \"d\" : 4,\n",
    "}"
   ]
  },
  {
   "cell_type": "code",
   "execution_count": 28,
   "id": "a0c98a30-98a3-4e03-88b9-38a5fd4a22da",
   "metadata": {},
   "outputs": [
    {
     "data": {
      "text/plain": [
       "{'a': 1, 'b': 2, 'c': 3, 'd': 4}"
      ]
     },
     "execution_count": 28,
     "metadata": {},
     "output_type": "execute_result"
    }
   ],
   "source": [
    "k"
   ]
  },
  {
   "cell_type": "code",
   "execution_count": 73,
   "id": "0079e141-e108-4b46-bf12-dd225952e32c",
   "metadata": {},
   "outputs": [],
   "source": [
    "k = {\n",
    "    \"a\" : 1,\n",
    "    \"b\" : 2,\n",
    "    \"c\" : 3,\n",
    "    \"d\" : 4,\n",
    "}"
   ]
  },
  {
   "cell_type": "code",
   "execution_count": 75,
   "id": "c0ec1e59-bc6b-40c4-b9d2-ff171f565e59",
   "metadata": {},
   "outputs": [
    {
     "data": {
      "text/plain": [
       "{'a': 1, 'b': 2, 'c': 3, 'd': 4}"
      ]
     },
     "execution_count": 75,
     "metadata": {},
     "output_type": "execute_result"
    }
   ],
   "source": [
    "k"
   ]
  },
  {
   "cell_type": "code",
   "execution_count": 31,
   "id": "f653840c-e545-4a72-83e4-4024ade78214",
   "metadata": {},
   "outputs": [],
   "source": [
    "user_info = {\n",
    "    \"name\" : \"pooja\",\n",
    "    \"age\" :  24,\n",
    "    \"nationality\" : \"Indian\"\n",
    "}"
   ]
  },
  {
   "cell_type": "code",
   "execution_count": 77,
   "id": "71f9668d-e245-4203-89dd-283af0c8e542",
   "metadata": {},
   "outputs": [],
   "source": [
    "user_info = {\n",
    "    \"name\" : \"pooja\",\n",
    "    \"age\" :  24,\n",
    "    \"nationality\" : \"Indian\"\n",
    "}"
   ]
  },
  {
   "cell_type": "code",
   "execution_count": 79,
   "id": "328dc522-5d6d-4a15-bae2-fdc14070886a",
   "metadata": {},
   "outputs": [
    {
     "data": {
      "text/plain": [
       "{'name': 'pooja', 'age': 24, 'nationality': 'Indian'}"
      ]
     },
     "execution_count": 79,
     "metadata": {},
     "output_type": "execute_result"
    }
   ],
   "source": [
    "user_info"
   ]
  },
  {
   "cell_type": "code",
   "execution_count": 35,
   "id": "9a2ee6b3-6e2c-45ac-afaf-f6565b38f53c",
   "metadata": {},
   "outputs": [
    {
     "data": {
      "text/plain": [
       "{'name': 'pooja', 'age': 24, 'nationality': 'Indian'}"
      ]
     },
     "execution_count": 35,
     "metadata": {},
     "output_type": "execute_result"
    }
   ],
   "source": [
    "user_info"
   ]
  },
  {
   "cell_type": "code",
   "execution_count": 39,
   "id": "f0cb7bd0-ed9d-4a2e-a5ba-515b3c25e076",
   "metadata": {},
   "outputs": [
    {
     "data": {
      "text/plain": [
       "dict"
      ]
     },
     "execution_count": 39,
     "metadata": {},
     "output_type": "execute_result"
    }
   ],
   "source": [
    "type(user_info)"
   ]
  },
  {
   "cell_type": "code",
   "execution_count": 41,
   "id": "4ac8b251-5a23-43bb-93d5-c0fc1e7f27ee",
   "metadata": {},
   "outputs": [
    {
     "data": {
      "text/plain": [
       "'pooja'"
      ]
     },
     "execution_count": 41,
     "metadata": {},
     "output_type": "execute_result"
    }
   ],
   "source": [
    "user_info['name']"
   ]
  },
  {
   "cell_type": "code",
   "execution_count": 43,
   "id": "3ce4ca51-c074-43fa-b5c6-eced46724f05",
   "metadata": {},
   "outputs": [
    {
     "data": {
      "text/plain": [
       "24"
      ]
     },
     "execution_count": 43,
     "metadata": {},
     "output_type": "execute_result"
    }
   ],
   "source": [
    "user_info['age']"
   ]
  },
  {
   "cell_type": "code",
   "execution_count": 45,
   "id": "1f6fc0bf-ea6a-4a88-a053-12af07dadbc1",
   "metadata": {},
   "outputs": [
    {
     "data": {
      "text/plain": [
       "'Indian'"
      ]
     },
     "execution_count": 45,
     "metadata": {},
     "output_type": "execute_result"
    }
   ],
   "source": [
    "user_info['nationality']"
   ]
  },
  {
   "cell_type": "code",
   "execution_count": 47,
   "id": "0c763b3c-83d0-4fd4-b31d-2a088a1ffdce",
   "metadata": {},
   "outputs": [
    {
     "ename": "KeyError",
     "evalue": "'hobby'",
     "output_type": "error",
     "traceback": [
      "\u001b[1;31m---------------------------------------------------------------------------\u001b[0m",
      "\u001b[1;31mKeyError\u001b[0m                                  Traceback (most recent call last)",
      "Cell \u001b[1;32mIn[47], line 1\u001b[0m\n\u001b[1;32m----> 1\u001b[0m user_info[\u001b[38;5;124m'\u001b[39m\u001b[38;5;124mhobby\u001b[39m\u001b[38;5;124m'\u001b[39m]\n",
      "\u001b[1;31mKeyError\u001b[0m: 'hobby'"
     ]
    }
   ],
   "source": [
    "user_info['hobby']"
   ]
  },
  {
   "cell_type": "code",
   "execution_count": 49,
   "id": "7f1d3444-cb7b-4086-a293-fd960a5552b9",
   "metadata": {},
   "outputs": [
    {
     "ename": "KeyError",
     "evalue": "'salary'",
     "output_type": "error",
     "traceback": [
      "\u001b[1;31m---------------------------------------------------------------------------\u001b[0m",
      "\u001b[1;31mKeyError\u001b[0m                                  Traceback (most recent call last)",
      "Cell \u001b[1;32mIn[49], line 1\u001b[0m\n\u001b[1;32m----> 1\u001b[0m user_info[\u001b[38;5;124m\"\u001b[39m\u001b[38;5;124msalary\u001b[39m\u001b[38;5;124m\"\u001b[39m]\n",
      "\u001b[1;31mKeyError\u001b[0m: 'salary'"
     ]
    }
   ],
   "source": [
    "user_info[\"salary\"]"
   ]
  },
  {
   "cell_type": "code",
   "execution_count": 51,
   "id": "666c8544-182d-4962-b3da-6d258c9b61b5",
   "metadata": {},
   "outputs": [],
   "source": [
    "user_info.get(\"hobby\")"
   ]
  },
  {
   "cell_type": "code",
   "execution_count": 55,
   "id": "1574ce38-7925-4369-8dee-bc3e79317d1d",
   "metadata": {},
   "outputs": [
    {
     "data": {
      "text/plain": [
       "'not available'"
      ]
     },
     "execution_count": 55,
     "metadata": {},
     "output_type": "execute_result"
    }
   ],
   "source": [
    "user_info.get(\"company\", \"not available\")"
   ]
  },
  {
   "cell_type": "code",
   "execution_count": 57,
   "id": "acef8e45-7012-4a11-bad5-0889781ad4a8",
   "metadata": {},
   "outputs": [],
   "source": [
    "# Add / Modify data in dictionary:"
   ]
  },
  {
   "cell_type": "code",
   "execution_count": 61,
   "id": "f4d610ce-636b-4102-ae49-c2e423dd505c",
   "metadata": {},
   "outputs": [],
   "source": [
    "user_info[\"hobby\"] = [\"coding\", \"singing\", \"dancing\"]"
   ]
  },
  {
   "cell_type": "code",
   "execution_count": 63,
   "id": "28c0006e-98df-4971-b642-601f70266dde",
   "metadata": {},
   "outputs": [
    {
     "data": {
      "text/plain": [
       "{'name': 'pooja',\n",
       " 'age': 24,\n",
       " 'nationality': 'Indian',\n",
       " 'hobby': ['coding', 'singing', 'dancing']}"
      ]
     },
     "execution_count": 63,
     "metadata": {},
     "output_type": "execute_result"
    }
   ],
   "source": [
    "user_info"
   ]
  },
  {
   "cell_type": "code",
   "execution_count": null,
   "id": "0804d97d-3be3-4b6c-b439-e19039525f05",
   "metadata": {},
   "outputs": [],
   "source": []
  },
  {
   "cell_type": "code",
   "execution_count": 66,
   "id": "506dca4a-2c36-4577-8947-503963e848b8",
   "metadata": {},
   "outputs": [
    {
     "data": {
      "text/plain": [
       "{'name': 'pooja',\n",
       " 'age': 24,\n",
       " 'nationality': 'Indian',\n",
       " 'hobby': ['coding', 'singing', 'dancing']}"
      ]
     },
     "execution_count": 66,
     "metadata": {},
     "output_type": "execute_result"
    }
   ],
   "source": [
    "user_info"
   ]
  },
  {
   "cell_type": "code",
   "execution_count": 68,
   "id": "e6ce252c-5ace-4e38-8a60-581c895fd4c1",
   "metadata": {},
   "outputs": [],
   "source": [
    "user_info[\"salary\"] = 6000"
   ]
  },
  {
   "cell_type": "code",
   "execution_count": 70,
   "id": "c0a2d0e4-50e5-4cc7-bebe-84836c985c5e",
   "metadata": {},
   "outputs": [
    {
     "data": {
      "text/plain": [
       "{'name': 'pooja',\n",
       " 'age': 24,\n",
       " 'nationality': 'Indian',\n",
       " 'hobby': ['coding', 'singing', 'dancing'],\n",
       " 'salary': 6000}"
      ]
     },
     "execution_count": 70,
     "metadata": {},
     "output_type": "execute_result"
    }
   ],
   "source": [
    "s = \"abbcccddddeeeeeffffffgggggggghhhhhhhhiiiiiiiiii\"\n",
    "\n",
    "dict_normal = {}\n",
    "for i in s:\n",
    "    if i in dict_normal:\n",
    "        dict_normal[i] += 1\n",
    "    else:\n",
    "        dict_normal[i] = 1\n",
    "\n",
    "print(dict_normal)"
   ]
  },
  {
   "cell_type": "code",
   "execution_count": 72,
   "id": "0beca1cf-c08f-412b-bf23-ada3446bad5f",
   "metadata": {},
   "outputs": [],
   "source": [
    "user_info[\"department\"] = \"sales\""
   ]
  },
  {
   "cell_type": "code",
   "execution_count": 74,
   "id": "8332104f-355c-41f2-994d-1c55c61b6f4d",
   "metadata": {},
   "outputs": [
    {
     "data": {
      "text/plain": [
       "{'name': 'pooja',\n",
       " 'age': 24,\n",
       " 'nationality': 'Indian',\n",
       " 'hobby': ['coding', 'singing', 'dancing'],\n",
       " 'salary': 6000,\n",
       " 'department': 'sales'}"
      ]
     },
     "execution_count": 74,
     "metadata": {},
     "output_type": "execute_result"
    }
   ],
   "source": [
    "user_info"
   ]
  },
  {
   "cell_type": "code",
   "execution_count": 76,
   "id": "68b55d30-f041-4f4d-88f1-2f183cc25f1e",
   "metadata": {},
   "outputs": [],
   "source": [
    "user_info[\"eStatus\"] = True"
   ]
  },
  {
   "cell_type": "code",
   "execution_count": 78,
   "id": "7d0a458b-3a83-4c80-81c9-db20f75dbc93",
   "metadata": {},
   "outputs": [
    {
     "data": {
      "text/plain": [
       "{'name': 'pooja',\n",
       " 'age': 24,\n",
       " 'nationality': 'Indian',\n",
       " 'hobby': ['coding', 'singing', 'dancing'],\n",
       " 'salary': 6000,\n",
       " 'department': 'sales',\n",
       " 'eStatus': True}"
      ]
     },
     "execution_count": 78,
     "metadata": {},
     "output_type": "execute_result"
    }
   ],
   "source": [
    "user_info"
   ]
  },
  {
   "cell_type": "code",
   "execution_count": 37,
   "id": "b2eeca5e-457d-46c3-af00-e3ca8f4bd9de",
   "metadata": {},
   "outputs": [],
   "source": [
    "user_info[\"name\"] = \"prateek\""
   ]
  },
  {
   "cell_type": "code",
   "execution_count": 39,
   "id": "e854aa07-bda7-4714-bf3e-264a3285aaba",
   "metadata": {},
   "outputs": [
    {
     "data": {
      "text/plain": [
       "{'name': 'prateek', 'age': 24, 'nationality': 'Indian'}"
      ]
     },
     "execution_count": 39,
     "metadata": {},
     "output_type": "execute_result"
    }
   ],
   "source": [
    "user_info"
   ]
  },
  {
   "cell_type": "code",
   "execution_count": null,
   "id": "669fa482-3ca7-4a49-b33a-fdb6852b0ae0",
   "metadata": {},
   "outputs": [],
   "source": []
  },
  {
   "cell_type": "code",
   "execution_count": 87,
   "id": "703e4da8-a9d4-45a0-a609-577d6b15fd2c",
   "metadata": {},
   "outputs": [
    {
     "data": {
      "text/plain": [
       "{'name': 'prateek',\n",
       " 'age': 24,\n",
       " 'nationality': 'Indian',\n",
       " 'hobby': ['coding', 'singing', 'dancing'],\n",
       " 'salary': 6000,\n",
       " 'department': 'sales',\n",
       " 'eStatus': True}"
      ]
     },
     "execution_count": 87,
     "metadata": {},
     "output_type": "execute_result"
    }
   ],
   "source": [
    "user_info"
   ]
  },
  {
   "cell_type": "code",
   "execution_count": 89,
   "id": "ec333e91-fe6c-4e5d-aaf2-99cefebf9267",
   "metadata": {},
   "outputs": [
    {
     "data": {
      "text/plain": [
       "['coding', 'singing', 'dancing']"
      ]
     },
     "execution_count": 89,
     "metadata": {},
     "output_type": "execute_result"
    }
   ],
   "source": [
    "user_info[\"hobby\"]"
   ]
  },
  {
   "cell_type": "code",
   "execution_count": null,
   "id": "660c229d-f87c-4328-b5d1-629f12e7c1c3",
   "metadata": {},
   "outputs": [],
   "source": []
  },
  {
   "cell_type": "code",
   "execution_count": 92,
   "id": "5e7e1150-d5d5-4224-99e6-3fee98466d07",
   "metadata": {},
   "outputs": [],
   "source": [
    "# Dictionary functions:"
   ]
  },
  {
   "cell_type": "code",
   "execution_count": 94,
   "id": "d5ce443e-e9ba-4401-b06e-e8dc6df9576e",
   "metadata": {},
   "outputs": [
    {
     "data": {
      "text/plain": [
       "{'name': 'prateek',\n",
       " 'age': 24,\n",
       " 'nationality': 'Indian',\n",
       " 'hobby': ['coding', 'singing', 'dancing'],\n",
       " 'salary': 6000,\n",
       " 'department': 'sales',\n",
       " 'eStatus': True}"
      ]
     },
     "execution_count": 94,
     "metadata": {},
     "output_type": "execute_result"
    }
   ],
   "source": [
    "user_info"
   ]
  },
  {
   "cell_type": "code",
   "execution_count": 96,
   "id": "2f11bbdf-84f9-4f06-bf64-2a063eec184e",
   "metadata": {},
   "outputs": [
    {
     "data": {
      "text/plain": [
       "dict_keys(['name', 'age', 'nationality', 'hobby', 'salary', 'department', 'eStatus'])"
      ]
     },
     "execution_count": 96,
     "metadata": {},
     "output_type": "execute_result"
    }
   ],
   "source": [
    "user_info.keys()"
   ]
  },
  {
   "cell_type": "code",
   "execution_count": 98,
   "id": "362ba294-2122-4ce9-9c4f-e5e0028268d2",
   "metadata": {},
   "outputs": [
    {
     "data": {
      "text/plain": [
       "dict_values(['prateek', 24, 'Indian', ['coding', 'singing', 'dancing'], 6000, 'sales', True])"
      ]
     },
     "execution_count": 98,
     "metadata": {},
     "output_type": "execute_result"
    }
   ],
   "source": [
    "user_info.values()"
   ]
  },
  {
   "cell_type": "code",
   "execution_count": 100,
   "id": "5e092352-fd9d-4186-94e8-753e26d359db",
   "metadata": {},
   "outputs": [
    {
     "data": {
      "text/plain": [
       "dict_items([('name', 'prateek'), ('age', 24), ('nationality', 'Indian'), ('hobby', ['coding', 'singing', 'dancing']), ('salary', 6000), ('department', 'sales'), ('eStatus', True)])"
      ]
     },
     "execution_count": 100,
     "metadata": {},
     "output_type": "execute_result"
    }
   ],
   "source": [
    "user_info.items()"
   ]
  },
  {
   "cell_type": "code",
   "execution_count": 102,
   "id": "71d1b8f8-32a8-4804-ac0b-c7e46d021488",
   "metadata": {},
   "outputs": [
    {
     "data": {
      "text/plain": [
       "dict_values(['prateek', 24, 'Indian', ['coding', 'singing', 'dancing'], 6000, 'sales', True])"
      ]
     },
     "execution_count": 102,
     "metadata": {},
     "output_type": "execute_result"
    }
   ],
   "source": [
    "user_info.values()"
   ]
  },
  {
   "cell_type": "code",
   "execution_count": 104,
   "id": "2a85531a-0166-4672-b81d-82c37df34473",
   "metadata": {},
   "outputs": [
    {
     "data": {
      "text/plain": [
       "dict_items([('name', 'prateek'), ('age', 24), ('nationality', 'Indian'), ('hobby', ['coding', 'singing', 'dancing']), ('salary', 6000), ('department', 'sales'), ('eStatus', True)])"
      ]
     },
     "execution_count": 104,
     "metadata": {},
     "output_type": "execute_result"
    }
   ],
   "source": [
    "user_info.items()"
   ]
  },
  {
   "cell_type": "code",
   "execution_count": 106,
   "id": "74bf1845-9f19-4629-aaab-57dd4730f3e5",
   "metadata": {},
   "outputs": [
    {
     "data": {
      "text/plain": [
       "[('name', 'prateek'),\n",
       " ('age', 24),\n",
       " ('nationality', 'Indian'),\n",
       " ('hobby', ['coding', 'singing', 'dancing']),\n",
       " ('salary', 6000),\n",
       " ('department', 'sales'),\n",
       " ('eStatus', True)]"
      ]
     },
     "execution_count": 106,
     "metadata": {},
     "output_type": "execute_result"
    }
   ],
   "source": [
    "list(user_info.items())"
   ]
  },
  {
   "cell_type": "code",
   "execution_count": 41,
   "id": "13446427-d1be-4850-a0ae-593c09eb8d64",
   "metadata": {},
   "outputs": [
    {
     "data": {
      "text/plain": [
       "{'name': 'prateek', 'age': 24, 'nationality': 'Indian'}"
      ]
     },
     "execution_count": 41,
     "metadata": {},
     "output_type": "execute_result"
    }
   ],
   "source": [
    "user_info"
   ]
  },
  {
   "cell_type": "code",
   "execution_count": 110,
   "id": "e94cf357-3f86-4913-9a36-cdd02f68a58f",
   "metadata": {},
   "outputs": [
    {
     "name": "stdout",
     "output_type": "stream",
     "text": [
      "name\n",
      "age\n",
      "nationality\n",
      "hobby\n",
      "salary\n",
      "department\n",
      "eStatus\n"
     ]
    }
   ],
   "source": [
    "for i in user_info:\n",
    "    print(i)"
   ]
  },
  {
   "cell_type": "code",
   "execution_count": 112,
   "id": "03ac1699-239d-4cb6-9c93-505efd312c97",
   "metadata": {},
   "outputs": [
    {
     "name": "stdout",
     "output_type": "stream",
     "text": [
      "prateek\n",
      "24\n",
      "Indian\n",
      "['coding', 'singing', 'dancing']\n",
      "6000\n",
      "sales\n",
      "True\n"
     ]
    }
   ],
   "source": [
    "for i in user_info.values():\n",
    "    print(i)"
   ]
  },
  {
   "cell_type": "code",
   "execution_count": 114,
   "id": "ae8c5a6d-5165-4552-9510-e28bee4865a1",
   "metadata": {},
   "outputs": [
    {
     "name": "stdout",
     "output_type": "stream",
     "text": [
      "name : prateek\n",
      "age : 24\n",
      "nationality : Indian\n",
      "hobby : ['coding', 'singing', 'dancing']\n",
      "salary : 6000\n",
      "department : sales\n",
      "eStatus : True\n"
     ]
    }
   ],
   "source": [
    "for i in user_info:\n",
    "    print(i, \":\", user_info[i])"
   ]
  },
  {
   "cell_type": "code",
   "execution_count": null,
   "id": "b92ed5ca-b03f-4e73-b070-79c61d0a3429",
   "metadata": {},
   "outputs": [],
   "source": []
  },
  {
   "cell_type": "code",
   "execution_count": 117,
   "id": "55d76093-2b80-4ff5-94c8-c19b29081335",
   "metadata": {},
   "outputs": [
    {
     "name": "stdout",
     "output_type": "stream",
     "text": [
      "('name', 'prateek')\n",
      "('age', 24)\n",
      "('nationality', 'Indian')\n",
      "('hobby', ['coding', 'singing', 'dancing'])\n",
      "('salary', 6000)\n",
      "('department', 'sales')\n",
      "('eStatus', True)\n"
     ]
    }
   ],
   "source": [
    "for i in user_info.items():\n",
    "    print(i)"
   ]
  },
  {
   "cell_type": "code",
   "execution_count": 119,
   "id": "6d91f0a9-aa4a-4fc3-bfb1-1053b5750a2c",
   "metadata": {},
   "outputs": [
    {
     "name": "stdout",
     "output_type": "stream",
     "text": [
      "name prateek\n",
      "age 24\n",
      "nationality Indian\n",
      "hobby ['coding', 'singing', 'dancing']\n",
      "salary 6000\n",
      "department sales\n",
      "eStatus True\n"
     ]
    }
   ],
   "source": [
    "for k, v in user_info.items():\n",
    "    print(k,v)"
   ]
  },
  {
   "cell_type": "code",
   "execution_count": 89,
   "id": "b7e26d1d-9047-4e89-86ff-ff6a7d7cf31b",
   "metadata": {},
   "outputs": [],
   "source": [
    "n = 5"
   ]
  },
  {
   "cell_type": "code",
   "execution_count": 91,
   "id": "b9ed655a-c2e3-4b25-a4b6-5dd21cd88a80",
   "metadata": {},
   "outputs": [
    {
     "name": "stdout",
     "output_type": "stream",
     "text": [
      "*\n",
      "*\n",
      "*\n",
      "*\n",
      "*\n",
      "*\n",
      "*\n",
      "*\n",
      "*\n",
      "*\n",
      "*\n",
      "*\n",
      "*\n",
      "*\n",
      "*\n"
     ]
    }
   ],
   "source": [
    "for i in range(1, n+1):\n",
    "    for j in range(1,i+1):\n",
    "        print(\"*\", end = \"\")\n",
    "        print()"
   ]
  },
  {
   "cell_type": "code",
   "execution_count": 43,
   "id": "d5a66cc6-1d32-460c-9bd8-a17ae679ac98",
   "metadata": {},
   "outputs": [
    {
     "name": "stdout",
     "output_type": "stream",
     "text": [
      "name\n",
      "age\n",
      "nationality\n"
     ]
    }
   ],
   "source": [
    "for i in user_info:\n",
    "    print(i)"
   ]
  },
  {
   "cell_type": "code",
   "execution_count": 45,
   "id": "369db18a-2256-459a-a8a0-8fe3063cb295",
   "metadata": {},
   "outputs": [
    {
     "name": "stdout",
     "output_type": "stream",
     "text": [
      "prateek\n",
      "24\n",
      "Indian\n"
     ]
    }
   ],
   "source": [
    "for k,v in user_info.items():\n",
    "    print(user_info[k])"
   ]
  },
  {
   "cell_type": "code",
   "execution_count": 47,
   "id": "861d121f-c393-4d6e-9199-379d52e61b63",
   "metadata": {},
   "outputs": [
    {
     "name": "stdout",
     "output_type": "stream",
     "text": [
      "name = prateek\n",
      "age = 24\n",
      "nationality = Indian\n"
     ]
    }
   ],
   "source": [
    "for k,v in user_info.items():\n",
    "    print(k, \"=\", v)"
   ]
  },
  {
   "cell_type": "code",
   "execution_count": 87,
   "id": "6d99e1c9-8f71-40a4-be7d-8010d9e0de03",
   "metadata": {},
   "outputs": [
    {
     "name": "stdout",
     "output_type": "stream",
     "text": [
      "name = pooja\n",
      "age = 24\n",
      "nationality = Indian\n"
     ]
    }
   ],
   "source": [
    "for k,v in user_info.items():\n",
    "    print(k, \"=\", v)"
   ]
  },
  {
   "cell_type": "code",
   "execution_count": null,
   "id": "d49eb7b3-df2e-41ac-8519-bdf38811b01d",
   "metadata": {},
   "outputs": [],
   "source": []
  },
  {
   "cell_type": "code",
   "execution_count": 131,
   "id": "dbb2e81c-3f90-4303-b809-c42e7a3591dd",
   "metadata": {},
   "outputs": [],
   "source": [
    "# Nested Dictionary:"
   ]
  },
  {
   "cell_type": "code",
   "execution_count": 81,
   "id": "e2fab7d3-4254-4b32-927d-319e7b21e17e",
   "metadata": {},
   "outputs": [],
   "source": [
    "canteen_menu = {\n",
    "    \"samosa\" : 20, \n",
    "    \"pizza\"  : 100,\n",
    "    \"burger\" : 40,\n",
    "    \"fruits\" : {\n",
    "        \"apple\" : 120,\n",
    "        \"mango\" : 80,\n",
    "        \"banana\" : 120\n",
    "    },\n",
    "    \"momo\" : {\n",
    "        \"veg\" : {\n",
    "            \"steam\" :  60,\n",
    "            \"paneer\" : { \n",
    "                \"simplepaneer\" : 130,\n",
    "                \"friedpaneer\" : 410,\n",
    "            }\n",
    "        },\n",
    "        \"non-veg\" : {\n",
    "            \"chicken\" : 450, \n",
    "            \"mutton_momo\" : 600,\n",
    "            \"kurkure\" : 500\n",
    "\n",
    "        }\n",
    "\n",
    "    }\n",
    "\n",
    "}"
   ]
  },
  {
   "cell_type": "code",
   "execution_count": 83,
   "id": "9177b240-5b98-4c06-8ead-f82c8ba163d9",
   "metadata": {},
   "outputs": [
    {
     "data": {
      "text/plain": [
       "{'samosa': 20,\n",
       " 'pizza': 100,\n",
       " 'burger': 40,\n",
       " 'fruits': {'apple': 120, 'mango': 80, 'banana': 120},\n",
       " 'momo': {'veg': {'steam': 60,\n",
       "   'paneer': {'simplepaneer': 130, 'friedpaneer': 410}},\n",
       "  'non-veg': {'chicken': 450, 'mutton_momo': 600, 'kurkure': 500}}}"
      ]
     },
     "execution_count": 83,
     "metadata": {},
     "output_type": "execute_result"
    }
   ],
   "source": [
    "canteen_menu"
   ]
  },
  {
   "cell_type": "code",
   "execution_count": 29,
   "id": "12af0351-dd33-4cd5-b0fc-5f2570e22d0a",
   "metadata": {},
   "outputs": [
    {
     "data": {
      "text/plain": [
       "130"
      ]
     },
     "execution_count": 29,
     "metadata": {},
     "output_type": "execute_result"
    }
   ],
   "source": [
    "canteen_menu[\"momo\"][\"veg\"][\"paneer\"][\"simplepaneer\"]"
   ]
  },
  {
   "cell_type": "code",
   "execution_count": null,
   "id": "69a0041b-4dc6-4dda-b22c-f8b469459a91",
   "metadata": {},
   "outputs": [],
   "source": []
  },
  {
   "cell_type": "code",
   "execution_count": 5,
   "id": "07502f9f-a2db-4281-9a34-7531f8cdf672",
   "metadata": {},
   "outputs": [],
   "source": [
    "canteen_menu = {\n",
    "    \"samosa\" : 30,\n",
    "    \"pizza\" : 120,\n",
    "    \"burger\" : 50,\n",
    "    \"fruits\" : {\n",
    "        \"apple\" : 150,\n",
    "        \"banana\" : 60,\n",
    "        \"grapes\" : 200,\n",
    "\n",
    "    },\n",
    "    \"Momo\" : { \n",
    "        \"veg\" : {\n",
    "            \"paneer_momo\" : 200,\n",
    "            \"tandori_momo\" : 250,\n",
    "            \"malai_momo\" : {\n",
    "                \"paneer_ mali\" : 450,\n",
    "                \" kurkure_ momo\" : 500,\n",
    "\n",
    "            }\n",
    "\n",
    "        },\n",
    "        \"non-veg\" : {\n",
    "            \"chicken\" : {\n",
    "                \"malai_chickrn\" : 600,\n",
    "                \"chicken_boneless\" : 800,\n",
    "                \"keema_chicken\" : 1000,\n",
    "                \"mutton\" : {\n",
    "                    \"mutton_chaap_momo\" : 300,\n",
    "                    \"mutton_malai_momo\" : 500,\n",
    "\n",
    "                }\n",
    "\n",
    "            }\n",
    "\n",
    "        }\n",
    "\n",
    "    }\n",
    "\n",
    "}"
   ]
  },
  {
   "cell_type": "code",
   "execution_count": 34,
   "id": "34df3525-ab3f-4694-b602-bdde8859a9d2",
   "metadata": {},
   "outputs": [
    {
     "data": {
      "text/plain": [
       "{'samosa': 30,\n",
       " 'pizza': 120,\n",
       " 'burger': 50,\n",
       " 'fruits': {'apple': 150, 'banana': 60, 'grapes': 200},\n",
       " 'Momo': {'veg': {'paneer_momo': 200,\n",
       "   'tandori_momo': 250,\n",
       "   'malai_momo': {'paneer_ mali': 450, ' kurkure_ momo': 500}},\n",
       "  'non-veg': {'chicken': {'malai_chickrn': 600,\n",
       "    'chicken_boneless': 800,\n",
       "    'keema_chicken': 1000,\n",
       "    'mutton': {'mutton_chaap_momo': 300, 'mutton_malai_momo': 500}}}}}"
      ]
     },
     "execution_count": 34,
     "metadata": {},
     "output_type": "execute_result"
    }
   ],
   "source": [
    "canteen_menu"
   ]
  },
  {
   "cell_type": "code",
   "execution_count": 85,
   "id": "b34fa6a2-d6ee-4fa9-ba43-1de7168eca35",
   "metadata": {},
   "outputs": [
    {
     "data": {
      "text/plain": [
       "{'samosa': 20,\n",
       " 'pizza': 100,\n",
       " 'burger': 40,\n",
       " 'fruits': {'apple': 120, 'mango': 80, 'banana': 120},\n",
       " 'momo': {'veg': {'steam': 60,\n",
       "   'paneer': {'simplepaneer': 130, 'friedpaneer': 410}},\n",
       "  'non-veg': {'chicken': 450, 'mutton_momo': 600, 'kurkure': 500}}}"
      ]
     },
     "execution_count": 85,
     "metadata": {},
     "output_type": "execute_result"
    }
   ],
   "source": [
    "canteen_menu"
   ]
  },
  {
   "cell_type": "code",
   "execution_count": 7,
   "id": "821dc43b-9e15-4a62-a593-98d7ba62efa0",
   "metadata": {},
   "outputs": [
    {
     "data": {
      "text/plain": [
       "{'samosa': 30,\n",
       " 'pizza': 120,\n",
       " 'burger': 50,\n",
       " 'fruits': {'apple': 150, 'banana': 60, 'grapes': 200},\n",
       " 'Momo': {'veg': {'paneer_momo': 200,\n",
       "   'tandori_momo': 250,\n",
       "   'malai_momo': {'paneer_ mali': 450, ' kurkure_ momo': 500}},\n",
       "  'non-veg': {'chicken': {'malai_chickrn': 600,\n",
       "    'chicken_boneless': 800,\n",
       "    'keema_chicken': 1000,\n",
       "    'mutton': {'mutton_chaap_momo': 300, 'mutton_malai_momo': 500}}}}}"
      ]
     },
     "execution_count": 7,
     "metadata": {},
     "output_type": "execute_result"
    }
   ],
   "source": [
    "canteen_menu"
   ]
  },
  {
   "cell_type": "code",
   "execution_count": 11,
   "id": "dd396fe2-f5ee-44d2-a26c-33001f447992",
   "metadata": {},
   "outputs": [],
   "source": [
    "# Remove Keys: "
   ]
  },
  {
   "cell_type": "code",
   "execution_count": 49,
   "id": "bb356697-0298-4a97-953b-7ffa0b377658",
   "metadata": {},
   "outputs": [],
   "source": [
    "del user_info[\"nationality\"]"
   ]
  },
  {
   "cell_type": "code",
   "execution_count": 51,
   "id": "e60fed3e-9fa8-4c6f-86dd-cdd9fa37fc81",
   "metadata": {},
   "outputs": [
    {
     "data": {
      "text/plain": [
       "{'name': 'prateek', 'age': 24}"
      ]
     },
     "execution_count": 51,
     "metadata": {},
     "output_type": "execute_result"
    }
   ],
   "source": [
    "user_info"
   ]
  },
  {
   "cell_type": "code",
   "execution_count": 53,
   "id": "bef7c4bf-5346-447f-9c7a-c36d94e8dd7a",
   "metadata": {},
   "outputs": [
    {
     "data": {
      "text/plain": [
       "24"
      ]
     },
     "execution_count": 53,
     "metadata": {},
     "output_type": "execute_result"
    }
   ],
   "source": [
    "user_info.pop(\"age\")"
   ]
  },
  {
   "cell_type": "code",
   "execution_count": 55,
   "id": "7d776362-3760-4516-a589-d35d4a0f749d",
   "metadata": {},
   "outputs": [
    {
     "data": {
      "text/plain": [
       "{'name': 'prateek'}"
      ]
     },
     "execution_count": 55,
     "metadata": {},
     "output_type": "execute_result"
    }
   ],
   "source": [
    "user_info"
   ]
  },
  {
   "cell_type": "code",
   "execution_count": null,
   "id": "d8e3f598-fd2c-4a28-85ab-33ec7f605b8d",
   "metadata": {},
   "outputs": [],
   "source": []
  },
  {
   "cell_type": "code",
   "execution_count": 58,
   "id": "c22f951a-6770-4178-b893-5af49888a516",
   "metadata": {},
   "outputs": [],
   "source": [
    "# Dictionary Comprestion:"
   ]
  },
  {
   "cell_type": "code",
   "execution_count": 60,
   "id": "b8948821-6cb1-4cfb-9b5f-37751cf3c33e",
   "metadata": {},
   "outputs": [],
   "source": [
    "h = {\"a\":1, \"b\":2, \"c\":3, \"d\":4, \"e\":5, \"f\":6, \"g\":7}"
   ]
  },
  {
   "cell_type": "code",
   "execution_count": 62,
   "id": "1516c3d9-4e4a-40d7-aff2-c8a07d79efd3",
   "metadata": {},
   "outputs": [
    {
     "data": {
      "text/plain": [
       "{'a': 1, 'b': 2, 'c': 3, 'd': 4, 'e': 5, 'f': 6, 'g': 7}"
      ]
     },
     "execution_count": 62,
     "metadata": {},
     "output_type": "execute_result"
    }
   ],
   "source": [
    "h"
   ]
  },
  {
   "cell_type": "code",
   "execution_count": 64,
   "id": "9f96c48e-60db-407a-88de-7d6f88085d10",
   "metadata": {},
   "outputs": [],
   "source": [
    "d = {}\n",
    "for k,v in h.items():\n",
    "    if v>=3:\n",
    "        d[k] =v"
   ]
  },
  {
   "cell_type": "code",
   "execution_count": 66,
   "id": "742f1955-b93a-4e0c-98aa-1a6285662ab0",
   "metadata": {},
   "outputs": [
    {
     "data": {
      "text/plain": [
       "{'c': 3, 'd': 4, 'e': 5, 'f': 6, 'g': 7}"
      ]
     },
     "execution_count": 66,
     "metadata": {},
     "output_type": "execute_result"
    }
   ],
   "source": [
    "d"
   ]
  },
  {
   "cell_type": "code",
   "execution_count": 70,
   "id": "ebb0b702-ff73-4d73-94ac-fdc12b137d94",
   "metadata": {},
   "outputs": [
    {
     "data": {
      "text/plain": [
       "{'c': 3, 'd': 4, 'e': 5, 'f': 6, 'g': 7}"
      ]
     },
     "execution_count": 70,
     "metadata": {},
     "output_type": "execute_result"
    }
   ],
   "source": [
    "{k:v for k,v in h.items() if v>2} "
   ]
  },
  {
   "cell_type": "code",
   "execution_count": 72,
   "id": "9cda275c-3366-4c36-ac5b-eedd71009a1d",
   "metadata": {},
   "outputs": [],
   "source": [
    "h = {\"a\":1, \"b\":2, \"c\":3, \"d\":4, \"e\":5, \"f\":6, \"g\":7}"
   ]
  },
  {
   "cell_type": "code",
   "execution_count": 74,
   "id": "8d4dec82-b3a1-4cda-9d7e-350bd95ca8ef",
   "metadata": {},
   "outputs": [],
   "source": [
    "p = {}\n",
    "for k,v in h.items():\n",
    "    p[v] = k"
   ]
  },
  {
   "cell_type": "code",
   "execution_count": 76,
   "id": "33912902-2fb2-4576-909f-e122498b55de",
   "metadata": {},
   "outputs": [
    {
     "data": {
      "text/plain": [
       "{1: 'a', 2: 'b', 3: 'c', 4: 'd', 5: 'e', 6: 'f', 7: 'g'}"
      ]
     },
     "execution_count": 76,
     "metadata": {},
     "output_type": "execute_result"
    }
   ],
   "source": [
    "p"
   ]
  },
  {
   "cell_type": "code",
   "execution_count": 80,
   "id": "67cefb68-c905-43a3-8a7e-8ac498db2315",
   "metadata": {},
   "outputs": [
    {
     "data": {
      "text/plain": [
       "{1: 'a', 2: 'b', 3: 'c', 4: 'd', 5: 'e', 6: 'f', 7: 'g'}"
      ]
     },
     "execution_count": 80,
     "metadata": {},
     "output_type": "execute_result"
    }
   ],
   "source": [
    "{v:k for k,v in h.items()}"
   ]
  },
  {
   "cell_type": "code",
   "execution_count": 82,
   "id": "226bfe45-b65b-4a0e-9898-b4368c60603d",
   "metadata": {},
   "outputs": [],
   "source": [
    "# Multilevel Indexing:"
   ]
  },
  {
   "cell_type": "code",
   "execution_count": 84,
   "id": "328f19a0-c84d-44b7-9504-3725ab096600",
   "metadata": {},
   "outputs": [
    {
     "ename": "KeyError",
     "evalue": "'momo'",
     "output_type": "error",
     "traceback": [
      "\u001b[1;31m---------------------------------------------------------------------------\u001b[0m",
      "\u001b[1;31mKeyError\u001b[0m                                  Traceback (most recent call last)",
      "Cell \u001b[1;32mIn[84], line 1\u001b[0m\n\u001b[1;32m----> 1\u001b[0m canteen_menu[\u001b[38;5;124m\"\u001b[39m\u001b[38;5;124mmomo\u001b[39m\u001b[38;5;124m\"\u001b[39m][\u001b[38;5;124m\"\u001b[39m\u001b[38;5;124mveg\u001b[39m\u001b[38;5;124m\"\u001b[39m][\u001b[38;5;124m\"\u001b[39m\u001b[38;5;124mmalai_momo\u001b[39m\u001b[38;5;124m\"\u001b[39m][\u001b[38;5;124m\"\u001b[39m\u001b[38;5;124mkurkure_momo\u001b[39m\u001b[38;5;124m\"\u001b[39m]\n",
      "\u001b[1;31mKeyError\u001b[0m: 'momo'"
     ]
    }
   ],
   "source": [
    "canteen_menu[\"momo\"][\"veg\"][\"malai_momo\"][\"kurkure_momo\"]"
   ]
  },
  {
   "cell_type": "code",
   "execution_count": null,
   "id": "a98d1664-a2b8-4842-811f-aea25fcb47e5",
   "metadata": {},
   "outputs": [],
   "source": []
  },
  {
   "cell_type": "code",
   "execution_count": null,
   "id": "ee07bbd1-2fe6-4bb6-8dab-4a70309479c4",
   "metadata": {},
   "outputs": [],
   "source": []
  },
  {
   "cell_type": "code",
   "execution_count": null,
   "id": "f81c8054-96a4-4c3a-8947-e5132cb14098",
   "metadata": {},
   "outputs": [],
   "source": []
  },
  {
   "cell_type": "code",
   "execution_count": null,
   "id": "5c724fe4-2c00-41f9-b02a-35adc806c93d",
   "metadata": {},
   "outputs": [],
   "source": [
    "\n",
    " s = \"abbcccddddeeeeeffffffgggggggghhhhhhhhiiiiiiiiii\"\n",
    "\n",
    "*covert into dictionary\n",
    "*both ways 1. normal\n",
    "           2. comprehension"
   ]
  },
  {
   "cell_type": "code",
   "execution_count": 11,
   "id": "8848e954-2efb-4378-af05-9cacba67eb38",
   "metadata": {},
   "outputs": [
    {
     "name": "stdout",
     "output_type": "stream",
     "text": [
      "{'a': 1, 'b': 2, 'c': 3, 'd': 4, 'e': 5, 'f': 6, 'g': 8, 'h': 8, 'i': 10}\n"
     ]
    }
   ],
   "source": [
    "s = \"abbcccddddeeeeeffffffgggggggghhhhhhhhiiiiiiiiii\"\n",
    "\n",
    "dict_normal = {}\n",
    "for i in s:\n",
    "    if i in dict_normal:\n",
    "        dict_normal[i] += 1\n",
    "    else:\n",
    "        dict_normal[i] = 1\n",
    "\n",
    "print(dict_normal)"
   ]
  },
  {
   "cell_type": "code",
   "execution_count": 13,
   "id": "b6f4926d-a184-4c78-852c-5412d875ad17",
   "metadata": {},
   "outputs": [],
   "source": [
    "# Remove keys:"
   ]
  },
  {
   "cell_type": "code",
   "execution_count": 21,
   "id": "7eeaf078-e57d-43e3-9acf-f93e2d2a3731",
   "metadata": {},
   "outputs": [
    {
     "ename": "SyntaxError",
     "evalue": "incomplete input (2800324150.py, line 2)",
     "output_type": "error",
     "traceback": [
      "\u001b[1;36m  Cell \u001b[1;32mIn[21], line 2\u001b[1;36m\u001b[0m\n\u001b[1;33m    for k,v in h.items():\u001b[0m\n\u001b[1;37m                         ^\u001b[0m\n\u001b[1;31mSyntaxError\u001b[0m\u001b[1;31m:\u001b[0m incomplete input\n"
     ]
    }
   ],
   "source": [
    "y = {}\n",
    "for k,v in h.items():"
   ]
  },
  {
   "cell_type": "code",
   "execution_count": null,
   "id": "b6436895-693e-4051-8a0f-d8666305f2da",
   "metadata": {},
   "outputs": [],
   "source": []
  },
  {
   "cell_type": "code",
   "execution_count": 1,
   "id": "3d372d64-0259-473d-9668-1b988dc0c716",
   "metadata": {},
   "outputs": [],
   "source": [
    "# *\n",
    "# **\n",
    "# ***\n",
    "# ****\n",
    "# *****"
   ]
  },
  {
   "cell_type": "code",
   "execution_count": 5,
   "id": "65069357-525f-48cd-9a91-af2ff328eba9",
   "metadata": {},
   "outputs": [
    {
     "name": "stdin",
     "output_type": "stream",
     "text": [
      "Enter any number: 5\n"
     ]
    }
   ],
   "source": [
    "n = int(input(\"Enter any number:\"))"
   ]
  },
  {
   "cell_type": "code",
   "execution_count": 7,
   "id": "a76c9489-379d-406c-acb5-52764036f656",
   "metadata": {},
   "outputs": [
    {
     "name": "stdout",
     "output_type": "stream",
     "text": [
      "*\n",
      "*\n",
      "*\n",
      "*\n",
      "*\n",
      "*\n",
      "*\n",
      "*\n",
      "*\n",
      "*\n",
      "*\n",
      "*\n",
      "*\n",
      "*\n",
      "*\n"
     ]
    }
   ],
   "source": [
    "for i in range(1,n+1):\n",
    "    for j in range(i):\n",
    "        print(\"*\", end=\"\")\n",
    "        print()"
   ]
  },
  {
   "cell_type": "code",
   "execution_count": 9,
   "id": "2241920d-e518-4f63-b618-f223af5198f5",
   "metadata": {},
   "outputs": [
    {
     "data": {
      "text/plain": [
       "'***'"
      ]
     },
     "execution_count": 9,
     "metadata": {},
     "output_type": "execute_result"
    }
   ],
   "source": [
    "\"*\"*3"
   ]
  },
  {
   "cell_type": "code",
   "execution_count": 11,
   "id": "0511c414-6c11-48cb-8d93-ea17484dd101",
   "metadata": {},
   "outputs": [
    {
     "name": "stdout",
     "output_type": "stream",
     "text": [
      "*\n",
      "**\n",
      "***\n",
      "****\n",
      "*****\n"
     ]
    }
   ],
   "source": [
    "for i in range(1, n+1):\n",
    "    print(\"*\"*i)"
   ]
  },
  {
   "cell_type": "code",
   "execution_count": 13,
   "id": "1af7f065-fcdf-4568-b403-e001d4f1d6d8",
   "metadata": {},
   "outputs": [
    {
     "name": "stdout",
     "output_type": "stream",
     "text": [
      "1\n",
      "12\n",
      "123\n",
      "1234\n",
      "12345\n"
     ]
    }
   ],
   "source": [
    "for i in range(1,n+1):\n",
    "    for j in range(1, i+1):\n",
    "        print(j, end=\"\")\n",
    "    print()"
   ]
  },
  {
   "cell_type": "code",
   "execution_count": null,
   "id": "bf1c0dff-2a05-48c9-8302-2362c39293de",
   "metadata": {},
   "outputs": [],
   "source": []
  },
  {
   "cell_type": "code",
   "execution_count": 24,
   "id": "0213cae0-0d45-4e9d-85b9-07f284003a4e",
   "metadata": {},
   "outputs": [],
   "source": [
    "# 1\n",
    "# 23\n",
    "# 456\n",
    "# 78910\n",
    "# 1112131415"
   ]
  },
  {
   "cell_type": "code",
   "execution_count": 26,
   "id": "ebeb9403-44bd-440a-b546-ff60709d622b",
   "metadata": {},
   "outputs": [
    {
     "name": "stdout",
     "output_type": "stream",
     "text": [
      "1\n",
      "2\n",
      "3\n",
      "4\n",
      "5\n",
      "6\n",
      "7\n",
      "8\n",
      "9\n",
      "10\n",
      "11\n",
      "12\n",
      "13\n",
      "14\n",
      "15\n"
     ]
    }
   ],
   "source": [
    "k = 1\n",
    "for i in range(1,n+1):\n",
    "    for j in range(1, i+1):\n",
    "        print(k, end=\"\")\n",
    "        k+=1\n",
    "        print()"
   ]
  },
  {
   "cell_type": "code",
   "execution_count": null,
   "id": "880ee30e-3f79-4a30-814d-bdb55d200db2",
   "metadata": {},
   "outputs": [],
   "source": [
    "Homework : \n",
    "s = \"abbcccddddeeeeeffffffgggggggghhhhhhhhiiiiiiiiii\"\n",
    "\n",
    "* convert into dictionary\n",
    "* both ways 1. normal\n",
    "            2. Compreshension"
   ]
  },
  {
   "cell_type": "code",
   "execution_count": 1,
   "id": "f5127f08-dac3-4ec8-9cfe-416d8971858b",
   "metadata": {},
   "outputs": [],
   "source": [
    "h = {\"a\":1 , \"b\":2, \"c\":3, \"d\":4, \"e\":5, \"f\":6, \"g\":7, \"h\":8, \"i\":9}"
   ]
  },
  {
   "cell_type": "code",
   "execution_count": null,
   "id": "77238264-6f0c-437f-a87e-80203ea7b254",
   "metadata": {},
   "outputs": [],
   "source": []
  }
 ],
 "metadata": {
  "kernelspec": {
   "display_name": "Python [conda env:base] *",
   "language": "python",
   "name": "conda-base-py"
  },
  "language_info": {
   "codemirror_mode": {
    "name": "ipython",
    "version": 3
   },
   "file_extension": ".py",
   "mimetype": "text/x-python",
   "name": "python",
   "nbconvert_exporter": "python",
   "pygments_lexer": "ipython3",
   "version": "3.12.7"
  }
 },
 "nbformat": 4,
 "nbformat_minor": 5
}
