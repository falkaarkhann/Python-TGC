{
 "cells": [
  {
   "cell_type": "code",
   "execution_count": 1,
   "id": "0ea96d55-4828-404f-9e06-5e5f772f37dd",
   "metadata": {},
   "outputs": [
    {
     "name": "stdout",
     "output_type": "stream",
     "text": [
      "10\n"
     ]
    }
   ],
   "source": [
    "print(10)"
   ]
  },
  {
   "cell_type": "code",
   "execution_count": 2,
   "id": "26795d40-b044-40db-b5fc-7f12d7bb4be6",
   "metadata": {},
   "outputs": [
    {
     "name": "stdout",
     "output_type": "stream",
     "text": [
      "23\n"
     ]
    }
   ],
   "source": [
    "print(23)"
   ]
  },
  {
   "cell_type": "code",
   "execution_count": 4,
   "id": "e2fc417b-e99c-475a-9232-e49a9c26684c",
   "metadata": {},
   "outputs": [
    {
     "name": "stdout",
     "output_type": "stream",
     "text": [
      "23.6\n"
     ]
    }
   ],
   "source": [
    "print(23.6)"
   ]
  },
  {
   "cell_type": "code",
   "execution_count": 5,
   "id": "4d48db53-e25b-42ae-820a-0d63a8949b30",
   "metadata": {},
   "outputs": [
    {
     "name": "stdout",
     "output_type": "stream",
     "text": [
      "78\n"
     ]
    }
   ],
   "source": [
    "print(78)"
   ]
  },
  {
   "cell_type": "code",
   "execution_count": 7,
   "id": "e68ce488-e4bf-4461-8b33-1979863d5a89",
   "metadata": {},
   "outputs": [
    {
     "name": "stdout",
     "output_type": "stream",
     "text": [
      "True\n"
     ]
    }
   ],
   "source": [
    "print(True)"
   ]
  },
  {
   "cell_type": "code",
   "execution_count": 8,
   "id": "37d93a6c-ac4d-47de-b09b-e8d76e5cacb9",
   "metadata": {},
   "outputs": [
    {
     "name": "stdout",
     "output_type": "stream",
     "text": [
      "False\n"
     ]
    }
   ],
   "source": [
    "print(False)"
   ]
  },
  {
   "cell_type": "code",
   "execution_count": 10,
   "id": "5eb4d77a-84d9-463a-ad71-aced9cbd5994",
   "metadata": {},
   "outputs": [
    {
     "name": "stdout",
     "output_type": "stream",
     "text": [
      "Python is fun\n"
     ]
    }
   ],
   "source": [
    "print('Python is fun')"
   ]
  },
  {
   "cell_type": "code",
   "execution_count": 11,
   "id": "e75f59e6-49a6-442a-8913-c85912f853bf",
   "metadata": {},
   "outputs": [
    {
     "name": "stdout",
     "output_type": "stream",
     "text": [
      "We are going to learn data types\n"
     ]
    }
   ],
   "source": [
    "print(\"We are going to learn data types\")"
   ]
  },
  {
   "cell_type": "code",
   "execution_count": 14,
   "id": "11d9f72e-ffa0-42b7-b67a-a83bf70a20f9",
   "metadata": {},
   "outputs": [
    {
     "name": "stdout",
     "output_type": "stream",
     "text": [
      "alex\n"
     ]
    }
   ],
   "source": [
    "print(\"\"\"alex\"\"\")"
   ]
  },
  {
   "cell_type": "code",
   "execution_count": 16,
   "id": "4e675f86-c87a-4eca-bfe6-63c3c3195352",
   "metadata": {},
   "outputs": [
    {
     "name": "stdout",
     "output_type": "stream",
     "text": [
      "R15\n"
     ]
    }
   ],
   "source": [
    "print('R15')"
   ]
  },
  {
   "cell_type": "code",
   "execution_count": 19,
   "id": "c4bb2e52-a76a-48b6-9339-df88ca2cc2f0",
   "metadata": {},
   "outputs": [
    {
     "name": "stdout",
     "output_type": "stream",
     "text": [
      "hello FalkaR\n"
     ]
    }
   ],
   "source": [
    "print('hello FalkaR')"
   ]
  },
  {
   "cell_type": "code",
   "execution_count": 20,
   "id": "e7cc69fb-0042-4ace-867d-eaab1b15f585",
   "metadata": {},
   "outputs": [
    {
     "name": "stdout",
     "output_type": "stream",
     "text": [
      "10 45 4.5 False\n"
     ]
    }
   ],
   "source": [
    "# this is print function to print some elements\n",
    "\n",
    "print(10, 45, 4.5, False)"
   ]
  },
  {
   "cell_type": "markdown",
   "id": "5639e157-e3f1-45e8-9d63-3b5bd72283dc",
   "metadata": {},
   "source": [
    "print(67, 6.9, True, 'gtr')"
   ]
  },
  {
   "cell_type": "code",
   "execution_count": 1,
   "id": "26ee5b52-cde7-48cd-ae19-f4641c132a1d",
   "metadata": {},
   "outputs": [
    {
     "name": "stdout",
     "output_type": "stream",
     "text": [
      "True False 34 5.9 jk william Jolly KR Mangalam\n"
     ]
    }
   ],
   "source": [
    "print(True, False, 34, 5.9, 'jk william', \"Jolly\", \"\"\"KR Mangalam\"\"\")"
   ]
  },
  {
   "cell_type": "code",
   "execution_count": 2,
   "id": "bb1d98a0-c8f5-40fd-bcbd-9123c3e5cacc",
   "metadata": {},
   "outputs": [
    {
     "name": "stdout",
     "output_type": "stream",
     "text": [
      "34 56 67 4535 Yuva JK23\n"
     ]
    }
   ],
   "source": [
    "print(34, 56, 67, 4535, 'Yuva', \"JK23\")"
   ]
  },
  {
   "cell_type": "code",
   "execution_count": 4,
   "id": "17d292bf-98c6-430c-b61e-39c7c3edacdb",
   "metadata": {},
   "outputs": [
    {
     "name": "stdout",
     "output_type": "stream",
     "text": [
      "1344.5\n"
     ]
    }
   ],
   "source": [
    "print(1344.5)"
   ]
  },
  {
   "cell_type": "code",
   "execution_count": 8,
   "id": "61c66b6a-a12e-44e3-9882-81da6e74cd28",
   "metadata": {},
   "outputs": [
    {
     "name": "stdout",
     "output_type": "stream",
     "text": [
      "9\n"
     ]
    }
   ],
   "source": [
    "print(9)"
   ]
  },
  {
   "cell_type": "code",
   "execution_count": null,
   "id": "af63476b-890c-47dc-9a85-61ba6ef29442",
   "metadata": {},
   "outputs": [],
   "source": []
  },
  {
   "cell_type": "code",
   "execution_count": null,
   "id": "c6c5f84c-10a6-4ecb-a14d-cc1cacce7421",
   "metadata": {},
   "outputs": [],
   "source": []
  },
  {
   "cell_type": "code",
   "execution_count": null,
   "id": "4de33dcc-26ba-43f5-8196-9a554415e6ea",
   "metadata": {},
   "outputs": [],
   "source": []
  },
  {
   "cell_type": "code",
   "execution_count": null,
   "id": "f553c1ba-c2c8-4624-b60d-226dd2a2128c",
   "metadata": {},
   "outputs": [],
   "source": []
  },
  {
   "cell_type": "code",
   "execution_count": null,
   "id": "ef13e7bf-8bb9-4321-b4d3-79e3bca9e2cb",
   "metadata": {},
   "outputs": [],
   "source": []
  },
  {
   "cell_type": "markdown",
   "id": "23757752-e185-4f88-8723-9157ee3b224d",
   "metadata": {},
   "source": [
    "# Data types in Pyhton:\n",
    "\n",
    "* Integer - Perfect Number\n",
    "* Float - Decimal Number\n",
    "* Complex - a+bj\n",
    "* String - It stores text data. Anything we write in single, double, or triple quotes\n",
    "* Boolean - True or False\n",
    "* None - Which is none of the above"
   ]
  },
  {
   "cell_type": "code",
   "execution_count": null,
   "id": "ed194bda-adf6-4705-af0d-81ceb35e7cb9",
   "metadata": {},
   "outputs": [],
   "source": [
    "# Variable: These are the place holder or container to store some data or information"
   ]
  },
  {
   "cell_type": "code",
   "execution_count": 24,
   "id": "5e19b031-22cb-4de9-b024-3fc8a1a1c037",
   "metadata": {},
   "outputs": [],
   "source": [
    "a = 56"
   ]
  },
  {
   "cell_type": "code",
   "execution_count": 25,
   "id": "1042e27b-f854-455c-bcc8-a4728db15e65",
   "metadata": {},
   "outputs": [],
   "source": [
    "b = 78"
   ]
  },
  {
   "cell_type": "code",
   "execution_count": 26,
   "id": "e8a0c261-6c43-4971-9b06-9f1e8c7b699d",
   "metadata": {},
   "outputs": [],
   "source": [
    "c = 67"
   ]
  },
  {
   "cell_type": "code",
   "execution_count": 27,
   "id": "8b938d6e-7c77-43ed-808a-3c72ed028e77",
   "metadata": {},
   "outputs": [],
   "source": [
    "k = 89"
   ]
  },
  {
   "cell_type": "code",
   "execution_count": 28,
   "id": "bce928fc-13f3-43ed-b871-935b9445a112",
   "metadata": {},
   "outputs": [
    {
     "data": {
      "text/plain": [
       "int"
      ]
     },
     "execution_count": 28,
     "metadata": {},
     "output_type": "execute_result"
    }
   ],
   "source": [
    "type(b)"
   ]
  },
  {
   "cell_type": "code",
   "execution_count": 29,
   "id": "8cd6a853-2b5a-4553-bbc0-980d9d7514f5",
   "metadata": {},
   "outputs": [
    {
     "data": {
      "text/plain": [
       "int"
      ]
     },
     "execution_count": 29,
     "metadata": {},
     "output_type": "execute_result"
    }
   ],
   "source": [
    "type(k)"
   ]
  },
  {
   "cell_type": "code",
   "execution_count": 30,
   "id": "a677c9ce-9df4-4a3f-bb95-a113b629b744",
   "metadata": {},
   "outputs": [
    {
     "data": {
      "text/plain": [
       "int"
      ]
     },
     "execution_count": 30,
     "metadata": {},
     "output_type": "execute_result"
    }
   ],
   "source": [
    "type(c)"
   ]
  },
  {
   "cell_type": "code",
   "execution_count": 31,
   "id": "047f79e2-942e-48f2-aebb-a015e7a3fc21",
   "metadata": {},
   "outputs": [],
   "source": [
    "j = 5.6"
   ]
  },
  {
   "cell_type": "code",
   "execution_count": 32,
   "id": "064d7682-54a3-4a7a-89f7-ecb7eb6e3ed4",
   "metadata": {},
   "outputs": [
    {
     "data": {
      "text/plain": [
       "float"
      ]
     },
     "execution_count": 32,
     "metadata": {},
     "output_type": "execute_result"
    }
   ],
   "source": [
    "type(j)"
   ]
  },
  {
   "cell_type": "code",
   "execution_count": 33,
   "id": "0ec274ae-77b5-4747-92d6-5d7c422a05b4",
   "metadata": {},
   "outputs": [],
   "source": [
    "c = 8.9"
   ]
  },
  {
   "cell_type": "code",
   "execution_count": 34,
   "id": "08b43add-b309-4ed6-aff7-8ca7be2ff8cf",
   "metadata": {},
   "outputs": [
    {
     "data": {
      "text/plain": [
       "float"
      ]
     },
     "execution_count": 34,
     "metadata": {},
     "output_type": "execute_result"
    }
   ],
   "source": [
    "type(c)"
   ]
  },
  {
   "cell_type": "code",
   "execution_count": 35,
   "id": "2a573a89-ee70-40c8-b2a0-2311e529195f",
   "metadata": {},
   "outputs": [],
   "source": [
    "i = 4576887"
   ]
  },
  {
   "cell_type": "code",
   "execution_count": 36,
   "id": "0f1d95e5-aa4d-4b11-ac41-8096cd089187",
   "metadata": {},
   "outputs": [
    {
     "data": {
      "text/plain": [
       "int"
      ]
     },
     "execution_count": 36,
     "metadata": {},
     "output_type": "execute_result"
    }
   ],
   "source": [
    "type(i)"
   ]
  },
  {
   "cell_type": "code",
   "execution_count": 37,
   "id": "5e080800-f8f7-47c7-ab8c-851bc18d7984",
   "metadata": {},
   "outputs": [
    {
     "data": {
      "text/plain": [
       "2766032435632"
      ]
     },
     "execution_count": 37,
     "metadata": {},
     "output_type": "execute_result"
    }
   ],
   "source": [
    "id(j)"
   ]
  },
  {
   "cell_type": "code",
   "execution_count": 40,
   "id": "37dbec16-081e-4c71-8db1-fbbfd73f7cb6",
   "metadata": {},
   "outputs": [
    {
     "data": {
      "text/plain": [
       "140732317709144"
      ]
     },
     "execution_count": 40,
     "metadata": {},
     "output_type": "execute_result"
    }
   ],
   "source": [
    "id(b)"
   ]
  },
  {
   "cell_type": "code",
   "execution_count": 41,
   "id": "e76d6005-1c35-4fbb-af37-0ecaddba923f",
   "metadata": {},
   "outputs": [
    {
     "data": {
      "text/plain": [
       "int"
      ]
     },
     "execution_count": 41,
     "metadata": {},
     "output_type": "execute_result"
    }
   ],
   "source": [
    "type(k)"
   ]
  },
  {
   "cell_type": "code",
   "execution_count": 44,
   "id": "f561bba4-77e9-435f-846a-8061403f342c",
   "metadata": {},
   "outputs": [
    {
     "name": "stdout",
     "output_type": "stream",
     "text": [
      "Honey\n"
     ]
    }
   ],
   "source": [
    "print(\"\"\"Honey\"\"\")"
   ]
  },
  {
   "cell_type": "code",
   "execution_count": 50,
   "id": "c61709e4-311f-4cda-9848-246a37f832a7",
   "metadata": {},
   "outputs": [],
   "source": [
    "p = 'hot'"
   ]
  },
  {
   "cell_type": "code",
   "execution_count": 51,
   "id": "39ad17e7-c541-4f47-a812-c7a8aceeb031",
   "metadata": {},
   "outputs": [
    {
     "name": "stdout",
     "output_type": "stream",
     "text": [
      "Hot\n"
     ]
    }
   ],
   "source": [
    "print('Hot')"
   ]
  },
  {
   "cell_type": "code",
   "execution_count": 46,
   "id": "52fb2caa-9080-48c5-a888-7df4bd12e560",
   "metadata": {},
   "outputs": [
    {
     "data": {
      "text/plain": [
       "str"
      ]
     },
     "execution_count": 46,
     "metadata": {},
     "output_type": "execute_result"
    }
   ],
   "source": [
    "type(p)"
   ]
  },
  {
   "cell_type": "code",
   "execution_count": 47,
   "id": "5e490786-a4e1-49a2-80a8-e540dc2841f6",
   "metadata": {},
   "outputs": [],
   "source": [
    "h = 'Habibi'"
   ]
  },
  {
   "cell_type": "code",
   "execution_count": 48,
   "id": "4492c105-ed39-47a5-9f48-7cde5c23ec7f",
   "metadata": {},
   "outputs": [
    {
     "name": "stdout",
     "output_type": "stream",
     "text": [
      "Habibi\n"
     ]
    }
   ],
   "source": [
    "print('Habibi')"
   ]
  },
  {
   "cell_type": "code",
   "execution_count": 49,
   "id": "0a2281cf-2b25-40a2-bf74-ca00ad1eb5b7",
   "metadata": {},
   "outputs": [
    {
     "data": {
      "text/plain": [
       "str"
      ]
     },
     "execution_count": 49,
     "metadata": {},
     "output_type": "execute_result"
    }
   ],
   "source": [
    "type(h)"
   ]
  },
  {
   "cell_type": "code",
   "execution_count": 55,
   "id": "12711c54-21f1-43fd-8757-522a54813d3a",
   "metadata": {},
   "outputs": [],
   "source": [
    "m = \"nexa\""
   ]
  },
  {
   "cell_type": "code",
   "execution_count": 56,
   "id": "1654445c-4861-4191-a68a-059f28adbda8",
   "metadata": {},
   "outputs": [
    {
     "data": {
      "text/plain": [
       "str"
      ]
     },
     "execution_count": 56,
     "metadata": {},
     "output_type": "execute_result"
    }
   ],
   "source": [
    "type(m)"
   ]
  },
  {
   "cell_type": "code",
   "execution_count": 57,
   "id": "4173b8ab-ac43-4162-b968-af08c599ae6c",
   "metadata": {},
   "outputs": [
    {
     "data": {
      "text/plain": [
       "2766021665408"
      ]
     },
     "execution_count": 57,
     "metadata": {},
     "output_type": "execute_result"
    }
   ],
   "source": [
    "id(m)"
   ]
  },
  {
   "cell_type": "code",
   "execution_count": 60,
   "id": "ac714241-2e7e-4a6f-b1f4-e3d01cb1d75f",
   "metadata": {},
   "outputs": [],
   "source": [
    "m = 'OG kehnde a ne loki'"
   ]
  },
  {
   "cell_type": "code",
   "execution_count": 61,
   "id": "8ce7c650-9422-4b5b-bb08-f930db5cf239",
   "metadata": {},
   "outputs": [
    {
     "data": {
      "text/plain": [
       "'OG kehnde a ne loki'"
      ]
     },
     "execution_count": 61,
     "metadata": {},
     "output_type": "execute_result"
    }
   ],
   "source": [
    "m"
   ]
  },
  {
   "cell_type": "code",
   "execution_count": 62,
   "id": "eedcd03a-e746-4552-81b4-992212badc10",
   "metadata": {},
   "outputs": [
    {
     "name": "stdout",
     "output_type": "stream",
     "text": [
      "OG kehnde a ne loki\n"
     ]
    }
   ],
   "source": [
    "print(m)"
   ]
  },
  {
   "cell_type": "code",
   "execution_count": 63,
   "id": "1d26c97b-4ff3-42d5-885d-99725c145b99",
   "metadata": {},
   "outputs": [
    {
     "data": {
      "text/plain": [
       "str"
      ]
     },
     "execution_count": 63,
     "metadata": {},
     "output_type": "execute_result"
    }
   ],
   "source": [
    "type(m)"
   ]
  },
  {
   "cell_type": "code",
   "execution_count": 64,
   "id": "9b08146b-91c5-48ca-a942-417285b6320d",
   "metadata": {},
   "outputs": [
    {
     "data": {
      "text/plain": [
       "2766034194480"
      ]
     },
     "execution_count": 64,
     "metadata": {},
     "output_type": "execute_result"
    }
   ],
   "source": [
    "id(m)"
   ]
  },
  {
   "cell_type": "code",
   "execution_count": 69,
   "id": "c0ef9ab9-bcae-47e1-8b1e-a6ce6b44837d",
   "metadata": {},
   "outputs": [],
   "source": [
    "h = \"hjgsuwuiryw78563rhksf&^$#$^&8bkjgheiuhellokitty\""
   ]
  },
  {
   "cell_type": "code",
   "execution_count": 70,
   "id": "61bda66d-bd69-46c8-b630-ddcf5a90a6da",
   "metadata": {},
   "outputs": [
    {
     "data": {
      "text/plain": [
       "'hjgsuwuiryw78563rhksf&^$#$^&8bkjgheiuhellokitty'"
      ]
     },
     "execution_count": 70,
     "metadata": {},
     "output_type": "execute_result"
    }
   ],
   "source": [
    "h"
   ]
  },
  {
   "cell_type": "code",
   "execution_count": 72,
   "id": "7d75ae92-8906-460d-849c-c5c9f3b0294a",
   "metadata": {},
   "outputs": [
    {
     "name": "stdout",
     "output_type": "stream",
     "text": [
      "hjgsuwuiryw78563rhksf&^$#$^&8bkjgheiuhellokitty\n"
     ]
    }
   ],
   "source": [
    "print(h)"
   ]
  },
  {
   "cell_type": "code",
   "execution_count": 71,
   "id": "c62fce53-1b74-4d0b-a2fe-9daf2aa0c726",
   "metadata": {},
   "outputs": [
    {
     "data": {
      "text/plain": [
       "str"
      ]
     },
     "execution_count": 71,
     "metadata": {},
     "output_type": "execute_result"
    }
   ],
   "source": [
    "type(h)"
   ]
  },
  {
   "cell_type": "code",
   "execution_count": 73,
   "id": "f6ac59fe-02ed-498b-b7d6-d085e9caf634",
   "metadata": {},
   "outputs": [],
   "source": [
    "k = 'lk(*(^$76bn7.89023'"
   ]
  },
  {
   "cell_type": "code",
   "execution_count": 74,
   "id": "f291eb35-f171-4aba-b38e-a8e209d7a7a8",
   "metadata": {},
   "outputs": [
    {
     "data": {
      "text/plain": [
       "'lk(*(^$76bn7.89023'"
      ]
     },
     "execution_count": 74,
     "metadata": {},
     "output_type": "execute_result"
    }
   ],
   "source": [
    "k"
   ]
  },
  {
   "cell_type": "code",
   "execution_count": 75,
   "id": "7e696cdc-8d68-4a77-885d-29cb4e0f525c",
   "metadata": {},
   "outputs": [
    {
     "data": {
      "text/plain": [
       "str"
      ]
     },
     "execution_count": 75,
     "metadata": {},
     "output_type": "execute_result"
    }
   ],
   "source": [
    "type(k)"
   ]
  },
  {
   "cell_type": "code",
   "execution_count": 76,
   "id": "7d346493-2d1a-4976-8a94-84b366694973",
   "metadata": {},
   "outputs": [
    {
     "name": "stdout",
     "output_type": "stream",
     "text": [
      "lk(*(^$76bn7.89023\n"
     ]
    }
   ],
   "source": [
    "print(k)"
   ]
  },
  {
   "cell_type": "code",
   "execution_count": 78,
   "id": "4870660b-1991-4a9c-a71e-4fcad69b9903",
   "metadata": {},
   "outputs": [],
   "source": [
    "j = \"\"\"78   hjk    Htt      nikal        False  35\"\"\""
   ]
  },
  {
   "cell_type": "code",
   "execution_count": 79,
   "id": "ce0d3b29-5cf6-4188-bca4-316c712d9246",
   "metadata": {},
   "outputs": [
    {
     "data": {
      "text/plain": [
       "'78   hjk    Htt      nikal        False  35'"
      ]
     },
     "execution_count": 79,
     "metadata": {},
     "output_type": "execute_result"
    }
   ],
   "source": [
    "j"
   ]
  },
  {
   "cell_type": "code",
   "execution_count": 80,
   "id": "535b8c3b-6adc-4975-b062-bf6348215e47",
   "metadata": {},
   "outputs": [
    {
     "name": "stdout",
     "output_type": "stream",
     "text": [
      "78   hjk    Htt      nikal        False  35\n"
     ]
    }
   ],
   "source": [
    "print(j)"
   ]
  },
  {
   "cell_type": "code",
   "execution_count": 81,
   "id": "e7af5080-a2ee-4b89-8726-f6915bcda29e",
   "metadata": {},
   "outputs": [
    {
     "data": {
      "text/plain": [
       "str"
      ]
     },
     "execution_count": 81,
     "metadata": {},
     "output_type": "execute_result"
    }
   ],
   "source": [
    "type(j)"
   ]
  },
  {
   "cell_type": "code",
   "execution_count": 82,
   "id": "09a00531-865c-49d4-87a5-b3f0d33fd073",
   "metadata": {},
   "outputs": [
    {
     "data": {
      "text/plain": [
       "2766033954800"
      ]
     },
     "execution_count": 82,
     "metadata": {},
     "output_type": "execute_result"
    }
   ],
   "source": [
    "id(j)"
   ]
  },
  {
   "cell_type": "markdown",
   "id": "a1b85657-24a5-45e2-ac92-d36a9cc59e24",
   "metadata": {},
   "source": [
    "# FalkaR\n",
    "## FalkaR\n",
    "### FalkaR\n",
    "\n",
    "* KGF\n",
    "* Police"
   ]
  },
  {
   "cell_type": "code",
   "execution_count": 86,
   "id": "54d5f9fb-df1c-4723-9552-1111040f7672",
   "metadata": {},
   "outputs": [],
   "source": [
    "# Boolean : True or False only"
   ]
  },
  {
   "cell_type": "code",
   "execution_count": 84,
   "id": "30014ea6-6895-44e1-a97a-f7653eb80286",
   "metadata": {},
   "outputs": [
    {
     "name": "stdout",
     "output_type": "stream",
     "text": [
      "True\n"
     ]
    }
   ],
   "source": [
    "print(True)"
   ]
  },
  {
   "cell_type": "code",
   "execution_count": 85,
   "id": "f8532df0-a6fd-47d5-be65-6b2e47b0270a",
   "metadata": {},
   "outputs": [
    {
     "name": "stdout",
     "output_type": "stream",
     "text": [
      "False\n"
     ]
    }
   ],
   "source": [
    "print(False)"
   ]
  },
  {
   "cell_type": "code",
   "execution_count": 87,
   "id": "b5653f05-cf22-4537-bb0f-1b2796eb9240",
   "metadata": {},
   "outputs": [],
   "source": [
    "g = True"
   ]
  },
  {
   "cell_type": "code",
   "execution_count": 88,
   "id": "40ad4a5e-359a-4582-a10b-e83abc597937",
   "metadata": {},
   "outputs": [],
   "source": [
    "k = False"
   ]
  },
  {
   "cell_type": "code",
   "execution_count": 89,
   "id": "5e1aca51-9519-4616-99a8-3e1fd5cdf6c6",
   "metadata": {},
   "outputs": [
    {
     "name": "stdout",
     "output_type": "stream",
     "text": [
      "True\n"
     ]
    }
   ],
   "source": [
    "print(g)"
   ]
  },
  {
   "cell_type": "code",
   "execution_count": 90,
   "id": "c64f0ecc-555d-46c9-8483-b8b09eb79d65",
   "metadata": {},
   "outputs": [
    {
     "name": "stdout",
     "output_type": "stream",
     "text": [
      "False\n"
     ]
    }
   ],
   "source": [
    "print(k)"
   ]
  },
  {
   "cell_type": "code",
   "execution_count": 91,
   "id": "8c736a6a-7a5f-4dff-958f-1c2f60a3495a",
   "metadata": {},
   "outputs": [
    {
     "data": {
      "text/plain": [
       "140732316580768"
      ]
     },
     "execution_count": 91,
     "metadata": {},
     "output_type": "execute_result"
    }
   ],
   "source": [
    "id(k)"
   ]
  },
  {
   "cell_type": "code",
   "execution_count": 92,
   "id": "8b131ab1-399d-4362-ad1a-2f3dee3aa4e5",
   "metadata": {},
   "outputs": [
    {
     "data": {
      "text/plain": [
       "bool"
      ]
     },
     "execution_count": 92,
     "metadata": {},
     "output_type": "execute_result"
    }
   ],
   "source": [
    "type(k)"
   ]
  },
  {
   "cell_type": "code",
   "execution_count": 93,
   "id": "f0e0c1ea-efdb-471d-ae99-9b71f1a22847",
   "metadata": {},
   "outputs": [
    {
     "data": {
      "text/plain": [
       "bool"
      ]
     },
     "execution_count": 93,
     "metadata": {},
     "output_type": "execute_result"
    }
   ],
   "source": [
    "type(g)"
   ]
  },
  {
   "cell_type": "code",
   "execution_count": null,
   "id": "317f2903-ea04-4832-b8bd-9109e5563722",
   "metadata": {},
   "outputs": [],
   "source": [
    "# Complex : a+bj"
   ]
  },
  {
   "cell_type": "code",
   "execution_count": 94,
   "id": "375b35c4-20ec-4b8c-83b8-debc2ce72113",
   "metadata": {},
   "outputs": [],
   "source": [
    "u = 2+4j"
   ]
  },
  {
   "cell_type": "code",
   "execution_count": 96,
   "id": "ae95bc7e-28de-485a-b75e-4836e3295f96",
   "metadata": {},
   "outputs": [
    {
     "data": {
      "text/plain": [
       "complex"
      ]
     },
     "execution_count": 96,
     "metadata": {},
     "output_type": "execute_result"
    }
   ],
   "source": [
    "type(u)"
   ]
  },
  {
   "cell_type": "code",
   "execution_count": 97,
   "id": "630cf316-b8d1-4947-b1bd-01cd546c7e21",
   "metadata": {},
   "outputs": [
    {
     "name": "stdout",
     "output_type": "stream",
     "text": [
      "(2+4j)\n"
     ]
    }
   ],
   "source": [
    "print(u)"
   ]
  },
  {
   "cell_type": "code",
   "execution_count": 98,
   "id": "b3ddc598-daec-4960-b9ee-548a05e71863",
   "metadata": {},
   "outputs": [
    {
     "data": {
      "text/plain": [
       "2766032429232"
      ]
     },
     "execution_count": 98,
     "metadata": {},
     "output_type": "execute_result"
    }
   ],
   "source": [
    "id(u)"
   ]
  },
  {
   "cell_type": "code",
   "execution_count": 99,
   "id": "281be966-3885-4195-ba22-9c92f9bc7a1e",
   "metadata": {},
   "outputs": [],
   "source": [
    "y = 6+9j"
   ]
  },
  {
   "cell_type": "code",
   "execution_count": 100,
   "id": "f8681d05-f6fd-4c66-863b-700c61d32940",
   "metadata": {},
   "outputs": [
    {
     "name": "stdout",
     "output_type": "stream",
     "text": [
      "(6+9j)\n"
     ]
    }
   ],
   "source": [
    "print(y)"
   ]
  },
  {
   "cell_type": "code",
   "execution_count": 101,
   "id": "3913e617-21aa-4a75-ac15-c48bee7d61fe",
   "metadata": {},
   "outputs": [
    {
     "data": {
      "text/plain": [
       "complex"
      ]
     },
     "execution_count": 101,
     "metadata": {},
     "output_type": "execute_result"
    }
   ],
   "source": [
    "type(y)"
   ]
  },
  {
   "cell_type": "code",
   "execution_count": 102,
   "id": "cd458ff9-d888-48c0-bdc7-9f3c594b8a28",
   "metadata": {},
   "outputs": [
    {
     "data": {
      "text/plain": [
       "2766032435888"
      ]
     },
     "execution_count": 102,
     "metadata": {},
     "output_type": "execute_result"
    }
   ],
   "source": [
    "id(y)"
   ]
  },
  {
   "cell_type": "code",
   "execution_count": null,
   "id": "b5f8116f-504e-43fc-95ec-c3e6b0ec72f4",
   "metadata": {},
   "outputs": [],
   "source": [
    "# None : None"
   ]
  },
  {
   "cell_type": "code",
   "execution_count": 104,
   "id": "35a86eaf-874c-4885-8ea6-9f3df6dd4fc0",
   "metadata": {},
   "outputs": [],
   "source": [
    "l = None"
   ]
  },
  {
   "cell_type": "code",
   "execution_count": 105,
   "id": "57b163d7-cadb-4b00-bb07-8eae348804a4",
   "metadata": {},
   "outputs": [
    {
     "data": {
      "text/plain": [
       "NoneType"
      ]
     },
     "execution_count": 105,
     "metadata": {},
     "output_type": "execute_result"
    }
   ],
   "source": [
    "type(l)"
   ]
  },
  {
   "cell_type": "code",
   "execution_count": 106,
   "id": "2c5c1403-cb09-485c-9fa2-d6be3010e0d1",
   "metadata": {},
   "outputs": [
    {
     "name": "stdout",
     "output_type": "stream",
     "text": [
      "None\n"
     ]
    }
   ],
   "source": [
    "print(l)"
   ]
  },
  {
   "cell_type": "code",
   "execution_count": 107,
   "id": "fe14d566-7c96-4d63-833a-6ff33adb288c",
   "metadata": {},
   "outputs": [
    {
     "data": {
      "text/plain": [
       "140732316661712"
      ]
     },
     "execution_count": 107,
     "metadata": {},
     "output_type": "execute_result"
    }
   ],
   "source": [
    "id(l)"
   ]
  },
  {
   "cell_type": "code",
   "execution_count": 108,
   "id": "e69fe1a9-fb28-4540-9176-ebee2ac6b417",
   "metadata": {},
   "outputs": [],
   "source": [
    "f = None"
   ]
  },
  {
   "cell_type": "code",
   "execution_count": 109,
   "id": "6fe0e1fa-eedd-4e36-b325-831a0f307744",
   "metadata": {},
   "outputs": [
    {
     "data": {
      "text/plain": [
       "NoneType"
      ]
     },
     "execution_count": 109,
     "metadata": {},
     "output_type": "execute_result"
    }
   ],
   "source": [
    "type(f)"
   ]
  },
  {
   "cell_type": "code",
   "execution_count": 110,
   "id": "43c639c6-1d75-476c-9578-16c583982273",
   "metadata": {},
   "outputs": [],
   "source": [
    "s = 698"
   ]
  },
  {
   "cell_type": "code",
   "execution_count": 111,
   "id": "daf86f14-3348-4cff-a249-66dca8d828a4",
   "metadata": {},
   "outputs": [
    {
     "data": {
      "text/plain": [
       "int"
      ]
     },
     "execution_count": 111,
     "metadata": {},
     "output_type": "execute_result"
    }
   ],
   "source": [
    "type(s)"
   ]
  },
  {
   "cell_type": "code",
   "execution_count": 112,
   "id": "b14e6705-cb1b-492a-8c6f-8a4f7f221573",
   "metadata": {},
   "outputs": [],
   "source": [
    "s = 6.8"
   ]
  },
  {
   "cell_type": "code",
   "execution_count": 113,
   "id": "1e28236a-5996-428f-b0e4-5da26d04534e",
   "metadata": {},
   "outputs": [
    {
     "data": {
      "text/plain": [
       "float"
      ]
     },
     "execution_count": 113,
     "metadata": {},
     "output_type": "execute_result"
    }
   ],
   "source": [
    "type(s)"
   ]
  },
  {
   "cell_type": "code",
   "execution_count": 114,
   "id": "e15f73ee-2607-4bf9-9f88-3832fc534286",
   "metadata": {},
   "outputs": [],
   "source": [
    "s = 'jaggu'"
   ]
  },
  {
   "cell_type": "code",
   "execution_count": 115,
   "id": "edea91e4-dbd8-4a65-a18e-4b712bd9580f",
   "metadata": {},
   "outputs": [
    {
     "data": {
      "text/plain": [
       "str"
      ]
     },
     "execution_count": 115,
     "metadata": {},
     "output_type": "execute_result"
    }
   ],
   "source": [
    "type(s)"
   ]
  },
  {
   "cell_type": "code",
   "execution_count": 1,
   "id": "d29af155-0831-4528-bce3-59c8fabb6b84",
   "metadata": {},
   "outputs": [],
   "source": [
    "s = 5+7j"
   ]
  },
  {
   "cell_type": "code",
   "execution_count": 117,
   "id": "844db0d6-6ffb-42a4-a55e-b8630e17c286",
   "metadata": {},
   "outputs": [
    {
     "data": {
      "text/plain": [
       "complex"
      ]
     },
     "execution_count": 117,
     "metadata": {},
     "output_type": "execute_result"
    }
   ],
   "source": [
    "type(s)"
   ]
  },
  {
   "cell_type": "code",
   "execution_count": 4,
   "id": "36926488-7858-44ed-b3a8-4b084f251002",
   "metadata": {},
   "outputs": [],
   "source": [
    "s = True"
   ]
  },
  {
   "cell_type": "code",
   "execution_count": 5,
   "id": "240675dc-9c82-4dad-aa69-2c6928c2e9c6",
   "metadata": {},
   "outputs": [
    {
     "data": {
      "text/plain": [
       "bool"
      ]
     },
     "execution_count": 5,
     "metadata": {},
     "output_type": "execute_result"
    }
   ],
   "source": [
    "type(s)"
   ]
  },
  {
   "cell_type": "markdown",
   "id": "ccdfa3b3-3f5c-4c47-96cb-6ac2994c6b91",
   "metadata": {},
   "source": [
    "# Python is dynamic in nature\n",
    "# Any variable can have any data type"
   ]
  },
  {
   "cell_type": "code",
   "execution_count": 6,
   "id": "e913a402-c6a4-4311-8e7d-7d5b66a5e798",
   "metadata": {},
   "outputs": [],
   "source": [
    "#Typecasting : one data can be converted into another data type"
   ]
  },
  {
   "cell_type": "code",
   "execution_count": 9,
   "id": "8dd665ad-4d6f-41af-a5e6-d8f6d5bd0f16",
   "metadata": {},
   "outputs": [
    {
     "name": "stdin",
     "output_type": "stream",
     "text": [
      "Enter your name: FalkaR\n"
     ]
    }
   ],
   "source": [
    "name = input(\"Enter your name:\")"
   ]
  },
  {
   "cell_type": "code",
   "execution_count": 10,
   "id": "c94652fc-6d71-4704-9759-241e98ef5cb3",
   "metadata": {},
   "outputs": [
    {
     "data": {
      "text/plain": [
       "'FalkaR'"
      ]
     },
     "execution_count": 10,
     "metadata": {},
     "output_type": "execute_result"
    }
   ],
   "source": [
    "name"
   ]
  },
  {
   "cell_type": "code",
   "execution_count": 11,
   "id": "dc8b9a21-66bb-40d2-b5a3-7b42a8ce74c4",
   "metadata": {},
   "outputs": [
    {
     "data": {
      "text/plain": [
       "str"
      ]
     },
     "execution_count": 11,
     "metadata": {},
     "output_type": "execute_result"
    }
   ],
   "source": [
    "type(name)"
   ]
  },
  {
   "cell_type": "code",
   "execution_count": 12,
   "id": "4a0217b6-6351-43ab-afdf-cfa5c6763549",
   "metadata": {},
   "outputs": [
    {
     "name": "stdin",
     "output_type": "stream",
     "text": [
      "Enter your age: 22\n"
     ]
    }
   ],
   "source": [
    "age = input(\"Enter your age:\")"
   ]
  },
  {
   "cell_type": "code",
   "execution_count": 13,
   "id": "3aeaa43b-4e56-4228-9ac5-cecdee5f9fc5",
   "metadata": {},
   "outputs": [
    {
     "data": {
      "text/plain": [
       "'22'"
      ]
     },
     "execution_count": 13,
     "metadata": {},
     "output_type": "execute_result"
    }
   ],
   "source": [
    "age"
   ]
  },
  {
   "cell_type": "code",
   "execution_count": 14,
   "id": "f5539b08-4e68-438c-9e7e-8e5dad603164",
   "metadata": {},
   "outputs": [
    {
     "data": {
      "text/plain": [
       "str"
      ]
     },
     "execution_count": 14,
     "metadata": {},
     "output_type": "execute_result"
    }
   ],
   "source": [
    "type(age)"
   ]
  },
  {
   "cell_type": "code",
   "execution_count": 15,
   "id": "645b7c77-6b14-4853-bc69-a2455eeaa922",
   "metadata": {},
   "outputs": [],
   "source": [
    "age = int(age)"
   ]
  },
  {
   "cell_type": "code",
   "execution_count": 16,
   "id": "374c7724-ca63-4687-a648-17e2ff7fe5bc",
   "metadata": {},
   "outputs": [
    {
     "data": {
      "text/plain": [
       "22"
      ]
     },
     "execution_count": 16,
     "metadata": {},
     "output_type": "execute_result"
    }
   ],
   "source": [
    "age"
   ]
  },
  {
   "cell_type": "code",
   "execution_count": 17,
   "id": "1d1b8f94-bd0b-41fb-abcc-8222e9b1d731",
   "metadata": {},
   "outputs": [
    {
     "data": {
      "text/plain": [
       "int"
      ]
     },
     "execution_count": 17,
     "metadata": {},
     "output_type": "execute_result"
    }
   ],
   "source": [
    "type(age)"
   ]
  },
  {
   "cell_type": "code",
   "execution_count": 18,
   "id": "5e89e918-2eb2-43b8-b941-7faa85ec4dff",
   "metadata": {},
   "outputs": [],
   "source": [
    "age = float(age)"
   ]
  },
  {
   "cell_type": "code",
   "execution_count": 19,
   "id": "398f7017-f09e-4fc3-b758-abab4dc98fd3",
   "metadata": {},
   "outputs": [
    {
     "data": {
      "text/plain": [
       "22.0"
      ]
     },
     "execution_count": 19,
     "metadata": {},
     "output_type": "execute_result"
    }
   ],
   "source": [
    "age"
   ]
  },
  {
   "cell_type": "code",
   "execution_count": 20,
   "id": "8c224826-1dd2-4bd3-8609-511267d1f676",
   "metadata": {},
   "outputs": [
    {
     "data": {
      "text/plain": [
       "float"
      ]
     },
     "execution_count": 20,
     "metadata": {},
     "output_type": "execute_result"
    }
   ],
   "source": [
    "type(age)"
   ]
  },
  {
   "cell_type": "code",
   "execution_count": 21,
   "id": "262fa9ae-23bc-4bd1-b3e1-62b3eb6b903c",
   "metadata": {},
   "outputs": [],
   "source": [
    "age = complex(age)"
   ]
  },
  {
   "cell_type": "code",
   "execution_count": 22,
   "id": "c15e873a-f72c-4c30-8568-5f9f0cdff91c",
   "metadata": {},
   "outputs": [
    {
     "data": {
      "text/plain": [
       "(22+0j)"
      ]
     },
     "execution_count": 22,
     "metadata": {},
     "output_type": "execute_result"
    }
   ],
   "source": [
    "age"
   ]
  },
  {
   "cell_type": "code",
   "execution_count": 23,
   "id": "206fa365-f588-4130-af37-1404e7b07085",
   "metadata": {},
   "outputs": [
    {
     "data": {
      "text/plain": [
       "complex"
      ]
     },
     "execution_count": 23,
     "metadata": {},
     "output_type": "execute_result"
    }
   ],
   "source": [
    "type(age)"
   ]
  },
  {
   "cell_type": "code",
   "execution_count": 24,
   "id": "fa90d12a-31cf-41e2-b64f-bbf1f704c4b0",
   "metadata": {},
   "outputs": [],
   "source": [
    "age = str(age)"
   ]
  },
  {
   "cell_type": "code",
   "execution_count": 25,
   "id": "7102cde0-34d8-4536-8748-60f7504d4422",
   "metadata": {},
   "outputs": [
    {
     "data": {
      "text/plain": [
       "'(22+0j)'"
      ]
     },
     "execution_count": 25,
     "metadata": {},
     "output_type": "execute_result"
    }
   ],
   "source": [
    "age"
   ]
  },
  {
   "cell_type": "code",
   "execution_count": 26,
   "id": "73a11fb0-4204-47e6-908e-65313ebec888",
   "metadata": {},
   "outputs": [
    {
     "data": {
      "text/plain": [
       "str"
      ]
     },
     "execution_count": 26,
     "metadata": {},
     "output_type": "execute_result"
    }
   ],
   "source": [
    "type(age)"
   ]
  },
  {
   "cell_type": "code",
   "execution_count": 28,
   "id": "7b21340f-80ce-4fd8-aea6-11be91f000f8",
   "metadata": {},
   "outputs": [
    {
     "name": "stdin",
     "output_type": "stream",
     "text": [
      "enter your age: 22\n"
     ]
    }
   ],
   "source": [
    "age = int(input(\"enter your age:\"))"
   ]
  },
  {
   "cell_type": "code",
   "execution_count": 29,
   "id": "7abec803-2707-4c5d-9b0f-e2f8570d7caf",
   "metadata": {},
   "outputs": [
    {
     "data": {
      "text/plain": [
       "22"
      ]
     },
     "execution_count": 29,
     "metadata": {},
     "output_type": "execute_result"
    }
   ],
   "source": [
    "age"
   ]
  },
  {
   "cell_type": "code",
   "execution_count": 30,
   "id": "65b7cb1c-40cb-4000-99bb-3ce2fdfba887",
   "metadata": {},
   "outputs": [
    {
     "data": {
      "text/plain": [
       "int"
      ]
     },
     "execution_count": 30,
     "metadata": {},
     "output_type": "execute_result"
    }
   ],
   "source": [
    "type(age)"
   ]
  },
  {
   "cell_type": "code",
   "execution_count": 32,
   "id": "c1281915-f9b6-42f2-9586-901b4a1ac9e9",
   "metadata": {},
   "outputs": [
    {
     "name": "stdin",
     "output_type": "stream",
     "text": [
      "enter your marks 70\n"
     ]
    }
   ],
   "source": [
    "marks = int(input(\"enter your marks\"))"
   ]
  },
  {
   "cell_type": "code",
   "execution_count": 33,
   "id": "926d09f7-e142-49cd-9884-67dd6651f395",
   "metadata": {},
   "outputs": [
    {
     "data": {
      "text/plain": [
       "70"
      ]
     },
     "execution_count": 33,
     "metadata": {},
     "output_type": "execute_result"
    }
   ],
   "source": [
    "marks"
   ]
  },
  {
   "cell_type": "code",
   "execution_count": 34,
   "id": "906c6147-b3f2-4073-9e6a-f21ffb332539",
   "metadata": {},
   "outputs": [
    {
     "data": {
      "text/plain": [
       "int"
      ]
     },
     "execution_count": 34,
     "metadata": {},
     "output_type": "execute_result"
    }
   ],
   "source": [
    "type(marks)"
   ]
  },
  {
   "cell_type": "code",
   "execution_count": 1,
   "id": "f068c6cb-a03f-4f99-9a17-b21bdd465517",
   "metadata": {},
   "outputs": [
    {
     "name": "stdin",
     "output_type": "stream",
     "text": [
      "Enter your marks: 45\n"
     ]
    }
   ],
   "source": [
    "marks = float(input('Enter your marks:'))"
   ]
  },
  {
   "cell_type": "code",
   "execution_count": 2,
   "id": "ad6c392c-7682-4a05-ae32-89bb9686056a",
   "metadata": {},
   "outputs": [
    {
     "data": {
      "text/plain": [
       "45.0"
      ]
     },
     "execution_count": 2,
     "metadata": {},
     "output_type": "execute_result"
    }
   ],
   "source": [
    "marks"
   ]
  },
  {
   "cell_type": "code",
   "execution_count": 3,
   "id": "1196dd50-c57b-481f-a0f5-78bc06640f9c",
   "metadata": {},
   "outputs": [
    {
     "data": {
      "text/plain": [
       "float"
      ]
     },
     "execution_count": 3,
     "metadata": {},
     "output_type": "execute_result"
    }
   ],
   "source": [
    "type(marks)"
   ]
  },
  {
   "cell_type": "code",
   "execution_count": 46,
   "id": "ecec2ee1-bf0e-4c6c-9375-bc195e9c5b0f",
   "metadata": {},
   "outputs": [],
   "source": [
    "n = \"data\""
   ]
  },
  {
   "cell_type": "code",
   "execution_count": 47,
   "id": "177af662-5860-426a-98a7-08344e5cd79f",
   "metadata": {},
   "outputs": [
    {
     "ename": "ValueError",
     "evalue": "invalid literal for int() with base 10: 'data'",
     "output_type": "error",
     "traceback": [
      "\u001b[1;31m---------------------------------------------------------------------------\u001b[0m",
      "\u001b[1;31mValueError\u001b[0m                                Traceback (most recent call last)",
      "Cell \u001b[1;32mIn[47], line 1\u001b[0m\n\u001b[1;32m----> 1\u001b[0m n \u001b[38;5;241m=\u001b[39m \u001b[38;5;28mint\u001b[39m(n)\n",
      "\u001b[1;31mValueError\u001b[0m: invalid literal for int() with base 10: 'data'"
     ]
    }
   ],
   "source": [
    "n = int(n)"
   ]
  },
  {
   "cell_type": "code",
   "execution_count": 49,
   "id": "5187fb44-7cd3-4f7b-974a-5a66b1d4b303",
   "metadata": {},
   "outputs": [
    {
     "ename": "ValueError",
     "evalue": "could not convert string to float: 'data'",
     "output_type": "error",
     "traceback": [
      "\u001b[1;31m---------------------------------------------------------------------------\u001b[0m",
      "\u001b[1;31mValueError\u001b[0m                                Traceback (most recent call last)",
      "Cell \u001b[1;32mIn[49], line 1\u001b[0m\n\u001b[1;32m----> 1\u001b[0m \u001b[38;5;28mfloat\u001b[39m(n)\n",
      "\u001b[1;31mValueError\u001b[0m: could not convert string to float: 'data'"
     ]
    }
   ],
   "source": [
    "float(n)"
   ]
  },
  {
   "cell_type": "code",
   "execution_count": 50,
   "id": "a48946d0-46d0-427e-b091-cf2ad3b1bc7c",
   "metadata": {},
   "outputs": [
    {
     "ename": "ValueError",
     "evalue": "complex() arg is a malformed string",
     "output_type": "error",
     "traceback": [
      "\u001b[1;31m---------------------------------------------------------------------------\u001b[0m",
      "\u001b[1;31mValueError\u001b[0m                                Traceback (most recent call last)",
      "Cell \u001b[1;32mIn[50], line 1\u001b[0m\n\u001b[1;32m----> 1\u001b[0m \u001b[38;5;28mcomplex\u001b[39m(n)\n",
      "\u001b[1;31mValueError\u001b[0m: complex() arg is a malformed string"
     ]
    }
   ],
   "source": [
    "complex(n)"
   ]
  },
  {
   "cell_type": "code",
   "execution_count": 62,
   "id": "c11297c1-12c0-4cad-b952-62453f97e5d3",
   "metadata": {},
   "outputs": [],
   "source": [
    "# only logical data can be typecasted"
   ]
  },
  {
   "cell_type": "code",
   "execution_count": 51,
   "id": "11f73704-deef-448b-a9b0-cd2c1c2ffb72",
   "metadata": {},
   "outputs": [],
   "source": [
    "p = \"150\""
   ]
  },
  {
   "cell_type": "code",
   "execution_count": 52,
   "id": "19ffa411-d34e-49fd-a294-92864523082a",
   "metadata": {},
   "outputs": [
    {
     "data": {
      "text/plain": [
       "str"
      ]
     },
     "execution_count": 52,
     "metadata": {},
     "output_type": "execute_result"
    }
   ],
   "source": [
    "type(p)"
   ]
  },
  {
   "cell_type": "code",
   "execution_count": 56,
   "id": "deb3facd-998c-44b0-acd6-e1d2bf05f33f",
   "metadata": {},
   "outputs": [],
   "source": [
    "p = int(p)"
   ]
  },
  {
   "cell_type": "code",
   "execution_count": 57,
   "id": "4231cd83-5cef-4166-9784-b76747f35330",
   "metadata": {},
   "outputs": [
    {
     "data": {
      "text/plain": [
       "150"
      ]
     },
     "execution_count": 57,
     "metadata": {},
     "output_type": "execute_result"
    }
   ],
   "source": [
    "p"
   ]
  },
  {
   "cell_type": "code",
   "execution_count": 58,
   "id": "b15d4282-8674-4124-a2c8-a17e230284ea",
   "metadata": {},
   "outputs": [
    {
     "data": {
      "text/plain": [
       "int"
      ]
     },
     "execution_count": 58,
     "metadata": {},
     "output_type": "execute_result"
    }
   ],
   "source": [
    "type(p)"
   ]
  },
  {
   "cell_type": "code",
   "execution_count": 59,
   "id": "ecb74355-ae0d-47f4-943d-bd3db9ad74e1",
   "metadata": {},
   "outputs": [
    {
     "data": {
      "text/plain": [
       "150.0"
      ]
     },
     "execution_count": 59,
     "metadata": {},
     "output_type": "execute_result"
    }
   ],
   "source": [
    "float(p)"
   ]
  },
  {
   "cell_type": "code",
   "execution_count": 60,
   "id": "6cf579c1-2c60-49ff-94f8-412d0ad197f6",
   "metadata": {},
   "outputs": [
    {
     "data": {
      "text/plain": [
       "(150+0j)"
      ]
     },
     "execution_count": 60,
     "metadata": {},
     "output_type": "execute_result"
    }
   ],
   "source": [
    "complex(p)"
   ]
  },
  {
   "cell_type": "code",
   "execution_count": 61,
   "id": "420dc3be-1e89-4060-b31d-92e615b55d47",
   "metadata": {},
   "outputs": [
    {
     "data": {
      "text/plain": [
       "'150'"
      ]
     },
     "execution_count": 61,
     "metadata": {},
     "output_type": "execute_result"
    }
   ],
   "source": [
    "str(p)"
   ]
  },
  {
   "cell_type": "code",
   "execution_count": 1,
   "id": "542cfb11-0b81-427f-9e85-827c5d8d2fae",
   "metadata": {},
   "outputs": [],
   "source": [
    "#Output Formatting"
   ]
  },
  {
   "cell_type": "code",
   "execution_count": 2,
   "id": "dc791432-2370-4aea-8164-4f096d354eca",
   "metadata": {},
   "outputs": [],
   "source": [
    "a = 10\n",
    "b = 20\n",
    "c = 30"
   ]
  },
  {
   "cell_type": "code",
   "execution_count": 3,
   "id": "cf9310dd-c42c-4a32-bda5-f13129b22d38",
   "metadata": {},
   "outputs": [
    {
     "name": "stdout",
     "output_type": "stream",
     "text": [
      "The value of a is 10 and b is 20\n"
     ]
    }
   ],
   "source": [
    "print(\"The value of a is {} and b is {}\".format(a,b))"
   ]
  },
  {
   "cell_type": "code",
   "execution_count": 4,
   "id": "25852e83-0baf-478b-8dca-343eb4097417",
   "metadata": {},
   "outputs": [
    {
     "name": "stdout",
     "output_type": "stream",
     "text": [
      "The value of a is 10 and b is 20 and c is 30\n"
     ]
    }
   ],
   "source": [
    "print(\"The value of a is {} and b is {} and c is {}\".format(a,b,c))"
   ]
  },
  {
   "cell_type": "code",
   "execution_count": 5,
   "id": "37a92302-3091-484e-89bf-9f733675b635",
   "metadata": {},
   "outputs": [
    {
     "name": "stdout",
     "output_type": "stream",
     "text": [
      "The value of a is 30 and b is 10 and c is 20\n"
     ]
    }
   ],
   "source": [
    "print(\"The value of a is {2} and b is {0} and c is {1}\".format(a,b,c))"
   ]
  },
  {
   "cell_type": "code",
   "execution_count": 6,
   "id": "1a341fa9-11fa-4011-9fe5-9097303506f3",
   "metadata": {},
   "outputs": [],
   "source": [
    "#in python counting starts from zero that's why a is 0 b is 1 c is 2"
   ]
  },
  {
   "cell_type": "code",
   "execution_count": 5,
   "id": "2cb1a606-edf4-426f-8c13-913a6cf6c7eb",
   "metadata": {},
   "outputs": [],
   "source": [
    "name = \"prateek\"\n",
    "greet = \"good morning\""
   ]
  },
  {
   "cell_type": "code",
   "execution_count": 7,
   "id": "9c5185bc-0190-4eba-82f4-1e43ff92903a",
   "metadata": {},
   "outputs": [
    {
     "name": "stdout",
     "output_type": "stream",
     "text": [
      "Hi prateek good morning\n"
     ]
    }
   ],
   "source": [
    "print(\"Hi {} {}\".format(name, greet))"
   ]
  },
  {
   "cell_type": "code",
   "execution_count": 9,
   "id": "f358fd4e-7a3e-4fea-b24b-e75b764ef499",
   "metadata": {},
   "outputs": [
    {
     "name": "stdout",
     "output_type": "stream",
     "text": [
      "Hi good morning prateek\n"
     ]
    }
   ],
   "source": [
    "print(\"Hi {g} {n}\".format(n = name, g = greet))"
   ]
  },
  {
   "cell_type": "code",
   "execution_count": 10,
   "id": "d9edc54d-2ad5-4da0-b967-76a7951c33c0",
   "metadata": {},
   "outputs": [],
   "source": [
    "course = \"python\"\n",
    "institute = \"TGC\""
   ]
  },
  {
   "cell_type": "code",
   "execution_count": 32,
   "id": "9db5be33-b211-4513-bc52-e444700f83e6",
   "metadata": {},
   "outputs": [
    {
     "name": "stdout",
     "output_type": "stream",
     "text": [
      "I have taken admission in TGC and I have opted course python.\n"
     ]
    }
   ],
   "source": [
    "print(\"I have taken admission in {} and I have opted course {}.\".format(institute, course))"
   ]
  },
  {
   "cell_type": "code",
   "execution_count": 12,
   "id": "691c9923-0ecf-4464-a5e9-7383dac4993c",
   "metadata": {},
   "outputs": [],
   "source": [
    "#f-string"
   ]
  },
  {
   "cell_type": "code",
   "execution_count": 13,
   "id": "19a3f917-7e5b-41ed-a973-41fb47ba29d8",
   "metadata": {},
   "outputs": [],
   "source": [
    "a = 10\n",
    "b = 20\n",
    "c = 30"
   ]
  },
  {
   "cell_type": "code",
   "execution_count": 14,
   "id": "32388c44-a4c8-405b-920a-a4c005c54cb4",
   "metadata": {},
   "outputs": [
    {
     "name": "stdout",
     "output_type": "stream",
     "text": [
      "The value of a is 10 and b is 20 and c is 30\n"
     ]
    }
   ],
   "source": [
    "print(f\"The value of a is {a} and b is {b} and c is {c}\")"
   ]
  },
  {
   "cell_type": "code",
   "execution_count": 15,
   "id": "c2df8f6e-ec6c-4461-a095-96631f77f046",
   "metadata": {},
   "outputs": [],
   "source": [
    "name = \"prateek\"\n",
    "greet = \"good morning\""
   ]
  },
  {
   "cell_type": "code",
   "execution_count": 17,
   "id": "5c315d1c-552e-4558-afc5-4aed8995f4ed",
   "metadata": {},
   "outputs": [
    {
     "name": "stdout",
     "output_type": "stream",
     "text": [
      "Hello prateek good morning\n"
     ]
    }
   ],
   "source": [
    "print(f\"Hello {name} {greet}\")"
   ]
  },
  {
   "cell_type": "code",
   "execution_count": 18,
   "id": "15c476e3-08b6-4e90-821e-f768a55ab0be",
   "metadata": {},
   "outputs": [
    {
     "name": "stdin",
     "output_type": "stream",
     "text": [
      "Enter your name: Faizan\n"
     ]
    }
   ],
   "source": [
    "name = input(\"Enter your name:\")"
   ]
  },
  {
   "cell_type": "code",
   "execution_count": 19,
   "id": "73f97fa1-a5da-4948-aa43-008f92ebce61",
   "metadata": {},
   "outputs": [
    {
     "name": "stdin",
     "output_type": "stream",
     "text": [
      "Enter your marks: 78\n"
     ]
    }
   ],
   "source": [
    "marks = input(\"Enter your marks:\")"
   ]
  },
  {
   "cell_type": "code",
   "execution_count": 20,
   "id": "625bf8ca-ffb8-4915-84e1-62a9fcb22294",
   "metadata": {},
   "outputs": [
    {
     "name": "stdin",
     "output_type": "stream",
     "text": [
      "Enter subject name: Finance\n"
     ]
    }
   ],
   "source": [
    "subject = input(\"Enter subject name:\")"
   ]
  },
  {
   "cell_type": "code",
   "execution_count": 28,
   "id": "ad393b88-acf9-4a9a-b1f9-4acdd4067445",
   "metadata": {},
   "outputs": [
    {
     "name": "stdout",
     "output_type": "stream",
     "text": [
      "Hi my name is Faizan and I have scored 78 and in Finance subject.\n"
     ]
    }
   ],
   "source": [
    "print(f\"Hi my name is {name} and I have scored {marks} and in {subject} subject.\")"
   ]
  },
  {
   "cell_type": "code",
   "execution_count": 25,
   "id": "a7f23659-3443-4137-b3c7-f3f7decf4904",
   "metadata": {},
   "outputs": [
    {
     "name": "stdout",
     "output_type": "stream",
     "text": [
      "Hi my name is Faizan and I have scored 78 marks in Finance subject.\n"
     ]
    }
   ],
   "source": [
    "print(\"Hi my name is {} and I have scored {} marks in {} subject.\".format(name, marks, subject))"
   ]
  },
  {
   "cell_type": "code",
   "execution_count": 27,
   "id": "e588dd1e-5a95-4a0d-8c67-d551f288f479",
   "metadata": {},
   "outputs": [
    {
     "name": "stdin",
     "output_type": "stream",
     "text": [
      "enter your name: Faizan\n",
      "Enter your marks:  78\n",
      "enter your subject: Finance\n"
     ]
    }
   ],
   "source": [
    "name = input(\"enter your name:\")\n",
    "marks = input(\"Enter your marks: \")\n",
    "subject = input(\"enter your subject:\")"
   ]
  },
  {
   "cell_type": "code",
   "execution_count": 29,
   "id": "4bd6d0ce-cfdf-4515-a9ec-26f908435de4",
   "metadata": {},
   "outputs": [
    {
     "name": "stdout",
     "output_type": "stream",
     "text": [
      "Hi my name is Faizan and I have scored 78 marks in Finance subject.\n"
     ]
    }
   ],
   "source": [
    "print(\"Hi my name is {} and I have scored {} marks in {} subject.\".format(name, marks, subject))"
   ]
  },
  {
   "cell_type": "code",
   "execution_count": 31,
   "id": "275f7a33-39e1-44ec-b9ae-9f44e98fa1a0",
   "metadata": {},
   "outputs": [
    {
     "name": "stdout",
     "output_type": "stream",
     "text": [
      "Hi my name is Faizan and I have scored 78 in Finance subject.\n"
     ]
    }
   ],
   "source": [
    "print(f\"Hi my name is {name} and I have scored {marks} in {subject} subject.\")"
   ]
  },
  {
   "cell_type": "code",
   "execution_count": null,
   "id": "03ac840a-a08f-424f-a8f2-7f86895228f1",
   "metadata": {},
   "outputs": [],
   "source": []
  }
 ],
 "metadata": {
  "kernelspec": {
   "display_name": "Python 3 (ipykernel)",
   "language": "python",
   "name": "python3"
  },
  "language_info": {
   "codemirror_mode": {
    "name": "ipython",
    "version": 3
   },
   "file_extension": ".py",
   "mimetype": "text/x-python",
   "name": "python",
   "nbconvert_exporter": "python",
   "pygments_lexer": "ipython3",
   "version": "3.12.7"
  }
 },
 "nbformat": 4,
 "nbformat_minor": 5
}
