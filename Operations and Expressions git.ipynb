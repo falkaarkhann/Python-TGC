{
 "cells": [
  {
   "cell_type": "markdown",
   "id": "29589ae9-ae73-443f-9ff1-3da318237080",
   "metadata": {},
   "source": [
    "#Arithmetic Operators"
   ]
  },
  {
   "cell_type": "code",
   "execution_count": null,
   "id": "b375178c-c445-40a7-9860-6aab8a44db07",
   "metadata": {},
   "outputs": [],
   "source": [
    "# Arithmentic Operators\n",
    "# Comparison Operators\n",
    "# Logical Operators\n",
    "# Bitwise Operators\n",
    "# Assignment Operators\n",
    "# Special Operators"
   ]
  },
  {
   "cell_type": "code",
   "execution_count": null,
   "id": "c4b05f6a-c722-4b01-a873-bcb95fba8bec",
   "metadata": {},
   "outputs": [],
   "source": [
    "#Arithmetic Operators : +, -, *, /, //, **, %"
   ]
  },
  {
   "cell_type": "code",
   "execution_count": null,
   "id": "1c3d15b5-0606-4d08-97b6-2656a556a3ac",
   "metadata": {},
   "outputs": [],
   "source": []
  },
  {
   "cell_type": "code",
   "execution_count": null,
   "id": "c4c7f072-c649-445e-bba2-71f6cc5245cd",
   "metadata": {},
   "outputs": [],
   "source": []
  },
  {
   "cell_type": "code",
   "execution_count": 2,
   "id": "d3c882b9-8931-4542-8be3-9f511d833261",
   "metadata": {},
   "outputs": [
    {
     "data": {
      "text/plain": [
       "65"
      ]
     },
     "execution_count": 2,
     "metadata": {},
     "output_type": "execute_result"
    }
   ],
   "source": [
    "58+7"
   ]
  },
  {
   "cell_type": "code",
   "execution_count": 1,
   "id": "5029e38d-961b-4e08-a390-46d40cb15f54",
   "metadata": {},
   "outputs": [
    {
     "data": {
      "text/plain": [
       "70"
      ]
     },
     "execution_count": 1,
     "metadata": {},
     "output_type": "execute_result"
    }
   ],
   "source": [
    "65+5"
   ]
  },
  {
   "cell_type": "code",
   "execution_count": 4,
   "id": "dd833476-487b-40f7-bc8c-71ab2bc00ebf",
   "metadata": {},
   "outputs": [
    {
     "data": {
      "text/plain": [
       "63"
      ]
     },
     "execution_count": 4,
     "metadata": {},
     "output_type": "execute_result"
    }
   ],
   "source": [
    "55+8"
   ]
  },
  {
   "cell_type": "code",
   "execution_count": 4,
   "id": "a543b386-8489-47eb-aa4a-7d1bd445f257",
   "metadata": {},
   "outputs": [
    {
     "data": {
      "text/plain": [
       "103"
      ]
     },
     "execution_count": 4,
     "metadata": {},
     "output_type": "execute_result"
    }
   ],
   "source": [
    "78+25"
   ]
  },
  {
   "cell_type": "code",
   "execution_count": 6,
   "id": "b14f6f00-20b2-4266-9401-5114c4d966e5",
   "metadata": {},
   "outputs": [
    {
     "data": {
      "text/plain": [
       "72"
      ]
     },
     "execution_count": 6,
     "metadata": {},
     "output_type": "execute_result"
    }
   ],
   "source": [
    "14+58"
   ]
  },
  {
   "cell_type": "code",
   "execution_count": 8,
   "id": "9b1a24a6-8dd9-44d2-8dd8-17956f40abb8",
   "metadata": {},
   "outputs": [
    {
     "data": {
      "text/plain": [
       "72"
      ]
     },
     "execution_count": 8,
     "metadata": {},
     "output_type": "execute_result"
    }
   ],
   "source": [
    "14+58"
   ]
  },
  {
   "cell_type": "code",
   "execution_count": 10,
   "id": "bfdf040d-3251-47c5-baba-c6fdd5e93679",
   "metadata": {},
   "outputs": [
    {
     "data": {
      "text/plain": [
       "38"
      ]
     },
     "execution_count": 10,
     "metadata": {},
     "output_type": "execute_result"
    }
   ],
   "source": [
    "58-20"
   ]
  },
  {
   "cell_type": "code",
   "execution_count": 12,
   "id": "1b4821d8-84b6-421c-9ce7-92e3b0d68143",
   "metadata": {},
   "outputs": [
    {
     "data": {
      "text/plain": [
       "4"
      ]
     },
     "execution_count": 12,
     "metadata": {},
     "output_type": "execute_result"
    }
   ],
   "source": [
    "14-10"
   ]
  },
  {
   "cell_type": "code",
   "execution_count": 14,
   "id": "b9596342-819c-4e5f-8fa2-a98e3bc8b465",
   "metadata": {},
   "outputs": [
    {
     "data": {
      "text/plain": [
       "4"
      ]
     },
     "execution_count": 14,
     "metadata": {},
     "output_type": "execute_result"
    }
   ],
   "source": [
    "29-25"
   ]
  },
  {
   "cell_type": "code",
   "execution_count": 16,
   "id": "5f778d81-8e25-4415-82d4-5c9d4d13ea71",
   "metadata": {},
   "outputs": [
    {
     "data": {
      "text/plain": [
       "-1"
      ]
     },
     "execution_count": 16,
     "metadata": {},
     "output_type": "execute_result"
    }
   ],
   "source": [
    "14-15"
   ]
  },
  {
   "cell_type": "code",
   "execution_count": 18,
   "id": "bc27157e-8def-4ff8-8b18-dc1bd6374ca8",
   "metadata": {},
   "outputs": [
    {
     "data": {
      "text/plain": [
       "69"
      ]
     },
     "execution_count": 18,
     "metadata": {},
     "output_type": "execute_result"
    }
   ],
   "source": [
    "147-78"
   ]
  },
  {
   "cell_type": "code",
   "execution_count": 20,
   "id": "ee00c93c-2cb9-4147-88cf-444814794077",
   "metadata": {},
   "outputs": [
    {
     "data": {
      "text/plain": [
       "18.32"
      ]
     },
     "execution_count": 20,
     "metadata": {},
     "output_type": "execute_result"
    }
   ],
   "source": [
    "458/25"
   ]
  },
  {
   "cell_type": "code",
   "execution_count": 22,
   "id": "29f0ea10-46dd-40ba-9d20-21e7199d9c27",
   "metadata": {},
   "outputs": [
    {
     "data": {
      "text/plain": [
       "0.48"
      ]
     },
     "execution_count": 22,
     "metadata": {},
     "output_type": "execute_result"
    }
   ],
   "source": [
    "12/25"
   ]
  },
  {
   "cell_type": "code",
   "execution_count": 6,
   "id": "ea376ce9-0029-4d6c-88c3-a064755da726",
   "metadata": {},
   "outputs": [
    {
     "data": {
      "text/plain": [
       "3.0"
      ]
     },
     "execution_count": 6,
     "metadata": {},
     "output_type": "execute_result"
    }
   ],
   "source": [
    "15/5"
   ]
  },
  {
   "cell_type": "code",
   "execution_count": 8,
   "id": "e5cb7ed7-d5ac-488b-9c5c-5166044e94d6",
   "metadata": {},
   "outputs": [
    {
     "data": {
      "text/plain": [
       "10.0"
      ]
     },
     "execution_count": 8,
     "metadata": {},
     "output_type": "execute_result"
    }
   ],
   "source": [
    "10/1"
   ]
  },
  {
   "cell_type": "code",
   "execution_count": 24,
   "id": "b47863e4-8dfc-4c58-aa37-34d9437ad2c5",
   "metadata": {},
   "outputs": [
    {
     "data": {
      "text/plain": [
       "3.5"
      ]
     },
     "execution_count": 24,
     "metadata": {},
     "output_type": "execute_result"
    }
   ],
   "source": [
    "14/4"
   ]
  },
  {
   "cell_type": "code",
   "execution_count": 10,
   "id": "3d4186f0-08d8-4fd8-9bc4-49442e48cb59",
   "metadata": {},
   "outputs": [],
   "source": [
    "# Camparison Operators\n",
    "# Normal Division # it provides us answer in float"
   ]
  },
  {
   "cell_type": "code",
   "execution_count": 12,
   "id": "a2a1085d-be5e-4e83-855e-4f4d3afd81c1",
   "metadata": {},
   "outputs": [
    {
     "data": {
      "text/plain": [
       "False"
      ]
     },
     "execution_count": 12,
     "metadata": {},
     "output_type": "execute_result"
    }
   ],
   "source": [
    "10>15"
   ]
  },
  {
   "cell_type": "code",
   "execution_count": 14,
   "id": "a5e15a41-a3b3-40c0-84f3-82c611629592",
   "metadata": {},
   "outputs": [
    {
     "data": {
      "text/plain": [
       "False"
      ]
     },
     "execution_count": 14,
     "metadata": {},
     "output_type": "execute_result"
    }
   ],
   "source": [
    "10<10"
   ]
  },
  {
   "cell_type": "code",
   "execution_count": 16,
   "id": "0511075e-bbeb-4842-8ef2-8dc06f733708",
   "metadata": {},
   "outputs": [
    {
     "data": {
      "text/plain": [
       "True"
      ]
     },
     "execution_count": 16,
     "metadata": {},
     "output_type": "execute_result"
    }
   ],
   "source": [
    "15>5"
   ]
  },
  {
   "cell_type": "code",
   "execution_count": 18,
   "id": "19dd562d-4088-4eff-a541-23b9d5f0afcd",
   "metadata": {},
   "outputs": [
    {
     "data": {
      "text/plain": [
       "True"
      ]
     },
     "execution_count": 18,
     "metadata": {},
     "output_type": "execute_result"
    }
   ],
   "source": [
    "14>5"
   ]
  },
  {
   "cell_type": "code",
   "execution_count": 20,
   "id": "4c154ed1-08c3-40e3-84bb-5aecfee51a86",
   "metadata": {},
   "outputs": [
    {
     "data": {
      "text/plain": [
       "True"
      ]
     },
     "execution_count": 20,
     "metadata": {},
     "output_type": "execute_result"
    }
   ],
   "source": [
    "15>3"
   ]
  },
  {
   "cell_type": "code",
   "execution_count": 26,
   "id": "0012c8d8-6c11-48f4-a45c-5870e3afc375",
   "metadata": {},
   "outputs": [
    {
     "data": {
      "text/plain": [
       "False"
      ]
     },
     "execution_count": 26,
     "metadata": {},
     "output_type": "execute_result"
    }
   ],
   "source": [
    "10>15"
   ]
  },
  {
   "cell_type": "code",
   "execution_count": 28,
   "id": "4b232faa-9e9c-434a-84ec-1dc55ba8e6e0",
   "metadata": {},
   "outputs": [
    {
     "data": {
      "text/plain": [
       "True"
      ]
     },
     "execution_count": 28,
     "metadata": {},
     "output_type": "execute_result"
    }
   ],
   "source": [
    "25>10"
   ]
  },
  {
   "cell_type": "code",
   "execution_count": 30,
   "id": "cdbbef23-7315-4590-98f1-2f21531a1b45",
   "metadata": {},
   "outputs": [
    {
     "data": {
      "text/plain": [
       "True"
      ]
     },
     "execution_count": 30,
     "metadata": {},
     "output_type": "execute_result"
    }
   ],
   "source": [
    "65>25"
   ]
  },
  {
   "cell_type": "code",
   "execution_count": 32,
   "id": "69785e45-7df0-4bed-b6a8-610e5e004fe3",
   "metadata": {},
   "outputs": [
    {
     "data": {
      "text/plain": [
       "True"
      ]
     },
     "execution_count": 32,
     "metadata": {},
     "output_type": "execute_result"
    }
   ],
   "source": [
    "10<25"
   ]
  },
  {
   "cell_type": "code",
   "execution_count": 34,
   "id": "07c204ee-afc8-4c21-b0a8-452177bc8994",
   "metadata": {},
   "outputs": [
    {
     "data": {
      "text/plain": [
       "False"
      ]
     },
     "execution_count": 34,
     "metadata": {},
     "output_type": "execute_result"
    }
   ],
   "source": [
    "10>25"
   ]
  },
  {
   "cell_type": "code",
   "execution_count": 36,
   "id": "09a4df36-7236-419b-b2cc-f1080cbeddce",
   "metadata": {},
   "outputs": [
    {
     "data": {
      "text/plain": [
       "True"
      ]
     },
     "execution_count": 36,
     "metadata": {},
     "output_type": "execute_result"
    }
   ],
   "source": [
    "55>25"
   ]
  },
  {
   "cell_type": "code",
   "execution_count": 38,
   "id": "c96c9fec-ebd6-4192-bad3-b9bf9f922154",
   "metadata": {},
   "outputs": [
    {
     "data": {
      "text/plain": [
       "True"
      ]
     },
     "execution_count": 38,
     "metadata": {},
     "output_type": "execute_result"
    }
   ],
   "source": [
    "20>10"
   ]
  },
  {
   "cell_type": "code",
   "execution_count": 40,
   "id": "672dfeae-029e-4eb3-a77b-a4d272777faa",
   "metadata": {},
   "outputs": [
    {
     "data": {
      "text/plain": [
       "True"
      ]
     },
     "execution_count": 40,
     "metadata": {},
     "output_type": "execute_result"
    }
   ],
   "source": [
    "98>88"
   ]
  },
  {
   "cell_type": "code",
   "execution_count": 42,
   "id": "e91274c9-af80-4c97-8d93-e7f4e72ec7b7",
   "metadata": {},
   "outputs": [
    {
     "data": {
      "text/plain": [
       "True"
      ]
     },
     "execution_count": 42,
     "metadata": {},
     "output_type": "execute_result"
    }
   ],
   "source": [
    "55>=25"
   ]
  },
  {
   "cell_type": "code",
   "execution_count": 44,
   "id": "9ba2f7ba-9d67-4cb0-8115-00c1eeb607b9",
   "metadata": {},
   "outputs": [
    {
     "data": {
      "text/plain": [
       "True"
      ]
     },
     "execution_count": 44,
     "metadata": {},
     "output_type": "execute_result"
    }
   ],
   "source": [
    "54>=54"
   ]
  },
  {
   "cell_type": "code",
   "execution_count": 46,
   "id": "b0b7ae70-6b4b-4166-a0f5-3773a071ffb2",
   "metadata": {},
   "outputs": [
    {
     "data": {
      "text/plain": [
       "True"
      ]
     },
     "execution_count": 46,
     "metadata": {},
     "output_type": "execute_result"
    }
   ],
   "source": [
    "10>=10"
   ]
  },
  {
   "cell_type": "code",
   "execution_count": 48,
   "id": "8ce3c774-9e41-49f7-99e8-2da67507a4b9",
   "metadata": {},
   "outputs": [
    {
     "data": {
      "text/plain": [
       "True"
      ]
     },
     "execution_count": 48,
     "metadata": {},
     "output_type": "execute_result"
    }
   ],
   "source": [
    "19>=15"
   ]
  },
  {
   "cell_type": "code",
   "execution_count": 50,
   "id": "a910e31b-c932-4bdd-86f9-d42d32b4cfec",
   "metadata": {},
   "outputs": [
    {
     "data": {
      "text/plain": [
       "True"
      ]
     },
     "execution_count": 50,
     "metadata": {},
     "output_type": "execute_result"
    }
   ],
   "source": [
    "20>14"
   ]
  },
  {
   "cell_type": "code",
   "execution_count": 22,
   "id": "32d6881a-5900-4398-b9de-29c3e8957c08",
   "metadata": {},
   "outputs": [],
   "source": [
    "# Floor Division # # it provide us answer lower Integers"
   ]
  },
  {
   "cell_type": "code",
   "execution_count": 24,
   "id": "5b5662fc-12a2-4d8b-a1c1-bbbd76fdcb72",
   "metadata": {},
   "outputs": [
    {
     "data": {
      "text/plain": [
       "3"
      ]
     },
     "execution_count": 24,
     "metadata": {},
     "output_type": "execute_result"
    }
   ],
   "source": [
    "15//5"
   ]
  },
  {
   "cell_type": "code",
   "execution_count": 27,
   "id": "2577dfee-cf39-4bc2-832b-087ca6c3c12c",
   "metadata": {},
   "outputs": [
    {
     "data": {
      "text/plain": [
       "2"
      ]
     },
     "execution_count": 27,
     "metadata": {},
     "output_type": "execute_result"
    }
   ],
   "source": [
    "10//5"
   ]
  },
  {
   "cell_type": "code",
   "execution_count": 29,
   "id": "3e7cf37a-1af1-4646-982e-392baf4bafff",
   "metadata": {},
   "outputs": [
    {
     "data": {
      "text/plain": [
       "3"
      ]
     },
     "execution_count": 29,
     "metadata": {},
     "output_type": "execute_result"
    }
   ],
   "source": [
    "10//3"
   ]
  },
  {
   "cell_type": "code",
   "execution_count": 31,
   "id": "07a645d9-12f9-4c13-9f49-9a2f855135a5",
   "metadata": {},
   "outputs": [
    {
     "data": {
      "text/plain": [
       "2"
      ]
     },
     "execution_count": 31,
     "metadata": {},
     "output_type": "execute_result"
    }
   ],
   "source": [
    "14//5"
   ]
  },
  {
   "cell_type": "code",
   "execution_count": 33,
   "id": "03c5e7f0-4fca-4058-b3d7-bbe9b8d29fb6",
   "metadata": {},
   "outputs": [
    {
     "data": {
      "text/plain": [
       "6"
      ]
     },
     "execution_count": 33,
     "metadata": {},
     "output_type": "execute_result"
    }
   ],
   "source": [
    "13//2"
   ]
  },
  {
   "cell_type": "code",
   "execution_count": 75,
   "id": "ff6af60f-5754-4337-9ff5-af4b4c964f86",
   "metadata": {},
   "outputs": [
    {
     "data": {
      "text/plain": [
       "4"
      ]
     },
     "execution_count": 75,
     "metadata": {},
     "output_type": "execute_result"
    }
   ],
   "source": [
    "12//3"
   ]
  },
  {
   "cell_type": "code",
   "execution_count": 78,
   "id": "a4b63fab-d349-48fc-ba82-61d5206d2433",
   "metadata": {},
   "outputs": [
    {
     "data": {
      "text/plain": [
       "6"
      ]
     },
     "execution_count": 78,
     "metadata": {},
     "output_type": "execute_result"
    }
   ],
   "source": [
    "12//2"
   ]
  },
  {
   "cell_type": "code",
   "execution_count": 81,
   "id": "218cb393-fc73-4ae4-84d2-d44dd845e9f8",
   "metadata": {},
   "outputs": [
    {
     "data": {
      "text/plain": [
       "3"
      ]
     },
     "execution_count": 81,
     "metadata": {},
     "output_type": "execute_result"
    }
   ],
   "source": [
    "10//3"
   ]
  },
  {
   "cell_type": "code",
   "execution_count": 83,
   "id": "b2e238f5-4168-4574-9218-729f514f4417",
   "metadata": {},
   "outputs": [
    {
     "data": {
      "text/plain": [
       "3.3333333333333335"
      ]
     },
     "execution_count": 83,
     "metadata": {},
     "output_type": "execute_result"
    }
   ],
   "source": [
    "10/3"
   ]
  },
  {
   "cell_type": "code",
   "execution_count": 85,
   "id": "526e7f06-8f50-47dc-ac4e-6f61573fcaf4",
   "metadata": {},
   "outputs": [
    {
     "data": {
      "text/plain": [
       "4.0"
      ]
     },
     "execution_count": 85,
     "metadata": {},
     "output_type": "execute_result"
    }
   ],
   "source": [
    "12/3"
   ]
  },
  {
   "cell_type": "code",
   "execution_count": 88,
   "id": "7f053b7c-5ba1-456f-9c9d-799b86d9f4f8",
   "metadata": {},
   "outputs": [
    {
     "data": {
      "text/plain": [
       "122"
      ]
     },
     "execution_count": 88,
     "metadata": {},
     "output_type": "execute_result"
    }
   ],
   "source": [
    "122"
   ]
  },
  {
   "cell_type": "code",
   "execution_count": null,
   "id": "046310c9-1f44-4c98-9618-8f12e9552bc3",
   "metadata": {},
   "outputs": [],
   "source": [
    "# Modulus or Moduli : ## % it provid us answer remainder"
   ]
  },
  {
   "cell_type": "code",
   "execution_count": 35,
   "id": "453e2425-9892-47e4-9b59-b57fd1db6791",
   "metadata": {},
   "outputs": [
    {
     "data": {
      "text/plain": [
       "2"
      ]
     },
     "execution_count": 35,
     "metadata": {},
     "output_type": "execute_result"
    }
   ],
   "source": [
    "12%5"
   ]
  },
  {
   "cell_type": "code",
   "execution_count": 37,
   "id": "7c8d98d4-55d8-4e2e-8a11-fb8d1f9d83c2",
   "metadata": {},
   "outputs": [
    {
     "data": {
      "text/plain": [
       "0"
      ]
     },
     "execution_count": 37,
     "metadata": {},
     "output_type": "execute_result"
    }
   ],
   "source": [
    "10%2"
   ]
  },
  {
   "cell_type": "code",
   "execution_count": 39,
   "id": "edacb781-fd01-446d-993a-621afa49d5f6",
   "metadata": {},
   "outputs": [
    {
     "data": {
      "text/plain": [
       "0"
      ]
     },
     "execution_count": 39,
     "metadata": {},
     "output_type": "execute_result"
    }
   ],
   "source": [
    "14%2"
   ]
  },
  {
   "cell_type": "code",
   "execution_count": 41,
   "id": "8d76bff8-66d1-418b-932c-6cb7e0d5ea5e",
   "metadata": {},
   "outputs": [
    {
     "data": {
      "text/plain": [
       "1"
      ]
     },
     "execution_count": 41,
     "metadata": {},
     "output_type": "execute_result"
    }
   ],
   "source": [
    "15%2"
   ]
  },
  {
   "cell_type": "code",
   "execution_count": 43,
   "id": "4c65d7a5-be63-4cf9-866f-5784bfafbd1d",
   "metadata": {},
   "outputs": [
    {
     "data": {
      "text/plain": [
       "0"
      ]
     },
     "execution_count": 43,
     "metadata": {},
     "output_type": "execute_result"
    }
   ],
   "source": [
    "15%3"
   ]
  },
  {
   "cell_type": "code",
   "execution_count": 95,
   "id": "6e88a971-0ffb-4b7d-b073-f574a036a52b",
   "metadata": {},
   "outputs": [
    {
     "data": {
      "text/plain": [
       "2"
      ]
     },
     "execution_count": 95,
     "metadata": {},
     "output_type": "execute_result"
    }
   ],
   "source": [
    "12 % 5"
   ]
  },
  {
   "cell_type": "code",
   "execution_count": 97,
   "id": "492cbb48-07d9-46f5-94df-22a5e167c39f",
   "metadata": {},
   "outputs": [
    {
     "data": {
      "text/plain": [
       "5"
      ]
     },
     "execution_count": 97,
     "metadata": {},
     "output_type": "execute_result"
    }
   ],
   "source": [
    "12%7 "
   ]
  },
  {
   "cell_type": "code",
   "execution_count": 99,
   "id": "04c2c93a-4669-47a2-b680-0a9ae1cf9d90",
   "metadata": {},
   "outputs": [
    {
     "data": {
      "text/plain": [
       "0"
      ]
     },
     "execution_count": 99,
     "metadata": {},
     "output_type": "execute_result"
    }
   ],
   "source": [
    "20 % 4"
   ]
  },
  {
   "cell_type": "code",
   "execution_count": 101,
   "id": "8513935c-a8f9-4e6f-9876-59d979cd6ad6",
   "metadata": {},
   "outputs": [
    {
     "data": {
      "text/plain": [
       "1"
      ]
     },
     "execution_count": 101,
     "metadata": {},
     "output_type": "execute_result"
    }
   ],
   "source": [
    "16% 5"
   ]
  },
  {
   "cell_type": "code",
   "execution_count": 103,
   "id": "22203e34-0a0a-436e-8e0c-a6a333104883",
   "metadata": {},
   "outputs": [
    {
     "data": {
      "text/plain": [
       "3125"
      ]
     },
     "execution_count": 103,
     "metadata": {},
     "output_type": "execute_result"
    }
   ],
   "source": [
    "5 ** 5"
   ]
  },
  {
   "cell_type": "code",
   "execution_count": 45,
   "id": "1bdf667f-5573-4c27-8615-344dd7d92a58",
   "metadata": {},
   "outputs": [
    {
     "data": {
      "text/plain": [
       "100"
      ]
     },
     "execution_count": 45,
     "metadata": {},
     "output_type": "execute_result"
    }
   ],
   "source": [
    "10**2"
   ]
  },
  {
   "cell_type": "code",
   "execution_count": 47,
   "id": "0691ca11-cc7f-4f27-92eb-b8717f6c08fd",
   "metadata": {},
   "outputs": [
    {
     "data": {
      "text/plain": [
       "759375"
      ]
     },
     "execution_count": 47,
     "metadata": {},
     "output_type": "execute_result"
    }
   ],
   "source": [
    "15**5"
   ]
  },
  {
   "cell_type": "code",
   "execution_count": 49,
   "id": "521dd054-f3dc-4859-9635-e92440f15910",
   "metadata": {},
   "outputs": [
    {
     "data": {
      "text/plain": [
       "1000000"
      ]
     },
     "execution_count": 49,
     "metadata": {},
     "output_type": "execute_result"
    }
   ],
   "source": [
    "10**6"
   ]
  },
  {
   "cell_type": "code",
   "execution_count": 105,
   "id": "77f12d24-98d6-4dbf-a63a-4dacec012544",
   "metadata": {},
   "outputs": [
    {
     "data": {
      "text/plain": [
       "10000000000000000000000000"
      ]
     },
     "execution_count": 105,
     "metadata": {},
     "output_type": "execute_result"
    }
   ],
   "source": [
    "10**25"
   ]
  },
  {
   "cell_type": "code",
   "execution_count": 107,
   "id": "9fbd1e4c-b4d3-41b6-ac2b-f31ae3755d03",
   "metadata": {},
   "outputs": [
    {
     "data": {
      "text/plain": [
       "1"
      ]
     },
     "execution_count": 107,
     "metadata": {},
     "output_type": "execute_result"
    }
   ],
   "source": [
    "1**2"
   ]
  },
  {
   "cell_type": "code",
   "execution_count": 111,
   "id": "b0984aa2-5674-422f-ae1a-e56321ce398f",
   "metadata": {},
   "outputs": [
    {
     "data": {
      "text/plain": [
       "27"
      ]
     },
     "execution_count": 111,
     "metadata": {},
     "output_type": "execute_result"
    }
   ],
   "source": [
    "3**3"
   ]
  },
  {
   "cell_type": "markdown",
   "id": "7d0b2d5b-13ff-44a4-a07e-d4ebffc5cd85",
   "metadata": {},
   "source": [
    "# # Comparison Operators : >, <, >=, <=, ==, !=  # it provide us answere in booleanOperators and Expressions"
   ]
  },
  {
   "cell_type": "code",
   "execution_count": 54,
   "id": "b8d6933b-9cd2-4d7d-bea4-7fc8ca664cb4",
   "metadata": {},
   "outputs": [
    {
     "data": {
      "text/plain": [
       "False"
      ]
     },
     "execution_count": 54,
     "metadata": {},
     "output_type": "execute_result"
    }
   ],
   "source": [
    "10>=25"
   ]
  },
  {
   "cell_type": "code",
   "execution_count": 56,
   "id": "fd02b58f-ecf1-4fc9-b4a0-511d1b438e4c",
   "metadata": {},
   "outputs": [
    {
     "data": {
      "text/plain": [
       "False"
      ]
     },
     "execution_count": 56,
     "metadata": {},
     "output_type": "execute_result"
    }
   ],
   "source": [
    "15>=25"
   ]
  },
  {
   "cell_type": "code",
   "execution_count": 60,
   "id": "32ba1548-4e0d-41d0-97b1-3218a84575dd",
   "metadata": {},
   "outputs": [
    {
     "data": {
      "text/plain": [
       "False"
      ]
     },
     "execution_count": 60,
     "metadata": {},
     "output_type": "execute_result"
    }
   ],
   "source": [
    "10>=18"
   ]
  },
  {
   "cell_type": "code",
   "execution_count": 62,
   "id": "96339662-3b9c-41ed-83d0-6e37fc80c21a",
   "metadata": {},
   "outputs": [
    {
     "data": {
      "text/plain": [
       "False"
      ]
     },
     "execution_count": 62,
     "metadata": {},
     "output_type": "execute_result"
    }
   ],
   "source": [
    "15<=10"
   ]
  },
  {
   "cell_type": "code",
   "execution_count": 91,
   "id": "0bcf04e8-519b-461d-8fb8-cb20e0873e35",
   "metadata": {},
   "outputs": [
    {
     "data": {
      "text/plain": [
       "True"
      ]
     },
     "execution_count": 91,
     "metadata": {},
     "output_type": "execute_result"
    }
   ],
   "source": [
    "95>=25"
   ]
  },
  {
   "cell_type": "code",
   "execution_count": 54,
   "id": "6f22626d-ef3c-4259-b1a5-02c283b587f8",
   "metadata": {},
   "outputs": [
    {
     "data": {
      "text/plain": [
       "False"
      ]
     },
     "execution_count": 54,
     "metadata": {},
     "output_type": "execute_result"
    }
   ],
   "source": [
    "00>=15"
   ]
  },
  {
   "cell_type": "code",
   "execution_count": 58,
   "id": "a76756d2-2404-42cd-b9b1-83777727e6c5",
   "metadata": {},
   "outputs": [
    {
     "data": {
      "text/plain": [
       "False"
      ]
     },
     "execution_count": 58,
     "metadata": {},
     "output_type": "execute_result"
    }
   ],
   "source": [
    "10>=15"
   ]
  },
  {
   "cell_type": "code",
   "execution_count": 60,
   "id": "dba794ce-5c1d-443a-a083-41c47eaef703",
   "metadata": {},
   "outputs": [
    {
     "data": {
      "text/plain": [
       "False"
      ]
     },
     "execution_count": 60,
     "metadata": {},
     "output_type": "execute_result"
    }
   ],
   "source": [
    "10>=78"
   ]
  },
  {
   "cell_type": "code",
   "execution_count": 68,
   "id": "f44b316a-2904-4fad-a639-d40d5e8904c0",
   "metadata": {},
   "outputs": [],
   "source": [
    "no1 = 10\n",
    "no2 =20"
   ]
  },
  {
   "cell_type": "code",
   "execution_count": 70,
   "id": "20bdc314-b697-44b9-a83f-f4020819dc7e",
   "metadata": {},
   "outputs": [
    {
     "name": "stdout",
     "output_type": "stream",
     "text": [
      "False\n",
      "True\n",
      "False\n",
      "True\n",
      "False\n",
      "True\n"
     ]
    }
   ],
   "source": [
    "print(no1>no2)\n",
    "print(no1<no2)\n",
    "print(no1>=no2)\n",
    "print(no1<=no2)\n",
    "print(no1 == no2)\n",
    "print(no1 != no2)"
   ]
  },
  {
   "cell_type": "code",
   "execution_count": 76,
   "id": "b6ee1b69-5859-49c4-b177-e2f351e3a1cc",
   "metadata": {},
   "outputs": [
    {
     "name": "stdout",
     "output_type": "stream",
     "text": [
      "False\n",
      "True\n",
      "False\n",
      "True\n",
      "False\n"
     ]
    },
    {
     "ename": "NameError",
     "evalue": "name 'no' is not defined",
     "output_type": "error",
     "traceback": [
      "\u001b[1;31m---------------------------------------------------------------------------\u001b[0m",
      "\u001b[1;31mNameError\u001b[0m                                 Traceback (most recent call last)",
      "Cell \u001b[1;32mIn[76], line 6\u001b[0m\n\u001b[0;32m      4\u001b[0m \u001b[38;5;28mprint\u001b[39m(no1\u001b[38;5;241m<\u001b[39m\u001b[38;5;241m=\u001b[39mno2)\n\u001b[0;32m      5\u001b[0m \u001b[38;5;28mprint\u001b[39m(no1\u001b[38;5;241m==\u001b[39mno2)\n\u001b[1;32m----> 6\u001b[0m \u001b[38;5;28mprint\u001b[39m(no\u001b[38;5;241m!=\u001b[39m no2)\n",
      "\u001b[1;31mNameError\u001b[0m: name 'no' is not defined"
     ]
    }
   ],
   "source": [
    "print(no1>no2)\n",
    "print(no1<no2)\n",
    "print(no1>=no2)\n",
    "print(no1<=no2)\n",
    "print(no1==no2)\n",
    "print(no!= no2)"
   ]
  },
  {
   "cell_type": "code",
   "execution_count": 78,
   "id": "0c1bdbe6-8810-4b2e-8c5c-b6560d974d72",
   "metadata": {},
   "outputs": [],
   "source": [
    "d = 14"
   ]
  },
  {
   "cell_type": "code",
   "execution_count": 66,
   "id": "a37ae6fc-dbae-4ba6-b0d5-71d2374bda16",
   "metadata": {},
   "outputs": [],
   "source": [
    "a = 10 "
   ]
  },
  {
   "cell_type": "code",
   "execution_count": 68,
   "id": "57baea2b-50cb-44ee-b37f-9a948ecfc7b6",
   "metadata": {},
   "outputs": [],
   "source": [
    "a = a+2"
   ]
  },
  {
   "cell_type": "code",
   "execution_count": 70,
   "id": "97627ae3-911a-42d8-bf3f-67ee087c07dc",
   "metadata": {},
   "outputs": [
    {
     "data": {
      "text/plain": [
       "12"
      ]
     },
     "execution_count": 70,
     "metadata": {},
     "output_type": "execute_result"
    }
   ],
   "source": [
    "a"
   ]
  },
  {
   "cell_type": "code",
   "execution_count": 72,
   "id": "e6519ef3-7f29-40de-a3eb-fe718fa041fd",
   "metadata": {},
   "outputs": [
    {
     "data": {
      "text/plain": [
       "12"
      ]
     },
     "execution_count": 72,
     "metadata": {},
     "output_type": "execute_result"
    }
   ],
   "source": [
    "a"
   ]
  },
  {
   "cell_type": "code",
   "execution_count": 74,
   "id": "fa64262d-3cb5-440d-903a-b543acb34717",
   "metadata": {},
   "outputs": [],
   "source": [
    "a = a-5"
   ]
  },
  {
   "cell_type": "code",
   "execution_count": 76,
   "id": "bb2918a7-b3b9-4fe7-aef8-a60741d1a2a8",
   "metadata": {},
   "outputs": [
    {
     "data": {
      "text/plain": [
       "7"
      ]
     },
     "execution_count": 76,
     "metadata": {},
     "output_type": "execute_result"
    }
   ],
   "source": [
    "a"
   ]
  },
  {
   "cell_type": "code",
   "execution_count": 78,
   "id": "1ba4d6bd-0ae0-49bb-acfe-d6be53c0addd",
   "metadata": {},
   "outputs": [],
   "source": [
    "s =10"
   ]
  },
  {
   "cell_type": "code",
   "execution_count": 80,
   "id": "0523f7e6-6f4c-4b22-9946-74e9d53cc737",
   "metadata": {},
   "outputs": [],
   "source": [
    "a=+2"
   ]
  },
  {
   "cell_type": "code",
   "execution_count": 82,
   "id": "b62d444c-faef-4f7e-ae7e-fe618ef50eba",
   "metadata": {},
   "outputs": [
    {
     "data": {
      "text/plain": [
       "2"
      ]
     },
     "execution_count": 82,
     "metadata": {},
     "output_type": "execute_result"
    }
   ],
   "source": [
    "a"
   ]
  },
  {
   "cell_type": "code",
   "execution_count": 84,
   "id": "2436d986-f315-4f97-b3ca-c0ca49d20955",
   "metadata": {},
   "outputs": [],
   "source": [
    "s+=5"
   ]
  },
  {
   "cell_type": "code",
   "execution_count": 86,
   "id": "8eaf844b-4d27-4616-9220-e4d9084413f2",
   "metadata": {},
   "outputs": [
    {
     "data": {
      "text/plain": [
       "15"
      ]
     },
     "execution_count": 86,
     "metadata": {},
     "output_type": "execute_result"
    }
   ],
   "source": [
    "s"
   ]
  },
  {
   "cell_type": "code",
   "execution_count": 88,
   "id": "c275e388-e0e9-44e3-ba48-4bf1e4cfd674",
   "metadata": {},
   "outputs": [
    {
     "data": {
      "text/plain": [
       "5"
      ]
     },
     "execution_count": 88,
     "metadata": {},
     "output_type": "execute_result"
    }
   ],
   "source": [
    "s-+10"
   ]
  },
  {
   "cell_type": "code",
   "execution_count": 90,
   "id": "81f6880f-8cda-4163-b244-be1a78a44b7a",
   "metadata": {},
   "outputs": [
    {
     "data": {
      "text/plain": [
       "15"
      ]
     },
     "execution_count": 90,
     "metadata": {},
     "output_type": "execute_result"
    }
   ],
   "source": [
    "s"
   ]
  },
  {
   "cell_type": "code",
   "execution_count": 92,
   "id": "9f5c7492-a5cb-4abd-8a92-2dd8ffc6c907",
   "metadata": {},
   "outputs": [],
   "source": [
    "s/=5"
   ]
  },
  {
   "cell_type": "code",
   "execution_count": 94,
   "id": "68049050-9ce7-4f97-ad46-1ba77a5124b3",
   "metadata": {},
   "outputs": [
    {
     "data": {
      "text/plain": [
       "3.0"
      ]
     },
     "execution_count": 94,
     "metadata": {},
     "output_type": "execute_result"
    }
   ],
   "source": [
    "s"
   ]
  },
  {
   "cell_type": "code",
   "execution_count": 96,
   "id": "50ee75b1-4b3b-4f86-8734-573c5b01455c",
   "metadata": {},
   "outputs": [
    {
     "data": {
      "text/plain": [
       "3.0"
      ]
     },
     "execution_count": 96,
     "metadata": {},
     "output_type": "execute_result"
    }
   ],
   "source": [
    "s##=3"
   ]
  },
  {
   "cell_type": "code",
   "execution_count": 98,
   "id": "29f16c8f-bc45-41c8-ba31-01b6f8245deb",
   "metadata": {},
   "outputs": [
    {
     "data": {
      "text/plain": [
       "3.0"
      ]
     },
     "execution_count": 98,
     "metadata": {},
     "output_type": "execute_result"
    }
   ],
   "source": [
    "s"
   ]
  },
  {
   "cell_type": "code",
   "execution_count": 100,
   "id": "3aee40bc-4aa7-4331-ac50-7a53770333a4",
   "metadata": {},
   "outputs": [],
   "source": [
    "s//=10"
   ]
  },
  {
   "cell_type": "code",
   "execution_count": 102,
   "id": "cf508039-f6a4-4d46-a516-8f9c43c4fca2",
   "metadata": {},
   "outputs": [
    {
     "data": {
      "text/plain": [
       "0.0"
      ]
     },
     "execution_count": 102,
     "metadata": {},
     "output_type": "execute_result"
    }
   ],
   "source": [
    "s"
   ]
  },
  {
   "cell_type": "code",
   "execution_count": 104,
   "id": "b3ccd0a5-4fe9-45a2-928d-6260f3b95548",
   "metadata": {},
   "outputs": [],
   "source": [
    "s%=10"
   ]
  },
  {
   "cell_type": "code",
   "execution_count": 106,
   "id": "47ea0d7f-e83e-46ef-96d3-6404c45a87fa",
   "metadata": {},
   "outputs": [
    {
     "data": {
      "text/plain": [
       "0.0"
      ]
     },
     "execution_count": 106,
     "metadata": {},
     "output_type": "execute_result"
    }
   ],
   "source": [
    "s"
   ]
  },
  {
   "cell_type": "markdown",
   "id": "63d804e9-947d-4c83-82d6-7909e4feee1f",
   "metadata": {},
   "source": [
    "# Assigment Operator:  +=, -=, *=, /=, //=, **= , %=, ="
   ]
  },
  {
   "cell_type": "code",
   "execution_count": 84,
   "id": "e67b6718-6e60-4c80-a7c3-66752dcc4390",
   "metadata": {},
   "outputs": [],
   "source": [
    "a = 15"
   ]
  },
  {
   "cell_type": "code",
   "execution_count": 86,
   "id": "b99e261e-995d-419c-86ba-6e16712246fe",
   "metadata": {},
   "outputs": [
    {
     "data": {
      "text/plain": [
       "15"
      ]
     },
     "execution_count": 86,
     "metadata": {},
     "output_type": "execute_result"
    }
   ],
   "source": [
    "a"
   ]
  },
  {
   "cell_type": "code",
   "execution_count": 88,
   "id": "b862d99b-c53f-453f-9e8e-03cbd2bfecaf",
   "metadata": {},
   "outputs": [
    {
     "data": {
      "text/plain": [
       "10"
      ]
     },
     "execution_count": 88,
     "metadata": {},
     "output_type": "execute_result"
    }
   ],
   "source": [
    "a-5"
   ]
  },
  {
   "cell_type": "code",
   "execution_count": 90,
   "id": "714b8c72-2e7a-4d91-a224-fb6273877ace",
   "metadata": {},
   "outputs": [
    {
     "data": {
      "text/plain": [
       "25"
      ]
     },
     "execution_count": 90,
     "metadata": {},
     "output_type": "execute_result"
    }
   ],
   "source": [
    "a +10"
   ]
  },
  {
   "cell_type": "code",
   "execution_count": 92,
   "id": "aca725af-64e2-4828-90a1-1ab779be3441",
   "metadata": {},
   "outputs": [
    {
     "data": {
      "text/plain": [
       "75"
      ]
     },
     "execution_count": 92,
     "metadata": {},
     "output_type": "execute_result"
    }
   ],
   "source": [
    "a*5"
   ]
  },
  {
   "cell_type": "code",
   "execution_count": null,
   "id": "beeea091-972f-4ae9-80aa-5b25c77abe29",
   "metadata": {},
   "outputs": [],
   "source": []
  },
  {
   "cell_type": "code",
   "execution_count": null,
   "id": "e0f18c9a-0bd6-4835-b03b-1f5fd4daafbe",
   "metadata": {},
   "outputs": [],
   "source": []
  },
  {
   "cell_type": "code",
   "execution_count": 7,
   "id": "23cf5d1b-416d-436e-84b3-392728d2ec06",
   "metadata": {},
   "outputs": [
    {
     "data": {
      "text/plain": [
       "10"
      ]
     },
     "execution_count": 7,
     "metadata": {},
     "output_type": "execute_result"
    }
   ],
   "source": [
    "a-5"
   ]
  },
  {
   "cell_type": "code",
   "execution_count": 9,
   "id": "e09648c8-5013-454b-90ab-22ecf3cd3d08",
   "metadata": {},
   "outputs": [
    {
     "data": {
      "text/plain": [
       "20"
      ]
     },
     "execution_count": 9,
     "metadata": {},
     "output_type": "execute_result"
    }
   ],
   "source": [
    "a+5"
   ]
  },
  {
   "cell_type": "code",
   "execution_count": 11,
   "id": "c7632748-b99f-4aab-8820-e07805d4e16b",
   "metadata": {},
   "outputs": [
    {
     "data": {
      "text/plain": [
       "15"
      ]
     },
     "execution_count": 11,
     "metadata": {},
     "output_type": "execute_result"
    }
   ],
   "source": [
    "a"
   ]
  },
  {
   "cell_type": "code",
   "execution_count": 15,
   "id": "7f9b96a3-7156-4488-8d9c-f04e341ca1a2",
   "metadata": {},
   "outputs": [],
   "source": [
    "a+=5"
   ]
  },
  {
   "cell_type": "code",
   "execution_count": 17,
   "id": "b0397f23-f834-4602-a3d8-49f0ad155c71",
   "metadata": {},
   "outputs": [
    {
     "data": {
      "text/plain": [
       "20"
      ]
     },
     "execution_count": 17,
     "metadata": {},
     "output_type": "execute_result"
    }
   ],
   "source": [
    "a"
   ]
  },
  {
   "cell_type": "code",
   "execution_count": 19,
   "id": "074431c3-f1c2-4acc-b852-0d615a34670b",
   "metadata": {},
   "outputs": [],
   "source": [
    "a*=2"
   ]
  },
  {
   "cell_type": "code",
   "execution_count": 21,
   "id": "95bb8678-0486-4e0d-bfef-81140503a48e",
   "metadata": {},
   "outputs": [
    {
     "data": {
      "text/plain": [
       "40"
      ]
     },
     "execution_count": 21,
     "metadata": {},
     "output_type": "execute_result"
    }
   ],
   "source": [
    "a"
   ]
  },
  {
   "cell_type": "code",
   "execution_count": 23,
   "id": "7953a6b7-0f17-4b97-8d6f-f7ef7ecf8100",
   "metadata": {},
   "outputs": [],
   "source": [
    "a-=10"
   ]
  },
  {
   "cell_type": "code",
   "execution_count": 25,
   "id": "fa8327a0-9686-4c75-b89a-3873e3ad6082",
   "metadata": {},
   "outputs": [
    {
     "data": {
      "text/plain": [
       "30"
      ]
     },
     "execution_count": 25,
     "metadata": {},
     "output_type": "execute_result"
    }
   ],
   "source": [
    "a"
   ]
  },
  {
   "cell_type": "code",
   "execution_count": 27,
   "id": "9ac9b92f-9ebb-4d1f-8661-e2c980c9ccf4",
   "metadata": {},
   "outputs": [],
   "source": [
    "a/=5"
   ]
  },
  {
   "cell_type": "code",
   "execution_count": 29,
   "id": "0c38e12a-291e-40e0-873e-b3ab7aaf08bd",
   "metadata": {},
   "outputs": [
    {
     "data": {
      "text/plain": [
       "6.0"
      ]
     },
     "execution_count": 29,
     "metadata": {},
     "output_type": "execute_result"
    }
   ],
   "source": [
    "a"
   ]
  },
  {
   "cell_type": "code",
   "execution_count": 94,
   "id": "c988dc2a-1fd3-44fa-864b-0a21666064a5",
   "metadata": {},
   "outputs": [
    {
     "ename": "NameError",
     "evalue": "name 's' is not defined",
     "output_type": "error",
     "traceback": [
      "\u001b[1;31m---------------------------------------------------------------------------\u001b[0m",
      "\u001b[1;31mNameError\u001b[0m                                 Traceback (most recent call last)",
      "Cell \u001b[1;32mIn[94], line 1\u001b[0m\n\u001b[1;32m----> 1\u001b[0m s\u001b[38;5;241m*\u001b[39m\u001b[38;5;241m*\u001b[39m\u001b[38;5;241m=\u001b[39m\u001b[38;5;241m5\u001b[39m\n",
      "\u001b[1;31mNameError\u001b[0m: name 's' is not defined"
     ]
    }
   ],
   "source": [
    "s**=5"
   ]
  },
  {
   "cell_type": "code",
   "execution_count": null,
   "id": "fbd0526d-e049-44a7-bef8-df6a68a6806d",
   "metadata": {},
   "outputs": [],
   "source": []
  },
  {
   "cell_type": "code",
   "execution_count": 33,
   "id": "4b17bd22-507a-4579-a273-9ce9d1726f2f",
   "metadata": {},
   "outputs": [],
   "source": [
    "a**=5"
   ]
  },
  {
   "cell_type": "code",
   "execution_count": 35,
   "id": "cd373894-d0b1-451e-9b37-899b5e68ce07",
   "metadata": {},
   "outputs": [
    {
     "data": {
      "text/plain": [
       "7776.0"
      ]
     },
     "execution_count": 35,
     "metadata": {},
     "output_type": "execute_result"
    }
   ],
   "source": [
    "a"
   ]
  },
  {
   "cell_type": "code",
   "execution_count": 37,
   "id": "d958241c-008d-4d12-bdfb-2323b9a42ff3",
   "metadata": {},
   "outputs": [],
   "source": [
    "a//=2"
   ]
  },
  {
   "cell_type": "code",
   "execution_count": 39,
   "id": "298252b5-7ee3-425f-b384-8bfa52a0367a",
   "metadata": {},
   "outputs": [
    {
     "data": {
      "text/plain": [
       "3888.0"
      ]
     },
     "execution_count": 39,
     "metadata": {},
     "output_type": "execute_result"
    }
   ],
   "source": [
    "a"
   ]
  },
  {
   "cell_type": "code",
   "execution_count": 41,
   "id": "2a44a593-274c-4fe2-ba8a-1acdac729610",
   "metadata": {},
   "outputs": [
    {
     "data": {
      "text/plain": [
       "3863.0"
      ]
     },
     "execution_count": 41,
     "metadata": {},
     "output_type": "execute_result"
    }
   ],
   "source": [
    "a-25"
   ]
  },
  {
   "cell_type": "code",
   "execution_count": 45,
   "id": "9fe2bd50-7553-498c-a13a-e46a90e7a44d",
   "metadata": {},
   "outputs": [
    {
     "data": {
      "text/plain": [
       "15"
      ]
     },
     "execution_count": 45,
     "metadata": {},
     "output_type": "execute_result"
    }
   ],
   "source": [
    "a"
   ]
  },
  {
   "cell_type": "code",
   "execution_count": 49,
   "id": "8f64bb99-40bf-47a1-a40e-4090d3b70365",
   "metadata": {},
   "outputs": [],
   "source": [
    "a-=10"
   ]
  },
  {
   "cell_type": "code",
   "execution_count": 51,
   "id": "facc2004-9ab6-4a3e-b3ad-b7ed6ff551dc",
   "metadata": {},
   "outputs": [
    {
     "data": {
      "text/plain": [
       "5"
      ]
     },
     "execution_count": 51,
     "metadata": {},
     "output_type": "execute_result"
    }
   ],
   "source": [
    "a"
   ]
  },
  {
   "cell_type": "code",
   "execution_count": 53,
   "id": "45877368-b230-4eaf-8167-a5f81b798bf8",
   "metadata": {},
   "outputs": [],
   "source": [
    "a+=15"
   ]
  },
  {
   "cell_type": "code",
   "execution_count": 55,
   "id": "f3946d05-c698-41f0-a61b-957d5f0efc6c",
   "metadata": {},
   "outputs": [
    {
     "data": {
      "text/plain": [
       "20"
      ]
     },
     "execution_count": 55,
     "metadata": {},
     "output_type": "execute_result"
    }
   ],
   "source": [
    "a"
   ]
  },
  {
   "cell_type": "code",
   "execution_count": null,
   "id": "dd5ff0d8-c859-4529-97f1-6723e1a8b45d",
   "metadata": {},
   "outputs": [],
   "source": []
  },
  {
   "cell_type": "code",
   "execution_count": null,
   "id": "bbc2432c-dbc8-48f4-aaa1-b37152093fa4",
   "metadata": {},
   "outputs": [],
   "source": []
  },
  {
   "cell_type": "code",
   "execution_count": null,
   "id": "0b561f4b-4c16-40ae-ab59-707852dea1ae",
   "metadata": {},
   "outputs": [],
   "source": []
  },
  {
   "cell_type": "code",
   "execution_count": null,
   "id": "547549eb-681c-4f16-aa0b-2dbcf48ed137",
   "metadata": {},
   "outputs": [],
   "source": []
  },
  {
   "cell_type": "code",
   "execution_count": 119,
   "id": "c961afb0-fb84-4577-8e5a-d41ec6f4fcf6",
   "metadata": {},
   "outputs": [],
   "source": [
    "d = 25"
   ]
  },
  {
   "cell_type": "code",
   "execution_count": 121,
   "id": "c9092e7d-2af1-452c-b06a-dac12ff667ee",
   "metadata": {},
   "outputs": [],
   "source": [
    "a = 10"
   ]
  },
  {
   "cell_type": "code",
   "execution_count": 125,
   "id": "72007b75-549f-4cea-951c-a2ecd0daa7b0",
   "metadata": {},
   "outputs": [],
   "source": [
    "a = a+2"
   ]
  },
  {
   "cell_type": "code",
   "execution_count": 127,
   "id": "7a1e456e-d5d5-42b4-bed7-f41d0eea611d",
   "metadata": {},
   "outputs": [
    {
     "data": {
      "text/plain": [
       "12"
      ]
     },
     "execution_count": 127,
     "metadata": {},
     "output_type": "execute_result"
    }
   ],
   "source": [
    "a "
   ]
  },
  {
   "cell_type": "code",
   "execution_count": 129,
   "id": "e4dd721f-eda2-456e-9514-c96b5fa469a0",
   "metadata": {},
   "outputs": [
    {
     "data": {
      "text/plain": [
       "25"
      ]
     },
     "execution_count": 129,
     "metadata": {},
     "output_type": "execute_result"
    }
   ],
   "source": [
    "d "
   ]
  },
  {
   "cell_type": "code",
   "execution_count": 131,
   "id": "ed4ff637-0d84-4422-8c43-4f0726a4eb7c",
   "metadata": {},
   "outputs": [
    {
     "data": {
      "text/plain": [
       "12"
      ]
     },
     "execution_count": 131,
     "metadata": {},
     "output_type": "execute_result"
    }
   ],
   "source": [
    "a "
   ]
  },
  {
   "cell_type": "code",
   "execution_count": 133,
   "id": "2773548a-5853-41f7-83e8-e58aef500f4f",
   "metadata": {},
   "outputs": [],
   "source": [
    "a = a- 5"
   ]
  },
  {
   "cell_type": "code",
   "execution_count": 135,
   "id": "536d559d-7d93-4a86-9b67-1efaf4bebeb7",
   "metadata": {},
   "outputs": [
    {
     "data": {
      "text/plain": [
       "7"
      ]
     },
     "execution_count": 135,
     "metadata": {},
     "output_type": "execute_result"
    }
   ],
   "source": [
    "a "
   ]
  },
  {
   "cell_type": "code",
   "execution_count": 137,
   "id": "4527ed67-9999-4c19-92ae-ce95e4a8ebe1",
   "metadata": {},
   "outputs": [],
   "source": [
    "a =10 "
   ]
  },
  {
   "cell_type": "code",
   "execution_count": 145,
   "id": "4c08731c-faf6-4fa8-9f02-40a9ec23c969",
   "metadata": {},
   "outputs": [],
   "source": [
    "s =10"
   ]
  },
  {
   "cell_type": "code",
   "execution_count": 147,
   "id": "9b7d3521-d32a-438c-9008-a86e961d6b1e",
   "metadata": {},
   "outputs": [],
   "source": [
    "s +=5"
   ]
  },
  {
   "cell_type": "code",
   "execution_count": 149,
   "id": "74293fc2-c3b7-455a-bba1-4db1088d153f",
   "metadata": {},
   "outputs": [
    {
     "data": {
      "text/plain": [
       "15"
      ]
     },
     "execution_count": 149,
     "metadata": {},
     "output_type": "execute_result"
    }
   ],
   "source": [
    "s "
   ]
  },
  {
   "cell_type": "code",
   "execution_count": 153,
   "id": "53f1ac05-d7e9-4864-b576-73d630836375",
   "metadata": {},
   "outputs": [],
   "source": [
    "s-=10"
   ]
  },
  {
   "cell_type": "code",
   "execution_count": 155,
   "id": "0ee88cb1-25c2-473c-9b5d-f19c24578148",
   "metadata": {},
   "outputs": [
    {
     "data": {
      "text/plain": [
       "5"
      ]
     },
     "execution_count": 155,
     "metadata": {},
     "output_type": "execute_result"
    }
   ],
   "source": [
    "s"
   ]
  },
  {
   "cell_type": "code",
   "execution_count": null,
   "id": "abc491aa-d3b4-4a3f-a502-06cd40889708",
   "metadata": {},
   "outputs": [],
   "source": []
  },
  {
   "cell_type": "code",
   "execution_count": 157,
   "id": "7de842d6-c399-493a-8310-778429811ce9",
   "metadata": {},
   "outputs": [],
   "source": [
    "s/=10"
   ]
  },
  {
   "cell_type": "code",
   "execution_count": 159,
   "id": "29ce791e-d17d-4719-b6b4-0fe18d6dc8d3",
   "metadata": {},
   "outputs": [
    {
     "data": {
      "text/plain": [
       "0.5"
      ]
     },
     "execution_count": 159,
     "metadata": {},
     "output_type": "execute_result"
    }
   ],
   "source": [
    "s"
   ]
  },
  {
   "cell_type": "code",
   "execution_count": 161,
   "id": "5d3a0da1-47d5-4a37-8c6e-7be1045f321d",
   "metadata": {},
   "outputs": [
    {
     "data": {
      "text/plain": [
       "0.125"
      ]
     },
     "execution_count": 161,
     "metadata": {},
     "output_type": "execute_result"
    }
   ],
   "source": [
    "s**3"
   ]
  },
  {
   "cell_type": "code",
   "execution_count": 163,
   "id": "1eaab71e-c3f8-419b-ae4d-ce01f18c0e45",
   "metadata": {},
   "outputs": [
    {
     "data": {
      "text/plain": [
       "0.5"
      ]
     },
     "execution_count": 163,
     "metadata": {},
     "output_type": "execute_result"
    }
   ],
   "source": [
    "s"
   ]
  },
  {
   "cell_type": "code",
   "execution_count": 3,
   "id": "c01aee90-b624-4bcb-a23c-960cbf64c5cb",
   "metadata": {},
   "outputs": [
    {
     "ename": "NameError",
     "evalue": "name 's' is not defined",
     "output_type": "error",
     "traceback": [
      "\u001b[1;31m---------------------------------------------------------------------------\u001b[0m",
      "\u001b[1;31mNameError\u001b[0m                                 Traceback (most recent call last)",
      "Cell \u001b[1;32mIn[3], line 1\u001b[0m\n\u001b[1;32m----> 1\u001b[0m s\u001b[38;5;241m/\u001b[39m\u001b[38;5;241m/\u001b[39m\u001b[38;5;241m=\u001b[39m\u001b[38;5;241m10\u001b[39m\n",
      "\u001b[1;31mNameError\u001b[0m: name 's' is not defined"
     ]
    }
   ],
   "source": [
    "s//=10"
   ]
  },
  {
   "cell_type": "code",
   "execution_count": 174,
   "id": "ecb69216-de55-4a27-b584-0a7bbb908c94",
   "metadata": {},
   "outputs": [
    {
     "data": {
      "text/plain": [
       "0.0"
      ]
     },
     "execution_count": 174,
     "metadata": {},
     "output_type": "execute_result"
    }
   ],
   "source": [
    "s"
   ]
  },
  {
   "cell_type": "code",
   "execution_count": 179,
   "id": "002d77cd-8895-40d9-8f89-8e3ec8400837",
   "metadata": {},
   "outputs": [],
   "source": [
    "s%=15"
   ]
  },
  {
   "cell_type": "code",
   "execution_count": 181,
   "id": "7309fedc-ec1f-4a25-8ec2-e9f36afe277b",
   "metadata": {},
   "outputs": [
    {
     "data": {
      "text/plain": [
       "0.0"
      ]
     },
     "execution_count": 181,
     "metadata": {},
     "output_type": "execute_result"
    }
   ],
   "source": [
    "s"
   ]
  },
  {
   "cell_type": "code",
   "execution_count": 183,
   "id": "2a44be53-dd46-4638-a65d-758912238bb3",
   "metadata": {},
   "outputs": [],
   "source": [
    "d =15"
   ]
  },
  {
   "cell_type": "code",
   "execution_count": 185,
   "id": "4598bae5-eee6-4aa7-ba8b-681ae817f8ff",
   "metadata": {},
   "outputs": [],
   "source": [
    "d = d +5"
   ]
  },
  {
   "cell_type": "code",
   "execution_count": 187,
   "id": "4013dd94-7764-4ea1-980d-d4b8b554397b",
   "metadata": {},
   "outputs": [
    {
     "data": {
      "text/plain": [
       "20"
      ]
     },
     "execution_count": 187,
     "metadata": {},
     "output_type": "execute_result"
    }
   ],
   "source": [
    "d"
   ]
  },
  {
   "cell_type": "code",
   "execution_count": 193,
   "id": "994b5e01-23fe-4bcc-925a-64471a6daba8",
   "metadata": {},
   "outputs": [],
   "source": [
    "d = d * 2"
   ]
  },
  {
   "cell_type": "code",
   "execution_count": 195,
   "id": "4ed904b6-6270-4e54-a3b9-5cb9b8b05a55",
   "metadata": {},
   "outputs": [
    {
     "data": {
      "text/plain": [
       "40"
      ]
     },
     "execution_count": 195,
     "metadata": {},
     "output_type": "execute_result"
    }
   ],
   "source": [
    "d "
   ]
  },
  {
   "cell_type": "code",
   "execution_count": 199,
   "id": "ca5154cb-9963-41a4-9940-54297ec77adb",
   "metadata": {},
   "outputs": [],
   "source": [
    "d = d // 2"
   ]
  },
  {
   "cell_type": "code",
   "execution_count": 201,
   "id": "04445ed8-0dd6-4f26-af87-1edf86388503",
   "metadata": {},
   "outputs": [
    {
     "data": {
      "text/plain": [
       "20"
      ]
     },
     "execution_count": 201,
     "metadata": {},
     "output_type": "execute_result"
    }
   ],
   "source": [
    "d "
   ]
  },
  {
   "cell_type": "code",
   "execution_count": 5,
   "id": "558a4ca7-2040-4f75-ad3d-eaa9007a7f31",
   "metadata": {},
   "outputs": [],
   "source": [
    "n = 15"
   ]
  },
  {
   "cell_type": "code",
   "execution_count": 7,
   "id": "b6340bda-7368-4b6b-9c96-23eab16b11e7",
   "metadata": {},
   "outputs": [
    {
     "data": {
      "text/plain": [
       "15"
      ]
     },
     "execution_count": 7,
     "metadata": {},
     "output_type": "execute_result"
    }
   ],
   "source": [
    "n"
   ]
  },
  {
   "cell_type": "code",
   "execution_count": 205,
   "id": "f5048180-fa14-4116-ba9b-0b362b5102b7",
   "metadata": {},
   "outputs": [],
   "source": [
    "a = 10"
   ]
  },
  {
   "cell_type": "code",
   "execution_count": 207,
   "id": "f1a2c86e-d162-41b5-8252-0d8a8fce7b6c",
   "metadata": {},
   "outputs": [
    {
     "data": {
      "text/plain": [
       "10"
      ]
     },
     "execution_count": 207,
     "metadata": {},
     "output_type": "execute_result"
    }
   ],
   "source": [
    "a "
   ]
  },
  {
   "cell_type": "code",
   "execution_count": 213,
   "id": "6559c7de-abce-4675-8b03-3a6e8808027f",
   "metadata": {},
   "outputs": [],
   "source": [
    "a +=5"
   ]
  },
  {
   "cell_type": "code",
   "execution_count": 211,
   "id": "23055bf0-1ce4-45ec-b401-60a3f3ac61e9",
   "metadata": {},
   "outputs": [
    {
     "data": {
      "text/plain": [
       "15"
      ]
     },
     "execution_count": 211,
     "metadata": {},
     "output_type": "execute_result"
    }
   ],
   "source": [
    "a "
   ]
  },
  {
   "cell_type": "code",
   "execution_count": 217,
   "id": "a0caef4c-af48-49ad-8c0a-4c6191c8a380",
   "metadata": {},
   "outputs": [],
   "source": [
    "a -=9"
   ]
  },
  {
   "cell_type": "code",
   "execution_count": 219,
   "id": "1c02861e-37e5-45db-b78e-d42ee6b3238e",
   "metadata": {},
   "outputs": [
    {
     "data": {
      "text/plain": [
       "11"
      ]
     },
     "execution_count": 219,
     "metadata": {},
     "output_type": "execute_result"
    }
   ],
   "source": [
    "a "
   ]
  },
  {
   "cell_type": "code",
   "execution_count": 221,
   "id": "87bdd1e6-80c5-45a6-bbf1-2e9578ebee64",
   "metadata": {},
   "outputs": [],
   "source": [
    "a *=2"
   ]
  },
  {
   "cell_type": "code",
   "execution_count": 223,
   "id": "d71a8642-baea-4a2b-932f-c7f98aa23594",
   "metadata": {},
   "outputs": [
    {
     "data": {
      "text/plain": [
       "22"
      ]
     },
     "execution_count": 223,
     "metadata": {},
     "output_type": "execute_result"
    }
   ],
   "source": [
    "a "
   ]
  },
  {
   "cell_type": "code",
   "execution_count": 229,
   "id": "1ec3784b-9a31-4a14-8b79-992fa0611d5c",
   "metadata": {},
   "outputs": [],
   "source": [
    "a/=2"
   ]
  },
  {
   "cell_type": "code",
   "execution_count": 231,
   "id": "f2058d9c-f664-40ff-b85e-0de838ecda19",
   "metadata": {},
   "outputs": [
    {
     "data": {
      "text/plain": [
       "11.0"
      ]
     },
     "execution_count": 231,
     "metadata": {},
     "output_type": "execute_result"
    }
   ],
   "source": [
    "a"
   ]
  },
  {
   "cell_type": "code",
   "execution_count": 233,
   "id": "be664f2d-6396-421d-b2fd-5eeab84bc1f8",
   "metadata": {},
   "outputs": [],
   "source": [
    "a**=3"
   ]
  },
  {
   "cell_type": "code",
   "execution_count": 235,
   "id": "a7c5761f-3c59-498e-9c25-26a94d8eba3c",
   "metadata": {},
   "outputs": [
    {
     "data": {
      "text/plain": [
       "1331.0"
      ]
     },
     "execution_count": 235,
     "metadata": {},
     "output_type": "execute_result"
    }
   ],
   "source": [
    "a"
   ]
  },
  {
   "cell_type": "code",
   "execution_count": 237,
   "id": "d4a39ed4-915b-4886-af83-c4b1ecfd342e",
   "metadata": {},
   "outputs": [],
   "source": [
    "a%=10"
   ]
  },
  {
   "cell_type": "code",
   "execution_count": 240,
   "id": "b0236e21-9b5b-4e63-958f-264dfcd026af",
   "metadata": {},
   "outputs": [
    {
     "data": {
      "text/plain": [
       "1.0"
      ]
     },
     "execution_count": 240,
     "metadata": {},
     "output_type": "execute_result"
    }
   ],
   "source": [
    "a"
   ]
  },
  {
   "cell_type": "code",
   "execution_count": 244,
   "id": "3c332702-ba59-49b4-92e2-a02e7bb697ef",
   "metadata": {},
   "outputs": [],
   "source": [
    "a*=2"
   ]
  },
  {
   "cell_type": "code",
   "execution_count": 246,
   "id": "b4fae2c9-9983-420a-8321-c7145917ccd3",
   "metadata": {},
   "outputs": [
    {
     "data": {
      "text/plain": [
       "2.0"
      ]
     },
     "execution_count": 246,
     "metadata": {},
     "output_type": "execute_result"
    }
   ],
   "source": [
    "a"
   ]
  },
  {
   "cell_type": "code",
   "execution_count": 248,
   "id": "20cdfb81-6454-4626-ad2c-3c42712ee62c",
   "metadata": {},
   "outputs": [],
   "source": [
    "s =15"
   ]
  },
  {
   "cell_type": "code",
   "execution_count": 250,
   "id": "f87177e7-5615-4e08-b245-6c093884b97c",
   "metadata": {},
   "outputs": [],
   "source": [
    "s+=15"
   ]
  },
  {
   "cell_type": "code",
   "execution_count": 252,
   "id": "8abf1be5-8f1b-4e83-96d5-793f55ca291d",
   "metadata": {},
   "outputs": [
    {
     "data": {
      "text/plain": [
       "30"
      ]
     },
     "execution_count": 252,
     "metadata": {},
     "output_type": "execute_result"
    }
   ],
   "source": [
    "s"
   ]
  },
  {
   "cell_type": "code",
   "execution_count": 254,
   "id": "f03edace-1a0a-4b08-8d0e-79231380090c",
   "metadata": {},
   "outputs": [
    {
     "data": {
      "text/plain": [
       "30"
      ]
     },
     "execution_count": 254,
     "metadata": {},
     "output_type": "execute_result"
    }
   ],
   "source": [
    "s"
   ]
  },
  {
   "cell_type": "code",
   "execution_count": 256,
   "id": "48a1f4c6-3b98-4a45-b4fe-2b0a0261e36c",
   "metadata": {},
   "outputs": [],
   "source": [
    "s-=15"
   ]
  },
  {
   "cell_type": "code",
   "execution_count": 258,
   "id": "850e1edf-3079-4366-867f-cc5b8b0f91f5",
   "metadata": {},
   "outputs": [
    {
     "data": {
      "text/plain": [
       "15"
      ]
     },
     "execution_count": 258,
     "metadata": {},
     "output_type": "execute_result"
    }
   ],
   "source": [
    "s"
   ]
  },
  {
   "cell_type": "code",
   "execution_count": 260,
   "id": "c9d3f5fd-3463-427b-a0f7-ecb111ce4c73",
   "metadata": {},
   "outputs": [],
   "source": [
    "s/=10"
   ]
  },
  {
   "cell_type": "code",
   "execution_count": 262,
   "id": "e03bcaf8-8276-4d00-b54a-e2778b69d129",
   "metadata": {},
   "outputs": [
    {
     "data": {
      "text/plain": [
       "1.5"
      ]
     },
     "execution_count": 262,
     "metadata": {},
     "output_type": "execute_result"
    }
   ],
   "source": [
    "s"
   ]
  },
  {
   "cell_type": "code",
   "execution_count": 266,
   "id": "fd099af7-2544-4cd1-8508-25e97be9e0af",
   "metadata": {},
   "outputs": [],
   "source": [
    "s**=3"
   ]
  },
  {
   "cell_type": "code",
   "execution_count": 268,
   "id": "9a1b5dd5-f0ca-41b2-abe6-98c17995bab3",
   "metadata": {},
   "outputs": [
    {
     "data": {
      "text/plain": [
       "3.375"
      ]
     },
     "execution_count": 268,
     "metadata": {},
     "output_type": "execute_result"
    }
   ],
   "source": [
    "s"
   ]
  },
  {
   "cell_type": "code",
   "execution_count": 270,
   "id": "51b4eb14-b203-46cf-8f31-48a930fb23d4",
   "metadata": {},
   "outputs": [],
   "source": [
    "d//=15"
   ]
  },
  {
   "cell_type": "code",
   "execution_count": 272,
   "id": "6cd8dca5-bf4e-4f06-8288-95fbc7e97002",
   "metadata": {},
   "outputs": [
    {
     "data": {
      "text/plain": [
       "1"
      ]
     },
     "execution_count": 272,
     "metadata": {},
     "output_type": "execute_result"
    }
   ],
   "source": [
    "d"
   ]
  },
  {
   "cell_type": "code",
   "execution_count": 274,
   "id": "1207233f-2ad8-42c5-b601-77a82ee99b1a",
   "metadata": {},
   "outputs": [
    {
     "data": {
      "text/plain": [
       "12"
      ]
     },
     "execution_count": 274,
     "metadata": {},
     "output_type": "execute_result"
    }
   ],
   "source": [
    "125//10"
   ]
  },
  {
   "cell_type": "markdown",
   "id": "421a7c72-fea8-4381-a085-35211661d436",
   "metadata": {},
   "source": [
    "# Logical Operators:\n",
    "* Logical- AND- it will provide us true when all the conditions are true otherwise false\n",
    "* Logical- OR - it will provide us true when any one conditions is true otherwise false\n",
    "* Logical- NOT- Negation- opposite-"
   ]
  },
  {
   "cell_type": "code",
   "execution_count": 2,
   "id": "d4948b2a-ef58-4fbb-a6e3-2a1dcff4eac6",
   "metadata": {},
   "outputs": [
    {
     "data": {
      "text/plain": [
       "True"
      ]
     },
     "execution_count": 2,
     "metadata": {},
     "output_type": "execute_result"
    }
   ],
   "source": [
    "15>10"
   ]
  },
  {
   "cell_type": "code",
   "execution_count": 4,
   "id": "13028afd-3ae6-465f-b060-72e46c93fd15",
   "metadata": {},
   "outputs": [
    {
     "data": {
      "text/plain": [
       "False"
      ]
     },
     "execution_count": 4,
     "metadata": {},
     "output_type": "execute_result"
    }
   ],
   "source": [
    "160>180"
   ]
  },
  {
   "cell_type": "code",
   "execution_count": 8,
   "id": "f565819c-4052-41c1-bdbb-b3f7d6c3a7b8",
   "metadata": {},
   "outputs": [
    {
     "data": {
      "text/plain": [
       "False"
      ]
     },
     "execution_count": 8,
     "metadata": {},
     "output_type": "execute_result"
    }
   ],
   "source": [
    "(15>25) and (160<140)"
   ]
  },
  {
   "cell_type": "code",
   "execution_count": 10,
   "id": "f6d5e9b2-651b-49c9-9f07-7f222884c19d",
   "metadata": {},
   "outputs": [
    {
     "data": {
      "text/plain": [
       "False"
      ]
     },
     "execution_count": 10,
     "metadata": {},
     "output_type": "execute_result"
    }
   ],
   "source": [
    "(150>256) and(450>250)"
   ]
  },
  {
   "cell_type": "code",
   "execution_count": 12,
   "id": "40b83a47-506d-4b4c-a3d2-077958965b17",
   "metadata": {},
   "outputs": [
    {
     "data": {
      "text/plain": [
       "True"
      ]
     },
     "execution_count": 12,
     "metadata": {},
     "output_type": "execute_result"
    }
   ],
   "source": [
    "(15>10) and (45<251)"
   ]
  },
  {
   "cell_type": "code",
   "execution_count": 14,
   "id": "7973e165-3c53-46d7-bd06-e850b9d28b7b",
   "metadata": {},
   "outputs": [
    {
     "data": {
      "text/plain": [
       "False"
      ]
     },
     "execution_count": 14,
     "metadata": {},
     "output_type": "execute_result"
    }
   ],
   "source": [
    "(98>15) and (25<20)"
   ]
  },
  {
   "cell_type": "code",
   "execution_count": 16,
   "id": "56f551ac-659b-4e0c-87db-afc3c1b02638",
   "metadata": {},
   "outputs": [
    {
     "data": {
      "text/plain": [
       "False"
      ]
     },
     "execution_count": 16,
     "metadata": {},
     "output_type": "execute_result"
    }
   ],
   "source": [
    "(65>25) and ( 98<25)"
   ]
  },
  {
   "cell_type": "code",
   "execution_count": 9,
   "id": "fc692b89-b55f-4341-80c4-3965ea23bd15",
   "metadata": {},
   "outputs": [
    {
     "data": {
      "text/plain": [
       "False"
      ]
     },
     "execution_count": 9,
     "metadata": {},
     "output_type": "execute_result"
    }
   ],
   "source": [
    "(78>65) and (58<45)"
   ]
  },
  {
   "cell_type": "code",
   "execution_count": 11,
   "id": "a35e4416-f2f1-4f4c-a1bf-475c15bd6641",
   "metadata": {},
   "outputs": [
    {
     "data": {
      "text/plain": [
       "True"
      ]
     },
     "execution_count": 11,
     "metadata": {},
     "output_type": "execute_result"
    }
   ],
   "source": [
    "(15<10) or (25>15)"
   ]
  },
  {
   "cell_type": "code",
   "execution_count": 13,
   "id": "17f01757-c8de-4b1a-87b1-6ad729dfaefa",
   "metadata": {},
   "outputs": [
    {
     "data": {
      "text/plain": [
       "True"
      ]
     },
     "execution_count": 13,
     "metadata": {},
     "output_type": "execute_result"
    }
   ],
   "source": [
    "(25>15) and (10<13)"
   ]
  },
  {
   "cell_type": "code",
   "execution_count": null,
   "id": "7473580e-e973-4786-97e5-d9a232277e7a",
   "metadata": {},
   "outputs": [],
   "source": []
  },
  {
   "cell_type": "code",
   "execution_count": 18,
   "id": "c1861f09-f4d1-4b8f-921e-94624bf95334",
   "metadata": {},
   "outputs": [
    {
     "data": {
      "text/plain": [
       "True"
      ]
     },
     "execution_count": 18,
     "metadata": {},
     "output_type": "execute_result"
    }
   ],
   "source": [
    "(15>10) or (25<21)"
   ]
  },
  {
   "cell_type": "code",
   "execution_count": 20,
   "id": "303f89cd-203e-4664-996d-b3dc8eab5211",
   "metadata": {},
   "outputs": [
    {
     "data": {
      "text/plain": [
       "True"
      ]
     },
     "execution_count": 20,
     "metadata": {},
     "output_type": "execute_result"
    }
   ],
   "source": [
    "(15>10) or (160<180)"
   ]
  },
  {
   "cell_type": "code",
   "execution_count": 103,
   "id": "cfcbf3f8-8fa4-497f-926d-b88a6e73e678",
   "metadata": {},
   "outputs": [
    {
     "data": {
      "text/plain": [
       "False"
      ]
     },
     "execution_count": 103,
     "metadata": {},
     "output_type": "execute_result"
    }
   ],
   "source": [
    "not(20>15) and (150<10)"
   ]
  },
  {
   "cell_type": "code",
   "execution_count": 107,
   "id": "f996c741-51e3-45d4-b611-123af99c00e7",
   "metadata": {},
   "outputs": [
    {
     "data": {
      "text/plain": [
       "False"
      ]
     },
     "execution_count": 107,
     "metadata": {},
     "output_type": "execute_result"
    }
   ],
   "source": [
    "not(15>10) or (20<10)"
   ]
  },
  {
   "cell_type": "code",
   "execution_count": 22,
   "id": "916ef0d0-ee4f-4319-84ad-cbbd2736c497",
   "metadata": {},
   "outputs": [
    {
     "data": {
      "text/plain": [
       "True"
      ]
     },
     "execution_count": 22,
     "metadata": {},
     "output_type": "execute_result"
    }
   ],
   "source": [
    "not(15>10) or (160<180)"
   ]
  },
  {
   "cell_type": "code",
   "execution_count": 24,
   "id": "169bae82-29fa-48ea-9dcf-9e5ff2709e19",
   "metadata": {},
   "outputs": [
    {
     "data": {
      "text/plain": [
       "True"
      ]
     },
     "execution_count": 24,
     "metadata": {},
     "output_type": "execute_result"
    }
   ],
   "source": [
    "not(15>25) or (160>180)"
   ]
  },
  {
   "cell_type": "code",
   "execution_count": 26,
   "id": "378acbed-2d89-4eae-a00e-a8068505794c",
   "metadata": {},
   "outputs": [
    {
     "data": {
      "text/plain": [
       "False"
      ]
     },
     "execution_count": 26,
     "metadata": {},
     "output_type": "execute_result"
    }
   ],
   "source": [
    "not(25>10) or (180<160)"
   ]
  },
  {
   "cell_type": "code",
   "execution_count": 28,
   "id": "c6b370c1-8bee-4eab-8991-c461ada1ae78",
   "metadata": {},
   "outputs": [
    {
     "data": {
      "text/plain": [
       "True"
      ]
     },
     "execution_count": 28,
     "metadata": {},
     "output_type": "execute_result"
    }
   ],
   "source": [
    "not(24<26) or (987>258)"
   ]
  },
  {
   "cell_type": "code",
   "execution_count": 31,
   "id": "9e516a91-6b4f-4dab-8129-7a6b5064ead8",
   "metadata": {},
   "outputs": [
    {
     "data": {
      "text/plain": [
       "True"
      ]
     },
     "execution_count": 31,
     "metadata": {},
     "output_type": "execute_result"
    }
   ],
   "source": [
    "not((((45>12) and (78!=78)) or (100==100)) and (160>180))"
   ]
  },
  {
   "cell_type": "code",
   "execution_count": 15,
   "id": "2ad6a70e-3cdb-4a78-bf87-aedc8ace582c",
   "metadata": {},
   "outputs": [
    {
     "data": {
      "text/plain": [
       "False"
      ]
     },
     "execution_count": 15,
     "metadata": {},
     "output_type": "execute_result"
    }
   ],
   "source": [
    "not True"
   ]
  },
  {
   "cell_type": "code",
   "execution_count": 17,
   "id": "9c0ff220-9cea-4262-a2f2-826edd7ece57",
   "metadata": {},
   "outputs": [
    {
     "data": {
      "text/plain": [
       "True"
      ]
     },
     "execution_count": 17,
     "metadata": {},
     "output_type": "execute_result"
    }
   ],
   "source": [
    "not False"
   ]
  },
  {
   "cell_type": "code",
   "execution_count": 19,
   "id": "9f8ccd6b-b5e4-464d-b83d-60bc4da68cba",
   "metadata": {},
   "outputs": [
    {
     "data": {
      "text/plain": [
       "False"
      ]
     },
     "execution_count": 19,
     "metadata": {},
     "output_type": "execute_result"
    }
   ],
   "source": [
    "not True"
   ]
  },
  {
   "cell_type": "code",
   "execution_count": 21,
   "id": "3ef63303-a3cf-4802-afe4-6cb927d4ad9d",
   "metadata": {},
   "outputs": [
    {
     "data": {
      "text/plain": [
       "True"
      ]
     },
     "execution_count": 21,
     "metadata": {},
     "output_type": "execute_result"
    }
   ],
   "source": [
    "not False"
   ]
  },
  {
   "cell_type": "code",
   "execution_count": 23,
   "id": "0e4df94b-8c78-41f4-99d3-23671e52983b",
   "metadata": {},
   "outputs": [
    {
     "data": {
      "text/plain": [
       "False"
      ]
     },
     "execution_count": 23,
     "metadata": {},
     "output_type": "execute_result"
    }
   ],
   "source": [
    "not True"
   ]
  },
  {
   "cell_type": "code",
   "execution_count": 25,
   "id": "32936bb9-84c6-49a5-8d4e-d1ad7fd80df3",
   "metadata": {},
   "outputs": [
    {
     "data": {
      "text/plain": [
       "True"
      ]
     },
     "execution_count": 25,
     "metadata": {},
     "output_type": "execute_result"
    }
   ],
   "source": [
    "not False"
   ]
  },
  {
   "cell_type": "code",
   "execution_count": 1,
   "id": "e5404751-78d7-4e5b-b652-ef9b63fe8619",
   "metadata": {},
   "outputs": [
    {
     "data": {
      "text/plain": [
       "False"
      ]
     },
     "execution_count": 1,
     "metadata": {},
     "output_type": "execute_result"
    }
   ],
   "source": [
    "not True"
   ]
  },
  {
   "cell_type": "code",
   "execution_count": 109,
   "id": "bc3a367c-1f0e-4674-9955-f00ca81f2dbb",
   "metadata": {},
   "outputs": [
    {
     "data": {
      "text/plain": [
       "False"
      ]
     },
     "execution_count": 109,
     "metadata": {},
     "output_type": "execute_result"
    }
   ],
   "source": [
    "not True"
   ]
  },
  {
   "cell_type": "code",
   "execution_count": 111,
   "id": "a341169c-734f-4c50-85aa-fc5df6c682af",
   "metadata": {},
   "outputs": [
    {
     "data": {
      "text/plain": [
       "True"
      ]
     },
     "execution_count": 111,
     "metadata": {},
     "output_type": "execute_result"
    }
   ],
   "source": [
    "not False"
   ]
  },
  {
   "cell_type": "code",
   "execution_count": 113,
   "id": "1474d941-4c7a-40b4-9678-36f28219f40e",
   "metadata": {},
   "outputs": [
    {
     "data": {
      "text/plain": [
       "False"
      ]
     },
     "execution_count": 113,
     "metadata": {},
     "output_type": "execute_result"
    }
   ],
   "source": [
    "not True"
   ]
  },
  {
   "cell_type": "code",
   "execution_count": 3,
   "id": "e510f99f-c6da-49e8-8583-896491e4a3d1",
   "metadata": {},
   "outputs": [
    {
     "data": {
      "text/plain": [
       "True"
      ]
     },
     "execution_count": 3,
     "metadata": {},
     "output_type": "execute_result"
    }
   ],
   "source": [
    "not False"
   ]
  },
  {
   "cell_type": "code",
   "execution_count": 5,
   "id": "31b7af93-ec76-4066-ac11-540403e86850",
   "metadata": {},
   "outputs": [
    {
     "data": {
      "text/plain": [
       "False"
      ]
     },
     "execution_count": 5,
     "metadata": {},
     "output_type": "execute_result"
    }
   ],
   "source": [
    "not True"
   ]
  },
  {
   "cell_type": "code",
   "execution_count": 7,
   "id": "79b209a7-fc48-447a-8ea0-fab961062160",
   "metadata": {},
   "outputs": [
    {
     "data": {
      "text/plain": [
       "False"
      ]
     },
     "execution_count": 7,
     "metadata": {},
     "output_type": "execute_result"
    }
   ],
   "source": [
    "not True"
   ]
  },
  {
   "cell_type": "code",
   "execution_count": 9,
   "id": "1c1cea5c-c395-40f1-8b00-e2012501063e",
   "metadata": {},
   "outputs": [
    {
     "data": {
      "text/plain": [
       "True"
      ]
     },
     "execution_count": 9,
     "metadata": {},
     "output_type": "execute_result"
    }
   ],
   "source": [
    "(56<98) and (65!=25)"
   ]
  },
  {
   "cell_type": "code",
   "execution_count": 15,
   "id": "76c7b818-57ae-4f2a-b60a-49b923988648",
   "metadata": {},
   "outputs": [
    {
     "data": {
      "text/plain": [
       "False"
      ]
     },
     "execution_count": 15,
     "metadata": {},
     "output_type": "execute_result"
    }
   ],
   "source": [
    "(98<87) and (150!=100)"
   ]
  },
  {
   "cell_type": "code",
   "execution_count": 19,
   "id": "5a966de4-cdf3-402d-be23-180dc9ea2463",
   "metadata": {},
   "outputs": [
    {
     "data": {
      "text/plain": [
       "False"
      ]
     },
     "execution_count": 19,
     "metadata": {},
     "output_type": "execute_result"
    }
   ],
   "source": [
    "(56>100) and (900==100)"
   ]
  },
  {
   "cell_type": "code",
   "execution_count": 23,
   "id": "884770d2-0c55-4b68-b493-443fb47eb970",
   "metadata": {},
   "outputs": [
    {
     "data": {
      "text/plain": [
       "False"
      ]
     },
     "execution_count": 23,
     "metadata": {},
     "output_type": "execute_result"
    }
   ],
   "source": [
    "(98>25) and (98==25)"
   ]
  },
  {
   "cell_type": "code",
   "execution_count": 25,
   "id": "29a4eb88-d5b5-40dc-9845-fa82b81b9e9c",
   "metadata": {},
   "outputs": [
    {
     "data": {
      "text/plain": [
       "True"
      ]
     },
     "execution_count": 25,
     "metadata": {},
     "output_type": "execute_result"
    }
   ],
   "source": [
    "(105<205) and (305!=405)"
   ]
  },
  {
   "cell_type": "code",
   "execution_count": 27,
   "id": "abb405df-f343-45cf-bed8-081f05ad98e1",
   "metadata": {},
   "outputs": [
    {
     "data": {
      "text/plain": [
       "False"
      ]
     },
     "execution_count": 27,
     "metadata": {},
     "output_type": "execute_result"
    }
   ],
   "source": [
    "(987<654) and (456!=456)"
   ]
  },
  {
   "cell_type": "code",
   "execution_count": 29,
   "id": "466ca639-a76e-4eb0-a62e-145f24c64c6c",
   "metadata": {},
   "outputs": [
    {
     "data": {
      "text/plain": [
       "True"
      ]
     },
     "execution_count": 29,
     "metadata": {},
     "output_type": "execute_result"
    }
   ],
   "source": [
    "not((102<205) and(250==789))"
   ]
  },
  {
   "cell_type": "code",
   "execution_count": 33,
   "id": "278fcf41-34d5-4ecf-800f-6f5f153628df",
   "metadata": {},
   "outputs": [
    {
     "data": {
      "text/plain": [
       "True"
      ]
     },
     "execution_count": 33,
     "metadata": {},
     "output_type": "execute_result"
    }
   ],
   "source": [
    "not((325>254) and (780==987))"
   ]
  },
  {
   "cell_type": "code",
   "execution_count": 35,
   "id": "5bb23dca-83e6-48eb-899e-5de6e1f267a6",
   "metadata": {},
   "outputs": [
    {
     "data": {
      "text/plain": [
       "True"
      ]
     },
     "execution_count": 35,
     "metadata": {},
     "output_type": "execute_result"
    }
   ],
   "source": [
    "not((157>254) and (248==145))"
   ]
  },
  {
   "cell_type": "code",
   "execution_count": 47,
   "id": "db83a285-2198-48c5-a206-f7700c5f971b",
   "metadata": {},
   "outputs": [],
   "source": [
    "condi1 = 4<5"
   ]
  },
  {
   "cell_type": "code",
   "execution_count": 49,
   "id": "1d94f088-7670-43bb-9116-9df968234c3f",
   "metadata": {},
   "outputs": [
    {
     "data": {
      "text/plain": [
       "True"
      ]
     },
     "execution_count": 49,
     "metadata": {},
     "output_type": "execute_result"
    }
   ],
   "source": [
    "condi1"
   ]
  },
  {
   "cell_type": "code",
   "execution_count": 51,
   "id": "94e78dcb-bbbd-41a9-bc91-269d41f0c726",
   "metadata": {},
   "outputs": [],
   "source": [
    "condi2 = 8<41"
   ]
  },
  {
   "cell_type": "code",
   "execution_count": 53,
   "id": "ec85706b-8a8d-4995-bc96-02819c7458e7",
   "metadata": {},
   "outputs": [
    {
     "data": {
      "text/plain": [
       "True"
      ]
     },
     "execution_count": 53,
     "metadata": {},
     "output_type": "execute_result"
    }
   ],
   "source": [
    "condi2"
   ]
  },
  {
   "cell_type": "code",
   "execution_count": 63,
   "id": "05e44632-31b5-43ee-8ab9-d1252dba76a6",
   "metadata": {},
   "outputs": [
    {
     "data": {
      "text/plain": [
       "False"
      ]
     },
     "execution_count": 63,
     "metadata": {},
     "output_type": "execute_result"
    }
   ],
   "source": [
    "condi1 and condi2"
   ]
  },
  {
   "cell_type": "code",
   "execution_count": 65,
   "id": "d53ca1f6-a288-4c9c-84d3-fb83de995ab5",
   "metadata": {},
   "outputs": [
    {
     "data": {
      "text/plain": [
       "True"
      ]
     },
     "execution_count": 65,
     "metadata": {},
     "output_type": "execute_result"
    }
   ],
   "source": [
    "condi1 or condi2"
   ]
  },
  {
   "cell_type": "code",
   "execution_count": 67,
   "id": "ba89e162-c085-40f2-a93f-e5f56fba8fc4",
   "metadata": {},
   "outputs": [
    {
     "data": {
      "text/plain": [
       "False"
      ]
     },
     "execution_count": 67,
     "metadata": {},
     "output_type": "execute_result"
    }
   ],
   "source": [
    "condi1 and condoi2"
   ]
  },
  {
   "cell_type": "code",
   "execution_count": 69,
   "id": "99a8d655-2810-4593-9a66-6b8217296ac8",
   "metadata": {},
   "outputs": [
    {
     "data": {
      "text/plain": [
       "True"
      ]
     },
     "execution_count": 69,
     "metadata": {},
     "output_type": "execute_result"
    }
   ],
   "source": [
    "10<= 10"
   ]
  },
  {
   "cell_type": "code",
   "execution_count": 71,
   "id": "a7015a2e-74ba-4454-84ef-5cf667d2adf2",
   "metadata": {},
   "outputs": [
    {
     "data": {
      "text/plain": [
       "True"
      ]
     },
     "execution_count": 71,
     "metadata": {},
     "output_type": "execute_result"
    }
   ],
   "source": [
    "20<=20"
   ]
  },
  {
   "cell_type": "code",
   "execution_count": 3,
   "id": "c59fc2b4-b1ea-4b35-9f65-fdc853592bab",
   "metadata": {},
   "outputs": [
    {
     "data": {
      "text/plain": [
       "True"
      ]
     },
     "execution_count": 3,
     "metadata": {},
     "output_type": "execute_result"
    }
   ],
   "source": [
    "25>=15"
   ]
  },
  {
   "cell_type": "code",
   "execution_count": 5,
   "id": "e4375bbf-90e5-4e8d-8809-30e8e4eccc28",
   "metadata": {},
   "outputs": [
    {
     "data": {
      "text/plain": [
       "False"
      ]
     },
     "execution_count": 5,
     "metadata": {},
     "output_type": "execute_result"
    }
   ],
   "source": [
    "55<=45"
   ]
  },
  {
   "cell_type": "code",
   "execution_count": 73,
   "id": "967ee7a0-db88-43e2-8a29-71b364c58ad9",
   "metadata": {},
   "outputs": [
    {
     "data": {
      "text/plain": [
       "True"
      ]
     },
     "execution_count": 73,
     "metadata": {},
     "output_type": "execute_result"
    }
   ],
   "source": [
    "30>=30"
   ]
  },
  {
   "cell_type": "code",
   "execution_count": 75,
   "id": "5c5a0bc3-84db-46cf-9a19-8e6758e6ee0f",
   "metadata": {},
   "outputs": [
    {
     "data": {
      "text/plain": [
       "False"
      ]
     },
     "execution_count": 75,
     "metadata": {},
     "output_type": "execute_result"
    }
   ],
   "source": [
    "(10<10) and (12>15)"
   ]
  },
  {
   "cell_type": "code",
   "execution_count": 77,
   "id": "89779e8a-d4af-4751-bc60-a96b6b5b32f9",
   "metadata": {},
   "outputs": [
    {
     "data": {
      "text/plain": [
       "False"
      ]
     },
     "execution_count": 77,
     "metadata": {},
     "output_type": "execute_result"
    }
   ],
   "source": [
    "(10>15) and (14>25)"
   ]
  },
  {
   "cell_type": "code",
   "execution_count": 79,
   "id": "7f7a44aa-5803-46b1-a805-26c5853a7c1c",
   "metadata": {},
   "outputs": [
    {
     "data": {
      "text/plain": [
       "False"
      ]
     },
     "execution_count": 79,
     "metadata": {},
     "output_type": "execute_result"
    }
   ],
   "source": [
    "(45>15) and (78<25)"
   ]
  },
  {
   "cell_type": "code",
   "execution_count": 81,
   "id": "fbcd9af9-4f44-49e4-aeb9-083911d54f9a",
   "metadata": {},
   "outputs": [
    {
     "data": {
      "text/plain": [
       "False"
      ]
     },
     "execution_count": 81,
     "metadata": {},
     "output_type": "execute_result"
    }
   ],
   "source": [
    "(10<=10) and (15>25)"
   ]
  },
  {
   "cell_type": "code",
   "execution_count": 83,
   "id": "192bd61c-5abd-4088-9e11-76d23978cf28",
   "metadata": {},
   "outputs": [
    {
     "data": {
      "text/plain": [
       "True"
      ]
     },
     "execution_count": 83,
     "metadata": {},
     "output_type": "execute_result"
    }
   ],
   "source": [
    "(10!=15) and (25>=15)"
   ]
  },
  {
   "cell_type": "code",
   "execution_count": 85,
   "id": "bdb9bc09-fa6e-4326-a04d-787b9279e71d",
   "metadata": {},
   "outputs": [
    {
     "data": {
      "text/plain": [
       "False"
      ]
     },
     "execution_count": 85,
     "metadata": {},
     "output_type": "execute_result"
    }
   ],
   "source": [
    "(10!=20) and (15>=25)"
   ]
  },
  {
   "cell_type": "code",
   "execution_count": 89,
   "id": "d1fa7479-32ce-4377-83fa-148cb12d5571",
   "metadata": {},
   "outputs": [
    {
     "data": {
      "text/plain": [
       "False"
      ]
     },
     "execution_count": 89,
     "metadata": {},
     "output_type": "execute_result"
    }
   ],
   "source": [
    "(10<=10) and (12>=15)"
   ]
  },
  {
   "cell_type": "code",
   "execution_count": 91,
   "id": "592d216b-3287-4135-b965-eb474c522ece",
   "metadata": {},
   "outputs": [
    {
     "data": {
      "text/plain": [
       "False"
      ]
     },
     "execution_count": 91,
     "metadata": {},
     "output_type": "execute_result"
    }
   ],
   "source": [
    "(10>=10) and (12>15)"
   ]
  },
  {
   "cell_type": "code",
   "execution_count": 99,
   "id": "97d4fcb5-ff7d-4886-b2c3-b3621d75016a",
   "metadata": {},
   "outputs": [
    {
     "data": {
      "text/plain": [
       "False"
      ]
     },
     "execution_count": 99,
     "metadata": {},
     "output_type": "execute_result"
    }
   ],
   "source": [
    "(10!=10) and (12>15)"
   ]
  },
  {
   "cell_type": "code",
   "execution_count": 101,
   "id": "519095fd-ed7e-4bd1-ad2b-c827d50a8a5b",
   "metadata": {},
   "outputs": [
    {
     "data": {
      "text/plain": [
       "True"
      ]
     },
     "execution_count": 101,
     "metadata": {},
     "output_type": "execute_result"
    }
   ],
   "source": [
    "(10>=10) and (15<=25)"
   ]
  },
  {
   "cell_type": "code",
   "execution_count": 119,
   "id": "d4261f0c-72f9-464b-a05f-e391adc063a6",
   "metadata": {},
   "outputs": [
    {
     "data": {
      "text/plain": [
       "True"
      ]
     },
     "execution_count": 119,
     "metadata": {},
     "output_type": "execute_result"
    }
   ],
   "source": [
    "not(10<10) or (20<20)"
   ]
  },
  {
   "cell_type": "code",
   "execution_count": null,
   "id": "dc7f5b81-3905-4b73-9115-7b6ce0e0649d",
   "metadata": {},
   "outputs": [],
   "source": []
  },
  {
   "cell_type": "code",
   "execution_count": 103,
   "id": "a8498b18-cb64-4e6a-8483-b7f6d7e63f8e",
   "metadata": {},
   "outputs": [
    {
     "data": {
      "text/plain": [
       "True"
      ]
     },
     "execution_count": 103,
     "metadata": {},
     "output_type": "execute_result"
    }
   ],
   "source": [
    "(10>=10) and (15<=30)"
   ]
  },
  {
   "cell_type": "code",
   "execution_count": 107,
   "id": "3b5f1ec9-0609-4346-8711-06dc594666dd",
   "metadata": {},
   "outputs": [
    {
     "data": {
      "text/plain": [
       "True"
      ]
     },
     "execution_count": 107,
     "metadata": {},
     "output_type": "execute_result"
    }
   ],
   "source": [
    "(10>=10) and (15<=35)"
   ]
  },
  {
   "cell_type": "code",
   "execution_count": 109,
   "id": "d12a7d19-31d7-48f3-adfb-6f0a58251f6c",
   "metadata": {},
   "outputs": [
    {
     "data": {
      "text/plain": [
       "False"
      ]
     },
     "execution_count": 109,
     "metadata": {},
     "output_type": "execute_result"
    }
   ],
   "source": [
    "(10<=10) and (15>=40)"
   ]
  },
  {
   "cell_type": "code",
   "execution_count": 113,
   "id": "abbc9caa-a739-4316-8ec3-87dae654809f",
   "metadata": {},
   "outputs": [
    {
     "data": {
      "text/plain": [
       "False"
      ]
     },
     "execution_count": 113,
     "metadata": {},
     "output_type": "execute_result"
    }
   ],
   "source": [
    "(10>=120) and (15<=45)"
   ]
  },
  {
   "cell_type": "code",
   "execution_count": 119,
   "id": "2a61f612-c359-464f-850e-81a3650838ab",
   "metadata": {},
   "outputs": [
    {
     "data": {
      "text/plain": [
       "True"
      ]
     },
     "execution_count": 119,
     "metadata": {},
     "output_type": "execute_result"
    }
   ],
   "source": [
    "not((10!=15) and (25<15))"
   ]
  },
  {
   "cell_type": "code",
   "execution_count": 121,
   "id": "1bc95cce-a150-45d0-b27b-14dd16b62304",
   "metadata": {},
   "outputs": [
    {
     "data": {
      "text/plain": [
       "False"
      ]
     },
     "execution_count": 121,
     "metadata": {},
     "output_type": "execute_result"
    }
   ],
   "source": [
    "not True"
   ]
  },
  {
   "cell_type": "code",
   "execution_count": 123,
   "id": "b4428eed-a49e-4f2a-b348-e2a0d3c806d1",
   "metadata": {},
   "outputs": [
    {
     "data": {
      "text/plain": [
       "True"
      ]
     },
     "execution_count": 123,
     "metadata": {},
     "output_type": "execute_result"
    }
   ],
   "source": [
    "not False"
   ]
  },
  {
   "cell_type": "code",
   "execution_count": 125,
   "id": "85a7eed8-6a4e-44ea-bf40-e00212a514f7",
   "metadata": {},
   "outputs": [
    {
     "data": {
      "text/plain": [
       "False"
      ]
     },
     "execution_count": 125,
     "metadata": {},
     "output_type": "execute_result"
    }
   ],
   "source": [
    "not True"
   ]
  },
  {
   "cell_type": "code",
   "execution_count": 127,
   "id": "8d8fc3e2-c786-43e4-b475-b6df93bc868b",
   "metadata": {},
   "outputs": [
    {
     "data": {
      "text/plain": [
       "True"
      ]
     },
     "execution_count": 127,
     "metadata": {},
     "output_type": "execute_result"
    }
   ],
   "source": [
    "not False"
   ]
  },
  {
   "cell_type": "code",
   "execution_count": 129,
   "id": "e7c7aa74-afec-403c-b9c2-9e108a8beb85",
   "metadata": {},
   "outputs": [
    {
     "data": {
      "text/plain": [
       "False"
      ]
     },
     "execution_count": 129,
     "metadata": {},
     "output_type": "execute_result"
    }
   ],
   "source": [
    "not True"
   ]
  },
  {
   "cell_type": "code",
   "execution_count": 131,
   "id": "effa69f7-cafd-4416-9915-4fa2d70f032f",
   "metadata": {},
   "outputs": [
    {
     "data": {
      "text/plain": [
       "True"
      ]
     },
     "execution_count": 131,
     "metadata": {},
     "output_type": "execute_result"
    }
   ],
   "source": [
    "not False"
   ]
  },
  {
   "cell_type": "code",
   "execution_count": 135,
   "id": "39b0651a-2f8c-4a32-b786-faaad8a93fe7",
   "metadata": {},
   "outputs": [
    {
     "data": {
      "text/plain": [
       "True"
      ]
     },
     "execution_count": 135,
     "metadata": {},
     "output_type": "execute_result"
    }
   ],
   "source": [
    "((10<=10) or (12>15))"
   ]
  },
  {
   "cell_type": "code",
   "execution_count": 137,
   "id": "9dd90105-3d0f-4b39-b2e0-718d5c4672e6",
   "metadata": {},
   "outputs": [
    {
     "data": {
      "text/plain": [
       "True"
      ]
     },
     "execution_count": 137,
     "metadata": {},
     "output_type": "execute_result"
    }
   ],
   "source": [
    "((10!=10) or (12<15))"
   ]
  },
  {
   "cell_type": "code",
   "execution_count": 7,
   "id": "9abb6ba3-5a91-4828-96b9-f9c216113999",
   "metadata": {},
   "outputs": [
    {
     "data": {
      "text/plain": [
       "True"
      ]
     },
     "execution_count": 7,
     "metadata": {},
     "output_type": "execute_result"
    }
   ],
   "source": [
    "((10!=25) or (20>15))"
   ]
  },
  {
   "cell_type": "code",
   "execution_count": null,
   "id": "9f994e13-fb7e-44b1-b0b6-71e87ffc4162",
   "metadata": {},
   "outputs": [],
   "source": []
  },
  {
   "cell_type": "code",
   "execution_count": 139,
   "id": "d6f71937-ca2c-469e-b3d2-e8896c3f34e1",
   "metadata": {},
   "outputs": [
    {
     "data": {
      "text/plain": [
       "True"
      ]
     },
     "execution_count": 139,
     "metadata": {},
     "output_type": "execute_result"
    }
   ],
   "source": [
    "((15!=10) or  (12<25))"
   ]
  },
  {
   "cell_type": "code",
   "execution_count": 141,
   "id": "f0070df6-3d09-4a54-a77b-ac9458692950",
   "metadata": {},
   "outputs": [
    {
     "data": {
      "text/plain": [
       "True"
      ]
     },
     "execution_count": 141,
     "metadata": {},
     "output_type": "execute_result"
    }
   ],
   "source": [
    "((15!=25) or (45<100))"
   ]
  },
  {
   "cell_type": "code",
   "execution_count": 145,
   "id": "61f03b16-7cda-4ced-b1b4-67e0fb92ba01",
   "metadata": {},
   "outputs": [
    {
     "data": {
      "text/plain": [
       "False"
      ]
     },
     "execution_count": 145,
     "metadata": {},
     "output_type": "execute_result"
    }
   ],
   "source": [
    "not(((10 >= 10) or (12 > 15)) or (45>100))"
   ]
  },
  {
   "cell_type": "code",
   "execution_count": 29,
   "id": "4bd4ddf1-f711-498e-b93c-90b2554506bd",
   "metadata": {},
   "outputs": [
    {
     "data": {
      "text/plain": [
       "False"
      ]
     },
     "execution_count": 29,
     "metadata": {},
     "output_type": "execute_result"
    }
   ],
   "source": [
    "not(((15>=12) or (15>14)) or (50>100))"
   ]
  },
  {
   "cell_type": "code",
   "execution_count": 31,
   "id": "ba399bd1-6d96-49cf-8ece-bc95245573c7",
   "metadata": {},
   "outputs": [
    {
     "data": {
      "text/plain": [
       "True"
      ]
     },
     "execution_count": 31,
     "metadata": {},
     "output_type": "execute_result"
    }
   ],
   "source": [
    "not(((15>15) or (12>15)) and (45>200))"
   ]
  },
  {
   "cell_type": "code",
   "execution_count": 147,
   "id": "c67f4fdf-db4c-43e4-a586-0b8e996e55f4",
   "metadata": {},
   "outputs": [
    {
     "data": {
      "text/plain": [
       "False"
      ]
     },
     "execution_count": 147,
     "metadata": {},
     "output_type": "execute_result"
    }
   ],
   "source": [
    "not(((10>=10) or (12>15)) or (45>200))"
   ]
  },
  {
   "cell_type": "code",
   "execution_count": 153,
   "id": "7ba4f2dd-6129-485f-ad2b-4a7591d1361a",
   "metadata": {},
   "outputs": [
    {
     "data": {
      "text/plain": [
       "False"
      ]
     },
     "execution_count": 153,
     "metadata": {},
     "output_type": "execute_result"
    }
   ],
   "source": [
    "not(((10>=15) or (15>12)) or (45>100)) "
   ]
  },
  {
   "cell_type": "code",
   "execution_count": 155,
   "id": "4c21b966-686d-492b-86f3-e9cc487eea85",
   "metadata": {},
   "outputs": [
    {
     "data": {
      "text/plain": [
       "True"
      ]
     },
     "execution_count": 155,
     "metadata": {},
     "output_type": "execute_result"
    }
   ],
   "source": [
    "not(((10>15) or (10>15)) or (45>100))"
   ]
  },
  {
   "cell_type": "code",
   "execution_count": 159,
   "id": "cca06fec-1ad8-4f3b-83af-99fc7e35e147",
   "metadata": {},
   "outputs": [
    {
     "data": {
      "text/plain": [
       "False"
      ]
     },
     "execution_count": 159,
     "metadata": {},
     "output_type": "execute_result"
    }
   ],
   "source": [
    "not(((15>10) or (15>10)) or (65>200))"
   ]
  },
  {
   "cell_type": "code",
   "execution_count": 161,
   "id": "d10e2f03-18ab-4385-bfa4-4dc664efdaba",
   "metadata": {},
   "outputs": [
    {
     "data": {
      "text/plain": [
       "False"
      ]
     },
     "execution_count": 161,
     "metadata": {},
     "output_type": "execute_result"
    }
   ],
   "source": [
    "not True"
   ]
  },
  {
   "cell_type": "code",
   "execution_count": 163,
   "id": "b56da05a-2b82-4a12-8c43-94b8c8255e0c",
   "metadata": {},
   "outputs": [
    {
     "data": {
      "text/plain": [
       "True"
      ]
     },
     "execution_count": 163,
     "metadata": {},
     "output_type": "execute_result"
    }
   ],
   "source": [
    "not False "
   ]
  },
  {
   "cell_type": "code",
   "execution_count": 167,
   "id": "b1236830-48f8-42ed-a56d-386e3d85ff05",
   "metadata": {},
   "outputs": [
    {
     "data": {
      "text/plain": [
       "False"
      ]
     },
     "execution_count": 167,
     "metadata": {},
     "output_type": "execute_result"
    }
   ],
   "source": [
    "not True"
   ]
  },
  {
   "cell_type": "code",
   "execution_count": 169,
   "id": "f96aa3f0-bdff-445e-9e2c-56e815557205",
   "metadata": {},
   "outputs": [
    {
     "data": {
      "text/plain": [
       "True"
      ]
     },
     "execution_count": 169,
     "metadata": {},
     "output_type": "execute_result"
    }
   ],
   "source": [
    "not False"
   ]
  },
  {
   "cell_type": "code",
   "execution_count": 175,
   "id": "1d17e169-51e4-43ce-bc5d-7c89cf891d54",
   "metadata": {},
   "outputs": [
    {
     "data": {
      "text/plain": [
       "True"
      ]
     },
     "execution_count": 175,
     "metadata": {},
     "output_type": "execute_result"
    }
   ],
   "source": [
    "((((140>14) or (140!= 150)) or (78 < 10)) and (16 > 150)) or (63 != 85)"
   ]
  },
  {
   "cell_type": "code",
   "execution_count": null,
   "id": "faa252dd-8061-4533-9c4f-a1cc63ad25f9",
   "metadata": {},
   "outputs": [],
   "source": []
  },
  {
   "cell_type": "markdown",
   "id": "42f6978b-12e7-4fc0-a7b9-7865991d7efb",
   "metadata": {},
   "source": [
    "# Bitwise Operators:\n",
    "* Bitwise AND : it follows logical AND - &\n",
    "* Bitwise OR : it follows logical OR - |\n",
    "* Bitwise XOR :: it provide us true when any one condition is true but it will provide\n",
    "* False when either both conditions are false or both conditions are true"
   ]
  },
  {
   "cell_type": "code",
   "execution_count": 121,
   "id": "3830ec96-2cc2-4034-b685-745c1fbc8970",
   "metadata": {},
   "outputs": [
    {
     "data": {
      "text/plain": [
       "'0b1111'"
      ]
     },
     "execution_count": 121,
     "metadata": {},
     "output_type": "execute_result"
    }
   ],
   "source": [
    "bin(15)"
   ]
  },
  {
   "cell_type": "code",
   "execution_count": 123,
   "id": "2356561d-5820-4782-af34-954606b51074",
   "metadata": {},
   "outputs": [
    {
     "data": {
      "text/plain": [
       "'0b10100'"
      ]
     },
     "execution_count": 123,
     "metadata": {},
     "output_type": "execute_result"
    }
   ],
   "source": [
    "bin(20)"
   ]
  },
  {
   "cell_type": "code",
   "execution_count": 1,
   "id": "304bd9b1-9233-40a5-863d-9807171f3321",
   "metadata": {},
   "outputs": [
    {
     "data": {
      "text/plain": [
       "'0b1110'"
      ]
     },
     "execution_count": 1,
     "metadata": {},
     "output_type": "execute_result"
    }
   ],
   "source": [
    "bin(14)"
   ]
  },
  {
   "cell_type": "code",
   "execution_count": 125,
   "id": "d16d158d-2730-482a-903f-791c03eea137",
   "metadata": {},
   "outputs": [
    {
     "data": {
      "text/plain": [
       "'0b1010'"
      ]
     },
     "execution_count": 125,
     "metadata": {},
     "output_type": "execute_result"
    }
   ],
   "source": [
    "bin(10)"
   ]
  },
  {
   "cell_type": "code",
   "execution_count": 3,
   "id": "abb44b81-96ff-449c-bee6-84598bb3e334",
   "metadata": {},
   "outputs": [
    {
     "data": {
      "text/plain": [
       "'0b101'"
      ]
     },
     "execution_count": 3,
     "metadata": {},
     "output_type": "execute_result"
    }
   ],
   "source": [
    "bin(5)"
   ]
  },
  {
   "cell_type": "code",
   "execution_count": 5,
   "id": "05419bc3-fdbb-4b77-a1ee-d8740a3ec08a",
   "metadata": {},
   "outputs": [
    {
     "data": {
      "text/plain": [
       "'0b100'"
      ]
     },
     "execution_count": 5,
     "metadata": {},
     "output_type": "execute_result"
    }
   ],
   "source": [
    "bin(4)"
   ]
  },
  {
   "cell_type": "code",
   "execution_count": 127,
   "id": "4e00ff87-a626-44b8-98d8-75a59b6e42be",
   "metadata": {},
   "outputs": [
    {
     "data": {
      "text/plain": [
       "4"
      ]
     },
     "execution_count": 127,
     "metadata": {},
     "output_type": "execute_result"
    }
   ],
   "source": [
    "14&5"
   ]
  },
  {
   "cell_type": "code",
   "execution_count": 7,
   "id": "19cc886e-c2c3-4c26-be2a-84aa048d3541",
   "metadata": {},
   "outputs": [
    {
     "data": {
      "text/plain": [
       "4"
      ]
     },
     "execution_count": 7,
     "metadata": {},
     "output_type": "execute_result"
    }
   ],
   "source": [
    "14&4"
   ]
  },
  {
   "cell_type": "code",
   "execution_count": 9,
   "id": "571bfd27-2825-400a-a65c-10f34b1a1da4",
   "metadata": {},
   "outputs": [
    {
     "data": {
      "text/plain": [
       "14"
      ]
     },
     "execution_count": 9,
     "metadata": {},
     "output_type": "execute_result"
    }
   ],
   "source": [
    "14|4"
   ]
  },
  {
   "cell_type": "code",
   "execution_count": 11,
   "id": "93eaf1f3-57eb-4dd9-b49e-b8f0271f15f3",
   "metadata": {},
   "outputs": [
    {
     "data": {
      "text/plain": [
       "8"
      ]
     },
     "execution_count": 11,
     "metadata": {},
     "output_type": "execute_result"
    }
   ],
   "source": [
    "15&8"
   ]
  },
  {
   "cell_type": "code",
   "execution_count": 13,
   "id": "1223d2f4-db63-44f3-91ba-6cd7187a728a",
   "metadata": {},
   "outputs": [
    {
     "data": {
      "text/plain": [
       "0"
      ]
     },
     "execution_count": 13,
     "metadata": {},
     "output_type": "execute_result"
    }
   ],
   "source": [
    "10&5"
   ]
  },
  {
   "cell_type": "code",
   "execution_count": 15,
   "id": "209ea2ab-ba4b-417e-bec0-832b4ffc36ff",
   "metadata": {},
   "outputs": [
    {
     "data": {
      "text/plain": [
       "0"
      ]
     },
     "execution_count": 15,
     "metadata": {},
     "output_type": "execute_result"
    }
   ],
   "source": [
    "12&3"
   ]
  },
  {
   "cell_type": "code",
   "execution_count": 131,
   "id": "654576b1-30bd-41dd-9436-97a77205a486",
   "metadata": {},
   "outputs": [
    {
     "data": {
      "text/plain": [
       "15"
      ]
     },
     "execution_count": 131,
     "metadata": {},
     "output_type": "execute_result"
    }
   ],
   "source": [
    "10|5"
   ]
  },
  {
   "cell_type": "code",
   "execution_count": 129,
   "id": "894983c4-6212-44f1-80ea-bf9d6b4a3645",
   "metadata": {},
   "outputs": [
    {
     "data": {
      "text/plain": [
       "15"
      ]
     },
     "execution_count": 129,
     "metadata": {},
     "output_type": "execute_result"
    }
   ],
   "source": [
    "15|5"
   ]
  },
  {
   "cell_type": "code",
   "execution_count": 17,
   "id": "8dbd4fbc-3202-45f4-a94f-fa545acef427",
   "metadata": {},
   "outputs": [
    {
     "data": {
      "text/plain": [
       "15"
      ]
     },
     "execution_count": 17,
     "metadata": {},
     "output_type": "execute_result"
    }
   ],
   "source": [
    "10|5"
   ]
  },
  {
   "cell_type": "code",
   "execution_count": 19,
   "id": "261a6d88-4827-448d-a8df-129b4fc336de",
   "metadata": {},
   "outputs": [
    {
     "data": {
      "text/plain": [
       "14"
      ]
     },
     "execution_count": 19,
     "metadata": {},
     "output_type": "execute_result"
    }
   ],
   "source": [
    "14|2"
   ]
  },
  {
   "cell_type": "code",
   "execution_count": 21,
   "id": "28554700-ed9d-4c20-baa7-855a6ac7237a",
   "metadata": {},
   "outputs": [
    {
     "data": {
      "text/plain": [
       "14"
      ]
     },
     "execution_count": 21,
     "metadata": {},
     "output_type": "execute_result"
    }
   ],
   "source": [
    "14|2"
   ]
  },
  {
   "cell_type": "code",
   "execution_count": 23,
   "id": "13225f1a-47a4-4991-b0d6-380d7921317b",
   "metadata": {},
   "outputs": [
    {
     "data": {
      "text/plain": [
       "15"
      ]
     },
     "execution_count": 23,
     "metadata": {},
     "output_type": "execute_result"
    }
   ],
   "source": [
    "15|2"
   ]
  },
  {
   "cell_type": "code",
   "execution_count": 25,
   "id": "72c6f564-d0d4-41f8-bc3c-3859e24593f6",
   "metadata": {},
   "outputs": [
    {
     "data": {
      "text/plain": [
       "12"
      ]
     },
     "execution_count": 25,
     "metadata": {},
     "output_type": "execute_result"
    }
   ],
   "source": [
    "14^2"
   ]
  },
  {
   "cell_type": "code",
   "execution_count": 27,
   "id": "6da2e7a4-4fd9-4d84-926d-f8e268e6be45",
   "metadata": {},
   "outputs": [
    {
     "data": {
      "text/plain": [
       "14"
      ]
     },
     "execution_count": 27,
     "metadata": {},
     "output_type": "execute_result"
    }
   ],
   "source": [
    "12^2"
   ]
  },
  {
   "cell_type": "code",
   "execution_count": 29,
   "id": "86504373-cc6a-4a44-9268-796ae7a4a504",
   "metadata": {},
   "outputs": [
    {
     "data": {
      "text/plain": [
       "11"
      ]
     },
     "execution_count": 29,
     "metadata": {},
     "output_type": "execute_result"
    }
   ],
   "source": [
    "14^5"
   ]
  },
  {
   "cell_type": "code",
   "execution_count": 31,
   "id": "026990ac-cf3c-41eb-9e3f-9be8624e067f",
   "metadata": {},
   "outputs": [
    {
     "data": {
      "text/plain": [
       "10"
      ]
     },
     "execution_count": 31,
     "metadata": {},
     "output_type": "execute_result"
    }
   ],
   "source": [
    "15^5"
   ]
  },
  {
   "cell_type": "code",
   "execution_count": 33,
   "id": "96da0820-945d-4069-b878-de29f97935be",
   "metadata": {},
   "outputs": [
    {
     "data": {
      "text/plain": [
       "15"
      ]
     },
     "execution_count": 33,
     "metadata": {},
     "output_type": "execute_result"
    }
   ],
   "source": [
    "13^2"
   ]
  },
  {
   "cell_type": "code",
   "execution_count": 37,
   "id": "eb3c5d76-1cf2-4dd5-bfd1-95bf0ce14e23",
   "metadata": {},
   "outputs": [
    {
     "data": {
      "text/plain": [
       "12"
      ]
     },
     "execution_count": 37,
     "metadata": {},
     "output_type": "execute_result"
    }
   ],
   "source": [
    "14^2"
   ]
  },
  {
   "cell_type": "code",
   "execution_count": 41,
   "id": "73162a16-b27b-4bc6-bda8-bae04e5b552a",
   "metadata": {},
   "outputs": [
    {
     "data": {
      "text/plain": [
       "2"
      ]
     },
     "execution_count": 41,
     "metadata": {},
     "output_type": "execute_result"
    }
   ],
   "source": [
    "10&2"
   ]
  },
  {
   "cell_type": "code",
   "execution_count": 43,
   "id": "de9f8f9e-97e1-4eda-9586-0626416789d2",
   "metadata": {},
   "outputs": [
    {
     "data": {
      "text/plain": [
       "'0b111'"
      ]
     },
     "execution_count": 43,
     "metadata": {},
     "output_type": "execute_result"
    }
   ],
   "source": [
    "bin(7)"
   ]
  },
  {
   "cell_type": "code",
   "execution_count": 133,
   "id": "938a2105-fb2c-4017-9542-3640b9de1d12",
   "metadata": {},
   "outputs": [
    {
     "data": {
      "text/plain": [
       "'0b10100'"
      ]
     },
     "execution_count": 133,
     "metadata": {},
     "output_type": "execute_result"
    }
   ],
   "source": [
    "bin(20)"
   ]
  },
  {
   "cell_type": "code",
   "execution_count": 135,
   "id": "a99c3b0b-e2eb-4306-a9ce-62c090af570b",
   "metadata": {},
   "outputs": [
    {
     "data": {
      "text/plain": [
       "'0b1110'"
      ]
     },
     "execution_count": 135,
     "metadata": {},
     "output_type": "execute_result"
    }
   ],
   "source": [
    "bin(14)"
   ]
  },
  {
   "cell_type": "code",
   "execution_count": 137,
   "id": "e399ad72-d444-44aa-8dab-ed6ff1e786c5",
   "metadata": {},
   "outputs": [
    {
     "data": {
      "text/plain": [
       "'0b1011'"
      ]
     },
     "execution_count": 137,
     "metadata": {},
     "output_type": "execute_result"
    }
   ],
   "source": [
    "bin(11)"
   ]
  },
  {
   "cell_type": "code",
   "execution_count": 139,
   "id": "755f01ca-2da5-4c17-8624-948d66e1f03e",
   "metadata": {},
   "outputs": [
    {
     "data": {
      "text/plain": [
       "'0b1100'"
      ]
     },
     "execution_count": 139,
     "metadata": {},
     "output_type": "execute_result"
    }
   ],
   "source": [
    "bin(12)"
   ]
  },
  {
   "cell_type": "code",
   "execution_count": 141,
   "id": "1447c3c4-6b6e-4373-853d-56635442ba98",
   "metadata": {},
   "outputs": [
    {
     "data": {
      "text/plain": [
       "'0b1010'"
      ]
     },
     "execution_count": 141,
     "metadata": {},
     "output_type": "execute_result"
    }
   ],
   "source": [
    "bin(10)"
   ]
  },
  {
   "cell_type": "code",
   "execution_count": 143,
   "id": "68a9e8f7-cced-4bd3-99ba-ba78cad785e3",
   "metadata": {},
   "outputs": [
    {
     "data": {
      "text/plain": [
       "'0b1100'"
      ]
     },
     "execution_count": 143,
     "metadata": {},
     "output_type": "execute_result"
    }
   ],
   "source": [
    "bin(12)"
   ]
  },
  {
   "cell_type": "code",
   "execution_count": 145,
   "id": "84541048-69aa-4732-8082-d0b7988156f4",
   "metadata": {},
   "outputs": [
    {
     "data": {
      "text/plain": [
       "'0b1010'"
      ]
     },
     "execution_count": 145,
     "metadata": {},
     "output_type": "execute_result"
    }
   ],
   "source": [
    "bin(10)"
   ]
  },
  {
   "cell_type": "code",
   "execution_count": 149,
   "id": "382c7824-c6d0-4783-8896-0276361cb164",
   "metadata": {},
   "outputs": [
    {
     "data": {
      "text/plain": [
       "'0b10'"
      ]
     },
     "execution_count": 149,
     "metadata": {},
     "output_type": "execute_result"
    }
   ],
   "source": [
    "bin(2)"
   ]
  },
  {
   "cell_type": "code",
   "execution_count": 5,
   "id": "367105a8-e7b8-491f-9cc9-c48282a8df54",
   "metadata": {},
   "outputs": [
    {
     "data": {
      "text/plain": [
       "15"
      ]
     },
     "execution_count": 5,
     "metadata": {},
     "output_type": "execute_result"
    }
   ],
   "source": [
    "15"
   ]
  },
  {
   "cell_type": "code",
   "execution_count": 33,
   "id": "0b5e4777-456f-4d28-9ea6-6c806237dec3",
   "metadata": {},
   "outputs": [
    {
     "data": {
      "text/plain": [
       "'0b1111'"
      ]
     },
     "execution_count": 33,
     "metadata": {},
     "output_type": "execute_result"
    }
   ],
   "source": [
    "bin(15)"
   ]
  },
  {
   "cell_type": "code",
   "execution_count": 35,
   "id": "04a440a8-e153-4d60-8596-f25e3ee59f46",
   "metadata": {},
   "outputs": [
    {
     "data": {
      "text/plain": [
       "'0b1110'"
      ]
     },
     "execution_count": 35,
     "metadata": {},
     "output_type": "execute_result"
    }
   ],
   "source": [
    "bin(14)"
   ]
  },
  {
   "cell_type": "code",
   "execution_count": 9,
   "id": "1a4636c5-595a-43f7-a820-fedf455d8a39",
   "metadata": {},
   "outputs": [
    {
     "data": {
      "text/plain": [
       "'0b10100'"
      ]
     },
     "execution_count": 9,
     "metadata": {},
     "output_type": "execute_result"
    }
   ],
   "source": [
    "bin(20)"
   ]
  },
  {
   "cell_type": "code",
   "execution_count": 11,
   "id": "adeeb335-b438-40a8-9c78-7e067037936e",
   "metadata": {},
   "outputs": [
    {
     "data": {
      "text/plain": [
       "'0b11110'"
      ]
     },
     "execution_count": 11,
     "metadata": {},
     "output_type": "execute_result"
    }
   ],
   "source": [
    "bin(30)"
   ]
  },
  {
   "cell_type": "code",
   "execution_count": 7,
   "id": "593738ef-5bdc-42e0-a002-32ec2f8cc072",
   "metadata": {},
   "outputs": [
    {
     "data": {
      "text/plain": [
       "'0b1111'"
      ]
     },
     "execution_count": 7,
     "metadata": {},
     "output_type": "execute_result"
    }
   ],
   "source": [
    "bin(15)"
   ]
  },
  {
   "cell_type": "code",
   "execution_count": 9,
   "id": "44691b7f-32cb-4300-b578-66742cf5a86b",
   "metadata": {},
   "outputs": [
    {
     "data": {
      "text/plain": [
       "'0b1010'"
      ]
     },
     "execution_count": 9,
     "metadata": {},
     "output_type": "execute_result"
    }
   ],
   "source": [
    "bin(10)"
   ]
  },
  {
   "cell_type": "code",
   "execution_count": 11,
   "id": "ff0d34f8-ac15-4184-9164-d684554d8a9f",
   "metadata": {},
   "outputs": [
    {
     "data": {
      "text/plain": [
       "10"
      ]
     },
     "execution_count": 11,
     "metadata": {},
     "output_type": "execute_result"
    }
   ],
   "source": [
    "10 & 10"
   ]
  },
  {
   "cell_type": "code",
   "execution_count": 13,
   "id": "daf270b9-15bd-49ff-85d0-6bc898dced56",
   "metadata": {},
   "outputs": [
    {
     "data": {
      "text/plain": [
       "0"
      ]
     },
     "execution_count": 13,
     "metadata": {},
     "output_type": "execute_result"
    }
   ],
   "source": [
    "10 & 5"
   ]
  },
  {
   "cell_type": "code",
   "execution_count": 15,
   "id": "2b4b8684-1e5d-4de9-b80e-9b99db6f1b23",
   "metadata": {},
   "outputs": [
    {
     "data": {
      "text/plain": [
       "15"
      ]
     },
     "execution_count": 15,
     "metadata": {},
     "output_type": "execute_result"
    }
   ],
   "source": [
    "15|5"
   ]
  },
  {
   "cell_type": "code",
   "execution_count": 17,
   "id": "2e7af7a3-6ceb-4d9a-9f63-27c1300ce698",
   "metadata": {},
   "outputs": [
    {
     "data": {
      "text/plain": [
       "'0b11001'"
      ]
     },
     "execution_count": 17,
     "metadata": {},
     "output_type": "execute_result"
    }
   ],
   "source": [
    "bin(25)"
   ]
  },
  {
   "cell_type": "code",
   "execution_count": 21,
   "id": "f67697cc-13e2-4da4-9462-964e69c15726",
   "metadata": {},
   "outputs": [
    {
     "data": {
      "text/plain": [
       "'0b11001'"
      ]
     },
     "execution_count": 21,
     "metadata": {},
     "output_type": "execute_result"
    }
   ],
   "source": [
    "bin(25)"
   ]
  },
  {
   "cell_type": "code",
   "execution_count": 23,
   "id": "968975be-e834-4996-93bb-df40800cfc22",
   "metadata": {},
   "outputs": [
    {
     "data": {
      "text/plain": [
       "9"
      ]
     },
     "execution_count": 23,
     "metadata": {},
     "output_type": "execute_result"
    }
   ],
   "source": [
    "15 & 25"
   ]
  },
  {
   "cell_type": "code",
   "execution_count": 25,
   "id": "f4029c25-85fe-4bfe-8be7-e6ac79ac9763",
   "metadata": {},
   "outputs": [
    {
     "data": {
      "text/plain": [
       "8"
      ]
     },
     "execution_count": 25,
     "metadata": {},
     "output_type": "execute_result"
    }
   ],
   "source": [
    "10 & 25"
   ]
  },
  {
   "cell_type": "code",
   "execution_count": 29,
   "id": "f5deef6a-8348-4bbf-90ab-ca7660842412",
   "metadata": {},
   "outputs": [
    {
     "data": {
      "text/plain": [
       "2"
      ]
     },
     "execution_count": 29,
     "metadata": {},
     "output_type": "execute_result"
    }
   ],
   "source": [
    "15 & 2"
   ]
  },
  {
   "cell_type": "code",
   "execution_count": 31,
   "id": "b198dadd-f5de-4221-bc03-ebe35738c911",
   "metadata": {},
   "outputs": [
    {
     "data": {
      "text/plain": [
       "15"
      ]
     },
     "execution_count": 31,
     "metadata": {},
     "output_type": "execute_result"
    }
   ],
   "source": [
    "15|2"
   ]
  },
  {
   "cell_type": "code",
   "execution_count": 33,
   "id": "e0cdca3b-c8b4-42c0-a669-9545ed980fa4",
   "metadata": {},
   "outputs": [
    {
     "data": {
      "text/plain": [
       "75"
      ]
     },
     "execution_count": 33,
     "metadata": {},
     "output_type": "execute_result"
    }
   ],
   "source": [
    "10|65"
   ]
  },
  {
   "cell_type": "code",
   "execution_count": 35,
   "id": "54b6b173-317e-4aad-b6a7-5949b018cebf",
   "metadata": {},
   "outputs": [
    {
     "data": {
      "text/plain": [
       "15"
      ]
     },
     "execution_count": 35,
     "metadata": {},
     "output_type": "execute_result"
    }
   ],
   "source": [
    "10^5"
   ]
  },
  {
   "cell_type": "code",
   "execution_count": 37,
   "id": "60f66702-871e-457e-be9b-242fb8001654",
   "metadata": {},
   "outputs": [
    {
     "data": {
      "text/plain": [
       "54"
      ]
     },
     "execution_count": 37,
     "metadata": {},
     "output_type": "execute_result"
    }
   ],
   "source": [
    "51^5"
   ]
  },
  {
   "cell_type": "code",
   "execution_count": 37,
   "id": "2adf5a19-ed1e-4d98-ab96-cd776d6742b6",
   "metadata": {},
   "outputs": [
    {
     "data": {
      "text/plain": [
       "17"
      ]
     },
     "execution_count": 37,
     "metadata": {},
     "output_type": "execute_result"
    }
   ],
   "source": [
    "20^5"
   ]
  },
  {
   "cell_type": "code",
   "execution_count": 39,
   "id": "2bad955c-f1d5-4946-ac10-199a767d7ca8",
   "metadata": {},
   "outputs": [
    {
     "data": {
      "text/plain": [
       "10"
      ]
     },
     "execution_count": 39,
     "metadata": {},
     "output_type": "execute_result"
    }
   ],
   "source": [
    "15^5"
   ]
  },
  {
   "cell_type": "code",
   "execution_count": 39,
   "id": "1b12958f-edad-4c7a-af91-2630fc8d1c77",
   "metadata": {},
   "outputs": [
    {
     "data": {
      "text/plain": [
       "10"
      ]
     },
     "execution_count": 39,
     "metadata": {},
     "output_type": "execute_result"
    }
   ],
   "source": [
    "15^5"
   ]
  },
  {
   "cell_type": "code",
   "execution_count": 41,
   "id": "2c3cd55e-a904-4bdb-9d58-b0e94ee5826f",
   "metadata": {},
   "outputs": [
    {
     "data": {
      "text/plain": [
       "67"
      ]
     },
     "execution_count": 41,
     "metadata": {},
     "output_type": "execute_result"
    }
   ],
   "source": [
    "65^2"
   ]
  },
  {
   "cell_type": "code",
   "execution_count": 43,
   "id": "bd597d67-67d4-4aa8-a49b-45e5d2e0ddf2",
   "metadata": {},
   "outputs": [
    {
     "data": {
      "text/plain": [
       "'0b1010'"
      ]
     },
     "execution_count": 43,
     "metadata": {},
     "output_type": "execute_result"
    }
   ],
   "source": [
    "bin(10)"
   ]
  },
  {
   "cell_type": "code",
   "execution_count": 45,
   "id": "91acbe2e-7ca3-40eb-b135-4364a8750b82",
   "metadata": {},
   "outputs": [
    {
     "data": {
      "text/plain": [
       "'0b1111'"
      ]
     },
     "execution_count": 45,
     "metadata": {},
     "output_type": "execute_result"
    }
   ],
   "source": [
    "bin(15)"
   ]
  },
  {
   "cell_type": "code",
   "execution_count": 47,
   "id": "c2cfbc46-ed94-4b64-a45a-2bae16fbedc5",
   "metadata": {},
   "outputs": [
    {
     "data": {
      "text/plain": [
       "'0b11001'"
      ]
     },
     "execution_count": 47,
     "metadata": {},
     "output_type": "execute_result"
    }
   ],
   "source": [
    "bin(25)"
   ]
  },
  {
   "cell_type": "code",
   "execution_count": 49,
   "id": "f5bbcf62-55f0-466f-b0e6-2a00e1ec7ef9",
   "metadata": {},
   "outputs": [
    {
     "data": {
      "text/plain": [
       "'0b11110'"
      ]
     },
     "execution_count": 49,
     "metadata": {},
     "output_type": "execute_result"
    }
   ],
   "source": [
    "bin(30)"
   ]
  },
  {
   "cell_type": "code",
   "execution_count": 51,
   "id": "9953531d-55a9-4e9c-8eb9-9ec5a9d62f1c",
   "metadata": {},
   "outputs": [
    {
     "data": {
      "text/plain": [
       "'0b101101'"
      ]
     },
     "execution_count": 51,
     "metadata": {},
     "output_type": "execute_result"
    }
   ],
   "source": [
    "bin(45)"
   ]
  },
  {
   "cell_type": "code",
   "execution_count": 53,
   "id": "7f5d3605-fe09-4757-b656-49a07432d610",
   "metadata": {},
   "outputs": [
    {
     "data": {
      "text/plain": [
       "'0b110111'"
      ]
     },
     "execution_count": 53,
     "metadata": {},
     "output_type": "execute_result"
    }
   ],
   "source": [
    "bin(55)"
   ]
  },
  {
   "cell_type": "code",
   "execution_count": 55,
   "id": "58cb2c71-3679-4d91-afa2-c08fc3b7e456",
   "metadata": {},
   "outputs": [
    {
     "data": {
      "text/plain": [
       "'0b111100'"
      ]
     },
     "execution_count": 55,
     "metadata": {},
     "output_type": "execute_result"
    }
   ],
   "source": [
    "bin(60)"
   ]
  },
  {
   "cell_type": "code",
   "execution_count": 59,
   "id": "7fad08a0-6636-4f0d-99aa-105466671372",
   "metadata": {},
   "outputs": [
    {
     "data": {
      "text/plain": [
       "15"
      ]
     },
     "execution_count": 59,
     "metadata": {},
     "output_type": "execute_result"
    }
   ],
   "source": [
    "10|5"
   ]
  },
  {
   "cell_type": "markdown",
   "id": "f5b04fbc-afa4-4185-b26b-f27a71d9f0ec",
   "metadata": {},
   "source": [
    "##### "
   ]
  },
  {
   "cell_type": "code",
   "execution_count": 62,
   "id": "5268d9e6-7249-48d6-9adc-fdc6d6e62f92",
   "metadata": {},
   "outputs": [
    {
     "data": {
      "text/plain": [
       "71"
      ]
     },
     "execution_count": 62,
     "metadata": {},
     "output_type": "execute_result"
    }
   ],
   "source": [
    "65^6"
   ]
  },
  {
   "cell_type": "code",
   "execution_count": 64,
   "id": "463cc0af-682f-47c6-8cf9-7c8ff9685055",
   "metadata": {},
   "outputs": [
    {
     "data": {
      "text/plain": [
       "79"
      ]
     },
     "execution_count": 64,
     "metadata": {},
     "output_type": "execute_result"
    }
   ],
   "source": [
    "98^45"
   ]
  },
  {
   "cell_type": "code",
   "execution_count": 66,
   "id": "a99e7dbc-5d02-440f-a2dd-38e05c7bb48b",
   "metadata": {},
   "outputs": [
    {
     "data": {
      "text/plain": [
       "8"
      ]
     },
     "execution_count": 66,
     "metadata": {},
     "output_type": "execute_result"
    }
   ],
   "source": [
    "15&8"
   ]
  },
  {
   "cell_type": "code",
   "execution_count": 68,
   "id": "06a850fd-577d-4202-803b-782eeff115ba",
   "metadata": {},
   "outputs": [
    {
     "data": {
      "text/plain": [
       "2"
      ]
     },
     "execution_count": 68,
     "metadata": {},
     "output_type": "execute_result"
    }
   ],
   "source": [
    "10&6"
   ]
  },
  {
   "cell_type": "code",
   "execution_count": 70,
   "id": "c47b1053-ef7f-453a-8ee9-76e6f7baaf5e",
   "metadata": {},
   "outputs": [
    {
     "data": {
      "text/plain": [
       "9"
      ]
     },
     "execution_count": 70,
     "metadata": {},
     "output_type": "execute_result"
    }
   ],
   "source": [
    "15&25"
   ]
  },
  {
   "cell_type": "code",
   "execution_count": null,
   "id": "f3384b9d-8616-4978-97a3-4c9924fac93c",
   "metadata": {},
   "outputs": [],
   "source": []
  },
  {
   "cell_type": "markdown",
   "id": "26c1e185-53f8-4eb6-8dd5-d0c8d7f930d5",
   "metadata": {},
   "source": [
    "# Special Operators :\n",
    "* Membership Operator : in, not in, it will check membership Boolean : \n",
    "* Identify Operator : it will check identify , is, is not, "
   ]
  },
  {
   "cell_type": "code",
   "execution_count": null,
   "id": "9b228c80-c6e6-4d3b-b31f-a788587abdce",
   "metadata": {},
   "outputs": [],
   "source": []
  },
  {
   "cell_type": "code",
   "execution_count": null,
   "id": "44adb10a-55e2-44db-8d35-518c28c8b1c1",
   "metadata": {},
   "outputs": [],
   "source": []
  },
  {
   "cell_type": "code",
   "execution_count": 41,
   "id": "af0f65fe-8d64-4d6b-a4bb-ef8f865c313b",
   "metadata": {},
   "outputs": [],
   "source": [
    "str2 = \"vivobook\""
   ]
  },
  {
   "cell_type": "code",
   "execution_count": 43,
   "id": "dfd577bc-d1eb-4a30-9b0b-66ec399ead83",
   "metadata": {},
   "outputs": [
    {
     "data": {
      "text/plain": [
       "True"
      ]
     },
     "execution_count": 43,
     "metadata": {},
     "output_type": "execute_result"
    }
   ],
   "source": [
    "\"b\" in str2"
   ]
  },
  {
   "cell_type": "code",
   "execution_count": 45,
   "id": "8fe64aa6-f6f7-40e2-8df9-9fb124613948",
   "metadata": {},
   "outputs": [
    {
     "data": {
      "text/plain": [
       "False"
      ]
     },
     "execution_count": 45,
     "metadata": {},
     "output_type": "execute_result"
    }
   ],
   "source": [
    "\"oo\" not in str2"
   ]
  },
  {
   "cell_type": "code",
   "execution_count": 47,
   "id": "9714cef8-f731-418d-a77a-a83c137f76d6",
   "metadata": {},
   "outputs": [
    {
     "data": {
      "text/plain": [
       "True"
      ]
     },
     "execution_count": 47,
     "metadata": {},
     "output_type": "execute_result"
    }
   ],
   "source": [
    "\"k\" in str2"
   ]
  },
  {
   "cell_type": "code",
   "execution_count": 49,
   "id": "6fdd6f45-bcbd-431c-9f3e-558e5ac1608c",
   "metadata": {},
   "outputs": [
    {
     "data": {
      "text/plain": [
       "False"
      ]
     },
     "execution_count": 49,
     "metadata": {},
     "output_type": "execute_result"
    }
   ],
   "source": [
    "\"z\" in str2"
   ]
  },
  {
   "cell_type": "code",
   "execution_count": 13,
   "id": "427ff146-34e2-4046-b096-25c6a2a6ab95",
   "metadata": {},
   "outputs": [],
   "source": [
    "str1 = \"system\""
   ]
  },
  {
   "cell_type": "code",
   "execution_count": 15,
   "id": "fda3813b-45d8-460a-922d-8faaeb9f81f0",
   "metadata": {},
   "outputs": [
    {
     "data": {
      "text/plain": [
       "True"
      ]
     },
     "execution_count": 15,
     "metadata": {},
     "output_type": "execute_result"
    }
   ],
   "source": [
    "\"m\" in str1"
   ]
  },
  {
   "cell_type": "code",
   "execution_count": 74,
   "id": "bf4ba97d-3338-4de3-855c-a1714e4bca26",
   "metadata": {},
   "outputs": [],
   "source": [
    "str2 = \"computer\""
   ]
  },
  {
   "cell_type": "code",
   "execution_count": 76,
   "id": "cddbc001-eca1-439b-80f7-16fb8322db62",
   "metadata": {},
   "outputs": [
    {
     "data": {
      "text/plain": [
       "False"
      ]
     },
     "execution_count": 76,
     "metadata": {},
     "output_type": "execute_result"
    }
   ],
   "source": [
    "\"z\" in str2"
   ]
  },
  {
   "cell_type": "code",
   "execution_count": 78,
   "id": "3b2bacf0-edef-427d-a3e4-73baa3468735",
   "metadata": {},
   "outputs": [],
   "source": [
    "str2 = \"system\""
   ]
  },
  {
   "cell_type": "code",
   "execution_count": 80,
   "id": "300d7e85-0ba3-42c2-a047-7d99cc272926",
   "metadata": {},
   "outputs": [
    {
     "data": {
      "text/plain": [
       "False"
      ]
     },
     "execution_count": 80,
     "metadata": {},
     "output_type": "execute_result"
    }
   ],
   "source": [
    "\"z\" in str2"
   ]
  },
  {
   "cell_type": "code",
   "execution_count": 82,
   "id": "79c7cde2-e4a8-433c-bf99-b2788c144a74",
   "metadata": {},
   "outputs": [],
   "source": [
    "str2 = \"new delhi\""
   ]
  },
  {
   "cell_type": "code",
   "execution_count": 84,
   "id": "0c1249b8-cc84-4929-9fba-313141a6c276",
   "metadata": {},
   "outputs": [
    {
     "data": {
      "text/plain": [
       "False"
      ]
     },
     "execution_count": 84,
     "metadata": {},
     "output_type": "execute_result"
    }
   ],
   "source": [
    "\"z\" in str2"
   ]
  },
  {
   "cell_type": "code",
   "execution_count": 86,
   "id": "a3c4d888-c3b0-436d-933f-bccd9bdb3659",
   "metadata": {},
   "outputs": [],
   "source": [
    "str = \"TGC\""
   ]
  },
  {
   "cell_type": "code",
   "execution_count": 88,
   "id": "c55d345e-c0b8-45e1-a1df-e801c71853e9",
   "metadata": {},
   "outputs": [
    {
     "data": {
      "text/plain": [
       "True"
      ]
     },
     "execution_count": 88,
     "metadata": {},
     "output_type": "execute_result"
    }
   ],
   "source": [
    "\"x\" not in str2"
   ]
  },
  {
   "cell_type": "code",
   "execution_count": 90,
   "id": "71f330f1-2443-4cd7-b8f6-ac5643ed7b96",
   "metadata": {},
   "outputs": [],
   "source": [
    "str = \"umar\""
   ]
  },
  {
   "cell_type": "code",
   "execution_count": 92,
   "id": "ae803c63-6d14-4341-94d2-2d8eb7c778a1",
   "metadata": {},
   "outputs": [
    {
     "data": {
      "text/plain": [
       "True"
      ]
     },
     "execution_count": 92,
     "metadata": {},
     "output_type": "execute_result"
    }
   ],
   "source": [
    "\"z\" not in str2"
   ]
  },
  {
   "cell_type": "code",
   "execution_count": 151,
   "id": "ca4f3c6a-3c74-4918-9eae-458546e7f7cf",
   "metadata": {},
   "outputs": [],
   "source": [
    "str = \"MY PC\""
   ]
  },
  {
   "cell_type": "code",
   "execution_count": 153,
   "id": "0a0e93e6-e1a2-44b1-b365-919d14f39ac3",
   "metadata": {},
   "outputs": [
    {
     "data": {
      "text/plain": [
       "'MY PC'"
      ]
     },
     "execution_count": 153,
     "metadata": {},
     "output_type": "execute_result"
    }
   ],
   "source": [
    "str"
   ]
  },
  {
   "cell_type": "code",
   "execution_count": null,
   "id": "6288f187-e95e-442e-929c-9a48132fd0c4",
   "metadata": {},
   "outputs": [],
   "source": []
  },
  {
   "cell_type": "code",
   "execution_count": 94,
   "id": "37ffcd46-91fd-459b-ba87-ac1f6fcf0098",
   "metadata": {},
   "outputs": [],
   "source": [
    "str = \"vivobook\""
   ]
  },
  {
   "cell_type": "code",
   "execution_count": 96,
   "id": "9f3b0f2a-b4c8-4d85-9087-4cafade8b5d8",
   "metadata": {},
   "outputs": [
    {
     "data": {
      "text/plain": [
       "False"
      ]
     },
     "execution_count": 96,
     "metadata": {},
     "output_type": "execute_result"
    }
   ],
   "source": [
    "\"z\" in str"
   ]
  },
  {
   "cell_type": "code",
   "execution_count": 155,
   "id": "4cc6f1dd-368e-4bc5-b6fc-4e646ad4e7d1",
   "metadata": {},
   "outputs": [],
   "source": [
    "a = {10,15,20,25,30}"
   ]
  },
  {
   "cell_type": "code",
   "execution_count": 157,
   "id": "cc09d2a0-d828-41e8-8308-3f51a4bb09f6",
   "metadata": {},
   "outputs": [
    {
     "data": {
      "text/plain": [
       "{10, 15, 20, 25, 30}"
      ]
     },
     "execution_count": 157,
     "metadata": {},
     "output_type": "execute_result"
    }
   ],
   "source": [
    "a"
   ]
  },
  {
   "cell_type": "code",
   "execution_count": 159,
   "id": "73f9d870-21ee-4c24-bac7-7ce35f04da6e",
   "metadata": {},
   "outputs": [
    {
     "data": {
      "text/plain": [
       "True"
      ]
     },
     "execution_count": 159,
     "metadata": {},
     "output_type": "execute_result"
    }
   ],
   "source": [
    "30 in a"
   ]
  },
  {
   "cell_type": "code",
   "execution_count": 161,
   "id": "c69fa9ca-1f64-40dc-995d-f262a3a44618",
   "metadata": {},
   "outputs": [
    {
     "data": {
      "text/plain": [
       "True"
      ]
     },
     "execution_count": 161,
     "metadata": {},
     "output_type": "execute_result"
    }
   ],
   "source": [
    "55 not in a"
   ]
  },
  {
   "cell_type": "code",
   "execution_count": 51,
   "id": "ef495a1b-e5c2-4576-a07e-e7dab9f2d2e8",
   "metadata": {},
   "outputs": [],
   "source": [
    "b = {10,15,20,17,65}"
   ]
  },
  {
   "cell_type": "code",
   "execution_count": 55,
   "id": "8f7321e8-8c24-4575-bf13-80c4eb6f09c5",
   "metadata": {},
   "outputs": [
    {
     "data": {
      "text/plain": [
       "False"
      ]
     },
     "execution_count": 55,
     "metadata": {},
     "output_type": "execute_result"
    }
   ],
   "source": [
    "500 in b"
   ]
  },
  {
   "cell_type": "code",
   "execution_count": 57,
   "id": "5ff0adb4-7396-4d23-bfc0-7e973cc48a05",
   "metadata": {},
   "outputs": [
    {
     "data": {
      "text/plain": [
       "True"
      ]
     },
     "execution_count": 57,
     "metadata": {},
     "output_type": "execute_result"
    }
   ],
   "source": [
    "71 not in b"
   ]
  },
  {
   "cell_type": "code",
   "execution_count": 59,
   "id": "1b714378-f7f4-4266-bd66-28905d008537",
   "metadata": {},
   "outputs": [
    {
     "data": {
      "text/plain": [
       "True"
      ]
     },
     "execution_count": 59,
     "metadata": {},
     "output_type": "execute_result"
    }
   ],
   "source": [
    "15 in b"
   ]
  },
  {
   "cell_type": "code",
   "execution_count": 61,
   "id": "e6d8dcd2-cee3-4d79-873b-964e68d9c3dc",
   "metadata": {},
   "outputs": [
    {
     "data": {
      "text/plain": [
       "False"
      ]
     },
     "execution_count": 61,
     "metadata": {},
     "output_type": "execute_result"
    }
   ],
   "source": [
    "75 in b"
   ]
  },
  {
   "cell_type": "code",
   "execution_count": 3,
   "id": "4dfd149d-ca5a-4fb6-b8bb-1da649bff7fe",
   "metadata": {},
   "outputs": [],
   "source": [
    "a = {20,25,55,45}"
   ]
  },
  {
   "cell_type": "code",
   "execution_count": 5,
   "id": "2951aef8-8a29-4aa2-a7a4-6e9d4371eb35",
   "metadata": {},
   "outputs": [
    {
     "data": {
      "text/plain": [
       "False"
      ]
     },
     "execution_count": 5,
     "metadata": {},
     "output_type": "execute_result"
    }
   ],
   "source": [
    "200 in a"
   ]
  },
  {
   "cell_type": "code",
   "execution_count": 63,
   "id": "9b106801-b7d7-4813-80cd-41f44dad18c5",
   "metadata": {},
   "outputs": [],
   "source": [
    "z = {10,15,18,20}"
   ]
  },
  {
   "cell_type": "code",
   "execution_count": 65,
   "id": "7f9187c3-7919-4efe-8213-b58798f7399f",
   "metadata": {},
   "outputs": [
    {
     "data": {
      "text/plain": [
       "False"
      ]
     },
     "execution_count": 65,
     "metadata": {},
     "output_type": "execute_result"
    }
   ],
   "source": [
    "180 in z"
   ]
  },
  {
   "cell_type": "code",
   "execution_count": 67,
   "id": "5e6b768d-7bf7-48c9-a50e-6507e290efee",
   "metadata": {},
   "outputs": [
    {
     "data": {
      "text/plain": [
       "False"
      ]
     },
     "execution_count": 67,
     "metadata": {},
     "output_type": "execute_result"
    }
   ],
   "source": [
    "10 not in z"
   ]
  },
  {
   "cell_type": "code",
   "execution_count": 98,
   "id": "8d3e34fe-a77d-46dc-a734-ef7b80396789",
   "metadata": {},
   "outputs": [],
   "source": [
    "p = {10,15,18,20}c"
   ]
  },
  {
   "cell_type": "code",
   "execution_count": 100,
   "id": "1cdf4425-7e5f-496d-8c1f-491585c77996",
   "metadata": {},
   "outputs": [
    {
     "data": {
      "text/plain": [
       "False"
      ]
     },
     "execution_count": 100,
     "metadata": {},
     "output_type": "execute_result"
    }
   ],
   "source": [
    "180 in p"
   ]
  },
  {
   "cell_type": "code",
   "execution_count": 102,
   "id": "a08eddaf-11d3-4aaa-9ed4-1b4b9723b415",
   "metadata": {},
   "outputs": [
    {
     "data": {
      "text/plain": [
       "True"
      ]
     },
     "execution_count": 102,
     "metadata": {},
     "output_type": "execute_result"
    }
   ],
   "source": [
    "200 not in p"
   ]
  },
  {
   "cell_type": "code",
   "execution_count": 104,
   "id": "3d9a68c2-b780-457f-8505-cd1d5a942940",
   "metadata": {},
   "outputs": [
    {
     "data": {
      "text/plain": [
       "True"
      ]
     },
     "execution_count": 104,
     "metadata": {},
     "output_type": "execute_result"
    }
   ],
   "source": [
    "300 not in p"
   ]
  },
  {
   "cell_type": "code",
   "execution_count": 106,
   "id": "8631bd07-5572-4d4a-88a0-5cd9dae9c5c0",
   "metadata": {},
   "outputs": [
    {
     "data": {
      "text/plain": [
       "False"
      ]
     },
     "execution_count": 106,
     "metadata": {},
     "output_type": "execute_result"
    }
   ],
   "source": [
    "500 in p"
   ]
  },
  {
   "cell_type": "code",
   "execution_count": 108,
   "id": "f8864495-8420-44cb-9257-4cf8b6c746fe",
   "metadata": {},
   "outputs": [
    {
     "data": {
      "text/plain": [
       "True"
      ]
     },
     "execution_count": 108,
     "metadata": {},
     "output_type": "execute_result"
    }
   ],
   "source": [
    "100 not in p"
   ]
  },
  {
   "cell_type": "code",
   "execution_count": 110,
   "id": "a38eabce-8bde-4d58-a5ae-8a584a9bcbe5",
   "metadata": {},
   "outputs": [
    {
     "data": {
      "text/plain": [
       "False"
      ]
     },
     "execution_count": 110,
     "metadata": {},
     "output_type": "execute_result"
    }
   ],
   "source": [
    "1000 in p"
   ]
  },
  {
   "cell_type": "code",
   "execution_count": 112,
   "id": "48137d60-9ad4-45f0-900d-94198577fa16",
   "metadata": {},
   "outputs": [],
   "source": [
    "a = {2,4,6,8,10}"
   ]
  },
  {
   "cell_type": "code",
   "execution_count": 116,
   "id": "800e6cd2-9f95-45b6-8801-7724760bc8e6",
   "metadata": {},
   "outputs": [
    {
     "data": {
      "text/plain": [
       "True"
      ]
     },
     "execution_count": 116,
     "metadata": {},
     "output_type": "execute_result"
    }
   ],
   "source": [
    "2 in a"
   ]
  },
  {
   "cell_type": "code",
   "execution_count": 118,
   "id": "94e0189e-c928-4d17-92e1-23e99857db12",
   "metadata": {},
   "outputs": [
    {
     "data": {
      "text/plain": [
       "False"
      ]
     },
     "execution_count": 118,
     "metadata": {},
     "output_type": "execute_result"
    }
   ],
   "source": [
    "150 in a"
   ]
  },
  {
   "cell_type": "code",
   "execution_count": 120,
   "id": "233775ed-a404-4bf0-b7f6-40813e32dd1a",
   "metadata": {},
   "outputs": [
    {
     "data": {
      "text/plain": [
       "False"
      ]
     },
     "execution_count": 120,
     "metadata": {},
     "output_type": "execute_result"
    }
   ],
   "source": [
    "200 in a"
   ]
  },
  {
   "cell_type": "code",
   "execution_count": 122,
   "id": "a4c1db8b-5e53-4d47-a2d8-4c2296811e6b",
   "metadata": {},
   "outputs": [
    {
     "data": {
      "text/plain": [
       "True"
      ]
     },
     "execution_count": 122,
     "metadata": {},
     "output_type": "execute_result"
    }
   ],
   "source": [
    "150 not in a"
   ]
  },
  {
   "cell_type": "code",
   "execution_count": 124,
   "id": "83d744c9-8a5c-4a52-9a31-0e9cdc89df3d",
   "metadata": {},
   "outputs": [
    {
     "data": {
      "text/plain": [
       "True"
      ]
     },
     "execution_count": 124,
     "metadata": {},
     "output_type": "execute_result"
    }
   ],
   "source": [
    "200 not in a"
   ]
  },
  {
   "cell_type": "code",
   "execution_count": 126,
   "id": "a00dd58c-c3ad-4aa6-9258-d304a63058ab",
   "metadata": {},
   "outputs": [
    {
     "data": {
      "text/plain": [
       "True"
      ]
     },
     "execution_count": 126,
     "metadata": {},
     "output_type": "execute_result"
    }
   ],
   "source": [
    "300 not in a"
   ]
  },
  {
   "cell_type": "code",
   "execution_count": 128,
   "id": "2b4a722a-7f27-41ff-aaf4-e3169fb7be40",
   "metadata": {},
   "outputs": [],
   "source": [
    "str = \"Good morning\""
   ]
  },
  {
   "cell_type": "code",
   "execution_count": 132,
   "id": "3601f57f-3e65-418c-aa0e-122d025f8225",
   "metadata": {},
   "outputs": [
    {
     "data": {
      "text/plain": [
       "True"
      ]
     },
     "execution_count": 132,
     "metadata": {},
     "output_type": "execute_result"
    }
   ],
   "source": [
    "\"G\" in str"
   ]
  },
  {
   "cell_type": "code",
   "execution_count": 134,
   "id": "f658fd8b-d0d1-4836-abf6-815418e2c00b",
   "metadata": {},
   "outputs": [],
   "source": [
    "str = \"good afternoon\""
   ]
  },
  {
   "cell_type": "code",
   "execution_count": 136,
   "id": "17370ae1-5a4b-4559-981b-a39149c0c471",
   "metadata": {},
   "outputs": [
    {
     "data": {
      "text/plain": [
       "False"
      ]
     },
     "execution_count": 136,
     "metadata": {},
     "output_type": "execute_result"
    }
   ],
   "source": [
    "\"g\" not in str"
   ]
  },
  {
   "cell_type": "code",
   "execution_count": 138,
   "id": "43153979-0016-4484-8a35-992e6fd53f29",
   "metadata": {},
   "outputs": [],
   "source": [
    "str = \"Good evening\""
   ]
  },
  {
   "cell_type": "code",
   "execution_count": 140,
   "id": "11044d1d-1bc3-4430-b8f8-9737da9bf0c9",
   "metadata": {},
   "outputs": [
    {
     "data": {
      "text/plain": [
       "True"
      ]
     },
     "execution_count": 140,
     "metadata": {},
     "output_type": "execute_result"
    }
   ],
   "source": [
    "\"G\" in str"
   ]
  },
  {
   "cell_type": "code",
   "execution_count": 69,
   "id": "4ca90e24-d578-4156-b1af-432023d8b409",
   "metadata": {},
   "outputs": [],
   "source": [
    "str = \"hello mam\""
   ]
  },
  {
   "cell_type": "code",
   "execution_count": 71,
   "id": "a464d0a7-413d-4b7f-888f-3adb8dc69018",
   "metadata": {},
   "outputs": [
    {
     "data": {
      "text/plain": [
       "True"
      ]
     },
     "execution_count": 71,
     "metadata": {},
     "output_type": "execute_result"
    }
   ],
   "source": [
    "\"m\" in str"
   ]
  },
  {
   "cell_type": "code",
   "execution_count": 142,
   "id": "a9247f16-6546-4317-8384-4e5853e557da",
   "metadata": {},
   "outputs": [],
   "source": [
    "str = \"hello dear\""
   ]
  },
  {
   "cell_type": "code",
   "execution_count": 148,
   "id": "4ae71a97-cff1-40c8-9d2d-d63bdac06279",
   "metadata": {},
   "outputs": [
    {
     "data": {
      "text/plain": [
       "True"
      ]
     },
     "execution_count": 148,
     "metadata": {},
     "output_type": "execute_result"
    }
   ],
   "source": [
    "\"h\" in str"
   ]
  },
  {
   "cell_type": "code",
   "execution_count": 7,
   "id": "172efd04-f7b1-48f2-8370-7d76206d233c",
   "metadata": {},
   "outputs": [],
   "source": [
    "str = \"hello world\""
   ]
  },
  {
   "cell_type": "code",
   "execution_count": 11,
   "id": "fb60c3f0-3584-4784-b762-302d5934162e",
   "metadata": {},
   "outputs": [
    {
     "data": {
      "text/plain": [
       "True"
      ]
     },
     "execution_count": 11,
     "metadata": {},
     "output_type": "execute_result"
    }
   ],
   "source": [
    "\"w\" in str"
   ]
  },
  {
   "cell_type": "code",
   "execution_count": 150,
   "id": "c96a58a8-50e8-4743-8cbf-f0053daf58cc",
   "metadata": {},
   "outputs": [],
   "source": [
    "str = \"greatings\""
   ]
  },
  {
   "cell_type": "code",
   "execution_count": 152,
   "id": "6cb3a7c5-7a70-46f4-9c5a-f87451dfda3c",
   "metadata": {},
   "outputs": [
    {
     "data": {
      "text/plain": [
       "True"
      ]
     },
     "execution_count": 152,
     "metadata": {},
     "output_type": "execute_result"
    }
   ],
   "source": [
    "\"g\" in str"
   ]
  },
  {
   "cell_type": "code",
   "execution_count": 154,
   "id": "89ffb8b6-f32e-4909-af44-5afb3c215b3b",
   "metadata": {},
   "outputs": [
    {
     "data": {
      "text/plain": [
       "False"
      ]
     },
     "execution_count": 154,
     "metadata": {},
     "output_type": "execute_result"
    }
   ],
   "source": [
    "\"z\" in str "
   ]
  },
  {
   "cell_type": "code",
   "execution_count": 156,
   "id": "cfc39f6a-1265-4173-bf75-072de756cd7c",
   "metadata": {},
   "outputs": [
    {
     "data": {
      "text/plain": [
       "True"
      ]
     },
     "execution_count": 156,
     "metadata": {},
     "output_type": "execute_result"
    }
   ],
   "source": [
    "\"z\" not in str"
   ]
  },
  {
   "cell_type": "code",
   "execution_count": 158,
   "id": "18281dd0-4938-48cf-b6a1-4866b4e0406e",
   "metadata": {},
   "outputs": [
    {
     "data": {
      "text/plain": [
       "True"
      ]
     },
     "execution_count": 158,
     "metadata": {},
     "output_type": "execute_result"
    }
   ],
   "source": [
    "\"bad\" not in str"
   ]
  },
  {
   "cell_type": "code",
   "execution_count": 160,
   "id": "20dc3cc1-0d93-473f-b696-09aae7fbc847",
   "metadata": {},
   "outputs": [
    {
     "data": {
      "text/plain": [
       "False"
      ]
     },
     "execution_count": 160,
     "metadata": {},
     "output_type": "execute_result"
    }
   ],
   "source": [
    "\"bad\" in str"
   ]
  },
  {
   "cell_type": "code",
   "execution_count": 162,
   "id": "d6775645-5bd7-47b9-8eb7-d48491201e28",
   "metadata": {},
   "outputs": [
    {
     "data": {
      "text/plain": [
       "False"
      ]
     },
     "execution_count": 162,
     "metadata": {},
     "output_type": "execute_result"
    }
   ],
   "source": [
    "\"very\" in str"
   ]
  },
  {
   "cell_type": "code",
   "execution_count": 164,
   "id": "465340ba-93ac-442f-b5b5-3ca0c68c0820",
   "metadata": {},
   "outputs": [
    {
     "data": {
      "text/plain": [
       "True"
      ]
     },
     "execution_count": 164,
     "metadata": {},
     "output_type": "execute_result"
    }
   ],
   "source": [
    "\"very\" not in str"
   ]
  },
  {
   "cell_type": "code",
   "execution_count": 166,
   "id": "fc992f6e-96e1-437a-9301-049abb9d0f79",
   "metadata": {},
   "outputs": [],
   "source": [
    "a = {4,5,6,7,8,9}"
   ]
  },
  {
   "cell_type": "code",
   "execution_count": 168,
   "id": "3ba38358-d0ec-4ec4-b518-83ab4f3bedea",
   "metadata": {},
   "outputs": [
    {
     "data": {
      "text/plain": [
       "{4, 5, 6, 7, 8, 9}"
      ]
     },
     "execution_count": 168,
     "metadata": {},
     "output_type": "execute_result"
    }
   ],
   "source": [
    "a"
   ]
  },
  {
   "cell_type": "code",
   "execution_count": 170,
   "id": "4b628909-646b-4b20-b019-7f42ac329ce1",
   "metadata": {},
   "outputs": [
    {
     "data": {
      "text/plain": [
       "True"
      ]
     },
     "execution_count": 170,
     "metadata": {},
     "output_type": "execute_result"
    }
   ],
   "source": [
    "4 in a"
   ]
  },
  {
   "cell_type": "code",
   "execution_count": 172,
   "id": "db4e596a-a14e-4eeb-a280-08200e779e2a",
   "metadata": {},
   "outputs": [
    {
     "data": {
      "text/plain": [
       "False"
      ]
     },
     "execution_count": 172,
     "metadata": {},
     "output_type": "execute_result"
    }
   ],
   "source": [
    "6 not in a"
   ]
  },
  {
   "cell_type": "code",
   "execution_count": 174,
   "id": "a936707e-ba14-46ca-9738-9eb5bfe734a0",
   "metadata": {},
   "outputs": [
    {
     "data": {
      "text/plain": [
       "False"
      ]
     },
     "execution_count": 174,
     "metadata": {},
     "output_type": "execute_result"
    }
   ],
   "source": [
    "6 not in a"
   ]
  },
  {
   "cell_type": "code",
   "execution_count": 176,
   "id": "6ddf5df5-7d98-4535-b0b5-2dbc9c8bda88",
   "metadata": {},
   "outputs": [
    {
     "data": {
      "text/plain": [
       "True"
      ]
     },
     "execution_count": 176,
     "metadata": {},
     "output_type": "execute_result"
    }
   ],
   "source": [
    "8 in a"
   ]
  },
  {
   "cell_type": "code",
   "execution_count": 178,
   "id": "d5aafc3c-0cc8-4f1c-b971-5e7bf744af36",
   "metadata": {},
   "outputs": [
    {
     "data": {
      "text/plain": [
       "True"
      ]
     },
     "execution_count": 178,
     "metadata": {},
     "output_type": "execute_result"
    }
   ],
   "source": [
    "100 not in a"
   ]
  },
  {
   "cell_type": "code",
   "execution_count": 180,
   "id": "7b2e0b0f-d51e-4639-b99a-ac4412f6a45c",
   "metadata": {},
   "outputs": [
    {
     "data": {
      "text/plain": [
       "False"
      ]
     },
     "execution_count": 180,
     "metadata": {},
     "output_type": "execute_result"
    }
   ],
   "source": [
    "100 in a"
   ]
  },
  {
   "cell_type": "code",
   "execution_count": 184,
   "id": "e6dd0e70-1940-41f1-9183-e56e0a0bf458",
   "metadata": {},
   "outputs": [
    {
     "data": {
      "text/plain": [
       "True"
      ]
     },
     "execution_count": 184,
     "metadata": {},
     "output_type": "execute_result"
    }
   ],
   "source": [
    "200 not in a "
   ]
  },
  {
   "cell_type": "code",
   "execution_count": null,
   "id": "c9a2bfe9-0bf8-4300-ab83-3d84c13cdfba",
   "metadata": {},
   "outputs": [],
   "source": []
  },
  {
   "cell_type": "code",
   "execution_count": 187,
   "id": "b002b688-9a98-41cf-854c-a50c005012e7",
   "metadata": {},
   "outputs": [],
   "source": [
    "# Identity Operators: it will check Identity/Addresses, is , is not"
   ]
  },
  {
   "cell_type": "code",
   "execution_count": 189,
   "id": "34bca307-275f-438c-8c90-f3c06b66583a",
   "metadata": {},
   "outputs": [],
   "source": [
    "x = 200"
   ]
  },
  {
   "cell_type": "code",
   "execution_count": 191,
   "id": "595c15d5-9824-4059-ad11-39e20dfb195e",
   "metadata": {},
   "outputs": [],
   "source": [
    "y = 200"
   ]
  },
  {
   "cell_type": "code",
   "execution_count": 197,
   "id": "d150d179-d8d9-4a33-92af-2a0c19ba3966",
   "metadata": {},
   "outputs": [
    {
     "data": {
      "text/plain": [
       "True"
      ]
     },
     "execution_count": 197,
     "metadata": {},
     "output_type": "execute_result"
    }
   ],
   "source": [
    "x is y"
   ]
  },
  {
   "cell_type": "code",
   "execution_count": 203,
   "id": "f69ce6d5-2ddd-4995-afc4-bba7a63af6a4",
   "metadata": {},
   "outputs": [
    {
     "data": {
      "text/plain": [
       "140712697545368"
      ]
     },
     "execution_count": 203,
     "metadata": {},
     "output_type": "execute_result"
    }
   ],
   "source": [
    "id (x)"
   ]
  },
  {
   "cell_type": "code",
   "execution_count": 209,
   "id": "8c2fa894-7f17-498e-b367-596381ca4285",
   "metadata": {},
   "outputs": [
    {
     "data": {
      "text/plain": [
       "140712697545368"
      ]
     },
     "execution_count": 209,
     "metadata": {},
     "output_type": "execute_result"
    }
   ],
   "source": [
    "id(y)"
   ]
  },
  {
   "cell_type": "code",
   "execution_count": 211,
   "id": "9072eac9-48e4-4a88-bf9a-b6eff1dd8212",
   "metadata": {},
   "outputs": [
    {
     "data": {
      "text/plain": [
       "True"
      ]
     },
     "execution_count": 211,
     "metadata": {},
     "output_type": "execute_result"
    }
   ],
   "source": [
    "x ==y"
   ]
  },
  {
   "cell_type": "code",
   "execution_count": 163,
   "id": "206295b6-5480-4e32-9b83-eed7c6784102",
   "metadata": {},
   "outputs": [],
   "source": [
    "x = 200"
   ]
  },
  {
   "cell_type": "code",
   "execution_count": 165,
   "id": "fa4b2032-6b67-49e1-8167-c85b48a8d9d2",
   "metadata": {},
   "outputs": [],
   "source": [
    "y = 400"
   ]
  },
  {
   "cell_type": "code",
   "execution_count": 167,
   "id": "eeb2ced0-0e9a-46bc-a282-68cd49509b61",
   "metadata": {},
   "outputs": [],
   "source": [
    "z = 600"
   ]
  },
  {
   "cell_type": "code",
   "execution_count": 169,
   "id": "f1485025-6951-4a30-99c1-1b29dca63a2a",
   "metadata": {},
   "outputs": [
    {
     "data": {
      "text/plain": [
       "2541020794928"
      ]
     },
     "execution_count": 169,
     "metadata": {},
     "output_type": "execute_result"
    }
   ],
   "source": [
    "id(z)"
   ]
  },
  {
   "cell_type": "code",
   "execution_count": 171,
   "id": "8c6e8977-99ee-43a6-9c61-8ca33511570b",
   "metadata": {},
   "outputs": [
    {
     "data": {
      "text/plain": [
       "2541020798736"
      ]
     },
     "execution_count": 171,
     "metadata": {},
     "output_type": "execute_result"
    }
   ],
   "source": [
    "id(y)"
   ]
  },
  {
   "cell_type": "code",
   "execution_count": 173,
   "id": "b65f5a58-d5e0-4e5d-a32f-575b814a78b8",
   "metadata": {},
   "outputs": [
    {
     "data": {
      "text/plain": [
       "2541020794928"
      ]
     },
     "execution_count": 173,
     "metadata": {},
     "output_type": "execute_result"
    }
   ],
   "source": [
    "id(z)"
   ]
  },
  {
   "cell_type": "code",
   "execution_count": 175,
   "id": "56ae2605-8e0d-4cd3-b873-213ed49885e4",
   "metadata": {},
   "outputs": [
    {
     "data": {
      "text/plain": [
       "2541020794928"
      ]
     },
     "execution_count": 175,
     "metadata": {},
     "output_type": "execute_result"
    }
   ],
   "source": [
    "id (z)"
   ]
  },
  {
   "cell_type": "code",
   "execution_count": 177,
   "id": "65b86e84-85b3-4e8c-b613-e12438835fe9",
   "metadata": {},
   "outputs": [
    {
     "data": {
      "text/plain": [
       "2541020798736"
      ]
     },
     "execution_count": 177,
     "metadata": {},
     "output_type": "execute_result"
    }
   ],
   "source": [
    "id (y)"
   ]
  },
  {
   "cell_type": "code",
   "execution_count": 228,
   "id": "b895220b-90e2-4418-8725-602cd2bf5873",
   "metadata": {},
   "outputs": [
    {
     "data": {
      "text/plain": [
       "False"
      ]
     },
     "execution_count": 228,
     "metadata": {},
     "output_type": "execute_result"
    }
   ],
   "source": [
    "p is x"
   ]
  },
  {
   "cell_type": "code",
   "execution_count": 179,
   "id": "544376bf-7053-4088-b246-fd2f68d4ec90",
   "metadata": {},
   "outputs": [
    {
     "data": {
      "text/plain": [
       "False"
      ]
     },
     "execution_count": 179,
     "metadata": {},
     "output_type": "execute_result"
    }
   ],
   "source": [
    "z is y"
   ]
  },
  {
   "cell_type": "code",
   "execution_count": 232,
   "id": "36c4d601-ad18-46e8-9015-74e1025fbda1",
   "metadata": {},
   "outputs": [
    {
     "data": {
      "text/plain": [
       "False"
      ]
     },
     "execution_count": 232,
     "metadata": {},
     "output_type": "execute_result"
    }
   ],
   "source": [
    "p is y"
   ]
  },
  {
   "cell_type": "code",
   "execution_count": 234,
   "id": "b74ee6f5-745b-478c-9bd7-4bd4a92ea548",
   "metadata": {},
   "outputs": [
    {
     "data": {
      "text/plain": [
       "False"
      ]
     },
     "execution_count": 234,
     "metadata": {},
     "output_type": "execute_result"
    }
   ],
   "source": [
    "p is z"
   ]
  },
  {
   "cell_type": "code",
   "execution_count": 236,
   "id": "9ce4b23f-53bc-46c0-a360-b76074fd2653",
   "metadata": {},
   "outputs": [
    {
     "data": {
      "text/plain": [
       "True"
      ]
     },
     "execution_count": 236,
     "metadata": {},
     "output_type": "execute_result"
    }
   ],
   "source": [
    "p is not x"
   ]
  },
  {
   "cell_type": "code",
   "execution_count": 238,
   "id": "1fbfcfb4-d332-474f-9c17-8cb2955c790f",
   "metadata": {},
   "outputs": [
    {
     "data": {
      "text/plain": [
       "True"
      ]
     },
     "execution_count": 238,
     "metadata": {},
     "output_type": "execute_result"
    }
   ],
   "source": [
    "p is not z"
   ]
  },
  {
   "cell_type": "code",
   "execution_count": 240,
   "id": "31b8dee9-3e93-4d26-b03e-ede125063143",
   "metadata": {},
   "outputs": [
    {
     "data": {
      "text/plain": [
       "True"
      ]
     },
     "execution_count": 240,
     "metadata": {},
     "output_type": "execute_result"
    }
   ],
   "source": [
    "p is not y"
   ]
  },
  {
   "cell_type": "code",
   "execution_count": 242,
   "id": "379c0622-7b6a-43ea-834c-4298add82c03",
   "metadata": {},
   "outputs": [
    {
     "data": {
      "text/plain": [
       "False"
      ]
     },
     "execution_count": 242,
     "metadata": {},
     "output_type": "execute_result"
    }
   ],
   "source": [
    "p == x"
   ]
  },
  {
   "cell_type": "code",
   "execution_count": 244,
   "id": "ab63bd0e-9a97-42d7-bd8d-b8e05336f822",
   "metadata": {},
   "outputs": [
    {
     "data": {
      "text/plain": [
       "False"
      ]
     },
     "execution_count": 244,
     "metadata": {},
     "output_type": "execute_result"
    }
   ],
   "source": [
    "p == y"
   ]
  },
  {
   "cell_type": "code",
   "execution_count": 246,
   "id": "54dc2367-1f52-4674-9ada-0ee89194c15f",
   "metadata": {},
   "outputs": [
    {
     "data": {
      "text/plain": [
       "False"
      ]
     },
     "execution_count": 246,
     "metadata": {},
     "output_type": "execute_result"
    }
   ],
   "source": [
    "p == z"
   ]
  },
  {
   "cell_type": "code",
   "execution_count": 181,
   "id": "1cf8aada-6164-4c07-888f-d91630545276",
   "metadata": {},
   "outputs": [],
   "source": [
    "y = 200"
   ]
  },
  {
   "cell_type": "code",
   "execution_count": 185,
   "id": "a3e12d60-5ce9-482d-b904-81f33086d20b",
   "metadata": {},
   "outputs": [
    {
     "data": {
      "text/plain": [
       "140735179473560"
      ]
     },
     "execution_count": 185,
     "metadata": {},
     "output_type": "execute_result"
    }
   ],
   "source": [
    "id (y)"
   ]
  },
  {
   "cell_type": "code",
   "execution_count": 183,
   "id": "985213b6-7197-480d-8a13-f5adb10e311b",
   "metadata": {},
   "outputs": [
    {
     "data": {
      "text/plain": [
       "True"
      ]
     },
     "execution_count": 183,
     "metadata": {},
     "output_type": "execute_result"
    }
   ],
   "source": [
    "x is y"
   ]
  },
  {
   "cell_type": "code",
   "execution_count": 248,
   "id": "aac64208-0483-49c5-98c6-6794ce5d8d76",
   "metadata": {},
   "outputs": [],
   "source": [
    "y = 100"
   ]
  },
  {
   "cell_type": "code",
   "execution_count": 250,
   "id": "295deaf1-bc01-46af-9a67-9228e9c28cd9",
   "metadata": {},
   "outputs": [
    {
     "data": {
      "text/plain": [
       "False"
      ]
     },
     "execution_count": 250,
     "metadata": {},
     "output_type": "execute_result"
    }
   ],
   "source": [
    "x is y"
   ]
  },
  {
   "cell_type": "code",
   "execution_count": 252,
   "id": "2c623ee4-4cbb-435b-a533-6a88c28d460b",
   "metadata": {},
   "outputs": [
    {
     "data": {
      "text/plain": [
       "140712697545368"
      ]
     },
     "execution_count": 252,
     "metadata": {},
     "output_type": "execute_result"
    }
   ],
   "source": [
    "id (x)"
   ]
  },
  {
   "cell_type": "code",
   "execution_count": 254,
   "id": "22ccdeb6-90a7-4ee7-bc85-0d809242f7c9",
   "metadata": {},
   "outputs": [
    {
     "data": {
      "text/plain": [
       "140712697542168"
      ]
     },
     "execution_count": 254,
     "metadata": {},
     "output_type": "execute_result"
    }
   ],
   "source": [
    "id(y)"
   ]
  },
  {
   "cell_type": "code",
   "execution_count": 187,
   "id": "4354c83f-2809-497b-b6c5-7a56c5cb9a5c",
   "metadata": {},
   "outputs": [],
   "source": [
    "s =300"
   ]
  },
  {
   "cell_type": "code",
   "execution_count": 189,
   "id": "934d8f69-d1d2-43f5-8f35-36836b68f07a",
   "metadata": {},
   "outputs": [
    {
     "data": {
      "text/plain": [
       "False"
      ]
     },
     "execution_count": 189,
     "metadata": {},
     "output_type": "execute_result"
    }
   ],
   "source": [
    "y is s"
   ]
  },
  {
   "cell_type": "code",
   "execution_count": 256,
   "id": "3b6b93f7-16c6-4978-ab67-9a60ef8750ab",
   "metadata": {},
   "outputs": [],
   "source": [
    "z = 200"
   ]
  },
  {
   "cell_type": "code",
   "execution_count": 258,
   "id": "30268a9e-81fb-4a6d-a360-b610db68e20a",
   "metadata": {},
   "outputs": [
    {
     "data": {
      "text/plain": [
       "False"
      ]
     },
     "execution_count": 258,
     "metadata": {},
     "output_type": "execute_result"
    }
   ],
   "source": [
    "y is z"
   ]
  },
  {
   "cell_type": "code",
   "execution_count": 260,
   "id": "ed947145-4063-4e9a-90c0-f939aff35d79",
   "metadata": {},
   "outputs": [
    {
     "data": {
      "text/plain": [
       "False"
      ]
     },
     "execution_count": 260,
     "metadata": {},
     "output_type": "execute_result"
    }
   ],
   "source": [
    "x is not z"
   ]
  },
  {
   "cell_type": "code",
   "execution_count": 262,
   "id": "ed6fac1b-2bd2-4ab4-9266-1b719225304f",
   "metadata": {},
   "outputs": [
    {
     "data": {
      "text/plain": [
       "True"
      ]
     },
     "execution_count": 262,
     "metadata": {},
     "output_type": "execute_result"
    }
   ],
   "source": [
    "y is not z"
   ]
  },
  {
   "cell_type": "code",
   "execution_count": 264,
   "id": "6ff44dc4-dc90-4888-826b-58d15c558e83",
   "metadata": {},
   "outputs": [
    {
     "data": {
      "text/plain": [
       "True"
      ]
     },
     "execution_count": 264,
     "metadata": {},
     "output_type": "execute_result"
    }
   ],
   "source": [
    "z is not y"
   ]
  },
  {
   "cell_type": "code",
   "execution_count": 266,
   "id": "2884bf39-49ba-4496-a724-531795eb775c",
   "metadata": {},
   "outputs": [
    {
     "data": {
      "text/plain": [
       "False"
      ]
     },
     "execution_count": 266,
     "metadata": {},
     "output_type": "execute_result"
    }
   ],
   "source": [
    "x== y #equality"
   ]
  },
  {
   "cell_type": "code",
   "execution_count": 268,
   "id": "3daa47bc-3af8-4581-9ca2-248109e5ad4c",
   "metadata": {},
   "outputs": [],
   "source": [
    "e = 500"
   ]
  },
  {
   "cell_type": "code",
   "execution_count": 270,
   "id": "e7d98f20-6fb6-4784-b4ab-584c31d430af",
   "metadata": {},
   "outputs": [],
   "source": [
    "w = 600"
   ]
  },
  {
   "cell_type": "code",
   "execution_count": 272,
   "id": "cea454b6-b403-439a-abf8-fab928caf152",
   "metadata": {},
   "outputs": [],
   "source": [
    "s = 300"
   ]
  },
  {
   "cell_type": "code",
   "execution_count": 274,
   "id": "fcc98d11-312a-4c81-a777-711093785359",
   "metadata": {},
   "outputs": [
    {
     "data": {
      "text/plain": [
       "False"
      ]
     },
     "execution_count": 274,
     "metadata": {},
     "output_type": "execute_result"
    }
   ],
   "source": [
    "e==w"
   ]
  },
  {
   "cell_type": "code",
   "execution_count": null,
   "id": "10a50486-9f7a-4da2-b259-7afe2bd49e9c",
   "metadata": {},
   "outputs": [],
   "source": []
  },
  {
   "cell_type": "code",
   "execution_count": 3,
   "id": "4019eaec-e5c7-4eb4-874a-3452f1f3873f",
   "metadata": {},
   "outputs": [],
   "source": [
    "no1 = 10\n",
    "no2 = 20"
   ]
  },
  {
   "cell_type": "code",
   "execution_count": 12,
   "id": "3174919d-2bc9-4a8e-b5e4-839d68b35623",
   "metadata": {},
   "outputs": [],
   "source": [
    "add = no1 + no2\n",
    "sub = no1 - no2\n",
    "mul = no1 * no2\n",
    "div = no1 / no2\n",
    "f_div = no1 // no2\n",
    "exp = no1 ** no2\n",
    "mod = no1 % no2"
   ]
  },
  {
   "cell_type": "code",
   "execution_count": 14,
   "id": "0022a855-fdaa-4169-aaaf-60f581fcba49",
   "metadata": {},
   "outputs": [
    {
     "name": "stdout",
     "output_type": "stream",
     "text": [
      "a + b = 30\n",
      "a - b = 30\n",
      "a * b = 30\n",
      "a / b = 30\n",
      "a // b = 30\n",
      "a ** b = 30\n",
      "a % b = 30\n"
     ]
    }
   ],
   "source": [
    "print(f\"a + b = {add}\")\n",
    "print(f\"a - b = {add}\")\n",
    "print(f\"a * b = {add}\")\n",
    "print(f\"a / b = {add}\")\n",
    "print(f\"a // b = {add}\")\n",
    "print(f\"a ** b = {add}\")\n",
    "print(f\"a % b = {add}\")"
   ]
  },
  {
   "cell_type": "code",
   "execution_count": 16,
   "id": "7032782a-9e5b-4da2-9f60-d431b6a837a9",
   "metadata": {},
   "outputs": [
    {
     "name": "stdout",
     "output_type": "stream",
     "text": [
      "10 20\n"
     ]
    }
   ],
   "source": [
    "print(no1,no2)"
   ]
  },
  {
   "cell_type": "code",
   "execution_count": null,
   "id": "0c00a8fc-8d0a-42e3-b42f-bc40372733df",
   "metadata": {},
   "outputs": [],
   "source": []
  },
  {
   "cell_type": "code",
   "execution_count": 73,
   "id": "f0f3d8a3-f464-4987-ac5a-89c58bb2a7cf",
   "metadata": {},
   "outputs": [
    {
     "ename": "NameError",
     "evalue": "name 'no1' is not defined",
     "output_type": "error",
     "traceback": [
      "\u001b[1;31m---------------------------------------------------------------------------\u001b[0m",
      "\u001b[1;31mNameError\u001b[0m                                 Traceback (most recent call last)",
      "Cell \u001b[1;32mIn[73], line 1\u001b[0m\n\u001b[1;32m----> 1\u001b[0m \u001b[38;5;28mprint\u001b[39m(no1\u001b[38;5;241m>\u001b[39mno2)\n\u001b[0;32m      2\u001b[0m \u001b[38;5;28mprint\u001b[39m(no1\u001b[38;5;241m<\u001b[39mno2)\n\u001b[0;32m      3\u001b[0m \u001b[38;5;28mprint\u001b[39m(no1\u001b[38;5;241m>\u001b[39m\u001b[38;5;241m=\u001b[39mno2)\n",
      "\u001b[1;31mNameError\u001b[0m: name 'no1' is not defined"
     ]
    }
   ],
   "source": [
    "print(no1>no2)\n",
    "print(no1<no2)\n",
    "print(no1>=no2)\n",
    "print(no1<=no2)\n",
    "print(no1!=no2)\n",
    "print(no1==no2)"
   ]
  },
  {
   "cell_type": "code",
   "execution_count": 19,
   "id": "79d07f9c-7c68-4840-b25e-f555074ac3f7",
   "metadata": {},
   "outputs": [
    {
     "data": {
      "text/plain": [
       "False"
      ]
     },
     "execution_count": 19,
     "metadata": {},
     "output_type": "execute_result"
    }
   ],
   "source": [
    "20<10"
   ]
  },
  {
   "cell_type": "code",
   "execution_count": 21,
   "id": "f94d67ba-fd5b-4492-8032-32ca7622dc3d",
   "metadata": {},
   "outputs": [
    {
     "data": {
      "text/plain": [
       "True"
      ]
     },
     "execution_count": 21,
     "metadata": {},
     "output_type": "execute_result"
    }
   ],
   "source": [
    "18>10"
   ]
  },
  {
   "cell_type": "code",
   "execution_count": 25,
   "id": "abc27d0b-8e43-4cf2-bb11-53506696bf21",
   "metadata": {},
   "outputs": [
    {
     "data": {
      "text/plain": [
       "True"
      ]
     },
     "execution_count": 25,
     "metadata": {},
     "output_type": "execute_result"
    }
   ],
   "source": [
    "13<14"
   ]
  },
  {
   "cell_type": "code",
   "execution_count": 27,
   "id": "23d53215-5c05-43e9-8d8f-ea0593f1ed44",
   "metadata": {},
   "outputs": [
    {
     "data": {
      "text/plain": [
       "False"
      ]
     },
     "execution_count": 27,
     "metadata": {},
     "output_type": "execute_result"
    }
   ],
   "source": [
    "14==10"
   ]
  },
  {
   "cell_type": "code",
   "execution_count": 29,
   "id": "af2b1c55-74eb-431e-bc91-66471689ce9e",
   "metadata": {},
   "outputs": [
    {
     "data": {
      "text/plain": [
       "True"
      ]
     },
     "execution_count": 29,
     "metadata": {},
     "output_type": "execute_result"
    }
   ],
   "source": [
    "15!=10"
   ]
  },
  {
   "cell_type": "code",
   "execution_count": 21,
   "id": "6872c490-8865-4d11-abf0-4e4f0134d354",
   "metadata": {},
   "outputs": [
    {
     "data": {
      "text/plain": [
       "False"
      ]
     },
     "execution_count": 21,
     "metadata": {},
     "output_type": "execute_result"
    }
   ],
   "source": [
    "(20>15) and (15<13)"
   ]
  },
  {
   "cell_type": "code",
   "execution_count": 31,
   "id": "41188380-e087-42a8-91f8-eb58932bd30e",
   "metadata": {},
   "outputs": [
    {
     "data": {
      "text/plain": [
       "False"
      ]
     },
     "execution_count": 31,
     "metadata": {},
     "output_type": "execute_result"
    }
   ],
   "source": [
    "(18>10) and (10>12)"
   ]
  },
  {
   "cell_type": "code",
   "execution_count": 39,
   "id": "591f6fa6-9f64-49e4-8bf5-7821134bd0c2",
   "metadata": {},
   "outputs": [
    {
     "data": {
      "text/plain": [
       "True"
      ]
     },
     "execution_count": 39,
     "metadata": {},
     "output_type": "execute_result"
    }
   ],
   "source": [
    "(18>10) or (10>12)"
   ]
  },
  {
   "cell_type": "code",
   "execution_count": 43,
   "id": "746d6ac2-16a1-452a-b1e4-42ef837ad0bb",
   "metadata": {},
   "outputs": [
    {
     "data": {
      "text/plain": [
       "True"
      ]
     },
     "execution_count": 43,
     "metadata": {},
     "output_type": "execute_result"
    }
   ],
   "source": [
    "(18>10) or (10>12)"
   ]
  },
  {
   "cell_type": "code",
   "execution_count": 45,
   "id": "bf5f7f32-540c-4560-80e1-0cc228361f4b",
   "metadata": {},
   "outputs": [
    {
     "data": {
      "text/plain": [
       "True"
      ]
     },
     "execution_count": 45,
     "metadata": {},
     "output_type": "execute_result"
    }
   ],
   "source": [
    "(18>10) and (10>12) or (18>10) or (10>12) and (18>10) or (10>12)"
   ]
  },
  {
   "cell_type": "code",
   "execution_count": 47,
   "id": "39fa4368-0cae-48df-b3cd-9cec3936cd2f",
   "metadata": {},
   "outputs": [
    {
     "data": {
      "text/plain": [
       "True"
      ]
     },
     "execution_count": 47,
     "metadata": {},
     "output_type": "execute_result"
    }
   ],
   "source": [
    "(18>10)"
   ]
  },
  {
   "cell_type": "code",
   "execution_count": 51,
   "id": "40ac4cb2-6679-45ad-b53a-24ef10d06860",
   "metadata": {},
   "outputs": [
    {
     "data": {
      "text/plain": [
       "True"
      ]
     },
     "execution_count": 51,
     "metadata": {},
     "output_type": "execute_result"
    }
   ],
   "source": [
    "(10<18)"
   ]
  },
  {
   "cell_type": "code",
   "execution_count": 53,
   "id": "29be99a9-78f8-4b7e-9ea3-cd4d65bb5464",
   "metadata": {},
   "outputs": [
    {
     "data": {
      "text/plain": [
       "True"
      ]
     },
     "execution_count": 53,
     "metadata": {},
     "output_type": "execute_result"
    }
   ],
   "source": [
    "(18>10)"
   ]
  },
  {
   "cell_type": "code",
   "execution_count": 55,
   "id": "11fbb49b-e18d-4a38-9b87-c175212d8d18",
   "metadata": {},
   "outputs": [
    {
     "data": {
      "text/plain": [
       "True"
      ]
     },
     "execution_count": 55,
     "metadata": {},
     "output_type": "execute_result"
    }
   ],
   "source": [
    "(18>10) or (13<14)"
   ]
  },
  {
   "cell_type": "code",
   "execution_count": 57,
   "id": "acc3f26a-302e-4a5d-94d1-636c3ce71a3a",
   "metadata": {},
   "outputs": [
    {
     "data": {
      "text/plain": [
       "True"
      ]
     },
     "execution_count": 57,
     "metadata": {},
     "output_type": "execute_result"
    }
   ],
   "source": [
    "not((18<10) or (13>14))"
   ]
  },
  {
   "cell_type": "code",
   "execution_count": 59,
   "id": "4a0979f3-570e-4235-8975-6b3514960b6e",
   "metadata": {},
   "outputs": [
    {
     "data": {
      "text/plain": [
       "False"
      ]
     },
     "execution_count": 59,
     "metadata": {},
     "output_type": "execute_result"
    }
   ],
   "source": [
    "not(((18>10) or (14>15)))"
   ]
  },
  {
   "cell_type": "code",
   "execution_count": 23,
   "id": "3b1d0e6a-ca19-4d1f-9138-aacffbe56911",
   "metadata": {},
   "outputs": [
    {
     "data": {
      "text/plain": [
       "True"
      ]
     },
     "execution_count": 23,
     "metadata": {},
     "output_type": "execute_result"
    }
   ],
   "source": [
    "((((20<25) or (15>10))))"
   ]
  },
  {
   "cell_type": "code",
   "execution_count": null,
   "id": "094391c0-8953-4d2a-b491-7096fd3e9ea6",
   "metadata": {},
   "outputs": [],
   "source": []
  },
  {
   "cell_type": "code",
   "execution_count": 61,
   "id": "92902cf8-e045-4c11-97f0-e5cc5fa79049",
   "metadata": {},
   "outputs": [
    {
     "data": {
      "text/plain": [
       "False"
      ]
     },
     "execution_count": 61,
     "metadata": {},
     "output_type": "execute_result"
    }
   ],
   "source": [
    "not((((15>18) or (12<15))))"
   ]
  },
  {
   "cell_type": "code",
   "execution_count": 63,
   "id": "0e260a48-6873-40e6-a078-516c7e9187f0",
   "metadata": {},
   "outputs": [
    {
     "data": {
      "text/plain": [
       "True"
      ]
     },
     "execution_count": 63,
     "metadata": {},
     "output_type": "execute_result"
    }
   ],
   "source": [
    "not False"
   ]
  },
  {
   "cell_type": "code",
   "execution_count": 65,
   "id": "7eccd5ac-bf35-45ad-9c7b-561a6a683e4a",
   "metadata": {},
   "outputs": [
    {
     "data": {
      "text/plain": [
       "True"
      ]
     },
     "execution_count": 65,
     "metadata": {},
     "output_type": "execute_result"
    }
   ],
   "source": [
    "not False"
   ]
  },
  {
   "cell_type": "code",
   "execution_count": 67,
   "id": "77b4817b-a377-46dd-a560-8d8f2e3ee0a2",
   "metadata": {},
   "outputs": [
    {
     "data": {
      "text/plain": [
       "True"
      ]
     },
     "execution_count": 67,
     "metadata": {},
     "output_type": "execute_result"
    }
   ],
   "source": [
    "not False"
   ]
  },
  {
   "cell_type": "code",
   "execution_count": 69,
   "id": "234df2c6-f324-43f1-9fe0-44f99fafb002",
   "metadata": {},
   "outputs": [
    {
     "data": {
      "text/plain": [
       "True"
      ]
     },
     "execution_count": 69,
     "metadata": {},
     "output_type": "execute_result"
    }
   ],
   "source": [
    "not False"
   ]
  },
  {
   "cell_type": "code",
   "execution_count": 71,
   "id": "f107a7c5-59bf-4915-ac38-87b6b1906c0e",
   "metadata": {},
   "outputs": [
    {
     "data": {
      "text/plain": [
       "False"
      ]
     },
     "execution_count": 71,
     "metadata": {},
     "output_type": "execute_result"
    }
   ],
   "source": [
    "not True"
   ]
  },
  {
   "cell_type": "code",
   "execution_count": 73,
   "id": "cef91464-040e-4a1d-b929-d1bbfd9892d5",
   "metadata": {},
   "outputs": [
    {
     "data": {
      "text/plain": [
       "False"
      ]
     },
     "execution_count": 73,
     "metadata": {},
     "output_type": "execute_result"
    }
   ],
   "source": [
    "not True"
   ]
  },
  {
   "cell_type": "code",
   "execution_count": 75,
   "id": "d6be6f6f-8e6b-42d8-a593-afb52671bc36",
   "metadata": {},
   "outputs": [
    {
     "data": {
      "text/plain": [
       "False"
      ]
     },
     "execution_count": 75,
     "metadata": {},
     "output_type": "execute_result"
    }
   ],
   "source": [
    "not True"
   ]
  },
  {
   "cell_type": "code",
   "execution_count": 79,
   "id": "7afec18d-8baa-41fd-9d48-205e06ae7848",
   "metadata": {},
   "outputs": [
    {
     "data": {
      "text/plain": [
       "False"
      ]
     },
     "execution_count": 79,
     "metadata": {},
     "output_type": "execute_result"
    }
   ],
   "source": [
    "not((((15>15) or (15<18) and  (180>160)) or (13==14)))"
   ]
  },
  {
   "cell_type": "code",
   "execution_count": 81,
   "id": "869f5b27-75df-4061-b5dc-92222e22e910",
   "metadata": {},
   "outputs": [
    {
     "data": {
      "text/plain": [
       "True"
      ]
     },
     "execution_count": 81,
     "metadata": {},
     "output_type": "execute_result"
    }
   ],
   "source": [
    "180!= 150"
   ]
  },
  {
   "cell_type": "code",
   "execution_count": 87,
   "id": "ac1277c7-9826-4bc4-8d30-7b5e89ab0bba",
   "metadata": {},
   "outputs": [
    {
     "data": {
      "text/plain": [
       "True"
      ]
     },
     "execution_count": 87,
     "metadata": {},
     "output_type": "execute_result"
    }
   ],
   "source": [
    "100!= 150"
   ]
  },
  {
   "cell_type": "code",
   "execution_count": 91,
   "id": "c4951eb2-a994-4681-bea4-f55af156bc32",
   "metadata": {},
   "outputs": [
    {
     "data": {
      "text/plain": [
       "False"
      ]
     },
     "execution_count": 91,
     "metadata": {},
     "output_type": "execute_result"
    }
   ],
   "source": [
    "130<120"
   ]
  },
  {
   "cell_type": "code",
   "execution_count": 95,
   "id": "f903d248-b2a8-4c5a-8fbf-2d121726132d",
   "metadata": {},
   "outputs": [
    {
     "data": {
      "text/plain": [
       "False"
      ]
     },
     "execution_count": 95,
     "metadata": {},
     "output_type": "execute_result"
    }
   ],
   "source": [
    "140==180"
   ]
  },
  {
   "cell_type": "code",
   "execution_count": 97,
   "id": "85389899-bb5b-45ee-8bd2-f6d5ff6ceb6d",
   "metadata": {},
   "outputs": [
    {
     "data": {
      "text/plain": [
       "True"
      ]
     },
     "execution_count": 97,
     "metadata": {},
     "output_type": "execute_result"
    }
   ],
   "source": [
    "(180!= 150) or (100!= 150) and (130<120) or (140==180)"
   ]
  },
  {
   "cell_type": "code",
   "execution_count": 5,
   "id": "1e9d4efb-823f-4ff3-84be-682204754689",
   "metadata": {},
   "outputs": [],
   "source": [
    "str2= \"computer\""
   ]
  },
  {
   "cell_type": "code",
   "execution_count": 7,
   "id": "b296130c-792d-4b60-ab1e-87c2121d69f0",
   "metadata": {},
   "outputs": [
    {
     "data": {
      "text/plain": [
       "False"
      ]
     },
     "execution_count": 7,
     "metadata": {},
     "output_type": "execute_result"
    }
   ],
   "source": [
    "\"z\"  in str2"
   ]
  }
 ],
 "metadata": {
  "kernelspec": {
   "display_name": "Python [conda env:base] *",
   "language": "python",
   "name": "conda-base-py"
  },
  "language_info": {
   "codemirror_mode": {
    "name": "ipython",
    "version": 3
   },
   "file_extension": ".py",
   "mimetype": "text/x-python",
   "name": "python",
   "nbconvert_exporter": "python",
   "pygments_lexer": "ipython3",
   "version": "3.12.7"
  }
 },
 "nbformat": 4,
 "nbformat_minor": 5
}
