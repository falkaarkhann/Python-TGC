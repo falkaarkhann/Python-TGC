{
 "cells": [
  {
   "cell_type": "markdown",
   "id": "b647826d-2177-4669-b4a5-52ac3611e8eb",
   "metadata": {},
   "source": [
    "# Functions : \n",
    "* Advanagtes: \n",
    "* With the help of functions, We can utilize reusuabilty of code\n",
    "* With the help of functional programming, We can write ,modular coding\n",
    "\n",
    "  Function are of two types:\n",
    "  * User defined functions\n",
    "  * Built in functions"
   ]
  },
  {
   "cell_type": "code",
   "execution_count": null,
   "id": "7bffcc0a-a66e-452f-b8c9-39b7a3b25a12",
   "metadata": {},
   "outputs": [],
   "source": []
  },
  {
   "cell_type": "code",
   "execution_count": 11,
   "id": "012b4848-f58c-43d5-a85b-a10988f14533",
   "metadata": {},
   "outputs": [],
   "source": [
    "# User defined functions"
   ]
  },
  {
   "cell_type": "code",
   "execution_count": 13,
   "id": "fde9182a-9582-4f2a-8842-b47ebfdec665",
   "metadata": {},
   "outputs": [
    {
     "ename": "SyntaxError",
     "evalue": "invalid syntax (396781500.py, line 1)",
     "output_type": "error",
     "traceback": [
      "\u001b[1;36m  Cell \u001b[1;32mIn[13], line 1\u001b[1;36m\u001b[0m\n\u001b[1;33m    syntax:\u001b[0m\n\u001b[1;37m           ^\u001b[0m\n\u001b[1;31mSyntaxError\u001b[0m\u001b[1;31m:\u001b[0m invalid syntax\n"
     ]
    }
   ],
   "source": [
    "syntax:\n",
    "def function_name(parms):\n",
    "    '''Doc string'''\n",
    "    logic\n",
    "    logic\n",
    "    print/return"
   ]
  },
  {
   "cell_type": "code",
   "execution_count": null,
   "id": "16e63d79-6a5c-4036-b00b-23ae75d85ab4",
   "metadata": {},
   "outputs": [],
   "source": []
  },
  {
   "cell_type": "code",
   "execution_count": 16,
   "id": "65ad2ffe-c453-482e-9972-4e40c956a37e",
   "metadata": {},
   "outputs": [],
   "source": [
    "def greeting(name):\n",
    "    print(\"Hello Good Morning\", name)"
   ]
  },
  {
   "cell_type": "code",
   "execution_count": 18,
   "id": "521fd6f7-6a0f-4c74-a435-3fb2ca08aa4c",
   "metadata": {},
   "outputs": [],
   "source": [
    "# Calling/Invoking the function"
   ]
  },
  {
   "cell_type": "code",
   "execution_count": 20,
   "id": "889883d4-ded7-4d93-aac1-3a1ad8c03d74",
   "metadata": {},
   "outputs": [
    {
     "name": "stdout",
     "output_type": "stream",
     "text": [
      "10\n"
     ]
    }
   ],
   "source": [
    "print(10)"
   ]
  },
  {
   "cell_type": "code",
   "execution_count": 22,
   "id": "f5058448-0928-4cf2-a0bf-9d3532f37270",
   "metadata": {},
   "outputs": [
    {
     "data": {
      "text/plain": [
       "5"
      ]
     },
     "execution_count": 22,
     "metadata": {},
     "output_type": "execute_result"
    }
   ],
   "source": [
    "len(\"hello\")"
   ]
  },
  {
   "cell_type": "code",
   "execution_count": 24,
   "id": "dd00638c-c1e1-453c-890f-b9bd640327d7",
   "metadata": {},
   "outputs": [
    {
     "data": {
      "text/plain": [
       "[0, 1, 2, 3, 4, 5]"
      ]
     },
     "execution_count": 24,
     "metadata": {},
     "output_type": "execute_result"
    }
   ],
   "source": [
    "list(range(6))"
   ]
  },
  {
   "cell_type": "code",
   "execution_count": 26,
   "id": "54cd38a2-8767-4f11-a98a-cfe16c329e01",
   "metadata": {},
   "outputs": [
    {
     "name": "stdout",
     "output_type": "stream",
     "text": [
      "Hello Good Morning Sameer\n"
     ]
    }
   ],
   "source": [
    "greeting(\"Sameer\")"
   ]
  },
  {
   "cell_type": "code",
   "execution_count": 28,
   "id": "5ce60167-8155-42d7-a2f7-40b68a12ff19",
   "metadata": {},
   "outputs": [
    {
     "name": "stdout",
     "output_type": "stream",
     "text": [
      "Hello Good Morning Mohit\n"
     ]
    }
   ],
   "source": [
    "greeting(\"Mohit\")"
   ]
  },
  {
   "cell_type": "code",
   "execution_count": 30,
   "id": "c079f8e3-5ad4-40b3-a61b-585dc68d7502",
   "metadata": {},
   "outputs": [
    {
     "name": "stdout",
     "output_type": "stream",
     "text": [
      "Hello Good Morning Umar Khan\n"
     ]
    }
   ],
   "source": [
    "greeting(\"Umar Khan\")"
   ]
  },
  {
   "cell_type": "code",
   "execution_count": 32,
   "id": "a6e9ab08-6675-4831-a422-39b342db9bde",
   "metadata": {},
   "outputs": [
    {
     "name": "stdout",
     "output_type": "stream",
     "text": [
      "Hello Good Morning Prateek\n"
     ]
    }
   ],
   "source": [
    "greeting(\"Prateek\")"
   ]
  },
  {
   "cell_type": "code",
   "execution_count": 34,
   "id": "feb41bd7-f259-4746-88df-f70ece4f8f1c",
   "metadata": {},
   "outputs": [
    {
     "name": "stdout",
     "output_type": "stream",
     "text": [
      "Hello Good Morning amkit\n"
     ]
    }
   ],
   "source": [
    "greeting(\"amkit\")"
   ]
  },
  {
   "cell_type": "code",
   "execution_count": 36,
   "id": "92087218-3980-4529-8ab0-d3ad4c29f80b",
   "metadata": {},
   "outputs": [
    {
     "data": {
      "text/plain": [
       "function"
      ]
     },
     "execution_count": 36,
     "metadata": {},
     "output_type": "execute_result"
    }
   ],
   "source": [
    "type(greeting)"
   ]
  },
  {
   "cell_type": "code",
   "execution_count": 38,
   "id": "51a97f0e-0fc6-4c41-aa45-4d8eb9ad54da",
   "metadata": {},
   "outputs": [
    {
     "data": {
      "text/plain": [
       "function"
      ]
     },
     "execution_count": 38,
     "metadata": {},
     "output_type": "execute_result"
    }
   ],
   "source": [
    "type(greeting)"
   ]
  },
  {
   "cell_type": "code",
   "execution_count": null,
   "id": "744672b8-4879-4774-9987-468424f8d72f",
   "metadata": {},
   "outputs": [],
   "source": []
  },
  {
   "cell_type": "code",
   "execution_count": null,
   "id": "881375cc-7efc-4b9c-b3d7-78eb5a4ddc3c",
   "metadata": {},
   "outputs": [],
   "source": []
  },
  {
   "cell_type": "code",
   "execution_count": 42,
   "id": "e111e52b-73ab-4a68-b5d2-a7b674952ccd",
   "metadata": {},
   "outputs": [],
   "source": [
    "def greeting2(name):\n",
    "    \"\"\"This function will greet you\"\"\"\n",
    "    print(\"Hello good evening bhow are you\",  name)"
   ]
  },
  {
   "cell_type": "code",
   "execution_count": 44,
   "id": "b0454b06-1566-4240-9772-a7c1310a4b52",
   "metadata": {},
   "outputs": [
    {
     "data": {
      "text/plain": [
       "function"
      ]
     },
     "execution_count": 44,
     "metadata": {},
     "output_type": "execute_result"
    }
   ],
   "source": [
    "type(greeting)"
   ]
  },
  {
   "cell_type": "code",
   "execution_count": 46,
   "id": "502f243b-6137-440d-9ffc-4109cddb465a",
   "metadata": {},
   "outputs": [
    {
     "data": {
      "text/plain": [
       "function"
      ]
     },
     "execution_count": 46,
     "metadata": {},
     "output_type": "execute_result"
    }
   ],
   "source": [
    "type(greeting2)"
   ]
  },
  {
   "cell_type": "code",
   "execution_count": 48,
   "id": "f3d6d81d-fbe4-4c07-a4c9-55d4f4b1b06c",
   "metadata": {},
   "outputs": [
    {
     "name": "stdout",
     "output_type": "stream",
     "text": [
      "Hello Good Morning mohit\n"
     ]
    }
   ],
   "source": [
    "greeting(\"mohit\")"
   ]
  },
  {
   "cell_type": "code",
   "execution_count": 50,
   "id": "ae01930e-9c62-441c-95f0-a23ab12fd6e5",
   "metadata": {},
   "outputs": [
    {
     "name": "stdout",
     "output_type": "stream",
     "text": [
      "Hello good evening bhow are you pooja\n"
     ]
    }
   ],
   "source": [
    "greeting2(\"pooja\")"
   ]
  },
  {
   "cell_type": "code",
   "execution_count": 52,
   "id": "13abc7eb-d07d-45fb-9c27-2de3f1d9a5ab",
   "metadata": {},
   "outputs": [
    {
     "name": "stdout",
     "output_type": "stream",
     "text": [
      "Hello Good Morning Umar\n"
     ]
    }
   ],
   "source": [
    "greeting(\"Umar\")"
   ]
  },
  {
   "cell_type": "code",
   "execution_count": 56,
   "id": "f931cbdb-21bc-484e-bd61-c06db64dd022",
   "metadata": {},
   "outputs": [
    {
     "name": "stdout",
     "output_type": "stream",
     "text": [
      "Hello good evening bhow are you Umar Khan\n"
     ]
    }
   ],
   "source": [
    "greeting2(\"Umar Khan\")"
   ]
  },
  {
   "cell_type": "code",
   "execution_count": 58,
   "id": "b7e85c51-6a35-4df8-9b25-b70bf51b3956",
   "metadata": {},
   "outputs": [],
   "source": [
    "greeting.__doc__"
   ]
  },
  {
   "cell_type": "code",
   "execution_count": 60,
   "id": "eb8e8fbc-00db-45e9-8c0f-d5e27e2d6cf8",
   "metadata": {},
   "outputs": [
    {
     "data": {
      "text/plain": [
       "'This function will greet you'"
      ]
     },
     "execution_count": 60,
     "metadata": {},
     "output_type": "execute_result"
    }
   ],
   "source": [
    "greeting2.__doc__"
   ]
  },
  {
   "cell_type": "code",
   "execution_count": null,
   "id": "4ea06619-a49c-450d-b419-29a789975226",
   "metadata": {},
   "outputs": [],
   "source": []
  },
  {
   "cell_type": "code",
   "execution_count": 63,
   "id": "f032b9f7-613b-42fd-9e67-dfbb729b06ae",
   "metadata": {},
   "outputs": [],
   "source": [
    "# print vs return"
   ]
  },
  {
   "cell_type": "code",
   "execution_count": 65,
   "id": "b62fd9a9-5def-4c59-953e-e00e3b2e9954",
   "metadata": {},
   "outputs": [],
   "source": [
    "def total(a,b):\n",
    "    return a+b"
   ]
  },
  {
   "cell_type": "code",
   "execution_count": 67,
   "id": "f4486011-5e7b-4fcf-8f43-18ef03d95c1d",
   "metadata": {},
   "outputs": [
    {
     "data": {
      "text/plain": [
       "15"
      ]
     },
     "execution_count": 67,
     "metadata": {},
     "output_type": "execute_result"
    }
   ],
   "source": [
    "total(5,10)"
   ]
  },
  {
   "cell_type": "code",
   "execution_count": 69,
   "id": "cb99af2f-b4a1-491a-9b7e-76737337783d",
   "metadata": {},
   "outputs": [
    {
     "data": {
      "text/plain": [
       "18"
      ]
     },
     "execution_count": 69,
     "metadata": {},
     "output_type": "execute_result"
    }
   ],
   "source": [
    "total(10,8)"
   ]
  },
  {
   "cell_type": "code",
   "execution_count": 73,
   "id": "42f8e7eb-4421-4d18-822e-2520cc73307a",
   "metadata": {},
   "outputs": [
    {
     "data": {
      "text/plain": [
       "15"
      ]
     },
     "execution_count": 73,
     "metadata": {},
     "output_type": "execute_result"
    }
   ],
   "source": [
    "total(12,3)"
   ]
  },
  {
   "cell_type": "code",
   "execution_count": null,
   "id": "82e30d41-3c44-4a99-ab18-c6b3b710dca7",
   "metadata": {},
   "outputs": [],
   "source": []
  },
  {
   "cell_type": "code",
   "execution_count": 76,
   "id": "11824bc9-1eaa-4da5-8084-3c452325c30f",
   "metadata": {},
   "outputs": [
    {
     "name": "stdout",
     "output_type": "stream",
     "text": [
      "Hello good evening bhow are you Umar Khan\n"
     ]
    }
   ],
   "source": [
    "r = greeting2(\"Umar Khan\")"
   ]
  },
  {
   "cell_type": "code",
   "execution_count": null,
   "id": "ce426551-3244-4583-bdea-7bccdf447adc",
   "metadata": {},
   "outputs": [],
   "source": [
    "r"
   ]
  },
  {
   "cell_type": "code",
   "execution_count": null,
   "id": "d804444e-fbd9-4e40-b5a0-8944b07b152d",
   "metadata": {},
   "outputs": [],
   "source": [
    "t"
   ]
  },
  {
   "cell_type": "code",
   "execution_count": 80,
   "id": "ad19bafd-5d98-4bab-93a5-ba00fbd64f61",
   "metadata": {},
   "outputs": [],
   "source": [
    "k = total(10,12)"
   ]
  },
  {
   "cell_type": "code",
   "execution_count": 82,
   "id": "07059934-cbdb-4e3a-a527-a8d2eb01bce7",
   "metadata": {},
   "outputs": [
    {
     "data": {
      "text/plain": [
       "22"
      ]
     },
     "execution_count": 82,
     "metadata": {},
     "output_type": "execute_result"
    }
   ],
   "source": [
    "k"
   ]
  },
  {
   "cell_type": "code",
   "execution_count": 86,
   "id": "8a3f3eec-573e-4a8f-be07-69c543fef530",
   "metadata": {},
   "outputs": [],
   "source": [
    "def circle_perimetr(r):\n",
    "    \"\"\"\n",
    "    r : redius of a circle\n",
    "    result : it will calculate perimeter of a circle\n",
    "    \"\"\"\n",
    "    result = 2*3.14*r\n",
    "    return result"
   ]
  },
  {
   "cell_type": "code",
   "execution_count": 88,
   "id": "53da9bc1-c8d0-4328-846b-3331ce0ce0a4",
   "metadata": {},
   "outputs": [
    {
     "data": {
      "text/plain": [
       "'\\n    r : redius of a circle\\n    result : it will calculate perimeter of a circle\\n    '"
      ]
     },
     "execution_count": 88,
     "metadata": {},
     "output_type": "execute_result"
    }
   ],
   "source": [
    "circle_perimetr.__doc__"
   ]
  },
  {
   "cell_type": "code",
   "execution_count": 92,
   "id": "e584a488-cec1-4062-accf-ca88d46188a0",
   "metadata": {},
   "outputs": [
    {
     "data": {
      "text/plain": [
       "62.800000000000004"
      ]
     },
     "execution_count": 92,
     "metadata": {},
     "output_type": "execute_result"
    }
   ],
   "source": [
    "circle_perimetr(10)"
   ]
  },
  {
   "cell_type": "code",
   "execution_count": 94,
   "id": "d7c3255d-a430-4934-81c6-a51045d12c2c",
   "metadata": {},
   "outputs": [
    {
     "data": {
      "text/plain": [
       "94.2"
      ]
     },
     "execution_count": 94,
     "metadata": {},
     "output_type": "execute_result"
    }
   ],
   "source": [
    "circle_perimetr(15)"
   ]
  },
  {
   "cell_type": "code",
   "execution_count": 96,
   "id": "740b530c-fd08-4d95-af33-37a280b86c59",
   "metadata": {},
   "outputs": [
    {
     "data": {
      "text/plain": [
       "31.400000000000002"
      ]
     },
     "execution_count": 96,
     "metadata": {},
     "output_type": "execute_result"
    }
   ],
   "source": [
    "circle_perimetr(5)"
   ]
  },
  {
   "cell_type": "code",
   "execution_count": 98,
   "id": "51b1af67-42ef-4199-bc6d-e2329e9df018",
   "metadata": {},
   "outputs": [
    {
     "data": {
      "text/plain": [
       "18.84"
      ]
     },
     "execution_count": 98,
     "metadata": {},
     "output_type": "execute_result"
    }
   ],
   "source": [
    "circle_perimetr(3)"
   ]
  },
  {
   "cell_type": "code",
   "execution_count": 100,
   "id": "8d523e0b-87c2-48fe-8cb5-02c9fe58fda5",
   "metadata": {},
   "outputs": [
    {
     "data": {
      "text/plain": [
       "12.56"
      ]
     },
     "execution_count": 100,
     "metadata": {},
     "output_type": "execute_result"
    }
   ],
   "source": [
    "circle_perimetr(2)"
   ]
  },
  {
   "cell_type": "code",
   "execution_count": 102,
   "id": "bc685565-0b9e-4ba9-ab19-feb06f68463d",
   "metadata": {},
   "outputs": [
    {
     "data": {
      "text/plain": [
       "6.28"
      ]
     },
     "execution_count": 102,
     "metadata": {},
     "output_type": "execute_result"
    }
   ],
   "source": [
    "circle_perimetr(1)"
   ]
  },
  {
   "cell_type": "code",
   "execution_count": 106,
   "id": "1d339fac-b719-4883-b7d6-acdb754ff894",
   "metadata": {},
   "outputs": [
    {
     "data": {
      "text/plain": [
       "25.12"
      ]
     },
     "execution_count": 106,
     "metadata": {},
     "output_type": "execute_result"
    }
   ],
   "source": [
    "circle_perimetr(4)"
   ]
  },
  {
   "cell_type": "code",
   "execution_count": 7,
   "id": "fd9b0e04-cd28-48f1-8bc3-701edb632a55",
   "metadata": {},
   "outputs": [],
   "source": [
    "h = [7,8,9,10,1,2]"
   ]
  },
  {
   "cell_type": "code",
   "execution_count": 9,
   "id": "6b8d1325-6d2a-47c3-a893-80879b48c738",
   "metadata": {},
   "outputs": [],
   "source": [
    "v = [7,5,1,6,4,9]"
   ]
  },
  {
   "cell_type": "code",
   "execution_count": 11,
   "id": "c42b1aa0-251d-4237-aabd-d9fea4d69839",
   "metadata": {},
   "outputs": [],
   "source": [
    "def product_list(lst):\n",
    "    \"\"\"\n",
    "    lst : it is a lst\n",
    "    result = product of all elements\n",
    "    \"\"\"\n",
    "    total = 1\n",
    "    for i in lst:\n",
    "        total*=i\n",
    "    return total"
   ]
  },
  {
   "cell_type": "code",
   "execution_count": 13,
   "id": "f686194e-c27b-497c-a1b6-0a64a85b3f83",
   "metadata": {},
   "outputs": [
    {
     "data": {
      "text/plain": [
       "10080"
      ]
     },
     "execution_count": 13,
     "metadata": {},
     "output_type": "execute_result"
    }
   ],
   "source": [
    "product_list(h)"
   ]
  },
  {
   "cell_type": "code",
   "execution_count": 15,
   "id": "28faa508-c137-4ae4-8bc1-7e71e40080b2",
   "metadata": {},
   "outputs": [
    {
     "data": {
      "text/plain": [
       "7560"
      ]
     },
     "execution_count": 15,
     "metadata": {},
     "output_type": "execute_result"
    }
   ],
   "source": [
    "product_list(v)"
   ]
  },
  {
   "cell_type": "code",
   "execution_count": 17,
   "id": "259a7322-1436-4976-bf4e-2bd334f7834d",
   "metadata": {},
   "outputs": [
    {
     "data": {
      "text/plain": [
       "1680"
      ]
     },
     "execution_count": 17,
     "metadata": {},
     "output_type": "execute_result"
    }
   ],
   "source": [
    "product_list([7,5,6,1,4,2])"
   ]
  },
  {
   "cell_type": "code",
   "execution_count": 17,
   "id": "5bf1f1a0-6b63-4e31-9964-93cb902e76c9",
   "metadata": {},
   "outputs": [],
   "source": [
    "#Homework : \n",
    "s = \"abbcccddddeeeeeffffffgggggggghhhhhhhhiiiiiiiiii\""
   ]
  },
  {
   "cell_type": "code",
   "execution_count": 19,
   "id": "f9282c87-e470-406f-aee6-0993e44d0f0f",
   "metadata": {},
   "outputs": [],
   "source": [
    "def stringtodic(str1):\n",
    "    \"\"\"\n",
    "    str1 : it is a string\n",
    "    result : it will convert any string into dic\n",
    "    \"\"\"\n",
    "    d = {}\n",
    "    for i in str1:\n",
    "        if i not in d:\n",
    "            d[i] =1\n",
    "        else:\n",
    "            d[i]+=1\n",
    "    return d"
   ]
  },
  {
   "cell_type": "code",
   "execution_count": 21,
   "id": "0943634e-3df6-4d87-9816-3b941d5ae37f",
   "metadata": {},
   "outputs": [],
   "source": [
    " y = stringtodic(s)"
   ]
  },
  {
   "cell_type": "code",
   "execution_count": 23,
   "id": "67849912-c0e9-488b-b40e-c573edc171d6",
   "metadata": {},
   "outputs": [
    {
     "data": {
      "text/plain": [
       "{'a': 1, 'b': 2, 'c': 3, 'd': 4, 'e': 5, 'f': 6, 'g': 8, 'h': 8, 'i': 10}"
      ]
     },
     "execution_count": 23,
     "metadata": {},
     "output_type": "execute_result"
    }
   ],
   "source": [
    "y"
   ]
  },
  {
   "cell_type": "code",
   "execution_count": 25,
   "id": "05fec819-0a97-486f-9134-e59be0218044",
   "metadata": {},
   "outputs": [],
   "source": [
    "def revdic(d):\n",
    "    r = {}\n",
    "    for k,v in d.items():\n",
    "        r[v] = k\n",
    "        return"
   ]
  },
  {
   "cell_type": "code",
   "execution_count": 27,
   "id": "77907118-9db9-40b5-a8d3-a3ab362ec346",
   "metadata": {},
   "outputs": [],
   "source": [
    "revdic(y)"
   ]
  },
  {
   "cell_type": "code",
   "execution_count": null,
   "id": "72c9b504-f92a-4a05-866a-2d2046f47e16",
   "metadata": {},
   "outputs": [],
   "source": []
  },
  {
   "cell_type": "code",
   "execution_count": 29,
   "id": "7b2d8469-a247-4458-ace4-9813d9c15485",
   "metadata": {},
   "outputs": [],
   "source": [
    "def strintodic2(r):\n",
    "    \"\"\"\n",
    "    it will be converting string into dic\n",
    "    \"\"\"\n",
    "    result = {i:s.count(i) for i in s}\n",
    "    return result"
   ]
  },
  {
   "cell_type": "code",
   "execution_count": 33,
   "id": "afe01574-04b9-478b-80a0-794613e5241b",
   "metadata": {},
   "outputs": [
    {
     "data": {
      "text/plain": [
       "{'a': 1, 'b': 2, 'c': 3, 'd': 4, 'e': 5, 'f': 6, 'g': 8, 'h': 8, 'i': 10}"
      ]
     },
     "execution_count": 33,
     "metadata": {},
     "output_type": "execute_result"
    }
   ],
   "source": [
    "strintodic2(s)"
   ]
  },
  {
   "cell_type": "code",
   "execution_count": 44,
   "id": "e928336d-23aa-49fb-81c0-cec425731430",
   "metadata": {},
   "outputs": [],
   "source": [
    "k = {'a': 1, 'b': 2, 'c': 3, 'd': 4, 'e': 5, 'f': 6, 'g': 8, 'h': 8, 'i': 10}"
   ]
  },
  {
   "cell_type": "code",
   "execution_count": 46,
   "id": "19c64f90-039e-45b7-814d-8411d7d18b00",
   "metadata": {},
   "outputs": [],
   "source": [
    "def reversedic(t):\n",
    "    return {v:k for k,v in t.items()}"
   ]
  },
  {
   "cell_type": "code",
   "execution_count": 48,
   "id": "04bb2fdf-8667-4815-b449-f3b68c29af94",
   "metadata": {},
   "outputs": [
    {
     "data": {
      "text/plain": [
       "{1: 'a', 2: 'b', 3: 'c', 4: 'd', 5: 'e', 6: 'f', 8: 'h', 10: 'i'}"
      ]
     },
     "execution_count": 48,
     "metadata": {},
     "output_type": "execute_result"
    }
   ],
   "source": [
    "reversedic(k)"
   ]
  },
  {
   "cell_type": "code",
   "execution_count": 42,
   "id": "d970fc11-672e-4b13-8776-ed1a49f23c7b",
   "metadata": {},
   "outputs": [],
   "source": [
    "def simple_interest():\n",
    "    \"\"\"This function will calculate simple interest\"\"\"\n",
    "    p = int(input(\"Enter any principle amount\"))\n",
    "    r = int(input(\"Enter any rate:\"))\n",
    "    t = int(input(\"Enter any time:\"))\n",
    "\n",
    "    result = p*r*t\n",
    "    result = result/100\n",
    "    return result"
   ]
  },
  {
   "cell_type": "code",
   "execution_count": 25,
   "id": "4ffcda52-9bbf-47a8-8972-c9a7272c1127",
   "metadata": {},
   "outputs": [
    {
     "name": "stdin",
     "output_type": "stream",
     "text": [
      "Enter any principle amount 1000\n",
      "Enter any rate: 10\n",
      "Enter any time: 1\n"
     ]
    },
    {
     "data": {
      "text/plain": [
       "100.0"
      ]
     },
     "execution_count": 25,
     "metadata": {},
     "output_type": "execute_result"
    }
   ],
   "source": [
    "simple_interest()"
   ]
  },
  {
   "cell_type": "code",
   "execution_count": 29,
   "id": "72fb9cbd-628a-42d4-bb7e-9d2ac8d000c1",
   "metadata": {},
   "outputs": [
    {
     "name": "stdin",
     "output_type": "stream",
     "text": [
      "Enter any principle amount 15000\n",
      "Enter any rate: 3\n",
      "Enter any time: 1\n"
     ]
    },
    {
     "data": {
      "text/plain": [
       "450.0"
      ]
     },
     "execution_count": 29,
     "metadata": {},
     "output_type": "execute_result"
    }
   ],
   "source": [
    "simple_interest()"
   ]
  },
  {
   "cell_type": "code",
   "execution_count": null,
   "id": "cd29791f-b3cb-4a2b-8d27-7779c1dc1bf2",
   "metadata": {},
   "outputs": [],
   "source": []
  },
  {
   "cell_type": "code",
   "execution_count": 32,
   "id": "989e9ce2-df87-4fab-b312-1a58665f1a0d",
   "metadata": {},
   "outputs": [],
   "source": [
    "# write a python function to caqlculate LCM of two numbers."
   ]
  },
  {
   "cell_type": "code",
   "execution_count": 34,
   "id": "866bcc2a-2fe4-4922-8d63-47ab2ba35ed8",
   "metadata": {},
   "outputs": [],
   "source": [
    "def LCMcheck():\n",
    "    first = int(input(\"Enter first number:\"))\n",
    "    second = int(input(\"enter second number:\"))\n",
    "\n",
    "    max_num = first if first>second else second\n",
    "\n",
    "    while True:\n",
    "        if max_num%first==0 and max_num%second==0:\n",
    "            return max_num\n",
    "        else:\n",
    "            max_num+=1"
   ]
  },
  {
   "cell_type": "code",
   "execution_count": 38,
   "id": "efb7036a-7b61-49c2-b5d3-7222d1e58bd9",
   "metadata": {},
   "outputs": [
    {
     "name": "stdin",
     "output_type": "stream",
     "text": [
      "Enter first number: 5\n",
      "enter second number: 10\n"
     ]
    },
    {
     "data": {
      "text/plain": [
       "10"
      ]
     },
     "execution_count": 38,
     "metadata": {},
     "output_type": "execute_result"
    }
   ],
   "source": [
    "LCMcheck()"
   ]
  },
  {
   "cell_type": "code",
   "execution_count": null,
   "id": "7259fffd-0899-4800-a895-ffcab38e7fdc",
   "metadata": {},
   "outputs": [],
   "source": []
  },
  {
   "cell_type": "code",
   "execution_count": null,
   "id": "c05ba1a9-5837-4a38-844f-55c67eda2c14",
   "metadata": {},
   "outputs": [],
   "source": []
  },
  {
   "cell_type": "code",
   "execution_count": 3,
   "id": "72231f91-3c0b-4161-9ade-2a5bcdf7ae23",
   "metadata": {},
   "outputs": [],
   "source": [
    "# Scope of variable:\n",
    "\n",
    "# Global variable:    Global Scope:\n",
    "# Local varibale:     Local Scope:"
   ]
  },
  {
   "cell_type": "code",
   "execution_count": 190,
   "id": "9709b1b3-cf2c-4e9a-8e92-9db6141b7ed4",
   "metadata": {},
   "outputs": [
    {
     "ename": "SyntaxError",
     "evalue": "invalid decimal literal (642337589.py, line 3)",
     "output_type": "error",
     "traceback": [
      "\u001b[1;36m  Cell \u001b[1;32mIn[190], line 3\u001b[1;36m\u001b[0m\n\u001b[1;33m    t = 200L\u001b[0m\n\u001b[1;37m          ^\u001b[0m\n\u001b[1;31mSyntaxError\u001b[0m\u001b[1;31m:\u001b[0m invalid decimal literal\n"
     ]
    }
   ],
   "source": [
    "d = 100\n",
    "def test():\n",
    "    t = 200L\n",
    "    print(d)L\n",
    "    print(t)"
   ]
  },
  {
   "cell_type": "code",
   "execution_count": 8,
   "id": "69b46419-6eb7-438c-9d4f-e9e75b5dc547",
   "metadata": {},
   "outputs": [
    {
     "name": "stdout",
     "output_type": "stream",
     "text": [
      "100\n"
     ]
    }
   ],
   "source": [
    "print(d)"
   ]
  },
  {
   "cell_type": "code",
   "execution_count": 14,
   "id": "72e0478d-5cd9-4ae6-b733-77f528bbebc6",
   "metadata": {},
   "outputs": [
    {
     "name": "stdout",
     "output_type": "stream",
     "text": [
      "100\n",
      "200\n"
     ]
    }
   ],
   "source": [
    "test()"
   ]
  },
  {
   "cell_type": "code",
   "execution_count": 16,
   "id": "144e355c-e739-4d63-8b06-29e51bc22869",
   "metadata": {},
   "outputs": [
    {
     "ename": "NameError",
     "evalue": "name 't' is not defined",
     "output_type": "error",
     "traceback": [
      "\u001b[1;31m---------------------------------------------------------------------------\u001b[0m",
      "\u001b[1;31mNameError\u001b[0m                                 Traceback (most recent call last)",
      "Cell \u001b[1;32mIn[16], line 1\u001b[0m\n\u001b[1;32m----> 1\u001b[0m \u001b[38;5;28mprint\u001b[39m(t)\n",
      "\u001b[1;31mNameError\u001b[0m: name 't' is not defined"
     ]
    }
   ],
   "source": [
    "print(t)"
   ]
  },
  {
   "cell_type": "code",
   "execution_count": 18,
   "id": "87cc03c6-34dd-4790-97fa-39d314c9dacd",
   "metadata": {},
   "outputs": [],
   "source": [
    "d = 100\n",
    "def test():\n",
    "    d = 200\n",
    "    print(d)"
   ]
  },
  {
   "cell_type": "code",
   "execution_count": 20,
   "id": "a9af2f6e-f1b2-4ed0-af95-7bce9c14fc35",
   "metadata": {},
   "outputs": [
    {
     "name": "stdout",
     "output_type": "stream",
     "text": [
      "100\n"
     ]
    }
   ],
   "source": [
    "print(d)"
   ]
  },
  {
   "cell_type": "code",
   "execution_count": 22,
   "id": "bf40746e-77aa-47ab-b3e0-afc4b283fa05",
   "metadata": {},
   "outputs": [
    {
     "name": "stdout",
     "output_type": "stream",
     "text": [
      "200\n"
     ]
    }
   ],
   "source": [
    "test()"
   ]
  },
  {
   "cell_type": "code",
   "execution_count": 24,
   "id": "e10bc1d3-ea17-48c1-978e-0d521308b501",
   "metadata": {},
   "outputs": [
    {
     "name": "stdout",
     "output_type": "stream",
     "text": [
      "100\n"
     ]
    }
   ],
   "source": [
    "print(d)"
   ]
  },
  {
   "cell_type": "code",
   "execution_count": 26,
   "id": "6a3cf08c-1c2b-4891-9dde-db4a321c7635",
   "metadata": {},
   "outputs": [],
   "source": [
    "t = 300\n",
    "def test():\n",
    "    global t\n",
    "    t =500\n",
    "    print(t)"
   ]
  },
  {
   "cell_type": "code",
   "execution_count": 28,
   "id": "76f29bc9-6cb6-41d6-aeff-67e441cb7455",
   "metadata": {},
   "outputs": [
    {
     "name": "stdout",
     "output_type": "stream",
     "text": [
      "300\n"
     ]
    }
   ],
   "source": [
    "print(t)"
   ]
  },
  {
   "cell_type": "code",
   "execution_count": 30,
   "id": "970ba112-07af-4b0e-859e-90750a8ded86",
   "metadata": {},
   "outputs": [
    {
     "name": "stdout",
     "output_type": "stream",
     "text": [
      "500\n"
     ]
    }
   ],
   "source": [
    "test()"
   ]
  },
  {
   "cell_type": "code",
   "execution_count": 32,
   "id": "edae1d78-1f50-4323-b6d6-22c6ad43be44",
   "metadata": {},
   "outputs": [
    {
     "name": "stdout",
     "output_type": "stream",
     "text": [
      "500\n"
     ]
    }
   ],
   "source": [
    "print(t)"
   ]
  },
  {
   "cell_type": "code",
   "execution_count": null,
   "id": "50b8a60e-97c0-4064-aa4b-a2b13003526b",
   "metadata": {},
   "outputs": [],
   "source": []
  },
  {
   "cell_type": "code",
   "execution_count": 35,
   "id": "051e42dc-44d5-4a5d-877a-1a3ec5426e1f",
   "metadata": {},
   "outputs": [],
   "source": [
    "# Lambda Functions: lambda functions are unknown functions"
   ]
  },
  {
   "cell_type": "code",
   "execution_count": 37,
   "id": "3b245289-5c81-48f5-85d6-8aca012c3c15",
   "metadata": {},
   "outputs": [
    {
     "data": {
      "text/plain": [
       "25"
      ]
     },
     "execution_count": 37,
     "metadata": {},
     "output_type": "execute_result"
    }
   ],
   "source": [
    "(lambda s:s**2)(5)"
   ]
  },
  {
   "cell_type": "code",
   "execution_count": 39,
   "id": "53c0fd25-a66e-4a5e-8e4c-71b3b68986c2",
   "metadata": {},
   "outputs": [],
   "source": [
    "def square(r):\n",
    "    return r**2"
   ]
  },
  {
   "cell_type": "code",
   "execution_count": 43,
   "id": "f4e1a8e6-2445-49df-84d9-8b6a102acc07",
   "metadata": {},
   "outputs": [
    {
     "data": {
      "text/plain": [
       "25"
      ]
     },
     "execution_count": 43,
     "metadata": {},
     "output_type": "execute_result"
    }
   ],
   "source": [
    "square(5)"
   ]
  },
  {
   "cell_type": "code",
   "execution_count": 45,
   "id": "66163c16-df49-4a1c-80e6-b6a220d19f4a",
   "metadata": {},
   "outputs": [
    {
     "data": {
      "text/plain": [
       "36"
      ]
     },
     "execution_count": 45,
     "metadata": {},
     "output_type": "execute_result"
    }
   ],
   "source": [
    "square(6)"
   ]
  },
  {
   "cell_type": "code",
   "execution_count": 47,
   "id": "0875d257-5f5a-4ae7-b8a4-0045951e1a7a",
   "metadata": {},
   "outputs": [
    {
     "data": {
      "text/plain": [
       "100"
      ]
     },
     "execution_count": 47,
     "metadata": {},
     "output_type": "execute_result"
    }
   ],
   "source": [
    "square(10)"
   ]
  },
  {
   "cell_type": "code",
   "execution_count": 49,
   "id": "46bf9b19-cafa-4d3f-8d52-02e73330406a",
   "metadata": {},
   "outputs": [
    {
     "data": {
      "text/plain": [
       "64"
      ]
     },
     "execution_count": 49,
     "metadata": {},
     "output_type": "execute_result"
    }
   ],
   "source": [
    "square(8)"
   ]
  },
  {
   "cell_type": "code",
   "execution_count": 51,
   "id": "c4d4a6cc-9d82-4617-a43a-218a0caf27ba",
   "metadata": {},
   "outputs": [],
   "source": [
    "y = (lambda s:s**2)"
   ]
  },
  {
   "cell_type": "code",
   "execution_count": 53,
   "id": "28321b46-d7c7-4c08-8681-e37884049410",
   "metadata": {},
   "outputs": [
    {
     "data": {
      "text/plain": [
       "25"
      ]
     },
     "execution_count": 53,
     "metadata": {},
     "output_type": "execute_result"
    }
   ],
   "source": [
    "y(5)"
   ]
  },
  {
   "cell_type": "code",
   "execution_count": 55,
   "id": "3aac6512-7a0b-463c-8f8b-98fa4951183e",
   "metadata": {},
   "outputs": [
    {
     "data": {
      "text/plain": [
       "49"
      ]
     },
     "execution_count": 55,
     "metadata": {},
     "output_type": "execute_result"
    }
   ],
   "source": [
    "y(7)"
   ]
  },
  {
   "cell_type": "code",
   "execution_count": 57,
   "id": "9120aedf-937e-4c34-a158-0b447b51ae7c",
   "metadata": {},
   "outputs": [
    {
     "data": {
      "text/plain": [
       "64"
      ]
     },
     "execution_count": 57,
     "metadata": {},
     "output_type": "execute_result"
    }
   ],
   "source": [
    "y(8)"
   ]
  },
  {
   "cell_type": "code",
   "execution_count": null,
   "id": "9572f8f0-f59e-46d9-905a-4d1d3b6fe1d6",
   "metadata": {},
   "outputs": [],
   "source": []
  },
  {
   "cell_type": "code",
   "execution_count": null,
   "id": "64a06cba-6c35-415f-b597-97955d8d3046",
   "metadata": {},
   "outputs": [],
   "source": []
  },
  {
   "cell_type": "code",
   "execution_count": 63,
   "id": "89992960-28cf-480c-af49-393a9a3bc3c1",
   "metadata": {},
   "outputs": [
    {
     "data": {
      "text/plain": [
       "30"
      ]
     },
     "execution_count": 63,
     "metadata": {},
     "output_type": "execute_result"
    }
   ],
   "source": [
    "(lambda a,b : a*b)(5,6)"
   ]
  },
  {
   "cell_type": "code",
   "execution_count": null,
   "id": "60e713e3-dd42-4503-89fe-3a8277650d4d",
   "metadata": {},
   "outputs": [],
   "source": []
  },
  {
   "cell_type": "code",
   "execution_count": 66,
   "id": "628f6a2c-39b3-4ce1-bfa9-e5ec260674d0",
   "metadata": {},
   "outputs": [],
   "source": [
    "def multiply(p,q):\n",
    "    return p*q"
   ]
  },
  {
   "cell_type": "code",
   "execution_count": 68,
   "id": "cbf75544-48db-4a85-9fad-6d1409d2c9b3",
   "metadata": {},
   "outputs": [
    {
     "data": {
      "text/plain": [
       "18"
      ]
     },
     "execution_count": 68,
     "metadata": {},
     "output_type": "execute_result"
    }
   ],
   "source": [
    "multiply(9,2)"
   ]
  },
  {
   "cell_type": "code",
   "execution_count": 70,
   "id": "b7e97e20-eee0-45ec-ba6d-8be880b94208",
   "metadata": {},
   "outputs": [
    {
     "data": {
      "text/plain": [
       "50"
      ]
     },
     "execution_count": 70,
     "metadata": {},
     "output_type": "execute_result"
    }
   ],
   "source": [
    "multiply(10,5)"
   ]
  },
  {
   "cell_type": "code",
   "execution_count": 72,
   "id": "47ca0ce8-f3a1-4876-b467-eb33dcf4be6a",
   "metadata": {},
   "outputs": [
    {
     "data": {
      "text/plain": [
       "40"
      ]
     },
     "execution_count": 72,
     "metadata": {},
     "output_type": "execute_result"
    }
   ],
   "source": [
    "multiply(8,5)"
   ]
  },
  {
   "cell_type": "code",
   "execution_count": 74,
   "id": "bdf69c39-c477-4b6e-9a38-727939c93ec4",
   "metadata": {},
   "outputs": [
    {
     "data": {
      "text/plain": [
       "45"
      ]
     },
     "execution_count": 74,
     "metadata": {},
     "output_type": "execute_result"
    }
   ],
   "source": [
    "multiply(9,5)"
   ]
  },
  {
   "cell_type": "code",
   "execution_count": null,
   "id": "58556fa4-52fb-4d9f-8de2-b406bea46340",
   "metadata": {},
   "outputs": [],
   "source": []
  },
  {
   "cell_type": "code",
   "execution_count": 77,
   "id": "3ddce526-9c95-4920-ba9d-ae4bde753015",
   "metadata": {},
   "outputs": [],
   "source": [
    "product = (lambda a,b : a*b)"
   ]
  },
  {
   "cell_type": "code",
   "execution_count": 81,
   "id": "7f393b78-35f3-4bfb-93b2-b02e40d69791",
   "metadata": {},
   "outputs": [
    {
     "data": {
      "text/plain": [
       "40"
      ]
     },
     "execution_count": 81,
     "metadata": {},
     "output_type": "execute_result"
    }
   ],
   "source": [
    "product(5,8)"
   ]
  },
  {
   "cell_type": "code",
   "execution_count": 83,
   "id": "ba5a80a2-0421-479e-acc1-167cd098b484",
   "metadata": {},
   "outputs": [
    {
     "data": {
      "text/plain": [
       "60"
      ]
     },
     "execution_count": 83,
     "metadata": {},
     "output_type": "execute_result"
    }
   ],
   "source": [
    "product(10,6)"
   ]
  },
  {
   "cell_type": "code",
   "execution_count": 85,
   "id": "93b025fe-2609-4726-8b0d-b95f7566920a",
   "metadata": {},
   "outputs": [
    {
     "data": {
      "text/plain": [
       "63"
      ]
     },
     "execution_count": 85,
     "metadata": {},
     "output_type": "execute_result"
    }
   ],
   "source": [
    "product(7,9)"
   ]
  },
  {
   "cell_type": "code",
   "execution_count": 89,
   "id": "2fea0f29-d9ae-4ea3-be90-c2df2a7ecaef",
   "metadata": {},
   "outputs": [
    {
     "data": {
      "text/plain": [
       "40"
      ]
     },
     "execution_count": 89,
     "metadata": {},
     "output_type": "execute_result"
    }
   ],
   "source": [
    "product(8,5)"
   ]
  },
  {
   "cell_type": "code",
   "execution_count": null,
   "id": "94167704-9408-434c-80b4-ac901ecb7d9b",
   "metadata": {},
   "outputs": [],
   "source": []
  },
  {
   "cell_type": "code",
   "execution_count": 92,
   "id": "521a3d8d-ebc4-4cd8-9225-4b088ea74afe",
   "metadata": {},
   "outputs": [],
   "source": [
    "h = [(\"zoom\",5), (\"abhi\",3), (\"sam\",1), (\"clerk\",2), (\"mohit\",8), (\"prateek\",7)]"
   ]
  },
  {
   "cell_type": "code",
   "execution_count": 94,
   "id": "1c4af6ee-4da4-4ae3-853d-2a232d9eaa56",
   "metadata": {},
   "outputs": [
    {
     "data": {
      "text/plain": [
       "[('zoom', 5),\n",
       " ('abhi', 3),\n",
       " ('sam', 1),\n",
       " ('clerk', 2),\n",
       " ('mohit', 8),\n",
       " ('prateek', 7)]"
      ]
     },
     "execution_count": 94,
     "metadata": {},
     "output_type": "execute_result"
    }
   ],
   "source": [
    "h"
   ]
  },
  {
   "cell_type": "code",
   "execution_count": 96,
   "id": "f019ae5d-4490-47db-8786-608566167a22",
   "metadata": {},
   "outputs": [
    {
     "data": {
      "text/plain": [
       "list"
      ]
     },
     "execution_count": 96,
     "metadata": {},
     "output_type": "execute_result"
    }
   ],
   "source": [
    "type(h)"
   ]
  },
  {
   "cell_type": "code",
   "execution_count": 98,
   "id": "47cd49f3-2147-4ea2-9d35-6a5c687323af",
   "metadata": {},
   "outputs": [],
   "source": [
    "h.sort(reverse=True)"
   ]
  },
  {
   "cell_type": "code",
   "execution_count": 100,
   "id": "32ac73bc-a726-4d47-8e44-1a206c05c5e8",
   "metadata": {},
   "outputs": [
    {
     "data": {
      "text/plain": [
       "[('zoom', 5),\n",
       " ('sam', 1),\n",
       " ('prateek', 7),\n",
       " ('mohit', 8),\n",
       " ('clerk', 2),\n",
       " ('abhi', 3)]"
      ]
     },
     "execution_count": 100,
     "metadata": {},
     "output_type": "execute_result"
    }
   ],
   "source": [
    "h"
   ]
  },
  {
   "cell_type": "code",
   "execution_count": null,
   "id": "761a74fc-3574-4d3b-b3f8-197a36edbe2a",
   "metadata": {},
   "outputs": [],
   "source": []
  },
  {
   "cell_type": "code",
   "execution_count": 103,
   "id": "ee722033-0741-442f-824f-452084dd882c",
   "metadata": {},
   "outputs": [],
   "source": [
    "h.sort(reverse=True,)"
   ]
  },
  {
   "cell_type": "code",
   "execution_count": 105,
   "id": "a4c2a032-d00d-4c1f-8ad3-5391b35ddc99",
   "metadata": {},
   "outputs": [
    {
     "data": {
      "text/plain": [
       "[('zoom', 5),\n",
       " ('sam', 1),\n",
       " ('prateek', 7),\n",
       " ('mohit', 8),\n",
       " ('clerk', 2),\n",
       " ('abhi', 3)]"
      ]
     },
     "execution_count": 105,
     "metadata": {},
     "output_type": "execute_result"
    }
   ],
   "source": [
    "h"
   ]
  },
  {
   "cell_type": "code",
   "execution_count": null,
   "id": "66b1322b-efb1-47e4-9e9a-f48de73b03b2",
   "metadata": {},
   "outputs": [],
   "source": []
  },
  {
   "cell_type": "code",
   "execution_count": 108,
   "id": "9f2771cb-c3df-4170-a131-38095c791a64",
   "metadata": {},
   "outputs": [],
   "source": [
    "def mub_sorting(f):\n",
    "    return f[1]"
   ]
  },
  {
   "cell_type": "code",
   "execution_count": null,
   "id": "dc843a12-3a73-437f-9b40-f6d2126574e3",
   "metadata": {},
   "outputs": [],
   "source": []
  },
  {
   "cell_type": "code",
   "execution_count": 113,
   "id": "a81796a4-a1ac-4b33-a65d-f92197ed7e3f",
   "metadata": {},
   "outputs": [],
   "source": [
    "h =  [(\"zoom\", 5), (\"abhi\", 3), (\"sam\", 1), (\"clerk\", 2), (\"mohit\", 8), (\"prateek\", 7)]"
   ]
  },
  {
   "cell_type": "code",
   "execution_count": 115,
   "id": "78fe49ed-1a1f-4dd3-9b11-9d80018eb58d",
   "metadata": {},
   "outputs": [],
   "source": [
    "h.sort(key=mub_sorting)"
   ]
  },
  {
   "cell_type": "code",
   "execution_count": 117,
   "id": "630e3040-05d8-4a7f-a904-bb9280dd0853",
   "metadata": {},
   "outputs": [
    {
     "data": {
      "text/plain": [
       "[('sam', 1),\n",
       " ('clerk', 2),\n",
       " ('abhi', 3),\n",
       " ('zoom', 5),\n",
       " ('prateek', 7),\n",
       " ('mohit', 8)]"
      ]
     },
     "execution_count": 117,
     "metadata": {},
     "output_type": "execute_result"
    }
   ],
   "source": [
    "h"
   ]
  },
  {
   "cell_type": "code",
   "execution_count": 119,
   "id": "a7aad32f-7183-4934-ae7f-345a2a711fec",
   "metadata": {},
   "outputs": [],
   "source": [
    "h =  [(\"zoom\", 5), (\"abhi\", 3), (\"sam\", 1), (\"clerk\", 2), (\"mohit\", 8), (\"prateek\", 7)]"
   ]
  },
  {
   "cell_type": "code",
   "execution_count": 121,
   "id": "936e3625-c95e-45ae-b063-b3efc91c7c58",
   "metadata": {},
   "outputs": [
    {
     "data": {
      "text/plain": [
       "[('zoom', 5),\n",
       " ('abhi', 3),\n",
       " ('sam', 1),\n",
       " ('clerk', 2),\n",
       " ('mohit', 8),\n",
       " ('prateek', 7)]"
      ]
     },
     "execution_count": 121,
     "metadata": {},
     "output_type": "execute_result"
    }
   ],
   "source": [
    "h"
   ]
  },
  {
   "cell_type": "code",
   "execution_count": 125,
   "id": "87751c70-87c8-4734-9dd2-0fa74364dda3",
   "metadata": {},
   "outputs": [],
   "source": [
    "h.sort(key=lambda d : d[1])"
   ]
  },
  {
   "cell_type": "code",
   "execution_count": 127,
   "id": "3eb7d6f8-b4f7-49c3-b0fc-13d4aa86f709",
   "metadata": {},
   "outputs": [
    {
     "data": {
      "text/plain": [
       "[('sam', 1),\n",
       " ('clerk', 2),\n",
       " ('abhi', 3),\n",
       " ('zoom', 5),\n",
       " ('prateek', 7),\n",
       " ('mohit', 8)]"
      ]
     },
     "execution_count": 127,
     "metadata": {},
     "output_type": "execute_result"
    }
   ],
   "source": [
    "h"
   ]
  },
  {
   "cell_type": "code",
   "execution_count": 115,
   "id": "9fbdcfbe-e94b-4987-9e41-ab79fd0ba227",
   "metadata": {},
   "outputs": [],
   "source": [
    "def num_sorting(f):\n",
    "    return f [1]"
   ]
  },
  {
   "cell_type": "code",
   "execution_count": 117,
   "id": "50bd0fff-26a3-4bfb-b552-b449530dda95",
   "metadata": {},
   "outputs": [],
   "source": [
    "h = [(\"zoom\",5), (\"abhi\",3), (\"sam\",1), (\"clerk\",2), (\"mohit\",8), (\"prateek\",7)]"
   ]
  },
  {
   "cell_type": "code",
   "execution_count": 119,
   "id": "60b331d7-62cf-4012-bd62-fd9f40b14b66",
   "metadata": {},
   "outputs": [],
   "source": [
    "h.sort(key=num_sorting)"
   ]
  },
  {
   "cell_type": "code",
   "execution_count": 121,
   "id": "f372dfe4-4ea2-4e8a-a8f0-372f69d4f601",
   "metadata": {},
   "outputs": [
    {
     "data": {
      "text/plain": [
       "[('sam', 1),\n",
       " ('clerk', 2),\n",
       " ('abhi', 3),\n",
       " ('zoom', 5),\n",
       " ('prateek', 7),\n",
       " ('mohit', 8)]"
      ]
     },
     "execution_count": 121,
     "metadata": {},
     "output_type": "execute_result"
    }
   ],
   "source": [
    "h"
   ]
  },
  {
   "cell_type": "code",
   "execution_count": 123,
   "id": "4b5a9177-59d4-46d8-b5be-a2b532831649",
   "metadata": {},
   "outputs": [],
   "source": [
    "h.sort(key=lambda a:a[1])"
   ]
  },
  {
   "cell_type": "code",
   "execution_count": 125,
   "id": "19dbab4a-43e2-46a9-9c07-382517432eda",
   "metadata": {},
   "outputs": [
    {
     "data": {
      "text/plain": [
       "[('sam', 1),\n",
       " ('clerk', 2),\n",
       " ('abhi', 3),\n",
       " ('zoom', 5),\n",
       " ('prateek', 7),\n",
       " ('mohit', 8)]"
      ]
     },
     "execution_count": 125,
     "metadata": {},
     "output_type": "execute_result"
    }
   ],
   "source": [
    "h"
   ]
  },
  {
   "cell_type": "code",
   "execution_count": null,
   "id": "84561a7b-06b0-4bea-8463-6168f9d12bf8",
   "metadata": {},
   "outputs": [],
   "source": []
  },
  {
   "cell_type": "code",
   "execution_count": 130,
   "id": "f25731ca-3a3d-4118-a13e-25602f4c5506",
   "metadata": {},
   "outputs": [],
   "source": [
    "# Built-in Functions:\n",
    "# map, reduce, filter"
   ]
  },
  {
   "cell_type": "code",
   "execution_count": 1,
   "id": "4c07a00a-fbf9-4b9e-ae64-919084cbed77",
   "metadata": {},
   "outputs": [],
   "source": [
    "# Map"
   ]
  },
  {
   "cell_type": "code",
   "execution_count": 3,
   "id": "3aef6a6a-7004-4d3b-b98d-82a3b711dc10",
   "metadata": {},
   "outputs": [],
   "source": [
    "j = [4,5,6,7,8,10,12,9,7,14,15,16,14,2,3,8,9]"
   ]
  },
  {
   "cell_type": "code",
   "execution_count": 5,
   "id": "c82d25a1-091b-45d1-a9fc-8f957f5a752f",
   "metadata": {},
   "outputs": [],
   "source": [
    "k = []\n",
    "for i in j:\n",
    "    k.append(i+1)"
   ]
  },
  {
   "cell_type": "code",
   "execution_count": 7,
   "id": "0df8d561-904b-4d95-a589-165d84333ab9",
   "metadata": {},
   "outputs": [
    {
     "data": {
      "text/plain": [
       "[5, 6, 7, 8, 9, 11, 13, 10, 8, 15, 16, 17, 15, 3, 4, 9, 10]"
      ]
     },
     "execution_count": 7,
     "metadata": {},
     "output_type": "execute_result"
    }
   ],
   "source": [
    "k"
   ]
  },
  {
   "cell_type": "code",
   "execution_count": null,
   "id": "8b0f876b-d1ae-490d-aa6c-eb32229183a9",
   "metadata": {},
   "outputs": [],
   "source": []
  },
  {
   "cell_type": "code",
   "execution_count": 10,
   "id": "8ee55517-5758-4f90-a020-a6aaaee10ef6",
   "metadata": {},
   "outputs": [],
   "source": [
    "# iterable : anything upon which we can apply for/while loop\n",
    "# iterator : elements\n",
    "# iteration : process"
   ]
  },
  {
   "cell_type": "code",
   "execution_count": 12,
   "id": "f6644561-f24d-42e3-aa1f-65d8d702846e",
   "metadata": {},
   "outputs": [
    {
     "data": {
      "text/plain": [
       "[4, 5, 6, 7, 8, 10, 12, 9, 7, 14, 15, 16, 14, 2, 3, 8, 9]"
      ]
     },
     "execution_count": 12,
     "metadata": {},
     "output_type": "execute_result"
    }
   ],
   "source": [
    "j"
   ]
  },
  {
   "cell_type": "code",
   "execution_count": null,
   "id": "3ddadc99-0d1e-411d-a2c5-f13ceaae63f9",
   "metadata": {},
   "outputs": [],
   "source": [
    "def add_one(s):\n",
    "    return "
   ]
  },
  {
   "cell_type": "code",
   "execution_count": 3,
   "id": "661910d7-0c3b-4b2f-9117-3b7fc3981337",
   "metadata": {},
   "outputs": [
    {
     "data": {
      "text/plain": [
       "22"
      ]
     },
     "execution_count": 3,
     "metadata": {},
     "output_type": "execute_result"
    }
   ],
   "source": [
    "add_one(20)"
   ]
  },
  {
   "cell_type": "code",
   "execution_count": 1,
   "id": "f27cc949-af6e-4bfe-a72a-7d973ed8a7bf",
   "metadata": {},
   "outputs": [],
   "source": [
    "def add_one(a):\n",
    "    return a+2"
   ]
  },
  {
   "cell_type": "code",
   "execution_count": 18,
   "id": "d6177213-49a2-4cc5-a76d-d3ff2190af94",
   "metadata": {},
   "outputs": [
    {
     "data": {
      "text/plain": [
       "13"
      ]
     },
     "execution_count": 18,
     "metadata": {},
     "output_type": "execute_result"
    }
   ],
   "source": [
    "add_one(12)"
   ]
  },
  {
   "cell_type": "code",
   "execution_count": 20,
   "id": "997ca946-b85e-48f8-a20d-3e6c3bd10f66",
   "metadata": {},
   "outputs": [
    {
     "data": {
      "text/plain": [
       "[5, 6, 7, 8, 9, 11, 13, 10, 8, 15, 16, 17, 15, 3, 4, 9, 10]"
      ]
     },
     "execution_count": 20,
     "metadata": {},
     "output_type": "execute_result"
    }
   ],
   "source": [
    "list(map(add_one,j))"
   ]
  },
  {
   "cell_type": "code",
   "execution_count": 24,
   "id": "44fe850f-8301-4688-9f84-a7307d3384cd",
   "metadata": {},
   "outputs": [
    {
     "data": {
      "text/plain": [
       "[5, 6, 7, 8, 9, 11, 13, 10, 8, 15, 16, 17, 15, 3, 4, 9, 10]"
      ]
     },
     "execution_count": 24,
     "metadata": {},
     "output_type": "execute_result"
    }
   ],
   "source": [
    "list(map(lambda w:w+1,j))"
   ]
  },
  {
   "cell_type": "code",
   "execution_count": 26,
   "id": "6c5728e7-fa5c-4814-afc6-46500b469985",
   "metadata": {},
   "outputs": [],
   "source": [
    "# Filter:"
   ]
  },
  {
   "cell_type": "code",
   "execution_count": 28,
   "id": "7dca1f3a-f127-4fc7-864a-1bbe0e4f3988",
   "metadata": {},
   "outputs": [
    {
     "data": {
      "text/plain": [
       "[4, 5, 6, 7, 8, 10, 12, 9, 7, 14, 15, 16, 14, 2, 3, 8, 9]"
      ]
     },
     "execution_count": 28,
     "metadata": {},
     "output_type": "execute_result"
    }
   ],
   "source": [
    "j"
   ]
  },
  {
   "cell_type": "code",
   "execution_count": 40,
   "id": "89956227-8610-48d3-936c-84e8ed9dfde1",
   "metadata": {},
   "outputs": [],
   "source": [
    "m = []\n",
    "for i in j:\n",
    "    if 1%2==0:\n",
    "        m.append(i)"
   ]
  },
  {
   "cell_type": "code",
   "execution_count": 42,
   "id": "bceb79dc-083d-4061-9999-fec6b6ca8f66",
   "metadata": {},
   "outputs": [
    {
     "data": {
      "text/plain": [
       "[]"
      ]
     },
     "execution_count": 42,
     "metadata": {},
     "output_type": "execute_result"
    }
   ],
   "source": [
    "m"
   ]
  },
  {
   "cell_type": "code",
   "execution_count": 44,
   "id": "bbb56036-f553-43b9-adf6-0693c46fcfa6",
   "metadata": {},
   "outputs": [
    {
     "data": {
      "text/plain": [
       "[4, 5, 6, 7, 8, 10, 12, 9, 7, 14, 15, 16, 14, 2, 3, 8, 9]"
      ]
     },
     "execution_count": 44,
     "metadata": {},
     "output_type": "execute_result"
    }
   ],
   "source": [
    "j"
   ]
  },
  {
   "cell_type": "code",
   "execution_count": 46,
   "id": "e688d8a9-46a7-41b1-9d9e-1e5a156b4df9",
   "metadata": {},
   "outputs": [],
   "source": [
    "def even_check(t):\n",
    "    return t%2==0"
   ]
  },
  {
   "cell_type": "code",
   "execution_count": 52,
   "id": "4ec5612c-beec-45e4-b973-d8f8400a1674",
   "metadata": {},
   "outputs": [
    {
     "data": {
      "text/plain": [
       "True"
      ]
     },
     "execution_count": 52,
     "metadata": {},
     "output_type": "execute_result"
    }
   ],
   "source": [
    "even_check(12)"
   ]
  },
  {
   "cell_type": "code",
   "execution_count": 56,
   "id": "0f880080-952c-46d3-8f10-d4f61503d77c",
   "metadata": {},
   "outputs": [
    {
     "data": {
      "text/plain": [
       "[4, 6, 8, 10, 12, 14, 16, 14, 2, 8]"
      ]
     },
     "execution_count": 56,
     "metadata": {},
     "output_type": "execute_result"
    }
   ],
   "source": [
    "list(filter(even_check,j))"
   ]
  },
  {
   "cell_type": "code",
   "execution_count": 58,
   "id": "b643921f-9300-40f3-a669-a585ca86f86c",
   "metadata": {},
   "outputs": [
    {
     "data": {
      "text/plain": [
       "[4, 6, 8, 10, 12, 14, 16, 14, 2, 8]"
      ]
     },
     "execution_count": 58,
     "metadata": {},
     "output_type": "execute_result"
    }
   ],
   "source": [
    "list(filter(even_check,j))"
   ]
  },
  {
   "cell_type": "code",
   "execution_count": 54,
   "id": "acdf8f43-a17a-4eef-b40d-7ed1407bd278",
   "metadata": {},
   "outputs": [
    {
     "data": {
      "text/plain": [
       "[4, 6, 8, 10, 12, 14, 16, 14, 2, 8]"
      ]
     },
     "execution_count": 54,
     "metadata": {},
     "output_type": "execute_result"
    }
   ],
   "source": [
    "list(filter(even_check,j))"
   ]
  },
  {
   "cell_type": "code",
   "execution_count": 60,
   "id": "cc68f8ad-05ef-4e49-bfc9-d644417f6668",
   "metadata": {},
   "outputs": [
    {
     "data": {
      "text/plain": [
       "[4, 6, 8, 10, 12, 14, 16, 14, 2, 8]"
      ]
     },
     "execution_count": 60,
     "metadata": {},
     "output_type": "execute_result"
    }
   ],
   "source": [
    "list(filter(lambda e:e%2==0,j))"
   ]
  },
  {
   "cell_type": "code",
   "execution_count": null,
   "id": "59c7789b-c78f-428e-8309-e67eaa329bae",
   "metadata": {},
   "outputs": [],
   "source": []
  },
  {
   "cell_type": "code",
   "execution_count": 63,
   "id": "7030155f-15a4-4bbc-b2bb-8c9351f71a40",
   "metadata": {},
   "outputs": [],
   "source": [
    "# Reduce:"
   ]
  },
  {
   "cell_type": "code",
   "execution_count": 65,
   "id": "e7f7d4d4-4822-4422-b62e-67f9d9658ba0",
   "metadata": {},
   "outputs": [],
   "source": [
    "from functools import reduce"
   ]
  },
  {
   "cell_type": "code",
   "execution_count": 67,
   "id": "09db9efd-cc1b-403f-a845-63720e1f9e00",
   "metadata": {},
   "outputs": [
    {
     "data": {
      "text/plain": [
       "[4, 5, 6, 7, 8, 10, 12, 9, 7, 14, 15, 16, 14, 2, 3, 8, 9]"
      ]
     },
     "execution_count": 67,
     "metadata": {},
     "output_type": "execute_result"
    }
   ],
   "source": [
    "j"
   ]
  },
  {
   "cell_type": "code",
   "execution_count": 71,
   "id": "b515da65-d51e-436a-b74d-9a2a80305e79",
   "metadata": {},
   "outputs": [],
   "source": [
    "total = 1\n",
    "for i in j:\n",
    "    total*=i"
   ]
  },
  {
   "cell_type": "code",
   "execution_count": 73,
   "id": "a4af7f0f-3669-42bc-958e-eaf7ed15da32",
   "metadata": {},
   "outputs": [
    {
     "data": {
      "text/plain": [
       "1032386052096000"
      ]
     },
     "execution_count": 73,
     "metadata": {},
     "output_type": "execute_result"
    }
   ],
   "source": [
    "total"
   ]
  },
  {
   "cell_type": "code",
   "execution_count": 75,
   "id": "6ed1648c-f92a-4291-bd39-dc4e0ed8862f",
   "metadata": {},
   "outputs": [
    {
     "data": {
      "text/plain": [
       "1032386052096000"
      ]
     },
     "execution_count": 75,
     "metadata": {},
     "output_type": "execute_result"
    }
   ],
   "source": [
    "reduce(lambda p,q:p*q,j)"
   ]
  },
  {
   "cell_type": "code",
   "execution_count": 19,
   "id": "e92f9bfb-1fd7-451c-9bd2-f9e86fcd5731",
   "metadata": {},
   "outputs": [],
   "source": [
    "# write a python function which can prefere 4 basic arithmetic (+,-,*,/)"
   ]
  },
  {
   "cell_type": "code",
   "execution_count": 21,
   "id": "97885e47-9d2e-4bd7-9caf-9ff0790920dc",
   "metadata": {},
   "outputs": [],
   "source": [
    "def calculations(a,b):\n",
    "    \"\"\"It will perform 4 basic operations\"\"\"\n",
    "    p = a+b\n",
    "    q = a-b\n",
    "    r = a*b\n",
    "    s = a/b\n",
    "    return [p,q,r,s]"
   ]
  },
  {
   "cell_type": "code",
   "execution_count": 23,
   "id": "df498204-850c-4ddf-92d6-4dbfa6cdac64",
   "metadata": {},
   "outputs": [
    {
     "data": {
      "text/plain": [
       "[14, 10, 24, 6.0]"
      ]
     },
     "execution_count": 23,
     "metadata": {},
     "output_type": "execute_result"
    }
   ],
   "source": [
    "calculations(12,2)"
   ]
  },
  {
   "cell_type": "code",
   "execution_count": 25,
   "id": "a8cab0b7-96ad-41c1-b288-22bfd6bf6ea6",
   "metadata": {},
   "outputs": [
    {
     "data": {
      "text/plain": [
       "[19, 9, 70, 2.8]"
      ]
     },
     "execution_count": 25,
     "metadata": {},
     "output_type": "execute_result"
    }
   ],
   "source": [
    "calculations(14,5)"
   ]
  },
  {
   "cell_type": "code",
   "execution_count": 27,
   "id": "a7a06552-fe60-4938-b7cb-3229e5df205c",
   "metadata": {},
   "outputs": [
    {
     "data": {
      "text/plain": [
       "[18, 14, 32, 8.0]"
      ]
     },
     "execution_count": 27,
     "metadata": {},
     "output_type": "execute_result"
    }
   ],
   "source": [
    "calculations(16,2)"
   ]
  },
  {
   "cell_type": "code",
   "execution_count": 33,
   "id": "688e54c4-cf2b-4dff-92f0-eb5dfe68ea25",
   "metadata": {},
   "outputs": [
    {
     "data": {
      "text/plain": [
       "[22, 6, 112, 1.75]"
      ]
     },
     "execution_count": 33,
     "metadata": {},
     "output_type": "execute_result"
    }
   ],
   "source": [
    "calculations(14,8)"
   ]
  },
  {
   "cell_type": "code",
   "execution_count": 35,
   "id": "d1378eef-9d0a-46d1-b039-79cc3f6e58eb",
   "metadata": {},
   "outputs": [
    {
     "data": {
      "text/plain": [
       "[17, 13, 30, 7.5]"
      ]
     },
     "execution_count": 35,
     "metadata": {},
     "output_type": "execute_result"
    }
   ],
   "source": [
    "calculations(15,2)"
   ]
  },
  {
   "cell_type": "code",
   "execution_count": 37,
   "id": "ee08a63c-e0a8-4c8b-80ef-bdae3fbb1145",
   "metadata": {},
   "outputs": [
    {
     "data": {
      "text/plain": [
       "'It will perform 4 basic operations'"
      ]
     },
     "execution_count": 37,
     "metadata": {},
     "output_type": "execute_result"
    }
   ],
   "source": [
    "calculations.__doc__"
   ]
  },
  {
   "cell_type": "code",
   "execution_count": null,
   "id": "859f0dcf-27b6-463d-a501-5effda19b86c",
   "metadata": {},
   "outputs": [],
   "source": []
  },
  {
   "cell_type": "code",
   "execution_count": 40,
   "id": "e03f7675-3f54-4cac-8963-798191c7277f",
   "metadata": {},
   "outputs": [],
   "source": [
    "# Arithmetic:"
   ]
  },
  {
   "cell_type": "code",
   "execution_count": 42,
   "id": "2accd86e-b739-414f-abbe-cfa9d913fb3e",
   "metadata": {},
   "outputs": [],
   "source": [
    "g = [1,5,6,7,8,9,10,12]"
   ]
  },
  {
   "cell_type": "code",
   "execution_count": 44,
   "id": "0541ed88-c1d0-4d52-83e4-f1dce63d4c3a",
   "metadata": {},
   "outputs": [
    {
     "data": {
      "text/plain": [
       "58"
      ]
     },
     "execution_count": 44,
     "metadata": {},
     "output_type": "execute_result"
    }
   ],
   "source": [
    "sum(g)"
   ]
  },
  {
   "cell_type": "code",
   "execution_count": 46,
   "id": "52ceed65-3283-4945-874d-7e7cd9e67716",
   "metadata": {},
   "outputs": [
    {
     "data": {
      "text/plain": [
       "1"
      ]
     },
     "execution_count": 46,
     "metadata": {},
     "output_type": "execute_result"
    }
   ],
   "source": [
    "min(g)"
   ]
  },
  {
   "cell_type": "code",
   "execution_count": 48,
   "id": "c77e078b-5166-48c7-8bad-2f74225d4138",
   "metadata": {},
   "outputs": [
    {
     "data": {
      "text/plain": [
       "12"
      ]
     },
     "execution_count": 48,
     "metadata": {},
     "output_type": "execute_result"
    }
   ],
   "source": [
    "max(g)"
   ]
  },
  {
   "cell_type": "code",
   "execution_count": 50,
   "id": "8564539f-8099-4aa2-ac02-63bce38ed45c",
   "metadata": {},
   "outputs": [],
   "source": [
    "average = sum(g)/len(g)"
   ]
  },
  {
   "cell_type": "code",
   "execution_count": 52,
   "id": "63557009-8674-4460-a735-852691aad22e",
   "metadata": {},
   "outputs": [
    {
     "data": {
      "text/plain": [
       "7.25"
      ]
     },
     "execution_count": 52,
     "metadata": {},
     "output_type": "execute_result"
    }
   ],
   "source": [
    "average"
   ]
  },
  {
   "cell_type": "code",
   "execution_count": 54,
   "id": "243441b6-e571-4e64-a7f1-75a7b2acd824",
   "metadata": {},
   "outputs": [
    {
     "data": {
      "text/plain": [
       "5"
      ]
     },
     "execution_count": 54,
     "metadata": {},
     "output_type": "execute_result"
    }
   ],
   "source": [
    "round(5.458796225478)"
   ]
  },
  {
   "cell_type": "code",
   "execution_count": 56,
   "id": "03e2a5eb-fe95-4d1f-b01a-a6e13ed6c7bc",
   "metadata": {},
   "outputs": [
    {
     "data": {
      "text/plain": [
       "5"
      ]
     },
     "execution_count": 56,
     "metadata": {},
     "output_type": "execute_result"
    }
   ],
   "source": [
    "round(4.5545217863)"
   ]
  },
  {
   "cell_type": "code",
   "execution_count": 58,
   "id": "1c7d5459-7fb5-456b-b41a-8ca787001ac5",
   "metadata": {},
   "outputs": [
    {
     "data": {
      "text/plain": [
       "8"
      ]
     },
     "execution_count": 58,
     "metadata": {},
     "output_type": "execute_result"
    }
   ],
   "source": [
    "round(8.1457983244)"
   ]
  },
  {
   "cell_type": "code",
   "execution_count": 60,
   "id": "65b52407-924a-41ae-9bd7-4e22561504be",
   "metadata": {},
   "outputs": [
    {
     "data": {
      "text/plain": [
       "2"
      ]
     },
     "execution_count": 60,
     "metadata": {},
     "output_type": "execute_result"
    }
   ],
   "source": [
    "round(2.145788931)"
   ]
  },
  {
   "cell_type": "code",
   "execution_count": 62,
   "id": "519b63e0-31d3-45a8-a368-55b35e7b618c",
   "metadata": {},
   "outputs": [
    {
     "data": {
      "text/plain": [
       "5.5459"
      ]
     },
     "execution_count": 62,
     "metadata": {},
     "output_type": "execute_result"
    }
   ],
   "source": [
    "round(5.545879321, ndigits=4)"
   ]
  },
  {
   "cell_type": "code",
   "execution_count": 64,
   "id": "9bffea07-7128-414d-a824-0b1e11f7da9f",
   "metadata": {},
   "outputs": [],
   "source": [
    "g = [1,5,6,7,8,9,10,12,0, 2, 34, 6, 74, 5, 2, 6, 1, 4, 10, 15, 12, 13]"
   ]
  },
  {
   "cell_type": "code",
   "execution_count": 66,
   "id": "7e7591fe-6ac8-4133-ba65-b0ab9e4654bb",
   "metadata": {},
   "outputs": [
    {
     "data": {
      "text/plain": [
       "[74, 34, 15, 13, 12, 12, 10, 10, 9, 8, 7, 6, 6, 6, 5, 5, 4, 2, 2, 1, 1, 0]"
      ]
     },
     "execution_count": 66,
     "metadata": {},
     "output_type": "execute_result"
    }
   ],
   "source": [
    "sorted(g, reverse=True)"
   ]
  },
  {
   "cell_type": "code",
   "execution_count": 72,
   "id": "2f41dcb0-3bc1-437a-bf6c-c460604a3e01",
   "metadata": {},
   "outputs": [
    {
     "data": {
      "text/plain": [
       "[0, 1, 1, 2, 2, 4, 5, 5, 6, 6, 6, 7, 8, 9, 10, 10, 12, 12, 13, 15, 34, 74]"
      ]
     },
     "execution_count": 72,
     "metadata": {},
     "output_type": "execute_result"
    }
   ],
   "source": [
    "sorted(g, reverse=False)"
   ]
  },
  {
   "cell_type": "code",
   "execution_count": 74,
   "id": "f90f1bfa-79f0-4418-8406-d29f341d5c5b",
   "metadata": {},
   "outputs": [],
   "source": [
    "subjects = [\"html\", \"Css\", \"python\", \"java\", \"power bi\"]"
   ]
  },
  {
   "cell_type": "code",
   "execution_count": 76,
   "id": "07cbf705-c406-4367-821d-2bd13816d647",
   "metadata": {},
   "outputs": [],
   "source": [
    "marks = [60,85,45,95,50]"
   ]
  },
  {
   "cell_type": "code",
   "execution_count": 80,
   "id": "90a27a72-e62f-4123-8a05-751219d53399",
   "metadata": {},
   "outputs": [
    {
     "data": {
      "text/plain": [
       "[('html', 60), ('Css', 85), ('python', 45), ('java', 95), ('power bi', 50)]"
      ]
     },
     "execution_count": 80,
     "metadata": {},
     "output_type": "execute_result"
    }
   ],
   "source": [
    "list(zip(subjects, marks))"
   ]
  },
  {
   "cell_type": "code",
   "execution_count": 82,
   "id": "0f90fd5c-c123-4542-a6a3-0c72e893a1a9",
   "metadata": {},
   "outputs": [],
   "source": [
    "fruits = [\"apple\", \"banana\", \"grapes\", \"mango\"]"
   ]
  },
  {
   "cell_type": "code",
   "execution_count": 84,
   "id": "61586b76-d5f8-49d5-985a-268fe6cfb9fa",
   "metadata": {},
   "outputs": [],
   "source": [
    "prices = [120,150, 20, 60]"
   ]
  },
  {
   "cell_type": "code",
   "execution_count": 86,
   "id": "a10b52d4-6a4b-416a-a3b2-bf21f5d3e5a0",
   "metadata": {},
   "outputs": [
    {
     "data": {
      "text/plain": [
       "(('apple', 120), ('banana', 150), ('grapes', 20), ('mango', 60))"
      ]
     },
     "execution_count": 86,
     "metadata": {},
     "output_type": "execute_result"
    }
   ],
   "source": [
    "tuple(zip(fruits, prices))"
   ]
  },
  {
   "cell_type": "code",
   "execution_count": 88,
   "id": "a33c4ade-12ef-4102-acd1-097764c5e058",
   "metadata": {},
   "outputs": [],
   "source": [
    "# dir() - it is basically used in order to list out all the methods and properties:"
   ]
  },
  {
   "cell_type": "code",
   "execution_count": 90,
   "id": "35a5f127-6b92-4bb5-8074-96424e01727c",
   "metadata": {},
   "outputs": [],
   "source": [
    "d = \"computer\""
   ]
  },
  {
   "cell_type": "code",
   "execution_count": 92,
   "id": "e08b7f2f-2b59-4bc1-a2e7-407dca3fd559",
   "metadata": {},
   "outputs": [
    {
     "name": "stdout",
     "output_type": "stream",
     "text": [
      "['__add__', '__class__', '__contains__', '__delattr__', '__dir__', '__doc__', '__eq__', '__format__', '__ge__', '__getattribute__', '__getitem__', '__getnewargs__', '__getstate__', '__gt__', '__hash__', '__init__', '__init_subclass__', '__iter__', '__le__', '__len__', '__lt__', '__mod__', '__mul__', '__ne__', '__new__', '__reduce__', '__reduce_ex__', '__repr__', '__rmod__', '__rmul__', '__setattr__', '__sizeof__', '__str__', '__subclasshook__', 'capitalize', 'casefold', 'center', 'count', 'encode', 'endswith', 'expandtabs', 'find', 'format', 'format_map', 'index', 'isalnum', 'isalpha', 'isascii', 'isdecimal', 'isdigit', 'isidentifier', 'islower', 'isnumeric', 'isprintable', 'isspace', 'istitle', 'isupper', 'join', 'ljust', 'lower', 'lstrip', 'maketrans', 'partition', 'removeprefix', 'removesuffix', 'replace', 'rfind', 'rindex', 'rjust', 'rpartition', 'rsplit', 'rstrip', 'split', 'splitlines', 'startswith', 'strip', 'swapcase', 'title', 'translate', 'upper', 'zfill']\n"
     ]
    }
   ],
   "source": [
    "print(dir(d))"
   ]
  },
  {
   "cell_type": "code",
   "execution_count": 94,
   "id": "a0127bd1-3cf8-4e6c-8f81-1870933113ca",
   "metadata": {},
   "outputs": [
    {
     "data": {
      "text/plain": [
       "['apple', 'banana', 'grapes', 'mango']"
      ]
     },
     "execution_count": 94,
     "metadata": {},
     "output_type": "execute_result"
    }
   ],
   "source": [
    "fruits"
   ]
  },
  {
   "cell_type": "code",
   "execution_count": 96,
   "id": "57efff8f-925d-44b1-a1e0-b02dc4d87671",
   "metadata": {},
   "outputs": [
    {
     "data": {
      "text/plain": [
       "['__add__',\n",
       " '__class__',\n",
       " '__class_getitem__',\n",
       " '__contains__',\n",
       " '__delattr__',\n",
       " '__delitem__',\n",
       " '__dir__',\n",
       " '__doc__',\n",
       " '__eq__',\n",
       " '__format__',\n",
       " '__ge__',\n",
       " '__getattribute__',\n",
       " '__getitem__',\n",
       " '__getstate__',\n",
       " '__gt__',\n",
       " '__hash__',\n",
       " '__iadd__',\n",
       " '__imul__',\n",
       " '__init__',\n",
       " '__init_subclass__',\n",
       " '__iter__',\n",
       " '__le__',\n",
       " '__len__',\n",
       " '__lt__',\n",
       " '__mul__',\n",
       " '__ne__',\n",
       " '__new__',\n",
       " '__reduce__',\n",
       " '__reduce_ex__',\n",
       " '__repr__',\n",
       " '__reversed__',\n",
       " '__rmul__',\n",
       " '__setattr__',\n",
       " '__setitem__',\n",
       " '__sizeof__',\n",
       " '__str__',\n",
       " '__subclasshook__',\n",
       " 'append',\n",
       " 'clear',\n",
       " 'copy',\n",
       " 'count',\n",
       " 'extend',\n",
       " 'index',\n",
       " 'insert',\n",
       " 'pop',\n",
       " 'remove',\n",
       " 'reverse',\n",
       " 'sort']"
      ]
     },
     "execution_count": 96,
     "metadata": {},
     "output_type": "execute_result"
    }
   ],
   "source": [
    "dir(fruits)"
   ]
  },
  {
   "cell_type": "code",
   "execution_count": 98,
   "id": "3b220fb8-a232-4245-8b5a-d92926e261f4",
   "metadata": {},
   "outputs": [],
   "source": [
    "age = 82"
   ]
  },
  {
   "cell_type": "code",
   "execution_count": 100,
   "id": "1b7b39e3-9cf2-4fce-aecc-8fab97db977e",
   "metadata": {},
   "outputs": [
    {
     "data": {
      "text/plain": [
       "82"
      ]
     },
     "execution_count": 100,
     "metadata": {},
     "output_type": "execute_result"
    }
   ],
   "source": [
    "age"
   ]
  },
  {
   "cell_type": "code",
   "execution_count": 102,
   "id": "53722a63-a74b-4287-bd97-66b1e4022ed0",
   "metadata": {},
   "outputs": [
    {
     "data": {
      "text/plain": [
       "82"
      ]
     },
     "execution_count": 102,
     "metadata": {},
     "output_type": "execute_result"
    }
   ],
   "source": [
    "age"
   ]
  },
  {
   "cell_type": "code",
   "execution_count": 106,
   "id": "14c91655-ce50-4a51-83bd-8325c848447f",
   "metadata": {},
   "outputs": [
    {
     "data": {
      "text/plain": [
       "82"
      ]
     },
     "execution_count": 106,
     "metadata": {},
     "output_type": "execute_result"
    }
   ],
   "source": [
    "globals()['age']"
   ]
  },
  {
   "cell_type": "code",
   "execution_count": 108,
   "id": "c8efe255-66dd-4ff5-809f-b324101be1bc",
   "metadata": {},
   "outputs": [
    {
     "data": {
      "text/plain": [
       "82"
      ]
     },
     "execution_count": 108,
     "metadata": {},
     "output_type": "execute_result"
    }
   ],
   "source": [
    "globals()[\"age\"]"
   ]
  },
  {
   "cell_type": "code",
   "execution_count": 110,
   "id": "94bacd70-d186-48cf-b1c1-5b852c85d80e",
   "metadata": {},
   "outputs": [
    {
     "data": {
      "text/plain": [
       "[1, 5, 6, 7, 8, 9, 10, 12, 0, 2, 34, 6, 74, 5, 2, 6, 1, 4, 10, 15, 12, 13]"
      ]
     },
     "execution_count": 110,
     "metadata": {},
     "output_type": "execute_result"
    }
   ],
   "source": [
    "g"
   ]
  },
  {
   "cell_type": "code",
   "execution_count": 114,
   "id": "6695a9a8-a90f-4889-b77a-0dbf32af1566",
   "metadata": {},
   "outputs": [
    {
     "data": {
      "text/plain": [
       "[13, 12, 15, 10, 4, 1, 6, 2, 5, 74, 6, 34, 2, 0, 12, 10, 9, 8, 7, 6, 5, 1]"
      ]
     },
     "execution_count": 114,
     "metadata": {},
     "output_type": "execute_result"
    }
   ],
   "source": [
    "g[::-1]"
   ]
  },
  {
   "cell_type": "code",
   "execution_count": 116,
   "id": "58126c49-b5ea-4ce3-aa52-d91ecb7b1013",
   "metadata": {},
   "outputs": [
    {
     "data": {
      "text/plain": [
       "[13, 12, 15, 10, 4, 1, 6, 2, 5, 74, 6, 34, 2, 0, 12, 10, 9, 8, 7, 6, 5, 1]"
      ]
     },
     "execution_count": 116,
     "metadata": {},
     "output_type": "execute_result"
    }
   ],
   "source": [
    "g[::-1]"
   ]
  },
  {
   "cell_type": "code",
   "execution_count": 118,
   "id": "378932ee-d015-4c37-8638-e498d4fb7f96",
   "metadata": {},
   "outputs": [
    {
     "data": {
      "text/plain": [
       "[1, 5, 6, 7, 8, 9, 10, 12, 0, 2, 34, 6, 74, 5, 2, 6, 1, 4, 10, 15, 12, 13]"
      ]
     },
     "execution_count": 118,
     "metadata": {},
     "output_type": "execute_result"
    }
   ],
   "source": [
    "g"
   ]
  },
  {
   "cell_type": "code",
   "execution_count": 122,
   "id": "6df8aecc-40b3-4d51-abbe-d56fdfa51201",
   "metadata": {},
   "outputs": [],
   "source": [
    "g = list(reversed(g))"
   ]
  },
  {
   "cell_type": "code",
   "execution_count": 124,
   "id": "1278eea0-66c4-4837-a0e0-f1109d52dfe8",
   "metadata": {},
   "outputs": [
    {
     "data": {
      "text/plain": [
       "[13, 12, 15, 10, 4, 1, 6, 2, 5, 74, 6, 34, 2, 0, 12, 10, 9, 8, 7, 6, 5, 1]"
      ]
     },
     "execution_count": 124,
     "metadata": {},
     "output_type": "execute_result"
    }
   ],
   "source": [
    "g"
   ]
  },
  {
   "cell_type": "code",
   "execution_count": null,
   "id": "c6d93671-2039-42c3-9373-93fc6d34a760",
   "metadata": {},
   "outputs": [],
   "source": []
  },
  {
   "cell_type": "code",
   "execution_count": 127,
   "id": "43a82c62-d0d6-455b-a761-841f66164b3d",
   "metadata": {},
   "outputs": [],
   "source": [
    "# enumerate() : it adds a counter"
   ]
  },
  {
   "cell_type": "code",
   "execution_count": 129,
   "id": "0ee47bc5-f528-4c70-8ed1-3fdc297d2a58",
   "metadata": {},
   "outputs": [
    {
     "data": {
      "text/plain": [
       "['apple', 'banana', 'grapes', 'mango']"
      ]
     },
     "execution_count": 129,
     "metadata": {},
     "output_type": "execute_result"
    }
   ],
   "source": [
    "fruits"
   ]
  },
  {
   "cell_type": "code",
   "execution_count": 135,
   "id": "714f48bc-d98a-4ca7-9a5d-cb5174161e8a",
   "metadata": {},
   "outputs": [
    {
     "name": "stdout",
     "output_type": "stream",
     "text": [
      "100 : apple\n",
      "101 : banana\n",
      "102 : grapes\n",
      "103 : mango\n"
     ]
    }
   ],
   "source": [
    "for  idex,i in enumerate(fruits, start=100):\n",
    "    print(idex,\":\",i)"
   ]
  },
  {
   "cell_type": "code",
   "execution_count": 139,
   "id": "bfc164c5-46f2-449f-9935-c1ddcec764c9",
   "metadata": {},
   "outputs": [
    {
     "name": "stdout",
     "output_type": "stream",
     "text": [
      "103 : (100, 'apple')\n",
      "103 : (101, 'banana')\n",
      "103 : (102, 'grapes')\n",
      "103 : (103, 'mango')\n"
     ]
    }
   ],
   "source": [
    "for i in enumerate(fruits, start=100):\n",
    "    print(idex, \":\",i)"
   ]
  },
  {
   "cell_type": "code",
   "execution_count": 141,
   "id": "c7ea09c0-2b5d-4cf2-8da9-20b10616f7aa",
   "metadata": {},
   "outputs": [
    {
     "name": "stdout",
     "output_type": "stream",
     "text": [
      "(0, 'html')\n",
      "(1, 'Css')\n",
      "(2, 'python')\n",
      "(3, 'java')\n",
      "(4, 'power bi')\n"
     ]
    }
   ],
   "source": [
    "for i in enumerate(subjects):\n",
    "    print(i)"
   ]
  },
  {
   "cell_type": "code",
   "execution_count": 143,
   "id": "6a33f3fd-a2eb-4be1-b235-4fbfcb978f05",
   "metadata": {},
   "outputs": [
    {
     "name": "stdout",
     "output_type": "stream",
     "text": [
      "(0, 'html')\n",
      "(1, 'Css')\n",
      "(2, 'python')\n",
      "(3, 'java')\n",
      "(4, 'power bi')\n"
     ]
    }
   ],
   "source": [
    "for i in enumerate(subjects):\n",
    "    print(i)"
   ]
  },
  {
   "cell_type": "code",
   "execution_count": 147,
   "id": "3d68df54-9456-48d8-9498-cd81c8c16e29",
   "metadata": {},
   "outputs": [
    {
     "name": "stdout",
     "output_type": "stream",
     "text": [
      "0 html\n",
      "1 Css\n",
      "2 python\n",
      "3 java\n",
      "4 power bi\n"
     ]
    }
   ],
   "source": [
    "for idx, i in enumerate(subjects):\n",
    "    print(idx,i)"
   ]
  },
  {
   "cell_type": "code",
   "execution_count": 149,
   "id": "7d07bc56-800c-4807-89cb-c3301d7a2a6c",
   "metadata": {},
   "outputs": [
    {
     "name": "stdout",
     "output_type": "stream",
     "text": [
      "150 html\n",
      "151 Css\n",
      "152 python\n",
      "153 java\n",
      "154 power bi\n"
     ]
    }
   ],
   "source": [
    "for w, i in enumerate(subjects, start=150):\n",
    "    print(w,i)"
   ]
  },
  {
   "cell_type": "code",
   "execution_count": null,
   "id": "ee9650d1-0f5d-49f0-9428-a3bbc718d395",
   "metadata": {},
   "outputs": [],
   "source": []
  },
  {
   "cell_type": "code",
   "execution_count": 152,
   "id": "cb8ee901-9809-4215-ae51-ab2698cc601b",
   "metadata": {},
   "outputs": [
    {
     "data": {
      "text/plain": [
       "6"
      ]
     },
     "execution_count": 152,
     "metadata": {},
     "output_type": "execute_result"
    }
   ],
   "source": [
    "abs(6)"
   ]
  },
  {
   "cell_type": "code",
   "execution_count": 154,
   "id": "1bd5030d-ef05-462f-952c-bcbe578e4251",
   "metadata": {},
   "outputs": [
    {
     "data": {
      "text/plain": [
       "5"
      ]
     },
     "execution_count": 154,
     "metadata": {},
     "output_type": "execute_result"
    }
   ],
   "source": [
    "abs(-5)"
   ]
  },
  {
   "cell_type": "code",
   "execution_count": 156,
   "id": "53f247d9-6956-408c-92d6-09704030e26c",
   "metadata": {},
   "outputs": [],
   "source": [
    "# all : it follows logical AND\n",
    "# any : it follows logical OR"
   ]
  },
  {
   "cell_type": "code",
   "execution_count": 158,
   "id": "eb608985-d339-4369-aee1-8864f922dedb",
   "metadata": {},
   "outputs": [],
   "source": [
    "h = [4,5,6,7,8]"
   ]
  },
  {
   "cell_type": "code",
   "execution_count": 160,
   "id": "5c770c78-9aa7-4a4f-83fe-e85355779eda",
   "metadata": {},
   "outputs": [
    {
     "data": {
      "text/plain": [
       "True"
      ]
     },
     "execution_count": 160,
     "metadata": {},
     "output_type": "execute_result"
    }
   ],
   "source": [
    "all(h)"
   ]
  },
  {
   "cell_type": "code",
   "execution_count": 162,
   "id": "fc2a1b0a-8eae-4ffb-8d8c-456eedce622d",
   "metadata": {},
   "outputs": [
    {
     "data": {
      "text/plain": [
       "True"
      ]
     },
     "execution_count": 162,
     "metadata": {},
     "output_type": "execute_result"
    }
   ],
   "source": [
    "any(h)"
   ]
  },
  {
   "cell_type": "code",
   "execution_count": 164,
   "id": "7486512f-6e5e-48a1-860b-6349ae13738b",
   "metadata": {},
   "outputs": [],
   "source": [
    "k = [4,5,6,7,8,0]"
   ]
  },
  {
   "cell_type": "code",
   "execution_count": 166,
   "id": "9847168b-cd0d-4b9b-b7ba-129b49de7e8a",
   "metadata": {},
   "outputs": [
    {
     "data": {
      "text/plain": [
       "False"
      ]
     },
     "execution_count": 166,
     "metadata": {},
     "output_type": "execute_result"
    }
   ],
   "source": [
    "all(k)"
   ]
  },
  {
   "cell_type": "code",
   "execution_count": 168,
   "id": "c66770e9-057f-412e-a5f5-944aa3e9a42f",
   "metadata": {},
   "outputs": [
    {
     "data": {
      "text/plain": [
       "True"
      ]
     },
     "execution_count": 168,
     "metadata": {},
     "output_type": "execute_result"
    }
   ],
   "source": [
    "any(k)"
   ]
  },
  {
   "cell_type": "code",
   "execution_count": 170,
   "id": "66cbc282-eac3-4d7f-9895-3481b1c568b4",
   "metadata": {},
   "outputs": [],
   "source": [
    "c = [False, 1,0,-2]"
   ]
  },
  {
   "cell_type": "code",
   "execution_count": 172,
   "id": "08361399-c312-4b38-a485-04f51f53a5b4",
   "metadata": {},
   "outputs": [
    {
     "data": {
      "text/plain": [
       "False"
      ]
     },
     "execution_count": 172,
     "metadata": {},
     "output_type": "execute_result"
    }
   ],
   "source": [
    "all(c)"
   ]
  },
  {
   "cell_type": "code",
   "execution_count": 174,
   "id": "07794c8b-2213-48ba-b9e0-f8be7b1d4b36",
   "metadata": {},
   "outputs": [
    {
     "data": {
      "text/plain": [
       "True"
      ]
     },
     "execution_count": 174,
     "metadata": {},
     "output_type": "execute_result"
    }
   ],
   "source": [
    "any(c)"
   ]
  },
  {
   "cell_type": "code",
   "execution_count": 176,
   "id": "5e044c63-3208-42e8-aff2-ace4bae7ce07",
   "metadata": {},
   "outputs": [],
   "source": [
    "c = [-1,-2]"
   ]
  },
  {
   "cell_type": "code",
   "execution_count": 178,
   "id": "6c8207ec-7d3f-4b71-a1af-44a7a20c5117",
   "metadata": {},
   "outputs": [
    {
     "data": {
      "text/plain": [
       "True"
      ]
     },
     "execution_count": 178,
     "metadata": {},
     "output_type": "execute_result"
    }
   ],
   "source": [
    "all(c)"
   ]
  },
  {
   "cell_type": "code",
   "execution_count": 180,
   "id": "9e8fe8c3-e804-406d-a8d1-ad78eca1bb9d",
   "metadata": {},
   "outputs": [
    {
     "data": {
      "text/plain": [
       "True"
      ]
     },
     "execution_count": 180,
     "metadata": {},
     "output_type": "execute_result"
    }
   ],
   "source": [
    "any(c)"
   ]
  },
  {
   "cell_type": "code",
   "execution_count": 182,
   "id": "2849254e-d985-4528-9050-f3ab27408f80",
   "metadata": {},
   "outputs": [],
   "source": [
    "m =[]"
   ]
  },
  {
   "cell_type": "code",
   "execution_count": 184,
   "id": "0a78ea78-9d54-4fcd-9e33-d79fc24cdf82",
   "metadata": {},
   "outputs": [
    {
     "data": {
      "text/plain": [
       "True"
      ]
     },
     "execution_count": 184,
     "metadata": {},
     "output_type": "execute_result"
    }
   ],
   "source": [
    "all(m)"
   ]
  },
  {
   "cell_type": "code",
   "execution_count": 186,
   "id": "d5f5f95b-1cf0-42ec-abb2-b70af36aeb31",
   "metadata": {},
   "outputs": [
    {
     "data": {
      "text/plain": [
       "False"
      ]
     },
     "execution_count": 186,
     "metadata": {},
     "output_type": "execute_result"
    }
   ],
   "source": [
    "any(m)"
   ]
  },
  {
   "cell_type": "code",
   "execution_count": null,
   "id": "8937537a-c5cb-4e91-bb84-92d2465be246",
   "metadata": {},
   "outputs": [],
   "source": []
  },
  {
   "cell_type": "code",
   "execution_count": 191,
   "id": "8f5caf83-94a3-4a38-a2b1-a1f7eb3126c4",
   "metadata": {},
   "outputs": [],
   "source": [
    "# write a function to count the accurrences of each word is a sentence:\n",
    "h = \"hello world hello python python is very easy andi love python\""
   ]
  },
  {
   "cell_type": "code",
   "execution_count": 201,
   "id": "df2f432e-9a91-4f86-af07-8447dfcba0c2",
   "metadata": {},
   "outputs": [
    {
     "name": "stdin",
     "output_type": "stream",
     "text": [
      "Enter a list of numbers seperated by spaces: \n"
     ]
    },
    {
     "name": "stdout",
     "output_type": "stream",
     "text": [
      "The list is empty.\n"
     ]
    }
   ],
   "source": [
    "def find_largest_number(numbers):\n",
    "    if not numbers:\n",
    "        return None\n",
    "        largest = numbers[0]\n",
    "        for number in numbers:\n",
    "            if number > largest:\n",
    "                largest = number\n",
    "\n",
    "    return largest\n",
    "\n",
    "numbers = [int(x) for x in input (\"Enter a list of numbers seperated by spaces:\").split()]\n",
    "\n",
    "largest_number = find_largest_number(numbers)\n",
    "\n",
    "if largest_number is not None:\n",
    "    print(f\"The largest nnumber in the list is:{largest_number}\")\n",
    "else:\n",
    "    print(\"The list is empty.\")"
   ]
  },
  {
   "cell_type": "code",
   "execution_count": 203,
   "id": "5bada279-4ddf-4c41-8ec3-db5ca8795849",
   "metadata": {},
   "outputs": [],
   "source": [
    "k = [4, 5, 6, 7, 8, 0, 1, 2, 3, 8, 9, 10]\n",
    "j = [4, 5, 16, 7, 88, 10, 1, 12, 13, 8, 9, 10]"
   ]
  },
  {
   "cell_type": "code",
   "execution_count": null,
   "id": "774b7f4d-3407-4458-96ce-019e8b705eb3",
   "metadata": {},
   "outputs": [],
   "source": []
  },
  {
   "cell_type": "code",
   "execution_count": 1,
   "id": "7b2d2b20-6424-4c0a-8702-13455686e6bc",
   "metadata": {},
   "outputs": [],
   "source": [
    "# Homework Question:"
   ]
  },
  {
   "cell_type": "code",
   "execution_count": 3,
   "id": "659d4e24-25c8-45fa-9081-868b9ba58256",
   "metadata": {},
   "outputs": [],
   "source": [
    "# Write a function to find the intersection of two lists.\n",
    "k = [4, 5, 6, 7, 8, 0, 1, 2, 3, 8, 9, 10]\n",
    "j = [4, 5, 16, 7, 88, 10, 1, 12, 13, 8, 9, 10]"
   ]
  },
  {
   "cell_type": "code",
   "execution_count": 5,
   "id": "8def743a-a5c0-4b55-9f2c-777015876490",
   "metadata": {},
   "outputs": [],
   "source": [
    "# Write a function to find the sum of digits of a number."
   ]
  },
  {
   "cell_type": "code",
   "execution_count": 15,
   "id": "271e5701-c458-4a01-9018-0fee58f860dc",
   "metadata": {},
   "outputs": [],
   "source": [
    "# Write a function to check if a number is prime."
   ]
  },
  {
   "cell_type": "code",
   "execution_count": 31,
   "id": "385ea586-2a7c-4979-a813-fe319ba6c3a5",
   "metadata": {},
   "outputs": [],
   "source": [
    "# write a function to count the accurrences of each word in a sentence\n",
    "# h = \"hello world hello python python is very easy i love python\""
   ]
  },
  {
   "cell_type": "code",
   "execution_count": 21,
   "id": "0bb96e5d-edc6-4951-b17b-7d04787798ca",
   "metadata": {},
   "outputs": [],
   "source": [
    "def word_count(sent):\n",
    "    \"\"\"This will be counting number of words\"\"\"\n",
    "    word_list = sent.split()\n",
    "    wordfreq ={}\n",
    "    for w in word_list:\n",
    "        wordfreq[w] = wordfreq.get(w,0) +1\n",
    "    return wordfreq"
   ]
  },
  {
   "cell_type": "code",
   "execution_count": 27,
   "id": "db04621d-f9b0-4f91-8f40-e4bbc7368186",
   "metadata": {},
   "outputs": [],
   "source": [
    "h = \"hello world hello python python is very easy i love python\""
   ]
  },
  {
   "cell_type": "code",
   "execution_count": 29,
   "id": "962d85d1-fdee-4d16-bd58-f405dd2cc1f0",
   "metadata": {},
   "outputs": [
    {
     "data": {
      "text/plain": [
       "{'hello': 2,\n",
       " 'world': 1,\n",
       " 'python': 3,\n",
       " 'is': 1,\n",
       " 'very': 1,\n",
       " 'easy': 1,\n",
       " 'i': 1,\n",
       " 'love': 1}"
      ]
     },
     "execution_count": 29,
     "metadata": {},
     "output_type": "execute_result"
    }
   ],
   "source": [
    "word_count(h)"
   ]
  },
  {
   "cell_type": "code",
   "execution_count": 19,
   "id": "bf8127fc-01b0-4685-b1af-94c872a8cd8b",
   "metadata": {},
   "outputs": [
    {
     "name": "stdin",
     "output_type": "stream",
     "text": [
      "Enter a number:  145\n"
     ]
    },
    {
     "name": "stdout",
     "output_type": "stream",
     "text": [
      "145 is not a prime number.\n"
     ]
    }
   ],
   "source": [
    "def prime_number(n):\n",
    "    \"\"\"Check if a number is prime.\"\"\"\n",
    "    if n <= 1:\n",
    "        return False\n",
    "    for i in range(2, int(n**0.5) + 1):\n",
    "        if n % i == 0:\n",
    "            return False\n",
    "    return True\n",
    "\n",
    "number = int(input(\"Enter a number: \"))\n",
    "print(f\"{number} is {'a prime' if is_prime(number) else 'not a prime'} number.\")"
   ]
  },
  {
   "cell_type": "code",
   "execution_count": null,
   "id": "5e9ae84b-c04b-472f-a265-a3aa8b1fb66c",
   "metadata": {},
   "outputs": [],
   "source": []
  },
  {
   "cell_type": "code",
   "execution_count": null,
   "id": "2aa041db-af12-4f2d-8c38-1025d884af63",
   "metadata": {},
   "outputs": [],
   "source": []
  },
  {
   "cell_type": "code",
   "execution_count": 3,
   "id": "d137061c-8914-4828-95d9-4e905ebe9f30",
   "metadata": {},
   "outputs": [],
   "source": [
    "def LCmcheck(a,b):\n",
    "    \"\"\"This will be checking LCM of two numbers\"\"\"\n",
    "    if a>b:\n",
    "        largest = a\n",
    "    else:\n",
    "        largest = b\n",
    "\n",
    "    while True:\n",
    "        if (largest%a==0) and (largest%b==0):\n",
    "            return largest\n",
    "        else:\n",
    "            largest+=1"
   ]
  },
  {
   "cell_type": "code",
   "execution_count": 5,
   "id": "11492035-d219-4fb0-849c-aec0dba2b5df",
   "metadata": {},
   "outputs": [
    {
     "data": {
      "text/plain": [
       "6"
      ]
     },
     "execution_count": 5,
     "metadata": {},
     "output_type": "execute_result"
    }
   ],
   "source": [
    "LCmcheck(3,6)"
   ]
  },
  {
   "cell_type": "code",
   "execution_count": 7,
   "id": "188f4cab-20f3-443d-83ae-dcb7a5de051a",
   "metadata": {},
   "outputs": [
    {
     "data": {
      "text/plain": [
       "8"
      ]
     },
     "execution_count": 7,
     "metadata": {},
     "output_type": "execute_result"
    }
   ],
   "source": [
    "LCmcheck(4,8)"
   ]
  },
  {
   "cell_type": "code",
   "execution_count": 9,
   "id": "2c56762a-46b7-4faf-a913-55608431d15e",
   "metadata": {},
   "outputs": [
    {
     "data": {
      "text/plain": [
       "10"
      ]
     },
     "execution_count": 9,
     "metadata": {},
     "output_type": "execute_result"
    }
   ],
   "source": [
    "LCmcheck(10,5)"
   ]
  },
  {
   "cell_type": "code",
   "execution_count": null,
   "id": "e4f45167-0ce1-402c-b53e-8a17bcb205ad",
   "metadata": {},
   "outputs": [],
   "source": []
  }
 ],
 "metadata": {
  "kernelspec": {
   "display_name": "Python [conda env:base] *",
   "language": "python",
   "name": "conda-base-py"
  },
  "language_info": {
   "codemirror_mode": {
    "name": "ipython",
    "version": 3
   },
   "file_extension": ".py",
   "mimetype": "text/x-python",
   "name": "python",
   "nbconvert_exporter": "python",
   "pygments_lexer": "ipython3",
   "version": "3.12.7"
  }
 },
 "nbformat": 4,
 "nbformat_minor": 5
}
