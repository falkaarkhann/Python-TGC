{
 "cells": [
  {
   "cell_type": "code",
   "execution_count": 9,
   "id": "cc4c8987-faf7-4792-9f05-c9d4ce5351f0",
   "metadata": {},
   "outputs": [
    {
     "ename": "SyntaxError",
     "evalue": "invalid non-printable character U+00A0 (4138200480.py, line 4)",
     "output_type": "error",
     "traceback": [
      "\u001b[1;36m  Cell \u001b[1;32mIn[9], line 4\u001b[1;36m\u001b[0m\n\u001b[1;33m    j = [4, 5, 16, 7, 88, 10, 1, 12, 13, 8, 9, 10]\u001b[0m\n\u001b[1;37m                                    ^\u001b[0m\n\u001b[1;31mSyntaxError\u001b[0m\u001b[1;31m:\u001b[0m invalid non-printable character U+00A0\n"
     ]
    }
   ],
   "source": [
    "# write a function to find the intersection of two lists:"
   ]
  },
  {
   "cell_type": "code",
   "execution_count": 13,
   "id": "19c6e1f0-9b84-4213-9fd3-a50a931895ba",
   "metadata": {},
   "outputs": [],
   "source": [
    "k = [4,5,6,7,8,0,1,2,3,8,9,10]\n",
    "j = [4,5,16,7,88,10,1,12,13,8,9,10]"
   ]
  },
  {
   "cell_type": "code",
   "execution_count": 3,
   "id": "895be997-b3ee-465d-90d3-4d77d081e794",
   "metadata": {},
   "outputs": [],
   "source": [
    "def findingcommon(lst1, lst2):\n",
    "    return list(set(lst1) & set(lst2))"
   ]
  },
  {
   "cell_type": "code",
   "execution_count": 7,
   "id": "d9ab6172-14da-403b-a54e-bd230e12cb19",
   "metadata": {},
   "outputs": [],
   "source": [
    "k = [4, 5, 6, 7, 8, 0, 1, 2, 3, 8, 9, 10]"
   ]
  },
  {
   "cell_type": "code",
   "execution_count": 15,
   "id": "642c6406-e4b0-4ecb-8560-e7568cb4d115",
   "metadata": {},
   "outputs": [
    {
     "data": {
      "text/plain": [
       "[1, 4, 5, 7, 8, 9, 10]"
      ]
     },
     "execution_count": 15,
     "metadata": {},
     "output_type": "execute_result"
    }
   ],
   "source": [
    "findingcommon(k, j)"
   ]
  },
  {
   "cell_type": "code",
   "execution_count": 3,
   "id": "f241eb22-2fb0-43ad-af4a-50293fff9f11",
   "metadata": {},
   "outputs": [],
   "source": [
    "# write a function to find the sum of digits of a number:"
   ]
  },
  {
   "cell_type": "code",
   "execution_count": 5,
   "id": "5a1269da-4820-4971-a961-9e472dc1017d",
   "metadata": {},
   "outputs": [],
   "source": [
    "# write a function to check if a number is prime:"
   ]
  },
  {
   "cell_type": "markdown",
   "id": "e06e0af7-8866-4fd8-8a82-b88c16cfe909",
   "metadata": {},
   "source": [
    "# Modules:\n",
    "1. The fule must contain python code\n",
    "2. The extension should be.py\n",
    "\n",
    "# Modules are two types:\n",
    "1. Built in Modules \n",
    "2. Custom  Modules"
   ]
  },
  {
   "cell_type": "code",
   "execution_count": null,
   "id": "6581860c-afc1-4560-a2de-cc17f07602ee",
   "metadata": {},
   "outputs": [],
   "source": []
  },
  {
   "cell_type": "code",
   "execution_count": 9,
   "id": "96cc5e16-3339-439c-b2b8-2d19b17cbe37",
   "metadata": {},
   "outputs": [],
   "source": [
    "# Built in modules "
   ]
  },
  {
   "cell_type": "code",
   "execution_count": 11,
   "id": "7f847cfa-39b9-49e5-9915-cc3edd62d983",
   "metadata": {},
   "outputs": [
    {
     "name": "stdout",
     "output_type": "stream",
     "text": [
      "15\n"
     ]
    }
   ],
   "source": [
    "print(15)"
   ]
  },
  {
   "cell_type": "code",
   "execution_count": 13,
   "id": "45de82b2-644e-42e2-aa48-c4c45cd4b3b5",
   "metadata": {},
   "outputs": [],
   "source": [
    "import math"
   ]
  },
  {
   "cell_type": "code",
   "execution_count": 15,
   "id": "5cd38a67-a21a-4dcd-86d3-80c6bdcae017",
   "metadata": {},
   "outputs": [
    {
     "name": "stdout",
     "output_type": "stream",
     "text": [
      "['__doc__', '__loader__', '__name__', '__package__', '__spec__', 'acos', 'acosh', 'asin', 'asinh', 'atan', 'atan2', 'atanh', 'cbrt', 'ceil', 'comb', 'copysign', 'cos', 'cosh', 'degrees', 'dist', 'e', 'erf', 'erfc', 'exp', 'exp2', 'expm1', 'fabs', 'factorial', 'floor', 'fmod', 'frexp', 'fsum', 'gamma', 'gcd', 'hypot', 'inf', 'isclose', 'isfinite', 'isinf', 'isnan', 'isqrt', 'lcm', 'ldexp', 'lgamma', 'log', 'log10', 'log1p', 'log2', 'modf', 'nan', 'nextafter', 'perm', 'pi', 'pow', 'prod', 'radians', 'remainder', 'sin', 'sinh', 'sqrt', 'sumprod', 'tan', 'tanh', 'tau', 'trunc', 'ulp']\n"
     ]
    }
   ],
   "source": [
    "print(dir(math))"
   ]
  },
  {
   "cell_type": "code",
   "execution_count": 17,
   "id": "e9fbf485-cf25-447d-9819-f63ce1efb648",
   "metadata": {},
   "outputs": [
    {
     "data": {
      "text/plain": [
       "120"
      ]
     },
     "execution_count": 17,
     "metadata": {},
     "output_type": "execute_result"
    }
   ],
   "source": [
    "math.factorial(5)"
   ]
  },
  {
   "cell_type": "code",
   "execution_count": 19,
   "id": "5df03991-cd0b-4186-a8fd-f52028b8e2c9",
   "metadata": {},
   "outputs": [
    {
     "data": {
      "text/plain": [
       "8.0"
      ]
     },
     "execution_count": 19,
     "metadata": {},
     "output_type": "execute_result"
    }
   ],
   "source": [
    "math.pow(2,3)"
   ]
  },
  {
   "cell_type": "code",
   "execution_count": 21,
   "id": "606d7eaa-e24d-4c7d-8bd2-f59f630f67f2",
   "metadata": {},
   "outputs": [
    {
     "data": {
      "text/plain": [
       "243.0"
      ]
     },
     "execution_count": 21,
     "metadata": {},
     "output_type": "execute_result"
    }
   ],
   "source": [
    "math.pow(3,5)"
   ]
  },
  {
   "cell_type": "code",
   "execution_count": 23,
   "id": "120479a1-8e1d-4388-9519-2d0d6096153e",
   "metadata": {},
   "outputs": [
    {
     "data": {
      "text/plain": [
       "32.0"
      ]
     },
     "execution_count": 23,
     "metadata": {},
     "output_type": "execute_result"
    }
   ],
   "source": [
    "math.pow(2,5)"
   ]
  },
  {
   "cell_type": "code",
   "execution_count": 25,
   "id": "5a2e8a0e-5b4b-40c3-b88f-72c4b6aaee1c",
   "metadata": {},
   "outputs": [
    {
     "data": {
      "text/plain": [
       "25.0"
      ]
     },
     "execution_count": 25,
     "metadata": {},
     "output_type": "execute_result"
    }
   ],
   "source": [
    "math.pow(5,2)"
   ]
  },
  {
   "cell_type": "code",
   "execution_count": 27,
   "id": "6d83ab06-00ef-441a-81ab-53ac1d4aaaef",
   "metadata": {},
   "outputs": [
    {
     "data": {
      "text/plain": [
       "256.0"
      ]
     },
     "execution_count": 27,
     "metadata": {},
     "output_type": "execute_result"
    }
   ],
   "source": [
    "math.pow(2,8)"
   ]
  },
  {
   "cell_type": "code",
   "execution_count": 31,
   "id": "51f8c42e-0cba-46fe-a609-6022ead14439",
   "metadata": {},
   "outputs": [
    {
     "data": {
      "text/plain": [
       "78125.0"
      ]
     },
     "execution_count": 31,
     "metadata": {},
     "output_type": "execute_result"
    }
   ],
   "source": [
    "math.pow(5,7)"
   ]
  },
  {
   "cell_type": "code",
   "execution_count": 33,
   "id": "201ea87f-a3ea-44c4-aed7-5cc1dd5cada4",
   "metadata": {},
   "outputs": [
    {
     "data": {
      "text/plain": [
       "3.141592653589793"
      ]
     },
     "execution_count": 33,
     "metadata": {},
     "output_type": "execute_result"
    }
   ],
   "source": [
    "math.pi"
   ]
  },
  {
   "cell_type": "code",
   "execution_count": 35,
   "id": "43c8eca9-8495-4a94-8b6e-f6ff07abafc5",
   "metadata": {},
   "outputs": [
    {
     "data": {
      "text/plain": [
       "3.141592653589793"
      ]
     },
     "execution_count": 35,
     "metadata": {},
     "output_type": "execute_result"
    }
   ],
   "source": [
    "math.pi"
   ]
  },
  {
   "cell_type": "code",
   "execution_count": 37,
   "id": "e314c219-4690-4b9d-9b9f-165c95b85bec",
   "metadata": {},
   "outputs": [
    {
     "data": {
      "text/plain": [
       "3.141592653589793"
      ]
     },
     "execution_count": 37,
     "metadata": {},
     "output_type": "execute_result"
    }
   ],
   "source": [
    "math.pi"
   ]
  },
  {
   "cell_type": "code",
   "execution_count": 41,
   "id": "6111f9c3-2e37-4ed3-a885-9c9019ea878d",
   "metadata": {},
   "outputs": [
    {
     "data": {
      "text/plain": [
       "7.0"
      ]
     },
     "execution_count": 41,
     "metadata": {},
     "output_type": "execute_result"
    }
   ],
   "source": [
    "math.sqrt(49)"
   ]
  },
  {
   "cell_type": "code",
   "execution_count": 43,
   "id": "9ee806f7-d8cb-457b-8c99-bbfd8e844e84",
   "metadata": {},
   "outputs": [
    {
     "data": {
      "text/plain": [
       "7.0710678118654755"
      ]
     },
     "execution_count": 43,
     "metadata": {},
     "output_type": "execute_result"
    }
   ],
   "source": [
    "math.sqrt(50)"
   ]
  },
  {
   "cell_type": "code",
   "execution_count": 45,
   "id": "d5256c06-a97e-468c-84c6-25d6e4604569",
   "metadata": {},
   "outputs": [
    {
     "data": {
      "text/plain": [
       "5.0"
      ]
     },
     "execution_count": 45,
     "metadata": {},
     "output_type": "execute_result"
    }
   ],
   "source": [
    "math.sqrt(25)"
   ]
  },
  {
   "cell_type": "code",
   "execution_count": 47,
   "id": "e64dd88f-07db-484b-a543-0152832aaaf6",
   "metadata": {},
   "outputs": [
    {
     "data": {
      "text/plain": [
       "3.1622776601683795"
      ]
     },
     "execution_count": 47,
     "metadata": {},
     "output_type": "execute_result"
    }
   ],
   "source": [
    "math.sqrt(10)"
   ]
  },
  {
   "cell_type": "code",
   "execution_count": 49,
   "id": "da0bfb13-e47e-47ed-bec3-e34dcf245639",
   "metadata": {},
   "outputs": [
    {
     "data": {
      "text/plain": [
       "3.872983346207417"
      ]
     },
     "execution_count": 49,
     "metadata": {},
     "output_type": "execute_result"
    }
   ],
   "source": [
    "math.sqrt(15)"
   ]
  },
  {
   "cell_type": "code",
   "execution_count": 51,
   "id": "ff892731-acf7-459c-8d81-c52ed389e848",
   "metadata": {},
   "outputs": [
    {
     "data": {
      "text/plain": [
       "0.28366218546322625"
      ]
     },
     "execution_count": 51,
     "metadata": {},
     "output_type": "execute_result"
    }
   ],
   "source": [
    "math.cos(5)"
   ]
  },
  {
   "cell_type": "code",
   "execution_count": 53,
   "id": "4dddb67b-deea-4369-8849-eedb9455dfc1",
   "metadata": {},
   "outputs": [
    {
     "data": {
      "text/plain": [
       "-0.4161468365471424"
      ]
     },
     "execution_count": 53,
     "metadata": {},
     "output_type": "execute_result"
    }
   ],
   "source": [
    "math.cos(2)"
   ]
  },
  {
   "cell_type": "code",
   "execution_count": 59,
   "id": "3f8e9452-a62b-4b5e-bd8d-a39490930b61",
   "metadata": {},
   "outputs": [
    {
     "data": {
      "text/plain": [
       "-0.14550003380861354"
      ]
     },
     "execution_count": 59,
     "metadata": {},
     "output_type": "execute_result"
    }
   ],
   "source": [
    "math.cos(8)"
   ]
  },
  {
   "cell_type": "code",
   "execution_count": 61,
   "id": "848d01e0-6412-42cd-82b2-83513b50af57",
   "metadata": {},
   "outputs": [
    {
     "data": {
      "text/plain": [
       "0.5403023058681398"
      ]
     },
     "execution_count": 61,
     "metadata": {},
     "output_type": "execute_result"
    }
   ],
   "source": [
    "math.cos(1)"
   ]
  },
  {
   "cell_type": "code",
   "execution_count": 65,
   "id": "41254647-f1dd-4435-a85e-ebda08174b70",
   "metadata": {},
   "outputs": [
    {
     "data": {
      "text/plain": [
       "1.6094379124341003"
      ]
     },
     "execution_count": 65,
     "metadata": {},
     "output_type": "execute_result"
    }
   ],
   "source": [
    "math.log(5)"
   ]
  },
  {
   "cell_type": "code",
   "execution_count": 67,
   "id": "5355532f-703b-45a9-a4c8-3eabe4118b7d",
   "metadata": {},
   "outputs": [
    {
     "data": {
      "text/plain": [
       "2.302585092994046"
      ]
     },
     "execution_count": 67,
     "metadata": {},
     "output_type": "execute_result"
    }
   ],
   "source": [
    "math.log(10)"
   ]
  },
  {
   "cell_type": "code",
   "execution_count": 69,
   "id": "a50f2386-cc01-4d6e-80bd-8c1b2dcc7446",
   "metadata": {},
   "outputs": [
    {
     "data": {
      "text/plain": [
       "5.043425116919247"
      ]
     },
     "execution_count": 69,
     "metadata": {},
     "output_type": "execute_result"
    }
   ],
   "source": [
    "math.log(155)"
   ]
  },
  {
   "cell_type": "code",
   "execution_count": 71,
   "id": "bd032163-e75f-451c-bb02-7a2a6db16a68",
   "metadata": {},
   "outputs": [
    {
     "data": {
      "text/plain": [
       "2.6390573296152584"
      ]
     },
     "execution_count": 71,
     "metadata": {},
     "output_type": "execute_result"
    }
   ],
   "source": [
    "math.log(14)"
   ]
  },
  {
   "cell_type": "code",
   "execution_count": 73,
   "id": "c4fcfa13-5d2c-44cf-9cd9-b1c945c8acac",
   "metadata": {},
   "outputs": [
    {
     "data": {
      "text/plain": [
       "0.6989700043360189"
      ]
     },
     "execution_count": 73,
     "metadata": {},
     "output_type": "execute_result"
    }
   ],
   "source": [
    "math.log10(5)"
   ]
  },
  {
   "cell_type": "code",
   "execution_count": 75,
   "id": "282d1f8e-54f0-4dc0-936d-af8577ca3d20",
   "metadata": {},
   "outputs": [
    {
     "data": {
      "text/plain": [
       "1.1760912590556813"
      ]
     },
     "execution_count": 75,
     "metadata": {},
     "output_type": "execute_result"
    }
   ],
   "source": [
    "math.log10(15)"
   ]
  },
  {
   "cell_type": "code",
   "execution_count": 77,
   "id": "0e82372b-f324-49c1-b19a-aed7b14ead68",
   "metadata": {},
   "outputs": [
    {
     "data": {
      "text/plain": [
       "1.0"
      ]
     },
     "execution_count": 77,
     "metadata": {},
     "output_type": "execute_result"
    }
   ],
   "source": [
    "math.log10(10)"
   ]
  },
  {
   "cell_type": "code",
   "execution_count": 79,
   "id": "be8009f4-03a9-45ce-8e58-01f033fbbc64",
   "metadata": {},
   "outputs": [
    {
     "data": {
      "text/plain": [
       "60"
      ]
     },
     "execution_count": 79,
     "metadata": {},
     "output_type": "execute_result"
    }
   ],
   "source": [
    "math.lcm(4,15)"
   ]
  },
  {
   "cell_type": "code",
   "execution_count": 81,
   "id": "e1ad16a3-f7a5-4450-8cee-32fda630f636",
   "metadata": {},
   "outputs": [
    {
     "data": {
      "text/plain": [
       "40"
      ]
     },
     "execution_count": 81,
     "metadata": {},
     "output_type": "execute_result"
    }
   ],
   "source": [
    "math.lcm(8,10)"
   ]
  },
  {
   "cell_type": "code",
   "execution_count": 83,
   "id": "ad01019a-9ae2-4c32-8165-5e84c6c469db",
   "metadata": {},
   "outputs": [
    {
     "data": {
      "text/plain": [
       "20"
      ]
     },
     "execution_count": 83,
     "metadata": {},
     "output_type": "execute_result"
    }
   ],
   "source": [
    "math.lcm(5,4)"
   ]
  },
  {
   "cell_type": "code",
   "execution_count": 85,
   "id": "86dd3edc-43d9-4246-a689-fd5d1c1eae1e",
   "metadata": {},
   "outputs": [
    {
     "data": {
      "text/plain": [
       "40"
      ]
     },
     "execution_count": 85,
     "metadata": {},
     "output_type": "execute_result"
    }
   ],
   "source": [
    "math.lcm(8,5)"
   ]
  },
  {
   "cell_type": "code",
   "execution_count": 87,
   "id": "47c069db-6db8-4e2d-9443-272254acc40d",
   "metadata": {},
   "outputs": [
    {
     "data": {
      "text/plain": [
       "45"
      ]
     },
     "execution_count": 87,
     "metadata": {},
     "output_type": "execute_result"
    }
   ],
   "source": [
    "math.lcm(9,5)"
   ]
  },
  {
   "cell_type": "code",
   "execution_count": 89,
   "id": "3519a14a-9ddf-47b8-9f2e-9e6bc1a4ae23",
   "metadata": {},
   "outputs": [
    {
     "data": {
      "text/plain": [
       "7"
      ]
     },
     "execution_count": 89,
     "metadata": {},
     "output_type": "execute_result"
    }
   ],
   "source": [
    "math.lcm(7,7)"
   ]
  },
  {
   "cell_type": "code",
   "execution_count": 91,
   "id": "c2b0ca40-d61a-4df1-a59b-5bc652bfd29e",
   "metadata": {},
   "outputs": [
    {
     "data": {
      "text/plain": [
       "5"
      ]
     },
     "execution_count": 91,
     "metadata": {},
     "output_type": "execute_result"
    }
   ],
   "source": [
    "round(5.36133264)"
   ]
  },
  {
   "cell_type": "code",
   "execution_count": 93,
   "id": "a1b889fe-29d9-407c-b325-ac42d17a878a",
   "metadata": {},
   "outputs": [
    {
     "data": {
      "text/plain": [
       "8"
      ]
     },
     "execution_count": 93,
     "metadata": {},
     "output_type": "execute_result"
    }
   ],
   "source": [
    "round(8.4521785)"
   ]
  },
  {
   "cell_type": "code",
   "execution_count": 95,
   "id": "3bc9a55e-e30a-4a04-9d0a-3b3d4145678a",
   "metadata": {},
   "outputs": [
    {
     "data": {
      "text/plain": [
       "4"
      ]
     },
     "execution_count": 95,
     "metadata": {},
     "output_type": "execute_result"
    }
   ],
   "source": [
    "round(4.14587)"
   ]
  },
  {
   "cell_type": "code",
   "execution_count": 97,
   "id": "142b267b-a8ca-4375-945e-99a3a5f1ddaf",
   "metadata": {},
   "outputs": [
    {
     "data": {
      "text/plain": [
       "5"
      ]
     },
     "execution_count": 97,
     "metadata": {},
     "output_type": "execute_result"
    }
   ],
   "source": [
    "round(5.1457896)"
   ]
  },
  {
   "cell_type": "code",
   "execution_count": 99,
   "id": "c4cdd0cd-cd13-40d0-b2e6-2bf57f9f0436",
   "metadata": {},
   "outputs": [
    {
     "data": {
      "text/plain": [
       "2"
      ]
     },
     "execution_count": 99,
     "metadata": {},
     "output_type": "execute_result"
    }
   ],
   "source": [
    "round(2.45871256)"
   ]
  },
  {
   "cell_type": "code",
   "execution_count": 101,
   "id": "49dd73b4-46df-4446-b409-fc3b7579ab38",
   "metadata": {},
   "outputs": [
    {
     "data": {
      "text/plain": [
       "2"
      ]
     },
     "execution_count": 101,
     "metadata": {},
     "output_type": "execute_result"
    }
   ],
   "source": [
    "round(1.5871)"
   ]
  },
  {
   "cell_type": "code",
   "execution_count": 103,
   "id": "ee24acda-2415-4038-bfec-d7e033729fda",
   "metadata": {},
   "outputs": [
    {
     "data": {
      "text/plain": [
       "4"
      ]
     },
     "execution_count": 103,
     "metadata": {},
     "output_type": "execute_result"
    }
   ],
   "source": [
    "12//3"
   ]
  },
  {
   "cell_type": "code",
   "execution_count": 107,
   "id": "27d06b90-e274-4588-8a32-5011e315d4b5",
   "metadata": {},
   "outputs": [
    {
     "data": {
      "text/plain": [
       "7"
      ]
     },
     "execution_count": 107,
     "metadata": {},
     "output_type": "execute_result"
    }
   ],
   "source": [
    "14//2"
   ]
  },
  {
   "cell_type": "code",
   "execution_count": 109,
   "id": "5a68c4aa-05c5-4356-ab96-97e395997ab6",
   "metadata": {},
   "outputs": [
    {
     "data": {
      "text/plain": [
       "0"
      ]
     },
     "execution_count": 109,
     "metadata": {},
     "output_type": "execute_result"
    }
   ],
   "source": [
    "15//25"
   ]
  },
  {
   "cell_type": "code",
   "execution_count": 111,
   "id": "8fd480b5-4c01-4f64-a471-6041173fa7a1",
   "metadata": {},
   "outputs": [
    {
     "data": {
      "text/plain": [
       "1"
      ]
     },
     "execution_count": 111,
     "metadata": {},
     "output_type": "execute_result"
    }
   ],
   "source": [
    "17//15"
   ]
  },
  {
   "cell_type": "code",
   "execution_count": 113,
   "id": "1e377502-c6d5-4a92-b494-dffde9512dc6",
   "metadata": {},
   "outputs": [
    {
     "data": {
      "text/plain": [
       "7"
      ]
     },
     "execution_count": 113,
     "metadata": {},
     "output_type": "execute_result"
    }
   ],
   "source": [
    "14//2"
   ]
  },
  {
   "cell_type": "code",
   "execution_count": 117,
   "id": "83ad038d-24ff-44eb-9422-5f92b7f2697a",
   "metadata": {},
   "outputs": [
    {
     "data": {
      "text/plain": [
       "2"
      ]
     },
     "execution_count": 117,
     "metadata": {},
     "output_type": "execute_result"
    }
   ],
   "source": [
    "16//8"
   ]
  },
  {
   "cell_type": "code",
   "execution_count": 119,
   "id": "ab9efc63-5c3c-4dae-ad4d-8e097a6deab8",
   "metadata": {},
   "outputs": [
    {
     "data": {
      "text/plain": [
       "3"
      ]
     },
     "execution_count": 119,
     "metadata": {},
     "output_type": "execute_result"
    }
   ],
   "source": [
    "math.ceil(2.3659)"
   ]
  },
  {
   "cell_type": "code",
   "execution_count": 121,
   "id": "ad9d98ca-e739-47bc-9a38-8bed567dce42",
   "metadata": {},
   "outputs": [
    {
     "data": {
      "text/plain": [
       "26"
      ]
     },
     "execution_count": 121,
     "metadata": {},
     "output_type": "execute_result"
    }
   ],
   "source": [
    "math.ceil(25.1458)"
   ]
  },
  {
   "cell_type": "code",
   "execution_count": 123,
   "id": "c4760c7d-791b-408b-b4fb-537d24a5177f",
   "metadata": {},
   "outputs": [
    {
     "data": {
      "text/plain": [
       "3"
      ]
     },
     "execution_count": 123,
     "metadata": {},
     "output_type": "execute_result"
    }
   ],
   "source": [
    "math.ceil(2.1458)"
   ]
  },
  {
   "cell_type": "code",
   "execution_count": 125,
   "id": "d085b5a7-ba86-4e94-b600-e08702df8d12",
   "metadata": {},
   "outputs": [],
   "source": [
    "import random"
   ]
  },
  {
   "cell_type": "code",
   "execution_count": 145,
   "id": "03248c7b-f488-4bed-9e36-b891a1d0ee91",
   "metadata": {},
   "outputs": [
    {
     "data": {
      "text/plain": [
       "89"
      ]
     },
     "execution_count": 145,
     "metadata": {},
     "output_type": "execute_result"
    }
   ],
   "source": [
    "random.randint(1,100)"
   ]
  },
  {
   "cell_type": "code",
   "execution_count": 155,
   "id": "c10ceb84-2ded-4bd7-b62a-52b876e2e4ee",
   "metadata": {},
   "outputs": [
    {
     "data": {
      "text/plain": [
       "0.7767403676056032"
      ]
     },
     "execution_count": 155,
     "metadata": {},
     "output_type": "execute_result"
    }
   ],
   "source": [
    "random.random()"
   ]
  },
  {
   "cell_type": "code",
   "execution_count": 157,
   "id": "c753a4b9-4001-4bdb-9e46-f1ce270be837",
   "metadata": {},
   "outputs": [
    {
     "data": {
      "text/plain": [
       "0.847769431801021"
      ]
     },
     "execution_count": 157,
     "metadata": {},
     "output_type": "execute_result"
    }
   ],
   "source": [
    "random.random()"
   ]
  },
  {
   "cell_type": "code",
   "execution_count": 159,
   "id": "05f798fb-7bb2-41b7-ab7b-d73641701b1e",
   "metadata": {},
   "outputs": [
    {
     "data": {
      "text/plain": [
       "0.9076740806078143"
      ]
     },
     "execution_count": 159,
     "metadata": {},
     "output_type": "execute_result"
    }
   ],
   "source": [
    "random.random()"
   ]
  },
  {
   "cell_type": "code",
   "execution_count": 161,
   "id": "f83f1714-ea24-40c5-a79f-748916e6191b",
   "metadata": {},
   "outputs": [
    {
     "data": {
      "text/plain": [
       "0.605917499289896"
      ]
     },
     "execution_count": 161,
     "metadata": {},
     "output_type": "execute_result"
    }
   ],
   "source": [
    "random.random()"
   ]
  },
  {
   "cell_type": "code",
   "execution_count": 163,
   "id": "6f4617e4-cda7-4900-a143-cd464a0f0a4a",
   "metadata": {},
   "outputs": [
    {
     "data": {
      "text/plain": [
       "0.863657138851343"
      ]
     },
     "execution_count": 163,
     "metadata": {},
     "output_type": "execute_result"
    }
   ],
   "source": [
    "random.random()"
   ]
  },
  {
   "cell_type": "code",
   "execution_count": 3,
   "id": "c42be545-5800-4965-992c-dc0f5d1f44ee",
   "metadata": {},
   "outputs": [],
   "source": [
    "import os"
   ]
  },
  {
   "cell_type": "code",
   "execution_count": 5,
   "id": "8d9c9408-e4d2-42a4-b20e-e4f89de35dd6",
   "metadata": {},
   "outputs": [
    {
     "name": "stdout",
     "output_type": "stream",
     "text": [
      "['DirEntry', 'EX_OK', 'F_OK', 'GenericAlias', 'Mapping', 'MutableMapping', 'O_APPEND', 'O_BINARY', 'O_CREAT', 'O_EXCL', 'O_NOINHERIT', 'O_RANDOM', 'O_RDONLY', 'O_RDWR', 'O_SEQUENTIAL', 'O_SHORT_LIVED', 'O_TEMPORARY', 'O_TEXT', 'O_TRUNC', 'O_WRONLY', 'P_DETACH', 'P_NOWAIT', 'P_NOWAITO', 'P_OVERLAY', 'P_WAIT', 'PathLike', 'R_OK', 'SEEK_CUR', 'SEEK_END', 'SEEK_SET', 'TMP_MAX', 'W_OK', 'X_OK', '_AddedDllDirectory', '_Environ', '__all__', '__builtins__', '__doc__', '__file__', '__loader__', '__name__', '__package__', '__spec__', '_check_methods', '_execvpe', '_exists', '_exit', '_fspath', '_get_exports_list', '_walk_symlinks_as_files', '_wrap_close', 'abc', 'abort', 'access', 'add_dll_directory', 'altsep', 'chdir', 'chmod', 'close', 'closerange', 'cpu_count', 'curdir', 'defpath', 'device_encoding', 'devnull', 'dup', 'dup2', 'environ', 'error', 'execl', 'execle', 'execlp', 'execlpe', 'execv', 'execve', 'execvp', 'execvpe', 'extsep', 'fdopen', 'fsdecode', 'fsencode', 'fspath', 'fstat', 'fsync', 'ftruncate', 'get_blocking', 'get_exec_path', 'get_handle_inheritable', 'get_inheritable', 'get_terminal_size', 'getcwd', 'getcwdb', 'getenv', 'getlogin', 'getpid', 'getppid', 'isatty', 'kill', 'linesep', 'link', 'listdir', 'listdrives', 'listmounts', 'listvolumes', 'lseek', 'lstat', 'makedirs', 'mkdir', 'name', 'open', 'pardir', 'path', 'pathsep', 'pipe', 'popen', 'putenv', 'read', 'readlink', 'remove', 'removedirs', 'rename', 'renames', 'replace', 'rmdir', 'scandir', 'sep', 'set_blocking', 'set_handle_inheritable', 'set_inheritable', 'spawnl', 'spawnle', 'spawnv', 'spawnve', 'st', 'startfile', 'stat', 'stat_result', 'statvfs_result', 'strerror', 'supports_bytes_environ', 'supports_dir_fd', 'supports_effective_ids', 'supports_fd', 'supports_follow_symlinks', 'symlink', 'sys', 'system', 'terminal_size', 'times', 'times_result', 'truncate', 'umask', 'uname_result', 'unlink', 'unsetenv', 'urandom', 'utime', 'waitpid', 'waitstatus_to_exitcode', 'walk', 'write']\n"
     ]
    }
   ],
   "source": [
    "print(dir(os))"
   ]
  },
  {
   "cell_type": "code",
   "execution_count": 7,
   "id": "25d574fe-a879-4848-a359-17e82e7a6af5",
   "metadata": {},
   "outputs": [
    {
     "data": {
      "text/plain": [
       "'C:\\\\Users\\\\Asus\\\\Downloads'"
      ]
     },
     "execution_count": 7,
     "metadata": {},
     "output_type": "execute_result"
    }
   ],
   "source": [
    "os.getcwd()"
   ]
  },
  {
   "cell_type": "code",
   "execution_count": 9,
   "id": "533ed865-3ef1-4ab9-a654-053ddf5913ef",
   "metadata": {},
   "outputs": [],
   "source": [
    "os.makedirs(\"umar\")"
   ]
  },
  {
   "cell_type": "code",
   "execution_count": 15,
   "id": "e6b009fc-d3ad-4c9d-a88d-76e10c7f056a",
   "metadata": {},
   "outputs": [],
   "source": [
    "os.rename(\"umar\", \"umar_khan\")"
   ]
  },
  {
   "cell_type": "code",
   "execution_count": 17,
   "id": "226101e6-2cc9-4e1f-9455-777c21e1ef11",
   "metadata": {},
   "outputs": [],
   "source": [
    "os.removedirs(\"power bi\")"
   ]
  },
  {
   "cell_type": "code",
   "execution_count": 173,
   "id": "e9c11d12-527e-469e-8594-f7d63e4fee6d",
   "metadata": {},
   "outputs": [
    {
     "data": {
      "text/plain": [
       "<module 'os' (frozen)>"
      ]
     },
     "execution_count": 173,
     "metadata": {},
     "output_type": "execute_result"
    }
   ],
   "source": [
    "os"
   ]
  },
  {
   "cell_type": "code",
   "execution_count": 175,
   "id": "0a454432-2784-42b6-bff0-e32241522b88",
   "metadata": {},
   "outputs": [],
   "source": [
    "import sys"
   ]
  },
  {
   "cell_type": "code",
   "execution_count": 177,
   "id": "f5ec253c-c132-4bb4-a848-be56e7211160",
   "metadata": {},
   "outputs": [
    {
     "name": "stdout",
     "output_type": "stream",
     "text": [
      "['__breakpointhook__', '__displayhook__', '__doc__', '__excepthook__', '__interactivehook__', '__loader__', '__name__', '__package__', '__spec__', '__stderr__', '__stdin__', '__stdout__', '__unraisablehook__', '_base_executable', '_clear_type_cache', '_current_exceptions', '_current_frames', '_debugmallocstats', '_enablelegacywindowsfsencoding', '_framework', '_getframe', '_getframemodulename', '_git', '_home', '_setprofileallthreads', '_settraceallthreads', '_stdlib_dir', '_vpath', '_xoptions', 'activate_stack_trampoline', 'addaudithook', 'api_version', 'argv', 'audit', 'base_exec_prefix', 'base_prefix', 'breakpointhook', 'builtin_module_names', 'byteorder', 'call_tracing', 'copyright', 'deactivate_stack_trampoline', 'displayhook', 'dllhandle', 'dont_write_bytecode', 'exc_info', 'excepthook', 'exception', 'exec_prefix', 'executable', 'exit', 'flags', 'float_info', 'float_repr_style', 'get_asyncgen_hooks', 'get_coroutine_origin_tracking_depth', 'get_int_max_str_digits', 'getallocatedblocks', 'getdefaultencoding', 'getfilesystemencodeerrors', 'getfilesystemencoding', 'getprofile', 'getrecursionlimit', 'getrefcount', 'getsizeof', 'getswitchinterval', 'gettrace', 'getunicodeinternedsize', 'getwindowsversion', 'hash_info', 'hexversion', 'implementation', 'int_info', 'intern', 'is_finalizing', 'is_stack_trampoline_active', 'last_traceback', 'last_type', 'last_value', 'maxsize', 'maxunicode', 'meta_path', 'modules', 'monitoring', 'orig_argv', 'path', 'path_hooks', 'path_importer_cache', 'platform', 'platlibdir', 'prefix', 'ps1', 'ps2', 'ps3', 'pycache_prefix', 'set_asyncgen_hooks', 'set_coroutine_origin_tracking_depth', 'set_int_max_str_digits', 'setprofile', 'setrecursionlimit', 'setswitchinterval', 'settrace', 'stderr', 'stdin', 'stdlib_module_names', 'stdout', 'thread_info', 'unraisablehook', 'version', 'version_info', 'warnoptions', 'winver']\n"
     ]
    }
   ],
   "source": [
    "print(dir(sys))"
   ]
  },
  {
   "cell_type": "code",
   "execution_count": 179,
   "id": "b58fea79-e180-42e4-9aa2-9adba159a40e",
   "metadata": {},
   "outputs": [
    {
     "data": {
      "text/plain": [
       "['C:\\\\Users\\\\Asus\\\\Downloads',\n",
       " 'C:\\\\Users\\\\Asus\\\\anaconda3\\\\python312.zip',\n",
       " 'C:\\\\Users\\\\Asus\\\\anaconda3\\\\DLLs',\n",
       " 'C:\\\\Users\\\\Asus\\\\anaconda3\\\\Lib',\n",
       " 'C:\\\\Users\\\\Asus\\\\anaconda3',\n",
       " '',\n",
       " 'C:\\\\Users\\\\Asus\\\\anaconda3\\\\Lib\\\\site-packages',\n",
       " 'C:\\\\Users\\\\Asus\\\\anaconda3\\\\Lib\\\\site-packages\\\\win32',\n",
       " 'C:\\\\Users\\\\Asus\\\\anaconda3\\\\Lib\\\\site-packages\\\\win32\\\\lib',\n",
       " 'C:\\\\Users\\\\Asus\\\\anaconda3\\\\Lib\\\\site-packages\\\\Pythonwin',\n",
       " 'C:\\\\Users\\\\Asus\\\\anaconda3\\\\Lib\\\\site-packages\\\\setuptools\\\\_vendor']"
      ]
     },
     "execution_count": 179,
     "metadata": {},
     "output_type": "execute_result"
    }
   ],
   "source": [
    "sys.path"
   ]
  },
  {
   "cell_type": "code",
   "execution_count": 181,
   "id": "a4ca2cda-6608-47e2-8ded-9fa6c78c0d2e",
   "metadata": {},
   "outputs": [
    {
     "data": {
      "text/plain": [
       "'3.12.7 | packaged by Anaconda, Inc. | (main, Oct  4 2024, 13:17:27) [MSC v.1929 64 bit (AMD64)]'"
      ]
     },
     "execution_count": 181,
     "metadata": {},
     "output_type": "execute_result"
    }
   ],
   "source": [
    "sys.version"
   ]
  },
  {
   "cell_type": "code",
   "execution_count": 199,
   "id": "f1d6674a-c5c6-4700-b3e9-7f9c39f9a41c",
   "metadata": {},
   "outputs": [
    {
     "data": {
      "text/plain": [
       "sys.version_info(major=3, minor=12, micro=7, releaselevel='final', serial=0)"
      ]
     },
     "execution_count": 199,
     "metadata": {},
     "output_type": "execute_result"
    }
   ],
   "source": [
    "sys.version_info"
   ]
  },
  {
   "cell_type": "code",
   "execution_count": null,
   "id": "752ece5b-47d2-46f6-b924-1fe2f2936c91",
   "metadata": {},
   "outputs": [],
   "source": []
  },
  {
   "cell_type": "code",
   "execution_count": 202,
   "id": "c0d7f852-26b9-4e17-8420-1563e7f8a6ed",
   "metadata": {},
   "outputs": [],
   "source": [
    "import datetime"
   ]
  },
  {
   "cell_type": "code",
   "execution_count": 204,
   "id": "cf2f8803-a4cd-46b4-95aa-616e295446bc",
   "metadata": {},
   "outputs": [
    {
     "name": "stdout",
     "output_type": "stream",
     "text": [
      "['MAXYEAR', 'MINYEAR', 'UTC', '__all__', '__builtins__', '__cached__', '__doc__', '__file__', '__loader__', '__name__', '__package__', '__spec__', 'date', 'datetime', 'datetime_CAPI', 'time', 'timedelta', 'timezone', 'tzinfo']\n"
     ]
    }
   ],
   "source": [
    "print(dir(datetime))"
   ]
  },
  {
   "cell_type": "code",
   "execution_count": 206,
   "id": "11fea203-7d50-40d5-9cef-46430af1cd02",
   "metadata": {},
   "outputs": [
    {
     "data": {
      "text/plain": [
       "datetime.datetime(2025, 3, 5, 13, 20, 30, 194493)"
      ]
     },
     "execution_count": 206,
     "metadata": {},
     "output_type": "execute_result"
    }
   ],
   "source": [
    "datetime.datetime.now()"
   ]
  },
  {
   "cell_type": "code",
   "execution_count": 208,
   "id": "43a18574-d79d-4af2-8dbc-687fda24f701",
   "metadata": {},
   "outputs": [
    {
     "data": {
      "text/plain": [
       "datetime.datetime(2025, 3, 5, 13, 21, 17, 923782)"
      ]
     },
     "execution_count": 208,
     "metadata": {},
     "output_type": "execute_result"
    }
   ],
   "source": [
    "datetime.datetime.now()"
   ]
  },
  {
   "cell_type": "code",
   "execution_count": 210,
   "id": "25b4b401-67e5-455d-bca3-1cd0455a9a31",
   "metadata": {},
   "outputs": [
    {
     "data": {
      "text/plain": [
       "datetime.datetime(2025, 3, 5, 13, 21, 52, 418930)"
      ]
     },
     "execution_count": 210,
     "metadata": {},
     "output_type": "execute_result"
    }
   ],
   "source": [
    "datetime.datetime.now()"
   ]
  },
  {
   "cell_type": "code",
   "execution_count": 3,
   "id": "fd8c7c8b-2156-4e2b-98f7-cfac83d3fb21",
   "metadata": {},
   "outputs": [],
   "source": [
    "import datetime"
   ]
  },
  {
   "cell_type": "code",
   "execution_count": 5,
   "id": "83151a69-1f4d-4e2b-ac92-bfeff546a4c0",
   "metadata": {},
   "outputs": [
    {
     "name": "stdout",
     "output_type": "stream",
     "text": [
      "['MAXYEAR', 'MINYEAR', 'UTC', '__all__', '__builtins__', '__cached__', '__doc__', '__file__', '__loader__', '__name__', '__package__', '__spec__', 'date', 'datetime', 'datetime_CAPI', 'time', 'timedelta', 'timezone', 'tzinfo']\n"
     ]
    }
   ],
   "source": [
    "print(dir(datetime))"
   ]
  },
  {
   "cell_type": "code",
   "execution_count": 11,
   "id": "2715a301-8be4-444e-8b6e-3f68b452476e",
   "metadata": {},
   "outputs": [
    {
     "data": {
      "text/plain": [
       "datetime.datetime(2025, 3, 5, 23, 40, 46, 289124)"
      ]
     },
     "execution_count": 11,
     "metadata": {},
     "output_type": "execute_result"
    }
   ],
   "source": [
    "datetime.datetime.now()"
   ]
  },
  {
   "cell_type": "code",
   "execution_count": 13,
   "id": "c0dbe5e8-367c-41aa-bd34-7e498b609b6d",
   "metadata": {},
   "outputs": [
    {
     "data": {
      "text/plain": [
       "datetime.datetime(2025, 3, 5, 23, 42, 4, 188602)"
      ]
     },
     "execution_count": 13,
     "metadata": {},
     "output_type": "execute_result"
    }
   ],
   "source": [
    "datetime.datetime.now()"
   ]
  },
  {
   "cell_type": "code",
   "execution_count": 15,
   "id": "a18ee9d2-2334-44b1-b9eb-6d700c9ea321",
   "metadata": {},
   "outputs": [
    {
     "data": {
      "text/plain": [
       "datetime.datetime(2025, 3, 5, 23, 42, 20, 526086)"
      ]
     },
     "execution_count": 15,
     "metadata": {},
     "output_type": "execute_result"
    }
   ],
   "source": [
    "datetime.datetime.now()"
   ]
  },
  {
   "cell_type": "code",
   "execution_count": 17,
   "id": "219ea887-d406-4be4-9167-2edb158a6939",
   "metadata": {},
   "outputs": [
    {
     "data": {
      "text/plain": [
       "datetime.datetime(2025, 3, 5, 23, 42, 49, 45213)"
      ]
     },
     "execution_count": 17,
     "metadata": {},
     "output_type": "execute_result"
    }
   ],
   "source": [
    "datetime.datetime.now()"
   ]
  },
  {
   "cell_type": "code",
   "execution_count": 19,
   "id": "c7b26764-976e-4484-9915-a9cc87695c13",
   "metadata": {},
   "outputs": [
    {
     "data": {
      "text/plain": [
       "datetime.datetime(2025, 3, 5, 23, 43, 3, 77504)"
      ]
     },
     "execution_count": 19,
     "metadata": {},
     "output_type": "execute_result"
    }
   ],
   "source": [
    "datetime.datetime.now()"
   ]
  },
  {
   "cell_type": "code",
   "execution_count": 21,
   "id": "e82e1f6c-0fd2-4af3-9b01-e2a23094ac08",
   "metadata": {},
   "outputs": [
    {
     "data": {
      "text/plain": [
       "datetime.datetime(2025, 3, 5, 23, 43, 46, 104703)"
      ]
     },
     "execution_count": 21,
     "metadata": {},
     "output_type": "execute_result"
    }
   ],
   "source": [
    "datetime.datetime.now()"
   ]
  },
  {
   "cell_type": "code",
   "execution_count": 23,
   "id": "846f0a9c-803b-451b-98d5-9c63dfc5c4f9",
   "metadata": {},
   "outputs": [
    {
     "data": {
      "text/plain": [
       "datetime.datetime(2025, 3, 5, 23, 44, 40, 529009)"
      ]
     },
     "execution_count": 23,
     "metadata": {},
     "output_type": "execute_result"
    }
   ],
   "source": [
    "datetime.datetime.now()"
   ]
  },
  {
   "cell_type": "code",
   "execution_count": 25,
   "id": "b306e3f5-c119-48be-8875-4fec3265663c",
   "metadata": {},
   "outputs": [
    {
     "data": {
      "text/plain": [
       "datetime.datetime(2025, 3, 5, 23, 45, 54, 217278)"
      ]
     },
     "execution_count": 25,
     "metadata": {},
     "output_type": "execute_result"
    }
   ],
   "source": [
    "datetime.datetime.now()"
   ]
  },
  {
   "cell_type": "code",
   "execution_count": null,
   "id": "190c1a90-79c1-4dc5-b68f-10951156cea6",
   "metadata": {},
   "outputs": [],
   "source": []
  },
  {
   "cell_type": "code",
   "execution_count": 28,
   "id": "9cc1162e-e1dd-4a5d-a129-0a9d69f7549e",
   "metadata": {},
   "outputs": [],
   "source": [
    "import random"
   ]
  },
  {
   "cell_type": "code",
   "execution_count": 30,
   "id": "534572a9-28d5-4c5e-8405-40de644e805d",
   "metadata": {},
   "outputs": [],
   "source": [
    "import math"
   ]
  },
  {
   "cell_type": "code",
   "execution_count": 32,
   "id": "bc2ac53d-e899-47f3-881d-5ae5e18bbcb6",
   "metadata": {},
   "outputs": [],
   "source": [
    "import math as m "
   ]
  },
  {
   "cell_type": "code",
   "execution_count": 34,
   "id": "22156b60-d86e-4508-a7da-aa4168624d1b",
   "metadata": {},
   "outputs": [
    {
     "data": {
      "text/plain": [
       "3628800"
      ]
     },
     "execution_count": 34,
     "metadata": {},
     "output_type": "execute_result"
    }
   ],
   "source": [
    "m.factorial(10)"
   ]
  },
  {
   "cell_type": "code",
   "execution_count": 36,
   "id": "72c707f2-5471-4262-9bc4-c72695c469c7",
   "metadata": {},
   "outputs": [
    {
     "data": {
      "text/plain": [
       "1307674368000"
      ]
     },
     "execution_count": 36,
     "metadata": {},
     "output_type": "execute_result"
    }
   ],
   "source": [
    "m.factorial(15)"
   ]
  },
  {
   "cell_type": "code",
   "execution_count": 38,
   "id": "3b159597-cdad-47a0-9f42-e17342b302b5",
   "metadata": {},
   "outputs": [
    {
     "data": {
      "text/plain": [
       "39916800"
      ]
     },
     "execution_count": 38,
     "metadata": {},
     "output_type": "execute_result"
    }
   ],
   "source": [
    "m.factorial(11)"
   ]
  },
  {
   "cell_type": "code",
   "execution_count": 40,
   "id": "155f2774-acf7-4c04-bb21-10221fe4102c",
   "metadata": {},
   "outputs": [
    {
     "data": {
      "text/plain": [
       "479001600"
      ]
     },
     "execution_count": 40,
     "metadata": {},
     "output_type": "execute_result"
    }
   ],
   "source": [
    "m.factorial(12)"
   ]
  },
  {
   "cell_type": "code",
   "execution_count": 42,
   "id": "553c20d0-560f-4387-9adf-0addbe72a4d0",
   "metadata": {},
   "outputs": [
    {
     "data": {
      "text/plain": [
       "5040"
      ]
     },
     "execution_count": 42,
     "metadata": {},
     "output_type": "execute_result"
    }
   ],
   "source": [
    "m.factorial(7)"
   ]
  },
  {
   "cell_type": "code",
   "execution_count": 44,
   "id": "12fcb376-ada0-49c3-b28d-66b0d679c144",
   "metadata": {},
   "outputs": [
    {
     "data": {
      "text/plain": [
       "479001600"
      ]
     },
     "execution_count": 44,
     "metadata": {},
     "output_type": "execute_result"
    }
   ],
   "source": [
    "m.factorial(12)"
   ]
  },
  {
   "cell_type": "code",
   "execution_count": 46,
   "id": "aa132ea9-c2d4-4ea3-95eb-f79a6eb5c88d",
   "metadata": {},
   "outputs": [
    {
     "data": {
      "text/plain": [
       "3628800"
      ]
     },
     "execution_count": 46,
     "metadata": {},
     "output_type": "execute_result"
    }
   ],
   "source": [
    "m.factorial(10)"
   ]
  },
  {
   "cell_type": "code",
   "execution_count": 48,
   "id": "b72b8976-d14c-43aa-835d-95d9e0df8a8d",
   "metadata": {},
   "outputs": [],
   "source": [
    "from math import factorial"
   ]
  },
  {
   "cell_type": "code",
   "execution_count": 50,
   "id": "1bd1e2df-7560-423b-9767-38e3d8a97090",
   "metadata": {},
   "outputs": [
    {
     "data": {
      "text/plain": [
       "362880"
      ]
     },
     "execution_count": 50,
     "metadata": {},
     "output_type": "execute_result"
    }
   ],
   "source": [
    "factorial(9)"
   ]
  },
  {
   "cell_type": "code",
   "execution_count": 52,
   "id": "d60ef07e-09d2-4fdd-a8e8-b32fd3c7da3c",
   "metadata": {},
   "outputs": [
    {
     "data": {
      "text/plain": [
       "3628800"
      ]
     },
     "execution_count": 52,
     "metadata": {},
     "output_type": "execute_result"
    }
   ],
   "source": [
    "factorial(10)"
   ]
  },
  {
   "cell_type": "code",
   "execution_count": 54,
   "id": "5503a1fd-6e6b-497d-9b6d-b6028b0e8a76",
   "metadata": {},
   "outputs": [
    {
     "data": {
      "text/plain": [
       "479001600"
      ]
     },
     "execution_count": 54,
     "metadata": {},
     "output_type": "execute_result"
    }
   ],
   "source": [
    "factorial(12)"
   ]
  },
  {
   "cell_type": "code",
   "execution_count": 56,
   "id": "18fb8687-b559-4243-af3a-7009b9af3535",
   "metadata": {},
   "outputs": [
    {
     "data": {
      "text/plain": [
       "403291461126605635584000000"
      ]
     },
     "execution_count": 56,
     "metadata": {},
     "output_type": "execute_result"
    }
   ],
   "source": [
    "factorial(26)"
   ]
  },
  {
   "cell_type": "code",
   "execution_count": 58,
   "id": "b9571f4d-95aa-42c2-9ecf-557f123e3617",
   "metadata": {},
   "outputs": [],
   "source": [
    "import string "
   ]
  },
  {
   "cell_type": "code",
   "execution_count": 60,
   "id": "bcd220a2-df35-4152-82ab-4a21e68617eb",
   "metadata": {},
   "outputs": [
    {
     "data": {
      "text/plain": [
       "'0123456789'"
      ]
     },
     "execution_count": 60,
     "metadata": {},
     "output_type": "execute_result"
    }
   ],
   "source": [
    "string.digits"
   ]
  },
  {
   "cell_type": "code",
   "execution_count": 62,
   "id": "75c4ed06-9ee1-4cd2-8473-612517ff710b",
   "metadata": {},
   "outputs": [
    {
     "data": {
      "text/plain": [
       "'0123456789'"
      ]
     },
     "execution_count": 62,
     "metadata": {},
     "output_type": "execute_result"
    }
   ],
   "source": [
    "string.digits"
   ]
  },
  {
   "cell_type": "code",
   "execution_count": 64,
   "id": "57ab1488-f79e-493d-9da5-e9b32018e92c",
   "metadata": {},
   "outputs": [
    {
     "data": {
      "text/plain": [
       "'0123456789'"
      ]
     },
     "execution_count": 64,
     "metadata": {},
     "output_type": "execute_result"
    }
   ],
   "source": [
    "string.digits"
   ]
  },
  {
   "cell_type": "code",
   "execution_count": 66,
   "id": "dbda9ecc-a118-4930-af6e-6d44a3d225dc",
   "metadata": {},
   "outputs": [
    {
     "data": {
      "text/plain": [
       "'abcdefghijklmnopqrstuvwxyz'"
      ]
     },
     "execution_count": 66,
     "metadata": {},
     "output_type": "execute_result"
    }
   ],
   "source": [
    "string.ascii_lowercase"
   ]
  },
  {
   "cell_type": "code",
   "execution_count": 68,
   "id": "ef804d5b-81c2-45c9-9738-2085e0cae59d",
   "metadata": {},
   "outputs": [
    {
     "data": {
      "text/plain": [
       "'abcdefghijklmnopqrstuvwxyzABCDEFGHIJKLMNOPQRSTUVWXYZ'"
      ]
     },
     "execution_count": 68,
     "metadata": {},
     "output_type": "execute_result"
    }
   ],
   "source": [
    "string.ascii_letters"
   ]
  },
  {
   "cell_type": "code",
   "execution_count": 70,
   "id": "6e689f23-7764-4db6-8fb5-81f30f20b08e",
   "metadata": {},
   "outputs": [
    {
     "data": {
      "text/plain": [
       "'ABCDEFGHIJKLMNOPQRSTUVWXYZ'"
      ]
     },
     "execution_count": 70,
     "metadata": {},
     "output_type": "execute_result"
    }
   ],
   "source": [
    "string.ascii_uppercase"
   ]
  },
  {
   "cell_type": "code",
   "execution_count": 72,
   "id": "d979e1e6-ad47-4fd9-bc7f-a7f1f2f72a18",
   "metadata": {},
   "outputs": [
    {
     "data": {
      "text/plain": [
       "'abcdefghijklmnopqrstuvwxyz'"
      ]
     },
     "execution_count": 72,
     "metadata": {},
     "output_type": "execute_result"
    }
   ],
   "source": [
    "string.ascii_lowercase"
   ]
  },
  {
   "cell_type": "code",
   "execution_count": 74,
   "id": "4bffa0cc-75f9-4854-b21b-d1851799d815",
   "metadata": {},
   "outputs": [],
   "source": [
    "import random "
   ]
  },
  {
   "cell_type": "code",
   "execution_count": 76,
   "id": "2bbf2f43-a1cc-4176-9607-c92f3d205799",
   "metadata": {},
   "outputs": [],
   "source": [
    "fruits = [\"apple\", \"banana\", \"grapes\", \"mango\"]"
   ]
  },
  {
   "cell_type": "code",
   "execution_count": 78,
   "id": "a9717bdb-4fad-447b-9682-2a8f2b98eedc",
   "metadata": {},
   "outputs": [
    {
     "data": {
      "text/plain": [
       "'banana'"
      ]
     },
     "execution_count": 78,
     "metadata": {},
     "output_type": "execute_result"
    }
   ],
   "source": [
    "random.choice(fruits)"
   ]
  },
  {
   "cell_type": "code",
   "execution_count": 84,
   "id": "97c472b8-bb42-41ab-9be2-afa04b041bd0",
   "metadata": {},
   "outputs": [
    {
     "data": {
      "text/plain": [
       "'mango'"
      ]
     },
     "execution_count": 84,
     "metadata": {},
     "output_type": "execute_result"
    }
   ],
   "source": [
    "random.choice(fruits)"
   ]
  },
  {
   "cell_type": "code",
   "execution_count": 86,
   "id": "1e39749b-ebc5-4d4f-acbb-037a716f0dd8",
   "metadata": {},
   "outputs": [
    {
     "data": {
      "text/plain": [
       "'grapes'"
      ]
     },
     "execution_count": 86,
     "metadata": {},
     "output_type": "execute_result"
    }
   ],
   "source": [
    "random.choice(fruits)"
   ]
  },
  {
   "cell_type": "code",
   "execution_count": 88,
   "id": "dc8d0b8a-061a-49a6-9773-80aa6e49dd3a",
   "metadata": {},
   "outputs": [
    {
     "data": {
      "text/plain": [
       "'banana'"
      ]
     },
     "execution_count": 88,
     "metadata": {},
     "output_type": "execute_result"
    }
   ],
   "source": [
    "random.choice(fruits)"
   ]
  },
  {
   "cell_type": "code",
   "execution_count": 90,
   "id": "b642a793-abdf-4d81-8671-1a386a64e6ee",
   "metadata": {},
   "outputs": [
    {
     "data": {
      "text/plain": [
       "'banana'"
      ]
     },
     "execution_count": 90,
     "metadata": {},
     "output_type": "execute_result"
    }
   ],
   "source": [
    "random.choice(fruits)"
   ]
  },
  {
   "cell_type": "code",
   "execution_count": null,
   "id": "c44d4615-9180-4415-925e-dac3a0cf9b73",
   "metadata": {},
   "outputs": [],
   "source": []
  },
  {
   "cell_type": "code",
   "execution_count": 97,
   "id": "e1f41b74-e710-4726-87c9-cfef258d710c",
   "metadata": {},
   "outputs": [],
   "source": [
    "fruits = [\"apple\", \"banana\", \"mango\"]\n",
    "prob = [0.3, 0.2, 0.5]"
   ]
  },
  {
   "cell_type": "code",
   "execution_count": 101,
   "id": "c3bcdda3-65e5-4ae8-9d31-127f109227f4",
   "metadata": {},
   "outputs": [
    {
     "data": {
      "text/plain": [
       "['apple']"
      ]
     },
     "execution_count": 101,
     "metadata": {},
     "output_type": "execute_result"
    }
   ],
   "source": [
    "random.choices(fruits, weights=prob)"
   ]
  },
  {
   "cell_type": "code",
   "execution_count": 105,
   "id": "85729141-6e4e-4762-9093-75d97f016801",
   "metadata": {},
   "outputs": [
    {
     "data": {
      "text/plain": [
       "['banana']"
      ]
     },
     "execution_count": 105,
     "metadata": {},
     "output_type": "execute_result"
    }
   ],
   "source": [
    "random.choices(fruits, weights=prob)"
   ]
  },
  {
   "cell_type": "code",
   "execution_count": 109,
   "id": "e6954341-a451-421f-ab29-21fb584aaed3",
   "metadata": {},
   "outputs": [
    {
     "data": {
      "text/plain": [
       "['mango']"
      ]
     },
     "execution_count": 109,
     "metadata": {},
     "output_type": "execute_result"
    }
   ],
   "source": [
    "random.choices(fruits, weights=prob)"
   ]
  },
  {
   "cell_type": "code",
   "execution_count": 113,
   "id": "fdd7742e-3714-40a5-82e7-4ca789481ef8",
   "metadata": {},
   "outputs": [
    {
     "name": "stdout",
     "output_type": "stream",
     "text": [
      "['mango']\n",
      "['mango']\n",
      "['apple']\n",
      "['mango']\n",
      "['mango']\n",
      "['mango']\n",
      "['apple']\n",
      "['apple']\n",
      "['mango']\n",
      "['mango']\n"
     ]
    }
   ],
   "source": [
    "for i in range (10):\n",
    "    print(random.choices(fruits, weights=prob))"
   ]
  },
  {
   "cell_type": "code",
   "execution_count": 115,
   "id": "93807f9d-5272-48cc-bc5d-7f34e2ab719c",
   "metadata": {},
   "outputs": [
    {
     "name": "stdout",
     "output_type": "stream",
     "text": [
      "['mango']\n",
      "['mango']\n",
      "['banana']\n",
      "['mango']\n",
      "['apple']\n",
      "['mango']\n",
      "['mango']\n",
      "['mango']\n",
      "['apple']\n",
      "['mango']\n",
      "['mango']\n",
      "['mango']\n"
     ]
    }
   ],
   "source": [
    "for i in range (12):\n",
    "    print(random.choices(fruits, weights=prob))"
   ]
  },
  {
   "cell_type": "code",
   "execution_count": null,
   "id": "deda296f-9f4e-4f3c-963f-4746008bff02",
   "metadata": {},
   "outputs": [],
   "source": [
    "# Write a function to find the sum of digits of a number.\n",
    "# Write a function to check if a number is prime."
   ]
  },
  {
   "cell_type": "code",
   "execution_count": null,
   "id": "408ed9d4-12a0-449d-993f-594c8a2dd32a",
   "metadata": {},
   "outputs": [],
   "source": [
    "Ques1.Write a function to find the sum of digits of a number.\n",
    "    \n",
    "def sum_of_digits(n):\n",
    "    return sum(int(i) for i in str(n))\n",
    "\n",
    "num = 1450\n",
    "print(f\"The sum of digits of {num} is {sum_of_digits(num)}\")\n",
    "\n",
    "\n",
    "\n",
    "\n",
    "\n",
    "\n",
    "Ques2. Write a function to check if a number is prime.\n",
    "\n",
    "def prime_number(n):\n",
    "    \"\"\"Check if a number is prime.\"\"\"\n",
    "    if n <= 1:\n",
    "        return False\n",
    "    for i in range(2, int(n**0.5) + 1):\n",
    "        if n % i == 0:\n",
    "            return False\n",
    "    return True\n",
    "\n",
    "number = int(input(\"Enter a number: \"))\n",
    "print(f\"{number} is {'a prime' if prime_number(number) else 'not a prime'} number.\")"
   ]
  },
  {
   "cell_type": "code",
   "execution_count": 19,
   "id": "58abc208-a6ec-4483-8917-f16d651648c6",
   "metadata": {},
   "outputs": [
    {
     "name": "stdout",
     "output_type": "stream",
     "text": [
      "The sum of digits of 1450 is 10\n"
     ]
    }
   ],
   "source": [
    "def sum_of_digits(n):\n",
    "    return sum(int(i) for i in str(n))\n",
    "\n",
    "num = 1450\n",
    "print(f\"The sum of digits of {num} is {sum_of_digits(num)}\")"
   ]
  },
  {
   "cell_type": "code",
   "execution_count": 27,
   "id": "252b63f3-9d60-4bab-8f93-5136c4d0047f",
   "metadata": {},
   "outputs": [
    {
     "name": "stdin",
     "output_type": "stream",
     "text": [
      "Enter a number:  145\n"
     ]
    },
    {
     "name": "stdout",
     "output_type": "stream",
     "text": [
      "145 is not a prime number.\n"
     ]
    }
   ],
   "source": [
    "def prime_number(n):\n",
    "    \"\"\"Check if a number is prime.\"\"\"\n",
    "    if n <= 1:\n",
    "        return False\n",
    "    for i in range(2, int(n**0.5) + 1):\n",
    "        if n % i == 0:\n",
    "            return False\n",
    "    return True\n",
    "\n",
    "number = int(input(\"Enter a number: \"))\n",
    "print(f\"{number} is {'a prime' if prime_number(number) else 'not a prime'} number.\")"
   ]
  },
  {
   "cell_type": "code",
   "execution_count": null,
   "id": "5b35a736-6f34-4458-bfa7-baf00f777d5c",
   "metadata": {},
   "outputs": [],
   "source": []
  }
 ],
 "metadata": {
  "kernelspec": {
   "display_name": "Python [conda env:base] *",
   "language": "python",
   "name": "conda-base-py"
  },
  "language_info": {
   "codemirror_mode": {
    "name": "ipython",
    "version": 3
   },
   "file_extension": ".py",
   "mimetype": "text/x-python",
   "name": "python",
   "nbconvert_exporter": "python",
   "pygments_lexer": "ipython3",
   "version": "3.12.7"
  }
 },
 "nbformat": 4,
 "nbformat_minor": 5
}
