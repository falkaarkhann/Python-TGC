{
 "cells": [
  {
   "cell_type": "code",
   "execution_count": null,
   "id": "bc45f43c-fd36-4cdb-ba26-106eddfb7c9b",
   "metadata": {},
   "outputs": [],
   "source": []
  },
  {
   "cell_type": "code",
   "execution_count": null,
   "id": "07165bd4-d7be-4b25-ac97-b40afa9d6c54",
   "metadata": {},
   "outputs": [],
   "source": [
    "1. (c)\n",
    "2. (b)\n",
    "3. (b)\n",
    "4. (d)\n",
    "5. (c)\n",
    "6. (d)\n",
    "7. (a)\n",
    "8. (a)\n",
    "9. (a)\n",
    "10. (a)\n",
    "11. (b)\n",
    "12. (b)\n",
    "13. (b)\n",
    "14. (b)\n",
    "15. (b)\n",
    "16. (b)\n",
    "17. ()\n",
    "18. (a)\n",
    "19. (a)\n",
    "20. (b)\n",
    "21. ()\n",
    "22. (a)\n",
    "23. ()\n",
    "24. (a)\n",
    "25. (a)\n",
    "26. (b)\n",
    "27. (b)\n",
    "28. (a)\n",
    "29. (b)\n",
    "30. (b)\n",
    "31. (b)\n",
    "32. (a)\n",
    "33. (a)\n",
    "34. (b)\n",
    "35. (b) \n",
    "36. (b)\n",
    "37. (a)\n",
    "38. (b)\n",
    "39. ()\n",
    "40. (b)"
   ]
  },
  {
   "cell_type": "code",
   "execution_count": 6,
   "id": "21d81617-c366-4144-bf45-bc6f6d2a0626",
   "metadata": {},
   "outputs": [
    {
     "name": "stdout",
     "output_type": "stream",
     "text": [
      "24 is a prime number\n"
     ]
    }
   ],
   "source": [
    "# Ques. 1\n",
    "\n",
    "def check_prime(n):\n",
    "    if n <= 1:\n",
    "        return False\n",
    "    for i in range(2, int(n**0.5) + 1):\n",
    "        if n % i == 0:\n",
    "            return False\n",
    "    return True\n",
    "\n",
    "num = 24\n",
    "print(f\"{num} is a prime number\")"
   ]
  },
  {
   "cell_type": "code",
   "execution_count": null,
   "id": "e44e6861-4cc1-48c4-ac9c-d80910764ec6",
   "metadata": {},
   "outputs": [
    {
     "name": "stdout",
     "output_type": "stream",
     "text": [
      "Sum of the digits of 6785 is 26\n"
     ]
    }
   ],
   "source": [
    "# Ques. 3\n",
    "\n",
    "def sum_of_digits(n):\n",
    "    return sum(int(num) for num in str(n))\n",
    "\n",
    "num = 6785\n",
    "print(f\"Sum of the digits of {num} is {sum_of_digits(num)}\")"
   ]
  },
  {
   "cell_type": "code",
   "execution_count": 2,
   "id": "03c1b7c3-27aa-4e4b-b37d-ddbe8018ee48",
   "metadata": {},
   "outputs": [
    {
     "name": "stdout",
     "output_type": "stream",
     "text": [
      "2025 is a leap year\n"
     ]
    }
   ],
   "source": [
    "# Ques. 10\n",
    "\n",
    "def check_leapyear(year):\n",
    "    return (year % 4 == 0 and year % 100 != 0) or (year % 400 == 0)\n",
    "\n",
    "year = 2025\n",
    "print(f\"{year} is a leap year\")"
   ]
  },
  {
   "cell_type": "code",
   "execution_count": 5,
   "id": "0d3b03db-4396-4c8f-946e-0aeebd131474",
   "metadata": {},
   "outputs": [
    {
     "name": "stdout",
     "output_type": "stream",
     "text": [
      "2024 is a leap year: True\n"
     ]
    }
   ],
   "source": [
    "def is_leap_year(year):\n",
    "    return (year % 4 == 0 and year % 100 != 0) or (year % 400 == 0)\n",
    "\n",
    "year = 2024\n",
    "print(f\"{year} is a leap year: {is_leap_year(year)}\")"
   ]
  },
  {
   "cell_type": "code",
   "execution_count": 40,
   "id": "e172594b-0d7f-4290-81c5-93f1d7b48676",
   "metadata": {},
   "outputs": [
    {
     "name": "stdout",
     "output_type": "stream",
     "text": [
      "Factorial of 5 is 120\n"
     ]
    }
   ],
   "source": [
    "# Ques. 2\n",
    "\n",
    "def factorial(n):\n",
    "    if n < 0:\n",
    "        return \"Factorial not defined for negative numbers.\"\n",
    "    elif n == 0:\n",
    "        return 1\n",
    "    else:\n",
    "        result = 1\n",
    "        for i in range(1, n + 1):\n",
    "            result *= i\n",
    "        return result\n",
    "\n",
    "num = 5\n",
    "print(f\"Factorial of {num} is {factorial(num)}\")"
   ]
  },
  {
   "cell_type": "code",
   "execution_count": null,
   "id": "019bc5c7-f288-4128-b44e-08f998d71ffd",
   "metadata": {},
   "outputs": [],
   "source": []
  },
  {
   "cell_type": "code",
   "execution_count": 44,
   "id": "6e3f2c79-b1b0-4ab3-8ad8-6a43ab7a2454",
   "metadata": {},
   "outputs": [
    {
     "name": "stdout",
     "output_type": "stream",
     "text": [
      "Reversed: olleH\n"
     ]
    }
   ],
   "source": [
    "# Ques. 5\n",
    "\n",
    "def reverse_string(s):\n",
    "    reversed_str = \"\"\n",
    "    for i in s:\n",
    "        reversed_str = i + reversed_str\n",
    "    return reversed_str\n",
    "\n",
    "original_str = \"Hello\"\n",
    "print(f\"Reversed: {reverse_string(original_str)}\")"
   ]
  },
  {
   "cell_type": "code",
   "execution_count": 50,
   "id": "1722a187-a011-4a82-990e-a6d6e700eb63",
   "metadata": {},
   "outputs": [
    {
     "name": "stdout",
     "output_type": "stream",
     "text": [
      "List without duplicates: [1, 2, 3, 4, 5, 6, 10, 22, 23, 24, 26]\n"
     ]
    }
   ],
   "source": [
    "# Ques. 9\n",
    "\n",
    "def remove_duplicates(lst):\n",
    "    return list(set(lst))\n",
    "\n",
    "items = [1, 3, 2, 10, 5, 6, 10, 6, 22, 23, 24, 26, 22, 2, 3, 6, 5, 4]\n",
    "print(f\"List without duplicates: {remove_duplicates(items)}\")"
   ]
  },
  {
   "cell_type": "code",
   "execution_count": 75,
   "id": "57551403-d9b3-4f1a-bb31-adbcdb111b5c",
   "metadata": {},
   "outputs": [],
   "source": [
    "# Ques. 6\n",
    "\n",
    "def word_count(sent):\n",
    "    \"\"\"This will be counting number of words\"\"\"\n",
    "    word_list = sent.split()\n",
    "    wordfreq ={}\n",
    "    for w in word_list:\n",
    "        wordfreq[w] = wordfreq.get(w,0) +1\n",
    "    return wordfreq"
   ]
  },
  {
   "cell_type": "code",
   "execution_count": 78,
   "id": "f04ad15f-1c6f-4bca-bbef-81c0d6f03c6e",
   "metadata": {},
   "outputs": [],
   "source": [
    "sent = 'Python is an easy programming language. Python is fun. Its easy to learn.'"
   ]
  },
  {
   "cell_type": "code",
   "execution_count": 79,
   "id": "3409e688-fd44-4a3b-879b-50b7d321e92d",
   "metadata": {},
   "outputs": [
    {
     "data": {
      "text/plain": [
       "{'Python': 2,\n",
       " 'is': 2,\n",
       " 'an': 1,\n",
       " 'easy': 2,\n",
       " 'programming': 1,\n",
       " 'language.': 1,\n",
       " 'fun.': 1,\n",
       " 'Its': 1,\n",
       " 'to': 1,\n",
       " 'learn.': 1}"
      ]
     },
     "execution_count": 79,
     "metadata": {},
     "output_type": "execute_result"
    }
   ],
   "source": [
    "word_count(sent)"
   ]
  },
  {
   "cell_type": "code",
   "execution_count": 54,
   "id": "7076d603-3add-460b-b1ea-d818eab7a36f",
   "metadata": {},
   "outputs": [
    {
     "name": "stdout",
     "output_type": "stream",
     "text": [
      "radar is a palindrome\n"
     ]
    }
   ],
   "source": [
    "# Ques. 7\n",
    "\n",
    "def is_palindrome(s):\n",
    "    return s == s[::-1]\n",
    "\n",
    "test_string = \"radar\"\n",
    "print(f\"{test_string} is a palindrome\")"
   ]
  },
  {
   "cell_type": "code",
   "execution_count": null,
   "id": "64e4c5b2-2ad9-4816-9945-c08fc1237b15",
   "metadata": {},
   "outputs": [],
   "source": []
  },
  {
   "cell_type": "code",
   "execution_count": null,
   "id": "e2b9f93b-dc65-46ea-bde4-c8895a20b394",
   "metadata": {},
   "outputs": [],
   "source": []
  }
 ],
 "metadata": {
  "kernelspec": {
   "display_name": "Python 3",
   "language": "python",
   "name": "python3"
  },
  "language_info": {
   "codemirror_mode": {
    "name": "ipython",
    "version": 3
   },
   "file_extension": ".py",
   "mimetype": "text/x-python",
   "name": "python",
   "nbconvert_exporter": "python",
   "pygments_lexer": "ipython3",
   "version": "3.13.3"
  }
 },
 "nbformat": 4,
 "nbformat_minor": 5
}
