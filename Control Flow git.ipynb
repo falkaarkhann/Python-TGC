{
 "cells": [
  {
   "cell_type": "markdown",
   "id": "1ee818b4-8093-4c92-ad2f-0fbc7f60c79e",
   "metadata": {},
   "source": [
    "# Control Flow:\n",
    "* Conditionals Statements\n",
    "* Loops"
   ]
  },
  {
   "cell_type": "code",
   "execution_count": 11,
   "id": "4cbc900b-9bc4-4cc8-a57b-6a712d2efbfe",
   "metadata": {},
   "outputs": [
    {
     "name": "stdin",
     "output_type": "stream",
     "text": [
      "Enter your age... 40\n"
     ]
    }
   ],
   "source": [
    "age = int(input(\"Enter your age...\"))"
   ]
  },
  {
   "cell_type": "code",
   "execution_count": 13,
   "id": "e34222fa-e031-43a9-9a9e-e376ee67ab1a",
   "metadata": {},
   "outputs": [
    {
     "name": "stdout",
     "output_type": "stream",
     "text": [
      "You are eligible for voting...\n",
      "voting is your right...\n"
     ]
    }
   ],
   "source": [
    "if age >= 40:\n",
    "                print(\"You are eligible for voting...\")\n",
    "                print(\"voting is your right...\")\n",
    "else:\n",
    "\n",
    "                print(\"You are a kid...\")\n",
    "                print(\"Grow up first..\")\n"
   ]
  },
  {
   "cell_type": "code",
   "execution_count": 3,
   "id": "b1e5945e-1cd3-4e39-b221-be0b58164165",
   "metadata": {},
   "outputs": [
    {
     "name": "stdin",
     "output_type": "stream",
     "text": [
      "Enter your age 20\n"
     ]
    }
   ],
   "source": [
    "my_age = int(input(\"Enter your age\"))"
   ]
  },
  {
   "cell_type": "code",
   "execution_count": 7,
   "id": "b5629156-bcae-47d2-8dd5-e9c627f736fd",
   "metadata": {},
   "outputs": [
    {
     "name": "stdout",
     "output_type": "stream",
     "text": [
      "You are eligible for voting..\n",
      "voting is your right..\n"
     ]
    }
   ],
   "source": [
    "if my_age >= 20:\n",
    "                    print(\"You are eligible for voting..\")\n",
    "                    print(\"voting is your right..\")\n",
    "else:\n",
    "                    print(\"You are a kid\")\n",
    "                    print(\"Grow up first..\")"
   ]
  },
  {
   "cell_type": "code",
   "execution_count": null,
   "id": "6b845923-4e73-421a-8cde-16c80455408d",
   "metadata": {},
   "outputs": [],
   "source": []
  },
  {
   "cell_type": "code",
   "execution_count": 1,
   "id": "0d144910-c21a-42d7-a45a-2c08a197b466",
   "metadata": {},
   "outputs": [
    {
     "name": "stdin",
     "output_type": "stream",
     "text": [
      "Enter your age.. 50\n"
     ]
    }
   ],
   "source": [
    "age = int(input(\"Enter your age..\"))"
   ]
  },
  {
   "cell_type": "code",
   "execution_count": 3,
   "id": "895205e8-75e4-401b-be89-67682bd7069c",
   "metadata": {},
   "outputs": [
    {
     "name": "stdout",
     "output_type": "stream",
     "text": [
      "You are eligible for voting...\n",
      "voting is your right....\n"
     ]
    }
   ],
   "source": [
    "if age >= 50:\n",
    "                print(\"You are eligible for voting...\")\n",
    "                print(\"voting is your right....\")\n",
    "else:\n",
    "                print(\"You are a kid....\")\n",
    "                print(\"Grow up first...\")"
   ]
  },
  {
   "cell_type": "code",
   "execution_count": 5,
   "id": "8a92f229-359c-4d89-9df2-37bbbe41ef36",
   "metadata": {},
   "outputs": [
    {
     "name": "stdout",
     "output_type": "stream",
     "text": [
      "You are eligible for voting...\n",
      "voting is your right...\n"
     ]
    }
   ],
   "source": [
    "if age>= 50:\n",
    "                print(\"You are eligible for voting...\")\n",
    "                print(\"voting is your right...\")\n",
    "else:\n",
    "                print(\"You are a kid..\")\n",
    "                print(\"grow up first...\")"
   ]
  },
  {
   "cell_type": "code",
   "execution_count": 1,
   "id": "fca830d4-dbd1-4823-ba17-186b7710d694",
   "metadata": {},
   "outputs": [
    {
     "name": "stdin",
     "output_type": "stream",
     "text": [
      "Enter your age 30\n"
     ]
    }
   ],
   "source": [
    "age = int(input(\"Enter your age\"))"
   ]
  },
  {
   "cell_type": "code",
   "execution_count": 15,
   "id": "6570a9a3-d838-46c6-b63a-7c9371693371",
   "metadata": {},
   "outputs": [
    {
     "name": "stdout",
     "output_type": "stream",
     "text": [
      "You are eligible for voting...\n",
      "Voting is your right....\n"
     ]
    }
   ],
   "source": [
    "if age >= 30:\n",
    "                print(\"You are eligible for voting...\")\n",
    "                print(\"Voting is your right....\")\n",
    "else:\n",
    "                print(\"You are a kid...\")\n",
    "                print(\"Grow up first....\")"
   ]
  },
  {
   "cell_type": "code",
   "execution_count": 14,
   "id": "46806a99-9942-4b3e-9a33-7f0e146537b7",
   "metadata": {},
   "outputs": [],
   "source": [
    "j = 150"
   ]
  },
  {
   "cell_type": "code",
   "execution_count": 5,
   "id": "dcfbc068-70cd-4387-afae-094e290a7102",
   "metadata": {},
   "outputs": [],
   "source": [
    "s = 15"
   ]
  },
  {
   "cell_type": "code",
   "execution_count": 7,
   "id": "992793b4-10f2-4343-8c57-e61843e7fdb9",
   "metadata": {},
   "outputs": [],
   "source": [
    "a =10"
   ]
  },
  {
   "cell_type": "code",
   "execution_count": null,
   "id": "c287eaa8-6796-4031-be36-a463ce9aa463",
   "metadata": {},
   "outputs": [],
   "source": [
    "# Conditional Statement: \n",
    "if\n",
    "else if - elif\n",
    "\n",
    "syntax: \n",
    "\n",
    "if (condition/expression):\n",
    "    logic \n",
    "    logic\n",
    "    print\n",
    "else if (condition):\n",
    "    logic \n",
    "    logic\n",
    "else:\n",
    "    logic \n",
    "    logic\n",
    "    "
   ]
  },
  {
   "cell_type": "code",
   "execution_count": 25,
   "id": "2b524a51-0d30-4dae-a0c3-7f35535b0d50",
   "metadata": {},
   "outputs": [
    {
     "name": "stdin",
     "output_type": "stream",
     "text": [
      "Enter your father_name.. Azhar Khan\n"
     ]
    }
   ],
   "source": [
    "father_name = (input(\"Enter your father_name..\"))"
   ]
  },
  {
   "cell_type": "code",
   "execution_count": 19,
   "id": "64e366d5-636f-4dc8-8238-b47f65bd068a",
   "metadata": {},
   "outputs": [
    {
     "name": "stdin",
     "output_type": "stream",
     "text": [
      "Enter your name.. Umar Khan\n"
     ]
    }
   ],
   "source": [
    "name = (input(\"Enter your name..\"))"
   ]
  },
  {
   "cell_type": "code",
   "execution_count": 16,
   "id": "7c7ef02e-e710-4a47-9b44-1bbe4f3eb34e",
   "metadata": {},
   "outputs": [
    {
     "name": "stdin",
     "output_type": "stream",
     "text": [
      "Enter your age 14\n"
     ]
    }
   ],
   "source": [
    "age = int(input(\"Enter your age\"))"
   ]
  },
  {
   "cell_type": "code",
   "execution_count": 1,
   "id": "ea942ccd-9abd-4651-8aa0-863ebc7f4bd8",
   "metadata": {},
   "outputs": [
    {
     "name": "stdin",
     "output_type": "stream",
     "text": [
      "Enter your age 22\n"
     ]
    }
   ],
   "source": [
    "age = int(input(\"Enter your age\"))"
   ]
  },
  {
   "cell_type": "code",
   "execution_count": 7,
   "id": "2a3b4ede-18ef-4a7a-b107-62b417fefd24",
   "metadata": {},
   "outputs": [
    {
     "name": "stdin",
     "output_type": "stream",
     "text": [
      "Enter your age 23\n"
     ]
    }
   ],
   "source": [
    "age = int(input(\"Enter your age\"))"
   ]
  },
  {
   "cell_type": "code",
   "execution_count": null,
   "id": "80f93ebd-b959-4fd3-9b58-f86e093820f9",
   "metadata": {},
   "outputs": [],
   "source": []
  },
  {
   "cell_type": "code",
   "execution_count": null,
   "id": "e4392b6a-6e46-4f16-a30b-c0242f603416",
   "metadata": {},
   "outputs": [],
   "source": []
  },
  {
   "cell_type": "code",
   "execution_count": 1,
   "id": "50a39d33-f6ee-461b-a200-931bfc642bdf",
   "metadata": {},
   "outputs": [
    {
     "name": "stdin",
     "output_type": "stream",
     "text": [
      "Enter your age 30\n"
     ]
    }
   ],
   "source": [
    "age = int(input(\"Enter your age\"))"
   ]
  },
  {
   "cell_type": "code",
   "execution_count": 5,
   "id": "90b00bb3-68c3-4c18-9d50-10e11b5df9c2",
   "metadata": {},
   "outputs": [
    {
     "name": "stdout",
     "output_type": "stream",
     "text": [
      "You are eligible for voting...\n",
      "voting is your right...\n"
     ]
    }
   ],
   "source": [
    "if age >= 30:\n",
    "                print(\"You are eligible for voting...\")\n",
    "                print(\"voting is your right...\")\n",
    "else:\n",
    "                print(\"You are a kid..\")\n",
    "                print(\"Grow up first..\")"
   ]
  },
  {
   "cell_type": "code",
   "execution_count": 3,
   "id": "7c99b5b2-0a9e-4e30-b768-e7dd43d47dab",
   "metadata": {},
   "outputs": [
    {
     "name": "stdout",
     "output_type": "stream",
     "text": [
      "You are eligible for voting...\n",
      "voting is your right...\n"
     ]
    }
   ],
   "source": [
    "if age >= 22:\n",
    "                    print(\"You are eligible for voting...\")\n",
    "                    print(\"voting is your right...\")\n",
    "else:\n",
    "                    print(\"You are a kid...\")\n",
    "                    print(\"Grow up first...\")"
   ]
  },
  {
   "cell_type": "code",
   "execution_count": 34,
   "id": "8ecfb719-7929-4aed-8a85-6a8ba8739254",
   "metadata": {},
   "outputs": [
    {
     "name": "stdout",
     "output_type": "stream",
     "text": [
      "Tou are a kid\n",
      "Grow up first\n"
     ]
    }
   ],
   "source": [
    "if age >= 18:\n",
    "                print(\"You are eligible for voting..\")\n",
    "                print(\"voting is your right\") \n",
    "else:\n",
    "                print(\"Tou are a kid\")\n",
    "                print(\"Grow up first\")"
   ]
  },
  {
   "cell_type": "code",
   "execution_count": 9,
   "id": "b957a288-23c0-4ae9-95a2-d633dfb93600",
   "metadata": {},
   "outputs": [
    {
     "name": "stdout",
     "output_type": "stream",
     "text": [
      "You are eligible for voting..\n",
      "Voting is your right\n"
     ]
    }
   ],
   "source": [
    "if age>=18:\n",
    "#IndentationError\n",
    "        print(\"You are eligible for voting..\")\n",
    "        print(\"Voting is your right\")\n",
    "else:\n",
    "        print(\"You are kid\")\n",
    "        print(\"Grow up first\")"
   ]
  },
  {
   "cell_type": "code",
   "execution_count": 20,
   "id": "fdefcf97-86a1-486d-a6db-91121568df4b",
   "metadata": {},
   "outputs": [
    {
     "name": "stdout",
     "output_type": "stream",
     "text": [
      "You are kid\n",
      "Grow up first\n"
     ]
    }
   ],
   "source": [
    "if age>=18:\n",
    "                 print(\"You are eligible for voting..\")\n",
    "                 print(\"Voting is your right\")\n",
    "else:\n",
    "                 print(\"You are kid\")\n",
    "                 print(\"Grow up first\")"
   ]
  },
  {
   "cell_type": "code",
   "execution_count": 38,
   "id": "7a09cfc6-cf77-4666-bed2-b00c42f872e8",
   "metadata": {},
   "outputs": [
    {
     "name": "stdout",
     "output_type": "stream",
     "text": [
      "You are kid\n"
     ]
    }
   ],
   "source": [
    "if age>=18:\n",
    "    print(\"You are eligible for voting\")\n",
    "else:\n",
    "    print(\"You are kid\")"
   ]
  },
  {
   "cell_type": "code",
   "execution_count": 11,
   "id": "3e03194c-d054-42c7-af70-06b24ef0b294",
   "metadata": {},
   "outputs": [
    {
     "name": "stdout",
     "output_type": "stream",
     "text": [
      "You are eligible for voting...\n"
     ]
    }
   ],
   "source": [
    "if age>=18:\n",
    "    print(\"You are eligible for voting...\")\n",
    "else:\n",
    "    print(\"You are a kid...\")"
   ]
  },
  {
   "cell_type": "code",
   "execution_count": 5,
   "id": "d210b2c5-fce2-4d35-9c25-bf70b5c218a4",
   "metadata": {},
   "outputs": [
    {
     "name": "stdout",
     "output_type": "stream",
     "text": [
      "You are kid..\n",
      "You are in school..\n"
     ]
    }
   ],
   "source": [
    "if age>= 24:\n",
    "    print(\"You are eligible for voting..\")\n",
    "    print(\"voting is your right..\")\n",
    "\n",
    "else:\n",
    "    print(\"You are kid..\")\n",
    "    print(\"You are in school..\")"
   ]
  },
  {
   "cell_type": "code",
   "execution_count": 13,
   "id": "855c78bc-bc67-4965-85fc-322a8ca16ebd",
   "metadata": {},
   "outputs": [
    {
     "name": "stdout",
     "output_type": "stream",
     "text": [
      "You are a kid..\n",
      "You are in school...\n"
     ]
    }
   ],
   "source": [
    "if age >= 24:\n",
    "    print(\"You are eligible for voting...\")\n",
    "    print(\"voting is your right...\")\n",
    "else:\n",
    "    print(\"You are a kid..\")\n",
    "    print(\"You are in school...\")"
   ]
  },
  {
   "cell_type": "code",
   "execution_count": 40,
   "id": "0285d632-2d74-4164-bfa9-26866dd50f90",
   "metadata": {},
   "outputs": [
    {
     "name": "stdout",
     "output_type": "stream",
     "text": [
      "You are kid\n",
      "You are in school\n"
     ]
    }
   ],
   "source": [
    "if age>=18:\n",
    "    print(\"You are eligible for voting\")\n",
    "    print(\"voting is your right\")\n",
    "else:\n",
    "    print(\"You are kid\")\n",
    "    print(\"You are in school\")"
   ]
  },
  {
   "cell_type": "code",
   "execution_count": 15,
   "id": "4492daab-a4b3-487a-b98f-e4995f999be9",
   "metadata": {},
   "outputs": [
    {
     "name": "stdout",
     "output_type": "stream",
     "text": [
      "You are eligible for voting\n",
      "voting is your right\n"
     ]
    }
   ],
   "source": [
    "if age>= 18:\n",
    "    print(\"You are eligible for voting\")\n",
    "    print(\"voting is your right\")\n",
    "else:\n",
    "    print(\"You are kid\")\n",
    "    print(\"You are in school\")"
   ]
  },
  {
   "cell_type": "code",
   "execution_count": 22,
   "id": "da0263d1-a3ce-4b45-a70f-4c0fdd5b9aae",
   "metadata": {},
   "outputs": [
    {
     "name": "stdout",
     "output_type": "stream",
     "text": [
      "You are kid\n",
      "You are in school\n"
     ]
    }
   ],
   "source": [
    "if age>=18:\n",
    "    print(\"You are eligible for voting\")\n",
    "    print(\"Voting is your right\")\n",
    "else:\n",
    "    print(\"You are kid\")\n",
    "    print(\"You are in school\")"
   ]
  },
  {
   "cell_type": "code",
   "execution_count": 9,
   "id": "dc7863d3-1b77-4ee3-851d-9348a01e440b",
   "metadata": {},
   "outputs": [
    {
     "name": "stdout",
     "output_type": "stream",
     "text": [
      "You arre eligible for voting\n"
     ]
    }
   ],
   "source": [
    "if age>= 20:\n",
    "  print(\"You arre eligible for voting\")\n",
    "else:\n",
    "    print(\"you are kid\")"
   ]
  },
  {
   "cell_type": "code",
   "execution_count": 24,
   "id": "7ea5ef6d-0661-4aba-af52-906a2cf33e2a",
   "metadata": {},
   "outputs": [
    {
     "name": "stdout",
     "output_type": "stream",
     "text": [
      "You are kid\n"
     ]
    }
   ],
   "source": [
    "if age>=18:\n",
    " print(\"You are eligible for voting\")\n",
    "else:\n",
    " print(\"You are kid\")"
   ]
  },
  {
   "cell_type": "code",
   "execution_count": 26,
   "id": "b9eef096-da55-4f49-b97a-081067ed6f25",
   "metadata": {},
   "outputs": [
    {
     "name": "stdout",
     "output_type": "stream",
     "text": [
      "You are kid\n"
     ]
    }
   ],
   "source": [
    "if age>=18:\n",
    "             print(\"You are eligible for voting\")\n",
    "else:\n",
    "             print(\"You are kid\")"
   ]
  },
  {
   "cell_type": "code",
   "execution_count": 19,
   "id": "eba66da9-9352-4c60-bce0-3b6f95e5eebb",
   "metadata": {},
   "outputs": [
    {
     "name": "stdout",
     "output_type": "stream",
     "text": [
      "You are eligible for voting..\n"
     ]
    }
   ],
   "source": [
    "if age>=18:\n",
    "                print(\"You are eligible for voting..\")\n",
    "else:\n",
    "                print(\"You are kid..\")"
   ]
  },
  {
   "cell_type": "code",
   "execution_count": 21,
   "id": "54996c20-291f-402f-a42b-a3a18a6b3cec",
   "metadata": {},
   "outputs": [
    {
     "name": "stdout",
     "output_type": "stream",
     "text": [
      "You are eligible for voting...\n"
     ]
    }
   ],
   "source": [
    "if age>=20:\n",
    "            print(\"You are eligible for voting...\")\n",
    "else:\n",
    "            print(\"You are kid..\")"
   ]
  },
  {
   "cell_type": "code",
   "execution_count": null,
   "id": "106a0d67-2269-4d66-987d-422bd6f62aee",
   "metadata": {},
   "outputs": [],
   "source": []
  },
  {
   "cell_type": "code",
   "execution_count": 15,
   "id": "c761185c-08b7-4b4c-8d5d-7506f29fe5b5",
   "metadata": {},
   "outputs": [
    {
     "name": "stdin",
     "output_type": "stream",
     "text": [
      "Enter any number 10\n"
     ]
    }
   ],
   "source": [
    "num = int(input(\"Enter any number\"))"
   ]
  },
  {
   "cell_type": "code",
   "execution_count": 17,
   "id": "4129e34f-f44f-45e2-9fee-abffc4135187",
   "metadata": {},
   "outputs": [
    {
     "name": "stdout",
     "output_type": "stream",
     "text": [
      "its positive\n"
     ]
    }
   ],
   "source": [
    "if num>=10:\n",
    "    print(\"its positive\")\n",
    "else:\n",
    "    print(\"its negative\")"
   ]
  },
  {
   "cell_type": "code",
   "execution_count": 27,
   "id": "91432313-e3c8-4d79-9a70-0d689234f539",
   "metadata": {},
   "outputs": [
    {
     "name": "stdin",
     "output_type": "stream",
     "text": [
      "Enter any number.. 10\n"
     ]
    }
   ],
   "source": [
    "num = int(input(\"Enter any number..\"))"
   ]
  },
  {
   "cell_type": "code",
   "execution_count": 29,
   "id": "59f30d54-229d-4afa-99db-1ab1d68204f5",
   "metadata": {},
   "outputs": [
    {
     "name": "stdout",
     "output_type": "stream",
     "text": [
      "its positive\n"
     ]
    }
   ],
   "source": [
    "if num>= 10:\n",
    "    print(\"its positive\")\n",
    "else:\n",
    "    print(\"its negtive\")"
   ]
  },
  {
   "cell_type": "code",
   "execution_count": 9,
   "id": "5e6333f7-a343-47fe-a061-5f8742ba2e73",
   "metadata": {},
   "outputs": [
    {
     "name": "stdin",
     "output_type": "stream",
     "text": [
      "Enter any number... 50\n"
     ]
    }
   ],
   "source": [
    "num = int(input(\"Enter any number...\"))"
   ]
  },
  {
   "cell_type": "code",
   "execution_count": 11,
   "id": "93090bfd-f7a4-4ab7-935d-c9c7f7602561",
   "metadata": {},
   "outputs": [
    {
     "name": "stdout",
     "output_type": "stream",
     "text": [
      "its positive..\n"
     ]
    }
   ],
   "source": [
    "if num>= 20:\n",
    "    print(\"its positive..\")\n",
    "else:\n",
    "    print(\"its negative..\")"
   ]
  },
  {
   "cell_type": "code",
   "execution_count": 32,
   "id": "99263827-65ee-4dc9-92f3-a9062fd0c9a3",
   "metadata": {},
   "outputs": [
    {
     "name": "stdin",
     "output_type": "stream",
     "text": [
      "enter any number 0\n"
     ]
    }
   ],
   "source": [
    "num = int(input(\"enter any number\"))"
   ]
  },
  {
   "cell_type": "code",
   "execution_count": 34,
   "id": "1b8c7ddd-46cd-48f7-be89-aa19bebfae8b",
   "metadata": {},
   "outputs": [
    {
     "name": "stdout",
     "output_type": "stream",
     "text": [
      "its poditive\n"
     ]
    }
   ],
   "source": [
    "if num>=0:\n",
    "    print(\"its poditive\")\n",
    "else:\n",
    "    print(\"its negative\")"
   ]
  },
  {
   "cell_type": "code",
   "execution_count": 31,
   "id": "5683af39-dcca-4a35-b783-e28b3c02d831",
   "metadata": {},
   "outputs": [
    {
     "name": "stdin",
     "output_type": "stream",
     "text": [
      "Enter any number.. 1\n"
     ]
    }
   ],
   "source": [
    "num = int(input(\"Enter any number..\"))"
   ]
  },
  {
   "cell_type": "code",
   "execution_count": 33,
   "id": "ea0cdb23-a5d6-4c53-88b6-e8c06a4cb8f3",
   "metadata": {},
   "outputs": [
    {
     "name": "stdout",
     "output_type": "stream",
     "text": [
      "its positive\n"
     ]
    }
   ],
   "source": [
    "if num >= 1:\n",
    "    print(\"its positive\")\n",
    "else:\n",
    "    print(\"its negative\")"
   ]
  },
  {
   "cell_type": "code",
   "execution_count": 19,
   "id": "11d65e44-f515-4b3d-bd49-245081ef5c2b",
   "metadata": {},
   "outputs": [
    {
     "name": "stdin",
     "output_type": "stream",
     "text": [
      "Enter any number: 20\n"
     ]
    }
   ],
   "source": [
    "num = int(input(\"Enter any number:\"))"
   ]
  },
  {
   "cell_type": "code",
   "execution_count": 21,
   "id": "ba5b71b5-fe60-4c31-9e27-7e6c2e434db6",
   "metadata": {},
   "outputs": [
    {
     "name": "stdout",
     "output_type": "stream",
     "text": [
      "its twenty\n"
     ]
    }
   ],
   "source": [
    "if num>20:\n",
    "    print(\"its positive\")\n",
    "elif (num==20):\n",
    "    print(\"its twenty\")\n",
    "else:\n",
    "    print(\"its negative\")"
   ]
  },
  {
   "cell_type": "code",
   "execution_count": 23,
   "id": "2716f402-ee69-47b6-9cb3-a524940e19dc",
   "metadata": {},
   "outputs": [
    {
     "name": "stdin",
     "output_type": "stream",
     "text": [
      "Enter any number.. 30\n"
     ]
    }
   ],
   "source": [
    "num = int(input(\"Enter any number..\"))"
   ]
  },
  {
   "cell_type": "code",
   "execution_count": 25,
   "id": "2086c26a-5473-4cc8-a5a7-363f1807f549",
   "metadata": {},
   "outputs": [
    {
     "name": "stdout",
     "output_type": "stream",
     "text": [
      "its thirty\n"
     ]
    }
   ],
   "source": [
    "if num>30:\n",
    "    print(\"its positive\")\n",
    "elif (num==30):\n",
    "    print(\"its thirty\")\n",
    "else:\n",
    "    print(\"its negstive\")"
   ]
  },
  {
   "cell_type": "code",
   "execution_count": 23,
   "id": "9d2553b6-6549-4367-aa07-0ba83dcb85dc",
   "metadata": {},
   "outputs": [
    {
     "name": "stdout",
     "output_type": "stream",
     "text": [
      "its twenty\n"
     ]
    }
   ],
   "source": [
    "if num>20:\n",
    "    print(\"its positive\")\n",
    "elif (num==20):\n",
    "    print(\"its twenty\")\n",
    "else:\n",
    "    print(\"its negative\")"
   ]
  },
  {
   "cell_type": "code",
   "execution_count": 37,
   "id": "3dbfee43-cba6-403f-8597-f2ede0002414",
   "metadata": {},
   "outputs": [
    {
     "name": "stdout",
     "output_type": "stream",
     "text": [
      "its negative\n"
     ]
    }
   ],
   "source": [
    "if num>=40:\n",
    "    print(\"its positive\")\n",
    "elif (num==40):\n",
    "    print(\"its forty\")\n",
    "else:\n",
    "    print(\"its negative\")"
   ]
  },
  {
   "cell_type": "code",
   "execution_count": 7,
   "id": "af107a71-3f1b-4bdd-a870-edfaac82d40f",
   "metadata": {},
   "outputs": [
    {
     "name": "stdin",
     "output_type": "stream",
     "text": [
      "enter any  number: 0\n"
     ]
    }
   ],
   "source": [
    "num = int(input(\"enter any  number:\"))"
   ]
  },
  {
   "cell_type": "code",
   "execution_count": 42,
   "id": "4953b385-c074-40b1-b4b1-a4d5376118ce",
   "metadata": {},
   "outputs": [
    {
     "name": "stdout",
     "output_type": "stream",
     "text": [
      "its zero\n"
     ]
    }
   ],
   "source": [
    "if num>0:\n",
    "    print(\"Its positive\")\n",
    "elif (num==0):\n",
    "    print(\"its zero\")\n",
    "else:\n",
    "    print(\"its negative\")"
   ]
  },
  {
   "cell_type": "code",
   "execution_count": 25,
   "id": "c5e2c0fc-4b57-4f21-b5b7-5ca2d6a16244",
   "metadata": {},
   "outputs": [
    {
     "name": "stdin",
     "output_type": "stream",
     "text": [
      "Enter your number... -10\n"
     ]
    }
   ],
   "source": [
    "num = int(input(\"Enter your number...\"))"
   ]
  },
  {
   "cell_type": "code",
   "execution_count": 29,
   "id": "be3809c2-d3cf-4df2-aae4-2f310249d180",
   "metadata": {},
   "outputs": [
    {
     "name": "stdout",
     "output_type": "stream",
     "text": [
      "its negative\n"
     ]
    }
   ],
   "source": [
    "if num>=0:\n",
    "    print(\"its positive\")\n",
    "else:\n",
    "    print(\"its negative\")"
   ]
  },
  {
   "cell_type": "code",
   "execution_count": 47,
   "id": "ee70f656-8672-45e0-976d-aee37993b46a",
   "metadata": {},
   "outputs": [
    {
     "name": "stdin",
     "output_type": "stream",
     "text": [
      "enter your number: -6\n"
     ]
    }
   ],
   "source": [
    "num = int(input(\"enter your number:\"))"
   ]
  },
  {
   "cell_type": "code",
   "execution_count": 49,
   "id": "2b04576b-1b80-412e-8130-249bc06f4742",
   "metadata": {},
   "outputs": [
    {
     "name": "stdout",
     "output_type": "stream",
     "text": [
      "its negative\n"
     ]
    }
   ],
   "source": [
    "if num>=0:\n",
    "    print(\"its positive\")\n",
    "else:\n",
    "    print(\"its negative\")"
   ]
  },
  {
   "cell_type": "code",
   "execution_count": 51,
   "id": "8e8ca1fb-08c1-4ecb-80c6-1a96bec42b79",
   "metadata": {},
   "outputs": [
    {
     "name": "stdin",
     "output_type": "stream",
     "text": [
      "enter your name -10\n"
     ]
    }
   ],
   "source": [
    "number = int(input(\"enter your number\"))"
   ]
  },
  {
   "cell_type": "code",
   "execution_count": 53,
   "id": "947d240f-8506-484f-a3fb-19dc67241804",
   "metadata": {},
   "outputs": [
    {
     "name": "stdout",
     "output_type": "stream",
     "text": [
      "its negative\n"
     ]
    }
   ],
   "source": [
    "if (number>0):\n",
    "    print(\"its positive\")\n",
    "elif (number==0):\n",
    "    print(\"its zero\")\n",
    "else:\n",
    "    print(\"its negative\")"
   ]
  },
  {
   "cell_type": "code",
   "execution_count": 13,
   "id": "915b5259-03bb-44a8-bc89-6e14561fd86b",
   "metadata": {},
   "outputs": [
    {
     "name": "stdin",
     "output_type": "stream",
     "text": [
      "Enter any number.. -20\n"
     ]
    }
   ],
   "source": [
    "number = int(input(\"Enter any number..\"))"
   ]
  },
  {
   "cell_type": "code",
   "execution_count": 15,
   "id": "7487736a-dfa9-4168-9338-dbd8b1b98e31",
   "metadata": {},
   "outputs": [
    {
     "name": "stdout",
     "output_type": "stream",
     "text": [
      "its negative\n"
     ]
    }
   ],
   "source": [
    "if (number>0):\n",
    "    print(\"its positive\")\n",
    "elif (number==0):\n",
    "    print(\"its zero\")\n",
    "else:\n",
    "    print(\"its negative\")"
   ]
  },
  {
   "cell_type": "code",
   "execution_count": 33,
   "id": "7dbf8a81-bd60-4c2f-b640-315372ae2269",
   "metadata": {},
   "outputs": [
    {
     "name": "stdin",
     "output_type": "stream",
     "text": [
      "Enter your number -20\n"
     ]
    }
   ],
   "source": [
    "number = int(input(\"Enter your number\"))"
   ]
  },
  {
   "cell_type": "code",
   "execution_count": 35,
   "id": "46493d93-4555-4578-bd00-9a7133ae4320",
   "metadata": {},
   "outputs": [
    {
     "name": "stdout",
     "output_type": "stream",
     "text": [
      "its negative\n"
     ]
    }
   ],
   "source": [
    "if (number>0):\n",
    "    print(\"its positive\")\n",
    "elif (number==0):\n",
    "    print(\"its zero\")\n",
    "else:\n",
    "    print(\"its negative\")"
   ]
  },
  {
   "cell_type": "code",
   "execution_count": 39,
   "id": "01f336c8-0d0a-4639-8915-2cb670adb089",
   "metadata": {},
   "outputs": [
    {
     "name": "stdin",
     "output_type": "stream",
     "text": [
      "Enter any number.. -10\n"
     ]
    }
   ],
   "source": [
    "number = int(input(\"Enter any number..\"))"
   ]
  },
  {
   "cell_type": "code",
   "execution_count": 41,
   "id": "27dc04c2-bd4c-45a0-8aa2-2feae768148b",
   "metadata": {},
   "outputs": [
    {
     "name": "stdout",
     "output_type": "stream",
     "text": [
      "its negative\n"
     ]
    }
   ],
   "source": [
    "if (number>0):\n",
    "    print(\"its positive\")\n",
    "elif (number==0):\n",
    "    print(\"its zero\")\n",
    "else:\n",
    "    print(\"its negative\")"
   ]
  },
  {
   "cell_type": "code",
   "execution_count": 3,
   "id": "21678c86-524d-41b1-9495-14fd27ec8634",
   "metadata": {},
   "outputs": [
    {
     "name": "stdin",
     "output_type": "stream",
     "text": [
      "Enter your marks: 65\n"
     ]
    }
   ],
   "source": [
    "marks = int(input(\"Enter your marks:\"))"
   ]
  },
  {
   "cell_type": "code",
   "execution_count": 5,
   "id": "0e87a947-7bad-4b07-85d4-53bce220c697",
   "metadata": {},
   "outputs": [
    {
     "name": "stdout",
     "output_type": "stream",
     "text": [
      "Grade-D\n"
     ]
    }
   ],
   "source": [
    "# elif ladder\n",
    "#if marks>=90 and marks<=100:\n",
    "if 100>=marks>=90:\n",
    "    print(\"Grade -A\")\n",
    "elif marks>=80:\n",
    "    print(\"Grade-B\")\n",
    "elif marks>=70:\n",
    "    print(\"Grade-C\")\n",
    "elif marks>=60:\n",
    "    print(\"Grade-D\")\n",
    "else:\n",
    "    print(\"Grade-F\")"
   ]
  },
  {
   "cell_type": "code",
   "execution_count": 39,
   "id": "0a6150e9-968e-4426-bf20-0aadcf800001",
   "metadata": {},
   "outputs": [
    {
     "name": "stdin",
     "output_type": "stream",
     "text": [
      "Enter your marks: 70\n"
     ]
    }
   ],
   "source": [
    "marks = int(input(\"Enter your marks:\"))"
   ]
  },
  {
   "cell_type": "code",
   "execution_count": 41,
   "id": "ae199b88-32cf-42de-bc07-c419e845bf5d",
   "metadata": {},
   "outputs": [
    {
     "name": "stdout",
     "output_type": "stream",
     "text": [
      "Grade-C\n"
     ]
    }
   ],
   "source": [
    "if 100>=marks>=90:\n",
    "    print(\"Grade-A\")\n",
    "elif marks>=80:\n",
    "    print(\"Grade-B\")\n",
    "elif marks>=70:\n",
    "    print(\"Grade-C\")\n",
    "elif marks>=60:\n",
    "    print(\"Grade-D\")\n",
    "else:\n",
    "    print(\"Grade-F\")"
   ]
  },
  {
   "cell_type": "code",
   "execution_count": 17,
   "id": "57186a58-1919-4459-a5c4-5ab686e0a7a7",
   "metadata": {},
   "outputs": [
    {
     "name": "stdin",
     "output_type": "stream",
     "text": [
      "Enter your marks.. 80\n"
     ]
    }
   ],
   "source": [
    "marks = int(input(\"Enter your marks..\"))"
   ]
  },
  {
   "cell_type": "code",
   "execution_count": 19,
   "id": "1341a9f2-0cec-4322-aca2-0d11549b536f",
   "metadata": {},
   "outputs": [
    {
     "name": "stdout",
     "output_type": "stream",
     "text": [
      "Grade-B\n"
     ]
    }
   ],
   "source": [
    "if 100>=marks>=90:\n",
    "    print(\"Grade-A\")\n",
    "elif marks>=80:\n",
    "    print(\"Grade-B\")\n",
    "elif marks>=70:\n",
    "    print(\"Grade-C\")\n",
    "elif marks>=60:\n",
    "    print(\"Grade-D\")\n",
    "else:\n",
    "    print(\"Grade-F\")"
   ]
  },
  {
   "cell_type": "code",
   "execution_count": 43,
   "id": "e884e3e5-0cda-4314-b6ce-e1f7993059b6",
   "metadata": {},
   "outputs": [
    {
     "name": "stdin",
     "output_type": "stream",
     "text": [
      "Enter your marks.. 80\n"
     ]
    }
   ],
   "source": [
    "marks = int(input(\"Enter your marks..\"))"
   ]
  },
  {
   "cell_type": "code",
   "execution_count": 47,
   "id": "74c2ae95-48bc-47ce-aeef-ef9ccd2aca06",
   "metadata": {},
   "outputs": [
    {
     "name": "stdout",
     "output_type": "stream",
     "text": [
      "Grade-B\n"
     ]
    }
   ],
   "source": [
    "if 100>=marks>=90:\n",
    "    print(\"Grade-A\")\n",
    "elif marks>=80:\n",
    "    print(\"Grade-B\")\n",
    "elif marks>=70:\n",
    "    print(\"Grade-C\")\n",
    "elif marks>=60:\n",
    "    print(\"Grade-D\")\n",
    "else:\n",
    "    print(\"Grade-F\")"
   ]
  },
  {
   "cell_type": "code",
   "execution_count": 53,
   "id": "eaf99960-77e8-422e-a9b9-72488de7a3af",
   "metadata": {},
   "outputs": [
    {
     "name": "stdout",
     "output_type": "stream",
     "text": [
      "Grade-B\n"
     ]
    }
   ],
   "source": [
    "if 100>=marks>=90:\n",
    "    print(\"Grade-A\")\n",
    "elif marks>=80:\n",
    "    print(\"Grade-B\")\n",
    "elif marks>=70:\n",
    "    print(\"Grade-C\")\n",
    "elif marks>=60:\n",
    "    print(\"Grade-D\")\n",
    "else:\n",
    "    print(\"Grade-F\")"
   ]
  },
  {
   "cell_type": "code",
   "execution_count": 8,
   "id": "eec151d4-1bc3-40f5-bfb6-f9bcccd626bd",
   "metadata": {},
   "outputs": [
    {
     "name": "stdin",
     "output_type": "stream",
     "text": [
      "Enter your spend: 100\n"
     ]
    }
   ],
   "source": [
    "spend = float(input(\"Enter your spend:\"))"
   ]
  },
  {
   "cell_type": "code",
   "execution_count": 10,
   "id": "ac5bdc81-3eb2-4153-9afa-9fddf290027d",
   "metadata": {},
   "outputs": [
    {
     "name": "stdout",
     "output_type": "stream",
     "text": [
      "You are not eligible\n"
     ]
    }
   ],
   "source": [
    "if spend == 5000:\n",
    "    print(\"You are eligible for discount of 10%\")\n",
    "if spend == 4000:\n",
    "    print(\"You are eligible for discount of 5 %\")\n",
    "if spend == 3000:\n",
    "    print(\"You are eligible for discount of Voucher\")\n",
    "if spend == 2000:\n",
    "    print(\"You are eligible for movie ticket\")\n",
    "if spend == 1000:\n",
    "    print(\"You are eligible for vip customer\")\n",
    "if spend == 100:\n",
    "    print(\"You are not eligible\")\n",
    "        "
   ]
  },
  {
   "cell_type": "code",
   "execution_count": 55,
   "id": "a3a88caf-d0e7-4961-88f3-11c41af5be14",
   "metadata": {},
   "outputs": [
    {
     "name": "stdin",
     "output_type": "stream",
     "text": [
      "Enter your spend 200\n"
     ]
    }
   ],
   "source": [
    "spend = float(input(\"Enter your spend\"))"
   ]
  },
  {
   "cell_type": "code",
   "execution_count": 63,
   "id": "6beba8d3-1029-4e97-b910-800ac48b625f",
   "metadata": {},
   "outputs": [
    {
     "name": "stdout",
     "output_type": "stream",
     "text": [
      "You are not eligible\n"
     ]
    }
   ],
   "source": [
    "if spend == 5000:\n",
    "    print(\"You are eligible for discount of 10%\")\n",
    "if spend == 4000:\n",
    "    print(\"You are eligible for discount of 5%\")\n",
    "if spend == 3000:\n",
    "    print(\"You are eligible for discount of voucher\")\n",
    "if spend == 2000:\n",
    "    print(\"You are eligible for movie ticket\")\n",
    "if spend == 1000:\n",
    "    print(\"You are eligible for VIP customer\")\n",
    "if spend == 100:\n",
    "    print(\"You are not eligible\")"
   ]
  },
  {
   "cell_type": "code",
   "execution_count": 61,
   "id": "8c3e83c1-27ac-4eb1-a8f2-9926a368161d",
   "metadata": {},
   "outputs": [
    {
     "name": "stdin",
     "output_type": "stream",
     "text": [
      "Enter your spennd 100\n"
     ]
    }
   ],
   "source": [
    "spend = float(input(\"Enter your spennd\"))"
   ]
  },
  {
   "cell_type": "code",
   "execution_count": 45,
   "id": "bd2f4288-e1cb-46b4-92fb-b4af3ba9e034",
   "metadata": {},
   "outputs": [
    {
     "name": "stdout",
     "output_type": "stream",
     "text": [
      "You are not eligible\n"
     ]
    }
   ],
   "source": [
    "if spend == 5000:\n",
    "    print(\"You are eligible for discount of 10%\")\n",
    "if spend == 4000:\n",
    "    print(\"You are eligible for discount of 5%\")\n",
    "if spend == 3000:\n",
    "    print(\"You are eligible for discount of voucher\")\n",
    "if spend == 2000:\n",
    "    print(\"You are eligible for movie ticket\")\n",
    "if spend == 1000:\n",
    "    print(\"You are eligible for VIP customer\")\n",
    "if spend == 100:\n",
    "    print(\"You are not eligible\")"
   ]
  },
  {
   "cell_type": "code",
   "execution_count": 78,
   "id": "122684fe-f495-4d04-ae29-1412238e0dec",
   "metadata": {},
   "outputs": [
    {
     "name": "stdin",
     "output_type": "stream",
     "text": [
      "Enter your spend 300\n"
     ]
    }
   ],
   "source": [
    "spend = float(input(\"Enter your spend\"))"
   ]
  },
  {
   "cell_type": "code",
   "execution_count": 88,
   "id": "9f8f5bca-b29f-4898-94c4-1ab10edcaba8",
   "metadata": {},
   "outputs": [],
   "source": [
    "if spend == 5000:\n",
    "    print(\"You are eligible for discount of 10%\")\n",
    "if spend == 4000:\n",
    "    print(\"You are eligible for discount of 5%\")\n",
    "if spend == 3000:\n",
    "    print(\"You are eligible for discount of voucher\")\n",
    "if spend == 2000:\n",
    "    print(\"You are eligible for movie ticket\")\n",
    "if spend == 1000:\n",
    "    print(\"You are eligible for VIP Customer\")\n",
    "if spend == 100:\n",
    "    print(\"You are not eligible\")"
   ]
  },
  {
   "cell_type": "code",
   "execution_count": 82,
   "id": "6b0672b6-3337-4061-a971-352c7e7cb813",
   "metadata": {},
   "outputs": [
    {
     "name": "stdin",
     "output_type": "stream",
     "text": [
      "Enter your marks 100\n"
     ]
    }
   ],
   "source": [
    "marks= float(input(\"Enter your marks\"))"
   ]
  },
  {
   "cell_type": "code",
   "execution_count": 19,
   "id": "19d32a95-61b9-4693-ad97-c7ca70bdc56c",
   "metadata": {},
   "outputs": [
    {
     "name": "stdout",
     "output_type": "stream",
     "text": [
      "Grade-E-Fail\n"
     ]
    }
   ],
   "source": [
    "# elif ladder\n",
    "if marks>=90:\n",
    "    print(\"Grade-A\")\n",
    "elif marks>=80:\n",
    "    print(\"Grade-B\")\n",
    "elif marks>= 70:\n",
    "    print(\"Grade-C\")\n",
    "elif marks>=60:\n",
    "    print(\"Grade-D\")\n",
    "else:\n",
    "    print(\"Grade-E-Fail\")"
   ]
  },
  {
   "cell_type": "code",
   "execution_count": 59,
   "id": "58bdf332-326f-479a-9b20-090e47ad2855",
   "metadata": {},
   "outputs": [
    {
     "name": "stdin",
     "output_type": "stream",
     "text": [
      "Enter your marks: 45\n"
     ]
    }
   ],
   "source": [
    "marks = float(input(\"Enter your marks:\"))"
   ]
  },
  {
   "cell_type": "code",
   "execution_count": 61,
   "id": "98535196-89b4-4148-a56a-1d98f9200fc2",
   "metadata": {},
   "outputs": [
    {
     "name": "stdout",
     "output_type": "stream",
     "text": [
      "Grade-E-Fail\n"
     ]
    }
   ],
   "source": [
    "if marks>= 90:\n",
    "    print(\"Grade-A\")\n",
    "elif marks>=80:\n",
    "    print(\"Grade-B\")\n",
    "elif marks>=70:\n",
    "    print(\"Grade-C\")\n",
    "elif marks>=60:\n",
    "    print(\"Grade-D\")\n",
    "else:\n",
    "    print(\"Grade-E-Fail\")"
   ]
  },
  {
   "cell_type": "code",
   "execution_count": 92,
   "id": "254c9a59-082f-4c47-9316-628f75eef65c",
   "metadata": {},
   "outputs": [
    {
     "name": "stdin",
     "output_type": "stream",
     "text": [
      "Enter your marks.. 50\n"
     ]
    }
   ],
   "source": [
    "marks = float(input(\"Enter your marks..\"))"
   ]
  },
  {
   "cell_type": "code",
   "execution_count": 94,
   "id": "997f2277-b668-4d21-9905-73df082c299e",
   "metadata": {},
   "outputs": [
    {
     "name": "stdout",
     "output_type": "stream",
     "text": [
      "Grade-E-Fail\n"
     ]
    }
   ],
   "source": [
    "if marks>= 90:\n",
    "    print(\"Grade-A\")\n",
    "elif marks>=80:\n",
    "    print(\"Grade-B\")\n",
    "elif marks>= 70:\n",
    "    print(\"Grade-C\")\n",
    "elif marks>=60:\n",
    "    print(\"Grade-D\")\n",
    "else:\n",
    "    print(\"Grade-E-Fail\")"
   ]
  },
  {
   "cell_type": "code",
   "execution_count": 22,
   "id": "a8b22b90-5449-49d3-9a71-e4c4c9f91a2a",
   "metadata": {},
   "outputs": [],
   "source": [
    "# if ladder"
   ]
  },
  {
   "cell_type": "code",
   "execution_count": null,
   "id": "ce4acf5c-b190-4c55-8a5a-39731d707529",
   "metadata": {},
   "outputs": [],
   "source": []
  },
  {
   "cell_type": "code",
   "execution_count": 25,
   "id": "15d946d3-cb27-4fec-9988-8bff82d81816",
   "metadata": {},
   "outputs": [
    {
     "name": "stdin",
     "output_type": "stream",
     "text": [
      "Enter your age: 10\n"
     ]
    }
   ],
   "source": [
    "age = float(input(\"Enter your age:\"))"
   ]
  },
  {
   "cell_type": "code",
   "execution_count": 27,
   "id": "2d4d281b-8e8f-47d0-9bd8-8cfd2258355a",
   "metadata": {},
   "outputs": [
    {
     "name": "stdout",
     "output_type": "stream",
     "text": [
      "You are kid\n",
      "Grow up first\n"
     ]
    }
   ],
   "source": [
    "if (age>=18):\n",
    "    print(\"You can vote\")\n",
    "    print(\"voting is your right\")\n",
    "else:\n",
    "    print(\"You are kid\")\n",
    "    print(\"Grow up first\")"
   ]
  },
  {
   "cell_type": "code",
   "execution_count": 96,
   "id": "338d96c0-6445-469d-9c22-e47a0563cede",
   "metadata": {},
   "outputs": [
    {
     "name": "stdin",
     "output_type": "stream",
     "text": [
      "Enter your age: 20\n"
     ]
    }
   ],
   "source": [
    "age = float(input(\"Enter your age:\"))"
   ]
  },
  {
   "cell_type": "code",
   "execution_count": 98,
   "id": "26694ae4-1a34-4c4b-9bec-e5eedc407159",
   "metadata": {},
   "outputs": [
    {
     "name": "stdout",
     "output_type": "stream",
     "text": [
      "You can vote\n",
      "voting is your right\n"
     ]
    }
   ],
   "source": [
    "if (age>=18):\n",
    "    print(\"You can vote\")\n",
    "    print(\"voting is your right\")\n",
    "else:\n",
    "    print(\"You are kid\")\n",
    "    print(\"Grow up first\")"
   ]
  },
  {
   "cell_type": "code",
   "execution_count": 63,
   "id": "89d016ce-e726-418a-bad4-91aa543c54a3",
   "metadata": {},
   "outputs": [
    {
     "name": "stdin",
     "output_type": "stream",
     "text": [
      "Enter your age 15\n"
     ]
    }
   ],
   "source": [
    "age = float(input(\"Enter your age\"))"
   ]
  },
  {
   "cell_type": "code",
   "execution_count": 67,
   "id": "d17738d3-7867-4de6-93ad-f6686b9861d4",
   "metadata": {},
   "outputs": [
    {
     "name": "stdout",
     "output_type": "stream",
     "text": [
      "You are a kid\n",
      "Grow up first\n"
     ]
    }
   ],
   "source": [
    "if (age>=18):\n",
    "    print(\"You can vote\")\n",
    "    print(\"voting is your right\")\n",
    "else:\n",
    "    print(\"You are a kid\")\n",
    "    print(\"Grow up first\")"
   ]
  },
  {
   "cell_type": "code",
   "execution_count": 29,
   "id": "2bae9d86-7425-4c07-a7bf-cddb4c807b8b",
   "metadata": {},
   "outputs": [],
   "source": [
    "z = 150"
   ]
  },
  {
   "cell_type": "code",
   "execution_count": 31,
   "id": "5d779764-0d5c-4a3a-84d0-3024860c30dd",
   "metadata": {},
   "outputs": [
    {
     "name": "stdout",
     "output_type": "stream",
     "text": [
      "150\n"
     ]
    }
   ],
   "source": [
    "print(z)"
   ]
  },
  {
   "cell_type": "code",
   "execution_count": 100,
   "id": "eae18a0d-0363-4db2-ae50-df90762c5b3f",
   "metadata": {},
   "outputs": [
    {
     "name": "stdin",
     "output_type": "stream",
     "text": [
      "Enter your age 20\n"
     ]
    }
   ],
   "source": [
    "age = float(input(\"Enter your age\"))"
   ]
  },
  {
   "cell_type": "code",
   "execution_count": 102,
   "id": "6130ddaa-3e80-4e55-a2a6-3c4188075f2a",
   "metadata": {},
   "outputs": [
    {
     "name": "stdout",
     "output_type": "stream",
     "text": [
      "You can vote\n",
      "Voting is your right\n"
     ]
    }
   ],
   "source": [
    "# Identation\n",
    "if (age>=18):\n",
    "    print(\"You can vote\")\n",
    "    print(\"Voting is your right\")\n",
    "else:\n",
    "    print(\"You are kid\")\n",
    "    print(\"Grow up first\")"
   ]
  },
  {
   "cell_type": "code",
   "execution_count": 37,
   "id": "f4edfbdf-cf34-406d-9e77-362ba1690eac",
   "metadata": {},
   "outputs": [
    {
     "name": "stdout",
     "output_type": "stream",
     "text": [
      "You are kid\n",
      "Grow up first\n"
     ]
    }
   ],
   "source": [
    "if (age>=18):\n",
    "                    print(\"You can vote\")\n",
    "                    print(\"Voting is your right\")\n",
    "else:\n",
    "    print(\"You are kid\")\n",
    "    print(\"Grow up first\")"
   ]
  },
  {
   "cell_type": "code",
   "execution_count": 106,
   "id": "f47ff801-27ea-4ed4-9fc6-567a0fc3b961",
   "metadata": {},
   "outputs": [
    {
     "name": "stdout",
     "output_type": "stream",
     "text": [
      "You can vote..\n",
      "Voting is your right..\n"
     ]
    }
   ],
   "source": [
    "if (age>=18):\n",
    "                    print(\"You can vote..\")\n",
    "                    print(\"Voting is your right..\")\n",
    "else:\n",
    "        print(\"You are kid..\")\n",
    "        print(\"Grow up first..\")"
   ]
  },
  {
   "cell_type": "code",
   "execution_count": 39,
   "id": "eeff6839-b5a8-4bd9-851b-ebd2604d7618",
   "metadata": {},
   "outputs": [
    {
     "name": "stdout",
     "output_type": "stream",
     "text": [
      "You are kid\n",
      "Grow up first\n"
     ]
    }
   ],
   "source": [
    "if (age>=18):\n",
    "    print(\"You can vote\")a\n",
    "    print(\"Voting is your right\")\n",
    "else:\n",
    "    print(\"You are kid\")\n",
    "    print(\"Grow up first\")"
   ]
  },
  {
   "cell_type": "code",
   "execution_count": null,
   "id": "6a682386-5532-4e1d-ad9e-3333e9349325",
   "metadata": {},
   "outputs": [],
   "source": []
  },
  {
   "cell_type": "code",
   "execution_count": 108,
   "id": "bba5479b-f2f5-496b-8431-247c8f42d0b1",
   "metadata": {},
   "outputs": [
    {
     "name": "stdin",
     "output_type": "stream",
     "text": [
      "Enter any number -20\n"
     ]
    }
   ],
   "source": [
    "number = int(input(\"Enter any number\"))"
   ]
  },
  {
   "cell_type": "code",
   "execution_count": 46,
   "id": "4b36e841-75ff-4053-a81f-dbf3bf22c52a",
   "metadata": {},
   "outputs": [
    {
     "name": "stdout",
     "output_type": "stream",
     "text": [
      "negative number\n"
     ]
    }
   ],
   "source": [
    "if number>0:\n",
    "    print(\"Positive number\")\n",
    "elif(number==0):\n",
    "    print(\"its zero\")\n",
    "else:\n",
    "    print(\"negative number\")"
   ]
  },
  {
   "cell_type": "code",
   "execution_count": 110,
   "id": "a8b9cd94-a5f0-47a8-9953-79fab9843b7f",
   "metadata": {},
   "outputs": [
    {
     "name": "stdout",
     "output_type": "stream",
     "text": [
      "negative number\n"
     ]
    }
   ],
   "source": [
    "if number>0:\n",
    "    print(\"Positive number\")\n",
    "elif(number==0):\n",
    "    print(\"its zero\")\n",
    "else:\n",
    "    print(\"negative number\")"
   ]
  },
  {
   "cell_type": "code",
   "execution_count": 112,
   "id": "4e17ade7-750c-4928-98ca-1cc44ee4f0e4",
   "metadata": {},
   "outputs": [
    {
     "name": "stdin",
     "output_type": "stream",
     "text": [
      "enter your marks: 50\n"
     ]
    }
   ],
   "source": [
    "marks = int(input(\"enter your marks:\"))"
   ]
  },
  {
   "cell_type": "code",
   "execution_count": 61,
   "id": "f4637511-774e-4d86-af2c-125973c65772",
   "metadata": {},
   "outputs": [
    {
     "name": "stdout",
     "output_type": "stream",
     "text": [
      "Another Grade\n"
     ]
    }
   ],
   "source": [
    "# if ladder \n",
    "\n",
    "if marks == 90:\n",
    "    print(\"grade-A\")\n",
    "if marks == 80:\n",
    "    print(\"grade-B\")\n",
    "if marks == 70:\n",
    "    print(\"grade-C\")\n",
    "if marks == 60:\n",
    "    print(\"grade-D\")\n",
    "if marks == 50:\n",
    "    print(\"grade-E\")\n",
    "\n",
    "else:\n",
    "    print(\"Another Grade\")"
   ]
  },
  {
   "cell_type": "code",
   "execution_count": 114,
   "id": "e182c282-e90e-4287-b8b9-9d3426cbe836",
   "metadata": {},
   "outputs": [
    {
     "name": "stdout",
     "output_type": "stream",
     "text": [
      "Grade-E\n"
     ]
    }
   ],
   "source": [
    "if marks == 90:\n",
    "    print(\"Grade-A\")\n",
    "if marks == 80:\n",
    "    print(\"Grade-B\")\n",
    "if marks == 70:\n",
    "    print(\"Grade-C\")\n",
    "if marks == 60:\n",
    "    print(\"Grade-D\")\n",
    "if marks == 50:\n",
    "    print(\"Grade-E\")\n",
    "\n",
    "else:\n",
    "    print(\"Another Grade\")"
   ]
  },
  {
   "cell_type": "code",
   "execution_count": null,
   "id": "1fa942fc-a83f-41f4-87ac-9503801f6c8d",
   "metadata": {},
   "outputs": [],
   "source": []
  },
  {
   "cell_type": "code",
   "execution_count": 1,
   "id": "70c17fe0-b0d2-4bea-b07f-66bd5c726648",
   "metadata": {},
   "outputs": [
    {
     "name": "stdin",
     "output_type": "stream",
     "text": [
      "Enter your marks: 100\n"
     ]
    }
   ],
   "source": [
    "marks = int(input(\"Enter your marks:\"))"
   ]
  },
  {
   "cell_type": "code",
   "execution_count": 5,
   "id": "b9ff78fb-3238-46fc-a30b-9486921c4812",
   "metadata": {},
   "outputs": [
    {
     "name": "stdout",
     "output_type": "stream",
     "text": [
      "Another Grade\n"
     ]
    }
   ],
   "source": [
    "if marks == 90:\n",
    "    print(\"Grade-A\")\n",
    "if marks == 80:\n",
    "    print(\"Grade-B\")\n",
    "if marks == 70:\n",
    "    print(\"Grade-C\")\n",
    "if marks == 60:\n",
    "    print(\"Grade-D\")\n",
    "if marks == 50:\n",
    "    print(\"Grade-E\")\n",
    "\n",
    "else:\n",
    "    print(\"Another Grade\")"
   ]
  },
  {
   "cell_type": "code",
   "execution_count": 66,
   "id": "e15657c1-9dd7-4e21-9d84-41e2e042766f",
   "metadata": {},
   "outputs": [
    {
     "name": "stdin",
     "output_type": "stream",
     "text": [
      "enter your marks: 10\n"
     ]
    }
   ],
   "source": [
    "marks = int(input(\"enter your marks:\"))"
   ]
  },
  {
   "cell_type": "code",
   "execution_count": 68,
   "id": "3d49c09c-bce8-4322-baa6-927f0b4753bb",
   "metadata": {},
   "outputs": [
    {
     "name": "stdout",
     "output_type": "stream",
     "text": [
      "Grade-F\n"
     ]
    }
   ],
   "source": [
    "if marks>=90:\n",
    "    print(\"garde-A\")\n",
    "elif (marks>=80):\n",
    "    print(\"Grade-B\")\n",
    "elif marks>=70:\n",
    "    print(\"Grade-C\")\n",
    "elif marks>=60:\n",
    "    print(\"Grade-D\")\n",
    "else:\n",
    "    print(\"Grade-F\")"
   ]
  },
  {
   "cell_type": "code",
   "execution_count": 72,
   "id": "8775f155-3417-4997-b3c4-d6e6b54ca6fa",
   "metadata": {},
   "outputs": [
    {
     "name": "stdin",
     "output_type": "stream",
     "text": [
      "enter your smount 6\n"
     ]
    }
   ],
   "source": [
    "samount = int(input(\"enter your smount\"))"
   ]
  },
  {
   "cell_type": "code",
   "execution_count": 1,
   "id": "b7928bdb-58e0-45bc-9ae6-19847ba37096",
   "metadata": {},
   "outputs": [
    {
     "name": "stdin",
     "output_type": "stream",
     "text": [
      "Enter your number 20\n"
     ]
    }
   ],
   "source": [
    "num = int(input(\"Enter your number\"))"
   ]
  },
  {
   "cell_type": "code",
   "execution_count": null,
   "id": "fa85034e-b126-47c8-b1c4-98b7cd4721bf",
   "metadata": {},
   "outputs": [],
   "source": [
    "if num "
   ]
  },
  {
   "cell_type": "code",
   "execution_count": 74,
   "id": "88701fd7-7329-41b1-87cc-531830b7c65b",
   "metadata": {},
   "outputs": [
    {
     "name": "stdout",
     "output_type": "stream",
     "text": [
      "No rewards\n"
     ]
    }
   ],
   "source": [
    "# elif ladder \n",
    "if samount>=15000:\n",
    "    print(\"You are eligible for a 10% discount\")\n",
    "elif (samount>=10000 and samount<15000):\n",
    "    print(\"You are eligible for a 5% discount\")\n",
    "elif (samount>=5000 and samount<10000):\n",
    "    print(\"You are eligible for Voucher\")\n",
    "elif (samount>=1000 and samount<5000):\n",
    "    print(\"You are eligible for a movie ticket\")\n",
    "elif (samount>=100 and samount<1000):\n",
    "    print(\"You are a VIP customer\")\n",
    "else:\n",
    "    print(\"No rewards\")"
   ]
  },
  {
   "cell_type": "code",
   "execution_count": 7,
   "id": "38d2d84f-2bed-4e28-9c24-c467d9617cea",
   "metadata": {},
   "outputs": [
    {
     "name": "stdin",
     "output_type": "stream",
     "text": [
      "Enter your samount 10\n"
     ]
    }
   ],
   "source": [
    "samount = int(input(\"Enter your samount\"))"
   ]
  },
  {
   "cell_type": "code",
   "execution_count": 9,
   "id": "e8bd3016-e3a5-4715-9412-88c93414b019",
   "metadata": {},
   "outputs": [
    {
     "name": "stdout",
     "output_type": "stream",
     "text": [
      "No Reward\n"
     ]
    }
   ],
   "source": [
    "if samount>=15000:\n",
    "    print(\"You are eligible for a 10% discount\")\n",
    "elif (samount>=10000 and samount<15000):\n",
    "    print(\"You are eligible for a 5% discount\")\n",
    "elif (samount>=5000 and samount<10000):\n",
    "    print(\"You are eligiible for a voucher\")\n",
    "elif (samount>=1000 and samount<5000):\n",
    "    print(\"You are eligible for a movie ticket\")\n",
    "elif (samount>=100 and samount<1000):\n",
    "    print(\"You are VIP customer\")\n",
    "else:\n",
    "    print(\"No Reward\")"
   ]
  },
  {
   "cell_type": "code",
   "execution_count": 116,
   "id": "d514f018-65fe-46eb-818f-fdd7f5eb6c33",
   "metadata": {},
   "outputs": [
    {
     "name": "stdin",
     "output_type": "stream",
     "text": [
      "Enter your samount 20\n"
     ]
    }
   ],
   "source": [
    "samount = int(input(\"Enter your samount\"))"
   ]
  },
  {
   "cell_type": "code",
   "execution_count": 118,
   "id": "f1a312be-5491-48fe-b112-bd56fa28832b",
   "metadata": {},
   "outputs": [
    {
     "ename": "NameError",
     "evalue": "name 'Samount' is not defined",
     "output_type": "error",
     "traceback": [
      "\u001b[1;31m---------------------------------------------------------------------------\u001b[0m",
      "\u001b[1;31mNameError\u001b[0m                                 Traceback (most recent call last)",
      "Cell \u001b[1;32mIn[118], line 9\u001b[0m\n\u001b[0;32m      7\u001b[0m \u001b[38;5;28;01melif\u001b[39;00m (samount\u001b[38;5;241m>\u001b[39m\u001b[38;5;241m=\u001b[39m\u001b[38;5;241m1000\u001b[39m \u001b[38;5;129;01mand\u001b[39;00m samount\u001b[38;5;241m<\u001b[39m\u001b[38;5;241m5000\u001b[39m):\n\u001b[0;32m      8\u001b[0m     \u001b[38;5;28mprint\u001b[39m(\u001b[38;5;124m\"\u001b[39m\u001b[38;5;124mYou are eligible for a movie ticket\u001b[39m\u001b[38;5;124m\"\u001b[39m)\n\u001b[1;32m----> 9\u001b[0m \u001b[38;5;28;01melif\u001b[39;00m (Samount\u001b[38;5;241m>\u001b[39m\u001b[38;5;241m=\u001b[39m\u001b[38;5;241m100\u001b[39m \u001b[38;5;129;01mand\u001b[39;00m samount\u001b[38;5;241m<\u001b[39m\u001b[38;5;241m1000\u001b[39m):\n\u001b[0;32m     10\u001b[0m     \u001b[38;5;28mprint\u001b[39m(\u001b[38;5;124m\"\u001b[39m\u001b[38;5;124mYou are VIP Customer\u001b[39m\u001b[38;5;124m\"\u001b[39m)\n\u001b[0;32m     11\u001b[0m \u001b[38;5;28;01melse\u001b[39;00m:\n",
      "\u001b[1;31mNameError\u001b[0m: name 'Samount' is not defined"
     ]
    }
   ],
   "source": [
    "if samount>=15000:\n",
    "    print(\"You are eligible for a 10% discount\")\n",
    "elif (samount>=10000 and samount<15000):\n",
    "    print(\"You are eligible for 5% discount\")\n",
    "elif (samount>=5000 and samount<10000):\n",
    "    print(\"You are eligible for a voucher\")\n",
    "elif (samount>=1000 and samount<5000):\n",
    "    print(\"You are eligible for a movie ticket\")\n",
    "elif (Samount>=100 and samount<1000):\n",
    "    print(\"You are VIP Customer\")\n",
    "else:\n",
    "    print(\"NO REWARD\")"
   ]
  },
  {
   "cell_type": "code",
   "execution_count": 78,
   "id": "d8003833-37fd-4aad-bd04-9e51e2ac37d6",
   "metadata": {},
   "outputs": [],
   "source": [
    "# Nesting: whenever we write if, elif, else inside another if, elif, else that is known as"
   ]
  },
  {
   "cell_type": "code",
   "execution_count": 120,
   "id": "f75cad5a-f765-4632-84a0-bf30177911ee",
   "metadata": {},
   "outputs": [
    {
     "name": "stdin",
     "output_type": "stream",
     "text": [
      " Enter any number: 25\n"
     ]
    }
   ],
   "source": [
    "number = int(input(\" Enter any number:\"))"
   ]
  },
  {
   "cell_type": "code",
   "execution_count": 122,
   "id": "520932fd-13fd-4432-8542-e21043783f05",
   "metadata": {},
   "outputs": [
    {
     "name": "stdout",
     "output_type": "stream",
     "text": [
      "its positive\n"
     ]
    }
   ],
   "source": [
    "if (number>=0):\n",
    "    if number == 0:\n",
    "        print(\"its zero\")\n",
    "    else:\n",
    "        print(\"its positive\")\n",
    "else:\n",
    "    print(\"its negative\")"
   ]
  },
  {
   "cell_type": "code",
   "execution_count": 86,
   "id": "f94388fe-3add-427a-828a-8e71914ea7f7",
   "metadata": {},
   "outputs": [
    {
     "name": "stdin",
     "output_type": "stream",
     "text": [
      "Enter any number: -5\n"
     ]
    }
   ],
   "source": [
    "number = int(input(\"Enter any number:\"))"
   ]
  },
  {
   "cell_type": "code",
   "execution_count": 124,
   "id": "fd384acc-a4b8-41b9-8ed4-bfd66f04208e",
   "metadata": {},
   "outputs": [
    {
     "name": "stdout",
     "output_type": "stream",
     "text": [
      "its positive\n"
     ]
    }
   ],
   "source": [
    "if (number>=0):\n",
    "    if number ==0:\n",
    "        print(\"its zero\")\n",
    "    else:\n",
    "        print(\"its positive\")\n",
    "else:\n",
    "    print(\"its negative\")"
   ]
  },
  {
   "cell_type": "code",
   "execution_count": 5,
   "id": "7a764862-cadd-4b74-8e21-4c1eca554739",
   "metadata": {},
   "outputs": [
    {
     "ename": "NameError",
     "evalue": "name 'number' is not defined",
     "output_type": "error",
     "traceback": [
      "\u001b[1;31m---------------------------------------------------------------------------\u001b[0m",
      "\u001b[1;31mNameError\u001b[0m                                 Traceback (most recent call last)",
      "Cell \u001b[1;32mIn[5], line 1\u001b[0m\n\u001b[1;32m----> 1\u001b[0m \u001b[38;5;28;01mif\u001b[39;00m number\u001b[38;5;241m>\u001b[39m\u001b[38;5;241m10\u001b[39m:\n\u001b[0;32m      2\u001b[0m     \u001b[38;5;28;01mif\u001b[39;00m number\u001b[38;5;241m>\u001b[39m\u001b[38;5;241m20\u001b[39m:\n\u001b[0;32m      3\u001b[0m         \u001b[38;5;28;01mif\u001b[39;00m number\u001b[38;5;241m>\u001b[39m\u001b[38;5;241m30\u001b[39m:\n",
      "\u001b[1;31mNameError\u001b[0m: name 'number' is not defined"
     ]
    }
   ],
   "source": [
    "if number>10:\n",
    "    if number>20:\n",
    "        if number>30:\n",
    "            if number>40:\n",
    "                if number>50:\n",
    "                    if number>60:\n",
    "                        if number>70:\n",
    "                            if number%2==0:\n",
    "                                print(\"Its even\")\n",
    "                            else:\n",
    "                                print(\"its odd\")\n",
    "                        elif number==70:\n",
    "                            print(\"its seventy\")\n",
    "                        else:\n",
    "                            print(\"Its lesser than seventy\")\n",
    "                    elif number==60:\n",
    "                        print(\"its sixty\")\n",
    "                    else:\n",
    "                        print(\"its lesser than 60\")\n",
    "                elif number == 50:\n",
    "                    print(\"its fifty\")\n",
    "                else:\n",
    "                    print(\"its lesser than 50\")\n",
    "            elif number==40:\n",
    "                print(\"its forty\")\n",
    "            else:\n",
    "                print(\"its lesser than 40\")\n",
    "        elif number == 30:\n",
    "            print(\"Its thirty\")\n",
    "        else:\n",
    "            print(\"its lesser than 30\")\n",
    "    elif number==20:\n",
    "        print(\"its twenty\")\n",
    "    else:\n",
    "        print(\"its lesser than 20\")\n",
    "elif number==10:\n",
    "    print(\"its ten\")\n",
    "else:\n",
    "    print(\"Its negative\")"
   ]
  },
  {
   "cell_type": "code",
   "execution_count": 29,
   "id": "999a8e67-f5ae-4e2b-8e75-96add2cee5f2",
   "metadata": {},
   "outputs": [
    {
     "name": "stdin",
     "output_type": "stream",
     "text": [
      "enter any number: 6\n"
     ]
    }
   ],
   "source": [
    "number = int(input(\"enter any number:\"))"
   ]
  },
  {
   "cell_type": "code",
   "execution_count": 31,
   "id": "cfb81af5-b74a-4091-b84c-d988b7c6f346",
   "metadata": {},
   "outputs": [
    {
     "name": "stdout",
     "output_type": "stream",
     "text": [
      "its positive\n"
     ]
    }
   ],
   "source": [
    "if number>=0:\n",
    "    if number==0:\n",
    "        print(\"its zero\")\n",
    "    else:\n",
    "        print(\"its positive\")\n",
    "else:\n",
    "    print(\"Its negative\")"
   ]
  },
  {
   "cell_type": "code",
   "execution_count": 1,
   "id": "e2ccd484-e4cb-44dd-9004-f7061e27b44e",
   "metadata": {},
   "outputs": [
    {
     "name": "stdin",
     "output_type": "stream",
     "text": [
      "enter your number: 6\n"
     ]
    }
   ],
   "source": [
    "number = int(input(\"enter your number:\"))"
   ]
  },
  {
   "cell_type": "code",
   "execution_count": 3,
   "id": "a204b656-6e40-4d33-991f-8d703fa6eee5",
   "metadata": {},
   "outputs": [
    {
     "name": "stdout",
     "output_type": "stream",
     "text": [
      "its positive\n"
     ]
    }
   ],
   "source": [
    "if number>= 0:\n",
    "    if number==0:\n",
    "        print(\"its zero\")\n",
    "    else:\n",
    "        print(\"its positive\")\n",
    "else:\n",
    "    print(\"its negative\")"
   ]
  },
  {
   "cell_type": "code",
   "execution_count": 126,
   "id": "1c65f462-19f8-46c4-9ff2-0a74f90c2403",
   "metadata": {},
   "outputs": [
    {
     "name": "stdin",
     "output_type": "stream",
     "text": [
      "enter your number: 20\n"
     ]
    }
   ],
   "source": [
    "number = int(input(\"enter your number:\"))"
   ]
  },
  {
   "cell_type": "code",
   "execution_count": 128,
   "id": "4e8c4340-8eeb-4970-b1d0-e247606b7c29",
   "metadata": {},
   "outputs": [
    {
     "name": "stdout",
     "output_type": "stream",
     "text": [
      "its twenty\n"
     ]
    }
   ],
   "source": [
    "if number>= 0:\n",
    "    if number==0:\n",
    "        print(\"its zero\")\n",
    "    if number ==10:\n",
    "        print(\"its ten\")\n",
    "    if number ==20:\n",
    "        print(\"its twenty\")\n",
    "    if number ==30:\n",
    "        print(\"its thirty\")\n",
    "else:\n",
    "    print(\"its negative\")"
   ]
  },
  {
   "cell_type": "code",
   "execution_count": 1,
   "id": "34408f04-9e78-453a-8ada-07d8c5205760",
   "metadata": {},
   "outputs": [
    {
     "name": "stdin",
     "output_type": "stream",
     "text": [
      "Enter any number 30\n"
     ]
    }
   ],
   "source": [
    "number = int(input(\"Enter any number\"))"
   ]
  },
  {
   "cell_type": "code",
   "execution_count": 5,
   "id": "850b30a9-ea47-4607-ad2b-b3944dba118c",
   "metadata": {},
   "outputs": [
    {
     "name": "stdout",
     "output_type": "stream",
     "text": [
      "its thirty\n"
     ]
    }
   ],
   "source": [
    "if number>=0:\n",
    "    if number==0:\n",
    "        print(\"its zero\")\n",
    "    if number==10:\n",
    "        print(\"its ten\")\n",
    "    if number==20:\n",
    "        print(\"its twenty\")\n",
    "    if number==30:\n",
    "        print(\"its thirty\")\n",
    "else:\n",
    "    print(\"its negative\")"
   ]
  },
  {
   "cell_type": "code",
   "execution_count": 11,
   "id": "7bc027c1-bccc-4924-a77f-2c97a439bc5b",
   "metadata": {},
   "outputs": [
    {
     "name": "stdout",
     "output_type": "stream",
     "text": [
      "its ten\n",
      "its positive\n"
     ]
    }
   ],
   "source": [
    "if number>=0:\n",
    "    if number==0:\n",
    "        print(\"its zero\")\n",
    "    if number==10:\n",
    "        print(\"its ten\")\n",
    "    if number ==20:\n",
    "        print(\"its twenty\")\n",
    "    if number ==30:\n",
    "        print(\"its thirty\")\n",
    "    else:\n",
    "        print(\"its positive\")\n",
    "else:\n",
    "    print(\"its negative\")"
   ]
  },
  {
   "cell_type": "code",
   "execution_count": 9,
   "id": "14aa3655-a00b-4a1f-82c7-cbba1be19a8f",
   "metadata": {},
   "outputs": [
    {
     "name": "stdout",
     "output_type": "stream",
     "text": [
      "its thirty\n"
     ]
    }
   ],
   "source": [
    "if number>=0:\n",
    "    if number==0:\n",
    "        print(\"its zero\")\n",
    "    if number==10:\n",
    "        print(\"its ten\")\n",
    "    if number==20:\n",
    "        print(\"its twenty\")\n",
    "    if number==30:\n",
    "        print(\"its thirty\")\n",
    "    else:\n",
    "        print(\"its positive\")\n",
    "else:\n",
    "    print(\"its negative\")"
   ]
  },
  {
   "cell_type": "code",
   "execution_count": 13,
   "id": "d1581ffc-4424-4be5-b423-0d2bcda65515",
   "metadata": {},
   "outputs": [
    {
     "name": "stdout",
     "output_type": "stream",
     "text": [
      "positive number\n"
     ]
    }
   ],
   "source": [
    "if number>= 0:\n",
    "    if number == 0:\n",
    "        print(\"its zero\")\n",
    "    else:\n",
    "        print(\"positive number\")\n",
    "else:\n",
    "    print(\"its negative\")"
   ]
  },
  {
   "cell_type": "code",
   "execution_count": 11,
   "id": "8a6ebcd0-9344-470a-9390-d18f91b40833",
   "metadata": {},
   "outputs": [
    {
     "name": "stdout",
     "output_type": "stream",
     "text": [
      "its positive\n"
     ]
    }
   ],
   "source": [
    "if number>=0:\n",
    "    if number==0:\n",
    "        print(\"its zero\")\n",
    "    else:\n",
    "        print(\"its positive\")\n",
    "else:\n",
    "    print(\"its negaative\")"
   ]
  },
  {
   "cell_type": "code",
   "execution_count": 17,
   "id": "19846190-546b-48f6-8a10-f82dd4929679",
   "metadata": {},
   "outputs": [
    {
     "name": "stdin",
     "output_type": "stream",
     "text": [
      "enter your number: 30\n"
     ]
    }
   ],
   "source": [
    "number = int(input(\"enter your number:\"))"
   ]
  },
  {
   "cell_type": "code",
   "execution_count": 31,
   "id": "ed7cde3c-2250-4392-9667-10c02c3ef844",
   "metadata": {},
   "outputs": [
    {
     "name": "stdout",
     "output_type": "stream",
     "text": [
      "its thirty\n"
     ]
    }
   ],
   "source": [
    "if number>=0:\n",
    "    if number>10:\n",
    "        if number>20:\n",
    "            if number>30:\n",
    "                if number>40:\n",
    "                    if number>50:\n",
    "                        if number%2==0:\n",
    "                            print(\"its even\")\n",
    "                        else:\n",
    "                            print(\"its odd\")\n",
    "                    else:\n",
    "                        print(\"its less than 50\")\n",
    "                else:\n",
    "                    print(\"its less than 40\")\n",
    "            elif(number==30):\n",
    "                print(\"its thirty\")\n",
    "            else:\n",
    "                print(\"its less than 30\")\n",
    "        else:\n",
    "            print(\"its less than 20\")\n",
    "    else:\n",
    "        print(\"its less than 10\")\n",
    "else:\n",
    "    print(\"its negative\")\n",
    "        "
   ]
  },
  {
   "cell_type": "code",
   "execution_count": null,
   "id": "a5fc851c-111b-4e17-ab4a-44ca8525682f",
   "metadata": {},
   "outputs": [],
   "source": []
  },
  {
   "cell_type": "code",
   "execution_count": null,
   "id": "87f7e1fc-f5fd-4bc8-9497-770f0e3b67ac",
   "metadata": {},
   "outputs": [],
   "source": []
  },
  {
   "cell_type": "code",
   "execution_count": null,
   "id": "f3a6d26a-4f2f-4212-a27e-d576c2a0323d",
   "metadata": {},
   "outputs": [],
   "source": []
  },
  {
   "cell_type": "code",
   "execution_count": 13,
   "id": "6f81f262-0daa-4520-9717-5a018d83ddd6",
   "metadata": {},
   "outputs": [
    {
     "name": "stdout",
     "output_type": "stream",
     "text": [
      "its smallerthan 30\n"
     ]
    }
   ],
   "source": [
    "if number>=0:\n",
    "    if number >10:\n",
    "        if number>20:\n",
    "            if number>30:\n",
    "                if number>40:\n",
    "                    if number>100:\n",
    "                        print(\"its greater than 100\")\n",
    "                    else:\n",
    "                        print(\"its smaller than 100\")\n",
    "                else:\n",
    "                    print(\"Its smaller than 40\")\n",
    "            else:\n",
    "                print(\"its smallerthan 30\")\n",
    "        else:\n",
    "            print(\"its smaller than 20\")\n",
    "    else:\n",
    "        print(\"its smaller than 10\")\n",
    "                    \n",
    "else:\n",
    "    print(\"Its negative\")"
   ]
  },
  {
   "cell_type": "code",
   "execution_count": 15,
   "id": "fb1407c3-1fa2-459c-91e3-75c0fdb9017d",
   "metadata": {},
   "outputs": [
    {
     "name": "stdout",
     "output_type": "stream",
     "text": [
      "its smaller than 30\n"
     ]
    }
   ],
   "source": [
    "if number>=0:\n",
    "    if number>10:\n",
    "        if number>20:\n",
    "            if number>30:\n",
    "                if number>40:\n",
    "                    if number>100:\n",
    "                        print(\"its greater than 100\")\n",
    "                    else:\n",
    "                        print(\"its smaller than 100\")\n",
    "                else:\n",
    "                    print(\"its smaller than 40\")\n",
    "            else:\n",
    "                print(\"its smaller than 30\")\n",
    "        else:\n",
    "            print(\"its smamller than 20\")\n",
    "    else:\n",
    "        print(\"its smaller than 10\")\n",
    "\n",
    "else:\n",
    "    print(\"its negative\")"
   ]
  },
  {
   "cell_type": "code",
   "execution_count": null,
   "id": "8b6d3a96-6e59-4870-9d03-57c6be462364",
   "metadata": {},
   "outputs": [],
   "source": []
  },
  {
   "cell_type": "code",
   "execution_count": 21,
   "id": "33c4790f-ffae-4689-95b3-86b7578d770c",
   "metadata": {},
   "outputs": [
    {
     "name": "stdin",
     "output_type": "stream",
     "text": [
      "enter any number: 30\n"
     ]
    }
   ],
   "source": [
    "number = int(input(\"enter any number:\"))"
   ]
  },
  {
   "cell_type": "code",
   "execution_count": 19,
   "id": "3bbc14be-0546-4edb-b009-e18df245712b",
   "metadata": {},
   "outputs": [
    {
     "name": "stdout",
     "output_type": "stream",
     "text": [
      "its thirty\n"
     ]
    }
   ],
   "source": [
    "if number>=0:\n",
    "    if number==10:\n",
    "        print(\"its ten\")\n",
    "    if number==20:\n",
    "        print(\"its twenty\")\n",
    "    if number==30:\n",
    "        print(\"its thirty\")\n",
    "    if number==40:\n",
    "        print(\"its forty\")\n",
    "else:\n",
    "    print(\"its negative\")"
   ]
  },
  {
   "cell_type": "code",
   "execution_count": 9,
   "id": "1db0c566-fd48-49f0-b672-5c13e5643910",
   "metadata": {},
   "outputs": [
    {
     "name": "stdin",
     "output_type": "stream",
     "text": [
      "Enter any number 20\n"
     ]
    }
   ],
   "source": [
    "number = int(input(\"Enter any number\"))"
   ]
  },
  {
   "cell_type": "code",
   "execution_count": 11,
   "id": "db0b15a3-9dcb-47bb-aece-58bf36526602",
   "metadata": {},
   "outputs": [
    {
     "name": "stdout",
     "output_type": "stream",
     "text": [
      "its negative\n"
     ]
    }
   ],
   "source": [
    "if number>=30:\n",
    "    if number==10:\n",
    "        print(\"its ten\")\n",
    "    if number==20:\n",
    "        print(\"its twenty\")\n",
    "    if number==30:\n",
    "        print(\"its thirty\")\n",
    "    if number==40:\n",
    "        print(\"its fourty\")\n",
    "else:\n",
    "    print(\"its negative\")"
   ]
  },
  {
   "cell_type": "code",
   "execution_count": 23,
   "id": "69d5c0af-5006-472c-9e88-14e6b12a35ef",
   "metadata": {},
   "outputs": [
    {
     "name": "stdout",
     "output_type": "stream",
     "text": [
      "its thirty\n"
     ]
    }
   ],
   "source": [
    "if number>=0:\n",
    "    if number==10:\n",
    "        print(\"its ten\")\n",
    "    if number==20:\n",
    "        print(\"its twenty\")\n",
    "    if number==30:\n",
    "        print(\"its thirty\")\n",
    "    if number==40:\n",
    "        print(\"its fourty\")\n",
    "else:\n",
    "    print(\"its negative\")"
   ]
  },
  {
   "cell_type": "code",
   "execution_count": 25,
   "id": "eedaf59e-3821-4060-b99a-541596ca3285",
   "metadata": {},
   "outputs": [
    {
     "name": "stdin",
     "output_type": "stream",
     "text": [
      "enter any number: 30\n"
     ]
    }
   ],
   "source": [
    "number = int(input(\"enter any number:\"))"
   ]
  },
  {
   "cell_type": "code",
   "execution_count": null,
   "id": "53302ed4-4b6b-477b-a7df-1d5a95a61067",
   "metadata": {},
   "outputs": [],
   "source": []
  },
  {
   "cell_type": "code",
   "execution_count": 51,
   "id": "82b6bffb-9f65-44fb-96f5-e97824670ed9",
   "metadata": {},
   "outputs": [
    {
     "name": "stdout",
     "output_type": "stream",
     "text": [
      "its smaller than 20\n"
     ]
    }
   ],
   "source": [
    "if number>=0:\n",
    "    if number >10:\n",
    "        if number>20:\n",
    "            if number>30:\n",
    "                if number>40:\n",
    "                    if number>100:\n",
    "                        print(\"its greater than 100\")\n",
    "                    else:\n",
    "                        print(\"its smaller than 100\")\n",
    "                else:\n",
    "                    print(\"Its smaller than 40\")\n",
    "            else:\n",
    "                print(\"its smallerthan 30\")\n",
    "        else:\n",
    "            print(\"its smaller than 20\")\n",
    "    else:\n",
    "        print(\"its smaller than 10\")\n",
    "                    \n",
    "else:\n",
    "    print(\"Its negative\")"
   ]
  },
  {
   "cell_type": "code",
   "execution_count": null,
   "id": "8dd2dd05-78a3-4c06-aecc-d2aef84bad79",
   "metadata": {},
   "outputs": [],
   "source": []
  },
  {
   "cell_type": "code",
   "execution_count": 1,
   "id": "95569459-8cf7-479b-b9e2-d87e4ab9fad6",
   "metadata": {},
   "outputs": [],
   "source": [
    "# Loops:"
   ]
  },
  {
   "cell_type": "code",
   "execution_count": 1,
   "id": "6a18c617-7564-4369-a389-13c20c3c694b",
   "metadata": {},
   "outputs": [
    {
     "data": {
      "text/plain": [
       "[1, 2, 3, 4, 5, 6, 7, 8, 9, 10, 11, 12, 13, 14, 15, 16, 17, 18, 19]"
      ]
     },
     "execution_count": 1,
     "metadata": {},
     "output_type": "execute_result"
    }
   ],
   "source": [
    "list(range(1,20))"
   ]
  },
  {
   "cell_type": "code",
   "execution_count": 3,
   "id": "b90fb5c9-f730-4073-bb49-0e03ab7b9c86",
   "metadata": {},
   "outputs": [
    {
     "data": {
      "text/plain": [
       "[2, 3, 4, 5, 6, 7, 8, 9, 10, 11, 12, 13, 14, 15, 16, 17, 18, 19]"
      ]
     },
     "execution_count": 3,
     "metadata": {},
     "output_type": "execute_result"
    }
   ],
   "source": [
    "list(range(2,20))"
   ]
  },
  {
   "cell_type": "code",
   "execution_count": 7,
   "id": "8da7e9c5-b038-4bdc-a709-e1947310e62b",
   "metadata": {},
   "outputs": [
    {
     "data": {
      "text/plain": [
       "[1, 11, 21, 31, 41, 51, 61, 71, 81, 91]"
      ]
     },
     "execution_count": 7,
     "metadata": {},
     "output_type": "execute_result"
    }
   ],
   "source": [
    "list(range(1,100,10))"
   ]
  },
  {
   "cell_type": "code",
   "execution_count": 11,
   "id": "628d5925-ca0c-4330-933a-51ec0a834c02",
   "metadata": {},
   "outputs": [
    {
     "data": {
      "text/plain": [
       "[2, 52, 102, 152, 202, 252, 302, 352, 402, 452]"
      ]
     },
     "execution_count": 11,
     "metadata": {},
     "output_type": "execute_result"
    }
   ],
   "source": [
    "list(range(2,500,50))"
   ]
  },
  {
   "cell_type": "code",
   "execution_count": 13,
   "id": "ff1ea914-686d-4811-a4b5-074f082c38e2",
   "metadata": {},
   "outputs": [
    {
     "data": {
      "text/plain": [
       "[5, 55, 105, 155, 205, 255, 305, 355, 405, 455, 505, 555]"
      ]
     },
     "execution_count": 13,
     "metadata": {},
     "output_type": "execute_result"
    }
   ],
   "source": [
    "list(range(5,600,50))"
   ]
  },
  {
   "cell_type": "code",
   "execution_count": 15,
   "id": "dea10c47-9e43-4a98-a10f-a6a2dc695708",
   "metadata": {},
   "outputs": [
    {
     "data": {
      "text/plain": [
       "[10, 110, 210, 310, 410, 510, 610, 710, 810, 910]"
      ]
     },
     "execution_count": 15,
     "metadata": {},
     "output_type": "execute_result"
    }
   ],
   "source": [
    "list(range(10,1000,100))"
   ]
  },
  {
   "cell_type": "code",
   "execution_count": 17,
   "id": "485fe977-7196-423f-bff2-4f747f991734",
   "metadata": {},
   "outputs": [
    {
     "data": {
      "text/plain": [
       "[20,\n",
       " 120,\n",
       " 220,\n",
       " 320,\n",
       " 420,\n",
       " 520,\n",
       " 620,\n",
       " 720,\n",
       " 820,\n",
       " 920,\n",
       " 1020,\n",
       " 1120,\n",
       " 1220,\n",
       " 1320,\n",
       " 1420,\n",
       " 1520,\n",
       " 1620,\n",
       " 1720,\n",
       " 1820,\n",
       " 1920]"
      ]
     },
     "execution_count": 17,
     "metadata": {},
     "output_type": "execute_result"
    }
   ],
   "source": [
    "list(range(20,2000,100))"
   ]
  },
  {
   "cell_type": "code",
   "execution_count": 3,
   "id": "8a24cbb2-713b-4d5a-b758-ff1f96b285d4",
   "metadata": {},
   "outputs": [
    {
     "data": {
      "text/plain": [
       "[1, 2, 3, 4, 5, 6, 7, 8, 9]"
      ]
     },
     "execution_count": 3,
     "metadata": {},
     "output_type": "execute_result"
    }
   ],
   "source": [
    "list(range(1,10))"
   ]
  },
  {
   "cell_type": "code",
   "execution_count": 5,
   "id": "62e4acdb-1094-4916-a291-1660f7979da2",
   "metadata": {},
   "outputs": [
    {
     "data": {
      "text/plain": [
       "[1, 2, 3, 4, 5, 6, 7, 8, 9, 10, 11, 12, 13, 14, 15, 16, 17, 18, 19, 20]"
      ]
     },
     "execution_count": 5,
     "metadata": {},
     "output_type": "execute_result"
    }
   ],
   "source": [
    "list(range(1,21))"
   ]
  },
  {
   "cell_type": "code",
   "execution_count": 7,
   "id": "5e984830-e209-4188-ae88-eb875afac587",
   "metadata": {},
   "outputs": [
    {
     "data": {
      "text/plain": [
       "(2, 12, 22, 32, 42, 52, 62, 72, 82, 92)"
      ]
     },
     "execution_count": 7,
     "metadata": {},
     "output_type": "execute_result"
    }
   ],
   "source": [
    "tuple(range(2,100,10))"
   ]
  },
  {
   "cell_type": "code",
   "execution_count": 9,
   "id": "8e6e90dc-6307-4b8d-8c69-d87a6ff2759d",
   "metadata": {},
   "outputs": [
    {
     "data": {
      "text/plain": [
       "[10, 25, 40, 55, 70, 85, 100, 115, 130, 145]"
      ]
     },
     "execution_count": 9,
     "metadata": {},
     "output_type": "execute_result"
    }
   ],
   "source": [
    "list(range(10,150,15))"
   ]
  },
  {
   "cell_type": "code",
   "execution_count": null,
   "id": "0cf89325-01eb-411c-94ae-bd2ece897258",
   "metadata": {},
   "outputs": [],
   "source": []
  },
  {
   "cell_type": "code",
   "execution_count": null,
   "id": "e5b3e5e6-3c95-4c8f-bf35-2d094d43bf8b",
   "metadata": {},
   "outputs": [],
   "source": []
  },
  {
   "cell_type": "code",
   "execution_count": 15,
   "id": "ab6737b6-1ab0-4d5d-8366-a6187d290f2c",
   "metadata": {},
   "outputs": [],
   "source": [
    "# Loops:"
   ]
  },
  {
   "cell_type": "code",
   "execution_count": 17,
   "id": "0a7d5843-406d-448b-ba4e-65a892443a3b",
   "metadata": {},
   "outputs": [
    {
     "name": "stdout",
     "output_type": "stream",
     "text": [
      "2\n",
      "4\n",
      "6\n",
      "8\n",
      "10\n",
      "12\n",
      "14\n",
      "16\n",
      "18\n",
      "20\n"
     ]
    }
   ],
   "source": [
    "print(2)\n",
    "print(4)\n",
    "print(6)\n",
    "print(8)\n",
    "print(10)\n",
    "print(12)\n",
    "print(14)\n",
    "print(16)\n",
    "print(18)\n",
    "print(20)"
   ]
  },
  {
   "cell_type": "code",
   "execution_count": 19,
   "id": "3176102d-4d91-43fd-91e5-d20829c34e25",
   "metadata": {},
   "outputs": [],
   "source": [
    "# While Loop\n",
    "# For Loop"
   ]
  },
  {
   "cell_type": "code",
   "execution_count": null,
   "id": "d1665579-d3c2-4a3c-afc6-1a9c78730378",
   "metadata": {},
   "outputs": [],
   "source": [
    "# While Loop:\n",
    "syntax :\n",
    "\n",
    "1. Initilization\n",
    "while (2. stoping condition):\n",
    "    logic \n",
    "    3. Updation"
   ]
  },
  {
   "cell_type": "code",
   "execution_count": null,
   "id": "488f2c36-8f87-40e1-b197-11db878a89fd",
   "metadata": {},
   "outputs": [],
   "source": []
  },
  {
   "cell_type": "code",
   "execution_count": 21,
   "id": "50a9c2a6-2187-43b2-b760-ab8f69414cf0",
   "metadata": {},
   "outputs": [
    {
     "name": "stdout",
     "output_type": "stream",
     "text": [
      "2\n",
      "3\n",
      "4\n",
      "5\n",
      "6\n",
      "7\n",
      "8\n",
      "9\n",
      "10\n",
      "11\n",
      "12\n",
      "13\n",
      "14\n",
      "15\n",
      "16\n",
      "17\n",
      "18\n",
      "19\n",
      "20\n"
     ]
    }
   ],
   "source": [
    "i = 2\n",
    "while (i<=20):\n",
    "    print(i)\n",
    "    i = i+1"
   ]
  },
  {
   "cell_type": "code",
   "execution_count": 30,
   "id": "49c5a89c-3bd4-4592-9c7c-8bac1e573eed",
   "metadata": {},
   "outputs": [
    {
     "name": "stdout",
     "output_type": "stream",
     "text": [
      "2\n",
      "4\n",
      "6\n",
      "8\n",
      "10\n",
      "12\n",
      "14\n",
      "16\n",
      "18\n",
      "20\n",
      "22\n",
      "24\n",
      "26\n",
      "28\n",
      "30\n"
     ]
    }
   ],
   "source": [
    "i= 1\n",
    "while (i<=30):\n",
    "    if i%2==0:\n",
    "        print(i)\n",
    "    i = i+1"
   ]
  },
  {
   "cell_type": "code",
   "execution_count": 28,
   "id": "4c5beb90-a4a9-40c1-a55f-3b572f6ae411",
   "metadata": {},
   "outputs": [
    {
     "name": "stdout",
     "output_type": "stream",
     "text": [
      "2\n",
      "4\n",
      "6\n",
      "8\n",
      "10\n",
      "12\n",
      "14\n",
      "16\n",
      "18\n",
      "20\n"
     ]
    }
   ],
   "source": [
    "i = 2\n",
    "while (i<=20):\n",
    "    if i%2==0:\n",
    "        print(i)\n",
    "    i = i+1"
   ]
  },
  {
   "cell_type": "code",
   "execution_count": 26,
   "id": "59813803-1a4f-491c-9509-6707a1906b32",
   "metadata": {},
   "outputs": [
    {
     "name": "stdout",
     "output_type": "stream",
     "text": [
      "2\n",
      "4\n",
      "6\n",
      "8\n",
      "10\n",
      "12\n",
      "14\n",
      "16\n",
      "18\n",
      "20\n",
      "All elements are done\n"
     ]
    }
   ],
   "source": [
    "i = 1\n",
    "while (i<=20):\n",
    "    if i%2==0:\n",
    "        print(i)\n",
    "    i+=1\n",
    "else:\n",
    "    print(\"All elements are done\")"
   ]
  },
  {
   "cell_type": "code",
   "execution_count": null,
   "id": "7645d87f-1e0c-4d98-ab4b-94b2b73374c9",
   "metadata": {},
   "outputs": [],
   "source": []
  },
  {
   "cell_type": "code",
   "execution_count": null,
   "id": "034a462c-db4c-4b85-a4e5-89436369ea45",
   "metadata": {},
   "outputs": [],
   "source": []
  },
  {
   "cell_type": "code",
   "execution_count": null,
   "id": "86d64752-baf0-4c2f-bfa7-8f730f487dcd",
   "metadata": {},
   "outputs": [],
   "source": []
  },
  {
   "cell_type": "code",
   "execution_count": null,
   "id": "2e272559-d327-4c0c-955f-52871a2108f2",
   "metadata": {},
   "outputs": [],
   "source": []
  },
  {
   "cell_type": "code",
   "execution_count": null,
   "id": "d4e5ed41-1916-495f-aaf5-128d4455472f",
   "metadata": {},
   "outputs": [],
   "source": []
  },
  {
   "cell_type": "code",
   "execution_count": null,
   "id": "1fbfea77-0e62-411c-bb95-0e58784f909e",
   "metadata": {},
   "outputs": [
    {
     "name": "stdout",
     "output_type": "stream",
     "text": [
      "2\n"
     ]
    }
   ],
   "source": [
    "i = 2\n",
    "while (i<=10):\n",
    "    if i%2==0:\n",
    "        print(i)\n",
    "        i = i+1"
   ]
  },
  {
   "cell_type": "code",
   "execution_count": 10,
   "id": "ad770e67-c489-4a3d-9e3e-4e037cbdbbd3",
   "metadata": {},
   "outputs": [
    {
     "name": "stdout",
     "output_type": "stream",
     "text": [
      "1\n",
      "2\n",
      "3\n",
      "4\n",
      "5\n",
      "6\n",
      "7\n",
      "8\n",
      "9\n",
      "10\n",
      "no element left\n"
     ]
    }
   ],
   "source": [
    "i = 1\n",
    "while (i<=10):\n",
    "    print(i)\n",
    "    i+=1\n",
    "else:\n",
    "    print(\"no element left\")"
   ]
  },
  {
   "cell_type": "code",
   "execution_count": null,
   "id": "25082dc8-e6cb-4dff-98f7-a022eb32c883",
   "metadata": {},
   "outputs": [],
   "source": [
    "i = 1\n",
    "while (i<=10):\n",
    "    print(i)\n",
    "    i+=1\n",
    "else:\n",
    "    print(\"no elements more\")"
   ]
  },
  {
   "cell_type": "code",
   "execution_count": 13,
   "id": "750305bd-a7c0-4dad-83d1-a2462a05fd2a",
   "metadata": {},
   "outputs": [],
   "source": [
    "# while True (infinite loop)"
   ]
  },
  {
   "cell_type": "code",
   "execution_count": 32,
   "id": "5556ed5e-d67c-4646-b419-69391ca317e7",
   "metadata": {},
   "outputs": [
    {
     "name": "stdin",
     "output_type": "stream",
     "text": [
      "Enter any number which you want t sum upto: 1000\n"
     ]
    }
   ],
   "source": [
    "num = int(input(\"Enter any number which you want t sum upto:\"))"
   ]
  },
  {
   "cell_type": "code",
   "execution_count": 34,
   "id": "dde91048-0c90-442f-9f1b-4b21e6d92548",
   "metadata": {},
   "outputs": [
    {
     "data": {
      "text/plain": [
       "1000"
      ]
     },
     "execution_count": 34,
     "metadata": {},
     "output_type": "execute_result"
    }
   ],
   "source": [
    "num"
   ]
  },
  {
   "cell_type": "code",
   "execution_count": null,
   "id": "2f335f29-df32-4944-8386-8ff8ab104f9a",
   "metadata": {},
   "outputs": [],
   "source": [
    "total = 0\n",
    "while True:\n",
    "    \n",
    "    "
   ]
  },
  {
   "cell_type": "code",
   "execution_count": 34,
   "id": "2bbbd391-ba5d-4561-b26e-bcdec7415fcb",
   "metadata": {},
   "outputs": [
    {
     "name": "stdin",
     "output_type": "stream",
     "text": [
      "Enter any number which you want to sum upto 10000\n"
     ]
    }
   ],
   "source": [
    "num = int(input(\"Enter any number which you want to sum upto\"))"
   ]
  },
  {
   "cell_type": "code",
   "execution_count": 36,
   "id": "3e189738-7124-47ec-b6d9-4cc53aea5922",
   "metadata": {},
   "outputs": [
    {
     "name": "stdout",
     "output_type": "stream",
     "text": [
      "The sum of first n natural are 50005000\n"
     ]
    }
   ],
   "source": [
    "total = 0 \n",
    "\n",
    "while True:\n",
    "    total += num\n",
    "    num-=1\n",
    "    if num==0:\n",
    "        break\n",
    "print(f\"The sum of first n natural are {total}\")"
   ]
  },
  {
   "cell_type": "code",
   "execution_count": null,
   "id": "f2f43c09-c5e0-44a4-b7d5-583652add03c",
   "metadata": {},
   "outputs": [],
   "source": [
    "# Counting odd numbers write a program that continously takes input "
   ]
  },
  {
   "cell_type": "code",
   "execution_count": null,
   "id": "123c677a-6154-4f94-b863-d1a2ebd8d81e",
   "metadata": {},
   "outputs": [],
   "source": [
    "a = 1,2,,3,4,5,6,8,2,1,9,3,4,7,6,2,1,7,9,3,1"
   ]
  },
  {
   "cell_type": "code",
   "execution_count": 13,
   "id": "d1b50f62-2afd-445c-8bad-a770ecbb9ec9",
   "metadata": {},
   "outputs": [
    {
     "name": "stdin",
     "output_type": "stream",
     "text": [
      "Enter any number... 1\n",
      "Enter any number... 2\n",
      "Enter any number... 3\n",
      "Enter any number... 5\n",
      "Enter any number... 3\n",
      "Enter any number... 6\n",
      "Enter any number... 4\n",
      "Enter any number... 9\n",
      "Enter any number... 1\n",
      "Enter any number... 8\n",
      "Enter any number... 4\n",
      "Enter any number... 1\n",
      "Enter any number... 9\n",
      "Enter any number... 1\n",
      "Enter any number... -2\n"
     ]
    }
   ],
   "source": [
    "count = 0\n",
    "while True:\n",
    "    num = int(input(\"Enter any number...\"))\n",
    "    if num<0:\n",
    "        break\n",
    "    else:\n",
    "        if num%2==1:\n",
    "            count+1"
   ]
  },
  {
   "cell_type": "code",
   "execution_count": 15,
   "id": "fd56fb1d-300b-417c-a5d9-55ec14ef6987",
   "metadata": {},
   "outputs": [
    {
     "name": "stdout",
     "output_type": "stream",
     "text": [
      "0\n"
     ]
    }
   ],
   "source": [
    "print(count)"
   ]
  },
  {
   "cell_type": "code",
   "execution_count": null,
   "id": "1969f565-839e-44b2-86d4-d983f7dedc0f",
   "metadata": {},
   "outputs": [],
   "source": []
  },
  {
   "cell_type": "code",
   "execution_count": null,
   "id": "eeb923c8-b30b-47f3-b130-6f3291e39272",
   "metadata": {},
   "outputs": [],
   "source": []
  },
  {
   "cell_type": "code",
   "execution_count": null,
   "id": "d737dd9f-f03a-441e-a424-eadc8bfe45eb",
   "metadata": {},
   "outputs": [],
   "source": []
  },
  {
   "cell_type": "code",
   "execution_count": null,
   "id": "522e0b70-c388-4f0b-bf72-b1b99deb9e42",
   "metadata": {},
   "outputs": [],
   "source": []
  },
  {
   "cell_type": "code",
   "execution_count": 39,
   "id": "fdd60ca1-c612-45f4-b3c2-91602ded57ee",
   "metadata": {},
   "outputs": [],
   "source": [
    "# Break, continue, pass"
   ]
  },
  {
   "cell_type": "code",
   "execution_count": 41,
   "id": "921baf06-8d0b-4605-8bd5-18a29d800db7",
   "metadata": {},
   "outputs": [
    {
     "data": {
      "text/plain": [
       "[1, 3, 5, 7, 9]"
      ]
     },
     "execution_count": 41,
     "metadata": {},
     "output_type": "execute_result"
    }
   ],
   "source": [
    "list(range(1,10,2))"
   ]
  },
  {
   "cell_type": "code",
   "execution_count": 43,
   "id": "bc1f67fd-53d8-4a9e-8f32-2a6e4c8650f7",
   "metadata": {},
   "outputs": [
    {
     "data": {
      "text/plain": [
       "[1, 3, 5, 7, 9, 11, 13, 15, 17, 19]"
      ]
     },
     "execution_count": 43,
     "metadata": {},
     "output_type": "execute_result"
    }
   ],
   "source": [
    "list(range(1,20,2))"
   ]
  },
  {
   "cell_type": "code",
   "execution_count": 45,
   "id": "06c6593e-1f2a-4498-9a8c-48faecd42b34",
   "metadata": {},
   "outputs": [
    {
     "data": {
      "text/plain": [
       "[2, 5, 8, 11, 14, 17, 20, 23, 26, 29]"
      ]
     },
     "execution_count": 45,
     "metadata": {},
     "output_type": "execute_result"
    }
   ],
   "source": [
    "list(range(2,30,3))"
   ]
  },
  {
   "cell_type": "code",
   "execution_count": 47,
   "id": "615c90b2-7f93-4b45-a20f-b59257a67861",
   "metadata": {},
   "outputs": [
    {
     "data": {
      "text/plain": [
       "[3, 7, 11, 15, 19, 23, 27, 31, 35, 39]"
      ]
     },
     "execution_count": 47,
     "metadata": {},
     "output_type": "execute_result"
    }
   ],
   "source": [
    "list(range(3,40,4))"
   ]
  },
  {
   "cell_type": "code",
   "execution_count": 49,
   "id": "b3293174-e1e8-4b5a-bbc2-6926ee0963f2",
   "metadata": {},
   "outputs": [
    {
     "data": {
      "text/plain": [
       "[5, 15, 25, 35, 45, 55, 65, 75, 85, 95]"
      ]
     },
     "execution_count": 49,
     "metadata": {},
     "output_type": "execute_result"
    }
   ],
   "source": [
    "list(range(5,100,10))"
   ]
  },
  {
   "cell_type": "code",
   "execution_count": 51,
   "id": "8f542c38-1826-4333-87d8-2bff76faf354",
   "metadata": {},
   "outputs": [
    {
     "data": {
      "text/plain": [
       "[0, 1, 2, 3, 4, 5, 6, 7, 8, 9, 10, 11, 12, 13, 14]"
      ]
     },
     "execution_count": 51,
     "metadata": {},
     "output_type": "execute_result"
    }
   ],
   "source": [
    "list(range(15))"
   ]
  },
  {
   "cell_type": "code",
   "execution_count": null,
   "id": "c54685a2-9f7c-4109-a9fd-6596f9fdd458",
   "metadata": {},
   "outputs": [],
   "source": []
  },
  {
   "cell_type": "code",
   "execution_count": 62,
   "id": "9538abdb-56ad-4b2b-9f46-601ec5b8d67d",
   "metadata": {},
   "outputs": [],
   "source": [
    "for i in range(15):\n",
    "    pass"
   ]
  },
  {
   "cell_type": "code",
   "execution_count": 64,
   "id": "c64e8d77-2d94-4a08-9735-5c49541f9115",
   "metadata": {},
   "outputs": [],
   "source": [
    "if 4>5:\n",
    "    pass"
   ]
  },
  {
   "cell_type": "code",
   "execution_count": 68,
   "id": "1673d3ea-b92c-47c1-beeb-77dbdcc1c696",
   "metadata": {},
   "outputs": [
    {
     "name": "stdout",
     "output_type": "stream",
     "text": [
      "0\n",
      "1\n",
      "2\n"
     ]
    }
   ],
   "source": [
    "for i in range (10):\n",
    "    if i==3:\n",
    "        break\n",
    "    print(i)\n",
    "else:\n",
    "    print(\"all done\")"
   ]
  },
  {
   "cell_type": "code",
   "execution_count": 70,
   "id": "17aa49f6-73ae-44e5-b76e-01f9fa9abbe0",
   "metadata": {},
   "outputs": [
    {
     "name": "stdout",
     "output_type": "stream",
     "text": [
      "0\n",
      "1\n",
      "2\n",
      "4\n",
      "5\n",
      "6\n",
      "7\n",
      "8\n",
      "9\n",
      "all done\n"
     ]
    }
   ],
   "source": [
    "for i in range(10):\n",
    "    if i==3:\n",
    "        continue\n",
    "    print(i)\n",
    "else:\n",
    "    print(\"all done\")"
   ]
  },
  {
   "cell_type": "code",
   "execution_count": 72,
   "id": "bab544b4-2741-4ffd-b6d1-b8208a759073",
   "metadata": {},
   "outputs": [
    {
     "data": {
      "text/plain": [
       "[2, 3, 4, 5, 6, 7, 8, 9, 10]"
      ]
     },
     "execution_count": 72,
     "metadata": {},
     "output_type": "execute_result"
    }
   ],
   "source": [
    "list(range(2,11))"
   ]
  },
  {
   "cell_type": "code",
   "execution_count": 78,
   "id": "c964bfc8-353f-4d25-ae1c-7f8453591650",
   "metadata": {},
   "outputs": [
    {
     "name": "stdout",
     "output_type": "stream",
     "text": [
      "2\n",
      "3\n",
      "4\n",
      "5\n",
      "6\n",
      "7\n",
      "8\n",
      "9\n",
      "10\n"
     ]
    }
   ],
   "source": [
    "for i in {2,3,4,5,6,7,8,9,10}:\n",
    "    print(i)"
   ]
  },
  {
   "cell_type": "code",
   "execution_count": 80,
   "id": "ea439e33-57da-4066-81e8-d82fdaa6c825",
   "metadata": {},
   "outputs": [
    {
     "name": "stdout",
     "output_type": "stream",
     "text": [
      "2\n",
      "3\n",
      "4\n",
      "5\n",
      "6\n",
      "7\n",
      "8\n",
      "9\n",
      "10\n"
     ]
    }
   ],
   "source": [
    "for i in range (2,11):\n",
    "    print(i)"
   ]
  },
  {
   "cell_type": "code",
   "execution_count": 82,
   "id": "3ae40996-4c93-4ee5-ae5d-f9bb428c0554",
   "metadata": {},
   "outputs": [
    {
     "name": "stdout",
     "output_type": "stream",
     "text": [
      "2\n",
      "4\n",
      "6\n",
      "8\n",
      "10\n",
      "12\n",
      "14\n",
      "16\n",
      "18\n",
      "20\n"
     ]
    }
   ],
   "source": [
    "for i in range (2,21):\n",
    "    if i%2==0:\n",
    "        print(i)"
   ]
  },
  {
   "cell_type": "code",
   "execution_count": 84,
   "id": "514cefee-1d7d-46b1-ab53-3268210ebfda",
   "metadata": {},
   "outputs": [
    {
     "data": {
      "text/plain": [
       "[2, 4, 6, 8, 10, 12, 14, 16, 18, 20]"
      ]
     },
     "execution_count": 84,
     "metadata": {},
     "output_type": "execute_result"
    }
   ],
   "source": [
    "list(range(2,21,2))"
   ]
  },
  {
   "cell_type": "code",
   "execution_count": 86,
   "id": "56f33aca-aa97-42bd-b2b6-17f40f690ece",
   "metadata": {},
   "outputs": [
    {
     "name": "stdout",
     "output_type": "stream",
     "text": [
      "2\n",
      "4\n",
      "6\n",
      "8\n",
      "10\n",
      "12\n",
      "14\n",
      "16\n",
      "18\n",
      "20\n"
     ]
    }
   ],
   "source": [
    "for i in range(2,21,2):\n",
    "    print(i)"
   ]
  },
  {
   "cell_type": "code",
   "execution_count": null,
   "id": "d09c58a0-bc35-40bc-9cb2-5146dc328d5e",
   "metadata": {},
   "outputs": [],
   "source": []
  },
  {
   "cell_type": "code",
   "execution_count": null,
   "id": "a3c37e9d-1e27-4133-a9fc-536014c4cb8b",
   "metadata": {},
   "outputs": [],
   "source": []
  },
  {
   "cell_type": "code",
   "execution_count": null,
   "id": "9b35a428-5386-4df0-9685-4c272d32294f",
   "metadata": {},
   "outputs": [],
   "source": []
  },
  {
   "cell_type": "code",
   "execution_count": 8,
   "id": "9d16c147-a841-4ea3-9f3c-eb7755fc51dd",
   "metadata": {},
   "outputs": [
    {
     "ename": "SyntaxError",
     "evalue": "invalid non-printable character U+00A0 (4018248656.py, line 4)",
     "output_type": "error",
     "traceback": [
      "\u001b[1;36m  Cell \u001b[1;32mIn[8], line 4\u001b[1;36m\u001b[0m\n\u001b[1;33m    print(t)\u001b[0m\n\u001b[1;37m    ^\u001b[0m\n\u001b[1;31mSyntaxError\u001b[0m\u001b[1;31m:\u001b[0m invalid non-printable character U+00A0\n"
     ]
    }
   ],
   "source": [
    "for t in range(0,30, 2):\n",
    "    if ==0:\n",
    "        continue\n",
    "    print(t)"
   ]
  },
  {
   "cell_type": "code",
   "execution_count": null,
   "id": "61338c8e-3c57-4c12-8a5e-282be68a429e",
   "metadata": {},
   "outputs": [],
   "source": []
  },
  {
   "cell_type": "code",
   "execution_count": null,
   "id": "212e7406-4846-419f-82ea-1a3fc7342eeb",
   "metadata": {},
   "outputs": [],
   "source": []
  },
  {
   "cell_type": "code",
   "execution_count": 13,
   "id": "71b8859c-33de-4f19-ae75-a43eacb61663",
   "metadata": {},
   "outputs": [],
   "source": [
    "# write a python programe to print square of even mumbers and cube of odd numbers upto 20"
   ]
  },
  {
   "cell_type": "code",
   "execution_count": 25,
   "id": "0b234f6e-a36e-4c75-8de6-4d2bf43a2c36",
   "metadata": {},
   "outputs": [
    {
     "name": "stdout",
     "output_type": "stream",
     "text": [
      "1\n",
      "4\n",
      "27\n",
      "16\n",
      "125\n",
      "36\n",
      "343\n",
      "64\n",
      "729\n",
      "100\n",
      "1331\n",
      "144\n",
      "2197\n",
      "196\n",
      "3375\n",
      "256\n",
      "4913\n",
      "324\n",
      "6859\n",
      "400\n"
     ]
    }
   ],
   "source": [
    "for i in range(1,21):\n",
    "    if i%2==0:\n",
    "        print(i**2)\n",
    "    else:\n",
    "        print(i**3)"
   ]
  },
  {
   "cell_type": "code",
   "execution_count": 17,
   "id": "15283a7a-6dd7-4b2f-bca2-eee7359c526f",
   "metadata": {},
   "outputs": [],
   "source": [
    "# for loop:"
   ]
  },
  {
   "cell_type": "code",
   "execution_count": 19,
   "id": "8dcd4381-3a1f-4d08-a0e4-83f46e1a9f74",
   "metadata": {},
   "outputs": [
    {
     "data": {
      "text/plain": [
       "[1, 2, 3, 4, 5, 6, 7, 8, 9, 10]"
      ]
     },
     "execution_count": 19,
     "metadata": {},
     "output_type": "execute_result"
    }
   ],
   "source": [
    "list(range(1,11))"
   ]
  },
  {
   "cell_type": "code",
   "execution_count": 21,
   "id": "9e0ae06f-ec4c-413b-ace9-f22e57156e16",
   "metadata": {},
   "outputs": [
    {
     "name": "stdout",
     "output_type": "stream",
     "text": [
      "1\n",
      "2\n",
      "3\n",
      "4\n",
      "5\n",
      "6\n",
      "7\n",
      "8\n",
      "9\n",
      "10\n"
     ]
    }
   ],
   "source": [
    "for i in range(1,11):\n",
    "    print(i)"
   ]
  },
  {
   "cell_type": "code",
   "execution_count": 23,
   "id": "7c08ea4f-b5ed-4e2b-809a-852bc9cb8c76",
   "metadata": {},
   "outputs": [
    {
     "name": "stdout",
     "output_type": "stream",
     "text": [
      "1\n",
      "3\n",
      "5\n",
      "7\n",
      "9\n",
      "11\n",
      "13\n",
      "15\n",
      "17\n",
      "19\n"
     ]
    }
   ],
   "source": [
    "for i in range(1,21,2):\n",
    "    print(i)"
   ]
  },
  {
   "cell_type": "code",
   "execution_count": 25,
   "id": "ed33f751-5c97-44a4-9478-4b8d4652be3a",
   "metadata": {},
   "outputs": [
    {
     "name": "stdout",
     "output_type": "stream",
     "text": [
      "2\n",
      "4\n",
      "6\n",
      "8\n",
      "10\n",
      "12\n",
      "14\n",
      "16\n",
      "18\n",
      "20\n"
     ]
    }
   ],
   "source": [
    "for i in range(1,21):\n",
    "    if i%2==0:\n",
    "        print(i)"
   ]
  },
  {
   "cell_type": "code",
   "execution_count": 36,
   "id": "c4295169-aa65-47c0-813c-24f13ae43d02",
   "metadata": {},
   "outputs": [
    {
     "name": "stdout",
     "output_type": "stream",
     "text": [
      "1\n",
      "3\n",
      "5\n",
      "7\n",
      "9\n",
      "11\n",
      "13\n",
      "15\n",
      "17\n",
      "19\n",
      "All Done\n"
     ]
    }
   ],
   "source": [
    "for i in range(1,21):\n",
    "    if i%2==1:\n",
    "        print(i)\n",
    "else:\n",
    "        print(\"All Done\")"
   ]
  },
  {
   "cell_type": "code",
   "execution_count": 38,
   "id": "6731291c-dc35-4191-8126-b1fbd9d1e5b8",
   "metadata": {},
   "outputs": [
    {
     "name": "stdout",
     "output_type": "stream",
     "text": [
      "1\n",
      "8\n",
      "9\n",
      "64\n",
      "25\n",
      "216\n",
      "49\n",
      "512\n",
      "81\n",
      "1000\n",
      "All Done\n"
     ]
    }
   ],
   "source": [
    "for i  in range(1,11):\n",
    "    if i%2==1:\n",
    "        print(i**2)\n",
    "    else:\n",
    "        print(i**3)\n",
    "else:\n",
    "    print(\"All Done\")"
   ]
  },
  {
   "cell_type": "code",
   "execution_count": 40,
   "id": "8f937bf2-a254-4ff2-8fd9-4c391e4a12e5",
   "metadata": {},
   "outputs": [
    {
     "name": "stdout",
     "output_type": "stream",
     "text": [
      "2\n",
      "4\n",
      "6\n",
      "8\n",
      "10\n"
     ]
    }
   ],
   "source": [
    "for i in range(2,11,2):\n",
    "    print(i)"
   ]
  },
  {
   "cell_type": "code",
   "execution_count": 42,
   "id": "88d262cc-5b10-4572-b138-81b44683ada1",
   "metadata": {},
   "outputs": [
    {
     "name": "stdout",
     "output_type": "stream",
     "text": [
      "3\n",
      "6\n",
      "9\n",
      "12\n",
      "15\n",
      "18\n"
     ]
    }
   ],
   "source": [
    "for i in range(3,21,3):\n",
    "    print(i)"
   ]
  },
  {
   "cell_type": "code",
   "execution_count": 46,
   "id": "655cab5c-4ed6-49a7-87e6-24c2275a6780",
   "metadata": {},
   "outputs": [],
   "source": [
    "for i in range(1,21):\n",
    "    pass"
   ]
  },
  {
   "cell_type": "code",
   "execution_count": 48,
   "id": "f2f244a8-8a6c-48cd-97da-7d89982efb9b",
   "metadata": {},
   "outputs": [],
   "source": [
    "for i in range(1,11):\n",
    "    pass"
   ]
  },
  {
   "cell_type": "code",
   "execution_count": 54,
   "id": "c89be2de-0cab-4008-9582-8e688f434bf2",
   "metadata": {},
   "outputs": [
    {
     "name": "stdout",
     "output_type": "stream",
     "text": [
      "All Done\n",
      "All Done\n",
      "All Done\n",
      "All Done\n"
     ]
    }
   ],
   "source": [
    "for i in range(1,11):\n",
    "    if i==5:\n",
    "        break\n",
    "        print(i)\n",
    "    else:\n",
    "        print(\"All Done\")"
   ]
  },
  {
   "cell_type": "code",
   "execution_count": null,
   "id": "6461eee1-2061-4539-a562-1b5433f0f8a4",
   "metadata": {},
   "outputs": [],
   "source": []
  }
 ],
 "metadata": {
  "kernelspec": {
   "display_name": "Python [conda env:base] *",
   "language": "python",
   "name": "conda-base-py"
  },
  "language_info": {
   "codemirror_mode": {
    "name": "ipython",
    "version": 3
   },
   "file_extension": ".py",
   "mimetype": "text/x-python",
   "name": "python",
   "nbconvert_exporter": "python",
   "pygments_lexer": "ipython3",
   "version": "3.12.7"
  }
 },
 "nbformat": 4,
 "nbformat_minor": 5
}
