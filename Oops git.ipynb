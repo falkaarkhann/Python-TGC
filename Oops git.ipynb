{
 "cells": [
  {
   "cell_type": "markdown",
   "id": "61c4888b-3bb6-4556-ac02-edd04d922075",
   "metadata": {},
   "source": [
    "# OOPs Conepts:\n",
    "* Object Oriented Programming system and with the help of oops we can build larges scale\n",
    "softwares and applications\n",
    "* python, java script c++\n",
    "* we can hide our data: by using access modifier\n",
    "* Objects\n",
    "\n",
    "# POP: Procedural Oriented Programming System:\n",
    "* fotran, pascal, c\n",
    "* in pop, unable to data hide \n",
    "* pop was based on functions"
   ]
  },
  {
   "cell_type": "code",
   "execution_count": null,
   "id": "9e15df11-1924-499b-8e72-20ee9686a842",
   "metadata": {},
   "outputs": [],
   "source": []
  },
  {
   "cell_type": "markdown",
   "id": "7ca7d499-c7c0-484f-a837-56eddb2b9373",
   "metadata": {},
   "source": [
    "* Abstration: it is a process through which we can show only the essential details to user. we are \n",
    "hiding the implemention part. like: ATM,CAR.\n",
    "\n",
    "* Encapsulation: Wrapping up all the details into one unit.(methods and properties). like:\n",
    "CAR, ATM\n",
    "\n",
    "* Inheriatance: it is a process through which we generally inherate certain methods and properties\n",
    "from one class to another\n",
    "\n",
    "* Polymorphism:\n",
    "\n",
    "* Poly: Many \n",
    "\n",
    "* Morph: Forms: ability of a message to convey it into different forms like: speak, quack, \n",
    "meoawww, hindi, bark"
   ]
  },
  {
   "cell_type": "code",
   "execution_count": null,
   "id": "97c8b6c9-c128-4a7d-949a-9645e446109e",
   "metadata": {},
   "outputs": [],
   "source": []
  },
  {
   "cell_type": "code",
   "execution_count": 8,
   "id": "19a19433-583b-4f93-b373-0a7017f9f224",
   "metadata": {},
   "outputs": [],
   "source": [
    "class Bank():\n",
    "    pass"
   ]
  },
  {
   "cell_type": "code",
   "execution_count": 10,
   "id": "99c24a53-c493-46e1-af0e-c5aebb19b0cd",
   "metadata": {},
   "outputs": [
    {
     "data": {
      "text/plain": [
       "<__main__.Bank at 0x15e85fc3980>"
      ]
     },
     "execution_count": 10,
     "metadata": {},
     "output_type": "execute_result"
    }
   ],
   "source": [
    "Bank()"
   ]
  },
  {
   "cell_type": "code",
   "execution_count": 12,
   "id": "ca9f0df7-f66b-4403-8c72-b286a1eaa5c9",
   "metadata": {},
   "outputs": [
    {
     "data": {
      "text/plain": [
       "__main__.Bank"
      ]
     },
     "execution_count": 12,
     "metadata": {},
     "output_type": "execute_result"
    }
   ],
   "source": [
    "type(Bank())"
   ]
  },
  {
   "cell_type": "code",
   "execution_count": 16,
   "id": "c587e752-4364-4ad4-bba9-1479386741c2",
   "metadata": {},
   "outputs": [],
   "source": [
    "class Vehical():\n",
    "    pass"
   ]
  },
  {
   "cell_type": "code",
   "execution_count": 18,
   "id": "0117949f-57ca-4d30-83a2-340f438041c0",
   "metadata": {},
   "outputs": [
    {
     "data": {
      "text/plain": [
       "<__main__.Vehical at 0x15e85f6adb0>"
      ]
     },
     "execution_count": 18,
     "metadata": {},
     "output_type": "execute_result"
    }
   ],
   "source": [
    "Vehical()"
   ]
  },
  {
   "cell_type": "code",
   "execution_count": 22,
   "id": "210d04f6-f615-4fa5-928c-e5913b2e9944",
   "metadata": {},
   "outputs": [
    {
     "data": {
      "text/plain": [
       "__main__.Vehical"
      ]
     },
     "execution_count": 22,
     "metadata": {},
     "output_type": "execute_result"
    }
   ],
   "source": [
    "type(Vehical())"
   ]
  },
  {
   "cell_type": "code",
   "execution_count": 24,
   "id": "9dee9130-cccc-46ab-8e8e-f6220cfa5df5",
   "metadata": {},
   "outputs": [],
   "source": [
    "class Human():\n",
    "    pass"
   ]
  },
  {
   "cell_type": "code",
   "execution_count": 28,
   "id": "b65f5c3f-2f5d-4bf6-a7fd-05c6225024c7",
   "metadata": {},
   "outputs": [],
   "source": [
    "sbi = Bank()"
   ]
  },
  {
   "cell_type": "code",
   "execution_count": 30,
   "id": "bb32785b-77c1-448c-a789-e98476b44bc8",
   "metadata": {},
   "outputs": [],
   "source": [
    "hdfc = Bank()"
   ]
  },
  {
   "cell_type": "code",
   "execution_count": 32,
   "id": "7c060b44-b879-4614-9cfd-c522e91d8609",
   "metadata": {},
   "outputs": [],
   "source": [
    "idfc = Bank()"
   ]
  },
  {
   "cell_type": "code",
   "execution_count": 34,
   "id": "a43e7db2-05ae-428e-9752-b0b62eccbccf",
   "metadata": {},
   "outputs": [],
   "source": [
    "bus = Vehical()"
   ]
  },
  {
   "cell_type": "code",
   "execution_count": 36,
   "id": "4f64c4b6-a9ff-4be0-ac11-5f2ac819e665",
   "metadata": {},
   "outputs": [],
   "source": [
    "truck = Vehical()"
   ]
  },
  {
   "cell_type": "code",
   "execution_count": 38,
   "id": "ae82d8e6-efb5-4dcf-8681-a2453d4822d1",
   "metadata": {},
   "outputs": [],
   "source": [
    "ankit = Human()"
   ]
  },
  {
   "cell_type": "code",
   "execution_count": 42,
   "id": "f031a810-46d1-4f9b-84bf-1ec53ead4870",
   "metadata": {},
   "outputs": [],
   "source": [
    "rohit = Human()"
   ]
  },
  {
   "cell_type": "code",
   "execution_count": 44,
   "id": "88cbf6d8-c6db-460d-b596-633873e3e96a",
   "metadata": {},
   "outputs": [],
   "source": [
    "sanjay = Human()"
   ]
  },
  {
   "cell_type": "code",
   "execution_count": 46,
   "id": "0471c3c6-60b4-4a99-8551-7372713d1325",
   "metadata": {},
   "outputs": [
    {
     "data": {
      "text/plain": [
       "<__main__.Human at 0x15e8464dca0>"
      ]
     },
     "execution_count": 46,
     "metadata": {},
     "output_type": "execute_result"
    }
   ],
   "source": [
    "rohit"
   ]
  },
  {
   "cell_type": "code",
   "execution_count": 48,
   "id": "0519262f-32e9-4483-9a30-ec8b02c6384f",
   "metadata": {},
   "outputs": [
    {
     "data": {
      "text/plain": [
       "__main__.Human"
      ]
     },
     "execution_count": 48,
     "metadata": {},
     "output_type": "execute_result"
    }
   ],
   "source": [
    "type(rohit)"
   ]
  },
  {
   "cell_type": "code",
   "execution_count": 50,
   "id": "4953ad99-34be-400a-a81a-469ff7387655",
   "metadata": {},
   "outputs": [],
   "source": [
    "# Special member functions: These can be run automatically\n",
    "# dunder fuctions"
   ]
  },
  {
   "cell_type": "code",
   "execution_count": 52,
   "id": "814c0f86-5438-4ab0-b2b4-124e5594103f",
   "metadata": {},
   "outputs": [],
   "source": [
    "# __builtins__\n",
    "# __doc__\n",
    "# __init__"
   ]
  },
  {
   "cell_type": "code",
   "execution_count": 54,
   "id": "f17ee342-2e74-4a34-876f-d22a1b5ae0dc",
   "metadata": {},
   "outputs": [],
   "source": [
    "# Constructor: __init__"
   ]
  },
  {
   "cell_type": "code",
   "execution_count": 1,
   "id": "5d2a08f5-3e07-4543-a322-d217f0f9ef26",
   "metadata": {},
   "outputs": [],
   "source": [
    "class Bank():\n",
    "    def __init__(self):\n",
    "        print(\"An object is created...\")"
   ]
  },
  {
   "cell_type": "code",
   "execution_count": 3,
   "id": "7f489e3e-ac31-44e4-8811-cafd718727b6",
   "metadata": {},
   "outputs": [
    {
     "name": "stdout",
     "output_type": "stream",
     "text": [
      "An object is created...\n"
     ]
    }
   ],
   "source": [
    "obj1 = Bank()"
   ]
  },
  {
   "cell_type": "code",
   "execution_count": 5,
   "id": "862892b5-cfe1-49e1-a89a-4951ccea3ca7",
   "metadata": {},
   "outputs": [],
   "source": [
    "class Bank():\n",
    "    def __init__(self):\n",
    "        print(\"An object is created..\")"
   ]
  },
  {
   "cell_type": "code",
   "execution_count": 7,
   "id": "bd5ede3c-db05-4c8d-a64a-c2259e85f3a3",
   "metadata": {},
   "outputs": [
    {
     "name": "stdout",
     "output_type": "stream",
     "text": [
      "An object is created..\n"
     ]
    }
   ],
   "source": [
    "obj1 = Bank()"
   ]
  },
  {
   "cell_type": "code",
   "execution_count": 11,
   "id": "3f746b38-a386-429e-ab23-3a0e2e8f9c58",
   "metadata": {},
   "outputs": [],
   "source": [
    "class Bank ():\n",
    "    def __init__(self, name, balance = 0):\n",
    "        print(\"An object is created...\")\n",
    "        # properties/ instance variables\n",
    "        self.name = name \n",
    "        self.balance = balance "
   ]
  },
  {
   "cell_type": "code",
   "execution_count": 13,
   "id": "eed23207-303e-4cd2-9fed-61a4040119c0",
   "metadata": {},
   "outputs": [
    {
     "name": "stdout",
     "output_type": "stream",
     "text": [
      "An object is created...\n"
     ]
    }
   ],
   "source": [
    "obj1 = Bank(\"Umar\")"
   ]
  },
  {
   "cell_type": "code",
   "execution_count": 15,
   "id": "ba640e63-ac74-4fd1-8067-ae3e8e946eab",
   "metadata": {},
   "outputs": [
    {
     "data": {
      "text/plain": [
       "'Umar'"
      ]
     },
     "execution_count": 15,
     "metadata": {},
     "output_type": "execute_result"
    }
   ],
   "source": [
    "obj1.name"
   ]
  },
  {
   "cell_type": "code",
   "execution_count": 17,
   "id": "daae249b-d0f2-448e-a4b2-c267d450cae6",
   "metadata": {},
   "outputs": [
    {
     "data": {
      "text/plain": [
       "0"
      ]
     },
     "execution_count": 17,
     "metadata": {},
     "output_type": "execute_result"
    }
   ],
   "source": [
    "obj1.balance"
   ]
  },
  {
   "cell_type": "code",
   "execution_count": 1,
   "id": "27394a9b-dafe-4894-857e-50182ebdd944",
   "metadata": {},
   "outputs": [],
   "source": [
    "class Human():\n",
    "    def __init__(self, name, age):\n",
    "        print(\"An object is created...\")\n",
    "        # properties/ instance variables\n",
    "        self.name = name \n",
    "        self.age = age "
   ]
  },
  {
   "cell_type": "code",
   "execution_count": 5,
   "id": "1c278883-bcf9-4efe-aa19-62c64e618f7e",
   "metadata": {},
   "outputs": [
    {
     "name": "stdout",
     "output_type": "stream",
     "text": [
      "An object is created...\n"
     ]
    }
   ],
   "source": [
    "obj1 = Human(\"mohit\",30)"
   ]
  },
  {
   "cell_type": "code",
   "execution_count": 25,
   "id": "c3294d2e-34da-42bf-83b5-38bd527c772d",
   "metadata": {},
   "outputs": [
    {
     "data": {
      "text/plain": [
       "30"
      ]
     },
     "execution_count": 25,
     "metadata": {},
     "output_type": "execute_result"
    }
   ],
   "source": [
    "obj1.age"
   ]
  },
  {
   "cell_type": "code",
   "execution_count": 27,
   "id": "02fa6900-31fa-484d-a0ce-3854bf1ae49b",
   "metadata": {},
   "outputs": [
    {
     "data": {
      "text/plain": [
       "'mohit'"
      ]
     },
     "execution_count": 27,
     "metadata": {},
     "output_type": "execute_result"
    }
   ],
   "source": [
    "obj1.name"
   ]
  },
  {
   "cell_type": "code",
   "execution_count": 7,
   "id": "344a8a6f-4199-4291-84fb-40435e3eee02",
   "metadata": {},
   "outputs": [
    {
     "data": {
      "text/plain": [
       "30"
      ]
     },
     "execution_count": 7,
     "metadata": {},
     "output_type": "execute_result"
    }
   ],
   "source": [
    "obj1.age"
   ]
  },
  {
   "cell_type": "code",
   "execution_count": null,
   "id": "1cb63ead-27a5-4b50-a2bc-3f65a72fda76",
   "metadata": {},
   "outputs": [],
   "source": []
  },
  {
   "cell_type": "code",
   "execution_count": 10,
   "id": "61728a2d-4fbe-4f2b-b56a-0c80656fed78",
   "metadata": {},
   "outputs": [],
   "source": [
    "class Bank:\n",
    "    def __init__(self, name, balance = 0):\n",
    "        # instance variable/properties\n",
    "        print(\"An object is created..\")\n",
    "        self.name = name\n",
    "        self.balance= balance \n",
    "\n",
    "    # istance Methods\n",
    "    def deposite(self, amount):\n",
    "        self.balance+=amount\n",
    "        print(f\"{amount} is deposited and the new balance would be {self.balance}\")\n",
    "\n",
    "    def withdraw(self, amount):\n",
    "        if amount>self.balance:\n",
    "            print(f\"insufficient amount, you can only withdraw withyour balance {self.balance}\")\n",
    "        else:\n",
    "            self.balance-=amount \n",
    "            print(f\"You have withdrawn {amount} your new balance is {self.balance}\")\n",
    "\n",
    "    def check_balance (self):\n",
    "        \"\"\"\n",
    "        You can check your balance with this function\n",
    "        \"\"\"\n",
    "        print(f\"Your total balance in your account is {self.balance}\")"
   ]
  },
  {
   "cell_type": "code",
   "execution_count": 12,
   "id": "d4301675-31ac-4850-81d0-31ec7eaddf14",
   "metadata": {},
   "outputs": [
    {
     "name": "stdout",
     "output_type": "stream",
     "text": [
      "An object is created..\n"
     ]
    }
   ],
   "source": [
    "obj1 = Bank(\"rohit\")"
   ]
  },
  {
   "cell_type": "code",
   "execution_count": 14,
   "id": "8cb0dd8c-4355-49b3-862e-f58a8b3f0ca9",
   "metadata": {},
   "outputs": [
    {
     "data": {
      "text/plain": [
       "0"
      ]
     },
     "execution_count": 14,
     "metadata": {},
     "output_type": "execute_result"
    }
   ],
   "source": [
    "obj1.balance"
   ]
  },
  {
   "cell_type": "code",
   "execution_count": 16,
   "id": "a049ec9a-d597-4b55-83e0-278b64aff99d",
   "metadata": {},
   "outputs": [
    {
     "data": {
      "text/plain": [
       "'rohit'"
      ]
     },
     "execution_count": 16,
     "metadata": {},
     "output_type": "execute_result"
    }
   ],
   "source": [
    "obj1.name"
   ]
  },
  {
   "cell_type": "code",
   "execution_count": 43,
   "id": "499e8eba-d4cb-4783-9783-e583a2c60234",
   "metadata": {},
   "outputs": [
    {
     "name": "stdout",
     "output_type": "stream",
     "text": [
      "6000 is deposited and the new balance would be 25500\n"
     ]
    }
   ],
   "source": [
    "obj1.deposite(6000)"
   ]
  },
  {
   "cell_type": "code",
   "execution_count": 45,
   "id": "a7aec551-57bc-4622-83ef-5b4ef49d3bec",
   "metadata": {},
   "outputs": [
    {
     "data": {
      "text/plain": [
       "25500"
      ]
     },
     "execution_count": 45,
     "metadata": {},
     "output_type": "execute_result"
    }
   ],
   "source": [
    "obj1.balance"
   ]
  },
  {
   "cell_type": "code",
   "execution_count": 47,
   "id": "47b0256c-a44b-4441-b89a-0da9d520eb9e",
   "metadata": {},
   "outputs": [
    {
     "name": "stdout",
     "output_type": "stream",
     "text": [
      "You have withdrawn 5500 your new balance is 20000\n"
     ]
    }
   ],
   "source": [
    "obj1.withdraw(5500)"
   ]
  },
  {
   "cell_type": "code",
   "execution_count": 49,
   "id": "2f8584ae-9579-4476-b612-8e7aebab5ccc",
   "metadata": {},
   "outputs": [
    {
     "name": "stdout",
     "output_type": "stream",
     "text": [
      "You have withdrawn 10000 your new balance is 10000\n"
     ]
    }
   ],
   "source": [
    "obj1.withdraw(10000)"
   ]
  },
  {
   "cell_type": "code",
   "execution_count": 53,
   "id": "566af27d-9fec-4fc4-9a0c-ba81027d018c",
   "metadata": {},
   "outputs": [
    {
     "data": {
      "text/plain": [
       "10000"
      ]
     },
     "execution_count": 53,
     "metadata": {},
     "output_type": "execute_result"
    }
   ],
   "source": [
    "obj1.balance"
   ]
  },
  {
   "cell_type": "code",
   "execution_count": 55,
   "id": "564c770e-b4d0-41c9-8371-3eea090b7f60",
   "metadata": {},
   "outputs": [
    {
     "name": "stdout",
     "output_type": "stream",
     "text": [
      "5000 is deposited and the new balance would be 15000\n"
     ]
    }
   ],
   "source": [
    "obj1.deposite(5000)"
   ]
  },
  {
   "cell_type": "code",
   "execution_count": 57,
   "id": "045af0b7-da01-4463-b0ab-5245cfde05fd",
   "metadata": {},
   "outputs": [
    {
     "data": {
      "text/plain": [
       "15000"
      ]
     },
     "execution_count": 57,
     "metadata": {},
     "output_type": "execute_result"
    }
   ],
   "source": [
    "obj1.balance"
   ]
  },
  {
   "cell_type": "code",
   "execution_count": null,
   "id": "e09803d3-8021-411a-9f51-babbd3345a8e",
   "metadata": {},
   "outputs": [],
   "source": []
  },
  {
   "cell_type": "code",
   "execution_count": null,
   "id": "800cfa83-16a5-4906-8dc0-de8356845f64",
   "metadata": {},
   "outputs": [],
   "source": []
  },
  {
   "cell_type": "code",
   "execution_count": 61,
   "id": "967bb7b3-5edd-41e3-8c90-4a26e143b10a",
   "metadata": {},
   "outputs": [
    {
     "name": "stdout",
     "output_type": "stream",
     "text": [
      "An object is created..\n"
     ]
    }
   ],
   "source": [
    "obj2 = Bank(\"Ankit\",2000)"
   ]
  },
  {
   "cell_type": "code",
   "execution_count": 63,
   "id": "a854b75a-dcf1-4136-8fc6-3ea1951fd9a8",
   "metadata": {},
   "outputs": [
    {
     "data": {
      "text/plain": [
       "2000"
      ]
     },
     "execution_count": 63,
     "metadata": {},
     "output_type": "execute_result"
    }
   ],
   "source": [
    "obj2.balance"
   ]
  },
  {
   "cell_type": "code",
   "execution_count": 65,
   "id": "1c17f81d-8fb9-41b2-96dc-2f600cb0dbf8",
   "metadata": {},
   "outputs": [
    {
     "data": {
      "text/plain": [
       "'Ankit'"
      ]
     },
     "execution_count": 65,
     "metadata": {},
     "output_type": "execute_result"
    }
   ],
   "source": [
    "obj2.name"
   ]
  },
  {
   "cell_type": "code",
   "execution_count": 69,
   "id": "76cf66e5-dd2b-40e4-8b92-6de827937ffc",
   "metadata": {},
   "outputs": [
    {
     "name": "stdout",
     "output_type": "stream",
     "text": [
      "9000 is deposited and the new balance would be 16000\n"
     ]
    }
   ],
   "source": [
    "obj2.deposite(9000)"
   ]
  },
  {
   "cell_type": "code",
   "execution_count": 71,
   "id": "1b547bc8-7276-4ec3-aba7-8f322a3f3f3b",
   "metadata": {},
   "outputs": [
    {
     "data": {
      "text/plain": [
       "16000"
      ]
     },
     "execution_count": 71,
     "metadata": {},
     "output_type": "execute_result"
    }
   ],
   "source": [
    "obj2.balance"
   ]
  },
  {
   "cell_type": "code",
   "execution_count": 73,
   "id": "377709b0-85f3-4acc-bca8-023c1ac90e1f",
   "metadata": {},
   "outputs": [
    {
     "name": "stdout",
     "output_type": "stream",
     "text": [
      "Your total balance in your account is 16000\n"
     ]
    }
   ],
   "source": [
    "obj2.check_balance()"
   ]
  },
  {
   "cell_type": "code",
   "execution_count": 75,
   "id": "b81a2e78-565e-4a47-a7b3-070f0a238435",
   "metadata": {},
   "outputs": [
    {
     "name": "stdout",
     "output_type": "stream",
     "text": [
      "You have withdrawn 6000 your new balance is 10000\n"
     ]
    }
   ],
   "source": [
    "obj2.withdraw(6000)"
   ]
  },
  {
   "cell_type": "code",
   "execution_count": 79,
   "id": "52adef1a-b497-4aa3-8917-a3216f4fb821",
   "metadata": {},
   "outputs": [
    {
     "name": "stdout",
     "output_type": "stream",
     "text": [
      "Your total balance in your account is 10000\n"
     ]
    }
   ],
   "source": [
    "obj2.check_balance()"
   ]
  },
  {
   "cell_type": "code",
   "execution_count": null,
   "id": "40636b55-bb2d-4f92-9056-65e706cea083",
   "metadata": {},
   "outputs": [],
   "source": []
  },
  {
   "cell_type": "markdown",
   "id": "f18006f4-1e19-4797-8858-c19d88f74582",
   "metadata": {},
   "source": [
    "# Inheritance:\n",
    "* Single level Inheritance\n",
    "* Multilevel Inheritance\n",
    "* Multiple Inheritance"
   ]
  },
  {
   "cell_type": "code",
   "execution_count": null,
   "id": "31a6f638-5da5-4e50-a5ba-445fe51ed963",
   "metadata": {},
   "outputs": [],
   "source": []
  },
  {
   "cell_type": "code",
   "execution_count": 87,
   "id": "9ffa40d9-d859-4310-81c3-70cd31903bce",
   "metadata": {},
   "outputs": [],
   "source": [
    "# Single level Inheritance:"
   ]
  },
  {
   "cell_type": "code",
   "execution_count": 91,
   "id": "583aa058-a1af-4a82-b582-f1a96d888e27",
   "metadata": {},
   "outputs": [],
   "source": [
    "class A:\n",
    "    def find(self):\n",
    "        print(\"I am finding something in class A\")\n",
    "\n",
    "class B(A):\n",
    "    def search(self):\n",
    "        print(\"I am searching something in class B\")\n",
    "\n",
    "    def explore(self):\n",
    "        print(\"I am exploring something in class B\")\n",
    "\n",
    "    # function Overhiding\n",
    "    def find(self):\n",
    "        print(\"I have new functionality better than A\")"
   ]
  },
  {
   "cell_type": "code",
   "execution_count": 93,
   "id": "781bb59f-6d57-46b2-a368-9bda0b2c7e00",
   "metadata": {},
   "outputs": [],
   "source": [
    "a = A()"
   ]
  },
  {
   "cell_type": "code",
   "execution_count": 95,
   "id": "5c90932a-0251-4e72-bb59-3cd35f40c5ed",
   "metadata": {},
   "outputs": [],
   "source": [
    "b = B()"
   ]
  },
  {
   "cell_type": "code",
   "execution_count": 97,
   "id": "f2e75948-2678-4325-b185-bbc64eefa957",
   "metadata": {},
   "outputs": [
    {
     "name": "stdout",
     "output_type": "stream",
     "text": [
      "I am finding something in class A\n"
     ]
    }
   ],
   "source": [
    "a.find()"
   ]
  },
  {
   "cell_type": "code",
   "execution_count": 99,
   "id": "1036fc63-af48-42a4-9694-ffd237a311a8",
   "metadata": {},
   "outputs": [
    {
     "name": "stdout",
     "output_type": "stream",
     "text": [
      "I am exploring something in class B\n"
     ]
    }
   ],
   "source": [
    "b.explore()"
   ]
  },
  {
   "cell_type": "code",
   "execution_count": 101,
   "id": "8ea5433b-92b4-4100-a275-25f8df64c9f7",
   "metadata": {},
   "outputs": [
    {
     "name": "stdout",
     "output_type": "stream",
     "text": [
      "I am searching something in class B\n"
     ]
    }
   ],
   "source": [
    "b.search()"
   ]
  },
  {
   "cell_type": "code",
   "execution_count": 103,
   "id": "4a9ca7a5-9e83-4345-8f36-b1bad5ef1a22",
   "metadata": {},
   "outputs": [
    {
     "name": "stdout",
     "output_type": "stream",
     "text": [
      "I have new functionality better than A\n"
     ]
    }
   ],
   "source": [
    "b.find()"
   ]
  },
  {
   "cell_type": "code",
   "execution_count": null,
   "id": "98db8474-f858-4a58-adf0-da1a22bb8566",
   "metadata": {},
   "outputs": [],
   "source": []
  },
  {
   "cell_type": "code",
   "execution_count": 108,
   "id": "f4a9816e-7723-4ef5-af97-7acd661066ad",
   "metadata": {},
   "outputs": [],
   "source": [
    "# Multilevel Inheritance:"
   ]
  },
  {
   "cell_type": "code",
   "execution_count": 114,
   "id": "1a9d088c-f0d7-4496-aad7-7592a4d95d3e",
   "metadata": {},
   "outputs": [],
   "source": [
    "class A:\n",
    "    def find(self):\n",
    "        print(\"I am finding something in class A\")\n",
    "\n",
    "class B(A):\n",
    "    def search(self):\n",
    "        print(\"I am searching something in class B\")\n",
    "\n",
    "    def explore(Self):\n",
    "        print(\"I am exploring something in class B\")\n",
    "\n",
    "class C(B):\n",
    "    def optimize(self):\n",
    "        print(\"I am optimizing something in class C\")\n",
    "\n",
    "    def discover(self):\n",
    "        print(\"I am discovering something in class C\")\n",
    "\n",
    "    def explore(self):\n",
    "        print(\"I am exploring something in class B\")\n",
    "\n",
    "class D(C):\n",
    "    def building(self):\n",
    "        print(\"I am building something in class D\")\n",
    "\n",
    "    def coding(self):\n",
    "        print(\"I am coding something in class D\")\n",
    "\n",
    "    def optimize(self):\n",
    "        print(\"I am optimizing something better than class C\")\n",
    "\n",
    "    def search(self):\n",
    "        print(\"I am searching something better than B\")"
   ]
  },
  {
   "cell_type": "code",
   "execution_count": 116,
   "id": "afdad04b-a30b-40aa-905e-772500a86a73",
   "metadata": {},
   "outputs": [],
   "source": [
    "a = A()\n",
    "b = B()\n",
    "c = C()\n",
    "d = D()"
   ]
  },
  {
   "cell_type": "code",
   "execution_count": 118,
   "id": "a32c2828-42eb-4a40-a466-15b277918f62",
   "metadata": {},
   "outputs": [
    {
     "name": "stdout",
     "output_type": "stream",
     "text": [
      "I am finding something in class A\n"
     ]
    }
   ],
   "source": [
    "a.find()"
   ]
  },
  {
   "cell_type": "code",
   "execution_count": 120,
   "id": "5b0a263f-fcf3-4b89-b779-8bc62e8a4871",
   "metadata": {},
   "outputs": [
    {
     "name": "stdout",
     "output_type": "stream",
     "text": [
      "I am exploring something in class B\n"
     ]
    }
   ],
   "source": [
    "b.explore()"
   ]
  },
  {
   "cell_type": "code",
   "execution_count": 122,
   "id": "19943b01-d180-4eaf-93e8-b4930c42c0b5",
   "metadata": {},
   "outputs": [
    {
     "name": "stdout",
     "output_type": "stream",
     "text": [
      "I am searching something in class B\n"
     ]
    }
   ],
   "source": [
    "c.search()"
   ]
  },
  {
   "cell_type": "code",
   "execution_count": 124,
   "id": "e99e957c-e4e3-4232-84fb-7d11f7dde50d",
   "metadata": {},
   "outputs": [
    {
     "name": "stdout",
     "output_type": "stream",
     "text": [
      "I am finding something in class A\n"
     ]
    }
   ],
   "source": [
    "b.find()"
   ]
  },
  {
   "cell_type": "code",
   "execution_count": 126,
   "id": "f241551b-b6fa-4fd6-8db5-34c97edd99ea",
   "metadata": {},
   "outputs": [
    {
     "name": "stdout",
     "output_type": "stream",
     "text": [
      "I am finding something in class A\n"
     ]
    }
   ],
   "source": [
    "c.find()"
   ]
  },
  {
   "cell_type": "code",
   "execution_count": 128,
   "id": "bac33b3f-206a-4c7a-ae83-752ac58e4ff6",
   "metadata": {},
   "outputs": [
    {
     "name": "stdout",
     "output_type": "stream",
     "text": [
      "I am searching something in class B\n"
     ]
    }
   ],
   "source": [
    "c.search()"
   ]
  },
  {
   "cell_type": "code",
   "execution_count": 130,
   "id": "13373dc7-588b-4c77-9de3-e85666086f7f",
   "metadata": {},
   "outputs": [
    {
     "name": "stdout",
     "output_type": "stream",
     "text": [
      "I am optimizing something in class C\n"
     ]
    }
   ],
   "source": [
    "c.optimize()"
   ]
  },
  {
   "cell_type": "code",
   "execution_count": 132,
   "id": "8b9ccd23-ff94-41de-8db2-15151c0d90f0",
   "metadata": {},
   "outputs": [
    {
     "name": "stdout",
     "output_type": "stream",
     "text": [
      "I am exploring something in class B\n"
     ]
    }
   ],
   "source": [
    "c.explore()"
   ]
  },
  {
   "cell_type": "code",
   "execution_count": 134,
   "id": "68d30a9a-91fa-403e-8767-d38a7c73b102",
   "metadata": {},
   "outputs": [
    {
     "name": "stdout",
     "output_type": "stream",
     "text": [
      "I am optimizing something better than class C\n"
     ]
    }
   ],
   "source": [
    "d.optimize()"
   ]
  },
  {
   "cell_type": "code",
   "execution_count": 138,
   "id": "fcc87106-da5f-409c-9c76-6ea928af0add",
   "metadata": {},
   "outputs": [
    {
     "name": "stdout",
     "output_type": "stream",
     "text": [
      "I am building something in class D\n"
     ]
    }
   ],
   "source": [
    "d.building()"
   ]
  },
  {
   "cell_type": "code",
   "execution_count": 140,
   "id": "b1dcc674-610d-4188-9af0-de762d49c67a",
   "metadata": {},
   "outputs": [
    {
     "name": "stdout",
     "output_type": "stream",
     "text": [
      "I am searching something better than B\n"
     ]
    }
   ],
   "source": [
    "d.search()"
   ]
  },
  {
   "cell_type": "code",
   "execution_count": 142,
   "id": "51e3f874-8d89-4e48-872b-68d28174eab8",
   "metadata": {},
   "outputs": [
    {
     "name": "stdout",
     "output_type": "stream",
     "text": [
      "I am discovering something in class C\n"
     ]
    }
   ],
   "source": [
    "d.discover()"
   ]
  },
  {
   "cell_type": "code",
   "execution_count": 144,
   "id": "6f68457a-d1bd-4205-8bc8-a37362a408b6",
   "metadata": {},
   "outputs": [
    {
     "name": "stdout",
     "output_type": "stream",
     "text": [
      "I am exploring something in class B\n"
     ]
    }
   ],
   "source": [
    "d.explore()"
   ]
  },
  {
   "cell_type": "code",
   "execution_count": null,
   "id": "10ccf355-7320-43c8-8a4b-18c062a03db5",
   "metadata": {},
   "outputs": [],
   "source": []
  },
  {
   "cell_type": "code",
   "execution_count": 147,
   "id": "d5c97d51-b8ce-4477-8718-651fb7468e10",
   "metadata": {},
   "outputs": [],
   "source": [
    "# Multiple Inheritance:"
   ]
  },
  {
   "cell_type": "code",
   "execution_count": 151,
   "id": "60e411d6-cdf3-428d-a335-a85888ed0e04",
   "metadata": {},
   "outputs": [],
   "source": [
    "class A():\n",
    "    def find(Self):\n",
    "        print(\"I am finding something in class A\")\n",
    "\n",
    "class B:\n",
    "    def search(Self):\n",
    "        print(\"I am searching something in class B\")\n",
    "\n",
    "    def explore(self):\n",
    "        print(\"I am exploring something in class B\")\n",
    "\n",
    "class C:\n",
    "    def optimize(self):\n",
    "        print(\"I am optimizing something in class C\")\n",
    "\n",
    "    def discover(self):\n",
    "        print(\"I am discovering something in class C\")\n",
    "\n",
    "    def explore(Self):\n",
    "        print(\"I am exploring something in class B\")\n",
    "\n",
    "\n",
    "class D(B,A,C):\n",
    "    def building(self):\n",
    "        print(\"I am building something in class D\")\n",
    "\n",
    "    def coding(self):\n",
    "        print(\"I am coding something in class D\")\n",
    "\n",
    "    def optimize(self):\n",
    "        print(\"I am optimizing something better than class C\")\n",
    "\n",
    "    def search(Self):\n",
    "        print(\"I am searching something better than B\") "
   ]
  },
  {
   "cell_type": "code",
   "execution_count": 153,
   "id": "86d26f20-5567-444a-b613-8d480f8bb07e",
   "metadata": {},
   "outputs": [],
   "source": [
    "a = A()\n",
    "b = B()\n",
    "c = C()\n",
    "d = D()"
   ]
  },
  {
   "cell_type": "code",
   "execution_count": 155,
   "id": "91285c54-3b44-4e86-bd55-c4277300c10a",
   "metadata": {},
   "outputs": [
    {
     "name": "stdout",
     "output_type": "stream",
     "text": [
      "I am coding something in class D\n"
     ]
    }
   ],
   "source": [
    "d.coding()"
   ]
  },
  {
   "cell_type": "code",
   "execution_count": 157,
   "id": "41249480-2e43-467b-a178-da93cb5f169b",
   "metadata": {},
   "outputs": [
    {
     "name": "stdout",
     "output_type": "stream",
     "text": [
      "I am exploring something in class B\n"
     ]
    }
   ],
   "source": [
    "d.explore()"
   ]
  },
  {
   "cell_type": "code",
   "execution_count": 159,
   "id": "b2cc73a8-90c7-451a-b98a-7044bdf66118",
   "metadata": {},
   "outputs": [
    {
     "name": "stdout",
     "output_type": "stream",
     "text": [
      "I am building something in class D\n"
     ]
    }
   ],
   "source": [
    "d.building()"
   ]
  },
  {
   "cell_type": "code",
   "execution_count": 161,
   "id": "66232e93-9c1f-4ca7-9dbd-57deb874d919",
   "metadata": {},
   "outputs": [
    {
     "name": "stdout",
     "output_type": "stream",
     "text": [
      "I am finding something in class A\n"
     ]
    }
   ],
   "source": [
    "d.find()"
   ]
  },
  {
   "cell_type": "code",
   "execution_count": 163,
   "id": "cab73dc2-b7a5-4ea4-81a8-c998109de8f3",
   "metadata": {},
   "outputs": [
    {
     "name": "stdout",
     "output_type": "stream",
     "text": [
      "I am searching something better than B\n"
     ]
    }
   ],
   "source": [
    "d.search()"
   ]
  },
  {
   "cell_type": "code",
   "execution_count": 165,
   "id": "8d46bafa-1622-4b2e-839a-37d857aff728",
   "metadata": {},
   "outputs": [],
   "source": [
    "# MRO: Method Resolution Order:"
   ]
  },
  {
   "cell_type": "code",
   "execution_count": 169,
   "id": "f1af9cc9-bf13-424d-a979-3a80e3e85142",
   "metadata": {},
   "outputs": [
    {
     "data": {
      "text/plain": [
       "[__main__.D, __main__.B, __main__.A, __main__.C, object]"
      ]
     },
     "execution_count": 169,
     "metadata": {},
     "output_type": "execute_result"
    }
   ],
   "source": [
    "D.mro()"
   ]
  },
  {
   "cell_type": "code",
   "execution_count": 171,
   "id": "7ebb4c1c-c727-4eec-9a76-ab8d919189ed",
   "metadata": {},
   "outputs": [
    {
     "data": {
      "text/plain": [
       "[__main__.A, object]"
      ]
     },
     "execution_count": 171,
     "metadata": {},
     "output_type": "execute_result"
    }
   ],
   "source": [
    "A.mro()"
   ]
  },
  {
   "cell_type": "code",
   "execution_count": null,
   "id": "ccefa017-14a9-49b2-b594-d14eefa3a563",
   "metadata": {},
   "outputs": [],
   "source": []
  },
  {
   "cell_type": "code",
   "execution_count": null,
   "id": "7b455a11-bec0-4bcb-afc1-00a81594ee45",
   "metadata": {},
   "outputs": [],
   "source": []
  },
  {
   "cell_type": "markdown",
   "id": "fa4ae206-b136-4c10-a826-a1a33233fd7d",
   "metadata": {},
   "source": [
    "# Polymorphism:\n",
    "* Operator Level Polymorphism\n",
    "* Function Level Polymorphism\n",
    "* Class Level Polymorphism"
   ]
  },
  {
   "cell_type": "code",
   "execution_count": 180,
   "id": "75390e7b-e368-458a-92e9-74447c7852af",
   "metadata": {},
   "outputs": [],
   "source": [
    "# Operator Level Polymorohism"
   ]
  },
  {
   "cell_type": "code",
   "execution_count": null,
   "id": "6719993a-e4a3-4116-bbe9-ed7e82bdaf17",
   "metadata": {},
   "outputs": [],
   "source": []
  },
  {
   "cell_type": "code",
   "execution_count": null,
   "id": "85297d23-2928-405d-9a53-3140fc91073a",
   "metadata": {},
   "outputs": [],
   "source": []
  },
  {
   "cell_type": "code",
   "execution_count": 183,
   "id": "97b543ea-e9b1-462e-901f-474f58e88513",
   "metadata": {},
   "outputs": [],
   "source": [
    "# Function Level Polymorphism"
   ]
  },
  {
   "cell_type": "code",
   "execution_count": null,
   "id": "2f2899c2-f601-48f4-b1f7-525adf5daadf",
   "metadata": {},
   "outputs": [],
   "source": []
  },
  {
   "cell_type": "code",
   "execution_count": null,
   "id": "48b963d0-7a99-47e5-975a-d0c298dace6f",
   "metadata": {},
   "outputs": [],
   "source": []
  },
  {
   "cell_type": "code",
   "execution_count": null,
   "id": "88db992f-91a3-4f7f-b77d-68685946e9f9",
   "metadata": {},
   "outputs": [],
   "source": [
    "# Class Level Polymorphism"
   ]
  }
 ],
 "metadata": {
  "kernelspec": {
   "display_name": "Python [conda env:base] *",
   "language": "python",
   "name": "conda-base-py"
  },
  "language_info": {
   "codemirror_mode": {
    "name": "ipython",
    "version": 3
   },
   "file_extension": ".py",
   "mimetype": "text/x-python",
   "name": "python",
   "nbconvert_exporter": "python",
   "pygments_lexer": "ipython3",
   "version": "3.12.7"
  }
 },
 "nbformat": 4,
 "nbformat_minor": 5
}
